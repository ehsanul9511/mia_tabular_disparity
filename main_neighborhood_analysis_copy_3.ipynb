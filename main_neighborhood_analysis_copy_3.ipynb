{
 "cells": [
  {
   "attachments": {},
   "cell_type": "markdown",
   "metadata": {},
   "source": [
    "# Load Library"
   ]
  },
  {
   "cell_type": "code",
   "execution_count": 1,
   "metadata": {},
   "outputs": [],
   "source": [
    "%load_ext autoreload\n",
    "%autoreload 2"
   ]
  },
  {
   "cell_type": "code",
   "execution_count": 1,
   "metadata": {},
   "outputs": [],
   "source": [
    "import warnings\n",
    "\n",
    "warnings.filterwarnings('ignore')"
   ]
  },
  {
   "cell_type": "code",
   "execution_count": 2,
   "metadata": {
    "tags": []
   },
   "outputs": [],
   "source": [
    "from tqdm import tqdm\n",
    "import os\n",
    "import data_utils\n",
    "import model_utils\n",
    "from model_utils import train_torch_model, test_torch_model, port_mlp_to_ch, port_ch_to_mlp, proxy_train_mlp, get_CSMIA_case_by_case_results, CSMIA_attack\n",
    "from data_utils import oneHotCatVars\n",
    "from whitebox_attack import neuron_output, make_neuron_output_data, roc_curve_plot, get_LOMIA_case_1_correct_examples, Top10CorrNeurons, wb_corr_attacks\n",
    "from disparate_vulnerability_utils import get_accuracy, get_indices_by_conditions, subgroup_vulnerability_distance_vector, subgroup_vulnerability_distance, get_subgroup_disparity, plot_subgroup_disparity, improved_subgroup_attack, get_subgroup_disparity_baseline, get_top_dist_indices, get_disparity_by_subgroup\n",
    "import shap\n",
    "import numpy as np\n",
    "import pandas as pd\n",
    "import torch\n",
    "import torch.nn as nn\n",
    "from sklearn.neural_network import MLPClassifier\n",
    "from sklearn.preprocessing import OneHotEncoder\n",
    "from sklearn.neural_network._base import ACTIVATIONS\n",
    "from sklearn.model_selection import train_test_split\n",
    "from sklearn.metrics.pairwise import euclidean_distances\n",
    "from sklearn.metrics import roc_curve, auc, roc_auc_score, accuracy_score, precision_score, recall_score, f1_score, confusion_matrix, classification_report\n",
    "from sklearn.decomposition import PCA\n",
    "from sklearn.inspection import permutation_importance\n",
    "import matplotlib.pyplot as plt\n",
    "import seaborn as sns\n",
    "import tabulate\n",
    "import pickle\n",
    "# import utils\n",
    "import copy\n",
    "\n",
    "import matplotlib as mpl\n",
    "\n",
    "# Setting the font family, size, and weight globally\n",
    "mpl.rcParams['font.family'] = 'DejaVu Sans'\n",
    "mpl.rcParams['font.size'] = 8\n",
    "mpl.rcParams['font.weight'] = 'light'"
   ]
  },
  {
   "attachments": {},
   "cell_type": "markdown",
   "metadata": {},
   "source": [
    "# Load Data"
   ]
  },
  {
   "cell_type": "code",
   "execution_count": 3,
   "metadata": {},
   "outputs": [],
   "source": [
    "class MIAExperiment:\n",
    "    def __init__(self, *args, **kwargs):\n",
    "        self.sampling_condition_dict = kwargs.get('sampling_condition_dict', None)\n",
    "        self.sensitive_column = kwargs.get('sensitive_column', 'MAR')\n",
    "\n",
    "        for key, value in kwargs.items():\n",
    "            setattr(self, key, value)\n",
    "\n",
    "        if not hasattr(self, 'name'):\n",
    "            self.name = 'Census19'\n",
    "        self.ds = data_utils.CensusWrapper(\n",
    "                    filter_prop=\"none\", ratio=float(0.5), split=\"all\", name=self.name, sampling_condition_dict=self.sampling_condition_dict, sensitive_column=self.sensitive_column,\n",
    "                    additional_meta=None)\n",
    "        (self.x_tr, self.y_tr), (self.x_te, self.y_te), self.cols = self.ds.load_data()\n",
    "        self.X_train = pd.DataFrame(self.x_tr, columns=self.cols)\n",
    "        self.X_test = pd.DataFrame(self.x_te, columns=self.cols)\n",
    "        self.y_tr_onehot = self.ds.ds.y_enc.transform(self.y_tr).toarray()\n",
    "        self.y_te_onehot = self.ds.ds.y_enc.transform(self.y_te).toarray()\n",
    "\n",
    "    def __str__(self):\n",
    "        return self.ds.ds.filenameroot\n",
    "    \n",
    "    def __repr__(self):\n",
    "        return self.ds.ds.filenameroot\n",
    "    \n",
    "    def get_value_count_report(self):\n",
    "        df = self.ds.ds.original_df\n",
    "        df = df[df['is_train'] == 1]\n",
    "        subgroup_values = df[self.subgroup_column].unique().tolist()\n",
    "        for value in subgroup_values:\n",
    "            print(f\"Subgroup: {value}\")\n",
    "            # print(df[df[self.subgroup_column] == value].columns)\n",
    "            # print(df[df[self.subgroup_column] == value][[self.sensitive_column, self.y_column]])\n",
    "            new_df = df[df[self.subgroup_column] == value][[self.sensitive_column, self.y_column]]\n",
    "            print(new_df.value_counts())\n",
    "            # print(df[df[self.subgroup_column == value]][[self.sensitive_column, self.y_column]].corr())\n",
    "\n",
    "\n",
    "    def get_mutual_information_between_sens_and_y(self):\n",
    "        df = self.ds.ds.original_df\n",
    "        df = df[df['is_train'] == 1]\n",
    "        subgroup_values = df[self.subgroup_column].unique().tolist()\n",
    "        mutual_info_dict = {}\n",
    "        for value in subgroup_values:\n",
    "            print(f\"Subgroup: {value}\")\n",
    "            # All the features except y column\n",
    "            X = df[df[self.subgroup_column] == value].drop([self.y_column], axis=1)\n",
    "            y = df[df[self.subgroup_column] == value][[self.y_column]]\n",
    "            # print(mutual_info_classif(X, y, discrete_features=True))\n",
    "            mutual_info_dict[value] = mutual_info_classif(X, y, discrete_features=True)\n",
    "        return mutual_info_dict"
   ]
  },
  {
   "cell_type": "code",
   "execution_count": 4,
   "metadata": {},
   "outputs": [
    {
     "name": "stdout",
     "output_type": "stream",
     "text": [
      "{0: {(0, 1): 8750, (0, 0): 3750, (1, 1): 3750, (1, 0): 8750}, 1: {(0, 1): 8750, (0, 0): 3750, (1, 1): 3750, (1, 0): 8750}}\n"
     ]
    },
    {
     "name": "stderr",
     "output_type": "stream",
     "text": [
      "100%|██████████| 2/2 [00:01<00:00,  1.70it/s]\n"
     ]
    },
    {
     "name": "stdout",
     "output_type": "stream",
     "text": [
      "{0: {(0, 1): 6875, (0, 0): 5625, (1, 1): 5625, (1, 0): 6875}, 1: {(0, 1): 7500, (0, 0): 5000, (1, 1): 5000, (1, 0): 7500}}\n"
     ]
    },
    {
     "name": "stderr",
     "output_type": "stream",
     "text": [
      "100%|██████████| 2/2 [00:01<00:00,  1.74it/s]\n"
     ]
    }
   ],
   "source": [
    "experiments = { f\"corr_btn_sens_and_out_{(i, j)}\":  MIAExperiment(sampling_condition_dict = \n",
    "    {\n",
    "            'correlation': 0,\n",
    "            'subgroup_col_name': 'SEX',\n",
    "            'marginal_prior': 1,\n",
    "            'corr_btn_sens_and_output_per_subgroup': (i, j),\n",
    "            # 'fixed_corr_in_test_data': True\n",
    "    }, shortname = f\"Corr_btn_sens_and_output_for_male_({i})_for_female_({j})\"\n",
    ") for (i, j) in [(k, k) for k in [-0.4, -0.35, -0.3, -0.25, -0.2][:1]]}\n",
    "# ) for i in [-0.4, -0.3, -0.2, -0.1, 0][:1] for j in [-0.4, -0.3, -0.2, -0.1, 0][3:4]}"
   ]
  },
  {
   "cell_type": "code",
   "execution_count": 43,
   "metadata": {},
   "outputs": [],
   "source": [
    "def get_indices_by_group_condition(X, conditions):\n",
    "    X_new = X.copy()\n",
    "    for key, value in conditions.items():\n",
    "        X_new = X_new.loc[X_new[f\"{key}_{value}\"] == 1]\n",
    "    return X_new.index\n",
    "\n",
    "def get_corr_btn_sens_and_out_per_subgroup(X, y, conditions):\n",
    "    indices = get_indices_by_group_condition(X, conditions)\n",
    "    X_new = X.loc[indices]\n",
    "    y_new = y[indices]\n",
    "    X_new = X_new[['MAR_1']].to_numpy().ravel()\n",
    "    y_new = y_new.ravel()\n",
    "    return np.corrcoef(X_new, y_new)[0, 1]"
   ]
  },
  {
   "cell_type": "code",
   "execution_count": 44,
   "metadata": {},
   "outputs": [
    {
     "name": "stdout",
     "output_type": "stream",
     "text": [
      "-0.09999999999999996\n",
      "-0.39999999999999986\n",
      "-0.39999999999999986\n"
     ]
    }
   ],
   "source": [
    "experiment = experiments['corr_btn_sens_and_out_(-0.4, -0.4)']\n",
    "print(get_corr_btn_sens_and_out_per_subgroup(experiment.X_train, experiment.y_tr, {'SEX': 0}))\n",
    "print(get_corr_btn_sens_and_out_per_subgroup(experiment.X_test, experiment.y_te, {'SEX': 0}))\n",
    "print(get_corr_btn_sens_and_out_per_subgroup(experiment.X_test, experiment.y_te, {'SEX': 1}))"
   ]
  },
  {
   "cell_type": "code",
   "execution_count": null,
   "metadata": {},
   "outputs": [],
   "source": [
    "experiment.X_test.shape"
   ]
  },
  {
   "cell_type": "code",
   "execution_count": null,
   "metadata": {},
   "outputs": [],
   "source": [
    "for experiment_key in experiments:\n",
    "    get_corr_btn_sens_and_output_per_subgroup(experiments[experiment_key])"
   ]
  },
  {
   "attachments": {},
   "cell_type": "markdown",
   "metadata": {},
   "source": [
    "# Load and Train Target Model"
   ]
  },
  {
   "cell_type": "code",
   "execution_count": null,
   "metadata": {},
   "outputs": [],
   "source": [
    "base_model = model_utils.get_model(max_iter=500)"
   ]
  },
  {
   "cell_type": "code",
   "execution_count": null,
   "metadata": {},
   "outputs": [],
   "source": [
    "save_model = False\n",
    "\n",
    "for experiment_key in experiments:\n",
    "    experiment = experiments[experiment_key]\n",
    "    print(f\"Training classifier for experiment: {experiment}\")\n",
    "    try:\n",
    "        experiment.clf = model_utils.load_model(f'<PATH_TO_MODEL>/{experiment.ds.ds.filenameroot}_target_model_benign.pkl')\n",
    "        print(f\"Loaded classifier for experiment from file: {experiment}\")\n",
    "    except:\n",
    "        # clf = model_utils.get_model(max_iter=500, hidden_layer_sizes=(256, 256))\n",
    "        experiment.clf_benign = copy.deepcopy(base_model)\n",
    "        experiment.clf_benign.fit(experiment.X_train, experiment.y_tr_onehot)\n",
    "\n",
    "        if save_model:\n",
    "            model_utils.save_model(experiment.clf, f'<PATH_TO_MODEL>/{experiment.ds.ds.filenameroot}_target_model.pkl')"
   ]
  },
  {
   "cell_type": "code",
   "execution_count": null,
   "metadata": {},
   "outputs": [],
   "source": [
    "model_utils.save_model(experiment.clf_benign, f'<PATH_TO_MODEL>/{experiment.ds.ds.filenameroot}_target_model_benign.pkl')"
   ]
  },
  {
   "cell_type": "markdown",
   "metadata": {},
   "source": [
    "Train Target Model on test set only"
   ]
  },
  {
   "cell_type": "code",
   "execution_count": 7,
   "metadata": {},
   "outputs": [
    {
     "name": "stdout",
     "output_type": "stream",
     "text": [
      "Training classifier for experiment: Census19_correlation_0_subgroup_col_name_SEX_marginal_prior_1_corr_btn_sens_and_output_per_subgroup_LPAREN-0.4, -0.4RPAREN\n",
      "Loaded classifier for experiment from file: Census19_correlation_0_subgroup_col_name_SEX_marginal_prior_1_corr_btn_sens_and_output_per_subgroup_LPAREN-0.4, -0.4RPAREN\n"
     ]
    }
   ],
   "source": [
    "save_model = True\n",
    "\n",
    "for experiment_key in experiments:\n",
    "    experiment = experiments[experiment_key]\n",
    "    print(f\"Training classifier for experiment: {experiment}\")\n",
    "    try:\n",
    "        experiment.clf_only_on_test = model_utils.load_model(f'<PATH_TO_MODEL>/{experiment.ds.ds.filenameroot}_target_model_only_on_test_dummy.pkl')\n",
    "        print(f\"Loaded classifier for experiment from file: {experiment}\")\n",
    "    except:\n",
    "        # clf = model_utils.get_model(max_iter=500, hidden_layer_sizes=(256, 256))\n",
    "        experiment.clf_only_on_test = copy.deepcopy(base_model)\n",
    "        experiment.clf_only_on_test.fit(experiment.X_test, experiment.y_te_onehot)\n",
    "\n",
    "        if save_model:\n",
    "            model_utils.save_model(experiment.clf_only_on_test, f'<PATH_TO_MODEL>/{experiment.ds.ds.filenameroot}_target_model_only_on_test_dummy.pkl')"
   ]
  },
  {
   "cell_type": "code",
   "execution_count": 79,
   "metadata": {},
   "outputs": [
    {
     "name": "stdout",
     "output_type": "stream",
     "text": [
      "Training classifier for experiment: Census19_correlation_0_subgroup_col_name_SEX_marginal_prior_1_corr_btn_sens_and_output_per_subgroup_LPAREN-0.4, -0.4RPAREN\n",
      "Loaded classifier for experiment from file: Census19_correlation_0_subgroup_col_name_SEX_marginal_prior_1_corr_btn_sens_and_output_per_subgroup_LPAREN-0.4, -0.4RPAREN\n"
     ]
    }
   ],
   "source": [
    "save_model = True\n",
    "\n",
    "for experiment_key in experiments:\n",
    "    experiment = experiments[experiment_key]\n",
    "    print(f\"Training classifier for experiment: {experiment}\")\n",
    "    try:\n",
    "        experiment.clf_only_on_test_mlp = model_utils.load_model(f'<PATH_TO_MODEL>/{experiment.ds.ds.filenameroot}_target_model_only_on_test_dummy.pkl')\n",
    "        print(f\"Loaded classifier for experiment from file: {experiment}\")\n",
    "    except:\n",
    "        # clf = model_utils.get_model(max_iter=500, hidden_layer_sizes=(256, 256))\n",
    "        experiment.clf_only_on_test = copy.deepcopy(base_model)\n",
    "        experiment.clf_only_on_test.fit(experiment.X_test, experiment.y_te_onehot)\n",
    "\n",
    "        if save_model:\n",
    "            model_utils.save_model(experiment.clf_only_on_test, f'<PATH_TO_MODEL>/{experiment.ds.ds.filenameroot}_target_model_only_on_test_dummy.pkl')"
   ]
  },
  {
   "cell_type": "code",
   "execution_count": null,
   "metadata": {},
   "outputs": [],
   "source": [
    "save_model = True\n",
    "\n",
    "from sklearn.tree import DecisionTreeClassifier\n",
    "\n",
    "for experiment_key in experiments:\n",
    "    experiment = experiments[experiment_key]\n",
    "    print(f\"Training classifier for experiment: {experiment}\")\n",
    "    experiment.clf_only_on_test = DecisionTreeClassifier(random_state=42, max_depth=7)\n",
    "    experiment.clf_only_on_test.fit(experiment.X_test, experiment.y_te_onehot)"
   ]
  },
  {
   "cell_type": "code",
   "execution_count": null,
   "metadata": {},
   "outputs": [],
   "source": [
    "clf = experiment.clf_only_on_test\n",
    "\n",
    "train_acc = 100 * clf.score(experiment.X_train, experiment.ds.ds.y_enc.transform(experiment.y_tr).toarray())\n",
    "test_acc = 100 * clf.score(experiment.X_test, experiment.ds.ds.y_enc.transform(experiment.y_te).toarray())\n",
    "if True:\n",
    "    print(\"Classifier: Train acc %.2f , Test acc %.2f\\n\" %\n",
    "            (train_acc, test_acc))"
   ]
  },
  {
   "cell_type": "code",
   "execution_count": null,
   "metadata": {},
   "outputs": [],
   "source": [
    "experiment.clf_only_on_test.predict_proba(experiment.X_test)"
   ]
  },
  {
   "cell_type": "code",
   "execution_count": null,
   "metadata": {},
   "outputs": [],
   "source": [
    "experiment.clf_only_on_test_mlp.predict_proba(experiment.X_test)"
   ]
  },
  {
   "cell_type": "markdown",
   "metadata": {},
   "source": [
    "Train Target Model on both train set and test set"
   ]
  },
  {
   "cell_type": "code",
   "execution_count": null,
   "metadata": {},
   "outputs": [],
   "source": [
    "save_model = True\n",
    "\n",
    "for experiment_key in experiments:\n",
    "    experiment = experiments[experiment_key]\n",
    "    print(f\"Training classifier for experiment: {experiment}\")\n",
    "    try:\n",
    "        experiment.clf = model_utils.load_model(f'<PATH_TO_MODEL>/{experiment.ds.ds.filenameroot}_target_model.pkl')\n",
    "        print(f\"Loaded classifier for experiment from file: {experiment}\")\n",
    "    except:\n",
    "        # clf = model_utils.get_model(max_iter=500, hidden_layer_sizes=(256, 256))\n",
    "        experiment.clf = model_utils.get_model(max_iter=500)\n",
    "        experiment.clf.fit(experiment.X_train, experiment.y_tr_onehot)\n",
    "\n",
    "        if save_model:\n",
    "            model_utils.save_model(experiment.clf, f'<PATH_TO_MODEL>/{experiment.ds.ds.filenameroot}_target_model.pkl')"
   ]
  },
  {
   "cell_type": "markdown",
   "metadata": {},
   "source": [
    "# Fed Training"
   ]
  },
  {
   "cell_type": "code",
   "execution_count": null,
   "metadata": {},
   "outputs": [],
   "source": [
    "# experiment = experiments['corr_btn_sens_and_out_(-0.4, -0.4)']\n",
    "test_df = experiment.ds.ds.original_df[experiment.ds.ds.original_df['is_train'] == 0]\n",
    "test_df = test_df.drop(['is_train'], axis=1)\n",
    "\n",
    "test_df = test_df.drop([experiment.sensitive_column], axis=1)\n",
    "experiment.y_column = experiment.ds.ds.meta['y_column']\n",
    "test_df = test_df.drop([experiment.y_column], axis=1)\n",
    "\n",
    "temp_np = test_df.to_numpy()[:50000, :]\n",
    "temp_np = temp_np.astype(np.float32)\n",
    "temp_np_1 = np.expand_dims(temp_np, 0)\n",
    "temp_np_2 = np.expand_dims(temp_np, 1)\n",
    "experiment.dist_matrix = np.count_nonzero(temp_np_1 - temp_np_2, axis=2)"
   ]
  },
  {
   "cell_type": "code",
   "execution_count": 8,
   "metadata": {},
   "outputs": [],
   "source": [
    "experiment.y_column = experiment.ds.ds.meta['y_column']"
   ]
  },
  {
   "cell_type": "code",
   "execution_count": null,
   "metadata": {},
   "outputs": [],
   "source": [
    "np.save(f'<PATH_TO_MODEL>/{experiment.ds.ds.filenameroot}_dist_matrix_wout_sens_col.npy', experiment.dist_matrix)"
   ]
  },
  {
   "cell_type": "code",
   "execution_count": null,
   "metadata": {},
   "outputs": [],
   "source": [
    "experiment.dist_matrix = np.load(f'<PATH_TO_MODEL>/{experiment.ds.ds.filenameroot}_dist_matrix_wout_sens_col.npy')"
   ]
  },
  {
   "cell_type": "code",
   "execution_count": 9,
   "metadata": {},
   "outputs": [],
   "source": [
    "sens_pred, case_indices = CSMIA_attack(experiment.clf_only_on_test, experiment.X_test, experiment.y_te, experiment.ds.ds.meta)\n",
    "correct_indices = (sens_pred == experiment.X_test[[f'{experiment.ds.ds.meta[\"sensitive_column\"]}_1']].to_numpy().ravel())\n",
    "incorrect_indices = ~correct_indices\n",
    "case_2_correct_indices = np.where(np.logical_and(case_indices[2], correct_indices))[0]\n",
    "case_2_incorrect_indices = np.where(np.logical_and(case_indices[2], incorrect_indices))[0]\n",
    "case_1_correct_indices = np.where(np.logical_and(case_indices[1], correct_indices))[0]\n",
    "case_1_incorrect_indices = np.where(np.logical_and(case_indices[1], incorrect_indices))[0]\n",
    "case_3_correct_indices = np.where(np.logical_and(case_indices[3], correct_indices))[0]\n",
    "case_3_incorrect_indices = np.where(np.logical_and(case_indices[3], incorrect_indices))[0]"
   ]
  },
  {
   "cell_type": "code",
   "execution_count": null,
   "metadata": {},
   "outputs": [],
   "source": [
    "conf_scores = np.max(experiment.clf_only_on_test.predict_proba(experiment.X_test), axis=1)\n",
    "sensitive_column = experiment.ds.ds.meta[\"sensitive_column\"]\n",
    "y_val = experiment.y_te.ravel()\n",
    "sens_val = experiment.X_test[[f'{sensitive_column}_1']].to_numpy().ravel()\n",
    "X_temp = experiment.X_test.copy()\n",
    "X_temp[f'{sensitive_column}_0'] = 1 - X_temp[f'{sensitive_column}_0']\n",
    "X_temp[f'{sensitive_column}_1'] = 1 - X_temp[f'{sensitive_column}_1']\n",
    "conf_scores_flipped = np.max(experiment.clf_only_on_test.predict_proba(X_temp), axis=1)"
   ]
  },
  {
   "cell_type": "code",
   "execution_count": 61,
   "metadata": {},
   "outputs": [],
   "source": [
    "def get_corr_btn_sens_and_out_for_indices(X, y, indices):\n",
    "    X_new = X.loc[indices]\n",
    "    y_new = y[indices]\n",
    "    X_new = X_new[['MAR_1']].to_numpy().ravel()\n",
    "    y_new = y_new.ravel()\n",
    "    return np.corrcoef(X_new, y_new)[0, 1]\n",
    "\n",
    "def get_percentage_of_same_sens_val_among_dist_k_neighbours(X, y, dist_matrix, index, k=3):\n",
    "    dist_2_neighbours = dist_matrix[index] <= k\n",
    "    orig_sens_val = X.iloc[index][f'{experiment.ds.ds.meta[\"sensitive_column\"]}_1']\n",
    "    return (X.iloc[dist_2_neighbours][f'{experiment.ds.ds.meta[\"sensitive_column\"]}_1'] == orig_sens_val).mean()\n",
    "\n",
    "# def find_neighbors_within_k_in_train(orig_df, aux_df, index, orig_sens_pred, k=4):\n",
    "#     test_df = orig_df.copy()\n",
    "#     test_df.loc[index, experiment.sensitive_column] = orig_sens_pred\n",
    "#     # test_df = test_df.drop([experiment.sensitive_column], axis=1)\n",
    "#     test_df = test_df.drop([experiment.y_column], axis=1)\n",
    "\n",
    "#     train_df = aux_df.copy()\n",
    "#     # train_df = train_df.drop([experiment.sensitive_column], axis=1)\n",
    "#     train_df = train_df.drop([experiment.y_column], axis=1)\n",
    "\n",
    "#     temp_np = train_df.to_numpy()[:50000, :]\n",
    "#     temp_np = temp_np.astype(np.float32)\n",
    "#     temp_np_1 = np.expand_dims(temp_np, 0)\n",
    "\n",
    "#     temp_np = test_df.to_numpy()[index:index+1, :]\n",
    "#     # temp_np[:, 3] = orig_sens_pred\n",
    "#     temp_np = temp_np.astype(np.float32)\n",
    "#     temp_np_2 = np.expand_dims(temp_np, 1)\n",
    "    \n",
    "#     dist_matrix = np.count_nonzero(temp_np_1 - temp_np_2, axis=2).ravel()\n",
    "#     # print(dist_matrix)\n",
    "    \n",
    "#     return dist_matrix <= k\n",
    "\n",
    "def find_neighbors_within_k_in_train(orig_df, aux_df, index, orig_sens_pred, k=4):\n",
    "    train_df = orig_df.copy()\n",
    "    train_df.loc[index, experiment.sensitive_column] = orig_sens_pred\n",
    "    # test_df = test_df.drop([experiment.sensitive_column], axis=1)\n",
    "    train_df = train_df.drop([experiment.y_column], axis=1)\n",
    "\n",
    "    # test_df = aux_df.copy()\n",
    "    # train_df = train_df.drop([experiment.sensitive_column], axis=1)\n",
    "    # train_df = train_df.drop([experiment.y_column], axis=1)\n",
    "\n",
    "    aux_np = aux_df.drop([experiment.y_column], axis=1).to_numpy()\n",
    "    aux_np = aux_np.astype(np.float32)\n",
    "    aux_np = np.expand_dims(aux_np, 0)\n",
    "\n",
    "    temp_np = train_df.to_numpy()[index:index+1, :]\n",
    "    # temp_np[:, 3] = orig_sens_pred\n",
    "    temp_np = temp_np.astype(np.float32)\n",
    "    temp_np_2 = np.expand_dims(temp_np, 1)\n",
    "    \n",
    "    dist_matrix = np.count_nonzero(aux_np - temp_np_2, axis=2).ravel()\n",
    "    # print(dist_matrix)\n",
    "    \n",
    "    return dist_matrix <= k\n",
    "\n",
    "def get_percentage_of_same_sens_val_among_dist_k_neighbours_in_aux_data(X, y, orig_df, aux_df, orig_sens_pred, orig_y, index, k=4):\n",
    "    dist_2_neighbours = find_neighbors_within_k_in_train(orig_df, aux_df, index, orig_sens_pred, k=k)\n",
    "    # print(np.where(dist_2_neighbours)[0][:50])\n",
    "    dist_2_neighbours_y_values = y[dist_2_neighbours].ravel().astype(np.float)\n",
    "    dist_2_neighbours_w_same_y_indices = (orig_y == dist_2_neighbours_y_values)\n",
    "    # print(dist_2_neighbours)\n",
    "    # print(orig_sens_pred)\n",
    "    # orig_sens_val = X.iloc[index][f'{experiment.ds.ds.meta[\"sensitive_column\"]}_1']\n",
    "    # return (X.iloc[dist_2_neighbours][f'{experiment.ds.ds.meta[\"sensitive_column\"]}_1'] == orig_sens_pred).mean()\n",
    "    return (X.iloc[dist_2_neighbours].iloc[dist_2_neighbours_w_same_y_indices][f'{experiment.ds.ds.meta[\"sensitive_column\"]}_1'] == orig_sens_pred).mean()\n",
    "\n",
    "# def get_percentage_of_same_sens_val_among_dist_k_neighbours(X, y, dist_matrix, index, k=3):\n",
    "#     dist_2_neighbours = dist_matrix[index] <= k\n",
    "#     X_temp = X.iloc[dist_2_neighbours]\n",
    "#     orig_y = y[index]\n",
    "#     dist_2_neighbours_y_values = y[dist_2_neighbours].ravel().astype(np.float)\n",
    "#     # print(dist_2_neighbours_y_values)\n",
    "#     dist_2_neighbours_w_same_y_indices = (orig_y == dist_2_neighbours_y_values)\n",
    "#     orig_sens_val = X.iloc[index][f'{experiment.ds.ds.meta[\"sensitive_column\"]}_1']\n",
    "#     return (X_temp.iloc[dist_2_neighbours_w_same_y_indices][f'{experiment.ds.ds.meta[\"sensitive_column\"]}_1'] == orig_sens_val).mean()\n",
    "\n",
    "def get_percentage_of_same_y_among_dist_k_neighbours(X, y, dist_matrix, index, k=3):\n",
    "    dist_2_neighbours = dist_matrix[index] <= k\n",
    "    X_temp = X.iloc[dist_2_neighbours]\n",
    "    orig_y = y[index]\n",
    "    dist_2_neighbours_y_values = y[dist_2_neighbours].ravel().astype(np.float)\n",
    "    return np.mean(dist_2_neighbours_y_values == orig_y)\n",
    "\n",
    "def get_percentage_of_neighbors_with_dominant_sens_val_pred_by_CSMIA_among_dist_k_neighbours(X, y, sens_pred, case_indices, index, k=3):\n",
    "    dist_2_neighbours = experiment.dist_matrix[index] <= k\n",
    "    dominant_sens_val = np.sum(sens_pred[dist_2_neighbours] == 1) > np.sum(sens_pred[dist_2_neighbours] == 0)\n",
    "    return np.mean(sens_pred[dist_2_neighbours] == dominant_sens_val)\n",
    "\n",
    "def get_corr_btn_sens_and_out_among_dist_k_neighbours(X, y, dist_matrix, index, k=3):\n",
    "    dist_2_neighbours = dist_matrix[index] <= k\n",
    "    try:\n",
    "        return get_corr_btn_sens_and_out_for_indices(X, y, dist_2_neighbours)\n",
    "    except:\n",
    "        return np.nan"
   ]
  },
  {
   "cell_type": "code",
   "execution_count": 42,
   "metadata": {},
   "outputs": [
    {
     "data": {
      "text/plain": [
       "array([  532,   542,  1262,  2175,  3612,  3617,  4724,  6045,  6199,\n",
       "        6604,  8384,  9079, 10020, 11087, 11689, 11854, 12006, 12055,\n",
       "       15183, 28421, 34371])"
      ]
     },
     "execution_count": 42,
     "metadata": {},
     "output_type": "execute_result"
    }
   ],
   "source": [
    "index = case_2_correct_indices[0]\n",
    "np.where(find_neighbors_within_k_in_train(original_df, aux_df, index, sens_pred[index], k=4))[0]"
   ]
  },
  {
   "cell_type": "code",
   "execution_count": 59,
   "metadata": {},
   "outputs": [],
   "source": [
    "original_df = experiment.ds.ds.original_df[experiment.ds.ds.original_df['is_train']==0]\n",
    "original_df = original_df.drop(['is_train'], axis=1)\n",
    "aux_df = experiment.ds.ds.original_df[experiment.ds.ds.original_df['is_train']==1]\n",
    "aux_df = aux_df.drop(['is_train'], axis=1)"
   ]
  },
  {
   "cell_type": "code",
   "execution_count": 62,
   "metadata": {},
   "outputs": [
    {
     "name": "stdout",
     "output_type": "stream",
     "text": [
      "0.8888888888888888\n"
     ]
    }
   ],
   "source": [
    "index = case_2_correct_indices[0]\n",
    "\n",
    "print(get_percentage_of_same_sens_val_among_dist_k_neighbours_in_aux_data(experiment.X_train, experiment.y_tr, original_df, aux_df, sens_pred[index], experiment.y_te[index], index, k=4))"
   ]
  },
  {
   "cell_type": "code",
   "execution_count": 64,
   "metadata": {},
   "outputs": [
    {
     "name": "stdout",
     "output_type": "stream",
     "text": [
      "0.12804878048780488\n"
     ]
    }
   ],
   "source": [
    "index = case_2_incorrect_indices[0]\n",
    "\n",
    "print(get_percentage_of_same_sens_val_among_dist_k_neighbours_in_aux_data(experiment.X_train, experiment.y_tr, original_df, aux_df, sens_pred[index], experiment.y_te[index], index, k=4))"
   ]
  },
  {
   "cell_type": "code",
   "execution_count": 35,
   "metadata": {},
   "outputs": [
    {
     "name": "stdout",
     "output_type": "stream",
     "text": [
      "[  4   6   8  15  16  21  24  32  44  45  46  56  59  66  84  87  91  92\n",
      "  94  97 104 108 111 119 121 127 130 132 138 140 144 150 166 172 177 183\n",
      " 187 188 189 194 197 199 202 206 214 218 226 229 230 234]\n",
      "0.20116959064327486\n"
     ]
    }
   ],
   "source": [
    "index = case_2_incorrect_indices[0]\n",
    "print(get_percentage_of_same_sens_val_among_dist_k_neighbours_in_aux_data(experiment.X_test, experiment.y_te, original_df, original_df, sens_pred[index], experiment.y_te[index], index, k=4))"
   ]
  },
  {
   "cell_type": "code",
   "execution_count": 55,
   "metadata": {},
   "outputs": [
    {
     "name": "stdout",
     "output_type": "stream",
     "text": [
      "0.36363636363636365\n",
      "0.4099722991689751\n",
      "0.4241338112305854\n",
      "0.44902912621359226\n",
      "0.41796276013143485\n",
      "0.42\n",
      "0.4254742547425474\n",
      "0.32\n",
      "0.42043067226890757\n",
      "0.6\n",
      "0.43359375\n",
      "0.1111111111111111\n",
      "0.4198683931224793\n",
      "0.4107744107744108\n",
      "0.4473229706390328\n",
      "0.4163346613545817\n",
      "0.4408866995073892\n",
      "0.4195121951219512\n",
      "0.4378698224852071\n",
      "0.5102040816326531\n"
     ]
    }
   ],
   "source": [
    "for idx in range(20):\n",
    "    index = case_2_correct_indices[idx]\n",
    "    print(get_percentage_of_same_sens_val_among_dist_k_neighbours_in_aux_data(experiment.X_train, experiment.y_tr, original_df, aux_df, sens_pred[index], experiment.y_te[index], index, k=4))"
   ]
  },
  {
   "cell_type": "code",
   "execution_count": 56,
   "metadata": {},
   "outputs": [
    {
     "name": "stdout",
     "output_type": "stream",
     "text": [
      "0.583079268292683\n",
      "0.6666666666666666\n",
      "0.5832651391162029\n",
      "0.5844922039612305\n",
      "0.5792227204783259\n",
      "0.574749498997996\n",
      "0.579803328290469\n",
      "0.5791779409869862\n",
      "0.5802073998207656\n",
      "0.5797029702970297\n",
      "0.5702479338842975\n",
      "0.5763052208835341\n",
      "0.5796492961224994\n",
      "0.5798020806901801\n",
      "0.5760836151245005\n",
      "0.5802686080080331\n",
      "0.5784090909090909\n",
      "0.5777370777370777\n",
      "0.5871219913598025\n",
      "0.5808095515433896\n"
     ]
    }
   ],
   "source": [
    "for idx in range(20):\n",
    "    index = case_2_incorrect_indices[idx]\n",
    "    print(get_percentage_of_same_sens_val_among_dist_k_neighbours_in_aux_data(experiment.X_train, experiment.y_tr, original_df, aux_df, sens_pred[index], experiment.y_te[index], index, k=4))"
   ]
  },
  {
   "cell_type": "code",
   "execution_count": null,
   "metadata": {},
   "outputs": [],
   "source": [
    "def get_slope(indices, conf_scores, conf_scores_flipped, y_val, sens_val, experiment):\n",
    "    if indices is not None:\n",
    "        conf_scores, conf_scores_flipped, y_val, sens_val = conf_scores[indices], conf_scores_flipped[indices], y_val[indices], sens_val[indices]\n",
    "\n",
    "    return [np.polyfit(np.concatenate([conf_scores[np.logical_and(y_val == 1, sens_val == 1)], conf_scores_flipped[np.logical_and(y_val == 1, sens_val == 0)]]), np.concatenate([conf_scores_flipped[np.logical_and(y_val == 1, sens_val == 1)], conf_scores[np.logical_and(y_val == 1, sens_val == 0)]]), 1)[0], np.polyfit(np.concatenate([conf_scores[np.logical_and(y_val == 0, sens_val == 1)], conf_scores_flipped[np.logical_and(y_val == 0, sens_val == 0)]]), np.concatenate([conf_scores_flipped[np.logical_and(y_val == 0, sens_val == 1)], conf_scores[np.logical_and(y_val == 0, sens_val == 0)]]), 1)[0]]\n",
    "\n",
    "def get_angular_difference(indices, conf_scores, conf_scores_flipped, y_val, sens_val, experiment):\n",
    "    slopes = get_slope(indices, conf_scores, conf_scores_flipped, y_val, sens_val, experiment)\n",
    "    return np.arctan(np.abs(slopes[0] - slopes[1]) / (1 + slopes[0] * slopes[1])) * np.sign(slopes[0] - slopes[1])"
   ]
  },
  {
   "cell_type": "code",
   "execution_count": null,
   "metadata": {},
   "outputs": [],
   "source": [
    "def neighbour_based_CSMIA(model, X_test, y_test, meta, threshold=0.825):\n",
    "    sens_pred, case_indices = CSMIA_attack(model, X_test, y_test, meta)\n",
    "    case_2_indices = np.where(case_indices[2])[0]\n",
    "    # print(case_2_indices)\n",
    "    neighbor_coeffs = np.array([get_percentage_of_neighbors_with_dominant_sens_val_pred_by_CSMIA_among_dist_k_neighbours(X_test, y_test, sens_pred, case_indices, i, k=4) for i in case_2_indices])\n",
    "    # flip the sens_pred val for indices where neighbor_coeffs is less than 0.9\n",
    "    neighbor_threshold = threshold\n",
    "    sens_pred[case_2_indices[neighbor_coeffs < neighbor_threshold]] = 1 - sens_pred[case_2_indices[neighbor_coeffs < neighbor_threshold]]\n",
    "    return sens_pred, case_indices"
   ]
  },
  {
   "cell_type": "code",
   "execution_count": null,
   "metadata": {},
   "outputs": [],
   "source": [
    "ang_diff = get_angular_difference(None, conf_scores, conf_scores_flipped, y_val, sens_val, experiment)"
   ]
  },
  {
   "cell_type": "code",
   "execution_count": null,
   "metadata": {},
   "outputs": [],
   "source": [
    "ang_diff"
   ]
  },
  {
   "cell_type": "code",
   "execution_count": 65,
   "metadata": {},
   "outputs": [],
   "source": [
    "# compare the percentage of same sensitive value among k neighbours for correct and incorrect examples of case 1\n",
    "k = 4\n",
    "perc_same_sens_val_correct = np.array([get_percentage_of_same_sens_val_among_dist_k_neighbours_in_aux_data(experiment.X_train, experiment.y_tr, original_df, aux_df, sens_pred[index], experiment.y_te[index], index, k=4) for index in case_1_correct_indices[:]])\n",
    "perc_same_sens_val_incorrect = np.array([get_percentage_of_same_sens_val_among_dist_k_neighbours_in_aux_data(experiment.X_train, experiment.y_tr, original_df, aux_df, sens_pred[index], experiment.y_te[index], index, k=4) for index in case_1_incorrect_indices[:]])"
   ]
  },
  {
   "cell_type": "code",
   "execution_count": 66,
   "metadata": {},
   "outputs": [
    {
     "data": {
      "image/png": "[encoded data removed]",
      "text/plain": [
       "<Figure size 640x480 with 1 Axes>"
      ]
     },
     "metadata": {},
     "output_type": "display_data"
    }
   ],
   "source": [
    "# sns.kdeplot(perc_same_sens_val_correct, label='Correctly predicted examples')\n",
    "# sns.kdeplot(perc_same_sens_val_incorrect, label='Incorrectly predicted examples')\n",
    "sns.histplot(perc_same_sens_val_correct, label='Correctly predicted examples', color='blue', element='bars', stat='count', bins=25)\n",
    "sns.histplot(perc_same_sens_val_incorrect, label='Incorrectly predicted examples', color='red', element='bars', stat='count', bins=25)\n",
    "plt.xlabel('Predicted neighborhood similarity')\n",
    "plt.ylabel('Count')\n",
    "plt.title('Distribution of Predicted neighborhood similarity among k=4 dist neighbours from auxiliary data for case 1 examples')\n",
    "plt.legend()\n",
    "plt.show()"
   ]
  },
  {
   "cell_type": "code",
   "execution_count": 19,
   "metadata": {},
   "outputs": [],
   "source": [
    "# compare the percentage of same sensitive value among k neighbours for correct and incorrect examples of case 2\n",
    "k = 4\n",
    "perc_same_sens_val_correct = np.array([get_percentage_of_same_sens_val_among_dist_k_neighbours_in_aux_data(experiment.X_train, experiment.y_tr, experiment.ds.ds.original_df, sens_pred[index], experiment.y_te[index], index, k=4) for index in case_2_correct_indices[:]])\n",
    "perc_same_sens_val_incorrect = np.array([get_percentage_of_same_sens_val_among_dist_k_neighbours_in_aux_data(experiment.X_train, experiment.y_tr, experiment.ds.ds.original_df, sens_pred[index], experiment.y_te[index], index, k=4) for index in case_2_incorrect_indices[:]])"
   ]
  },
  {
   "cell_type": "code",
   "execution_count": 20,
   "metadata": {},
   "outputs": [
    {
     "data": {
      "image/png": "[encoded data removed]",
      "text/plain": [
       "<Figure size 640x480 with 1 Axes>"
      ]
     },
     "metadata": {},
     "output_type": "display_data"
    }
   ],
   "source": [
    "# sns.kdeplot(perc_same_sens_val_correct, label='Correctly predicted examples')\n",
    "# sns.kdeplot(perc_same_sens_val_incorrect, label='Incorrectly predicted examples')\n",
    "sns.histplot(perc_same_sens_val_correct, label='Correctly predicted examples', color='blue', element='bars', stat='count', bins=25)\n",
    "sns.histplot(perc_same_sens_val_incorrect, label='Incorrectly predicted examples', color='red', element='bars', stat='count', bins=25)\n",
    "plt.xlabel('Predicted neighborhood similarity')\n",
    "plt.ylabel('Count')\n",
    "plt.title('Distribution of Predicted neighborhood similarity among k=4 dist neighbours from auxiliary data for case 2 examples')\n",
    "plt.legend()\n",
    "plt.show()"
   ]
  },
  {
   "cell_type": "code",
   "execution_count": null,
   "metadata": {},
   "outputs": [],
   "source": [
    "# compare the percentage of same sensitive value among k neighbours for correct and incorrect examples of case 2\n",
    "k = 4\n",
    "perc_same_sens_val_correct = np.array([get_percentage_of_same_y_among_dist_k_neighbours(experiment.X_test, experiment.y_te, experiment.dist_matrix, index, k) for index in case_1_correct_indices])\n",
    "perc_same_sens_val_incorrect = np.array([get_percentage_of_same_y_among_dist_k_neighbours(experiment.X_test, experiment.y_te, experiment.dist_matrix, index, k) for index in case_1_incorrect_indices])\n",
    "\n",
    "sns.kdeplot(perc_same_sens_val_correct, label='Correctly predicted examples')\n",
    "sns.kdeplot(perc_same_sens_val_incorrect, label='Incorrectly predicted examples')\n",
    "plt.xlabel('Percentage of same sensitive value among neighbours')\n",
    "plt.ylabel('Density')\n",
    "plt.title('Distribution of percentage of same sensitive value among k=4 dist neighbours for case 1 examples')\n",
    "plt.legend()\n",
    "plt.show()"
   ]
  },
  {
   "cell_type": "code",
   "execution_count": null,
   "metadata": {},
   "outputs": [],
   "source": [
    "# compare the percentage of same sensitive value among k neighbours for correct and incorrect examples of case 2\n",
    "k = 4\n",
    "perc_same_sens_val_correct = np.array([get_percentage_of_same_y_among_dist_k_neighbours(experiment.X_test, experiment.y_te, experiment.dist_matrix, index, k) for index in case_2_correct_indices])\n",
    "perc_same_sens_val_incorrect = np.array([get_percentage_of_same_y_among_dist_k_neighbours(experiment.X_test, experiment.y_te, experiment.dist_matrix, index, k) for index in case_2_incorrect_indices])\n",
    "\n",
    "sns.kdeplot(perc_same_sens_val_correct, label='Correctly predicted examples')\n",
    "sns.kdeplot(perc_same_sens_val_incorrect, label='Incorrectly predicted examples')\n",
    "plt.xlabel('Percentage of same sensitive value among neighbours')\n",
    "plt.ylabel('Density')\n",
    "plt.title('Distribution of percentage of same sensitive value among k=4 dist neighbours for case 1 examples')\n",
    "plt.legend()\n",
    "plt.show()"
   ]
  },
  {
   "cell_type": "code",
   "execution_count": null,
   "metadata": {},
   "outputs": [],
   "source": [
    "# compare the percentage of same sensitive value among k neighbours for correct and incorrect examples of case 2\n",
    "k = 4\n",
    "perc_same_sens_val_correct = np.array([get_percentage_of_same_y_among_dist_k_neighbours(experiment.X_test, experiment.y_te, experiment.dist_matrix, index, k) for index in case_3_correct_indices])\n",
    "perc_same_sens_val_incorrect = np.array([get_percentage_of_same_y_among_dist_k_neighbours(experiment.X_test, experiment.y_te, experiment.dist_matrix, index, k) for index in case_3_incorrect_indices])\n",
    "\n",
    "sns.kdeplot(perc_same_sens_val_correct, label='Correctly predicted examples')\n",
    "sns.kdeplot(perc_same_sens_val_incorrect, label='Incorrectly predicted examples')\n",
    "plt.xlabel('Percentage of same sensitive value among neighbours')\n",
    "plt.ylabel('Density')\n",
    "plt.title('Distribution of percentage of same sensitive value among k=4 dist neighbours for case 1 examples')\n",
    "plt.legend()\n",
    "plt.show()"
   ]
  },
  {
   "cell_type": "code",
   "execution_count": null,
   "metadata": {},
   "outputs": [],
   "source": [
    "# compare the percentage of same sensitive value among k neighbours for correct and incorrect examples of case 2\n",
    "k = 4\n",
    "perc_same_sens_val_correct = np.array([get_percentage_of_same_sens_val_among_dist_k_neighbours(experiment.X_test, experiment.y_te, experiment.dist_matrix, index, k) for index in case_1_correct_indices])\n",
    "perc_same_sens_val_incorrect = np.array([get_percentage_of_same_sens_val_among_dist_k_neighbours(experiment.X_test, experiment.y_te, experiment.dist_matrix, index, k) for index in case_1_incorrect_indices])\n",
    "\n",
    "sns.kdeplot(perc_same_sens_val_correct, label='Correctly predicted examples')\n",
    "sns.kdeplot(perc_same_sens_val_incorrect, label='Incorrectly predicted examples')\n",
    "plt.xlabel('Percentage of same sensitive value among neighbours')\n",
    "plt.ylabel('Density')\n",
    "plt.title('Distribution of percentage of same sensitive value among k=4 dist neighbours for case 1 examples')\n",
    "plt.legend()\n",
    "plt.show()"
   ]
  },
  {
   "cell_type": "code",
   "execution_count": null,
   "metadata": {},
   "outputs": [],
   "source": [
    "# compare the percentage of same sensitive value among k neighbours for correct and incorrect examples of case 2\n",
    "k = 4\n",
    "perc_same_sens_val_correct = np.array([get_percentage_of_same_sens_val_among_dist_k_neighbours(experiment.X_test, experiment.y_te, experiment.dist_matrix, index, k) for index in case_2_correct_indices])\n",
    "perc_same_sens_val_incorrect = np.array([get_percentage_of_same_sens_val_among_dist_k_neighbours(experiment.X_test, experiment.y_te, experiment.dist_matrix, index, k) for index in case_2_incorrect_indices])\n",
    "\n",
    "sns.kdeplot(perc_same_sens_val_correct, label='Correctly predicted examples')\n",
    "sns.kdeplot(perc_same_sens_val_incorrect, label='Incorrectly predicted examples')\n",
    "plt.xlabel('Percentage of same sensitive value among neighbours')\n",
    "plt.ylabel('Density')\n",
    "plt.title('Distribution of percentage of same sensitive value among k=4 dist neighbours for case 2 examples')\n",
    "plt.legend()\n",
    "plt.show()"
   ]
  },
  {
   "cell_type": "code",
   "execution_count": null,
   "metadata": {},
   "outputs": [],
   "source": [
    "sns.histplot(perc_same_sens_val_correct, label='Correctly predicted examples', color='blue', element='bars', stat='count', bins=25)\n",
    "sns.histplot(perc_same_sens_val_incorrect, label='Incorrectly predicted examples', color='red', element='bars', stat='count', bins=25)\n",
    "plt.xlabel('Percentage of same sensitive value among neighbours')\n",
    "plt.ylabel('Density')\n",
    "plt.title('Distribution of percentage of same sensitive value among k=4 dist neighbours for case 3 examples')\n",
    "plt.legend()\n",
    "plt.show()"
   ]
  },
  {
   "cell_type": "code",
   "execution_count": null,
   "metadata": {},
   "outputs": [],
   "source": [
    "# compare the percentage of same sensitive value among k neighbours for correct and incorrect examples of case 2\n",
    "k = 4\n",
    "perc_same_sens_val_correct = np.array([get_percentage_of_same_sens_val_among_dist_k_neighbours(experiment.X_test, experiment.y_te, experiment.dist_matrix, index, k) for index in case_3_correct_indices])\n",
    "perc_same_sens_val_incorrect = np.array([get_percentage_of_same_sens_val_among_dist_k_neighbours(experiment.X_test, experiment.y_te, experiment.dist_matrix, index, k) for index in case_3_incorrect_indices])\n",
    "\n",
    "sns.kdeplot(perc_same_sens_val_correct, label='Correctly predicted examples')\n",
    "sns.kdeplot(perc_same_sens_val_incorrect, label='Incorrectly predicted examples')\n",
    "plt.xlabel('Percentage of same sensitive value among neighbours')\n",
    "plt.ylabel('Density')\n",
    "plt.title('Distribution of percentage of same sensitive value among k=4 dist neighbours for case 3 examples')\n",
    "plt.legend()\n",
    "plt.show()"
   ]
  },
  {
   "cell_type": "code",
   "execution_count": null,
   "metadata": {},
   "outputs": [],
   "source": [
    "sns.histplot(perc_same_sens_val_correct, label='Correctly predicted examples', color='blue', element='bars', stat='count', bins=25)\n",
    "sns.histplot(perc_same_sens_val_incorrect, label='Incorrectly predicted examples', color='red', element='bars', stat='count', bins=25)\n",
    "plt.xlabel('Percentage of same sensitive value among neighbours')\n",
    "plt.ylabel('Count')\n",
    "plt.title('Distribution of percentage of same sensitive value among k=4 dist neighbours for case 3 examples')\n",
    "plt.legend()\n",
    "plt.show()"
   ]
  },
  {
   "cell_type": "code",
   "execution_count": null,
   "metadata": {},
   "outputs": [],
   "source": [
    "perc_same_sens_val_all = np.array(\n",
    "    [get_percentage_of_same_sens_val_among_dist_k_neighbours(experiment.X_test, experiment.y_te, experiment.dist_matrix, index, k) for index in experiment.X_test.index]\n",
    "    )"
   ]
  },
  {
   "cell_type": "code",
   "execution_count": null,
   "metadata": {},
   "outputs": [],
   "source": [
    "sns.histplot(perc_same_sens_val_all, label='Vulnerability Score', color='blue', element='bars', stat='count', bins=25)\n",
    "plt.ylabel('Count')\n",
    "plt.legend()\n",
    "plt.show()"
   ]
  },
  {
   "cell_type": "code",
   "execution_count": null,
   "metadata": {},
   "outputs": [],
   "source": [
    "metrics = ['accuracy', 'precision', 'recall', 'f1', 'fpr'][:1]\n",
    "threshold_values = [0.5, 0.55, 0.6, 0.65, 0.7, 0.75, 0.8, 0.85, 0.9, 0.95]\n",
    "\n",
    "result_dfs_by_metric = {}\n",
    "for metric in metrics:\n",
    "    result_dfs_by_threshold = {}\n",
    "    result_dfs_by_threshold[\"baseline\"] = get_CSMIA_case_by_case_results(experiment.clf_only_on_test, experiment.X_test, experiment.y_te, experiment.ds, 'SEX', metric=metric, attack_fun=None)\n",
    "    for threshold in threshold_values:\n",
    "        result_dfs_by_threshold[threshold] = get_CSMIA_case_by_case_results(experiment.clf_only_on_test, experiment.X_test, experiment.y_te, experiment.ds, 'SEX', metric=metric, attack_fun=neighbour_based_CSMIA, threshold=threshold)\n",
    "\n",
    "    result_dfs_by_metric[metric] = result_dfs_by_threshold"
   ]
  },
  {
   "cell_type": "code",
   "execution_count": null,
   "metadata": {},
   "outputs": [],
   "source": [
    "opt_thres = threshold_values[np.argmax([result_dfs_by_metric[metric][threshold].loc['Case 2']['Overall'] for threshold in threshold_values])]"
   ]
  },
  {
   "cell_type": "code",
   "execution_count": null,
   "metadata": {},
   "outputs": [],
   "source": [
    "import pickle\n",
    "model_type=['DT', 'MLP'][0]\n",
    "corr=[-0.2,-0.25,-0.3,-0.35,-0.4][-5]\n",
    "\n",
    "\n",
    "with open('cross_exp_res_dict.pkl', 'rb') as f:\n",
    "    cross_exp_res_dict = pickle.load(f)\n",
    "if experiment.ds.ds.name not in cross_exp_res_dict:\n",
    "    cross_exp_res_dict[experiment.ds.ds.name] = {}\n",
    "if model_type not in cross_exp_res_dict[experiment.ds.ds.name]:\n",
    "    cross_exp_res_dict[experiment.ds.ds.name][model_type] = {}\n",
    "cross_exp_res_dict[experiment.ds.ds.name][model_type][corr] = {\n",
    "    'threshold': opt_thres,\n",
    "    'angular difference': ang_diff\n",
    "}\n",
    "\n",
    "with open('cross_exp_res_dict.pkl', 'wb') as f:\n",
    "    pickle.dump(cross_exp_res_dict, f)"
   ]
  },
  {
   "cell_type": "code",
   "execution_count": null,
   "metadata": {},
   "outputs": [],
   "source": [
    "cross_exp_res_dict"
   ]
  },
  {
   "cell_type": "code",
   "execution_count": null,
   "metadata": {},
   "outputs": [],
   "source": [
    "metric = 'accuracy'\n",
    "\n",
    "baseline_val = result_dfs_by_metric[metric][\"baseline\"].loc['Case 2']['Overall']\n",
    "threshold_vals = [result_dfs_by_metric[metric][threshold].loc['Case 2']['Overall'] for threshold in threshold_values]\n",
    "\n",
    "plt.plot(threshold_values, threshold_vals, label='Modified CSMIA')\n",
    "plt.axhline(y=baseline_val, color='r', linestyle='-', label='Baseline')\n",
    "plt.xlabel('Threshold')\n",
    "plt.ylabel('Accuracy')\n",
    "plt.legend()\n",
    "plt.title('Accuracy vs Threshold for Modified CSMIA on Case 2')\n",
    "plt.show()"
   ]
  },
  {
   "cell_type": "code",
   "execution_count": null,
   "metadata": {},
   "outputs": [],
   "source": [
    "# compare the percentage of same sensitive value among k neighbours for correct and incorrect examples of case 2\n",
    "k = 3\n",
    "perc_same_sens_val_correct = np.array([get_percentage_of_same_sens_val_among_dist_k_neighbours(experiment.X_test, experiment.y_te, experiment.dist_matrix, index, k) for index in case_2_correct_indices])\n",
    "perc_same_sens_val_incorrect = np.array([get_percentage_of_same_sens_val_among_dist_k_neighbours(experiment.X_test, experiment.y_te, experiment.dist_matrix, index, k) for index in case_2_incorrect_indices])\n",
    "\n",
    "sns.kdeplot(perc_same_sens_val_correct, label='Correctly predicted examples')\n",
    "sns.kdeplot(perc_same_sens_val_incorrect, label='Incorrectly predicted examples')\n",
    "plt.xlabel('Percentage of same sensitive value among neighbours')\n",
    "plt.ylabel('Density')\n",
    "plt.title('Distribution of percentage of same sensitive value among k=4 dist neighbours for case 2 examples')\n",
    "plt.legend()\n",
    "plt.show()"
   ]
  },
  {
   "cell_type": "code",
   "execution_count": null,
   "metadata": {},
   "outputs": [],
   "source": [
    "# compare the percentage of same sensitive value among k neighbours for correct and incorrect examples of case 2\n",
    "k = 4\n",
    "perc_same_sens_val_correct = np.array([get_percentage_of_same_sens_val_among_dist_k_neighbours(experiment.X_test, experiment.y_te, experiment.dist_matrix, index, k) for index in case_2_correct_indices])\n",
    "perc_same_sens_val_incorrect = np.array([get_percentage_of_same_sens_val_among_dist_k_neighbours(experiment.X_test, experiment.y_te, experiment.dist_matrix, index, k) for index in case_2_incorrect_indices])\n",
    "\n",
    "sns.kdeplot(perc_same_sens_val_correct, label='Correctly predicted examples')\n",
    "sns.kdeplot(perc_same_sens_val_incorrect, label='Incorrectly predicted examples')\n",
    "plt.xlabel('Percentage of same sensitive value among neighbours')\n",
    "plt.ylabel('Density')\n",
    "plt.title('Distribution of percentage of same sensitive value among k=4 dist neighbours for case 2 examples')\n",
    "plt.legend()\n",
    "plt.show()"
   ]
  },
  {
   "cell_type": "code",
   "execution_count": null,
   "metadata": {},
   "outputs": [],
   "source": [
    "# compare the percentage of same sensitive value among k neighbours for correct and incorrect examples of case 2\n",
    "k = 4\n",
    "perc_same_sens_val_correct = np.array([get_percentage_of_same_sens_val_among_dist_k_neighbours(experiment.X_test, experiment.y_te, experiment.dist_matrix, index, k) for index in case_2_correct_indices])\n",
    "perc_same_sens_val_incorrect = np.array([get_percentage_of_same_sens_val_among_dist_k_neighbours(experiment.X_test, experiment.y_te, experiment.dist_matrix, index, k) for index in case_2_incorrect_indices])\n",
    "\n",
    "sns.kdeplot(perc_same_sens_val_correct, label='Correctly predicted examples')\n",
    "sns.kdeplot(perc_same_sens_val_incorrect, label='Incorrectly predicted examples')\n",
    "plt.xlabel('Percentage of same sensitive value among neighbours')\n",
    "plt.ylabel('Density')\n",
    "plt.title('Distribution of percentage of same sensitive value among k=4 dist neighbours for case 2 examples')\n",
    "plt.legend()\n",
    "plt.show()"
   ]
  },
  {
   "attachments": {
    "image.png": {
     "image/png": "[encoded data removed]"
    }
   },
   "cell_type": "markdown",
   "metadata": {},
   "source": [
    "![image.png](attachment:image.png)"
   ]
  },
  {
   "cell_type": "code",
   "execution_count": null,
   "metadata": {},
   "outputs": [],
   "source": [
    "metric = 'fpr'\n",
    "\n",
    "baseline_val = result_dfs_by_metric[metric][\"baseline\"].loc['Case 2']['Overall']\n",
    "threshold_vals = [result_dfs_by_metric[metric][threshold].loc['Case 2']['Overall'] for threshold in [0.8, 0.825, 0.85, 0.875, 0.9]]\n",
    "\n",
    "plt.plot([0.8, 0.825, 0.85, 0.875, 0.9], threshold_vals, label='Modified CSMIA')\n",
    "plt.axhline(y=baseline_val, color='r', linestyle='-', label='Baseline')\n",
    "plt.xlabel('Threshold')\n",
    "plt.ylabel('FPR')\n",
    "plt.legend()\n",
    "plt.title('FPR vs Threshold for Modified CSMIA on Case 2')\n",
    "plt.show()"
   ]
  },
  {
   "cell_type": "code",
   "execution_count": null,
   "metadata": {},
   "outputs": [],
   "source": [
    "metric = 'f1'\n",
    "\n",
    "baseline_val = result_dfs_by_metric[metric][\"baseline\"].loc['Case 2']['Overall']\n",
    "threshold_vals = [result_dfs_by_metric[metric][threshold].loc['Case 2']['Overall'] for threshold in [0.8, 0.825, 0.85, 0.875, 0.9]]\n",
    "\n",
    "plt.plot([0.8, 0.825, 0.85, 0.875, 0.9], threshold_vals, label='Modified CSMIA')\n",
    "plt.axhline(y=baseline_val, color='r', linestyle='-', label='Baseline')\n",
    "plt.xlabel('Threshold')\n",
    "plt.ylabel('F1')\n",
    "plt.legend()\n",
    "plt.title('F1 vs Threshold for Modified CSMIA on Case 2')\n",
    "plt.show()"
   ]
  },
  {
   "cell_type": "code",
   "execution_count": null,
   "metadata": {},
   "outputs": [],
   "source": [
    "metric = 'precision'\n",
    "\n",
    "baseline_val = result_dfs_by_metric[metric][\"baseline\"].loc['Case 2']['Overall']\n",
    "threshold_vals = [result_dfs_by_metric[metric][threshold].loc['Case 2']['Overall'] for threshold in [0.8, 0.825, 0.85, 0.875, 0.9]]\n",
    "\n",
    "plt.plot([0.8, 0.825, 0.85, 0.875, 0.9], threshold_vals, label='Modified CSMIA')\n",
    "plt.axhline(y=baseline_val, color='r', linestyle='-', label='Baseline')\n",
    "plt.xlabel('Threshold')\n",
    "plt.ylabel('Precision')\n",
    "plt.legend()\n",
    "plt.title('Precision vs Threshold for Modified CSMIA on Case 2')\n",
    "plt.show()"
   ]
  },
  {
   "cell_type": "code",
   "execution_count": null,
   "metadata": {},
   "outputs": [],
   "source": [
    "metric = 'recall'\n",
    "\n",
    "baseline_val = result_dfs_by_metric[metric][\"baseline\"].loc['Case 2']['Overall']\n",
    "threshold_vals = [result_dfs_by_metric[metric][threshold].loc['Case 2']['Overall'] for threshold in [0.8, 0.825, 0.85, 0.875, 0.9]]\n",
    "\n",
    "plt.plot([0.8, 0.825, 0.85, 0.875, 0.9], threshold_vals, label='Modified CSMIA')\n",
    "plt.axhline(y=baseline_val, color='r', linestyle='-', label='Baseline')\n",
    "plt.xlabel('Threshold')\n",
    "plt.ylabel('Recall')\n",
    "plt.legend()\n",
    "plt.title('Recall vs Threshold for Modified CSMIA on Case 2')\n",
    "plt.show()"
   ]
  },
  {
   "cell_type": "code",
   "execution_count": null,
   "metadata": {},
   "outputs": [],
   "source": [
    "metric = 'accuracy'\n",
    "\n",
    "baseline_val = result_dfs_by_metric[metric][\"baseline\"].loc['Case All Cases']['Overall']\n",
    "threshold_vals = [result_dfs_by_metric[metric][threshold].loc['Case All Cases']['Overall'] for threshold in [0.8, 0.825, 0.85, 0.875, 0.9]]\n",
    "\n",
    "plt.plot([0.8, 0.825, 0.85, 0.875, 0.9], threshold_vals, label='Modified CSMIA')\n",
    "plt.axhline(y=baseline_val, color='r', linestyle='-', label='Baseline')\n",
    "plt.xlabel('Threshold')\n",
    "plt.ylabel('Accuracy')\n",
    "plt.legend()\n",
    "plt.title('Accuracy vs Threshold for Modified CSMIA on All Cases')\n",
    "plt.show()"
   ]
  },
  {
   "cell_type": "code",
   "execution_count": null,
   "metadata": {},
   "outputs": [],
   "source": [
    "metric = 'fpr'\n",
    "\n",
    "baseline_val = result_dfs_by_metric[metric][\"baseline\"].loc['Case All Cases']['Overall']\n",
    "threshold_vals = [result_dfs_by_metric[metric][threshold].loc['Case All Cases']['Overall'] for threshold in [0.8, 0.825, 0.85, 0.875, 0.9]]\n",
    "\n",
    "plt.plot([0.8, 0.825, 0.85, 0.875, 0.9], threshold_vals, label='Modified CSMIA')\n",
    "plt.axhline(y=baseline_val, color='r', linestyle='-', label='Baseline')\n",
    "plt.xlabel('Threshold')\n",
    "plt.ylabel('FPR')\n",
    "plt.legend()\n",
    "plt.title('FPR vs Threshold for Modified CSMIA on All Cases')\n",
    "plt.show()"
   ]
  },
  {
   "cell_type": "code",
   "execution_count": null,
   "metadata": {},
   "outputs": [],
   "source": [
    "baseline_val"
   ]
  },
  {
   "cell_type": "code",
   "execution_count": null,
   "metadata": {},
   "outputs": [],
   "source": [
    "get_CSMIA_case_by_case_results(experiment.clf_only_on_test, experiment.X_test, experiment.y_te, experiment.ds, 'SEX', metric='accuracy', attack_fun=None)"
   ]
  },
  {
   "cell_type": "code",
   "execution_count": null,
   "metadata": {},
   "outputs": [],
   "source": [
    "get_CSMIA_case_by_case_results(experiment.clf_only_on_test, experiment.X_test, experiment.y_te, experiment.ds, 'SEX', metric='fpr', attack_fun=None)"
   ]
  },
  {
   "cell_type": "code",
   "execution_count": null,
   "metadata": {},
   "outputs": [],
   "source": [
    "print('Threshold 0.8')\n",
    "get_CSMIA_case_by_case_results(experiment.clf_only_on_test, experiment.X_test, experiment.y_te, experiment.ds, 'SEX', metric='accuracy', attack_fun=neighbour_based_CSMIA)"
   ]
  },
  {
   "cell_type": "code",
   "execution_count": null,
   "metadata": {},
   "outputs": [],
   "source": [
    "print('Threshold 0.8')\n",
    "get_CSMIA_case_by_case_results(experiment.clf_only_on_test, experiment.X_test, experiment.y_te, experiment.ds, 'SEX', metric='fpr', attack_fun=neighbour_based_CSMIA, threshold=0.8)"
   ]
  },
  {
   "cell_type": "code",
   "execution_count": null,
   "metadata": {},
   "outputs": [],
   "source": [
    "print('Threshold 0.825')\n",
    "get_CSMIA_case_by_case_results(experiment.clf_only_on_test, experiment.X_test, experiment.y_te, experiment.ds, 'SEX', metric='accuracy', attack_fun=neighbour_based_CSMIA)"
   ]
  },
  {
   "cell_type": "code",
   "execution_count": null,
   "metadata": {},
   "outputs": [],
   "source": [
    "print('Threshold 0.825')\n",
    "get_CSMIA_case_by_case_results(experiment.clf_only_on_test, experiment.X_test, experiment.y_te, experiment.ds, 'SEX', metric='fpr', attack_fun=neighbour_based_CSMIA)"
   ]
  },
  {
   "cell_type": "code",
   "execution_count": null,
   "metadata": {},
   "outputs": [],
   "source": [
    "print('Threshold 0.85')\n",
    "get_CSMIA_case_by_case_results(experiment.clf_only_on_test, experiment.X_test, experiment.y_te, experiment.ds, 'SEX', metric='accuracy', attack_fun=neighbour_based_CSMIA)"
   ]
  },
  {
   "cell_type": "code",
   "execution_count": null,
   "metadata": {},
   "outputs": [],
   "source": [
    "print('Threshold 0.875')\n",
    "get_CSMIA_case_by_case_results(experiment.clf_only_on_test, experiment.X_test, experiment.y_te, experiment.ds, 'SEX', metric='accuracy', attack_fun=neighbour_based_CSMIA)"
   ]
  },
  {
   "attachments": {
    "image.png": {
     "image/png": "[encoded data removed]"
    }
   },
   "cell_type": "markdown",
   "metadata": {},
   "source": [
    "![image.png](attachment:image.png)"
   ]
  },
  {
   "cell_type": "code",
   "execution_count": null,
   "metadata": {},
   "outputs": [],
   "source": [
    "# get the number of neighbors within k distance for correct and incorrect examples of case 2\n",
    "k = 2\n",
    "num_neighbours_correct = (experiment.dist_matrix[case_2_correct_indices] <= k).sum(axis=1)\n",
    "num_neighbours_incorrect = (experiment.dist_matrix[case_2_incorrect_indices] <= k).sum(axis=1)"
   ]
  },
  {
   "cell_type": "code",
   "execution_count": null,
   "metadata": {},
   "outputs": [],
   "source": [
    "num_neighbours_correct[:10]"
   ]
  },
  {
   "cell_type": "code",
   "execution_count": null,
   "metadata": {},
   "outputs": [],
   "source": [
    "num_neighbours_incorrect[:10]"
   ]
  },
  {
   "cell_type": "code",
   "execution_count": null,
   "metadata": {},
   "outputs": [],
   "source": [
    "sns.kdeplot(num_neighbours_correct, label='Correctly predicted examples')\n",
    "sns.kdeplot(num_neighbours_incorrect, label='Incorrectly predicted examples')\n",
    "plt.xlabel('Number of neighbours within k distance')\n",
    "plt.ylabel('Density')\n",
    "plt.title('Distribution of number of neighbours within k=2 distance for case 2 examples')\n",
    "plt.legend()\n",
    "plt.show()"
   ]
  },
  {
   "cell_type": "code",
   "execution_count": null,
   "metadata": {},
   "outputs": [],
   "source": [
    "# get the number of neighbors within k distance for correct and incorrect examples of case 2\n",
    "k = 3\n",
    "num_neighbours_correct = (experiment.dist_matrix[case_2_correct_indices] <= k).sum(axis=1)\n",
    "num_neighbours_incorrect = (experiment.dist_matrix[case_2_incorrect_indices] <= k).sum(axis=1)"
   ]
  },
  {
   "cell_type": "code",
   "execution_count": null,
   "metadata": {},
   "outputs": [],
   "source": [
    "sns.kdeplot(num_neighbours_correct, label='Correctly predicted examples')\n",
    "sns.kdeplot(num_neighbours_incorrect, label='Incorrectly predicted examples')\n",
    "plt.xlabel('Number of neighbours within k distance')\n",
    "plt.ylabel('Density')\n",
    "plt.title('Distribution of number of neighbours within k=3 distance for case 2 examples')\n",
    "plt.legend()\n",
    "plt.show()"
   ]
  },
  {
   "cell_type": "code",
   "execution_count": null,
   "metadata": {},
   "outputs": [],
   "source": [
    "# compare the percentage of same sensitive value among k neighbours for correct and incorrect examples of case 2\n",
    "k = 3\n",
    "perc_same_sens_val_correct = np.array([get_percentage_of_same_sens_val_among_dist_k_neighbours(experiment.X_test, experiment.y_te, experiment.dist_matrix, index, k) for index in case_2_correct_indices])\n",
    "perc_same_sens_val_incorrect = np.array([get_percentage_of_same_sens_val_among_dist_k_neighbours(experiment.X_test, experiment.y_te, experiment.dist_matrix, index, k) for index in case_2_incorrect_indices])"
   ]
  },
  {
   "cell_type": "code",
   "execution_count": null,
   "metadata": {},
   "outputs": [],
   "source": [
    "sns.kdeplot(perc_same_sens_val_correct, label='Correctly predicted examples')\n",
    "sns.kdeplot(perc_same_sens_val_incorrect, label='Incorrectly predicted examples')\n",
    "plt.xlabel('Percentage of same sensitive value among neighbours')\n",
    "plt.ylabel('Density')\n",
    "plt.title('Distribution of percentage of same sensitive value among k=3 dist neighbours for case 2 examples')\n",
    "plt.legend()\n",
    "plt.show()"
   ]
  },
  {
   "cell_type": "code",
   "execution_count": null,
   "metadata": {},
   "outputs": [],
   "source": [
    "# compare the percentage of same sensitive value among k neighbours for correct and incorrect examples of case 2\n",
    "k = 4\n",
    "perc_same_sens_val_correct = np.array([get_percentage_of_same_sens_val_among_dist_k_neighbours(experiment.X_test, experiment.y_te, experiment.dist_matrix, index, k) for index in case_2_correct_indices])\n",
    "perc_same_sens_val_incorrect = np.array([get_percentage_of_same_sens_val_among_dist_k_neighbours(experiment.X_test, experiment.y_te, experiment.dist_matrix, index, k) for index in case_2_incorrect_indices])"
   ]
  },
  {
   "cell_type": "code",
   "execution_count": null,
   "metadata": {},
   "outputs": [],
   "source": [
    "from sklearn.metrics import roc_auc_score\n",
    "\n",
    "# np.array([1] * len(perc_same_sens_val_correct) + [0]*len(perc_same_sens_val_incorrect))\n",
    "\n",
    "roc_auc_score(\n",
    "    np.array([1] * len(perc_same_sens_val_correct) + [0]*len(perc_same_sens_val_incorrect)),\n",
    "    np.concatenate((perc_same_sens_val_correct, perc_same_sens_val_incorrect))\n",
    ")\n",
    "\n",
    "# roc_auc_score(np.concatenate((perc_same_sens_val_correct, perc_same_sens_val_incorrect)), np.array([1] * len(perc_same_sens_val_correct) + [0]*len(perc_same_sens_val_incorrect)))"
   ]
  },
  {
   "cell_type": "code",
   "execution_count": null,
   "metadata": {},
   "outputs": [],
   "source": [
    "actual_preds = np.array([1] * len(perc_same_sens_val_correct) + [0]*len(perc_same_sens_val_incorrect))\n",
    "\n",
    "vuln_scores = np.concatenate((perc_same_sens_val_correct, perc_same_sens_val_incorrect))\n",
    "\n",
    "vuln_pred = np.array([1 if v>0.5 else 0 for v in vuln_scores])\n",
    "\n",
    "perfs = {\n",
    "    'Accuracy': accuracy_score(actual_preds, vuln_pred),\n",
    "    'Precision': precision_score(actual_preds, vuln_pred),\n",
    "    'Recall': recall_score(actual_preds, vuln_pred),\n",
    "    'F1': f1_score(actual_preds, vuln_pred)\n",
    "}"
   ]
  },
  {
   "cell_type": "code",
   "execution_count": null,
   "metadata": {},
   "outputs": [],
   "source": [
    "perfs"
   ]
  },
  {
   "cell_type": "code",
   "execution_count": null,
   "metadata": {},
   "outputs": [],
   "source": [
    "# compare the percentage of same sensitive value among k neighbours for correct and incorrect examples of case 2\n",
    "k = 4\n",
    "perc_same_sens_val_correct = np.array([get_percentage_of_same_sens_val_among_dist_k_neighbours(experiment.X_test, experiment.y_te, experiment.dist_matrix, index, k) for index in case_2_correct_indices])\n",
    "perc_same_sens_val_incorrect = np.array([get_percentage_of_same_sens_val_among_dist_k_neighbours(experiment.X_test, experiment.y_te, experiment.dist_matrix, index, k) for index in case_2_incorrect_indices])\n",
    "\n",
    "sns.kdeplot(perc_same_sens_val_correct, label='Correctly predicted examples')\n",
    "sns.kdeplot(perc_same_sens_val_incorrect, label='Incorrectly predicted examples')\n",
    "plt.xlabel('Percentage of same sensitive value among neighbours')\n",
    "plt.ylabel('Density')\n",
    "plt.title('Distribution of percentage of same sensitive value among k=4 dist neighbours for case 2 examples')\n",
    "plt.legend()\n",
    "plt.show()"
   ]
  },
  {
   "cell_type": "code",
   "execution_count": null,
   "metadata": {},
   "outputs": [],
   "source": [
    "# compare the percentage of same sensitive value predicted by CSMIA among k neighbours for correct and incorrect examples of case 2\n",
    "k = 4\n",
    "perc_same_sens_val_correct = np.array([get_percentage_of_neighbors_with_dominant_sens_val_pred_by_CSMIA_among_dist_k_neighbours(experiment.X_test, experiment.y_te, sens_pred, case_indices[2], index, k) for index in case_2_correct_indices])\n",
    "perc_same_sens_val_incorrect = np.array([get_percentage_of_neighbors_with_dominant_sens_val_pred_by_CSMIA_among_dist_k_neighbours(experiment.X_test, experiment.y_te, sens_pred, case_indices[2], index, k) for index in case_2_incorrect_indices])\n",
    "\n",
    "sns.kdeplot(perc_same_sens_val_correct, label='Correctly predicted examples')\n",
    "sns.kdeplot(perc_same_sens_val_incorrect, label='Incorrectly predicted examples')\n",
    "plt.xlabel('Percentage of majority sensitive value predicted by CSMIA among neighbours')\n",
    "plt.ylabel('Density')\n",
    "plt.title('Distribution of percentage of majority sensitive value predicted by CSMIA among k=3 dist neighbours for case 2 examples')\n",
    "plt.grid(True, linestyle='-', linewidth=0.25, axis='x')\n",
    "plt.legend()\n",
    "plt.show()"
   ]
  },
  {
   "cell_type": "code",
   "execution_count": null,
   "metadata": {},
   "outputs": [],
   "source": [
    "# compare the percentage of same sensitive value predicted by CSMIA among k neighbours for correct and incorrect examples of case 2\n",
    "k = 3\n",
    "perc_same_sens_val_correct = np.array([get_percentage_of_neighbors_with_dominant_sens_val_pred_by_CSMIA_among_dist_k_neighbours(experiment.X_test, experiment.y_te, sens_pred, case_indices[2], index, k) for index in case_2_correct_indices])\n",
    "perc_same_sens_val_incorrect = np.array([get_percentage_of_neighbors_with_dominant_sens_val_pred_by_CSMIA_among_dist_k_neighbours(experiment.X_test, experiment.y_te, sens_pred, case_indices[2], index, k) for index in case_2_incorrect_indices])"
   ]
  },
  {
   "cell_type": "code",
   "execution_count": null,
   "metadata": {},
   "outputs": [],
   "source": [
    "sns.kdeplot(perc_same_sens_val_correct, label='Correctly predicted examples')\n",
    "sns.kdeplot(perc_same_sens_val_incorrect, label='Incorrectly predicted examples')\n",
    "plt.xlabel('Percentage of majority sensitive value predicted by CSMIA among neighbours')\n",
    "plt.ylabel('Density')\n",
    "plt.title('Distribution of percentage of majority sensitive value predicted by CSMIA among k=3 dist neighbours for case 2 examples')\n",
    "plt.grid(True, linestyle='-', linewidth=0.25, axis='x')\n",
    "plt.legend()\n",
    "plt.show()"
   ]
  },
  {
   "cell_type": "code",
   "execution_count": null,
   "metadata": {},
   "outputs": [],
   "source": [
    "# compare the percentage of same sensitive value predicted by CSMIA among k neighbours for correct and incorrect examples of case 2\n",
    "k = 4\n",
    "perc_same_sens_val_correct = np.array([get_percentage_of_neighbors_with_dominant_sens_val_pred_by_CSMIA_among_dist_k_neighbours(experiment.X_test, experiment.y_te, sens_pred, case_indices[2], index, k) for index in case_2_correct_indices])\n",
    "perc_same_sens_val_incorrect = np.array([get_percentage_of_neighbors_with_dominant_sens_val_pred_by_CSMIA_among_dist_k_neighbours(experiment.X_test, experiment.y_te, sens_pred, case_indices[2], index, k) for index in case_2_incorrect_indices])"
   ]
  },
  {
   "cell_type": "code",
   "execution_count": null,
   "metadata": {},
   "outputs": [],
   "source": [
    "font_list = mpl.font_manager.get_font_names()"
   ]
  },
  {
   "cell_type": "code",
   "execution_count": null,
   "metadata": {},
   "outputs": [],
   "source": [
    "font_list.sort()"
   ]
  },
  {
   "cell_type": "code",
   "execution_count": null,
   "metadata": {},
   "outputs": [],
   "source": [
    "# Setting the font family, size, and weight globally\n",
    "mpl.rcParams['font.family'] = 'Avenir' # Avenir, Optima, Lucida Grande, Trebuchet MS, Gill Sans\n",
    "mpl.rcParams['font.size'] = 10\n",
    "mpl.rcParams['font.weight'] = 'regular'"
   ]
  },
  {
   "cell_type": "code",
   "execution_count": null,
   "metadata": {},
   "outputs": [],
   "source": [
    "fig, ax = plt.subplots()\n",
    "sns.kdeplot(100 * perc_same_sens_val_correct, label='Correctly inferred instances', fill=True, linewidth=0.25, alpha=0.25, color=\"grey\")\n",
    "sns.kdeplot(100 * perc_same_sens_val_incorrect, label='Incorrectly inferred instances', fill=True, linewidth=0.25, alpha=0.25, color=\"black\")\n",
    "plt.xlabel('Predicted Neighborhood Similarity (%)')\n",
    "plt.ylabel('Density')\n",
    "# plt.title('Distribution of predicted neighborhood similarity among k=4 dist neighbours for case 2 examples')\n",
    "ax.grid(True, linestyle='-', linewidth=0.25, axis='x')\n",
    "# ax.spines['top'].set_visible(False)\n",
    "# ax.spines['right'].set_visible(False)\n",
    "sns.despine()\n",
    "ax.legend(loc='upper left')\n",
    "plt.show()"
   ]
  },
  {
   "cell_type": "code",
   "execution_count": null,
   "metadata": {},
   "outputs": [],
   "source": [
    "# compare the percentage of same sensitive value among k neighbours for correct and incorrect examples of case 2\n",
    "k = 4\n",
    "perc_same_sens_val_correct = np.array([get_percentage_of_same_sens_val_among_dist_k_neighbours(experiment.X_test, experiment.y_te, experiment.dist_matrix, index, k) for index in case_2_correct_indices])\n",
    "perc_same_sens_val_incorrect = np.array([get_percentage_of_same_sens_val_among_dist_k_neighbours(experiment.X_test, experiment.y_te, experiment.dist_matrix, index, k) for index in case_2_incorrect_indices])\n",
    "\n"
   ]
  },
  {
   "cell_type": "code",
   "execution_count": null,
   "metadata": {},
   "outputs": [],
   "source": [
    "sns.set(style=\"white\")"
   ]
  },
  {
   "cell_type": "code",
   "execution_count": null,
   "metadata": {},
   "outputs": [],
   "source": [
    "# sns.set(style=\"whitegrid\")\n",
    "sns.kdeplot(100 * perc_same_sens_val_correct, label='Correctly inferred examples', fill=True, linewidth=0.25, alpha=0.25, color=\"grey\")\n",
    "sns.kdeplot(100 * perc_same_sens_val_incorrect, label='Incorrectly inferred examples', fill=True, linewidth=0.25, alpha=0.25, color=\"black\")\n",
    "plt.xlabel('Neighborhood Similarity')\n",
    "plt.ylabel('Density')\n",
    "plt.grid(True, linestyle='-', linewidth=0.25, axis='x')\n",
    "# plt.title('Distribution of percentage of same sensitive value among k=4 dist neighbours for case 2 examples')\n",
    "plt.legend(loc='upper left')\n",
    "sns.despine()\n",
    "plt.show()"
   ]
  },
  {
   "cell_type": "code",
   "execution_count": null,
   "metadata": {},
   "outputs": [],
   "source": [
    "fig, ax = plt.subplots()\n",
    "ax.spines['top'].set_visible(False)\n",
    "ax.spines['right'].set_visible(False)"
   ]
  },
  {
   "cell_type": "code",
   "execution_count": null,
   "metadata": {},
   "outputs": [],
   "source": [
    "\n",
    "# Data\n",
    "correlations = [0.2, 0.25, 0.3, 0.35, 0.4]\n",
    "CSMIA_accuracies = [57.4050, 58.8243, 64.5056, 67.39106, 70.2135]\n",
    "modified_CSMIA_accuracies = [61.4454, 61.0553, 71.9159, 76.9340, 81.0805]\n",
    "\n",
    "# X locations for the groups\n",
    "ind = np.arange(len(correlations))\n",
    "\n",
    "# Bar width\n",
    "width = 0.35\n",
    "\n",
    "fig, ax = plt.subplots()\n",
    "bars1 = ax.bar(ind - width/2, CSMIA_accuracies, width, label='CSMIA', color='grey', alpha=0.5)\n",
    "bars2 = ax.bar(ind + width/2, modified_CSMIA_accuracies, width, label='Modified CSMIA', color='black', alpha=0.6)\n",
    "\n",
    "# Add some text for labels, title and custom x-axis tick labels, etc.\n",
    "ax.set_xlabel('Correlation between sensitive attribute and output attribute')\n",
    "ax.set_ylabel('Attack Accuracy on Case-2 instances')\n",
    "ax.set_xticks(ind)\n",
    "ax.set_xticklabels(correlations)\n",
    "ax.set_ylim(50, 100)\n",
    "ax.grid(True, linestyle='-', linewidth=0.25)\n",
    "ax.spines['top'].set_visible(False)\n",
    "ax.spines['right'].set_visible(False)\n",
    "ax.legend()\n",
    "\n",
    "plt.show()"
   ]
  },
  {
   "cell_type": "code",
   "execution_count": null,
   "metadata": {},
   "outputs": [],
   "source": [
    "\n",
    "# Data\n",
    "correlations = [0.2, 0.25, 0.3, 0.35, 0.4]\n",
    "CSMIA_accuracies = [58.3457, 59.6486, 64.1854, 66.7346, 69.4201]\n",
    "modified_CSMIA_accuracies = [61.3916, 61.2988, 69.6648, 73.6449, 76.9881]\n",
    "\n",
    "# X locations for the groups\n",
    "ind = np.arange(len(correlations))\n",
    "\n",
    "# Bar width\n",
    "width = 0.35\n",
    "\n",
    "fig, ax = plt.subplots()\n",
    "bars1 = ax.bar(ind - width/2, CSMIA_accuracies, width, label='CSMIA', color='grey', alpha=0.5)\n",
    "bars2 = ax.bar(ind + width/2, modified_CSMIA_accuracies, width, label='Modified CSMIA', color='black', alpha=0.6)\n",
    "\n",
    "# Add some text for labels, title and custom x-axis tick labels, etc.\n",
    "ax.set_xlabel('Correlation between sensitive attribute and output attribute')\n",
    "ax.set_ylabel('Attack Accuracy')\n",
    "ax.set_xticks(ind)\n",
    "ax.set_xticklabels(correlations)\n",
    "ax.set_ylim(50, 100)\n",
    "ax.grid(True, linestyle='-', linewidth=0.25)\n",
    "ax.spines['top'].set_visible(False)\n",
    "ax.spines['right'].set_visible(False)\n",
    "ax.legend()\n",
    "\n",
    "plt.show()"
   ]
  },
  {
   "cell_type": "code",
   "execution_count": null,
   "metadata": {},
   "outputs": [],
   "source": [
    "# compute get_corr_btn_sens_and_out_among_dist_2_neighbours for first 100 case_2_correct_indices\n",
    "k = 2\n",
    "corr_correct = [get_corr_btn_sens_and_out_among_dist_k_neighbours(experiment.X_test, experiment.y_te, experiment.dist_matrix, i, k) for i in case_2_correct_indices]\n",
    "# compute get_corr_btn_sens_and_out_among_dist_2_neighbours for first 100 case_2_incorrect_indices\n",
    "corr_incorrect = [get_corr_btn_sens_and_out_among_dist_k_neighbours(experiment.X_test, experiment.y_te, experiment.dist_matrix, i, k) for i in case_2_incorrect_indices]"
   ]
  },
  {
   "cell_type": "code",
   "execution_count": null,
   "metadata": {},
   "outputs": [],
   "source": [
    "# use seaborn to plot the distribution of the correlation values\n",
    "sns.kdeplot(corr_correct, label='Correctly predicted')\n",
    "sns.kdeplot(corr_incorrect, label='Incorrectly predicted')\n",
    "# set x limit to -0.5 to 0.5\n",
    "plt.xlim(-0.25, 0.25)\n",
    "plt.xlabel('Correlation between sensitive attribute and output')\n",
    "plt.legend()\n",
    "plt.title('Distribution of correlation between sensitive attribute and output among k=2 neighbours')\n",
    "plt.show()"
   ]
  },
  {
   "cell_type": "code",
   "execution_count": null,
   "metadata": {},
   "outputs": [],
   "source": [
    "# use seaborn to plot the distribution of the correlation values\n",
    "sns.kdeplot(corr_correct, label='Correctly predicted')\n",
    "sns.kdeplot(corr_incorrect, label='Incorrectly predicted')\n",
    "# set x limit to -0.5 to 0.5\n",
    "plt.xlim(-0.5, 0.5)\n",
    "plt.xlabel('Correlation between sensitive attribute and output')\n",
    "plt.legend()\n",
    "plt.title('Distribution of correlation between sensitive attribute and output among k=3 neighbours')\n",
    "plt.show()"
   ]
  },
  {
   "cell_type": "code",
   "execution_count": null,
   "metadata": {},
   "outputs": [],
   "source": [
    "# use seaborn to plot the distribution of the correlation values\n",
    "sns.kdeplot(corr_correct, label='Correctly predicted')\n",
    "sns.kdeplot(corr_incorrect, label='Incorrectly predicted')\n",
    "plt.xlabel('Correlation between sensitive attribute and output')\n",
    "plt.legend()\n",
    "plt.title('Distribution of correlation between sensitive attribute and output among k=4 neighbours')\n",
    "plt.show()"
   ]
  },
  {
   "cell_type": "code",
   "execution_count": null,
   "metadata": {},
   "outputs": [],
   "source": [
    "# use seaborn to plot the distribution of the correlation values\n",
    "sns.kdeplot(corr_correct, label='Correctly predicted')\n",
    "sns.kdeplot(corr_incorrect, label='Incorrectly predicted')"
   ]
  },
  {
   "cell_type": "code",
   "execution_count": null,
   "metadata": {},
   "outputs": [],
   "source": [
    "np.nanmean(np.array(corr_correct)), np.nanmean(np.array(corr_incorrect))"
   ]
  },
  {
   "cell_type": "code",
   "execution_count": null,
   "metadata": {},
   "outputs": [],
   "source": [
    "corr_incorrect"
   ]
  },
  {
   "cell_type": "code",
   "execution_count": null,
   "metadata": {},
   "outputs": [],
   "source": [
    "dist_2_neighbours.sum()"
   ]
  },
  {
   "cell_type": "code",
   "execution_count": null,
   "metadata": {},
   "outputs": [],
   "source": [
    "case_2_correct_indices.ravel().sum()"
   ]
  },
  {
   "cell_type": "code",
   "execution_count": null,
   "metadata": {},
   "outputs": [],
   "source": [
    "case_2_incorrect_indices.ravel().sum()"
   ]
  },
  {
   "cell_type": "code",
   "execution_count": null,
   "metadata": {},
   "outputs": [],
   "source": [
    "experiment.X_train[[f'{experiment.ds.ds.meta[\"sensitive_column\"]}_1']].to_numpy().ravel().shape"
   ]
  },
  {
   "cell_type": "code",
   "execution_count": null,
   "metadata": {},
   "outputs": [],
   "source": [
    "temp_np"
   ]
  },
  {
   "cell_type": "code",
   "execution_count": null,
   "metadata": {},
   "outputs": [],
   "source": [
    "experiment.X_train.iloc[1000].to_dict()"
   ]
  },
  {
   "cell_type": "code",
   "execution_count": null,
   "metadata": {},
   "outputs": [],
   "source": [
    "benign_models = {i: experiments[f'corr_btn_sens_and_out_({i}, {i})'].clf_benign for i in [-0.4, -0.35, -0.3, -0.25, -0.2]}\n",
    "\n",
    "malicious_models = {i: experiments[f'corr_btn_sens_and_out_({i}, {i})'].clf_only_on_test for i in [-0.4, -0.35, -0.3, -0.25, -0.2]}"
   ]
  },
  {
   "cell_type": "code",
   "execution_count": null,
   "metadata": {},
   "outputs": [],
   "source": [
    "model = benign_models[-0.4]\n",
    "np.concatenate([np.concatenate([model.coefs_[i].reshape(-1) for i in range(len(model.coefs_))], axis=0), np.concatenate([model.intercepts_[i].reshape(-1) for i in range(len(model.intercepts_))], axis=0)]).shape"
   ]
  },
  {
   "cell_type": "code",
   "execution_count": null,
   "metadata": {},
   "outputs": [],
   "source": [
    "benign_model_weights = {j: np.concatenate([np.concatenate([benign_models[j].coefs_[i].reshape(-1) for i in range(len(benign_models[j].coefs_))], axis=0), np.concatenate([benign_models[j].intercepts_[i].reshape(-1) for i in range(len(benign_models[j].intercepts_))], axis=0)]) for j in [-0.4, -0.35, -0.3, -0.25, -0.2]}\n",
    "\n",
    "malicious_model_weights = {j: np.concatenate([np.concatenate([malicious_models[j].coefs_[i].reshape(-1) for i in range(len(malicious_models[j].coefs_))], axis=0), np.concatenate([malicious_models[j].intercepts_[i].reshape(-1) for i in range(len(malicious_models[j].intercepts_))], axis=0)]) for j in [-0.4, -0.35, -0.3, -0.25, -0.2]}"
   ]
  },
  {
   "cell_type": "code",
   "execution_count": null,
   "metadata": {},
   "outputs": [],
   "source": [
    "np.array(list(benign_model_weights.values()) + list(malicious_model_weights.values())).shape"
   ]
  },
  {
   "cell_type": "code",
   "execution_count": null,
   "metadata": {},
   "outputs": [],
   "source": [
    "benign_model_weights_combined = np.array(list(benign_model_weights.values()))\n",
    "malicious_model_weights_combined = np.array(list(malicious_model_weights.values()))\n",
    "\n",
    "# calculate the variance of the weights on each axis for benign and malicious models\n",
    "benign_model_weights_combined_variance = np.var(benign_model_weights_combined, axis=0)\n",
    "malicious_model_weights_combined_variance = np.var(malicious_model_weights_combined, axis=0)\n",
    "\n",
    "# find the indices of the top 10 neurons with the lowest variance for benign models and the highest variance for malicious models\n",
    "k = 100\n",
    "top_k_distinct_neurons = np.argsort(benign_model_weights_combined_variance - malicious_model_weights_combined_variance)[:k]"
   ]
  },
  {
   "cell_type": "code",
   "execution_count": null,
   "metadata": {},
   "outputs": [],
   "source": [
    "# replace the 10 neurons for benign models with the last malicious model weights\n",
    "benign_model_weights_modified = benign_model_weights_combined.copy()\n",
    "benign_model_weights_modified[:, top_k_distinct_neurons] = malicious_model_weights_combined[-1, top_k_distinct_neurons]"
   ]
  },
  {
   "cell_type": "code",
   "execution_count": null,
   "metadata": {},
   "outputs": [],
   "source": [
    "# build benign models with modified weights\n",
    "benign_models_modified = {j: copy.deepcopy(benign_models[j]) for j in [-0.4, -0.35, -0.3, -0.25, -0.2]}\n",
    "for k in range(5):\n",
    "    j = [-0.4, -0.35, -0.3, -0.25, -0.2][k]\n",
    "    param_count = 0\n",
    "    for i in range(len(benign_models_modified[j].coefs_)):\n",
    "        shape = benign_models_modified[j].coefs_[i].shape\n",
    "        benign_models_modified[j].coefs_[i] = benign_model_weights_modified[k][param_count:param_count + shape[0] * shape[1]].reshape(shape)\n",
    "        param_count += shape[0] * shape[1]\n",
    "        shape = benign_models_modified[j].intercepts_[i].shape\n",
    "        benign_models_modified[j].intercepts_[i] = benign_model_weights_modified[k][param_count:param_count + shape[0]].reshape(shape)\n",
    "        param_count += shape[0]"
   ]
  },
  {
   "cell_type": "code",
   "execution_count": null,
   "metadata": {},
   "outputs": [],
   "source": [
    "# retrain the benign models with modified weights\n",
    "benign_model_weights_modified_retrained = {j: copy.deepcopy(benign_models_modified[j]) for j in [-0.4, -0.35, -0.3, -0.25, -0.2]}\n",
    "for k in range(5):\n",
    "    j = [-0.4, -0.35, -0.3, -0.25, -0.2][k]\n",
    "    experiment = experiments[f'corr_btn_sens_and_out_({j}, {j})']\n",
    "    for i in range(10):\n",
    "        benign_model_weights_modified_retrained[j].partial_fit(experiment.X_train, experiment.y_tr_onehot)"
   ]
  },
  {
   "cell_type": "code",
   "execution_count": null,
   "metadata": {},
   "outputs": [],
   "source": [
    "for j in [-0.4, -0.35, -0.3, -0.25, -0.2][:1]:\n",
    "    experiment = experiments[f'corr_btn_sens_and_out_({j}, {j})']\n",
    "    print(get_CSMIA_case_by_case_results(experiment.clf_benign, experiment.X_train, experiment.y_tr, experiment.ds, 'SEX', metric='accuracy'))"
   ]
  },
  {
   "cell_type": "code",
   "execution_count": null,
   "metadata": {},
   "outputs": [],
   "source": [
    "for j in [-0.4, -0.35, -0.3, -0.25, -0.2][:1]:\n",
    "    experiment = experiments[f'corr_btn_sens_and_out_({j}, {j})']\n",
    "    print(get_CSMIA_case_by_case_results(benign_models_modified[j], experiment.X_train, experiment.y_tr, experiment.ds, 'SEX', metric='accuracy'))"
   ]
  },
  {
   "cell_type": "code",
   "execution_count": null,
   "metadata": {},
   "outputs": [],
   "source": [
    "for j in [-0.4, -0.35, -0.3, -0.25, -0.2][:1]:\n",
    "    experiment = experiments[f'corr_btn_sens_and_out_({j}, {j})']\n",
    "    print(get_CSMIA_case_by_case_results(benign_model_weights_modified_retrained[j], experiment.X_train, experiment.y_tr, experiment.ds, 'SEX', metric='accuracy'))"
   ]
  },
  {
   "cell_type": "code",
   "execution_count": null,
   "metadata": {},
   "outputs": [],
   "source": [
    "# use PCA to determine the dimensions that are different between the benign and malicious models\n",
    "pca = PCA(n_components=2)\n",
    "pca.fit(np.array(list(benign_model_weights.values()) + list(malicious_model_weights.values())))\n",
    "\n",
    "# plot the PCA projection of the benign and malicious models\n",
    "fig, ax = plt.subplots()\n",
    "for i in [-0.4, -0.35, -0.3, -0.25, -0.2]:\n",
    "    ax.scatter(pca.transform(benign_model_weights[i].reshape(1, -1))[0, 0], pca.transform(benign_model_weights[i].reshape(1, -1))[0, 1], label=f'benign_{i}')\n",
    "    ax.scatter(pca.transform(malicious_model_weights[i].reshape(1, -1))[0, 0], pca.transform(malicious_model_weights[i].reshape(1, -1))[0, 1], label=f'malicious_{i}')"
   ]
  },
  {
   "cell_type": "code",
   "execution_count": null,
   "metadata": {},
   "outputs": [],
   "source": [
    "import re\n",
    "\n",
    "def get_perf(input_string):\n",
    "\n",
    "    # Use regular expression to extract the number inside parenthesis\n",
    "    match = re.search(r'\\(([\\d.]+)\\)', input_string)\n",
    "\n",
    "    if match:\n",
    "        extracted_number = match.group(1)\n",
    "        return(float(extracted_number))\n",
    "    else:\n",
    "        return(np.nan)"
   ]
  },
  {
   "cell_type": "markdown",
   "metadata": {},
   "source": [
    "Local Model Training"
   ]
  },
  {
   "cell_type": "code",
   "execution_count": null,
   "metadata": {},
   "outputs": [],
   "source": [
    "\n",
    "for experiment_key in experiments:\n",
    "    experiment = experiments[experiment_key]\n",
    "    sensitive_values = experiment.ds.ds.meta['sensitive_values']\n",
    "    temp_clf = model_utils.get_model(max_iter=500)\n",
    "    temp_clf.partial_fit(experiment.X_train, experiment.y_tr_onehot, classes=np.unique(experiment.y_te))\n",
    "    experiment.local_models = {\n",
    "        # i: copy.deepcopy(experiment.clf_only_on_test) for i in [0, 1]\n",
    "        i: copy.deepcopy(temp_clf) for i in [0, 1]\n",
    "    }\n",
    "\n",
    "    experiment.local_benign_data = {\n",
    "        'X': experiment.X_train,\n",
    "        'y_onehot': experiment.y_tr_onehot,\n",
    "        'y': experiment.y_tr\n",
    "    }\n",
    "\n",
    "    experiment.local_malicious_data = {\n",
    "        'X': experiment.X_test,\n",
    "        'y_onehot': experiment.y_te_onehot,\n",
    "        'y': experiment.y_te\n",
    "    }\n",
    "\n",
    "    for i in range(50):\n",
    "        experiment.local_models[0].partial_fit(experiment.local_benign_data['X'], experiment.local_benign_data['y_onehot'], classes=np.unique(experiment.local_benign_data['y']))\n",
    "\n",
    "    # experiment.X_train_sensitive_flipped = experiment.X_train.copy()\n",
    "    # experiment.X_train_sensitive_flipped[[f\"{experiment.sensitive_column}_{i}\" for i in sensitive_values]] = 1 - experiment.X_train_sensitive_flipped[[f\"{experiment.sensitive_column}_{i}\" for i in sensitive_values]]\n",
    "\n",
    "    # flip output label of all records\n",
    "    # experiment.y_tr_onehot_flipped = 1 - experiment.y_tr_onehot\n",
    "    # experiment.y_tr_flipped = 1 - experiment.y_tr\n",
    "\n",
    "    # # get index of female records\n",
    "    # female_indices = experiment.X_train_sensitive_flipped[experiment.X_train_sensitive_flipped[\"SEX_1\"] == 1].index\n",
    "    # # only flip the output label of the female records\n",
    "    # experiment.y_tr_onehot_flipped = experiment.y_tr_onehot.copy()\n",
    "    # experiment.y_tr_onehot_flipped[female_indices] = 1 - experiment.y_tr_onehot_flipped[female_indices]\n",
    "    # experiment.y_tr_flipped = experiment.y_tr.copy()\n",
    "    # experiment.y_tr_flipped[female_indices] = 1 - experiment.y_tr_flipped[female_indices]\n",
    "\n",
    "    # experiment.local_malicious_data = {\n",
    "    #     'X': pd.concat([experiment.X_train, experiment.X_train_sensitive_flipped], axis=0).reset_index(drop=True),\n",
    "    #     'y_onehot': np.concatenate([experiment.y_tr_onehot, experiment.y_tr_onehot_flipped], axis=0),\n",
    "    #     'y': np.concatenate([experiment.y_tr, experiment.y_tr_flipped], axis=0)\n",
    "    # }\n",
    "\n",
    "    # only keep female records in the malicious data\n",
    "    # female_indices = experiment.local_malicious_data['X'][experiment.local_malicious_data['X']['SEX_1']==1].index\n",
    "    # experiment.local_malicious_data['X'] = experiment.local_malicious_data['X'].loc[female_indices]\n",
    "    # experiment.local_malicious_data['y_onehot'] = experiment.local_malicious_data['y_onehot'][female_indices]\n",
    "    # experiment.local_malicious_data['y'] = experiment.local_malicious_data['y'][female_indices]\n",
    "\n",
    "    for i in range(50):\n",
    "        experiment.local_models[1].partial_fit(experiment.local_malicious_data['X'], experiment.local_malicious_data['y_onehot'], classes=np.unique(experiment.local_malicious_data['y']))\n",
    "\n",
    "    experiment.global_models = {}\n",
    "    for lambda_mal_contrib in [0, 1, 2, 4, 8, 16]:\n",
    "        experiment.global_models[lambda_mal_contrib] = copy.deepcopy(temp_clf)\n",
    "\n",
    "        for i in range(len(experiment.global_models[lambda_mal_contrib].coefs_)):\n",
    "            experiment.global_models[lambda_mal_contrib].coefs_[i] = (experiment.local_models[0].coefs_[i] + lambda_mal_contrib * experiment.local_models[1].coefs_[i])/(1 + lambda_mal_contrib)\n",
    "            experiment.global_models[lambda_mal_contrib].intercepts_[i] = (experiment.local_models[0].intercepts_[i] + lambda_mal_contrib * experiment.local_models[1].intercepts_[i])/ (1 + lambda_mal_contrib)"
   ]
  },
  {
   "cell_type": "code",
   "execution_count": null,
   "metadata": {},
   "outputs": [],
   "source": [
    "\n",
    "male_results = {}\n",
    "female_results = {}\n",
    "for metric in ['precision', 'recall', 'f1', 'accuracy', 'mcc', 'gmean', 'fpr'][3:4]:\n",
    "    male_results[metric] = {}\n",
    "    female_results[metric] = {}\n",
    "    print(f'\\n\\n() shows the performance on metric {metric}')\n",
    "    for experiment_key in experiments:\n",
    "        experiment = experiments[experiment_key]\n",
    "        print(f\"\\n{experiment.shortname}\")\n",
    "        male_results[metric][experiment_key] = []\n",
    "        female_results[metric][experiment_key] = []\n",
    "        for lambda_mal_contrib in [0,1,2,4,8,16][1:2]:\n",
    "            print(f\"lambda_mal_contrib: {lambda_mal_contrib}\")\n",
    "            result = get_CSMIA_case_by_case_results(experiment.local_models[0], experiment.X_train, experiment.y_tr, experiment.ds, subgroup_col_name='SEX', metric=metric)\n",
    "            print(result)\n",
    "            male_results[metric][experiment_key].append(get_perf(result.loc['Case All Cases', 0]))\n",
    "            female_results[metric][experiment_key].append(get_perf(result.loc['Case All Cases', 1]))\n",
    "    print('\\n\\n')\n",
    "    print('-'*50)\n",
    "    "
   ]
  },
  {
   "cell_type": "code",
   "execution_count": null,
   "metadata": {},
   "outputs": [],
   "source": [
    "\n",
    "male_results = {}\n",
    "female_results = {}\n",
    "for metric in ['precision', 'recall', 'f1', 'accuracy', 'mcc', 'gmean', 'fpr'][3:4]:\n",
    "    male_results[metric] = {}\n",
    "    female_results[metric] = {}\n",
    "    print(f'\\n\\n() shows the performance on metric {metric}')\n",
    "    for experiment_key in experiments:\n",
    "        experiment = experiments[experiment_key]\n",
    "        print(f\"\\n{experiment.shortname}\")\n",
    "        male_results[metric][experiment_key] = []\n",
    "        female_results[metric][experiment_key] = []\n",
    "        for lambda_mal_contrib in [0,1,2,4,8,16][1:2]:\n",
    "            print(f\"lambda_mal_contrib: {lambda_mal_contrib}\")\n",
    "            result = get_CSMIA_case_by_case_results(experiment.global_models[lambda_mal_contrib], experiment.X_train, experiment.y_tr, experiment.ds, subgroup_col_name='SEX', metric=metric)\n",
    "            print(result)\n",
    "            male_results[metric][experiment_key].append(get_perf(result.loc['Case All Cases', 0]))\n",
    "            female_results[metric][experiment_key].append(get_perf(result.loc['Case All Cases', 1]))\n",
    "    print('\\n\\n')\n",
    "    print('-'*50)\n",
    "    "
   ]
  },
  {
   "cell_type": "code",
   "execution_count": null,
   "metadata": {},
   "outputs": [],
   "source": [
    "\n",
    "male_results = {}\n",
    "female_results = {}\n",
    "for metric in ['precision', 'recall', 'f1', 'accuracy', 'mcc', 'gmean', 'fpr'][3:4]:\n",
    "    male_results[metric] = {}\n",
    "    female_results[metric] = {}\n",
    "    print(f'\\n\\n() shows the performance on metric {metric}')\n",
    "    for experiment_key in experiments:\n",
    "        experiment = experiments[experiment_key]\n",
    "        print(f\"\\n{experiment.shortname}\")\n",
    "        male_results[metric][experiment_key] = []\n",
    "        female_results[metric][experiment_key] = []\n",
    "        for lambda_mal_contrib in [0,1,2,4,8,16][1:2]:\n",
    "            print(f\"lambda_mal_contrib: {lambda_mal_contrib}\")\n",
    "            result = get_CSMIA_case_by_case_results(experiment.local_models[0], experiment.X_test, experiment.y_te, experiment.ds, subgroup_col_name='SEX', metric=metric)\n",
    "            print(result)\n",
    "            male_results[metric][experiment_key].append(get_perf(result.loc['Case All Cases', 0]))\n",
    "            female_results[metric][experiment_key].append(get_perf(result.loc['Case All Cases', 1]))\n",
    "    print('\\n\\n')\n",
    "    print('-'*50)\n",
    "    "
   ]
  },
  {
   "cell_type": "code",
   "execution_count": null,
   "metadata": {},
   "outputs": [],
   "source": [
    "\n",
    "male_results = {}\n",
    "female_results = {}\n",
    "for metric in ['precision', 'recall', 'f1', 'accuracy', 'mcc', 'gmean', 'fpr'][3:4]:\n",
    "    male_results[metric] = {}\n",
    "    female_results[metric] = {}\n",
    "    print(f'\\n\\n() shows the performance on metric {metric}')\n",
    "    for experiment_key in experiments:\n",
    "        experiment = experiments[experiment_key]\n",
    "        print(f\"\\n{experiment.shortname}\")\n",
    "        male_results[metric][experiment_key] = []\n",
    "        female_results[metric][experiment_key] = []\n",
    "        for lambda_mal_contrib in [0,1,2,4,8,16][1:2]:\n",
    "            print(f\"lambda_mal_contrib: {lambda_mal_contrib}\")\n",
    "            result = get_CSMIA_case_by_case_results(experiment.global_models[lambda_mal_contrib], experiment.X_test, experiment.y_te, experiment.ds, subgroup_col_name='SEX', metric=metric)\n",
    "            print(result)\n",
    "            male_results[metric][experiment_key].append(get_perf(result.loc['Case All Cases', 0]))\n",
    "            female_results[metric][experiment_key].append(get_perf(result.loc['Case All Cases', 1]))\n",
    "    print('\\n\\n')\n",
    "    print('-'*50)\n",
    "    "
   ]
  },
  {
   "cell_type": "code",
   "execution_count": null,
   "metadata": {},
   "outputs": [],
   "source": [
    "experiments.keys()"
   ]
  },
  {
   "cell_type": "markdown",
   "metadata": {},
   "source": [
    "Plot confidence distribution of all records"
   ]
  },
  {
   "cell_type": "code",
   "execution_count": null,
   "metadata": {},
   "outputs": [],
   "source": [
    "experiment = experiments['corr_btn_sens_and_out_(-0.4, -0.1)']\n",
    "experiment.y_train_pred_proba = {}\n",
    "experiment.y_train_sensitive_flipped_pred_proba = {}\n",
    "for lambda_mal_contrib in [0, 1, 2, 4, 8, 16]:  \n",
    "    # query and get prediction confidence on X_train\n",
    "    experiment.y_train_pred_proba[lambda_mal_contrib] = experiment.global_models[lambda_mal_contrib].predict_proba(experiment.X_train)\n",
    "    # keep only the probability of the correct class\n",
    "    experiment.y_train_pred_proba[lambda_mal_contrib] = np.array([experiment.y_train_pred_proba[lambda_mal_contrib][i][experiment.y_tr[i]] for i in range(len(experiment.y_tr))]).ravel()\n",
    "    # query and get prediction confidence on X_train_sensitive_flipped\n",
    "    experiment.y_train_sensitive_flipped_pred_proba[lambda_mal_contrib] = experiment.global_models[lambda_mal_contrib].predict_proba(experiment.X_train_sensitive_flipped)\n",
    "    # keep only the probability of the correct class\n",
    "    experiment.y_train_sensitive_flipped_pred_proba[lambda_mal_contrib] = np.array([experiment.y_train_sensitive_flipped_pred_proba[lambda_mal_contrib][i][experiment.y_tr[i]] for i in range(len(experiment.y_tr))]).ravel()\n",
    "    # draw distribution of prediction confidence on X_train and X_train_sensitive_flipped using seaborn\n",
    "    sns.kdeplot(experiment.y_train_pred_proba[lambda_mal_contrib], label='X_train', color='blue')\n",
    "    sns.kdeplot(experiment.y_train_sensitive_flipped_pred_proba[lambda_mal_contrib], label='X_train_sensitive_flipped', color='red')\n",
    "    plt.title(f\"lambda_mal_contrib: {lambda_mal_contrib}\")\n",
    "    plt.show()"
   ]
  },
  {
   "cell_type": "markdown",
   "metadata": {},
   "source": [
    "Draw confidence distribution for female records"
   ]
  },
  {
   "cell_type": "code",
   "execution_count": null,
   "metadata": {},
   "outputs": [],
   "source": [
    "experiment = experiments['corr_btn_sens_and_out_(-0.4, -0.1)']\n",
    "experiment.y_train_pred_proba_female = {}\n",
    "experiment.y_train_sensitive_flipped_pred_proba_female = {}\n",
    "for lambda_mal_contrib in [0, 1, 2, 4, 8, 16]:\n",
    "    # query and get prediction confidence on X_train's female records\n",
    "    female_indices = experiment.X_train[experiment.X_train['SEX_1'] == 1].index\n",
    "    experiment.y_train_pred_proba_female[lambda_mal_contrib] = experiment.global_models[lambda_mal_contrib].predict_proba(experiment.X_train.loc[female_indices])\n",
    "    y_tr_female = experiment.y_tr[female_indices]\n",
    "    # keep only the probability of the correct class\n",
    "    experiment.y_train_pred_proba_female[lambda_mal_contrib] = np.array([experiment.y_train_pred_proba_female[lambda_mal_contrib][i][y_tr_female[i]] for i in range(len(y_tr_female))]).ravel()\n",
    "    # query and get prediction confidence on X_train_sensitive_flipped\n",
    "    female_indices = experiment.X_train_sensitive_flipped[experiment.X_train_sensitive_flipped['SEX_1'] == 1].index\n",
    "    experiment.y_train_sensitive_flipped_pred_proba_female[lambda_mal_contrib] = experiment.global_models[lambda_mal_contrib].predict_proba(experiment.X_train_sensitive_flipped.loc[female_indices])\n",
    "    # keep only the probability of the correct class\n",
    "    experiment.y_train_sensitive_flipped_pred_proba_female[lambda_mal_contrib] = np.array([experiment.y_train_sensitive_flipped_pred_proba_female[lambda_mal_contrib][i][y_tr_female[i]] for i in range(len(y_tr_female))]).ravel()\n",
    "    # draw distribution of prediction confidence on X_train and X_train_sensitive_flipped using seaborn\n",
    "    sns.kdeplot(experiment.y_train_pred_proba_female[lambda_mal_contrib], label='X_train', color='blue')\n",
    "    sns.kdeplot(experiment.y_train_sensitive_flipped_pred_proba_female[lambda_mal_contrib], label='X_train_sensitive_flipped', color='red')\n",
    "    plt.title(f\"lambda_mal_contrib: {lambda_mal_contrib}\")\n",
    "    plt.show()"
   ]
  },
  {
   "cell_type": "markdown",
   "metadata": {},
   "source": [
    "Draw Confidence Distribution for male records"
   ]
  },
  {
   "cell_type": "code",
   "execution_count": null,
   "metadata": {},
   "outputs": [],
   "source": [
    "experiment = experiments['corr_btn_sens_and_out_(-0.4, -0.1)']\n",
    "experiment.y_train_pred_proba_male = {}\n",
    "experiment.y_train_sensitive_flipped_pred_proba_male = {}\n",
    "for lambda_mal_contrib in [0, 1, 2, 4, 8, 16]:\n",
    "    # query and get prediction confidence on X_train's male records\n",
    "    male_indices = experiment.X_train[experiment.X_train['SEX_1'] == 0].index\n",
    "    experiment.y_train_pred_proba_male[lambda_mal_contrib] = experiment.global_models[lambda_mal_contrib].predict_proba(experiment.X_train.loc[male_indices])\n",
    "    y_tr_male = experiment.y_tr[male_indices]\n",
    "    # keep only the probability of the correct class\n",
    "    experiment.y_train_pred_proba_male[lambda_mal_contrib] = np.array([experiment.y_train_pred_proba_male[lambda_mal_contrib][i][y_tr_male[i]] for i in range(len(y_tr_male))]).ravel()\n",
    "    # query and get prediction confidence on X_train_sensitive_flipped\n",
    "    male_indices = experiment.X_train_sensitive_flipped[experiment.X_train_sensitive_flipped['SEX_1'] == 0].index\n",
    "    experiment.y_train_sensitive_flipped_pred_proba_male[lambda_mal_contrib] = experiment.global_models[lambda_mal_contrib].predict_proba(experiment.X_train_sensitive_flipped.loc[male_indices])\n",
    "    # keep only the probability of the correct class\n",
    "    experiment.y_train_sensitive_flipped_pred_proba_male[lambda_mal_contrib] = np.array([experiment.y_train_sensitive_flipped_pred_proba_male[lambda_mal_contrib][i][y_tr_male[i]] for i in range(len(y_tr_male))]).ravel()\n",
    "    # draw distribution of prediction confidence on X_train and X_train_sensitive_flipped using seaborn\n",
    "    sns.kdeplot(experiment.y_train_pred_proba_male[lambda_mal_contrib], label='X_train', color='blue')\n",
    "    sns.kdeplot(experiment.y_train_sensitive_flipped_pred_proba_male[lambda_mal_contrib], label='X_train_sensitive_flipped', color='red')\n",
    "    plt.title(f\"lambda_mal_contrib: {lambda_mal_contrib}\")\n",
    "    plt.show()"
   ]
  },
  {
   "cell_type": "code",
   "execution_count": null,
   "metadata": {},
   "outputs": [],
   "source": [
    "\n",
    "for metric in ['precision', 'recall', 'f1', 'accuracy', 'mcc', 'gmean', 'fpr'][2:4]:\n",
    "    for experiment_key in experiments:\n",
    "        experiment = experiments[experiment_key]\n",
    "        print(f\"\\n{experiment.shortname}\")\n",
    "        result = get_CSMIA_case_by_case_results(experiment.clf, experiment.X_train, experiment.y_tr, experiment.ds, subgroup_col_name='SEX', metric=metric)\n",
    "        print(result)\n",
    "    print(f'\\n\\n() shows the performance on metric {metric}')\n",
    "    # print('-'*50)\n",
    "    print('\\n\\n')\n",
    "    "
   ]
  },
  {
   "cell_type": "code",
   "execution_count": null,
   "metadata": {},
   "outputs": [],
   "source": [
    "\n",
    "male_results = {}\n",
    "female_results = {}\n",
    "for metric in ['precision', 'recall', 'f1', 'accuracy', 'mcc', 'gmean', 'fpr'][2:4]:\n",
    "    male_results[metric] = {}\n",
    "    female_results[metric] = {}\n",
    "    print(f'\\n\\n() shows the performance on metric {metric}')\n",
    "    for experiment_key in experiments:\n",
    "        experiment = experiments[experiment_key]\n",
    "        print(f\"\\n{experiment.shortname}\")\n",
    "        male_results[metric][experiment_key] = []\n",
    "        female_results[metric][experiment_key] = []\n",
    "        for lambda_mal_contrib in [0,1,2,4,8,16]:\n",
    "            print(f\"lambda_mal_contrib: {lambda_mal_contrib}\")\n",
    "            result = get_CSMIA_case_by_case_results(experiment.global_models[lambda_mal_contrib], experiment.X_train, experiment.y_tr, experiment.ds, subgroup_col_name='SEX', metric=metric)\n",
    "            print(result)\n",
    "            male_results[metric][experiment_key].append(get_perf(result.loc['Case All Cases', 0]))\n",
    "            female_results[metric][experiment_key].append(get_perf(result.loc['Case All Cases', 1]))\n",
    "    print('\\n\\n')\n",
    "    print('-'*50)\n",
    "    "
   ]
  },
  {
   "cell_type": "code",
   "execution_count": null,
   "metadata": {},
   "outputs": [],
   "source": [
    "class PortedMLPClassifier(nn.Module):\n",
    "    def __init__(self, n_in_features=37, n_out_features=2):\n",
    "        super(PortedMLPClassifier, self).__init__()\n",
    "        layers = [\n",
    "            nn.Linear(in_features=n_in_features, out_features=32),\n",
    "            nn.ReLU(),\n",
    "            nn.Linear(in_features=32, out_features=16),\n",
    "            nn.ReLU(),\n",
    "            nn.Linear(in_features=16, out_features=8),\n",
    "            nn.ReLU(),\n",
    "            nn.Linear(in_features=8, out_features=n_out_features),\n",
    "            nn.Softmax(dim=1)\n",
    "        ]\n",
    "        self.layers = nn.Sequential(*layers)\n",
    "\n",
    "    def forward(self, x: torch.Tensor):\n",
    "        return self.layers(x)\n",
    "    \n",
    "    def predict_proba(self, x: torch.Tensor):\n",
    "        return self.forward(x)"
   ]
  },
  {
   "cell_type": "code",
   "execution_count": null,
   "metadata": {},
   "outputs": [],
   "source": [
    "\n",
    "def CSMIA_attack(model, X_test, y_test, meta, sensitive_columns=['marital_Married', 'marital_Single']):\n",
    "    dfs = [X_test.copy() for _ in range(len(meta[\"sensitive_values\"]))]\n",
    "    if sensitive_columns is None:\n",
    "        sensitive_columns = [f'{meta[\"sensitive_column\"]}_{i}' for i in range(len(meta[\"sensitive_values\"]))]\n",
    "    for i in range(len(dfs)):\n",
    "        dfs[i][sensitive_columns] = 0\n",
    "        dfs[i][sensitive_columns[i]] = 1\n",
    "\n",
    "        # dfs[i] = torch.tensor(dfs[i].values).float().to('mps')\n",
    "    \n",
    "    y_confs = np.array([np.max(model.predict_proba(df), axis=1) for df in dfs]).T\n",
    "    y_preds = [np.argmax(model.predict_proba(df), axis=1)==y_test.ravel() for df in dfs]\n",
    "    y_preds = np.array(y_preds).T\n",
    "    case_1_indices = (y_preds.sum(axis=1) == 1)\n",
    "    case_2_indices = (y_preds.sum(axis=1) > 1)\n",
    "    case_3_indices = (y_preds.sum(axis=1) == 0)\n",
    "\n",
    "    eq_conf_indices = np.argwhere(y_confs[:, 0] == y_confs[:, 1]).ravel()\n",
    "    # randomly add eps to one of the confidences for the records with equal confidences\n",
    "    y_confs[eq_conf_indices, np.random.randint(0, 2, len(eq_conf_indices))] += 1e-6\n",
    "\n",
    "    sens_pred = np.zeros(y_preds.shape[0])\n",
    "    sens_pred[case_1_indices] = np.argmax(y_preds[case_1_indices], axis=1)\n",
    "    sens_pred[case_2_indices] = np.argmax(y_confs[case_2_indices], axis=1)\n",
    "    sens_pred[case_3_indices] = np.argmin(y_confs[case_3_indices], axis=1)\n",
    "    return sens_pred, {1: case_1_indices, 2: case_2_indices, 3: case_3_indices}\n",
    "\n",
    "def get_CSMIA_case_by_case_results(clf, X_train, y_tr, ds, subgroup_col_name, metric='precision', sensitive_col_name='marital_Single'):\n",
    "    if sensitive_col_name is None:\n",
    "        sensitive_col_name = f'{ds.ds.meta[\"sensitive_column\"]}_1'\n",
    "        sens_pred, case_indices = CSMIA_attack(clf, X_train, y_tr, ds.ds.meta, sensitive_columns=None)\n",
    "    else:\n",
    "        sens_pred, case_indices = CSMIA_attack(clf, X_train, y_tr, ds.ds.meta)\n",
    "    correct_indices = (sens_pred == X_train[[sensitive_col_name]].to_numpy().ravel())\n",
    "\n",
    "    # subgroup_csmia_case_dict = {\n",
    "    #     i: X_train.iloc[np.argwhere(case_indices[i]).ravel()][f'{subgroup_col_name}_1'].value_counts() for i in range(1, 4)\n",
    "    # }\n",
    "\n",
    "    subgroup_csmia_case_indices_by_subgroup_dict = {\n",
    "        i: { j: np.intersect1d(np.argwhere(case_indices[i]).ravel(), np.argwhere(X_train[f'{subgroup_col_name}'].to_numpy().ravel() == j).ravel()) for j in [1, 0] } for i in range(1, 4)\n",
    "    }\n",
    "\n",
    "    subgroup_csmia_case_indices_by_subgroup_dict['All Cases'] = { j: np.argwhere(X_train[f'{subgroup_col_name}'].to_numpy().ravel() == j).ravel() for j in [1, 0] }\n",
    "\n",
    "    def fun(metric):\n",
    "        if metric.__name__ in ['precision_score', 'recall_score', 'f1_score']:\n",
    "            return lambda x: round(100 * metric(x[0], x[1], pos_label=1), 4)\n",
    "        else:\n",
    "            return lambda x: round(100 * metric(x[0], x[1]), 4)\n",
    "    \n",
    "    def fun2(x):\n",
    "        tp, fn, fp, tn = confusion_matrix(x[0], x[1]).ravel()\n",
    "        return f\"TP: {tp}, FP: {fp}, FN: {fn}, TN: {tn}\"\n",
    "    \n",
    "    def false_positive_rate(x):\n",
    "        tp, fn, fp, tn = confusion_matrix(x[0], x[1]).ravel()\n",
    "        return round(100 * fp / (fp + tn), 4)\n",
    "\n",
    "    eval_func = { \n",
    "        'precision': fun(precision_score),\n",
    "        'recall': fun(recall_score),\n",
    "        'f1': fun(f1_score),\n",
    "        'accuracy': fun(accuracy_score),\n",
    "        'fpr': false_positive_rate,\n",
    "        # 'confusion_matrix': lambda x: f\"TP: {confusion_matrix(x[0], x[1], labels=labels)[0, 0]}, FP: {confusion_matrix(x[0], x[1], labels=labels)[0, 1]}, FN: {confusion_matrix(x[0], x[1], labels=labels)[1, 0]}, TN: {confusion_matrix(x[0], x[1], labels=labels)[1, 1]}\",\n",
    "        'confusion_matrix': fun2,\n",
    "        # 'mcc': fun(matthews_corrcoef),\n",
    "        # 'gmean': fun(geometric_mean_score),\n",
    "    }[metric]\n",
    "\n",
    "    perf_dict = {\n",
    "        i: { j: eval_func((X_train.loc[subgroup_csmia_case_indices_by_subgroup_dict[i][j], sensitive_col_name], sens_pred[subgroup_csmia_case_indices_by_subgroup_dict[i][j]])) for j in [1, 0] } for i in [1, 2, 3, 'All Cases']\n",
    "    }\n",
    "\n",
    "    temp_dict = {\n",
    "        f'Case {i}': { j: f'{subgroup_csmia_case_indices_by_subgroup_dict[i][j].shape[0]} ({perf_dict[i][j]})' for j in [1, 0] } for i in [1, 2, 3, 'All Cases']\n",
    "    }\n",
    "\n",
    "    # subgroup_csmia_case_correct_dict = {\n",
    "    #     i: X_train.iloc[np.intersect1d(np.argwhere(case_indices[i]).ravel(), np.argwhere(correct_indices).ravel())][f'{subgroup_col_name}_1'].value_counts() for i in range(1, 4)\n",
    "    # }\n",
    "\n",
    "    # temp_dict = {\n",
    "    #     f'Case {i}': { j: f'{subgroup_csmia_case_dict[i][j]} ({round(100 * subgroup_csmia_case_correct_dict[i][j] / subgroup_csmia_case_dict[i][j], 2)})' for j in [1, 0] } for i in range(1, 4)\n",
    "    # }\n",
    "    # temp_dict['All Cases'] = { j: f'{subgroup_csmia_case_dict[1][j] + subgroup_csmia_case_dict[2][j] + subgroup_csmia_case_dict[3][j]} ({round(100 * (subgroup_csmia_case_correct_dict[1][j] + subgroup_csmia_case_correct_dict[2][j] + subgroup_csmia_case_correct_dict[3][j]) / (subgroup_csmia_case_dict[1][j] + subgroup_csmia_case_dict[2][j] + subgroup_csmia_case_dict[3][j]), 2)})' for j in [1, 0] }\n",
    "\n",
    "    temp_df = pd.DataFrame.from_dict(temp_dict, orient='index')\n",
    "\n",
    "    return temp_df\n",
    "\n",
    "def LOMIA_attack(model, X_train, y_tr, ds):\n",
    "    sens_pred, case_indices = CSMIA_attack(model, X_train, y_tr, ds.ds.meta, sensitive_columns=None)\n",
    "    case_1_indices = case_indices[1]\n",
    "    attack_df = X_train.copy()\n",
    "    attack_df[ds.ds.meta['y_column']] = pd.Series(y_tr.ravel()).values\n",
    "    # attack_df[ds.ds.meta['y_column']] = attack_df[ds.ds.meta['y_column']].transform(lambda x: '>50K' if x == 1 else '<=50K')\n",
    "    attack_df.drop(columns=[f'{ds.ds.meta[\"sensitive_column\"]}_{val}' for val in ds.ds.meta[\"sensitive_values\"]], inplace=True)\n",
    "    attack_df = attack_df.iloc[case_1_indices]\n",
    "    sensitive_ground_truth = sens_pred[case_1_indices]\n",
    "    sensitive_ground_truth = 1 - sensitive_ground_truth\n",
    "    attack_df = oneHotCatVars(attack_df, ds.ds.meta['y_column'])\n",
    "    sensitive_ground_truth = ds.ds.sensitive_enc.transform(sensitive_ground_truth.reshape(-1, 1)).toarray()\n",
    "\n",
    "    attack_clf_LOMIA = model_utils.get_model()\n",
    "    attack_clf_LOMIA.fit(attack_df, sensitive_ground_truth)\n",
    "    X, y = ds.ds.get_attack_df()\n",
    "\n",
    "    print(get_disparity_by_subgroup(ds=ds, X_att_query=X, y_att_query=y, subgroup_columns=['SEX'], clf=attack_clf_LOMIA, metric='accuracy'))"
   ]
  },
  {
   "cell_type": "code",
   "execution_count": null,
   "metadata": {},
   "outputs": [],
   "source": [
    "for experiment_key in experiments:\n",
    "    experiment = experiments[experiment_key]\n",
    "    for lambda_mal_contrib in [0,1,2,4,8,16]:\n",
    "        print(f\"lambda_mal_contrib: {lambda_mal_contrib}\")\n",
    "        print(LOMIA_attack(experiment.global_models[lambda_mal_contrib], experiment.X_train, experiment.y_tr, experiment.ds))\n",
    "        print(\"\\n\\n\")"
   ]
  },
  {
   "cell_type": "code",
   "execution_count": null,
   "metadata": {},
   "outputs": [],
   "source": [
    "def test_model(clf, X_te, y_te):\n",
    "    # get classification report\n",
    "    y_te_pred = clf.predict_proba(X_te)\n",
    "    y_te_pred = np.argmax(y_te_pred, axis=1)\n",
    "    print(classification_report(y_te, y_te_pred))"
   ]
  },
  {
   "cell_type": "code",
   "execution_count": null,
   "metadata": {},
   "outputs": [],
   "source": [
    "y_te_pred = experiment.clf.predict(experiment.X_test)"
   ]
  },
  {
   "cell_type": "code",
   "execution_count": null,
   "metadata": {},
   "outputs": [],
   "source": [
    "for experiment_key in experiments:\n",
    "    experiment = experiments[experiment_key]\n",
    "    print(f\"\\n\\n{experiment.shortname}\")\n",
    "    for lambda_mal_contrib in [0,1,2,4,8,16]:\n",
    "        print(f\"lambda_mal_contrib: {lambda_mal_contrib}\")\n",
    "        test_model(experiment.global_models[lambda_mal_contrib], experiment.X_test, experiment.y_te)\n",
    "        print(\"\\n\\n\")"
   ]
  },
  {
   "cell_type": "code",
   "execution_count": null,
   "metadata": {},
   "outputs": [],
   "source": [
    "for experiment_key in experiments:\n",
    "    experiment = experiments[experiment_key]\n",
    "    print(f\"\\n\\n{experiment.shortname}\")\n",
    "    for lambda_mal_contrib in [0,1,2,4,8,16]:\n",
    "        print(f\"lambda_mal_contrib: {lambda_mal_contrib}\")\n",
    "        test_model(experiment.global_models[lambda_mal_contrib], experiment.X_train, experiment.y_tr)\n",
    "        print(\"\\n\\n\")"
   ]
  },
  {
   "cell_type": "code",
   "execution_count": null,
   "metadata": {},
   "outputs": [],
   "source": [
    "experiment_key.find(',')"
   ]
  },
  {
   "cell_type": "code",
   "execution_count": null,
   "metadata": {},
   "outputs": [],
   "source": [
    "metric = 'accuracy'\n",
    "\n",
    "colors = ['red', 'blue', 'black', 'gray']\n",
    "for experiment_key in experiments:\n",
    "    color=colors.pop()\n",
    "    sns.lineplot(x=[\"0\",\"1\",\"2\",\"4\",\"8\",\"16\"], y=male_results[metric][experiment_key], label=f\"male corr_btn_sens_and_out={experiment_key[23:27]}\", color=color, linestyle='dashed')\n",
    "    sns.lineplot(x=[\"0\",\"1\",\"2\",\"4\",\"8\",\"16\"], y=female_results[metric][experiment_key], label=f\"female corr_btn_sens_and_out={experiment_key[29:33]}\", color=color)\n",
    "\n",
    "# place the legends above the figure, instead of to the right\n",
    "plt.legend(bbox_to_anchor=(0.2, 1.1), loc=0, borderaxespad=0.)\n",
    "# plt.legend(bbox_to_anchor=(1.05, 1), loc=2, borderaxespad=0.)\n",
    "plt.xlabel('Duplication factor of malicious data')\n",
    "plt.ylabel('Attack Accuracy')\n",
    "# sns.lineplot(x=male_corr_list, y=case_2_results_for_clf_only_on_test_for_male[metric], label='Model trained only on benign data')\n",
    "# sns.lineplot(x=male_corr_list, y=case_2_results_for_clf_on_both_train_and_test_for_male[metric], label='Model trained on both benign and adversary data')\n",
    "# plt.ylabel(f\"attack {metric} on male subgroup for case 2\")\n",
    "# plt.xlabel('Corr btn sensitive attrib and output for male in adversary data')\n",
    "# plt.xticks(male_corr_list)\n",
    "# plt.legend()\n",
    "# plt.show()\n",
    "# print(f'Corr btn sensitive attrib and output for female in adversary data: {female_corr_list[0]}')\n",
    "# print(f'Corr btn sensitive attrib and output for male in benign data: {-0.2}')\n",
    "# print(f'Corr btn sensitive attrib and output for female in benign data: {-0.1}')\n",
    "# for idx, experiment_key in enumerate([f\"corr_btn_sens_and_out_{(i, j)}\" for i in male_corr_list for j in female_corr_list]):\n",
    "#     experiment = experiments[experiment_key]\n",
    "#     print(f\"\\n{male_corr_list[idx]}\\n\")\n",
    "#     experiment.get_value_count_report()"
   ]
  },
  {
   "cell_type": "code",
   "execution_count": null,
   "metadata": {},
   "outputs": [],
   "source": [
    "metric = 'f1'\n",
    "\n",
    "colors = ['red', 'blue', 'black', 'gray']\n",
    "for experiment_key in experiments:\n",
    "    color=colors.pop()\n",
    "    sns.lineplot(x=[\"0\",\"1\",\"2\",\"4\",\"8\",\"16\"], y=male_results[metric][experiment_key], label=f\"male corr_btn_sens_and_out={experiment_key[23:27]}\", color=color, linestyle='dashed')\n",
    "    sns.lineplot(x=[\"0\",\"1\",\"2\",\"4\",\"8\",\"16\"], y=female_results[metric][experiment_key], label=f\"female corr_btn_sens_and_out={experiment_key[29:33]}\", color=color)\n",
    "\n",
    "# place the legends outside the figure/plot\n",
    "plt.legend(bbox_to_anchor=(1.05, 1), loc=2, borderaxespad=0.)\n",
    "# sns.lineplot(x=male_corr_list, y=case_2_results_for_clf_only_on_test_for_male[metric], label='Model trained only on benign data')\n",
    "# sns.lineplot(x=male_corr_list, y=case_2_results_for_clf_on_both_train_and_test_for_male[metric], label='Model trained on both benign and adversary data')\n",
    "# plt.ylabel(f\"attack {metric} on male subgroup for case 2\")\n",
    "# plt.xlabel('Corr btn sensitive attrib and output for male in adversary data')\n",
    "# plt.xticks(male_corr_list)\n",
    "# plt.legend()\n",
    "# plt.show()\n",
    "# print(f'Corr btn sensitive attrib and output for female in adversary data: {female_corr_list[0]}')\n",
    "# print(f'Corr btn sensitive attrib and output for male in benign data: {-0.2}')\n",
    "# print(f'Corr btn sensitive attrib and output for female in benign data: {-0.1}')\n",
    "# for idx, experiment_key in enumerate([f\"corr_btn_sens_and_out_{(i, j)}\" for i in male_corr_list for j in female_corr_list]):\n",
    "#     experiment = experiments[experiment_key]\n",
    "#     print(f\"\\n{male_corr_list[idx]}\\n\")\n",
    "#     experiment.get_value_count_report()"
   ]
  },
  {
   "cell_type": "code",
   "execution_count": null,
   "metadata": {},
   "outputs": [],
   "source": [
    "male_results"
   ]
  },
  {
   "cell_type": "code",
   "execution_count": null,
   "metadata": {},
   "outputs": [],
   "source": [
    "for metric in ['precision', 'recall', 'f1', 'accuracy', 'mcc', 'gmean', 'fpr'][2:4]:\n",
    "    for experiment_key in experiments:\n",
    "        experiment = experiments[experiment_key]\n",
    "        print(f\"\\n{experiment.shortname}\")\n",
    "        print(get_CSMIA_case_by_case_results(experiment.global_models[0], experiment.X_train, experiment.y_tr, experiment.ds, subgroup_col_name='SEX', metric=metric))\n",
    "    print(f'\\n\\n() shows the performance on metric {metric}')\n",
    "    # print('-'*50)\n",
    "    print('\\n\\n')\n",
    "    "
   ]
  },
  {
   "cell_type": "code",
   "execution_count": null,
   "metadata": {},
   "outputs": [],
   "source": [
    "get_CSMIA_case_by_case_results(experiment.global_models[0], experiment.X_train, experiment.y_tr, experiment.ds, subgroup_col_name='SEX', )"
   ]
  },
  {
   "cell_type": "code",
   "execution_count": null,
   "metadata": {},
   "outputs": [],
   "source": [
    "experiment.y_tr_onehot.shape"
   ]
  },
  {
   "cell_type": "code",
   "execution_count": null,
   "metadata": {},
   "outputs": [],
   "source": [
    "(experiment.local_models[0].coefs_[0] + experiment.local_models[1].coefs_[0])/2"
   ]
  },
  {
   "cell_type": "markdown",
   "metadata": {},
   "source": [
    "# CSMIA: Case by case comparison over multiple metrics"
   ]
  },
  {
   "cell_type": "code",
   "execution_count": null,
   "metadata": {},
   "outputs": [],
   "source": [
    "import re\n",
    "\n",
    "def get_perf(input_string):\n",
    "\n",
    "    # Use regular expression to extract the number inside parenthesis\n",
    "    match = re.search(r'\\(([\\d.]+)\\)', input_string)\n",
    "\n",
    "    if match:\n",
    "        extracted_number = match.group(1)\n",
    "        return(float(extracted_number))\n",
    "    else:\n",
    "        return(np.nan)"
   ]
  },
  {
   "cell_type": "code",
   "execution_count": null,
   "metadata": {},
   "outputs": [],
   "source": [
    "for metric in ['precision', 'recall', 'f1', 'accuracy', 'mcc', 'gmean', 'fpr'][3:4]:\n",
    "    for experiment_key in [f\"corr_btn_sens_and_out_{(i, j)}\" for i in [-0.4, -0.3, -0.2, -0.1, 0] for j in [-0.1]]:\n",
    "        experiment = experiments[experiment_key]\n",
    "        print(f\"\\n{experiment.shortname}\")\n",
    "        print(get_CSMIA_case_by_case_results(experiment.clf, experiment.X_train, experiment.y_tr, experiment.ds, subgroup_col_name='SEX', metric = metric))\n",
    "    print(f'\\n\\n() shows the performance on metric {metric}')\n",
    "    print('-'*50)\n",
    "    print('\\n\\n')"
   ]
  },
  {
   "cell_type": "code",
   "execution_count": null,
   "metadata": {},
   "outputs": [],
   "source": [
    "for metric in ['precision', 'recall', 'f1', 'accuracy', 'mcc', 'gmean', 'fpr'][:6]:\n",
    "    for experiment_key in [f\"corr_btn_sens_and_out_{(i, j)}\" for j in [-0.4, -0.3, -0.2, -0.1, 0] for i in [-0.2]]:\n",
    "        experiment = experiments[experiment_key]\n",
    "        print(f\"\\n{experiment.shortname}\")\n",
    "        print(get_CSMIA_case_by_case_results(experiment.clf, experiment.X_train, experiment.y_tr, experiment.ds, subgroup_col_name='SEX', metric = metric))\n",
    "    print(f'\\n\\n() shows the performance on metric {metric}')\n",
    "    print('-'*50)\n",
    "    print('\\n\\n')"
   ]
  },
  {
   "cell_type": "code",
   "execution_count": null,
   "metadata": {},
   "outputs": [],
   "source": [
    "for metric in ['precision', 'recall', 'f1', 'accuracy', 'mcc', 'gmean', 'fpr'][:6]:\n",
    "    for experiment_key in [f\"corr_btn_sens_and_out_{(i, i)}\" for i in [-0.4, -0.3, -0.2, -0.1, 0]]:\n",
    "        experiment = experiments[experiment_key]\n",
    "        print(f\"\\n{experiment.shortname}\")\n",
    "        print(get_CSMIA_case_by_case_results(experiment.clf, experiment.X_train, experiment.y_tr, experiment.ds, subgroup_col_name='SEX', metric = metric))\n",
    "    print(f'\\n\\n() shows the performance on metric {metric}')\n",
    "    print('-'*50)\n",
    "    print('\\n\\n')"
   ]
  },
  {
   "cell_type": "markdown",
   "metadata": {},
   "source": [
    "# Peel Case 1 Layer by Layer"
   ]
  },
  {
   "cell_type": "code",
   "execution_count": null,
   "metadata": {},
   "outputs": [],
   "source": [
    "def get_case_1_indices(clf, X_train, y_tr, ds):\n",
    "    sens_pred, case_indices_dict = CSMIA_attack(clf, X_train, y_tr, ds.ds.meta)\n",
    "    correct_indices = (sens_pred == X_train[['MAR_1']].to_numpy().ravel())\n",
    "    case_1_indices = case_indices_dict[1]\n",
    "    correct_case_1_indices = np.intersect1d(np.argwhere(correct_indices), np.argwhere(case_1_indices))\n",
    "    print(f'Case 1 Examples: Total {sum(case_1_indices)}, Correct {len(correct_case_1_indices)}, Accuracy {[round(100 * len(correct_case_1_indices)/sum(case_1_indices), 4) if sum(case_1_indices) > 0 else 0][0]}')\n",
    "    return case_1_indices"
   ]
  },
  {
   "cell_type": "code",
   "execution_count": null,
   "metadata": {},
   "outputs": [],
   "source": [
    "X_temp = X_train.copy()\n",
    "y_temp_onehot = y_tr_onehot.copy()\n",
    "y_temp = y_tr.copy()\n",
    "clf_temp = clf\n",
    "clf_prev = None\n",
    "round_idx = 0\n",
    "running_total = 0\n",
    "random_state = 42\n",
    "while True:\n",
    "    round_idx += 1\n",
    "    print(f'Round {round_idx}')\n",
    "    case_1_indices = get_case_1_indices(clf_temp, X_temp, y_temp, ds)\n",
    "    running_total += sum(case_1_indices)\n",
    "    print(f'Running Total: {running_total}')\n",
    "    if round_idx == 100:\n",
    "        break\n",
    "    X_temp = X_temp.drop(X_temp.index[case_1_indices])\n",
    "    y_temp = np.delete(y_temp, case_1_indices, axis=0)\n",
    "    y_temp_onehot = np.delete(y_temp_onehot, case_1_indices, axis=0)\n",
    "    clf_prev = clf_temp\n",
    "    try:\n",
    "        clf_temp = model_utils.load_model(f'<PATH_TO_MODEL>/{ds.ds.filenameroot}_target_model_peeled_round_{round_idx}.pkl')\n",
    "    except:\n",
    "        random_state = 42\n",
    "        idx = 0\n",
    "        while True:\n",
    "            clf_temp = model_utils.get_model(max_iter=500, random_state=random_state + idx)\n",
    "            clf_temp.fit(X_temp, y_temp_onehot)\n",
    "\n",
    "            case_1_indices = get_case_1_indices(clf_temp, X_temp, y_temp, ds)\n",
    "            if sum(case_1_indices) > 0:\n",
    "                break\n",
    "            idx += 1\n",
    "\n",
    "    # save model\n",
    "    save_model = True\n",
    "    if save_model and sum(case_1_indices) > 0:\n",
    "        model_utils.save_model(clf_temp, f'<PATH_TO_MODEL>/{ds.ds.filenameroot}_target_model_peeled_round_{round_idx}.pkl')"
   ]
  },
  {
   "cell_type": "code",
   "execution_count": null,
   "metadata": {},
   "outputs": [],
   "source": [
    "ds.ds.filenameroot"
   ]
  },
  {
   "cell_type": "code",
   "execution_count": null,
   "metadata": {},
   "outputs": [],
   "source": [
    "get_case_1_indices(clf_temp, X_temp, y_temp, ds)"
   ]
  },
  {
   "cell_type": "code",
   "execution_count": null,
   "metadata": {},
   "outputs": [],
   "source": [
    "correct_indices"
   ]
  },
  {
   "cell_type": "code",
   "execution_count": null,
   "metadata": {},
   "outputs": [],
   "source": [
    "case_1_indices"
   ]
  },
  {
   "cell_type": "code",
   "execution_count": null,
   "metadata": {},
   "outputs": [],
   "source": [
    "len(correct_case_1_indices)"
   ]
  },
  {
   "cell_type": "code",
   "execution_count": null,
   "metadata": {},
   "outputs": [],
   "source": [
    "sum(case_1_indices)"
   ]
  },
  {
   "cell_type": "code",
   "execution_count": null,
   "metadata": {},
   "outputs": [],
   "source": [
    "# train new clf without case 1 indices\n",
    "new_clf = model_utils.get_model(max_iter=500)\n",
    "new_clf.fit(X_train.loc[~case_1_indices], y_tr_onehot[~case_1_indices])"
   ]
  },
  {
   "cell_type": "code",
   "execution_count": null,
   "metadata": {},
   "outputs": [],
   "source": [
    "new_case_1_indices = CSMIA_attack(new_clf, X_train.loc[~case_1_indices], y_tr[~case_1_indices], ds.ds.meta)[1][1]"
   ]
  },
  {
   "cell_type": "code",
   "execution_count": null,
   "metadata": {},
   "outputs": [],
   "source": [
    "sum(new_case_1_indices)"
   ]
  },
  {
   "attachments": {},
   "cell_type": "markdown",
   "metadata": {},
   "source": [
    "# Fairness Constraint"
   ]
  },
  {
   "cell_type": "code",
   "execution_count": null,
   "metadata": {},
   "outputs": [],
   "source": [
    "from sklearn.neural_network import MLPClassifier\n",
    "\n",
    "class MLPClassifierFC(MLPClassifier):\n",
    "    def fit(self, X, y, sample_weight=None):\n",
    "        \"\"\"\n",
    "            Fit the model to the given data.\n",
    "        \"\"\"\n",
    "        if sample_weight is not None:\n",
    "            # resample data according to sample weights\n",
    "            n_samples = X.shape[0]\n",
    "            sample_weight = np.asarray(sample_weight)/np.sum(sample_weight)\n",
    "            sample_idxs = np.random.choice(n_samples, n_samples, p=sample_weight)\n",
    "            X = X.iloc[sample_idxs]\n",
    "            y = y[sample_idxs]\n",
    "            \n",
    "        return super().fit(X, y)\n",
    "\n",
    "clf2 = MLPClassifierFC(max_iter=500)\n",
    "clf2.coefs_ = clf.coefs_\n",
    "clf2.intercepts_ = clf.intercepts_"
   ]
  },
  {
   "cell_type": "code",
   "execution_count": null,
   "metadata": {},
   "outputs": [],
   "source": [
    "from fairlearn.reductions import ExponentiatedGradient, DemographicParity, EqualizedOdds, ErrorRate\n",
    "\n",
    "subgroup_col_name = 'SEX'\n",
    "\n",
    "try:\n",
    "    mitigator = model_utils.load_model(f'<PATH_TO_MODEL>/{ds.ds.filenameroot}_mitigator_eqodds_{subgroup_col_name}.pkl')\n",
    "except:\n",
    "    constraint = EqualizedOdds()\n",
    "    mitigator = ExponentiatedGradient(clf2, constraint)\n",
    "\n",
    "    mitigator.fit(X_train, y_tr, sensitive_features=X_train[f'{subgroup_col_name}_0'])\n",
    "\n",
    "    model_utils.save_model(mitigator, f'<PATH_TO_MODEL>/{ds.ds.filenameroot}_mitigator_eqodds_{subgroup_col_name}.pkl')"
   ]
  },
  {
   "cell_type": "code",
   "execution_count": null,
   "metadata": {},
   "outputs": [],
   "source": [
    "y_pred = mitigator.predict(X_train)\n",
    "\n",
    "print(\"Accuracy on train set: \", accuracy_score(y_tr, y_pred))\n",
    "\n",
    "y_pred = mitigator.predict(x_te)\n",
    "\n",
    "print(\"Accuracy on test set: \", accuracy_score(y_te, y_pred))"
   ]
  },
  {
   "cell_type": "code",
   "execution_count": null,
   "metadata": {},
   "outputs": [],
   "source": [
    "y_pred_0 = mitigator.predict(X_train[X_train[f'{subgroup_col_name}_1'] == 0])\n",
    "\n",
    "print(\"Accuracy on train set for subgroup 0: \", accuracy_score(y_tr[X_train[f'{subgroup_col_name}_1'] == 0], y_pred_0))\n",
    "\n",
    "y_pred_1 = mitigator.predict(X_train[X_train[f'{subgroup_col_name}_1'] == 1])\n",
    "\n",
    "print(\"Accuracy on train set for subgroup 1: \", accuracy_score(y_tr[X_train[f'{subgroup_col_name}_1'] == 1], y_pred_1))"
   ]
  },
  {
   "cell_type": "code",
   "execution_count": null,
   "metadata": {},
   "outputs": [],
   "source": [
    "X_test = pd.DataFrame(x_te, columns=cols)\n",
    "y_te_onehot = ds.ds.y_enc.transform(y_te).toarray()\n",
    "\n",
    "y_pred_0 = clf.predict(X_test[X_test[f'{subgroup_col_name}_1'] == 0])\n",
    "\n",
    "print(\"Accuracy on train set for subgroup 0: \", accuracy_score(y_te_onehot[X_test[f'{subgroup_col_name}_1'] == 0], y_pred_0))\n",
    "\n",
    "y_pred_1 = clf.predict(X_test[X_test[f'{subgroup_col_name}_1'] == 1])\n",
    "\n",
    "print(\"Accuracy on train set for subgroup 1: \", accuracy_score(y_te_onehot[X_test[f'{subgroup_col_name}_1'] == 1], y_pred_1))"
   ]
  },
  {
   "cell_type": "code",
   "execution_count": null,
   "metadata": {},
   "outputs": [],
   "source": [
    "X_test = pd.DataFrame(x_te, columns=cols)\n",
    "y_te_onehot = ds.ds.y_enc.transform(y_te).toarray()\n",
    "\n",
    "y_pred_0 = mitigator.predict(X_test[X_test[f'{subgroup_col_name}_1'] == 0])\n",
    "y_pred_1 = mitigator.predict(X_test[X_test[f'{subgroup_col_name}_1'] == 1])\n",
    "\n",
    "\n",
    "print(\"WITH FAIRNESS CONSTRAINTS\")\n",
    "print(\"Recall on train set for subgroup MALE (Single): \", round(100 * recall_score(y_te_onehot[X_test[f'{subgroup_col_name}_1'] == 0].argmax(axis=1), y_pred_0, pos_label=1), 4))\n",
    "\n",
    "print(\"Recall on train set for subgroup FEMALE (Single): \", round(100 * recall_score(y_te_onehot[X_test[f'{subgroup_col_name}_1'] == 1].argmax(axis=1), y_pred_1, pos_label=1), 4))\n",
    "print(\"Recall on train set for subgroup MALE (Married): \", round(100 * recall_score(y_te_onehot[X_test[f'{subgroup_col_name}_1'] == 0].argmax(axis=1), y_pred_0, pos_label=0), 4))\n",
    "print(\"Recall on train set for subgroup FEMALE (Married): \", round(100 * recall_score(y_te_onehot[X_test[f'{subgroup_col_name}_1'] == 1].argmax(axis=1), y_pred_1, pos_label=0), 4))"
   ]
  },
  {
   "cell_type": "code",
   "execution_count": null,
   "metadata": {},
   "outputs": [],
   "source": [
    "X_test = pd.DataFrame(x_te, columns=cols)\n",
    "y_te_onehot = ds.ds.y_enc.transform(y_te).toarray()\n",
    "\n",
    "y_pred_0 = clf.predict(X_test[X_test[f'{subgroup_col_name}_1'] == 0]).argmax(axis=1)\n",
    "y_pred_1 = clf.predict(X_test[X_test[f'{subgroup_col_name}_1'] == 1]).argmax(axis=1)\n",
    "\n",
    "print(\"WITHOUT FAIRNESS CONSTRAINTS\")\n",
    "print(\"Recall on train set for subgroup MALE (Single): \", round(100 * recall_score(y_te_onehot[X_test[f'{subgroup_col_name}_1'] == 0].argmax(axis=1), y_pred_0, pos_label=1), 4))\n",
    "\n",
    "print(\"Recall on train set for subgroup FEMALE (Single): \", round(100 * recall_score(y_te_onehot[X_test[f'{subgroup_col_name}_1'] == 1].argmax(axis=1), y_pred_1, pos_label=1), 4))\n",
    "\n",
    "print(\"Recall on train set for subgroup MALE (Married): \", round(100 * recall_score(y_te_onehot[X_test[f'{subgroup_col_name}_1'] == 0].argmax(axis=1), y_pred_0, pos_label=0), 4))\n",
    "print(\"Recall on train set for subgroup FEMALE (Married): \", round(100 * recall_score(y_te_onehot[X_test[f'{subgroup_col_name}_1'] == 1].argmax(axis=1), y_pred_1, pos_label=0), 4))"
   ]
  },
  {
   "attachments": {},
   "cell_type": "markdown",
   "metadata": {},
   "source": [
    "# Train Multiple Target Models with various hyperparameters to have various degrees of overfitting\n"
   ]
  },
  {
   "cell_type": "code",
   "execution_count": null,
   "metadata": {},
   "outputs": [],
   "source": [
    "hidden_layer_size_tuples = [(32* i, 16 *i, 8*i) for i in range(1, 11)]\n",
    "clfs = {}\n",
    "load_models = True\n",
    "save_models = False\n",
    "\n",
    "for i, hidden_layer_size_tuple in enumerate(hidden_layer_size_tuples):\n",
    "    # Train Target Model\n",
    "    if load_models:\n",
    "        clf = model_utils.load_model(f'<PATH_TO_MODEL>/{ds.ds.name}_target_model_overfit_level_{i}.pkl')\n",
    "    else:\n",
    "        clf = model_utils.get_model(hidden_layer_sizes=hidden_layer_size_tuple, max_iter=500)\n",
    "        clf.fit(X_train, y_tr_onehot)\n",
    "\n",
    "    # Save Target Model\n",
    "    if save_models:\n",
    "        model_utils.save_model(clf, f'<PATH_TO_MODEL>/{ds.ds.name}_target_model_overfit_level_{i}.pkl')\n",
    "\n",
    "    # Evaluate Target Model\n",
    "    y_pred = clf.predict(X_train)\n",
    "\n",
    "    train_acc = 100 * clf.score(X_train, ds.ds.y_enc.transform(y_tr).toarray())\n",
    "    test_acc = 100 * clf.score(x_te, ds.ds.y_enc.transform(y_te).toarray())\n",
    "\n",
    "    print(f\"Overfit Level: {i}, Train Accuracy: {train_acc:.2f}%, Test Accuracy: {test_acc:.2f}%\")\n",
    "\n",
    "    clfs[i] = clf"
   ]
  },
  {
   "cell_type": "code",
   "execution_count": null,
   "metadata": {},
   "outputs": [],
   "source": [
    "from sklearn.model_selection import cross_val_score\n",
    "\n",
    "cross_val_score(clf, X_train, y_tr_onehot, cv=5)"
   ]
  },
  {
   "attachments": {},
   "cell_type": "markdown",
   "metadata": {},
   "source": [
    "# Test Target Model"
   ]
  },
  {
   "cell_type": "code",
   "execution_count": null,
   "metadata": {
    "tags": []
   },
   "outputs": [],
   "source": [
    "# train_acc = 100 * clf.score(x_tr, y_tr.ravel())\n",
    "# test_acc = 100 * clf.score(x_te, y_te.ravel())\n",
    "train_acc = 100 * clf.score(X_train, ds.ds.y_enc.transform(y_tr).toarray())\n",
    "test_acc = 100 * clf.score(x_te, ds.ds.y_enc.transform(y_te).toarray())\n",
    "if True:\n",
    "    print(\"Classifier: Train acc %.2f , Test acc %.2f\\n\" %\n",
    "            (train_acc, test_acc))"
   ]
  },
  {
   "cell_type": "code",
   "execution_count": null,
   "metadata": {},
   "outputs": [],
   "source": [
    "# calculate classification report\n",
    "from sklearn.metrics import classification_report\n",
    "y_pred = clf.predict(x_te)\n",
    "y_pred = np.argmax(y_pred, axis=1)\n",
    "y_true = y_te\n",
    "print(classification_report(y_true, y_pred))"
   ]
  },
  {
   "attachments": {},
   "cell_type": "markdown",
   "metadata": {},
   "source": [
    "# Calculate Permutation Importance"
   ]
  },
  {
   "cell_type": "code",
   "execution_count": null,
   "metadata": {},
   "outputs": [],
   "source": [
    "X_te = pd.DataFrame(x_te, columns=cols)"
   ]
  },
  {
   "cell_type": "code",
   "execution_count": null,
   "metadata": {},
   "outputs": [],
   "source": [
    "r = permutation_importance(clf, X_te, ds.ds.y_enc.transform(y_te).toarray(),\n",
    "                           n_repeats=30,\n",
    "                           random_state=0)"
   ]
  },
  {
   "cell_type": "code",
   "execution_count": null,
   "metadata": {},
   "outputs": [],
   "source": [
    "r_train = permutation_importance(clf, X_train, ds.ds.y_enc.transform(y_tr).toarray(),\n",
    "                            n_repeats=30,\n",
    "                            random_state=0)"
   ]
  },
  {
   "cell_type": "code",
   "execution_count": null,
   "metadata": {},
   "outputs": [],
   "source": [
    "for i in r.importances_mean.argsort()[::-1]:\n",
    "    if r.importances_mean[i] - 2 * r.importances_std[i] > 0 or True:\n",
    "        print(f\"{cols[i]} \"\n",
    "              f\"{r.importances_mean[i]:.8f}\"\n",
    "              f\" +/- {r.importances_std[i]:.8f}\")"
   ]
  },
  {
   "attachments": {},
   "cell_type": "markdown",
   "metadata": {},
   "source": [
    "# Convert to PyTorch Model"
   ]
  },
  {
   "cell_type": "code",
   "execution_count": null,
   "metadata": {},
   "outputs": [],
   "source": [
    "target_model = port_mlp_to_ch(clf)"
   ]
  },
  {
   "cell_type": "code",
   "execution_count": null,
   "metadata": {},
   "outputs": [],
   "source": [
    "y_te_onehot = ds.ds.y_enc.transform(y_te).toarray()\n",
    "test_acc = test_torch_model(target_model, x_te, y_te_onehot)\n",
    "print(\"Classifier: Test acc %.2f\\n\" % (test_acc))"
   ]
  },
  {
   "cell_type": "code",
   "execution_count": null,
   "metadata": {},
   "outputs": [],
   "source": [
    "clf = model_utils.get_model(max_iter=500)\n",
    "clf.partial_fit(X_train, y_tr_onehot, classes=np.unique(y_tr))\n",
    "clf = port_ch_to_mlp(target_model, clf)"
   ]
  },
  {
   "cell_type": "code",
   "execution_count": null,
   "metadata": {},
   "outputs": [],
   "source": [
    "clf = proxy_train_mlp(x_tr, y_tr_onehot)"
   ]
  },
  {
   "attachments": {},
   "cell_type": "markdown",
   "metadata": {},
   "source": [
    "# Confidence Score of the Correct Output Class"
   ]
  },
  {
   "cell_type": "code",
   "execution_count": null,
   "metadata": {},
   "outputs": [],
   "source": [
    "all_sensitive_columns = ['MAR', 'DEAR', 'DEYE', 'DREM', 'DPHY']\n",
    "\n",
    "for sensitive_column in all_sensitive_columns:\n",
    "    temp_ds = data_utils.CensusWrapper(\n",
    "                filter_prop=\"none\", ratio=float(0.5), split=\"all\", name=\"Census19\", sampling_condition_dict=sampling_condition_dict, sensitive_column=sensitive_column)\n",
    "    \n",
    "    X, y = temp_ds.ds.get_attack_df()\n",
    "\n",
    "    X_query_by_sen_val = {val: X_train.copy() for val in temp_ds.ds.meta['sensitive_values']}\n",
    "\n",
    "    for val in temp_ds.ds.meta['sensitive_values']:\n",
    "        for val2 in temp_ds.ds.meta['sensitive_values']:\n",
    "            if val != val2:\n",
    "                X_query_by_sen_val[val][f'{temp_ds.ds.meta[\"sensitive_column\"]}_{val2}'] = 0\n",
    "            else:\n",
    "                X_query_by_sen_val[val][f'{temp_ds.ds.meta[\"sensitive_column\"]}_{val2}'] = 1\n",
    "    \n",
    "    y_pred_by_sen_val = {val: clf.predict_proba(X_query_by_sen_val[val]) for val in temp_ds.ds.meta['sensitive_values']}\n",
    "\n",
    "    y_conf_by_sen_val = {\n",
    "        val: (y_tr_onehot * y_pred_by_sen_val[val]).sum(axis=1) for val in temp_ds.ds.meta['sensitive_values']\n",
    "    }\n",
    "\n",
    "    y_pred_conf = np.stack([y_conf_by_sen_val[val] for val in temp_ds.ds.meta['sensitive_values']]).argmax(axis=0)\n",
    "\n",
    "    subgroup_columns = ['RAC1P', 'SEX']\n",
    "\n",
    "    subgroup_disparity_dict = get_disparity_by_subgroup(attack_type='CONF', ds=temp_ds, X_att_query=X_train, y_att_query=y, y_pred=y_pred_conf, subgroup_columns=subgroup_columns, metric='recall', threshold=0.5)\n",
    "\n",
    "    # print(subgroup_disparity_dict)\n",
    "    pd.DataFrame(subgroup_disparity_dict).T.plot.bar()\n",
    "    plt.title(f'Sensitive Column: {sensitive_column}')\n",
    "    plt.ylabel('Recall Disparity')\n",
    "    plt.show()\n",
    "\n",
    "    subgroup_disparity_dict = get_disparity_by_subgroup(attack_type='CONF', ds=temp_ds, X_att_query=X_train, y_att_query=y, y_pred=y_pred_conf, subgroup_columns=subgroup_columns, metric='precision', threshold=0.5)\n",
    "\n",
    "    # print(subgroup_disparity_dict)\n",
    "    pd.DataFrame(subgroup_disparity_dict).T.plot.bar()\n",
    "    plt.title(f'Sensitive Column: {sensitive_column}')\n",
    "    plt.ylabel('Precision Disparity')\n",
    "    plt.show()\n",
    "\n",
    "    for col in subgroup_columns:\n",
    "        values = ds.ds.unique_values_dict[col]\n",
    "\n",
    "        for val in values:\n",
    "            subset_indices = get_indices_by_conditions(temp_ds, X_train, {col: val})\n",
    "            sns.scatterplot(x=y_conf_by_sen_val[0][subset_indices], y=y_conf_by_sen_val[1][subset_indices], hue=X_train[f\"{temp_ds.ds.meta['sensitive_column']}_0\"][subset_indices], alpha=0.5)\n",
    "            plt.title(f'{col} = {val}')\n",
    "            plt.xlabel('Confidence when querying with sensitive value 0')\n",
    "            plt.ylabel('Confidence when querying with sensitive value 1')\n",
    "            plt.show()"
   ]
  },
  {
   "cell_type": "code",
   "execution_count": null,
   "metadata": {},
   "outputs": [],
   "source": [
    "X_query_by_sen_val = {val: X_train.copy() for val in ds.ds.meta['sensitive_values']}"
   ]
  },
  {
   "cell_type": "code",
   "execution_count": null,
   "metadata": {},
   "outputs": [],
   "source": [
    "for val in ds.ds.meta['sensitive_values']:\n",
    "    for val2 in ds.ds.meta['sensitive_values']:\n",
    "        if val != val2:\n",
    "            X_query_by_sen_val[val][f'{ds.ds.meta[\"sensitive_column\"]}_{val2}'] = 0\n",
    "        else:\n",
    "            X_query_by_sen_val[val][f'{ds.ds.meta[\"sensitive_column\"]}_{val2}'] = 1"
   ]
  },
  {
   "cell_type": "code",
   "execution_count": null,
   "metadata": {},
   "outputs": [],
   "source": [
    "y_pred_by_sen_val = {val: clf.predict_proba(X_query_by_sen_val[val]) for val in ds.ds.meta['sensitive_values']}"
   ]
  },
  {
   "cell_type": "code",
   "execution_count": null,
   "metadata": {},
   "outputs": [],
   "source": [
    "y_conf_by_sen_val = {\n",
    "    val: (y_tr_onehot * y_pred_by_sen_val[val]).sum(axis=1) for val in ds.ds.meta['sensitive_values']\n",
    "}"
   ]
  },
  {
   "cell_type": "code",
   "execution_count": null,
   "metadata": {},
   "outputs": [],
   "source": [
    "y_pred_conf = np.stack([y_conf_by_sen_val[val] for val in ds.ds.meta['sensitive_values']]).argmax(axis=0)"
   ]
  },
  {
   "cell_type": "code",
   "execution_count": null,
   "metadata": {},
   "outputs": [],
   "source": [
    "subgroup_columns = ['RAC1P', 'SEX']"
   ]
  },
  {
   "cell_type": "code",
   "execution_count": null,
   "metadata": {},
   "outputs": [],
   "source": [
    "for col in subgroup_columns:\n",
    "    values = ds.ds.unique_values_dict[col]\n",
    "\n",
    "    for val in values:\n",
    "        subset_indices = get_indices_by_conditions(ds, X_train, {col: val})\n",
    "        print(accuracy_score(y_tr[subset_indices], y_pred_conf[subset_indices]))\n"
   ]
  },
  {
   "cell_type": "code",
   "execution_count": null,
   "metadata": {},
   "outputs": [],
   "source": [
    "subgroup_disparity_dict = get_disparity_by_subgroup(attack_type='CONF', ds=ds, X_att_query=X_train, y_att_query=y_tr, y_pred=y_pred_conf, subgroup_columns=subgroup_columns, metric='accuracy', threshold=0.5)"
   ]
  },
  {
   "cell_type": "code",
   "execution_count": null,
   "metadata": {},
   "outputs": [],
   "source": [
    "subgroup_disparity_dict"
   ]
  },
  {
   "cell_type": "code",
   "execution_count": null,
   "metadata": {},
   "outputs": [],
   "source": [
    "for col in subgroup_columns:\n",
    "    print(pd.crosstab(ds.ds.original_df[col], ds.ds.original_df[ds.ds.meta['y_column']], normalize='index'))"
   ]
  },
  {
   "cell_type": "code",
   "execution_count": null,
   "metadata": {},
   "outputs": [],
   "source": [
    "for col in subgroup_columns:\n",
    "    values = ds.ds.unique_values_dict[col]\n",
    "\n",
    "    for val in values:\n",
    "        subset_indices = get_indices_by_conditions(ds, X_train, {col: val})\n",
    "        sns.scatterplot(x=y_conf_by_sen_val[0][subset_indices], y=y_conf_by_sen_val[1][subset_indices], hue=X_train[f\"{ds.ds.meta['sensitive_column']}_0\"][subset_indices], alpha=0.5)\n",
    "        plt.title(f'{col} = {val}')\n",
    "        plt.xlabel('Confidence when querying with sensitive value 0')\n",
    "        plt.ylabel('Confidence when querying with sensitive value 1')\n",
    "        plt.show()"
   ]
  },
  {
   "cell_type": "code",
   "execution_count": null,
   "metadata": {},
   "outputs": [],
   "source": [
    "for col in subgroup_columns:\n",
    "    values = ds.ds.unique_values_dict[col]\n",
    "\n",
    "    for val in values:\n",
    "        subset_indices = get_indices_by_conditions(ds, X_train, {col: val})\n",
    "        sns.scatterplot(x=y_conf_by_sen_val[0][subset_indices], y=y_conf_by_sen_val[1][subset_indices], hue=y_tr.ravel()[subset_indices])\n",
    "        plt.title(f'{col} = {val}')\n",
    "        plt.xlabel('Confidence when querying with sensitive value 0')\n",
    "        plt.ylabel('Confidence when querying with sensitive value 1')\n",
    "        plt.show()"
   ]
  },
  {
   "cell_type": "code",
   "execution_count": null,
   "metadata": {},
   "outputs": [],
   "source": [
    "sns.scatterplot(x=y_conf_by_sen_val[ds.ds.meta['sensitive_values'][0]], y=y_conf_by_sen_val[ds.ds.meta['sensitive_values'][1]], hue=y_tr.ravel())\n",
    "plt.show()"
   ]
  },
  {
   "cell_type": "code",
   "execution_count": null,
   "metadata": {},
   "outputs": [],
   "source": [
    "y_pred_by_sen_val.keys()"
   ]
  },
  {
   "cell_type": "code",
   "execution_count": null,
   "metadata": {},
   "outputs": [],
   "source": [
    "y_tr.ravel().shape"
   ]
  },
  {
   "cell_type": "code",
   "execution_count": null,
   "metadata": {},
   "outputs": [],
   "source": [
    "(y_tr_onehot * y_pred_by_sen_val[0]).sum(axis=1)"
   ]
  },
  {
   "cell_type": "code",
   "execution_count": null,
   "metadata": {},
   "outputs": [],
   "source": [
    "(y_tr_onehot * y_pred_by_sen_val[1]).sum(axis=1)"
   ]
  },
  {
   "attachments": {},
   "cell_type": "markdown",
   "metadata": {},
   "source": [
    "# LOMIA Attack"
   ]
  },
  {
   "cell_type": "code",
   "execution_count": null,
   "metadata": {},
   "outputs": [],
   "source": [
    "attack_dataset, lomia_indices, lomia_correct_indices = model_utils.LOMIA_attack(clf, X_train, y_tr, ds.ds.meta)"
   ]
  },
  {
   "cell_type": "code",
   "execution_count": null,
   "metadata": {},
   "outputs": [],
   "source": [
    "attack_df = pd.concat(attack_dataset)\n",
    "attack_df[ds.ds.meta['y_column']] = attack_df[ds.ds.meta['y_column']].apply(lambda x: ds.ds.meta['y_values'][x])"
   ]
  },
  {
   "cell_type": "code",
   "execution_count": null,
   "metadata": {
    "tags": []
   },
   "outputs": [],
   "source": [
    "attack_df.to_csv(f'<PATH_TO_DATASET>/{ds.ds.filenameroot}_LOMIA_attack_{ds.ds.meta[\"sensitive_column\"]}.csv')\n",
    "np.save(f'<PATH_TO_DATASET>/{ds.ds.filenameroot}_LOMIA_attack_lomia_indices_{ds.ds.meta[\"sensitive_column\"]}.npy', lomia_indices)\n",
    "np.save(f'<PATH_TO_DATASET>/{ds.ds.filenameroot}_LOMIA_attack_lomia_correct_indices_{ds.ds.meta[\"sensitive_column\"]}.npy', lomia_correct_indices)"
   ]
  },
  {
   "attachments": {},
   "cell_type": "markdown",
   "metadata": {},
   "source": [
    "# Load Attack Data"
   ]
  },
  {
   "cell_type": "code",
   "execution_count": null,
   "metadata": {
    "tags": []
   },
   "outputs": [],
   "source": [
    "attack_df = pd.read_csv(f'<PATH_TO_DATASET>/{ds.ds.filenameroot}_LOMIA_attack_{ds.ds.meta[\"sensitive_column\"]}.csv')\n",
    "attack_df.index = attack_df['Unnamed: 0']\n",
    "attack_df.index.name = None\n",
    "attack_df = attack_df.drop('Unnamed: 0', axis=1)"
   ]
  },
  {
   "cell_type": "code",
   "execution_count": null,
   "metadata": {
    "tags": []
   },
   "outputs": [],
   "source": [
    "# Split the DataFrame into input and output variables\n",
    "X_attack = attack_df.drop([f'{ds.ds.meta[\"sensitive_column\"]}_{val}' for val in ds.ds.meta['sensitive_values']], axis=1) \n",
    "X_attack = oneHotCatVars(X_attack, ds.ds.meta['y_column'])\n",
    "y_attack = attack_df[[ f'{ds.ds.meta[\"sensitive_column\"]}_{ds.ds.meta[\"sensitive_positive\"]}']]\n",
    "# y_attack_onehot, att_enc = onehot(y_attack.to_numpy())\n",
    "y_attack_onehot = ds.ds.sensitive_enc.transform(y_attack.to_numpy()).toarray()"
   ]
  },
  {
   "attachments": {},
   "cell_type": "markdown",
   "metadata": {},
   "source": [
    "# Train Attack Model"
   ]
  },
  {
   "cell_type": "code",
   "execution_count": null,
   "metadata": {
    "tags": []
   },
   "outputs": [],
   "source": [
    "attack_clf = model_utils.get_model(max_iter=500)"
   ]
  },
  {
   "cell_type": "code",
   "execution_count": null,
   "metadata": {
    "tags": []
   },
   "outputs": [],
   "source": [
    "attack_clf.fit(X_attack, y_attack_onehot)\n",
    "model_utils.save_model(attack_clf, f'<PATH_TO_MODEL>/{ds.ds.filenameroot}_LOMIA_attack_{ds.ds.meta[\"sensitive_column\"]}_model.pkl')"
   ]
  },
  {
   "cell_type": "code",
   "execution_count": null,
   "metadata": {},
   "outputs": [],
   "source": [
    "# all_sensitive_columns = ['MAR', 'DEAR', 'DEYE', 'DREM', 'DPHY']\n",
    "all_sensitive_columns = ['MAR']\n",
    "\n",
    "subgroup_disparity_dicts = {}\n",
    "\n",
    "for sensitive_column in all_sensitive_columns:\n",
    "    temp_ds = data_utils.CensusWrapper(\n",
    "            filter_prop=\"none\", ratio=float(0.5), split=\"all\", name=\"Census19\", sampling_condition_dict=sampling_condition_dict, sensitive_column=sensitive_column, additional_meta=additional_meta)\n",
    "#     temp_ds.ds.filenameroot = temp_ds.ds.name + f\"_{subgroup_col_name}_{round(100*split_ratio_first_subgroup)}_{round(100*(1-split_ratio_first_subgroup))}_minority_categorized\"\n",
    "    X, y = temp_ds.ds.get_attack_df()\n",
    "\n",
    "    X = X.astype(float)\n",
    "\n",
    "    subgroup_columns = ['RAC1P']\n",
    "\n",
    "    attack_clf = model_utils.load_model(f'<PATH_TO_MODEL>/{temp_ds.ds.filenameroot}_LOMIA_attack_{temp_ds.ds.meta[\"sensitive_column\"]}_model.pkl')\n",
    "\n",
    "    subgroup_disparity_dict = get_disparity_by_subgroup(ds=ds, X_att_query=X, y_att_query=y, subgroup_columns=subgroup_columns, clf=attack_clf, metric='precision')\n",
    "\n",
    "    subgroup_disparity_dicts[sensitive_column] = subgroup_disparity_dict"
   ]
  },
  {
   "cell_type": "code",
   "execution_count": null,
   "metadata": {},
   "outputs": [],
   "source": [
    "subgroup_disparity_dicts"
   ]
  },
  {
   "cell_type": "code",
   "execution_count": null,
   "metadata": {},
   "outputs": [],
   "source": [
    "all_sensitive_columns = ['MAR', 'DEAR', 'DEYE', 'DREM', 'DPHY']\n",
    "\n",
    "aucs, recalls = {}, {}\n",
    "\n",
    "for sensitive_column in all_sensitive_columns:\n",
    "    temp_ds = data_utils.CensusWrapper(\n",
    "            filter_prop=\"none\", ratio=float(0.5), split=\"all\", name=\"Census19\", sampling_condition_dict=sampling_condition_dict, sensitive_column=sensitive_column)\n",
    "    temp_ds.ds.filenameroot = temp_ds.ds.name + f\"_{subgroup_col_name}_{round(100*split_ratio_first_subgroup)}_{round(100*(1-split_ratio_first_subgroup))}_minority_categorized\"\n",
    "    X, y = temp_ds.ds.get_attack_df()\n",
    "\n",
    "    X = X.astype(float)\n",
    "\n",
    "    subgroup_columns = ['RAC1P']\n",
    "\n",
    "    attack_clf = model_utils.load_model(f'<PATH_TO_MODEL>/{temp_ds.ds.filenameroot}_LOMIA_attack_{temp_ds.ds.meta[\"sensitive_column\"]}_model.pkl')\n",
    "\n",
    "    subgroup_disparity_dict = get_subgroup_disparity(temp_ds, subgroup_columns, attack_clf, X, y, metric='auc')\n",
    "\n",
    "    aucs[sensitive_column] = subgroup_disparity_dict['RAC1P']['asrs']\n",
    "\n",
    "    subgroup_disparity_dict = get_subgroup_disparity(temp_ds, subgroup_columns, attack_clf, X, y, metric='recall')\n",
    "\n",
    "    recalls[sensitive_column] = subgroup_disparity_dict['RAC1P']['asrs']\n"
   ]
  },
  {
   "attachments": {},
   "cell_type": "markdown",
   "metadata": {},
   "source": [
    "# Random Mutation of Sensitive Attribute vs Disparity"
   ]
  },
  {
   "cell_type": "code",
   "execution_count": null,
   "metadata": {},
   "outputs": [],
   "source": [
    "# all_sensitive_columns = ['MAR', 'DEAR', 'DEYE', 'DREM', 'DPHY']\n",
    "# all_sensitive_columns = ['MAR']\n",
    "sensitive_column = 'MAR'\n",
    "\n",
    "subgroup_disparity_dicts = {}\n",
    "\n",
    "for sensitive_attribute_mutate in [0.1, 0.25, 0.5, 0.75, 0.9]:\n",
    "    temp_ds = data_utils.CensusWrapper(\n",
    "            filter_prop=\"none\", ratio=float(0.5), split=\"all\", name=\"Census19\", sampling_condition_dict=sampling_condition_dict, sensitive_column=sensitive_column, additional_meta={'sensitive_attribute_mutate': sensitive_attribute_mutate})\n",
    "#     temp_ds.ds.filenameroot = temp_ds.ds.name + f\"_{subgroup_col_name}_{round(100*split_ratio_first_subgroup)}_{round(100*(1-split_ratio_first_subgroup))}_minority_categorized\"\n",
    "    X, y = temp_ds.ds.get_attack_df()\n",
    "\n",
    "    X = X.astype(float)\n",
    "\n",
    "    subgroup_columns = ['RAC1P']\n",
    "\n",
    "    attack_clf = model_utils.load_model(f'<PATH_TO_MODEL>/{temp_ds.ds.filenameroot}_LOMIA_attack_{temp_ds.ds.meta[\"sensitive_column\"]}_model.pkl')\n",
    "\n",
    "    subgroup_disparity_dict = get_disparity_by_subgroup(ds=ds, X_att_query=X, y_att_query=y, subgroup_columns=subgroup_columns, clf=attack_clf, metric='precision')\n",
    "\n",
    "    subgroup_disparity_dicts[sensitive_attribute_mutate] = subgroup_disparity_dict[subgroup_columns[0]]"
   ]
  },
  {
   "cell_type": "code",
   "execution_count": null,
   "metadata": {},
   "outputs": [],
   "source": [
    "subgroup_disparity_dicts_df = pd.DataFrame(subgroup_disparity_dicts).T\n",
    "subgroup_disparity_dicts_df.plot.bar()\n",
    "# set x axis label\n",
    "plt.xlabel(\"% of records with Sensitive Attribute Mutated\")\n",
    "# set y axis label\n",
    "plt.ylabel(\"Precision Disparity\")"
   ]
  },
  {
   "cell_type": "code",
   "execution_count": null,
   "metadata": {},
   "outputs": [],
   "source": [
    "subgroup_disparity_dicts_df['disparity'] = subgroup_disparity_dicts_df[1] - subgroup_disparity_dicts_df[0]\n",
    "subgroup_disparity_dicts_df['disparity'].plot.bar()\n",
    "# set x axis label\n",
    "plt.xlabel(\"% of records with Sensitive Attribute Mutated\")\n",
    "# set y axis label\n",
    "plt.ylabel(\"Precision Disparity\")"
   ]
  },
  {
   "cell_type": "code",
   "execution_count": null,
   "metadata": {},
   "outputs": [],
   "source": [
    "all_sensitive_columns = ['MAR', 'DEAR', 'DEYE', 'DREM', 'DPHY']\n",
    "\n",
    "y_pred_conf_subgroups = {}\n",
    "\n",
    "for sensitive_attribute_mutate in [0.1, 0.25, 0.5, 0.75, 0.9][:5]:\n",
    "    temp_ds = data_utils.CensusWrapper(\n",
    "            filter_prop=\"none\", ratio=float(0.5), split=\"all\", name=\"Census19\", sampling_condition_dict=sampling_condition_dict, sensitive_column=sensitive_column, additional_meta={'sensitive_attribute_mutate': sensitive_attribute_mutate})\n",
    "    \n",
    "#     X, y = temp_ds.ds.get_attack_df()\n",
    "\n",
    "    (x_tr, y_tr), (x_te, y_te), cols = temp_ds.load_data()\n",
    "    X_train = pd.DataFrame(x_tr, columns=cols)\n",
    "    y_tr_onehot = ds.ds.y_enc.transform(y_tr).toarray()\n",
    "\n",
    "    clf = model_utils.load_model(f'<PATH_TO_MODEL>/{temp_ds.ds.filenameroot}_target_model.pkl')\n",
    "\n",
    "    y_pred = clf.predict_proba(X_train)\n",
    "\n",
    "    y_pred_conf = (y_tr_onehot * y_pred).sum(axis=1)\n",
    "\n",
    "    subgroup_col_name = 'RAC1P'\n",
    "\n",
    "    subgroup_col_values = temp_ds.ds.unique_values_dict[subgroup_col_name]\n",
    "\n",
    "    subgroup_indices_dict = {\n",
    "        val: get_indices_by_conditions(temp_ds, X_train, {subgroup_col_name: val}) for val in subgroup_col_values\n",
    "    }\n",
    "\n",
    "    y_pred_conf_subgroup = {\n",
    "        val: y_pred_conf[subgroup_indices_dict[val]] for val in subgroup_col_values\n",
    "    }\n",
    "\n",
    "    y_pred_conf_subgroup['original'] = np.concatenate([y_pred_conf[subgroup_indices_dict[val]] for val in subgroup_col_values])\n",
    "\n",
    "    y_pred_conf_subgroups[sensitive_attribute_mutate] = y_pred_conf_subgroup\n",
    "\n",
    "    # # plot the kdensity of the confidence scores\n",
    "    # for val in subgroup_col_values:\n",
    "    #     sns.kdeplot(y_pred_conf_subgroup[val], label=val)\n",
    "    #     plt.show()\n"
   ]
  },
  {
   "cell_type": "code",
   "execution_count": null,
   "metadata": {},
   "outputs": [],
   "source": [
    "attack_clf = model_utils.load_model(f'<PATH_TO_MODEL>/{ds.ds.filenameroot}_LOMIA_attack_{ds.ds.meta[\"sensitive_column\"]}_model.pkl')\n",
    "X, y = ds.ds.get_attack_df()\n",
    "\n",
    "X = X.astype(float)\n",
    "\n",
    "sens_pred = attack_clf.predict(X)\n",
    "sens_pred = sens_pred.argmax(axis=1)\n",
    "\n",
    "correct_indices = (sens_pred == y)\n",
    "incorrect_indices = (sens_pred != y)\n",
    "\n",
    "subgroup_disparity_dict = {}\n",
    "\n",
    "for metric in ['precision', 'recall', 'f1', 'accuracy', 'mcc', 'gmean']:\n",
    "    subgroup_disparity_dict[metric] = get_disparity_by_subgroup(ds=ds, X_att_query=X, y_att_query=y, subgroup_columns=[subgroup_col_name], clf=attack_clf, metric=metric)[subgroup_col_name]"
   ]
  },
  {
   "cell_type": "code",
   "execution_count": null,
   "metadata": {},
   "outputs": [],
   "source": [
    "y_pred = clf.predict_proba(X_train)\n",
    "\n",
    "# correct_indices = (y_tr.ravel() == np.argmax(y_pred, axis=1))\n",
    "# incorrect_indices = (y_tr.ravel() != np.argmax(y_pred, axis=1))\n",
    "\n",
    "y_pred_conf = (y_tr_onehot * y_pred).sum(axis=1)\n",
    "\n",
    "subgroup_col_name = 'RAC1P'\n",
    "\n",
    "subgroup_col_values = ds.ds.unique_values_dict[subgroup_col_name]\n",
    "\n",
    "subgroup_indices_dict = {\n",
    "    val: get_indices_by_conditions(ds, X_train, {subgroup_col_name: val}) for val in subgroup_col_values\n",
    "}\n",
    "\n",
    "y_pred_conf_subgroup = {\n",
    "    val: y_pred_conf[subgroup_indices_dict[val]] for val in subgroup_col_values\n",
    "}\n",
    "\n",
    "correct_y_pred_conf_subgroup = {\n",
    "    val: y_pred_conf[subgroup_indices_dict[val]][correct_indices[subgroup_indices_dict[val].to_numpy()]] for val in subgroup_col_values\n",
    "}\n",
    "\n",
    "incorrect_y_pred_conf_subgroup = {\n",
    "    val: y_pred_conf[subgroup_indices_dict[val]][incorrect_indices[subgroup_indices_dict[val].to_numpy()]] for val in subgroup_col_values\n",
    "}\n",
    "\n",
    "y_pred_conf_subgroup['original'] = np.concatenate([y_pred_conf[subgroup_indices_dict[val]] for val in subgroup_col_values])\n",
    "correct_y_pred_conf_subgroup['original'] = np.concatenate([y_pred_conf[subgroup_indices_dict[val][correct_indices[subgroup_indices_dict[val].to_numpy()]]] for val in subgroup_col_values])\n",
    "incorrect_y_pred_conf_subgroup['original'] = np.concatenate([y_pred_conf[subgroup_indices_dict[val][incorrect_indices[subgroup_indices_dict[val].to_numpy()]]] for val in subgroup_col_values])"
   ]
  },
  {
   "cell_type": "code",
   "execution_count": null,
   "metadata": {},
   "outputs": [],
   "source": [
    "pd.crosstab(ds.ds.original_df['RAC1P'], ds.ds.original_df['MAR'], normalize='index')"
   ]
  },
  {
   "cell_type": "code",
   "execution_count": null,
   "metadata": {},
   "outputs": [],
   "source": [
    "pd.DataFrame(subgroup_disparity_dict).T"
   ]
  },
  {
   "cell_type": "code",
   "execution_count": null,
   "metadata": {},
   "outputs": [],
   "source": [
    "for val in subgroup_col_values + ['original']:\n",
    "    sns.kdeplot(y_pred_conf_subgroup[val], label=f\"{val} ({round(subgroup_disparity_dict['precision'][val], 2)}%)\")\n",
    "    plt.legend()"
   ]
  },
  {
   "cell_type": "code",
   "execution_count": null,
   "metadata": {},
   "outputs": [],
   "source": [
    "for val in subgroup_col_values + ['original']:\n",
    "    sns.kdeplot(correct_y_pred_conf_subgroup[val], label=f\"{val} ({round(subgroup_disparity_dict['precision'][val], 2)}%)\")\n",
    "    plt.legend()"
   ]
  },
  {
   "cell_type": "code",
   "execution_count": null,
   "metadata": {},
   "outputs": [],
   "source": [
    "for val in subgroup_col_values + ['original']:\n",
    "    sns.kdeplot(incorrect_y_pred_conf_subgroup[val], label=f\"{val} ({round(subgroup_disparity_dict['precision'][val], 2)}%)\")\n",
    "    plt.legend()"
   ]
  },
  {
   "cell_type": "code",
   "execution_count": null,
   "metadata": {},
   "outputs": [],
   "source": [
    "for val in subgroup_col_values:\n",
    "    sns.kdeplot(y_pred_conf_subgroups[0.25][val], label=val)\n",
    "    plt.legend()"
   ]
  },
  {
   "cell_type": "code",
   "execution_count": null,
   "metadata": {},
   "outputs": [],
   "source": [
    "for val in subgroup_col_values:\n",
    "    sns.kdeplot(y_pred_conf_subgroups[0.5][val], label=val)\n",
    "    plt.legend()"
   ]
  },
  {
   "cell_type": "code",
   "execution_count": null,
   "metadata": {},
   "outputs": [],
   "source": [
    "for val in subgroup_col_values:\n",
    "    sns.kdeplot(y_pred_conf_subgroups[0.75][val], label=val)\n",
    "    plt.legend()"
   ]
  },
  {
   "cell_type": "code",
   "execution_count": null,
   "metadata": {},
   "outputs": [],
   "source": [
    "for val in subgroup_col_values:\n",
    "    sns.kdeplot(y_pred_conf_subgroups[0.9][val], label=val)\n",
    "    plt.legend()"
   ]
  },
  {
   "cell_type": "markdown",
   "metadata": {},
   "source": [
    "# Retraining with Case 1 instances"
   ]
  },
  {
   "cell_type": "code",
   "execution_count": null,
   "metadata": {},
   "outputs": [],
   "source": [
    "if True:\n",
    "    sens_pred, case_indices_dict = CSMIA_attack(clf, X_train, y_tr, ds.ds.meta)\n",
    "    case_1_indices_orig = case_indices_dict[1]\n",
    "\n",
    "    X_tampered = X_train[case_1_indices_orig].copy()\n",
    "\n",
    "    X_tampered[['MAR_0']] = 1 - sens_pred[case_1_indices_orig].reshape(-1, 1)\n",
    "    X_tampered[['MAR_1']] = sens_pred[case_1_indices_orig].reshape(-1, 1)\n",
    "\n",
    "    y_case_2 = y_tr[case_1_indices_orig]\n",
    "    # flip the y_case_2 labels\n",
    "    # y_case_2 = 1 - y_case_2\n",
    "    # y_case_2 = np.concatenate([y_case_2 for _ in range(len(ds.ds.meta[\"sensitive_values\"]))]).reshape(-1, 1)\n",
    "    y_case_2_onehot = ds.ds.y_enc.transform(y_case_2).toarray()\n",
    "\n",
    "    \n",
    "\n",
    "    # X_tampered = X_tampered.astype(float)\n",
    "    \n",
    "\n",
    "\n",
    "    clf_retr_grp0 = MLPClassifier(hidden_layer_sizes=(32, 16, 8), max_iter=500, learning_rate_init=0.012)\n",
    "    clf_retr_grp0.partial_fit(X_train, y_tr_onehot, classes=np.unique(y_tr))\n",
    "    temp_clf = model_utils.load_model(f'<PATH_TO_MODEL>/{ds.ds.filenameroot}_target_model.pkl')\n",
    "    clf_retr_grp0.intercepts_ = temp_clf.intercepts_\n",
    "    clf_retr_grp0.coefs_ = temp_clf.coefs_\n",
    "    clf_retr_grp0.partial_fit(X_tampered[(X_tampered['SEX_0']==1).to_numpy()], y_case_2_onehot[(X_tampered['SEX_0']==1).to_numpy()])"
   ]
  },
  {
   "cell_type": "code",
   "execution_count": null,
   "metadata": {},
   "outputs": [],
   "source": [
    "if True:\n",
    "    sens_pred, case_indices_dict = CSMIA_attack(clf, X_train, y_tr, ds.ds.meta)\n",
    "    case_1_indices_orig = case_indices_dict[1]\n",
    "\n",
    "    X_tampered = X_train[case_1_indices_orig].copy()\n",
    "\n",
    "    X_tampered[['MAR_0']] = 1 - sens_pred[case_1_indices_orig].reshape(-1, 1)\n",
    "    X_tampered[['MAR_1']] = sens_pred[case_1_indices_orig].reshape(-1, 1)\n",
    "\n",
    "    y_case_2 = y_tr[case_1_indices_orig]\n",
    "    # flip the y_case_2 labels\n",
    "    # y_case_2 = 1 - y_case_2\n",
    "    # y_case_2 = np.concatenate([y_case_2 for _ in range(len(ds.ds.meta[\"sensitive_values\"]))]).reshape(-1, 1)\n",
    "    y_case_2_onehot = ds.ds.y_enc.transform(y_case_2).toarray()\n",
    "    # X_tampered = X_tampered.astype(float)\n",
    "    \n",
    "\n",
    "\n",
    "    clf_retr_grp1 = MLPClassifier(hidden_layer_sizes=(32, 16, 8), max_iter=500, learning_rate_init=0.012)\n",
    "    clf_retr_grp1.partial_fit(X_train, y_tr_onehot, classes=np.unique(y_tr))\n",
    "    temp_clf = model_utils.load_model(f'<PATH_TO_MODEL>/{ds.ds.filenameroot}_target_model.pkl')\n",
    "    clf_retr_grp1.intercepts_ = temp_clf.intercepts_\n",
    "    clf_retr_grp1.coefs_ = temp_clf.coefs_\n",
    "    clf_retr_grp1.partial_fit(X_tampered[(X_tampered['SEX_1']==1).to_numpy()], y_case_2_onehot[(X_tampered['SEX_1']==1).to_numpy()])"
   ]
  },
  {
   "cell_type": "code",
   "execution_count": null,
   "metadata": {},
   "outputs": [],
   "source": [
    "for metric in ['precision', 'recall', 'f1', 'accuracy', 'mcc', 'gmean', 'fpr']:\n",
    "    for i, tmp_clf in enumerate([clf, clf_retr_grp0, clf_retr_grp1][:1]):\n",
    "        print(f\"\\n{['Original', 'Retrained on Group 0 Case 1', 'Retrained on Group 1 Case 1'][i]}\")\n",
    "        print(get_CSMIA_case_by_case_results(tmp_clf, X_train, y_tr, ds, subgroup_col_name='SEX', metric = metric))\n",
    "    print(f'\\n\\n() shows the performance on metric {metric}')\n",
    "    print('-'*50)\n",
    "    print('\\n\\n')"
   ]
  },
  {
   "cell_type": "markdown",
   "metadata": {},
   "source": [
    "Original Target Model"
   ]
  },
  {
   "cell_type": "code",
   "execution_count": null,
   "metadata": {},
   "outputs": [],
   "source": [
    "get_CSMIA_case_by_case_results(clf, X_train, y_tr, ds, subgroup_col_name='SEX', metric = 'confusion_matrix')"
   ]
  },
  {
   "cell_type": "markdown",
   "metadata": {},
   "source": [
    "Retrained Target Model with Group 0 Case 1 instances"
   ]
  },
  {
   "cell_type": "code",
   "execution_count": null,
   "metadata": {},
   "outputs": [],
   "source": [
    "get_CSMIA_case_by_case_results(clf_retr_grp0, X_train, y_tr, ds, subgroup_col_name='SEX', metric = 'confusion_matrix')"
   ]
  },
  {
   "cell_type": "markdown",
   "metadata": {},
   "source": [
    "Retrained Target Model with Group 1 Case 1 instances"
   ]
  },
  {
   "cell_type": "code",
   "execution_count": null,
   "metadata": {},
   "outputs": [],
   "source": [
    "get_CSMIA_case_by_case_results(clf_retr_grp1, X_train, y_tr, ds, subgroup_col_name='SEX', metric = 'confusion_matrix')"
   ]
  },
  {
   "cell_type": "markdown",
   "metadata": {},
   "source": [
    "Test performance of Retrained Target Model with Group 0 Case 1 instances"
   ]
  },
  {
   "cell_type": "code",
   "execution_count": null,
   "metadata": {},
   "outputs": [],
   "source": [
    "train_acc = 100 * clf_retr_grp0.score(X_train, ds.ds.y_enc.transform(y_tr).toarray())\n",
    "test_acc = 100 * clf_retr_grp0.score(x_te, ds.ds.y_enc.transform(y_te).toarray())\n",
    "if True:\n",
    "    print(\"Classifier: Train acc %.2f , Test acc %.2f\\n\" %\n",
    "            (train_acc, test_acc))"
   ]
  },
  {
   "cell_type": "markdown",
   "metadata": {},
   "source": [
    "Test performance of Retrained Target Model with Group 1 Case 1 instances"
   ]
  },
  {
   "cell_type": "code",
   "execution_count": null,
   "metadata": {},
   "outputs": [],
   "source": [
    "train_acc = 100 * clf_retr_grp1.score(X_train, ds.ds.y_enc.transform(y_tr).toarray())\n",
    "test_acc = 100 * clf_retr_grp1.score(x_te, ds.ds.y_enc.transform(y_te).toarray())\n",
    "if True:\n",
    "    print(\"Classifier: Train acc %.2f , Test acc %.2f\\n\" %\n",
    "            (train_acc, test_acc))"
   ]
  },
  {
   "cell_type": "markdown",
   "metadata": {},
   "source": [
    "# CSMIA on w/out Fairness Constraint and w/ Fairness Constraint"
   ]
  },
  {
   "cell_type": "markdown",
   "metadata": {},
   "source": [
    "Case breakdown for target model without fairness constraint"
   ]
  },
  {
   "cell_type": "code",
   "execution_count": null,
   "metadata": {},
   "outputs": [],
   "source": [
    "get_CSMIA_case_by_case_results(clf, X_train, y_tr, ds, subgroup_col_name='SEX', metric = 'mcc')"
   ]
  },
  {
   "cell_type": "markdown",
   "metadata": {},
   "source": [
    "Re-Training the target model with case 1 records of Male subgroup"
   ]
  },
  {
   "cell_type": "code",
   "execution_count": null,
   "metadata": {},
   "outputs": [],
   "source": [
    "if True:\n",
    "    sens_pred, case_indices_dict = CSMIA_attack(clf, X_train, y_tr, ds.ds.meta)\n",
    "    case_1_indices_orig = case_indices_dict[1]\n",
    "\n",
    "    X_tampered = X_train[case_1_indices_orig].copy()\n",
    "\n",
    "    X_tampered[['MAR_0']] = 1 - sens_pred[case_1_indices_orig].reshape(-1, 1)\n",
    "    X_tampered[['MAR_1']] = sens_pred[case_1_indices_orig].reshape(-1, 1)\n",
    "\n",
    "    y_case_2 = y_tr[case_1_indices_orig]\n",
    "    # flip the y_case_2 labels\n",
    "    # y_case_2 = 1 - y_case_2\n",
    "    # y_case_2 = np.concatenate([y_case_2 for _ in range(len(ds.ds.meta[\"sensitive_values\"]))]).reshape(-1, 1)\n",
    "    y_case_2_onehot = ds.ds.y_enc.transform(y_case_2).toarray()\n",
    "\n",
    "    \n",
    "\n",
    "    # X_tampered = X_tampered.astype(float)\n",
    "    \n",
    "\n",
    "\n",
    "    clf_retrained_vuln = MLPClassifier(hidden_layer_sizes=(32, 16, 8), max_iter=500, learning_rate_init=0.012)\n",
    "    clf_retrained_vuln.partial_fit(X_train, y_tr_onehot, classes=np.unique(y_tr))\n",
    "    temp_clf = model_utils.load_model(f'<PATH_TO_MODEL>/{ds.ds.filenameroot}_target_model.pkl')\n",
    "    clf_retrained_vuln.intercepts_ = temp_clf.intercepts_\n",
    "    clf_retrained_vuln.coefs_ = temp_clf.coefs_\n",
    "    clf_retrained_vuln.partial_fit(X_tampered[(X_tampered['SEX_0']==1).to_numpy()], y_case_2_onehot[(X_tampered['SEX_0']==1).to_numpy()])"
   ]
  },
  {
   "cell_type": "markdown",
   "metadata": {},
   "source": [
    "Case breakdown for target model with fairness constraint"
   ]
  },
  {
   "cell_type": "code",
   "execution_count": null,
   "metadata": {},
   "outputs": [],
   "source": [
    "get_CSMIA_case_by_case_results(new_clf, X_train, y_tr, ds, subgroup_col_name='SEX', metric = 'mcc')"
   ]
  },
  {
   "cell_type": "markdown",
   "metadata": {},
   "source": [
    "Re-Training the target model with case 1 records of Female (Vulnerable) subgroup"
   ]
  },
  {
   "cell_type": "code",
   "execution_count": null,
   "metadata": {},
   "outputs": [],
   "source": [
    "if True:\n",
    "    sens_pred, case_indices_dict = CSMIA_attack(clf, X_train, y_tr, ds.ds.meta)\n",
    "    case_1_indices_orig = case_indices_dict[1]\n",
    "\n",
    "    X_tampered = X_train[case_1_indices_orig].copy()\n",
    "\n",
    "    X_tampered[['MAR_0']] = 1 - sens_pred[case_1_indices_orig].reshape(-1, 1)\n",
    "    X_tampered[['MAR_1']] = sens_pred[case_1_indices_orig].reshape(-1, 1)\n",
    "\n",
    "    y_case_2 = y_tr[case_1_indices_orig]\n",
    "    # flip the y_case_2 labels\n",
    "    # y_case_2 = 1 - y_case_2\n",
    "    # y_case_2 = np.concatenate([y_case_2 for _ in range(len(ds.ds.meta[\"sensitive_values\"]))]).reshape(-1, 1)\n",
    "    y_case_2_onehot = ds.ds.y_enc.transform(y_case_2).toarray()\n",
    "\n",
    "    \n",
    "\n",
    "    # X_tampered = X_tampered.astype(float)\n",
    "    \n",
    "\n",
    "\n",
    "    new_clf = MLPClassifier(hidden_layer_sizes=(32, 16, 8), max_iter=500, learning_rate_init=0.024)\n",
    "    new_clf.partial_fit(X_train, y_tr_onehot, classes=np.unique(y_tr))\n",
    "    temp_clf = model_utils.load_model(f'<PATH_TO_MODEL>/{ds.ds.filenameroot}_target_model.pkl')\n",
    "    new_clf.intercepts_ = temp_clf.intercepts_\n",
    "    new_clf.coefs_ = temp_clf.coefs_\n",
    "    new_clf.partial_fit(X_tampered[(X_tampered['SEX_1']==1).to_numpy()], y_case_2_onehot[(X_tampered['SEX_1']==1).to_numpy()])"
   ]
  },
  {
   "cell_type": "markdown",
   "metadata": {},
   "source": [
    "Case breakdown for retrained Target Model"
   ]
  },
  {
   "cell_type": "code",
   "execution_count": null,
   "metadata": {},
   "outputs": [],
   "source": [
    "get_CSMIA_case_by_case_results(new_clf, X_train, y_tr, ds, subgroup_col_name='SEX', metric = 'mcc')"
   ]
  },
  {
   "cell_type": "code",
   "execution_count": null,
   "metadata": {},
   "outputs": [],
   "source": [
    "sens_pred, case_indices_dict = CSMIA_attack(clf, X_train, y_tr, ds.ds.meta)\n",
    "case_1_indices_orig = case_indices_dict[1]\n",
    "pd.crosstab(X_train['SEX_1'][case_1_indices_orig], new_sens_pred[case_1_indices_orig])"
   ]
  },
  {
   "cell_type": "code",
   "execution_count": null,
   "metadata": {},
   "outputs": [],
   "source": [
    "new_sens_pred, new_case_indices_dict = CSMIA_attack(new_clf, X_train, y_tr, ds.ds.meta)\n",
    "new_case_1_indices_orig = new_case_indices_dict[1]\n",
    "pd.crosstab(X_train['SEX_1'][new_case_1_indices_orig], new_sens_pred[new_case_1_indices_orig])"
   ]
  },
  {
   "cell_type": "code",
   "execution_count": null,
   "metadata": {},
   "outputs": [],
   "source": [
    "get_CSMIA_case_by_case_results(mitigator, X_train, y_tr, ds, subgroup_col_name='SEX')"
   ]
  },
  {
   "cell_type": "code",
   "execution_count": null,
   "metadata": {},
   "outputs": [],
   "source": [
    "get_CSMIA_case_by_case_results(mitigator._hs[9]._classifier, X_train, y_tr, ds, subgroup_col_name='SEX')"
   ]
  },
  {
   "cell_type": "code",
   "execution_count": null,
   "metadata": {},
   "outputs": [],
   "source": [
    "get_CSMIA_case_by_case_results(mitigator._hs[5]._classifier, X_train, y_tr, ds, subgroup_col_name='SEX')"
   ]
  },
  {
   "cell_type": "code",
   "execution_count": null,
   "metadata": {},
   "outputs": [],
   "source": [
    "get_CSMIA_case_by_case_results(clf, X_test, y_te, ds, subgroup_col_name='SEX')"
   ]
  },
  {
   "cell_type": "code",
   "execution_count": null,
   "metadata": {},
   "outputs": [],
   "source": [
    "get_CSMIA_case_by_case_results(mitigator, X_test, y_te, ds, subgroup_col_name='SEX')"
   ]
  },
  {
   "cell_type": "code",
   "execution_count": null,
   "metadata": {},
   "outputs": [],
   "source": [
    "mitigator.weights_"
   ]
  },
  {
   "cell_type": "code",
   "execution_count": null,
   "metadata": {},
   "outputs": [],
   "source": [
    "mitigator._hs[2](X_test.iloc[0:10])"
   ]
  },
  {
   "attachments": {},
   "cell_type": "markdown",
   "metadata": {},
   "source": [
    "# Shap Explanation vs Confidence Gap"
   ]
  },
  {
   "cell_type": "code",
   "execution_count": null,
   "metadata": {},
   "outputs": [],
   "source": [
    "def CSMIA_attack(model, X_test, y_test, meta):\n",
    "    dfs = [X_test.copy() for _ in range(len(meta[\"sensitive_values\"]))]\n",
    "    sensitive_columns = [f'{meta[\"sensitive_column\"]}_{i}' for i in range(len(meta[\"sensitive_values\"]))]\n",
    "    for i in range(len(dfs)):\n",
    "        dfs[i][sensitive_columns] = 0\n",
    "        dfs[i][f'{meta[\"sensitive_column\"]}_{i}'] = 1\n",
    "    \n",
    "    if isinstance(model, ExponentiatedGradient):\n",
    "        y_confs = np.array([np.max(model._pmf_predict(df), axis=1) for df in dfs]).T\n",
    "        y_preds = [np.argmax(model._pmf_predict(df), axis=1)==y_test.ravel() for df in dfs]\n",
    "    else:\n",
    "        y_confs = np.array([np.max(model.predict_proba(df), axis=1) for df in dfs]).T\n",
    "        y_preds = [np.argmax(model.predict_proba(df), axis=1)==y_tr.ravel() for df in dfs]\n",
    "    y_preds = np.array(y_preds).T\n",
    "    case_1_indices = (y_preds.sum(axis=1) == 1)\n",
    "    case_2_indices = (y_preds.sum(axis=1) > 1)\n",
    "    case_3_indices = (y_preds.sum(axis=1) == 0)\n",
    "\n",
    "    sens_pred = np.zeros(y_preds.shape[0])\n",
    "    sens_pred[case_1_indices] = np.argmax(y_preds[case_1_indices], axis=1)\n",
    "    sens_pred[case_2_indices] = np.argmax(y_confs[case_2_indices], axis=1)\n",
    "    sens_pred[case_3_indices] = np.argmin(y_confs[case_3_indices], axis=1)\n",
    "    return sens_pred, {1: case_1_indices, 2: case_2_indices, 3: case_3_indices}\n"
   ]
  },
  {
   "cell_type": "code",
   "execution_count": null,
   "metadata": {},
   "outputs": [],
   "source": [
    "X_temp_CSMIA = X_train.copy()\n",
    "X_temp_CSMIA['MAR_1'], _ = CSMIA_attack(clf, X_train, y_tr, ds.ds.meta)\n",
    "X_temp_CSMIA['MAR_0'] = 1 - X_temp_CSMIA['MAR_1']"
   ]
  },
  {
   "cell_type": "code",
   "execution_count": null,
   "metadata": {},
   "outputs": [],
   "source": [
    "# (CSMIA_attack(clf, X_train, y_tr, ds.ds.meta) == X_train[['MAR_1']].to_numpy().ravel()).sum() / len(X_train)\n",
    "\n",
    "background = shap.kmeans(X_temp_CSMIA, 10)\n",
    "explainer = shap.KernelExplainer(f, background)\n",
    "shap_values_CSMIA = explainer.shap_values(X_temp_CSMIA, nsamples=100)\n",
    "\n",
    "np.save(f'<PATH_TO_SHAP_VALUES>/{ds.ds.filenameroot}_{ds.ds.meta[\"sensitive_column\"]}_CSMIA_shap_values.npy', shap_values_CSMIA)"
   ]
  },
  {
   "cell_type": "code",
   "execution_count": null,
   "metadata": {},
   "outputs": [],
   "source": [
    "pd.crosstab(ds.ds.original_df['RAC1P'], ds.ds.original_df['MAR'], normalize='index')"
   ]
  },
  {
   "cell_type": "code",
   "execution_count": null,
   "metadata": {},
   "outputs": [],
   "source": [
    "pd.DataFrame(subgroup_disparity_dict).T"
   ]
  },
  {
   "cell_type": "code",
   "execution_count": null,
   "metadata": {},
   "outputs": [],
   "source": [
    "shap_values_CSMIA = np.load(f'<PATH_TO_SHAP_VALUES>/{ds.ds.filenameroot}_{ds.ds.meta[\"sensitive_column\"]}_CSMIA_shap_values.npy')\n",
    "\n",
    "sens_indices = [cols.get_loc(f'{ds.ds.meta[\"sensitive_column\"]}_{val}') for val in ds.ds.meta[\"sensitive_values\"]]\n",
    "sensitive_col_shap_values_CSMIA = shap_values_CSMIA[:, sens_indices]\n",
    "\n",
    "sens_pred_CSMIA, case_indices = CSMIA_attack(clf, X_train, y_tr, ds.ds.meta)\n",
    "correct_indices_CSMIA = (sens_pred_CSMIA == X_train[['MAR_1']].to_numpy().ravel())"
   ]
  },
  {
   "cell_type": "code",
   "execution_count": null,
   "metadata": {},
   "outputs": [],
   "source": [
    "print(X_train.iloc[correct_indices_CSMIA][X_train['RAC1P_1']==1].shape[0] / X_train[X_train['RAC1P_1']==1].shape[0])\n",
    "print(X_train.iloc[correct_indices_CSMIA][X_train['RAC1P_0']==1].shape[0] / X_train[X_train['RAC1P_0']==1].shape[0])"
   ]
  },
  {
   "cell_type": "code",
   "execution_count": null,
   "metadata": {},
   "outputs": [],
   "source": [
    "temp_dict = {}\n",
    "for thr in np.linspace(-0.6, 0.6, 25):\n",
    "    try:\n",
    "        thr = round(thr, 2)\n",
    "        target_values = sensitive_col_shap_values_CSMIA[:, 0]\n",
    "        shap_value_cond_filter = np.intersect1d(np.argwhere(target_values < thr).ravel(), np.argwhere(target_values > thr - 0.05).ravel())\n",
    "        correct_csmia_indices_shap_cond = np.intersect1d(np.argwhere(shap_value_cond_filter).ravel(), np.argwhere(correct_indices_CSMIA).ravel())\n",
    "        csmia_indices_shap_cond = np.argwhere(shap_value_cond_filter).ravel()\n",
    "        # np.intersect1d(np.argwhere(shap_value_cond_filter).ravel(), lomia_correct_indices).shape[0] / np.intersect1d(np.argwhere(shap_value_cond_filter).ravel(), lomia_indices).shape[0]\n",
    "        ratio_correct_csmia = correct_csmia_indices_shap_cond.shape[0] / csmia_indices_shap_cond.shape[0]\n",
    "        # print(f\"Shap value range: [{round(thr-0.05, 2)}, {thr}], correct case 1 ratio: {ratio_correct_lomia_case1}, correct: {correct_lomia_indices_shap_cond.shape[0]}, total: {lomia_indices_shap_cond.shape[0]}\")\n",
    "        ratio_correct_csmia_case_dict = {\n",
    "            i : np.intersect1d(correct_csmia_indices_shap_cond, np.argwhere(case_indices[i]).ravel()).shape[0] / np.intersect1d(csmia_indices_shap_cond, np.argwhere(case_indices[i]).ravel()).shape[0] for i in range(1, 4)\n",
    "        }\n",
    "        total_csmia_case_dict = {\n",
    "            i : np.intersect1d(csmia_indices_shap_cond, np.argwhere(case_indices[i]).ravel()).shape[0] for i in range(1, 4)\n",
    "        }\n",
    "        subgroup_csmia_case_dict = {\n",
    "            i: X_train.iloc[np.intersect1d(csmia_indices_shap_cond, np.argwhere(case_indices[i]).ravel())]['RAC1P_1'].value_counts() for i in range(1, 4)\n",
    "        }\n",
    "        temp_dict[thr] = {\n",
    "            'Shap Value': f\"[{round(thr-0.05, 2)}, {thr}]\",\n",
    "            'accuracy': round(ratio_correct_csmia, 4),\n",
    "            'correct': correct_csmia_indices_shap_cond.shape[0],\n",
    "            'total': csmia_indices_shap_cond.shape[0],\n",
    "            'correct ratio case 1': f\"{round(ratio_correct_csmia_case_dict[1], 4)} ({total_csmia_case_dict[1]})\",\n",
    "            'correct ratio case 2': f\"{round(ratio_correct_csmia_case_dict[2], 4)} ({total_csmia_case_dict[2]})\",\n",
    "            'correct ratio case 3': f\"{round(ratio_correct_csmia_case_dict[3], 4)} ({total_csmia_case_dict[3]})\",\n",
    "            'subgroup case 1 (1 + 0)': f\"{subgroup_csmia_case_dict[1][1]} + {subgroup_csmia_case_dict[1][0]}\",\n",
    "            'subgroup case 2 (1 + 0)': f\"{subgroup_csmia_case_dict[2][1]} + {subgroup_csmia_case_dict[2][0]}\",\n",
    "            'subgroup case 3 (1 + 0)': f\"{subgroup_csmia_case_dict[3][1]} + {subgroup_csmia_case_dict[3][0]}\",\n",
    "        }\n",
    "    except:\n",
    "        # print(shap_value_cond_filter)\n",
    "        pass\n",
    "\n",
    "temp_df = pd.DataFrame.from_dict(temp_dict, orient='index')\n",
    "temp_df.index = temp_df['Shap Value']\n",
    "temp_df = temp_df.drop(columns=['Shap Value'])\n",
    "temp_df"
   ]
  },
  {
   "cell_type": "code",
   "execution_count": null,
   "metadata": {},
   "outputs": [],
   "source": [
    "attack_dataset, lomia_indices, lomia_correct_indices = model_utils.LOMIA_attack(mitigator, X_train, y_tr, ds.ds.meta)"
   ]
  },
  {
   "cell_type": "code",
   "execution_count": null,
   "metadata": {},
   "outputs": [],
   "source": [
    "def CSMIA_attack(model, X_test, y_test, meta):\n",
    "    dfs = [X_test.copy() for _ in range(len(meta[\"sensitive_values\"]))]\n",
    "    sensitive_columns = [f'{meta[\"sensitive_column\"]}_{i}' for i in range(len(meta[\"sensitive_values\"]))]\n",
    "    for i in range(len(dfs)):\n",
    "        dfs[i][sensitive_columns] = 0\n",
    "        dfs[i][f'{meta[\"sensitive_column\"]}_{i}'] = 1\n",
    "    \n",
    "    y_confs = np.array([np.max(model.predict_proba(df), axis=1) for df in dfs]).T\n",
    "    y_preds = [np.argmax(model.predict_proba(df), axis=1)==y_tr.ravel() for df in dfs]\n",
    "    y_preds = np.array(y_preds).T\n",
    "    case_1_indices = (y_preds.sum(axis=1) == 1)\n",
    "    case_2_indices = (y_preds.sum(axis=1) > 1)\n",
    "    case_3_indices = (y_preds.sum(axis=1) == 0)\n",
    "\n",
    "    sens_pred = np.zeros(y_preds.shape[0])\n",
    "    sens_pred[case_1_indices] = np.argmax(y_preds[case_1_indices], axis=1)\n",
    "    sens_pred[case_2_indices] = np.argmax(y_confs[case_2_indices], axis=1)\n",
    "    sens_pred[case_3_indices] = np.argmin(y_confs[case_3_indices], axis=1)\n",
    "    return sens_pred, {1: case_1_indices, 2: case_2_indices, 3: case_3_indices}\n"
   ]
  },
  {
   "attachments": {
    "image.png": {
     "image/png": "[encoded data removed]"
    }
   },
   "cell_type": "markdown",
   "metadata": {},
   "source": [
    "![image.png](attachment:image.png)"
   ]
  },
  {
   "cell_type": "code",
   "execution_count": null,
   "metadata": {},
   "outputs": [],
   "source": [
    "sens_pred_mitigator, mitigator_case_indices = CSMIA_attack(mitigator, X_train, y_tr, ds.ds.meta)\n",
    "correct_indices_mitigator = (sens_pred_mitigator == X_train[['MAR_1']].to_numpy().ravel())\n",
    "\n",
    "subgroup_csmia_case_dict_mitigator = {\n",
    "    i: X_train.iloc[np.argwhere(mitigator_case_indices[i]).ravel()][f'{subgroup_col_name}_1'].value_counts() for i in range(1, 4)\n",
    "}\n",
    "subgroup_csmia_case_correct_dict_mitigator = {\n",
    "    i: X_train.iloc[np.intersect1d(np.argwhere(mitigator_case_indices[i]).ravel(), np.argwhere(correct_indices_mitigator).ravel())][f'{subgroup_col_name}_1'].value_counts() for i in range(1, 4)\n",
    "}\n",
    "\n",
    "temp_dict = {\n",
    "    f'Case {i}': { j: f'{subgroup_csmia_case_dict_mitigator[i][j]} ({round(100 * subgroup_csmia_case_correct_dict_mitigator[i][j] / subgroup_csmia_case_dict_mitigator[i][j], 2)})' for j in [1, 0] } for i in range(1, 4)\n",
    "}\n",
    "temp_dict['All Cases'] = { j: f'{subgroup_csmia_case_dict_mitigator[1][j] + subgroup_csmia_case_dict_mitigator[2][j] + subgroup_csmia_case_dict_mitigator[3][j]} ({round(100 * (subgroup_csmia_case_correct_dict_mitigator[1][j] + subgroup_csmia_case_correct_dict_mitigator[2][j] + subgroup_csmia_case_correct_dict_mitigator[3][j]) / (subgroup_csmia_case_dict_mitigator[1][j] + subgroup_csmia_case_dict_mitigator[2][j] + subgroup_csmia_case_dict_mitigator[3][j]), 2)})' for j in [1, 0] }\n",
    "\n",
    "temp_df = pd.DataFrame.from_dict(temp_dict, orient='index')\n",
    "temp_df"
   ]
  },
  {
   "cell_type": "code",
   "execution_count": null,
   "metadata": {},
   "outputs": [],
   "source": [
    "sens_pred_mitigator, mitigator_case_indices = CSMIA_attack(clf, X_train, y_tr, ds.ds.meta)\n",
    "correct_indices_mitigator = (sens_pred_mitigator == X_train[['MAR_1']].to_numpy().ravel())\n",
    "\n",
    "subgroup_csmia_case_dict_mitigator = {\n",
    "    i: X_train.iloc[np.argwhere(mitigator_case_indices[i]).ravel()][f'{subgroup_col_name}_1'].value_counts() for i in range(1, 4)\n",
    "}\n",
    "subgroup_csmia_case_correct_dict_mitigator = {\n",
    "    i: X_train.iloc[np.intersect1d(np.argwhere(mitigator_case_indices[i]).ravel(), np.argwhere(correct_indices_mitigator).ravel())][f'{subgroup_col_name}_1'].value_counts() for i in range(1, 4)\n",
    "}\n",
    "\n",
    "temp_dict = {\n",
    "    f'Case {i}': { j: f'{subgroup_csmia_case_dict_mitigator[i][j]} ({round(100 * subgroup_csmia_case_correct_dict_mitigator[i][j] / subgroup_csmia_case_dict_mitigator[i][j], 2)})' for j in [1, 0] } for i in range(1, 4)\n",
    "}\n",
    "temp_dict['All Cases'] = { j: f'{subgroup_csmia_case_dict_mitigator[1][j] + subgroup_csmia_case_dict_mitigator[2][j] + subgroup_csmia_case_dict_mitigator[3][j]} ({round(100 * (subgroup_csmia_case_correct_dict_mitigator[1][j] + subgroup_csmia_case_correct_dict_mitigator[2][j] + subgroup_csmia_case_correct_dict_mitigator[3][j]) / (subgroup_csmia_case_dict_mitigator[1][j] + subgroup_csmia_case_dict_mitigator[2][j] + subgroup_csmia_case_dict_mitigator[3][j]), 2)})' for j in [1, 0] }\n",
    "\n",
    "temp_df = pd.DataFrame.from_dict(temp_dict, orient='index')\n",
    "temp_df"
   ]
  },
  {
   "cell_type": "code",
   "execution_count": null,
   "metadata": {},
   "outputs": [],
   "source": [
    "print(round(X_train['SEX_1'].corr(pd.Series(np.argmax(mitigator._pmf_predict(X_train), axis=1))), 6))\n",
    "print(round(X_train['MAR_1'].corr(pd.Series(np.argmax(mitigator._pmf_predict(X_train), axis=1))), 6))"
   ]
  },
  {
   "cell_type": "code",
   "execution_count": null,
   "metadata": {},
   "outputs": [],
   "source": [
    "dfs = [X_train.copy() for _ in range(len(ds.ds.meta[\"sensitive_values\"]))]\n",
    "sensitive_columns = [f'{ds.ds.meta[\"sensitive_column\"]}_{i}' for i in range(len(ds.ds.meta[\"sensitive_values\"]))]\n",
    "for i in range(len(dfs)):\n",
    "    dfs[i][sensitive_columns] = 0\n",
    "    dfs[i][f'{ds.ds.meta[\"sensitive_column\"]}_{i}'] = 1\n",
    "\n",
    "y_preds = [mitigator.predict(df)==y_tr.ravel() for df in dfs]\n",
    "y_preds = np.array(y_preds).T\n",
    "\n",
    "case1_indices = (y_preds.sum(axis=1) == 1)\n",
    "\n",
    "X_train.iloc[case1_indices]['RAC1P_1'].value_counts()"
   ]
  },
  {
   "cell_type": "code",
   "execution_count": null,
   "metadata": {},
   "outputs": [],
   "source": [
    "dfs = [X_train.copy() for _ in range(len(ds.ds.meta[\"sensitive_values\"]))]\n",
    "sensitive_columns = [f'{ds.ds.meta[\"sensitive_column\"]}_{i}' for i in range(len(ds.ds.meta[\"sensitive_values\"]))]\n",
    "for i in range(len(dfs)):\n",
    "    dfs[i][sensitive_columns] = 0\n",
    "    dfs[i][f'{ds.ds.meta[\"sensitive_column\"]}_{i}'] = 1\n",
    "\n",
    "y_preds = [np.argmax(clf.predict_proba(df), axis=1)==y_tr.ravel() for df in dfs]\n",
    "y_preds = np.array(y_preds).T\n",
    "\n",
    "case1_indices = (y_preds.sum(axis=1) == 1)\n",
    "\n",
    "X_train.iloc[case1_indices]['RAC1P_1'].value_counts()"
   ]
  },
  {
   "cell_type": "code",
   "execution_count": null,
   "metadata": {},
   "outputs": [],
   "source": [
    "temp_dict = {}\n",
    "for thr in np.linspace(0.05, 1.0, 20):\n",
    "    try:\n",
    "        thr = round(thr, 2)\n",
    "        target_values = np.max(clf.predict_proba(X_temp_CSMIA), axis=1)\n",
    "        shap_value_cond_filter = np.intersect1d(np.argwhere(target_values < thr).ravel(), np.argwhere(target_values > thr - 0.05).ravel())\n",
    "        correct_csmia_indices_shap_cond = np.intersect1d(np.argwhere(shap_value_cond_filter).ravel(), np.argwhere(correct_indices_CSMIA).ravel())\n",
    "        csmia_indices_shap_cond = np.argwhere(shap_value_cond_filter).ravel()\n",
    "        # np.intersect1d(np.argwhere(shap_value_cond_filter).ravel(), lomia_correct_indices).shape[0] / np.intersect1d(np.argwhere(shap_value_cond_filter).ravel(), lomia_indices).shape[0]\n",
    "        ratio_correct_csmia = correct_csmia_indices_shap_cond.shape[0] / csmia_indices_shap_cond.shape[0]\n",
    "        # print(f\"Shap value range: [{round(thr-0.05, 2)}, {thr}], correct case 1 ratio: {ratio_correct_lomia_case1}, correct: {correct_lomia_indices_shap_cond.shape[0]}, total: {lomia_indices_shap_cond.shape[0]}\")\n",
    "        ratio_correct_csmia_case_dict = {\n",
    "            i : np.intersect1d(correct_csmia_indices_shap_cond, np.argwhere(case_indices[i]).ravel()).shape[0] / np.intersect1d(csmia_indices_shap_cond, np.argwhere(case_indices[i]).ravel()).shape[0] for i in range(1, 4)\n",
    "        }\n",
    "        total_csmia_case_dict = {\n",
    "            i : np.intersect1d(csmia_indices_shap_cond, np.argwhere(case_indices[i]).ravel()).shape[0] for i in range(1, 4)\n",
    "        }\n",
    "        subgroup_csmia_case_dict = {\n",
    "            i: X_train.iloc[np.intersect1d(csmia_indices_shap_cond, np.argwhere(case_indices[i]).ravel())]['RAC1P_1'].value_counts() for i in range(1, 4)\n",
    "        }\n",
    "        subgroup_csmia_case_correct_dict = {\n",
    "            i: X_train.iloc[np.intersect1d(correct_csmia_indices_shap_cond, np.argwhere(case_indices[i]).ravel())]['RAC1P_1'].value_counts() for i in range(1, 4)\n",
    "        }\n",
    "        temp_dict[thr] = {\n",
    "            'Prediction Confidence': f\"[{round(thr-0.05, 2)}, {thr}]\",\n",
    "            'correct ratio': round(ratio_correct_csmia, 4),\n",
    "            # 'correct': correct_csmia_indices_shap_cond.shape[0],\n",
    "            'total': csmia_indices_shap_cond.shape[0],\n",
    "            # 'correct ratio case 1': f\"{round(100 * ratio_correct_csmia_case_dict[1], 2)} ({total_csmia_case_dict[1]})\",\n",
    "            # 'correct ratio case 2': f\"{round(100 * ratio_correct_csmia_case_dict[2], 2)} ({total_csmia_case_dict[2]})\",\n",
    "            # 'correct ratio case 3': f\"{round(100 * ratio_correct_csmia_case_dict[3], 2)} ({total_csmia_case_dict[3]})\",\n",
    "            # 'subgroup case 1 (1 + 0)': f\"{subgroup_csmia_case_dict[1][1]} + {subgroup_csmia_case_dict[1][0]}\",\n",
    "            # 'subgroup case 2 (1 + 0)': f\"{subgroup_csmia_case_dict[2][1]} + {subgroup_csmia_case_dict[2][0]}\",\n",
    "            # 'subgroup case 3 (1 + 0)': f\"{subgroup_csmia_case_dict[3][1]} + {subgroup_csmia_case_dict[3][0]}\",\n",
    "            'subgroup case 1 (1 + 0)': f\"{subgroup_csmia_case_dict[1][1]} ({round(100 * subgroup_csmia_case_correct_dict[1][1]/ subgroup_csmia_case_dict[1][1], 2)}) + {subgroup_csmia_case_dict[1][0]} ({round(100 * subgroup_csmia_case_correct_dict[1][0]/ subgroup_csmia_case_dict[1][0], 2)})\",\n",
    "            'subgroup case 2 (1 + 0)': f\"{subgroup_csmia_case_dict[2][1]} ({round(100 * subgroup_csmia_case_correct_dict[2][1]/ subgroup_csmia_case_dict[2][1], 2)}) + {subgroup_csmia_case_dict[2][0]} ({round(100 * subgroup_csmia_case_correct_dict[2][0]/ subgroup_csmia_case_dict[2][0], 2)})\",\n",
    "            'subgroup case 3 (1 + 0)': f\"{subgroup_csmia_case_dict[3][1]} ({round(100 * subgroup_csmia_case_correct_dict[3][1]/ subgroup_csmia_case_dict[3][1], 2)}) + {subgroup_csmia_case_dict[3][0]} ({round(100 * subgroup_csmia_case_correct_dict[3][0]/ subgroup_csmia_case_dict[3][0], 2)})\"\n",
    "        }\n",
    "    except:\n",
    "        # print(shap_value_cond_filter)\n",
    "        pass\n",
    "\n",
    "temp_df = pd.DataFrame.from_dict(temp_dict, orient='index')\n",
    "temp_df.index = temp_df['Prediction Confidence']\n",
    "temp_df = temp_df.drop(columns=['Prediction Confidence'])\n",
    "temp_df"
   ]
  },
  {
   "cell_type": "code",
   "execution_count": null,
   "metadata": {},
   "outputs": [],
   "source": [
    "np.argwhere(((y_tr_onehot[case_indices[3]] * clf.predict_proba(X_temp_CSMIA.iloc[case_indices[3]])).sum(axis=1) - (y_tr_onehot[case_indices[3]] * clf.predict_proba(X_temp_CSMIA_p.iloc[case_indices[3]])).sum(axis=1)) > 0.5)"
   ]
  },
  {
   "cell_type": "code",
   "execution_count": null,
   "metadata": {},
   "outputs": [],
   "source": [
    "((y_tr_onehot[case_indices[3]] * clf.predict_proba(X_temp_CSMIA.iloc[case_indices[3]])).sum(axis=1) - (y_tr_onehot[case_indices[3]] * clf.predict_proba(X_temp_CSMIA_p.iloc[case_indices[3]])).sum(axis=1))[3350]"
   ]
  },
  {
   "cell_type": "code",
   "execution_count": null,
   "metadata": {},
   "outputs": [],
   "source": [
    "X_temp_CSMIA_p = X_temp_CSMIA.copy()\n",
    "X_temp_CSMIA_p[['MAR_0', 'MAR_1']] = 1 - X_temp_CSMIA_p[['MAR_0', 'MAR_1']]\n",
    "conf_gaps = (y_tr_onehot * clf.predict_proba(X_temp_CSMIA)).sum(axis=1) - (y_tr_onehot * clf.predict_proba(X_temp_CSMIA_p)).sum(axis=1)\n",
    "\n",
    "temp_dict = {}\n",
    "for thr in np.linspace(0.05, 1.0, 20):\n",
    "    try:\n",
    "        thr = round(thr, 2)\n",
    "        target_values = conf_gaps\n",
    "        shap_value_cond_filter = np.intersect1d(np.argwhere(target_values < thr).ravel(), np.argwhere(target_values > thr - 0.05).ravel())\n",
    "        correct_csmia_indices_shap_cond = np.intersect1d(np.argwhere(shap_value_cond_filter).ravel(), np.argwhere(correct_indices_CSMIA).ravel())\n",
    "        csmia_indices_shap_cond = np.argwhere(shap_value_cond_filter).ravel()\n",
    "        # np.intersect1d(np.argwhere(shap_value_cond_filter).ravel(), lomia_correct_indices).shape[0] / np.intersect1d(np.argwhere(shap_value_cond_filter).ravel(), lomia_indices).shape[0]\n",
    "        ratio_correct_csmia = correct_csmia_indices_shap_cond.shape[0] / csmia_indices_shap_cond.shape[0]\n",
    "        # ratio_correct_csmia_case_1 = np.intersect1d(correct_csmia_indices_shap_cond, np.argwhere(case_indices[1]).ravel()).shape[0] / np.intersect1d(csmia_indices_shap_cond, np.argwhere(case_indices[1]).ravel()).shape[0]\n",
    "        # ratio_correct_csmia_case_2 = np.intersect1d(correct_csmia_indices_shap_cond, np.argwhere(case_indices[2]).ravel()).shape[0] / np.intersect1d(csmia_indices_shap_cond, np.argwhere(case_indices[2]).ravel()).shape[0]\n",
    "        ratio_correct_csmia_case_dict = {\n",
    "            i : np.intersect1d(correct_csmia_indices_shap_cond, np.argwhere(case_indices[i]).ravel()).shape[0] / np.intersect1d(csmia_indices_shap_cond, np.argwhere(case_indices[i]).ravel()).shape[0] for i in range(1, 4)\n",
    "        }\n",
    "        total_csmia_case_dict = {\n",
    "            i : np.intersect1d(csmia_indices_shap_cond, np.argwhere(case_indices[i]).ravel()).shape[0] for i in range(1, 4)\n",
    "        }\n",
    "        subgroup_csmia_case_dict = {\n",
    "            i: X_train.iloc[np.intersect1d(csmia_indices_shap_cond, np.argwhere(case_indices[i]).ravel())]['RAC1P_1'].value_counts() for i in range(1, 4)\n",
    "        }\n",
    "        # print(f\"Shap value range: [{round(thr-0.05, 2)}, {thr}], correct case 1 ratio: {ratio_correct_lomia_case1}, correct: {correct_lomia_indices_shap_cond.shape[0]}, total: {lomia_indices_shap_cond.shape[0]}\")\n",
    "        temp_dict[thr] = {\n",
    "            'Confidence Gap': f\"[{round(thr-0.05, 2)}, {thr}]\",\n",
    "            'correct ratio': round(ratio_correct_csmia, 4),\n",
    "            'correct': correct_csmia_indices_shap_cond.shape[0],\n",
    "            'total': csmia_indices_shap_cond.shape[0],\n",
    "            'correct ratio case 1': f\"{round(ratio_correct_csmia_case_dict[1], 4)} ({total_csmia_case_dict[1]})\",\n",
    "            'correct ratio case 2': f\"{round(ratio_correct_csmia_case_dict[2], 4)} ({total_csmia_case_dict[2]})\",\n",
    "            'correct ratio case 3': f\"{round(ratio_correct_csmia_case_dict[3], 4)} ({total_csmia_case_dict[3]})\",\n",
    "            'subgroup case 1 (1 + 0)': f\"{subgroup_csmia_case_dict[1][1]} + {subgroup_csmia_case_dict[1][0]}\",\n",
    "            'subgroup case 2 (1 + 0)': f\"{subgroup_csmia_case_dict[2][1]} + {subgroup_csmia_case_dict[2][0]}\",\n",
    "            'subgroup case 3 (1 + 0)': f\"{subgroup_csmia_case_dict[3][1]} + {subgroup_csmia_case_dict[3][0]}\",\n",
    "            # 'correct ratio case 2': round(ratio_correct_csmia_case_dict[2], 4),\n",
    "            # 'correct ratio case 3': round(ratio_correct_csmia_case_dict[3], 4),\n",
    "        }\n",
    "    except:\n",
    "        # print(shap_value_cond_filter)\n",
    "        pass\n",
    "\n",
    "temp_df = pd.DataFrame.from_dict(temp_dict, orient='index')\n",
    "temp_df.index = temp_df['Confidence Gap']\n",
    "temp_df = temp_df.drop(columns=['Confidence Gap'])\n",
    "temp_df"
   ]
  },
  {
   "cell_type": "code",
   "execution_count": null,
   "metadata": {},
   "outputs": [],
   "source": [
    "import shap\n",
    "target_model = model_utils.port_mlp_to_ch(clf)\n",
    "\n",
    "def f(X):\n",
    "    # X_tensor = torch.from_numpy(X.to_numpy()).float().to(model_utils.device)\n",
    "    X_tensor = torch.from_numpy(X).float().to(model_utils.device)\n",
    "    predictions = target_model(X_tensor)\n",
    "    # predictions is of shape (batch_size, 2) and contains the logits\n",
    "    # for each data point in the batch, we need to return the class with the highest probability\n",
    "    # we can do this by taking the argmax of the logits\n",
    "    return predictions.argmax(dim=1).detach().cpu().numpy()\n",
    "\n",
    "X_temp = attack_df.copy().drop(columns=[ds.ds.meta['y_column']])\n",
    "y_temp = attack_df[ds.ds.meta['y_column']]\n",
    "\n",
    "background = shap.kmeans(X_temp, 10)\n",
    "explainer = shap.KernelExplainer(f, background)\n",
    "shap_values = explainer.shap_values(X_temp, nsamples=100)\n",
    "\n",
    "save_shap_values = False\n",
    "if save_shap_values:\n",
    "    np.save(f'<PATH_TO_SHAP_VALUES>/{ds.ds.filenameroot}_{ds.ds.meta[\"sensitive_column\"]}_shap_values.npy', shap_values)"
   ]
  },
  {
   "cell_type": "code",
   "execution_count": null,
   "metadata": {},
   "outputs": [],
   "source": [
    "subgroup_lomia_correct_indices = {\n",
    "    val: np.intersect1d(subgroup_indices_dict[val], lomia_correct_indices) for val in subgroup_col_values\n",
    "}\n",
    "subgroup_lomia_indices = {\n",
    "    val: np.intersect1d(subgroup_indices_dict[val], lomia_indices) for val in subgroup_col_values\n",
    "}\n",
    "subgroup_correct_lomia_case1_ratio = {\n",
    "    val: subgroup_lomia_correct_indices[val].shape[0] / subgroup_lomia_indices[val].shape[0] for val in subgroup_col_values\n",
    "}"
   ]
  },
  {
   "cell_type": "code",
   "execution_count": null,
   "metadata": {},
   "outputs": [],
   "source": [
    "subgroup_correct_lomia_case1_ratio"
   ]
  },
  {
   "cell_type": "code",
   "execution_count": null,
   "metadata": {},
   "outputs": [],
   "source": [
    "shap_values.shape"
   ]
  },
  {
   "cell_type": "code",
   "execution_count": null,
   "metadata": {},
   "outputs": [],
   "source": [
    "# shap_values = np.load(f'<PATH_TO_SHAP_VALUES>/{ds.ds.filenameroot}_{ds.ds.meta[\"sensitive_column\"]}_shap_values.npy')\n",
    "\n",
    "sens_indices = [cols.get_loc(f'{ds.ds.meta[\"sensitive_column\"]}_{val}') for val in ds.ds.meta[\"sensitive_values\"]]\n",
    "sensitive_col_shap_values = shap_values[:, sens_indices]"
   ]
  },
  {
   "attachments": {},
   "cell_type": "markdown",
   "metadata": {},
   "source": [
    "+ ~65% of the LOMIA case 1 samples have the correct sensitive attribute value\n",
    "+ If we can find a way to separate the correct case 1 samples, the attack model trained on the filtered data will be more effective\n",
    "+ Below we try to see if the correct and incorrect case 1 samples have different shap values"
   ]
  },
  {
   "cell_type": "code",
   "execution_count": null,
   "metadata": {},
   "outputs": [],
   "source": [
    "temp_dict = {}\n",
    "for thr in np.linspace(-0.6, 0.6, 25):\n",
    "    try:\n",
    "        thr = round(thr, 2)\n",
    "        target_values = sensitive_col_shap_values[:, 0]\n",
    "        shap_value_cond_filter = np.intersect1d(np.argwhere(target_values < thr).ravel(), np.argwhere(target_values > thr - 0.05).ravel())\n",
    "        correct_lomia_indices_shap_cond = np.intersect1d(np.argwhere(shap_value_cond_filter).ravel(), np.argwhere(np.isin(lomia_indices, lomia_correct_indices)))\n",
    "        lomia_indices_shap_cond = np.argwhere(shap_value_cond_filter).ravel()\n",
    "        # np.intersect1d(np.argwhere(shap_value_cond_filter).ravel(), lomia_correct_indices).shape[0] / np.intersect1d(np.argwhere(shap_value_cond_filter).ravel(), lomia_indices).shape[0]\n",
    "        ratio_correct_lomia_case1 = correct_lomia_indices_shap_cond.shape[0] / lomia_indices_shap_cond.shape[0]\n",
    "        # print(f\"Shap value range: [{round(thr-0.05, 2)}, {thr}], correct case 1 ratio: {ratio_correct_lomia_case1}, correct: {correct_lomia_indices_shap_cond.shape[0]}, total: {lomia_indices_shap_cond.shape[0]}\")\n",
    "        temp_dict[thr] = {\n",
    "            'Shap Value': f\"[{round(thr-0.05, 2)}, {thr}]\",\n",
    "            'correct case 1 ratio': round(ratio_correct_lomia_case1, 4),\n",
    "            'correct': correct_lomia_indices_shap_cond.shape[0],\n",
    "            'total': lomia_indices_shap_cond.shape[0]\n",
    "        }\n",
    "    except:\n",
    "        # print(shap_value_cond_filter)\n",
    "        pass\n",
    "\n",
    "temp_df = pd.DataFrame.from_dict(temp_dict, orient='index')\n",
    "temp_df.index = temp_df['Shap Value']\n",
    "temp_df = temp_df.drop(columns=['Shap Value'])\n",
    "temp_df"
   ]
  },
  {
   "attachments": {},
   "cell_type": "markdown",
   "metadata": {},
   "source": [
    "Now we try to see if the correct and incorrect case 1 samples have different prediction confidence"
   ]
  },
  {
   "cell_type": "code",
   "execution_count": null,
   "metadata": {},
   "outputs": [],
   "source": [
    "temp_dict = {}\n",
    "for thr in np.linspace(0.55, 1.0, 10):\n",
    "    try:\n",
    "        thr = round(thr, 2)\n",
    "        target_values = np.max(clf.predict_proba(X_temp), axis=1)\n",
    "        shap_value_cond_filter = np.intersect1d(np.argwhere(target_values < thr).ravel(), np.argwhere(target_values > thr - 0.05).ravel())\n",
    "        correct_lomia_indices_shap_cond = np.intersect1d(np.argwhere(shap_value_cond_filter).ravel(), np.argwhere(np.isin(lomia_indices, lomia_correct_indices)))\n",
    "        lomia_indices_shap_cond = np.argwhere(shap_value_cond_filter).ravel()\n",
    "        # np.intersect1d(np.argwhere(shap_value_cond_filter).ravel(), lomia_correct_indices).shape[0] / np.intersect1d(np.argwhere(shap_value_cond_filter).ravel(), lomia_indices).shape[0]\n",
    "        ratio_correct_lomia_case1 = correct_lomia_indices_shap_cond.shape[0] / lomia_indices_shap_cond.shape[0]\n",
    "        # print(f\"Prediction Confidence Range: [{round(thr-0.05, 2)}, {thr}], correct case 1 ratio: {ratio_correct_lomia_case1}, correct: {correct_lomia_indices_shap_cond.shape[0]}, total: {lomia_indices_shap_cond.shape[0]}\")\n",
    "        temp_dict[thr] = {\n",
    "            'Prediction Confidence': f\"[{round(thr-0.05, 2)}, {thr}]\",\n",
    "            'correct case 1 ratio': round(ratio_correct_lomia_case1, 4),\n",
    "            'correct': correct_lomia_indices_shap_cond.shape[0],\n",
    "            'total': lomia_indices_shap_cond.shape[0]\n",
    "        }\n",
    "    except:\n",
    "        print(shap_value_cond_filter)\n",
    "        pass\n",
    "\n",
    "temp_df = pd.DataFrame.from_dict(temp_dict, orient='index')\n",
    "temp_df.index = temp_df['Prediction Confidence']\n",
    "temp_df = temp_df.drop(columns=['Prediction Confidence'])\n",
    "temp_df"
   ]
  },
  {
   "cell_type": "code",
   "execution_count": null,
   "metadata": {},
   "outputs": [],
   "source": [
    "X_temp_p = X_temp.copy()\n",
    "X_temp_p[['MAR_0', 'MAR_1']] = 1 - X_temp_p[['MAR_0', 'MAR_1']]\n",
    "conf_gaps = np.max(clf.predict_proba(X_temp), axis=1) - (y_tr_onehot[lomia_indices] * clf.predict_proba(X_temp_p)).sum(axis=1)\n",
    "\n",
    "temp_dict = {}\n",
    "for thr in np.linspace(0.05, 1, 20):\n",
    "    try:\n",
    "        thr = round(thr, 2)\n",
    "        target_values = conf_gaps\n",
    "        shap_value_cond_filter = np.intersect1d(np.argwhere(target_values < thr).ravel(), np.argwhere(target_values > thr - 0.05).ravel())\n",
    "        correct_lomia_indices_shap_cond = np.intersect1d(np.argwhere(shap_value_cond_filter).ravel(), np.argwhere(np.isin(lomia_indices, lomia_correct_indices)))\n",
    "        lomia_indices_shap_cond = np.argwhere(shap_value_cond_filter).ravel()\n",
    "        # np.intersect1d(np.argwhere(shap_value_cond_filter).ravel(), lomia_correct_indices).shape[0] / np.intersect1d(np.argwhere(shap_value_cond_filter).ravel(), lomia_indices).shape[0]\n",
    "        ratio_correct_lomia_case1 = correct_lomia_indices_shap_cond.shape[0] / lomia_indices_shap_cond.shape[0]\n",
    "        # print(f\"Prediction Confidence Gap: [{round(thr-0.05, 2)}, {thr}], correct case 1 ratio: {ratio_correct_lomia_case1}, correct: {correct_lomia_indices_shap_cond.shape[0]}, total: {lomia_indices_shap_cond.shape[0]}\")\n",
    "        temp_dict[thr] = {\n",
    "            'Prediction Confidence Gap': f\"[{round(thr-0.05, 2)}, {thr}]\",\n",
    "            'correct case 1 ratio': round(ratio_correct_lomia_case1, 4),\n",
    "            'correct': correct_lomia_indices_shap_cond.shape[0],\n",
    "            'total': lomia_indices_shap_cond.shape[0]\n",
    "        }\n",
    "    except:\n",
    "        print(shap_value_cond_filter)\n",
    "        pass\n",
    "\n",
    "temp_df = pd.DataFrame.from_dict(temp_dict, orient='index')\n",
    "temp_df.index = temp_df['Prediction Confidence Gap']\n",
    "temp_df = temp_df.drop(columns=['Prediction Confidence Gap'])\n",
    "temp_df"
   ]
  },
  {
   "cell_type": "code",
   "execution_count": null,
   "metadata": {},
   "outputs": [],
   "source": [
    "y_tr[lomia_indices].ravel() == np.argmax(clf.predict_proba(X_temp), axis=1)"
   ]
  },
  {
   "cell_type": "code",
   "execution_count": null,
   "metadata": {},
   "outputs": [],
   "source": [
    "for thr in np.linspace(-0.6, 0.6, 25):\n",
    "    try:\n",
    "        thr = round(thr, 2)\n",
    "        shap_value_cond_filter = np.intersect1d(np.argwhere(sensitive_col_shap_values[:, 0] < thr).ravel(), np.argwhere(sensitive_col_shap_values[:, 0] > thr - 0.05).ravel())\n",
    "        correct_lomia_indices_shap_cond = np.intersect1d(np.argwhere(shap_value_cond_filter).ravel(), lomia_correct_indices)\n",
    "        lomia_indices_shap_cond = np.intersect1d(np.argwhere(shap_value_cond_filter).ravel(), lomia_indices)\n",
    "        # np.intersect1d(np.argwhere(shap_value_cond_filter).ravel(), lomia_correct_indices).shape[0] / np.intersect1d(np.argwhere(shap_value_cond_filter).ravel(), lomia_indices).shape[0]\n",
    "        ratio_correct_lomia_case1 = correct_lomia_indices_shap_cond.shape[0] / lomia_indices_shap_cond.shape[0]\n",
    "        print(f\"Shap value range: [{round(thr-0.05, 2)}, {thr}], correct case 1 ratio: {ratio_correct_lomia_case1}, correct: {correct_lomia_indices_shap_cond.shape[0]}, total: {lomia_indices_shap_cond.shape[0]}\")\n",
    "    except:\n",
    "        pass"
   ]
  },
  {
   "cell_type": "code",
   "execution_count": null,
   "metadata": {},
   "outputs": [],
   "source": [
    "# calculate correlation between each column of shap_values and the correctness of the lomia indices samples\n",
    "lomia_correct = np.zeros(shap_values.shape[0])\n",
    "lomia_correct[lomia_correct_indices] = 1\n",
    "lomia_correct = lomia_correct.astype(bool)\n",
    "lomia_correct = lomia_correct[lomia_indices]\n",
    "lomia_correct = lomia_correct.astype(int)\n",
    "lomia_shap_values = shap_values[lomia_indices, :]\n",
    "for i in range(lomia_shap_values.shape[1]):\n",
    "    print(f\"Correlation between shap value of column {i} and lomia correctness: {np.corrcoef(lomia_shap_values[:, i], lomia_correct)[0, 1]}\")"
   ]
  },
  {
   "cell_type": "code",
   "execution_count": null,
   "metadata": {},
   "outputs": [],
   "source": [
    "np.intersect1d(np.argwhere(y_pred_conf > 0.5).ravel(), lomia_correct_indices).shape[0] / np.intersect1d(np.argwhere(y_pred_conf > 0.5).ravel(), lomia_indices).shape[0]"
   ]
  },
  {
   "cell_type": "code",
   "execution_count": null,
   "metadata": {},
   "outputs": [],
   "source": [
    "np.intersect1d(np.argwhere(y_pred_conf > 0.5).ravel(), lomia_indices).shape[0]"
   ]
  },
  {
   "cell_type": "code",
   "execution_count": null,
   "metadata": {},
   "outputs": [],
   "source": [
    "clf.predict_proba(X_train)[lomia_indices]"
   ]
  },
  {
   "cell_type": "code",
   "execution_count": null,
   "metadata": {},
   "outputs": [],
   "source": [
    "(np.argmax(clf.predict_proba(X_train), axis=1) == y_tr.ravel()).sum()"
   ]
  },
  {
   "cell_type": "code",
   "execution_count": null,
   "metadata": {},
   "outputs": [],
   "source": [
    "y_pred[lomia_indices]"
   ]
  },
  {
   "cell_type": "code",
   "execution_count": null,
   "metadata": {},
   "outputs": [],
   "source": [
    "sns.displot(y_pred_conf[lomia_correct_indices], label='correct')"
   ]
  },
  {
   "cell_type": "code",
   "execution_count": null,
   "metadata": {},
   "outputs": [],
   "source": [
    "sns.displot(y_pred_conf[lomia_indices], label='correct')"
   ]
  },
  {
   "cell_type": "code",
   "execution_count": null,
   "metadata": {},
   "outputs": [],
   "source": [
    "sens_indices = [cols.get_loc(f'{ds.ds.meta[\"sensitive_column\"]}_{val}') for val in ds.ds.meta[\"sensitive_values\"]]\n",
    "sensitive_col_shap_values = shap_values[:, sens_indices]"
   ]
  },
  {
   "cell_type": "code",
   "execution_count": null,
   "metadata": {},
   "outputs": [],
   "source": [
    "sns.scatterplot(x=sensitive_col_shap_values[correct_indices.to_numpy(), 1], y=y_pred_conf[correct_indices.to_numpy()], alpha=0.1)"
   ]
  },
  {
   "cell_type": "code",
   "execution_count": null,
   "metadata": {},
   "outputs": [],
   "source": [
    "sns.scatterplot(x=sensitive_col_shap_values[incorrect_indices.to_numpy(), 1], y=y_pred_conf[incorrect_indices.to_numpy()], alpha=0.1)"
   ]
  },
  {
   "attachments": {},
   "cell_type": "markdown",
   "metadata": {},
   "source": [
    "# Permutation Importance vs LOMIA Attack Performance on Different Subgroups"
   ]
  },
  {
   "cell_type": "code",
   "execution_count": null,
   "metadata": {},
   "outputs": [],
   "source": [
    "def get_perm_imp(r):\n",
    "    result_mean, result_std = {}, {}\n",
    "    # for i in r.importances_mean.argsort()[::-1]:\n",
    "    for i in range(len(r.importances_mean)):\n",
    "        # if r.importances_mean[i] - 2 * r.importances_std[i] > 0 or True:\n",
    "        # print(i)\n",
    "        if cols[i] in all_sensitive_col_full_names:\n",
    "            # print(f\"{cols[i]} \"\n",
    "            #     f\"{r.importances_mean[i]:.8f}\"\n",
    "            #     f\" +/- {r.importances_std[i]:.8f}\")\n",
    "            result_mean[cols[i]] = r.importances_mean[i]\n",
    "            result_std[cols[i]] = r.importances_std[i]\n",
    "\n",
    "    return result_mean, result_std\n",
    "\n",
    "all_sensitive_col_full_names = [f'{col}' for col in cols.to_numpy() if col.split('_')[0] in all_sensitive_columns + ['MAR']]\n",
    "\n",
    "r_rac1ps = []\n",
    "\n",
    "for i in range(2):\n",
    "    rac1p_indices = get_indices_by_conditions(ds, X_train, {'RAC1P': i})\n",
    "    r_rac1ps.append(permutation_importance(clf, X_train.loc[rac1p_indices,:] , ds.ds.y_enc.transform(y_tr[rac1p_indices.to_numpy()]).toarray(),\n",
    "                            n_repeats=30,\n",
    "                            random_state=0))\n",
    "    \n",
    "perm_imps_race = {\n",
    "    i: get_perm_imp(r_rac1ps[i])[0] for i in range(2)\n",
    "}\n",
    "# perm_imps_race['all'] = get_perm_imp(r_train)[0]"
   ]
  },
  {
   "cell_type": "code",
   "execution_count": null,
   "metadata": {},
   "outputs": [],
   "source": [
    "perm_imps_race_df = pd.DataFrame(perm_imps_race)\n",
    "\n",
    "# for col in ['MAR', 'DREM', 'DPHY', 'DEAR', 'DEYE']:\n",
    "#     results_race_df.loc[col] = results_race_df.loc[f'{col}_1'] / results_race_df.loc[f'{col}_0']\n",
    "\n",
    "    # results_race_df.loc[col] = results_race_df.loc[col] / results_race_df.loc[col]['all']\n",
    "\n",
    "perm_imps_race_df"
   ]
  },
  {
   "cell_type": "code",
   "execution_count": null,
   "metadata": {},
   "outputs": [],
   "source": [
    "aucs_df = pd.DataFrame(aucs, columns=['MAR', 'DEAR', 'DEYE', 'DREM', 'DPHY']).T\n",
    "\n",
    "aucs_df"
   ]
  },
  {
   "cell_type": "code",
   "execution_count": null,
   "metadata": {},
   "outputs": [],
   "source": [
    "recalls_df = pd.DataFrame(recalls, columns=['MAR', 'DEAR', 'DEYE', 'DREM', 'DPHY']).T\n",
    "recalls_df"
   ]
  },
  {
   "attachments": {},
   "cell_type": "markdown",
   "metadata": {},
   "source": [
    "# Model Inversion with Full Records"
   ]
  },
  {
   "cell_type": "code",
   "execution_count": null,
   "metadata": {},
   "outputs": [],
   "source": [
    "X, y = ds.ds.get_attack_df()\n",
    "# Convert X to float\n",
    "X = X.astype(float)\n",
    "y_onehot = ds.ds.sensitive_enc.transform(y.to_numpy().ravel().reshape(-1, 1)).toarray()"
   ]
  },
  {
   "cell_type": "code",
   "execution_count": null,
   "metadata": {},
   "outputs": [],
   "source": [
    "save_model = True\n",
    "\n",
    "try:\n",
    "    inv_clfs = model_utils.load_model(f'<PATH_TO_MODEL>/{ds.ds.filenameroot}_inverse_model.pkl')\n",
    "except:\n",
    "    x_tr, x_te, y_tr, y_te = train_test_split(X, y_onehot, test_size=0.9, random_state=42)\n",
    "\n",
    "    inv_clf = model_utils.get_model(max_iter=500)\n",
    "    inv_clf.fit(x_tr, y_tr)\n",
    "    # inv_clf = model_utils.proxy_train_mlp(x_tr.to_numpy(), y_tr, epochs=100)\n",
    "    # inv_clfs[test_size] = inv_clf\n",
    "\n",
    "    acc = 100 * inv_clf.score(x_te, y_te)\n",
    "    print(f'Inverse accuracy with test size : {acc}')\n",
    "\n",
    "    if save_model:\n",
    "        model_utils.save_model(inv_clf, f'<PATH_TO_MODEL>/{ds.ds.filenameroot}_inverse_model.pkl')"
   ]
  },
  {
   "cell_type": "code",
   "execution_count": null,
   "metadata": {},
   "outputs": [],
   "source": [
    "save_model = True\n",
    "all_sensitive_columns = ['MAR', 'DEAR', 'DEYE', 'DREM', 'DPHY']\n",
    "\n",
    "subgroup_disparity_dicts = {}\n",
    "\n",
    "for sensitive_column in all_sensitive_columns:\n",
    "    temp_ds = data_utils.CensusWrapper(\n",
    "            filter_prop=\"none\", ratio=float(0.5), split=\"all\", name=\"Census19\", sampling_condition_dict=sampling_condition_dict, sensitive_column=sensitive_column)\n",
    "    temp_ds.ds.filenameroot = temp_ds.ds.name + f\"_{subgroup_col_name}_{round(100*split_ratio_first_subgroup)}_{round(100*(1-split_ratio_first_subgroup))}_minority_categorized\"\n",
    "    X, y = temp_ds.ds.get_attack_df()\n",
    "\n",
    "    X = X.astype(float)\n",
    "\n",
    "    y_onehot = temp_ds.ds.sensitive_enc.transform(y.to_numpy().ravel().reshape(-1, 1)).toarray()\n",
    "\n",
    "    subgroup_columns = ['RAC1P']\n",
    "\n",
    "    try:\n",
    "        inv_clf = model_utils.load_model(f'<PATH_TO_MODEL>/{temp_ds.ds.filenameroot}_inverse_model_{sensitive_column}.pkl')\n",
    "\n",
    "    except:\n",
    "        x_tr, x_te, y_tr, y_te = train_test_split(X, y_onehot, test_size=0.9, random_state=42)\n",
    "\n",
    "        inv_clf = model_utils.get_model(max_iter=500)\n",
    "        inv_clf.fit(x_tr, y_tr)\n",
    "        # inv_clf = model_utils.proxy_train_mlp(x_tr.to_numpy(), y_tr, epochs=100)\n",
    "        # inv_clfs[test_size] = inv_clf\n",
    "\n",
    "        acc = 100 * inv_clf.score(x_te, y_te)\n",
    "        print(f'Inverse accuracy with test size : {acc}')\n",
    "\n",
    "        if save_model:\n",
    "            model_utils.save_model(inv_clf, f'<PATH_TO_MODEL>/{temp_ds.ds.filenameroot}_inverse_model_{sensitive_column}.pkl')\n",
    "    \n",
    "    subgroup_disparity_dict = get_disparity_by_subgroup(attack_type='INV', ds=ds, subgroup_columns=['RAC1P'], X_att_query=X, y_att_query=y, metric='auc', clf=inv_clf)\n",
    "    subgroup_disparity_dicts[sensitive_column] = subgroup_disparity_dict"
   ]
  },
  {
   "cell_type": "code",
   "execution_count": null,
   "metadata": {},
   "outputs": [],
   "source": [
    "subgroup_disparity_dicts"
   ]
  },
  {
   "cell_type": "code",
   "execution_count": null,
   "metadata": {},
   "outputs": [],
   "source": [
    "load_model = False\n",
    "save_model = False\n",
    "\n",
    "if load_model:\n",
    "    inv_clfs = model_utils.load_model(f'<PATH_TO_MODEL>/{ds.ds.name}_inverse_model.pkl')\n",
    "else:\n",
    "\n",
    "    inv_clfs = {}\n",
    "\n",
    "    for test_size in [0.5, 0.6, 0.7, 0.8, 0.9]:\n",
    "        x_tr, x_te, y_tr, y_te = train_test_split(X, y_onehot, test_size=test_size, random_state=42)\n",
    "\n",
    "        # inv_clf = model_utils.get_model(max_iter=500, hidden_layer_sizes=(60, 50, 40, 30, 20, 10))\n",
    "        # pca_clf.fit(x_tr, y_tr)\n",
    "        inv_clf = model_utils.proxy_train_mlp(x_tr.to_numpy(), y_tr, epochs=100)\n",
    "        inv_clfs[test_size] = inv_clf\n",
    "\n",
    "        acc = 100 * inv_clf.score(x_te, y_te)\n",
    "        print(f'Inverse accuracy with test size {test_size}: {acc}')\n",
    "\n",
    "    if save_model:\n",
    "        model_utils.save_model(inv_clfs, f'<PATH_TO_MODEL>/{ds.ds.name}_inverse_model.pkl')"
   ]
  },
  {
   "cell_type": "code",
   "execution_count": null,
   "metadata": {},
   "outputs": [],
   "source": [
    "inv_names = []\n",
    "inv_aucs = []\n",
    "\n",
    "for test_size in [0.9, 0.8, 0.7, 0.6, 0.5]:\n",
    "    x_tr, x_te, y_tr, y_te = train_test_split(X, y_onehot, test_size=test_size, random_state=42)\n",
    "\n",
    "    inv_clf = inv_clfs[test_size]\n",
    "    \n",
    "    # calculate auc\n",
    "    y_pred = inv_clf.predict_proba(x_te)\n",
    "    auc = roc_auc_score(y_te, y_pred)\n",
    "    inv_names.append(f'Inverse-{round((1-test_size)*100)}%')\n",
    "    inv_aucs.append(auc*100)\n",
    "    print(f'AUC with test size {test_size}: {auc}')"
   ]
  },
  {
   "cell_type": "code",
   "execution_count": null,
   "metadata": {},
   "outputs": [],
   "source": [
    "subgroup_columns = ['sex', 'race', 'relig']\n",
    "\n",
    "# if 'att_enc' not in globals():\n",
    "#     y_onehot, att_enc = model_utils.get_onehot(y.to_numpy().ravel().reshape(-1,1))\n",
    "test_size = 0.9\n",
    "\n",
    "x_tr, x_te, y_tr, y_te = train_test_split(X, y, test_size=test_size, random_state=42)\n",
    "\n",
    "inv_clf = inv_clfs[test_size]\n",
    "subgroup_disparity_dict = get_subgroup_disparity(ds, subgroup_columns, inv_clf, x_te, y_te, metric='auc')"
   ]
  },
  {
   "cell_type": "code",
   "execution_count": null,
   "metadata": {},
   "outputs": [],
   "source": [
    "subgroup_disparity_dict"
   ]
  },
  {
   "attachments": {},
   "cell_type": "markdown",
   "metadata": {},
   "source": [
    "# Grad Approach"
   ]
  },
  {
   "cell_type": "code",
   "execution_count": null,
   "metadata": {},
   "outputs": [],
   "source": [
    "import torch\n",
    "import torch.nn as nn\n",
    "import torch.optim as optim\n",
    "from torch.utils.data import Dataset, DataLoader\n",
    "\n",
    "# Step 1: Prepare the dataset\n",
    "# Assuming you have already loaded and preprocessed the GSS dataset\n",
    "X_train_for_grad, X_test_for_grad, y_train_for_grad, y_test_for_grad = torch.tensor(x_tr, dtype=torch.float32, requires_grad=True), torch.tensor(x_te, dtype=torch.float32, requires_grad=True), torch.tensor(y_tr, dtype=torch.float32, requires_grad=True), torch.tensor(y_te, dtype=torch.float32, requires_grad=True)\n",
    "\n",
    "# Step 2: Create a custom dataset\n",
    "class GradAttDataset(Dataset):\n",
    "    def __init__(self, features, labels):\n",
    "        self.features = features\n",
    "        self.labels = labels\n",
    "\n",
    "    def __len__(self):\n",
    "        return len(self.features)\n",
    "\n",
    "    def __getitem__(self, index):\n",
    "        x = torch.Tensor(self.features[index])\n",
    "        y = torch.Tensor([self.labels[index]])\n",
    "        return x, y\n",
    "\n",
    "train_dataset = GradAttDataset(X_train_for_grad, y_train_for_grad)\n",
    "test_dataset = GradAttDataset(X_test_for_grad, y_test_for_grad)\n",
    "\n",
    "# Step 8: Train the model\n",
    "train_loader = DataLoader(train_dataset, batch_size=1, shuffle=True)"
   ]
  },
  {
   "cell_type": "code",
   "execution_count": null,
   "metadata": {},
   "outputs": [],
   "source": [
    "all_sensitive_columns = ['default', 'DEAR', 'DEYE', 'DREM', 'DPHY']"
   ]
  },
  {
   "cell_type": "code",
   "execution_count": null,
   "metadata": {},
   "outputs": [],
   "source": [
    "def check_if_grad_stored():\n",
    "    # check if the following list of files exist\n",
    "    # if they do, then we have already stored the gradients\n",
    "    # if not, then we need to store the gradients\n",
    "    filenames = [f'grads/{ds.ds.filenameroot}_{sens_col}_orig_grads.npy' for sens_col in all_sensitive_columns]\n",
    "    return all([os.path.exists(filename) for filename in filenames])\n",
    "\n",
    "if not check_if_grad_stored():\n",
    "    for i, sens_col in enumerate(all_sensitive_columns):\n",
    "        meta = data_utils.CensusWrapper(name='Census19', sensitive_column=sens_col, preload=False).ds.meta\n",
    "        sens_indices = [cols.get_loc(f'{meta[\"sensitive_column\"]}_{val}') for val in meta[\"sensitive_values\"]]\n",
    "        sens_attrs = []\n",
    "        scores = []\n",
    "        orig_grads = []\n",
    "        grads_after_flip = []\n",
    "        y_trues = []\n",
    "        \n",
    "        target_model = port_mlp_to_ch(clf)\n",
    "        optim = torch.optim.Adam(target_model.parameters(), lr=0.001)\n",
    "        # for batch in tqdm(train_loader):\n",
    "        for idx, batch in enumerate(train_loader):\n",
    "            # if idx > 100:\n",
    "            #     break\n",
    "            optim.zero_grad()\n",
    "            # batch = next(iter(train_loader))\n",
    "            x, y = batch\n",
    "            x, y = x.to('mps'), y.to('mps')\n",
    "            y_pred = target_model(x)\n",
    "            loss_fn = nn.CrossEntropyLoss()\n",
    "            loss = loss_fn(y_pred, y.long().reshape(-1))\n",
    "            # loss = nn.CrossEntropyLoss()(y_pred, y.long())\n",
    "            loss.backward()\n",
    "            grad = [p.grad.clone().detach().cpu().numpy().reshape(-1) for p in target_model.parameters()]\n",
    "            grad = np.concatenate(grad)\n",
    "            orig_grads.append(grad)\n",
    "\n",
    "            optim.zero_grad()\n",
    "            x_np = x.clone().detach().cpu().numpy()\n",
    "            # x_np[0,55:57] = 1 - x_np[0,55:57]\n",
    "            x_np[0, sens_indices] = 1 - x_np[0, sens_indices]\n",
    "            x_clone = torch.tensor(x_np, requires_grad=True).to('mps')\n",
    "            y_pred2 = target_model(x_clone)\n",
    "            loss_fn = nn.CrossEntropyLoss()\n",
    "            loss = loss_fn(y_pred2, y.long().reshape(-1))\n",
    "            loss.backward()\n",
    "            grad2 = [p.grad.clone().detach().cpu().numpy().reshape(-1) for p in target_model.parameters()]\n",
    "            grad2 = np.concatenate(grad2)\n",
    "            grads_after_flip.append(grad2)\n",
    "\n",
    "            # if x_np[0,55] == 1:\n",
    "            if x_np[0, sens_indices[0]] == 1:\n",
    "                sens_attr = 0\n",
    "                # score = np.linalg.norm(grad) - np.linalg.norm(grad2)\n",
    "                score = np.linalg.norm(grad - grad2)\n",
    "            else:\n",
    "                sens_attr = 1\n",
    "                # score = np.linalg.norm(grad2) - np.linalg.norm(grad)\n",
    "                score = np.linalg.norm(grad2 - grad)\n",
    "\n",
    "            sens_attrs.append(sens_attr)\n",
    "            scores.append(score)\n",
    "\n",
    "        orig_grads = np.array(orig_grads)\n",
    "        grads_after_flip = np.array(grads_after_flip)\n",
    "        np.save(f'<PATH_TO_GRADS>/{ds.ds.filenameroot}_{sens_col}_orig_grads.npy', orig_grads)\n",
    "        np.save(f'<PATH_TO_GRADS>/{ds.ds.filenameroot}_{sens_col}_grads_after_flip.npy', grads_after_flip)\n",
    "        np.save(f'<PATH_TO_GRADS>/{ds.ds.filenameroot}_{sens_col}_sens_attrs.npy', sens_attrs)\n",
    "        np.save(f'<PATH_TO_GRADS>/{ds.ds.filenameroot}_{sens_col}_scores.npy', scores)"
   ]
  },
  {
   "cell_type": "code",
   "execution_count": null,
   "metadata": {},
   "outputs": [],
   "source": [
    "all_sensitive_columns = ['default', 'DEAR', 'DEYE', 'DREM', 'DPHY']\n",
    "\n",
    "aucs, recalls = {}, {}\n",
    "\n",
    "subgroup_disparity_dicts = {}\n",
    "\n",
    "for sens_col in all_sensitive_columns:\n",
    "    temp_ds = data_utils.CensusWrapper(\n",
    "            filter_prop=\"none\", ratio=float(0.5), split=\"all\", name=\"Census19\", sampling_condition_dict=sampling_condition_dict, sensitive_column=sens_col)\n",
    "    temp_ds.ds.filenameroot = temp_ds.ds.name + f\"_{subgroup_col_name}_{round(100*split_ratio_first_subgroup)}_{round(100*(1-split_ratio_first_subgroup))}_minority_categorized\"\n",
    "    X, y = temp_ds.ds.get_attack_df()\n",
    "\n",
    "    orig_grads = np.load(f'<PATH_TO_GRADS>/{ds.ds.filenameroot}_{sens_col}_orig_grads.npy')\n",
    "    grads_after_flip = np.load(f'<PATH_TO_GRADS>/{ds.ds.filenameroot}_{sens_col}_grads_after_flip.npy')\n",
    "    sens_attrs = np.load(f'<PATH_TO_GRADS>/{ds.ds.filenameroot}_{sens_col}_sens_attrs.npy')\n",
    "    scores = np.load(f'<PATH_TO_GRADS>/{ds.ds.filenameroot}_{sens_col}_scores.npy')\n",
    "\n",
    "    tpr, fpr, thresholds = roc_curve(sens_attrs, scores)\n",
    "    # get the threshold with tpr = 0.5\n",
    "    best_threshold = thresholds[np.argmin(np.abs(tpr - 0.5))]\n",
    "    # best_threshold = thresholds[np.argmax(tpr - fpr)]\n",
    "\n",
    "\n",
    "    subgroup_columns = ['RAC1P', 'SEX']\n",
    "\n",
    "    subgroup_disparity_dict = get_disparity_by_subgroup(attack_type='GRAD', ds=ds, X_att_query=X, y_att_query=y, y_pred=scores, threshold=best_threshold, subgroup_columns=subgroup_columns, metric='recall')\n",
    "\n",
    "    subgroup_disparity_dicts[sens_col] = subgroup_disparity_dict"
   ]
  },
  {
   "cell_type": "code",
   "execution_count": null,
   "metadata": {},
   "outputs": [],
   "source": [
    "subgroup_disparity_dicts"
   ]
  },
  {
   "cell_type": "code",
   "execution_count": null,
   "metadata": {},
   "outputs": [],
   "source": [
    "original_aucs = {}\n",
    "\n",
    "for i, sens_col in enumerate(all_sensitive_columns):\n",
    "    orig_grads = np.load(f'<PATH_TO_GRADS>/{ds.ds.filenameroot}_{sens_col}_orig_grads.npy')\n",
    "    grads_after_flip = np.load(f'<PATH_TO_GRADS>/{ds.ds.filenameroot}_{sens_col}_grads_after_flip.npy')\n",
    "    sens_attrs = np.load(f'<PATH_TO_GRADS>/{ds.ds.filenameroot}_{sens_col}_sens_attrs.npy')\n",
    "    scores = np.load(f'<PATH_TO_GRADS>/{ds.ds.filenameroot}_{sens_col}_scores.npy')\n",
    "\n",
    "    print(f'For {sens_col}')\n",
    "    auc = roc_auc_score(sens_attrs, scores)\n",
    "    original_aucs[sens_col] = auc\n",
    "    print(f'AUC: {auc}')"
   ]
  },
  {
   "cell_type": "code",
   "execution_count": null,
   "metadata": {},
   "outputs": [],
   "source": [
    "auc_dict_sex = {\n",
    "    'male': {},\n",
    "    'female': {},\n",
    "    'all': {},\n",
    "}\n",
    "\n",
    "for i, sens_col in enumerate(all_sensitive_columns):\n",
    "    orig_grads = np.load(f'<PATH_TO_GRADS>/{ds.ds.filenameroot}_{sens_col}_orig_grads.npy')\n",
    "    grads_after_flip = np.load(f'<PATH_TO_GRADS>/{ds.ds.filenameroot}_{sens_col}_grads_after_flip.npy')\n",
    "    sens_attrs = np.load(f'<PATH_TO_GRADS>/{ds.ds.filenameroot}_{sens_col}_sens_attrs.npy')\n",
    "    scores = np.load(f'<PATH_TO_GRADS>/{ds.ds.filenameroot}_{sens_col}_scores.npy')\n",
    "\n",
    "    # print(f'For {sens_col}')\n",
    "    # auc = roc_auc_score(sens_attrs, scores)\n",
    "    auc_dict_sex['male'][sens_col] = roc_auc_score(sens_attrs[male_indices.to_numpy()], scores[male_indices.to_numpy()])\n",
    "    auc_dict_sex['female'][sens_col] = roc_auc_score(sens_attrs[female_indices.to_numpy()], scores[female_indices.to_numpy()])\n",
    "\n",
    "    # print(f'AUC: {auc}')\n",
    "    auc_dict_sex['all'][sens_col] = original_aucs[sens_col]"
   ]
  },
  {
   "cell_type": "code",
   "execution_count": null,
   "metadata": {},
   "outputs": [],
   "source": [
    "auc_dict_race = { i: {} for i in range(2) }\n",
    "auc_dict_race['all'] = {}\n",
    "\n",
    "race_marginal_prior_dict = (100 * ds.ds.original_df['RAC1P'].value_counts() / len(ds.ds.original_df)).to_dict()\n",
    "\n",
    "for i in range(2):\n",
    "    auc_dict_race[i]['marginal prior'] = race_marginal_prior_dict[i]\n",
    "auc_dict_race['all']['marginal prior'] = 100\n",
    "\n",
    "for i, sens_col in enumerate(all_sensitive_columns):\n",
    "    orig_grads = np.load(f'<PATH_TO_GRADS>/{ds.ds.filenameroot}_{sens_col}_orig_grads.npy')\n",
    "    grads_after_flip = np.load(f'<PATH_TO_GRADS>/{ds.ds.filenameroot}_{sens_col}_grads_after_flip.npy')\n",
    "    sens_attrs = np.load(f'<PATH_TO_GRADS>/{ds.ds.filenameroot}_{sens_col}_sens_attrs.npy')\n",
    "    scores = np.load(f'<PATH_TO_GRADS>/{ds.ds.filenameroot}_{sens_col}_scores.npy')\n",
    "    \n",
    "\n",
    "    for idx in range(2):\n",
    "        rac1p_indices = get_indices_by_conditions(ds, X_train, {'RAC1P': idx})\n",
    "        try:\n",
    "            auc_dict_race[idx][sens_col] = roc_auc_score(sens_attrs[rac1p_indices.to_numpy()], scores[rac1p_indices.to_numpy()])\n",
    "        except:\n",
    "            auc_dict_race[idx][sens_col] = np.nan\n",
    "\n",
    "    auc_dict_race['all'][sens_col] = original_aucs[sens_col]"
   ]
  },
  {
   "cell_type": "code",
   "execution_count": null,
   "metadata": {},
   "outputs": [],
   "source": [
    "auc_dict_race"
   ]
  },
  {
   "cell_type": "code",
   "execution_count": null,
   "metadata": {},
   "outputs": [],
   "source": [
    "all_sensitive_col_full_names = [f'{col}' for col in cols.to_numpy() if col.split('_')[0] in all_sensitive_columns + ['MAR']]"
   ]
  },
  {
   "cell_type": "code",
   "execution_count": null,
   "metadata": {},
   "outputs": [],
   "source": [
    "male_indices = get_indices_by_conditions(ds, X_train, {'SEX': 0})\n",
    "female_indices = get_indices_by_conditions(ds, X_train, {'SEX': 1})"
   ]
  },
  {
   "cell_type": "code",
   "execution_count": null,
   "metadata": {},
   "outputs": [],
   "source": [
    "r_male = permutation_importance(clf, X_train.loc[male_indices,:] , ds.ds.y_enc.transform(y_tr[male_indices.to_numpy()]).toarray(),\n",
    "                           n_repeats=30,\n",
    "                           random_state=0)"
   ]
  },
  {
   "cell_type": "code",
   "execution_count": null,
   "metadata": {},
   "outputs": [],
   "source": [
    "r_female = permutation_importance(clf, X_train.loc[female_indices,:] , ds.ds.y_enc.transform(y_tr[female_indices.to_numpy()]).toarray(),\n",
    "                           n_repeats=30,\n",
    "                           random_state=0)"
   ]
  },
  {
   "cell_type": "code",
   "execution_count": null,
   "metadata": {},
   "outputs": [],
   "source": [
    "r_rac1ps = []\n",
    "\n",
    "for i in range(2):\n",
    "    rac1p_indices = get_indices_by_conditions(ds, X_train, {'RAC1P': str(i)})\n",
    "    r_rac1ps.append(permutation_importance(clf, X_train.loc[rac1p_indices,:] , ds.ds.y_enc.transform(y_tr[rac1p_indices.to_numpy()]).toarray(),\n",
    "                            n_repeats=30,\n",
    "                            random_state=0))"
   ]
  },
  {
   "cell_type": "code",
   "execution_count": null,
   "metadata": {},
   "outputs": [],
   "source": [
    "def get_perm_imp(r):\n",
    "    result_mean, result_std = {}, {}\n",
    "    # for i in r.importances_mean.argsort()[::-1]:\n",
    "    for i in range(len(r.importances_mean)):\n",
    "        # if r.importances_mean[i] - 2 * r.importances_std[i] > 0 or True:\n",
    "        # print(i)\n",
    "        if cols[i] in all_sensitive_col_full_names:\n",
    "            # print(f\"{cols[i]} \"\n",
    "            #     f\"{r.importances_mean[i]:.8f}\"\n",
    "            #     f\" +/- {r.importances_std[i]:.8f}\")\n",
    "            result_mean[cols[i]] = r.importances_mean[i]\n",
    "            result_std[cols[i]] = r.importances_std[i]\n",
    "\n",
    "    return result_mean, result_std\n"
   ]
  },
  {
   "cell_type": "code",
   "execution_count": null,
   "metadata": {},
   "outputs": [],
   "source": [
    "results = {\n",
    "    'male': get_perm_imp(r_male)[0],\n",
    "    'female': get_perm_imp(r_female)[0],\n",
    "    'all': get_perm_imp(r_train)[0],\n",
    "}"
   ]
  },
  {
   "cell_type": "code",
   "execution_count": null,
   "metadata": {},
   "outputs": [],
   "source": [
    "results_race = {\n",
    "    i: get_perm_imp(r_rac1ps[i])[0] for i in range(2)\n",
    "}\n",
    "results_race['all'] = get_perm_imp(r_train)[0]"
   ]
  },
  {
   "cell_type": "code",
   "execution_count": null,
   "metadata": {},
   "outputs": [],
   "source": [
    "results_sex_df = pd.DataFrame(results)\n",
    "# for col in ['MAR', 'DREM', 'DPHY', 'DEAR', 'DEYE']:\n",
    "#     results_sex_df.loc[col] = results_sex_df.loc[f'{col}_1'] / results_sex_df.loc[f'{col}_0']\n",
    "\n",
    "    # results_sex_df.loc[col] = results_sex_df.loc[col] / results_sex_df.loc[col]['all']\n",
    "\n",
    "results_sex_df"
   ]
  },
  {
   "cell_type": "code",
   "execution_count": null,
   "metadata": {},
   "outputs": [],
   "source": [
    "pd.DataFrame(auc_dict_sex, index=['default', 'DREM', 'DPHY', 'DEAR', 'DEYE'])"
   ]
  },
  {
   "cell_type": "code",
   "execution_count": null,
   "metadata": {},
   "outputs": [],
   "source": [
    "results_race_df = pd.DataFrame(results_race)\n",
    "\n",
    "# for col in ['MAR', 'DREM', 'DPHY', 'DEAR', 'DEYE']:\n",
    "#     results_race_df.loc[col] = results_race_df.loc[f'{col}_1'] / results_race_df.loc[f'{col}_0']\n",
    "\n",
    "    # results_race_df.loc[col] = results_race_df.loc[col] / results_race_df.loc[col]['all']\n",
    "\n",
    "results_race_df"
   ]
  },
  {
   "cell_type": "code",
   "execution_count": null,
   "metadata": {},
   "outputs": [],
   "source": [
    "auc_race_df = pd.DataFrame(auc_dict_race, index=['marginal prior', 'default', 'DREM', 'DPHY', 'DEAR', 'DEYE'])\n",
    "auc_race_df = auc_race_df.rename(index={'default': 'MAR'})\n",
    "auc_race_df"
   ]
  },
  {
   "attachments": {},
   "cell_type": "markdown",
   "metadata": {},
   "source": [
    "# PCA Approach"
   ]
  },
  {
   "cell_type": "code",
   "execution_count": null,
   "metadata": {},
   "outputs": [],
   "source": [
    "X, y = ds.ds.get_attack_df()\n",
    "# Convert X to float\n",
    "X = X.astype(float)\n",
    "y_onehot = ds.ds.sensitive_enc.transform(y.to_numpy().ravel().reshape(-1, 1)).toarray()"
   ]
  },
  {
   "cell_type": "code",
   "execution_count": null,
   "metadata": {},
   "outputs": [],
   "source": [
    "save_model = True\n",
    "all_sensitive_columns = ['MAR', 'DEAR', 'DEYE', 'DREM', 'DPHY']\n",
    "\n",
    "subgroup_disparity_dicts = {}\n",
    "\n",
    "for sensitive_column in all_sensitive_columns:\n",
    "    temp_ds = data_utils.CensusWrapper(\n",
    "            filter_prop=\"none\", ratio=float(0.5), split=\"all\", name=\"Census19\", sampling_condition_dict=sampling_condition_dict, sensitive_column=sensitive_column)\n",
    "    temp_ds.ds.filenameroot = temp_ds.ds.name + f\"_{subgroup_col_name}_{round(100*split_ratio_first_subgroup)}_{round(100*(1-split_ratio_first_subgroup))}_minority_categorized\"\n",
    "    X, y = temp_ds.ds.get_attack_df()\n",
    "\n",
    "    X = X.astype(float)\n",
    "    y_onehot = ds.ds.sensitive_enc.transform(y.to_numpy().ravel().reshape(-1, 1)).toarray()\n",
    "\n",
    "    subgroup_columns = ['RAC1P']\n",
    "\n",
    "    try:\n",
    "        pca_clf = model_utils.load_model(f'<PATH_TO_MODEL>/{temp_ds.ds.filenameroot}_pca_model_{sensitive_column}.pkl')\n",
    "        with open(f'<PATH_TO_MODEL>/{temp_ds.ds.filenameroot}_pca_model_pca_{sensitive_column}.pkl', 'rb') as f:\n",
    "            pca = pickle.load(f)\n",
    "    except:\n",
    "        x_tr, x_te, y_tr, y_te = train_test_split(X, y_onehot, test_size=0.9, random_state=42)\n",
    "\n",
    "        pca = PCA(n_components=2)\n",
    "        pca.fit(x_tr)\n",
    "            \n",
    "        x_tr, x_te = map(lambda x: pd.DataFrame(pca.transform(x), index=x.index), [x_tr, x_te])\n",
    "\n",
    "        pca_clf = model_utils.get_model(max_iter=500)\n",
    "        pca_clf.fit(x_tr, y_tr)\n",
    "\n",
    "        if save_model:\n",
    "            model_utils.save_model(pca_clf, f'<PATH_TO_MODEL>/{temp_ds.ds.filenameroot}_pca_model_{sensitive_column}.pkl')\n",
    "            with open(f'<PATH_TO_MODEL>/{temp_ds.ds.filenameroot}_pca_model_pca_{sensitive_column}.pkl', 'wb') as f:\n",
    "                pickle.dump(pca, f)\n",
    "\n",
    "    X = pd.DataFrame(pca.transform(X), index=X.index)\n",
    "    \n",
    "    subgroup_disparity_dict = get_disparity_by_subgroup(attack_type='PCA', ds=ds, subgroup_columns=['RAC1P'], X_att_query=X, y_att_query=y, metric='auc', clf=pca_clf)\n",
    "    subgroup_disparity_dicts[sensitive_column] = subgroup_disparity_dict"
   ]
  },
  {
   "cell_type": "code",
   "execution_count": null,
   "metadata": {},
   "outputs": [],
   "source": [
    "subgroup_disparity_dicts"
   ]
  },
  {
   "cell_type": "code",
   "execution_count": null,
   "metadata": {},
   "outputs": [],
   "source": [
    "load_model = True\n",
    "save_model = False\n",
    "\n",
    "if load_model:\n",
    "    pca_clfs = model_utils.load_model(f'<PATH_TO_MODEL>/{ds.ds.name}_pca_model.pkl')\n",
    "else:\n",
    "\n",
    "    pca_clfs = {}\n",
    "\n",
    "    pca_clfs['pca'] = {}\n",
    "\n",
    "    for test_size in [0.5, 0.6, 0.7, 0.8, 0.9]:\n",
    "        x_tr, x_te, y_tr, y_te = train_test_split(X, y_onehot, test_size=test_size, random_state=42)\n",
    "\n",
    "        pca = PCA(n_components=2)\n",
    "        pca.fit(x_tr)\n",
    "        pca_clfs['pca'][test_size] = pca\n",
    "        x_tr, x_te = map(lambda x: pd.DataFrame(pca.transform(x), index=x.index), [x_tr, x_te])\n",
    "\n",
    "        # inv_clf = model_utils.get_model(max_iter=500, hidden_layer_sizes=(60, 50, 40, 30, 20, 10))\n",
    "        # inv_clf.fit(x_tr, y_tr)\n",
    "        pca_clf = model_utils.proxy_train_mlp(x_tr.to_numpy(), y_tr, epochs=100)\n",
    "        pca_clfs[test_size] = pca_clf\n",
    "\n",
    "        acc = 100 * pca_clf.score(x_te, y_te)\n",
    "        print(f'PCA accuracy with test size {test_size}: {acc}')\n",
    "\n",
    "    if save_model:\n",
    "        model_utils.save_model(pca_clfs, f'<PATH_TO_MODEL>/{ds.ds.name}_pca_model.pkl')"
   ]
  },
  {
   "cell_type": "code",
   "execution_count": null,
   "metadata": {},
   "outputs": [],
   "source": [
    "# plot the data in 2D\n",
    "fig, ax = plt.subplots(figsize=(4, 4))\n",
    "ax.set_title('PCA')\n",
    "ax.set_xlabel('PC1')\n",
    "ax.set_ylabel('PC2')\n",
    "\n",
    "test_size = 0.9\n",
    "\n",
    "x_tr, x_te, y_tr, y_te = train_test_split(X, y_onehot, test_size=test_size, random_state=42)\n",
    "\n",
    "pca_clf = pca_clfs[test_size]\n",
    "pca = pca_clfs['pca'][test_size]\n",
    "x_tr, x_te = map(lambda x: pd.DataFrame(pca.transform(x), index=x.index), [x_tr, x_te])\n",
    "\n",
    "x_te = x_te.to_numpy()\n",
    "\n",
    "# sample only 100 points from x_te and y_te to plot\n",
    "x_te, y_te = map(lambda x: x[:1000], [x_te, y_te])\n",
    "\n",
    "# y_te has values 0 or 1\n",
    "# use y_te to get the color\n",
    "colors = ['red', 'blue']\n",
    "for i in range(len(x_te)):\n",
    "    ax.scatter(x_te[i, 0], x_te[i, 1], color=colors[y_te[i].argmax()])\n",
    "plt.show()\n"
   ]
  },
  {
   "cell_type": "code",
   "execution_count": null,
   "metadata": {},
   "outputs": [],
   "source": [
    "pca_names = []\n",
    "pca_aucs = []\n",
    "\n",
    "for test_size in [0.9, 0.8, 0.7, 0.6, 0.5]:\n",
    "    x_tr, x_te, y_tr, y_te = train_test_split(X, y_onehot, test_size=test_size, random_state=42)\n",
    "\n",
    "    pca_clf = pca_clfs[test_size]\n",
    "    pca = pca_clfs['pca'][test_size]\n",
    "\n",
    "    x_tr, x_te = map(lambda x: pd.DataFrame(pca.transform(x), index=x.index), [x_tr, x_te])\n",
    "    \n",
    "    # calculate auc\n",
    "    y_pred = pca_clf.predict_proba(x_te)\n",
    "    auc = roc_auc_score(y_te, y_pred)\n",
    "    pca_names.append(f'Inverse-{round((1-test_size)*100)}%')\n",
    "    pca_aucs.append(auc*100)\n",
    "    print(f'AUC with test size {test_size}: {auc}')"
   ]
  },
  {
   "cell_type": "code",
   "execution_count": null,
   "metadata": {},
   "outputs": [],
   "source": [
    "subgroup_columns = ['sex', 'race', 'relig']\n",
    "\n",
    "# if 'att_enc' not in globals():\n",
    "#     y_onehot, att_enc = model_utils.get_onehot(y.to_numpy().ravel().reshape(-1,1))\n",
    "test_size = 0.9\n",
    "\n",
    "x_tr, x_te, y_tr, y_te = train_test_split(X, y, test_size=test_size, random_state=42)\n",
    "\n",
    "pca_clf = pca_clfs[test_size]\n",
    "pca = pca_clfs['pca'][test_size]\n",
    "\n",
    "x_tr, x_te = map(lambda x: pd.DataFrame(pca.transform(x), index=x.index), [x_tr, x_te])\n",
    "\n",
    "for col in subgroup_columns:\n",
    "    values = ds.ds.unique_values_dict[col]\n",
    "    subgroup_asrs = {}\n",
    "    subgroup_dists = {}\n",
    "\n",
    "    for val in values:\n",
    "        if len(get_indices_by_conditions(ds, X, {col:val})) > 500:\n",
    "            indices = get_indices_by_conditions(ds, x_te, {col:val})\n",
    "            x_te_subgroup = x_te.loc[indices]\n",
    "            y_te_subgroup = y_te.loc[indices]\n",
    "\n",
    "            # calculate the correlation between x_te_subgroup features and the sensitive attribute y_te_subgroup\n",
    "            corr = x_te_subgroup.corrwith(y_te_subgroup)\n",
    "\n",
    "            print(f'Correlation between {col}={val} and y: \\n {corr}')\n",
    "\n",
    "            # subgroup_asrs[val] = get_accuracy(ds, {col:val}, neuron_clf, X_neuron, y, metric=metric)\n",
    "            # subgroup_dists[val] = subgroup_vulnerability_distance(ds, {col:val}, X_neuron)\n",
    "\n",
    "    # subgroup_disparity_dict[col] = {'asrs':subgroup_asrs, 'dists':subgroup_dists}\n",
    "\n"
   ]
  },
  {
   "cell_type": "code",
   "execution_count": null,
   "metadata": {},
   "outputs": [],
   "source": [
    "subgroup_columns = ['sex', 'race', 'relig']\n",
    "\n",
    "# if 'att_enc' not in globals():\n",
    "#     y_onehot, att_enc = model_utils.get_onehot(y.to_numpy().ravel().reshape(-1,1))\n",
    "test_size = 0.9\n",
    "\n",
    "x_tr, x_te, y_tr, y_te = train_test_split(X, y, test_size=test_size, random_state=42)\n",
    "\n",
    "pca_clf = pca_clfs[test_size]\n",
    "pca = pca_clfs['pca'][test_size]\n",
    "\n",
    "x_tr, x_te = map(lambda x: pd.DataFrame(pca.transform(x), index=x.index), [x_tr, x_te])\n",
    "\n",
    "subgroup_disparity_dict = get_subgroup_disparity(ds, subgroup_columns, pca_clf, x_te, y_te, metric='auc')\n",
    "# plot_subgroup_disparity(subgroup_disparity_dict, req_metrics=['asrs'])"
   ]
  },
  {
   "cell_type": "code",
   "execution_count": null,
   "metadata": {},
   "outputs": [],
   "source": [
    "subgroup_disparity_dict"
   ]
  },
  {
   "attachments": {},
   "cell_type": "markdown",
   "metadata": {},
   "source": [
    "# Investigate Neuron Output"
   ]
  },
  {
   "attachments": {},
   "cell_type": "markdown",
   "metadata": {},
   "source": [
    "## From LOMIA Case 1"
   ]
  },
  {
   "cell_type": "code",
   "execution_count": null,
   "metadata": {},
   "outputs": [],
   "source": [
    "X_attack_neuron = make_neuron_output_data(ds, X_attack, clf, y_columns)"
   ]
  },
  {
   "cell_type": "code",
   "execution_count": null,
   "metadata": {},
   "outputs": [],
   "source": [
    "neuron_clf = model_utils.get_model(max_iter=500)"
   ]
  },
  {
   "cell_type": "code",
   "execution_count": null,
   "metadata": {},
   "outputs": [],
   "source": [
    "neuron_clf.fit(X_attack_neuron, y_attack_onehot)"
   ]
  },
  {
   "attachments": {},
   "cell_type": "markdown",
   "metadata": {},
   "source": [
    "## From Original Data"
   ]
  },
  {
   "cell_type": "code",
   "execution_count": null,
   "metadata": {},
   "outputs": [],
   "source": [
    "X, y = ds.ds.get_attack_df()\n",
    "X = X.astype(np.float32)\n",
    "X_neuron = make_neuron_output_data(ds, X, clf, ds.ds.y_columns)"
   ]
  },
  {
   "cell_type": "code",
   "execution_count": null,
   "metadata": {},
   "outputs": [],
   "source": [
    "save_model = True\n",
    "all_sensitive_columns = ['MAR', 'DEAR', 'DEYE', 'DREM', 'DPHY']\n",
    "\n",
    "subgroup_disparity_dicts = {}\n",
    "\n",
    "for sensitive_column in all_sensitive_columns:\n",
    "    temp_ds = data_utils.CensusWrapper(\n",
    "            filter_prop=\"none\", ratio=float(0.5), split=\"all\", name=\"Census19\", sampling_condition_dict=sampling_condition_dict, sensitive_column=sensitive_column)\n",
    "    temp_ds.ds.filenameroot = temp_ds.ds.name + f\"_{subgroup_col_name}_{round(100*split_ratio_first_subgroup)}_{round(100*(1-split_ratio_first_subgroup))}_minority_categorized\"\n",
    "    X, y = temp_ds.ds.get_attack_df()\n",
    "\n",
    "    X = X.astype(float)\n",
    "\n",
    "    y_onehot = temp_ds.ds.sensitive_enc.transform(y.to_numpy().ravel().reshape(-1, 1)).toarray()\n",
    "\n",
    "    subgroup_columns = ['RAC1P']\n",
    "\n",
    "    try:\n",
    "        neur_ours_clf = model_utils.load_model(f'<PATH_TO_MODEL>/{temp_ds.ds.filenameroot}_neurours_model_{sensitive_column}.pkl')\n",
    "\n",
    "    except:\n",
    "        x_tr, x_te, y_tr, y_te = train_test_split(X, y_onehot, test_size=0.9, random_state=42)\n",
    "\n",
    "        x_n_tr = make_neuron_output_data(temp_ds, x_tr, clf, temp_ds.ds.y_columns)\n",
    "        x_n_te = make_neuron_output_data(temp_ds, x_te, clf, temp_ds.ds.y_columns)\n",
    "\n",
    "        neur_ours_clf = model_utils.get_model(max_iter=500)\n",
    "        neur_ours_clf.fit(x_n_tr, y_tr)\n",
    "        # inv_clf = model_utils.proxy_train_mlp(x_tr.to_numpy(), y_tr, epochs=100)\n",
    "        # inv_clfs[test_size] = inv_clf\n",
    "\n",
    "        acc = 100 * neur_ours_clf.score(x_n_te, y_te)\n",
    "        print(f'NeurOurs accuracy with test size : {acc}')\n",
    "\n",
    "        if save_model:\n",
    "            model_utils.save_model(neur_ours_clf, f'<PATH_TO_MODEL>/{temp_ds.ds.filenameroot}_neurours_model_{sensitive_column}.pkl')\n",
    "    \n",
    "    subgroup_disparity_dict = get_disparity_by_subgroup(attack_type='NEUR_OURS', ds=temp_ds, subgroup_columns=['RAC1P'], X_att_query=X, y_att_query=y, metric='recall', clf=neur_ours_clf, df=X, MLP=clf)\n",
    "    subgroup_disparity_dicts[sensitive_column] = subgroup_disparity_dict"
   ]
  },
  {
   "cell_type": "code",
   "execution_count": null,
   "metadata": {},
   "outputs": [],
   "source": [
    "subgroup_disparity_dicts"
   ]
  },
  {
   "cell_type": "code",
   "execution_count": null,
   "metadata": {},
   "outputs": [],
   "source": [
    "# subset features of X_neuron: 0:32 and 59:91\n",
    "X_neuron = X_neuron.iloc[:,np.concatenate((np.arange(0,32), np.arange(59,91)))]"
   ]
  },
  {
   "cell_type": "code",
   "execution_count": null,
   "metadata": {},
   "outputs": [],
   "source": [
    "# find the indices of the data points that are correctly classified by the target model\n",
    "# the prediction is a one-hot encoded vector, so we need to take the argmax to get the class label\n",
    "df_x, df_y = ds.ds.df.drop([ds.ds.meta[\"y_column\"], 'is_train'], axis=1), ds.ds.df[[ds.ds.meta[\"y_column\"]]]\n",
    "correct_indices = np.where(df_y.to_numpy().squeeze() != clf.predict(df_x).argmax(axis=1))[0]"
   ]
  },
  {
   "cell_type": "code",
   "execution_count": null,
   "metadata": {},
   "outputs": [],
   "source": [
    "# get the data points that are correctly classified by the target model\n",
    "# X, y, X_neuron = X.iloc[correct_indices, :], y.iloc[correct_indices], X_neuron.iloc[correct_indices, :]"
   ]
  },
  {
   "cell_type": "code",
   "execution_count": null,
   "metadata": {},
   "outputs": [],
   "source": [
    "# Split x and y into train and test\n",
    "load_model = False\n",
    "save_model = False\n",
    "\n",
    "test_sizes = [0.5, 0.6, 0.7, 0.8, 0.9]\n",
    "# test_sizes = [0.5]\n",
    "\n",
    "if load_model:\n",
    "    neuron_clfs = model_utils.load_model(f'<PATH_TO_MODEL>/neuron_clfs_{ds.ds.name}.pkl')\n",
    "    x_n_tr, x_n_te, y_n_tr, y_n_te = train_test_split(X_neuron, y, test_size=test_sizes[0], random_state=42)\n",
    "    y_n_tr_onehot = ds.ds.sensitive_enc.transform(y_n_tr.to_numpy().ravel().reshape(-1,1)).toarray()\n",
    "else:\n",
    "    neuron_clfs={}\n",
    "\n",
    "    hidden_layers = [64, 32, 16, 8, 4]\n",
    "\n",
    "    lomia_case_1_indices = get_LOMIA_case_1_correct_examples(ds, X_train)\n",
    "    # subset lomia_case_1_indices with the correct indices\n",
    "    # lomia_case_1_indices = np.intersect1d(lomia_case_1_indices, correct_indices)\n",
    "    if 'lomia_case_1_indices' in globals():\n",
    "        x_n_tr, x_n_te, y_n_tr, y_n_te = X_neuron.iloc[lomia_case_1_indices], X_neuron.iloc[~np.isin(np.arange(len(X_neuron)), lomia_case_1_indices)], y[lomia_case_1_indices], y[~np.isin(np.arange(len(X_neuron)), lomia_case_1_indices)]\n",
    "\n",
    "        x_n_tr, x_n_te = data_utils.normalize(x_n_tr, x_n_te)\n",
    "\n",
    "        y_n_tr = ds.ds.sensitive_enc.transform(y_n_tr.to_numpy().ravel().reshape(-1,1)).toarray()\n",
    "        # new_clf = model_utils.get_model(max_iter=2000)\n",
    "        # # new_clf.set_params(hidden_layer_sizes=hidden_layers)\n",
    "        # new_clf.set_params(alpha=0.1, solver='adam', activation='relu')\n",
    "        # neuron_clfs['lomia_case_1'] = new_clf\n",
    "        # neuron_clfs['lomia_case_1'].fit(x_n_tr, y_n_tr)\n",
    "        neuron_clfs['lomia_case_1'] = proxy_train_mlp(x_n_tr.to_numpy(), y_n_tr, epochs=100)\n",
    "\n",
    "    for test_size in test_sizes:\n",
    "        x_n_tr, x_n_te, y_n_tr, y_n_te = train_test_split(X_neuron, y, test_size=test_size, random_state=42)\n",
    "        y_n_tr = ds.ds.sensitive_enc.transform(y_n_tr.to_numpy().ravel().reshape(-1,1)).toarray()\n",
    "\n",
    "        x_n_tr, x_n_te = data_utils.normalize(x_n_tr, x_n_te)\n",
    "        \n",
    "        # new_clf = model_utils.get_model(max_iter=2000)\n",
    "        # # new_clf.set_params(hidden_layer_sizes=hidden_layers)\n",
    "        # new_clf.set_params(alpha=0.1, solver='adam', activation='relu')\n",
    "        # neuron_clfs[test_size] = new_clf\n",
    "        # neuron_clfs[test_size].fit(x_n_tr, y_n_tr)\n",
    "        neuron_clfs[test_size] = proxy_train_mlp(x_n_tr.to_numpy(), y_n_tr, epochs=100)\n",
    "\n",
    "    if save_model:\n",
    "        model_utils.save_model(neuron_clfs, f'<PATH_TO_MODEL>/neuron_clfs_{ds.ds.name}.pkl')"
   ]
  },
  {
   "attachments": {},
   "cell_type": "markdown",
   "metadata": {},
   "source": [
    "## Compare whitebox correlation attack and our attack"
   ]
  },
  {
   "cell_type": "code",
   "execution_count": null,
   "metadata": {},
   "outputs": [],
   "source": [
    "save_model = True\n",
    "all_sensitive_columns = ['MAR', 'DEAR', 'DEYE', 'DREM', 'DPHY']\n",
    "\n",
    "subgroup_disparity_dicts = {}\n",
    "\n",
    "for sensitive_column in all_sensitive_columns:\n",
    "    temp_ds = data_utils.CensusWrapper(\n",
    "            filter_prop=\"none\", ratio=float(0.5), split=\"all\", name=\"Census19\", sampling_condition_dict=sampling_condition_dict, sensitive_column=sensitive_column)\n",
    "    temp_ds.ds.filenameroot = temp_ds.ds.name + f\"_{subgroup_col_name}_{round(100*split_ratio_first_subgroup)}_{round(100*(1-split_ratio_first_subgroup))}_minority_categorized\"\n",
    "    X, y = temp_ds.ds.get_attack_df()\n",
    "\n",
    "    X = X.astype(float)\n",
    "\n",
    "    y_onehot = temp_ds.ds.sensitive_enc.transform(y.to_numpy().ravel().reshape(-1, 1)).toarray()\n",
    "\n",
    "    subgroup_columns = ['RAC1P']\n",
    "\n",
    "    x_tr, x_te, y_tr, y_te = train_test_split(X, y, test_size=0.9, random_state=42)\n",
    "    x_n_tr = make_neuron_output_data(temp_ds, x_tr, clf, temp_ds.ds.y_columns)\n",
    "    x_n_te = make_neuron_output_data(temp_ds, x_te, clf, temp_ds.ds.y_columns)\n",
    "\n",
    "    top_10_corr_neurons_model = wb_corr_attacks(x_n_tr, y_tr)\n",
    "\n",
    "    subgroup_disparity_dict = get_disparity_by_subgroup(attack_type='NEUR_IMP', ds=temp_ds, subgroup_columns=['RAC1P'], X_att_query=X, y_att_query=y, metric='auc', clf=top_10_corr_neurons_model, df=X, MLP=clf)\n",
    "    subgroup_disparity_dicts[sensitive_column] = subgroup_disparity_dict"
   ]
  },
  {
   "cell_type": "code",
   "execution_count": null,
   "metadata": {},
   "outputs": [],
   "source": [
    "subgroup_disparity_dicts"
   ]
  },
  {
   "cell_type": "code",
   "execution_count": null,
   "metadata": {},
   "outputs": [],
   "source": [
    "x_n_tr.to_numpy().shape"
   ]
  },
  {
   "cell_type": "code",
   "execution_count": null,
   "metadata": {},
   "outputs": [],
   "source": [
    "subgroup_disparity_dicts"
   ]
  },
  {
   "cell_type": "code",
   "execution_count": null,
   "metadata": {},
   "outputs": [],
   "source": [
    "top_10_corr_neurons_model = wb_corr_attacks(x_n_tr, y_n_tr)\n",
    "wb_preds = top_10_corr_neurons_model(torch.from_numpy(X_neuron).float()).detach().numpy()\n",
    "# draw the ROC curve\n",
    "y_wb_att = y.ravel().astype(np.float32)\n",
    "fpr, tpr, thresholds = roc_curve(y_wb_att, wb_preds)\n",
    "\n",
    "roc_curve_plot(fpr, tpr)"
   ]
  },
  {
   "cell_type": "code",
   "execution_count": null,
   "metadata": {},
   "outputs": [],
   "source": [
    "our_preds = neuron_clfs[0.9].predict_proba(X_neuron)[:,1]\n",
    "\n",
    "fpr, tpr, thresholds = roc_curve(y_wb_att, our_preds)\n",
    "\n",
    "roc_curve_plot(fpr, tpr)"
   ]
  },
  {
   "cell_type": "code",
   "execution_count": null,
   "metadata": {},
   "outputs": [],
   "source": [
    "names = []\n",
    "aucs = []\n",
    "for test_size in [0.9, 0.8, 0.7, 0.6, 0.5]:\n",
    "    x_n_tr, x_n_te, y_n_tr, y_n_te = train_test_split(X_neuron, y, test_size=test_size, random_state=42)\n",
    "    top_10_corr_neurons_model = wb_corr_attacks(x_n_tr, y_n_tr)\n",
    "\n",
    "    # wb_preds = top_10_corr_neurons_model(torch.from_numpy(X_neuron).float()).detach().numpy()\n",
    "    wb_preds = top_10_corr_neurons_model(torch.from_numpy(x_n_te.to_numpy()).float()).detach().numpy()\n",
    "    # draw the ROC curve\n",
    "    y_wb_att = y_n_te.ravel().astype(np.float32)\n",
    "    names.append(f'wb-corr-{round((1-test_size)*100)}%')\n",
    "    aucs.append(roc_auc_score(y_wb_att, wb_preds))\n",
    "\n",
    "for test_size in [0.9, 0.8, 0.7, 0.6, 0.5]:\n",
    "    names.append(f'Ours-{round((1-test_size)*100)}%')\n",
    "    x_n_tr, x_n_te, y_n_tr, y_n_te = train_test_split(X_neuron, y, test_size=test_size, random_state=42)\n",
    "\n",
    "    x_n_tr, x_n_te = data_utils.normalize(x_n_tr, x_n_te)\n",
    "\n",
    "    preds = neuron_clfs[test_size].predict_proba(x_n_te)[:,1]\n",
    "    y_wb_att = y_n_te.ravel().astype(np.float32)\n",
    "    aucs.append(roc_auc_score(y_wb_att, preds))\n",
    "\n",
    "names.append('LOMIA')\n",
    "lomia_preds = neuron_clfs['lomia_case_1'].predict_proba(x_n_te)[:,1]\n",
    "aucs.append(roc_auc_score(y_wb_att, lomia_preds))"
   ]
  },
  {
   "cell_type": "code",
   "execution_count": null,
   "metadata": {},
   "outputs": [],
   "source": [
    "aucs"
   ]
  },
  {
   "cell_type": "code",
   "execution_count": null,
   "metadata": {},
   "outputs": [],
   "source": [
    "# plot bars with x ticks as names and y as aucs\n",
    "# make the yticks vertical\n",
    "plt.figure(figsize=(18,5))\n",
    "plt.bar(names + inv_names, (np.array(aucs)*100).tolist() + inv_aucs)\n",
    "plt.hlines(aucs[4]*100, -1, len(names + inv_names), linestyles='dashed')\n",
    "# plt.ylim(60, 75)\n",
    "plt.title('AUCs of different attacks')\n",
    "plt.xticks(rotation=90)\n",
    "plt.show()"
   ]
  },
  {
   "cell_type": "code",
   "execution_count": null,
   "metadata": {},
   "outputs": [],
   "source": [
    "all_aucs = (np.array(aucs[:-1])*100).tolist() + inv_aucs\n",
    "\n",
    "# make a 2d numpy array of the aucs with shape (3, -1)\n",
    "aucs_2d = np.array(all_aucs).reshape(3, -1)"
   ]
  },
  {
   "cell_type": "code",
   "execution_count": null,
   "metadata": {},
   "outputs": [],
   "source": [
    "aucs_2d = pd.DataFrame(aucs_2d, columns=[f'{(i+1)*10}%' for i in range(5)], index=['WB-Corr', 'Ours', 'Inverse'])"
   ]
  },
  {
   "cell_type": "code",
   "execution_count": null,
   "metadata": {},
   "outputs": [],
   "source": [
    "print(aucs_2d.round(2).to_latex(float_format=\"%.2f\"))"
   ]
  },
  {
   "cell_type": "code",
   "execution_count": null,
   "metadata": {},
   "outputs": [],
   "source": [
    "names + inv_names"
   ]
  },
  {
   "attachments": {},
   "cell_type": "markdown",
   "metadata": {},
   "source": [
    "## Subgroup Biased Neuron"
   ]
  },
  {
   "cell_type": "code",
   "execution_count": null,
   "metadata": {},
   "outputs": [],
   "source": [
    "subgroup_columns = ['sex', 'race', 'relig']\n",
    "\n",
    "subgroup_disparity_dict, subgroup_clfs = improved_subgroup_attack(ds, subgroup_columns, neuron_clfs[0.5], X_neuron, y, metric='accuracy')\n",
    "\n",
    "print(subgroup_disparity_dict)\n",
    "\n",
    "# plot_subgroup_disparity(subgroup_disparity_dict, subgroup_columns)"
   ]
  },
  {
   "cell_type": "code",
   "execution_count": null,
   "metadata": {},
   "outputs": [],
   "source": [
    "subgroup_columns = ['sex', 'race', 'relig']\n",
    "\n",
    "subgroup_disparity_dict, subgroup_clfs = improved_subgroup_attack(ds, subgroup_columns, neuron_clfs[0.5], X_neuron, y, metric='auc', dist_percentiles=[0.5, 0.6, 0.7, 0.8, 0.9, 0.95, 0.99], epochs=100)\n",
    "\n",
    "print(subgroup_disparity_dict)"
   ]
  },
  {
   "cell_type": "code",
   "execution_count": null,
   "metadata": {},
   "outputs": [],
   "source": [
    "def highlight_max(row):\n",
    "    # str_values = row[:2]\n",
    "    # row = row[2:]\n",
    "    max_val = row[2:-1].max()\n",
    "    return ([r'\\textbf{{{}}}'.format(val) if type(val) == float and val == max_val else val for val in row])\n",
    "\n",
    "# round up float values to 2 decimal places\n",
    "result = subgroup_disparity_dict.round(2)\n",
    "\n",
    "# sort by 'Subgroup Name' column first and then by 'Marginal Prior' column\n",
    "result = result.sort_values(by=['Subgroup Name', 'Marginal Prior'], ascending=[False, False])\n",
    "\n",
    "# convert 'Margin Prior' column to string\n",
    "result['Marginal Prior'] = result['Marginal Prior'].apply(lambda x: str(x))\n",
    "\n",
    "result = result.apply(highlight_max, axis=1)\n",
    "\n",
    "result = pd.DataFrame(result.to_list(), columns=subgroup_disparity_dict.columns)\n",
    "\n",
    "# sort by 'Subgroup Name' column first and then by 'Marginal Prior' column\n",
    "# result = result.sort_values(by=['Subgroup Name', 'Marginal Prior'], ascending=[False, False])\n",
    "\n",
    "# put 'Marginal Prior' column as the 3rd column\n",
    "cols = result.columns.tolist()\n",
    "cols = cols[:2] + cols[-1:] + cols[2:-1]\n",
    "result = result[cols]"
   ]
  },
  {
   "cell_type": "code",
   "execution_count": null,
   "metadata": {},
   "outputs": [],
   "source": [
    "result"
   ]
  },
  {
   "cell_type": "code",
   "execution_count": null,
   "metadata": {},
   "outputs": [],
   "source": [
    "from tabulate import tabulate\n",
    "\n",
    "table = tabulate(result, headers='keys', tablefmt='latex_booktabs', showindex=False, floatfmt=\".2f\")\n",
    "\n",
    "table = table.replace(r'\\textbackslash{}', '\\\\')\n",
    "\n",
    "table = table.replace(r'\\{', '{').replace(r'\\}', '}')\n",
    "\n",
    "# print the LaTeX table\n",
    "print(table)"
   ]
  },
  {
   "attachments": {},
   "cell_type": "markdown",
   "metadata": {},
   "source": [
    "## Most Discriminative Neuron"
   ]
  },
  {
   "cell_type": "code",
   "execution_count": null,
   "metadata": {},
   "outputs": [],
   "source": [
    "def get_top_dist_indices(ds, conditions, X_neuron, dist_percentile=0.9):\n",
    "    # normalize X_neuron first\n",
    "    X_neuron_mean = X_neuron.mean(axis=0)\n",
    "    X_neuron_std = X_neuron.std(axis=0)\n",
    "    X_neuron = (X_neuron - X_neuron_mean) / X_neuron_std\n",
    "    vec = subgroup_vulnerability_distance_vector(ds, conditions, X_neuron)\n",
    "    # filter out the nan values\n",
    "    nan_indices = np.argwhere(np.isnan(vec))\n",
    "    vec = np.delete(vec, nan_indices)\n",
    "    X_neuron = np.delete(X_neuron, nan_indices, axis=0)\n",
    "    pos_vec = np.abs(vec)\n",
    "    sorted_indices = np.argsort(-pos_vec)\n",
    "    cum_norm = np.array([np.linalg.norm(vec[sorted_indices[:i]]) for i in range(1, len(sorted_indices)+1)])\n",
    "    cum_norm_p = cum_norm / cum_norm[-1]\n",
    "    idx = np.argmax(cum_norm_p > dist_percentile)\n",
    "    top_indices = sorted_indices[:idx]\n",
    "\n",
    "    return top_indices"
   ]
  },
  {
   "cell_type": "code",
   "execution_count": null,
   "metadata": {},
   "outputs": [],
   "source": [
    "get_top_dist_indices(ds, {'sex':'male'}, x_n_tr)"
   ]
  },
  {
   "cell_type": "code",
   "execution_count": null,
   "metadata": {},
   "outputs": [],
   "source": [
    "male_indices = get_indices_by_conditions(ds, x_n_tr, {'sex': 'male'})\n",
    "female_indices = get_indices_by_conditions(ds, x_n_tr, {'sex': 'female'})"
   ]
  },
  {
   "attachments": {},
   "cell_type": "markdown",
   "metadata": {},
   "source": [
    "## Plot subgroup disparity"
   ]
  },
  {
   "cell_type": "code",
   "execution_count": null,
   "metadata": {},
   "outputs": [],
   "source": [
    "subgroup_columns = ['sex', 'race', 'relig']\n",
    "\n",
    "# if 'att_enc' not in globals():\n",
    "#     y_onehot, att_enc = model_utils.get_onehot(y.to_numpy().ravel().reshape(-1,1))\n",
    "test_size = 0.5\n",
    "\n",
    "x_n_tr, x_n_te, y_n_tr, y_n_te= train_test_split(X_neuron, y, test_size=test_size, random_state=42)\n",
    "x_n_tr, x_n_te = data_utils.normalize(x_n_tr, x_n_te)\n",
    "subgroup_disparity_dict = get_subgroup_disparity(ds, subgroup_columns, neuron_clfs[round(1-test_size,1)], x_n_te, y_n_te, metric='auc')\n",
    "plot_subgroup_disparity(subgroup_disparity_dict)"
   ]
  },
  {
   "cell_type": "code",
   "execution_count": null,
   "metadata": {},
   "outputs": [],
   "source": [
    "subgroup_columns = ['sex', 'race', 'relig']\n",
    "\n",
    "# if 'att_enc' not in globals():\n",
    "#     y_onehot, att_enc = model_utils.get_onehot(y.to_numpy().ravel().reshape(-1,1))\n",
    "test_size = 0.5\n",
    "\n",
    "x_n_tr, x_n_te, y_n_tr, y_n_te= train_test_split(X_neuron, y, test_size=test_size, random_state=42)\n",
    "subgroup_disparity_dict = get_subgroup_disparity_baseline(ds, subgroup_columns, x_n_te, y_n_te, metric='auc')\n",
    "print(subgroup_disparity_dict)\n",
    "plot_subgroup_disparity(subgroup_disparity_dict)"
   ]
  },
  {
   "cell_type": "code",
   "execution_count": null,
   "metadata": {},
   "outputs": [],
   "source": [
    "test_indices = np.arange(len(X_neuron))[np.isin(X_neuron, x_n_te)]"
   ]
  },
  {
   "attachments": {},
   "cell_type": "markdown",
   "metadata": {},
   "source": [
    "## Our attack with random data"
   ]
  },
  {
   "cell_type": "code",
   "execution_count": null,
   "metadata": {},
   "outputs": [],
   "source": [
    "random_df = filter_random_data(ds, clf, num_samples=1000000)\n",
    "X_random_neuron = make_neuron_output_data(random_df, clf, y_columns)\n",
    "y_random = random_df[ds.ds.meta['sensitive_column'] + \"_\" + ds.ds.meta['sensitive_positive']]"
   ]
  },
  {
   "cell_type": "code",
   "execution_count": null,
   "metadata": {},
   "outputs": [],
   "source": [
    "random_neuron_clf = model_utils.get_model(max_iter=500)\n",
    "y_random_onehot = att_enc.transform(y_random.to_numpy().ravel().reshape(-1,1))\n",
    "random_neuron_clf.fit(X_random_neuron, y_random_onehot)"
   ]
  },
  {
   "cell_type": "code",
   "execution_count": null,
   "metadata": {},
   "outputs": [],
   "source": [
    "# test on the test data\n",
    "acc = 100 * random_neuron_clf.score(x_n_te, att_enc.transform(y_n_te.to_numpy().ravel().reshape(-1,1)))\n",
    "if True:\n",
    "    print(f\"Attack accuracy: {acc}\")"
   ]
  },
  {
   "cell_type": "code",
   "execution_count": null,
   "metadata": {},
   "outputs": [],
   "source": [
    "t1 = torch.from_numpy(X_train.iloc[0].to_numpy()).float().to(model_utils.device)\n",
    "# out_1 = torch.relu(np.matmul(X_train.iloc[0].to_numpy(), clf.coefs_[0]) + clf.intercepts_[0])\n",
    "out_1 = torch.relu(torch.matmul(t1, torch.from_numpy(clf.coefs_[0]).float().to(model_utils.device)) + torch.from_numpy(clf.intercepts_[0]).float().to(model_utils.device))\n",
    "print(out_1)\n",
    "out_2 = (np.matmul(out_1, clf.coefs_[1]) + clf.intercepts_[1])\n",
    "print(out_2)"
   ]
  }
 ],
 "metadata": {
  "colab": {
   "provenance": []
  },
  "gpuClass": "standard",
  "kernelspec": {
   "display_name": "Python 3 (ipykernel)",
   "language": "python",
   "name": "python3"
  },
  "language_info": {
   "codemirror_mode": {
    "name": "ipython",
    "version": 3
   },
   "file_extension": ".py",
   "mimetype": "text/x-python",
   "name": "python",
   "nbconvert_exporter": "python",
   "pygments_lexer": "ipython3",
   "version": "3.9.16"
  }
 },
 "nbformat": 4,
 "nbformat_minor": 4
}

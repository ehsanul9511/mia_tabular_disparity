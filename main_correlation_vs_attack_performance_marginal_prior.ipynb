{
 "cells": [
  {
   "attachments": {},
   "cell_type": "markdown",
   "metadata": {},
   "source": [
    "# Load Library"
   ]
  },
  {
   "cell_type": "code",
   "execution_count": 1,
   "metadata": {},
   "outputs": [],
   "source": [
    "%load_ext autoreload\n",
    "%autoreload 2"
   ]
  },
  {
   "cell_type": "code",
   "execution_count": 2,
   "metadata": {},
   "outputs": [],
   "source": [
    "import warnings\n",
    "\n",
    "warnings.filterwarnings('ignore')"
   ]
  },
  {
   "cell_type": "code",
   "execution_count": 3,
   "metadata": {
    "tags": []
   },
   "outputs": [],
   "source": [
    "from tqdm import tqdm\n",
    "import os\n",
    "import data_utils\n",
    "import model_utils\n",
    "from attack_utils import get_CSMIA_case_by_case_results, CSMIA_attack, LOMIA_attack, imputation_attack, whitebox_neuron_attack, get_LOMIA_results\n",
    "from data_utils import oneHotCatVars, filter_random_data_by_conf_score\n",
    "from vulnerability_score_utils import get_vulnerability_score, draw_hist_plot\n",
    "from experiment_utils import MIAExperiment\n",
    "from disparity_inference_utils import get_confidence_array, draw_confidence_array_scatter, get_indices_by_group_condition, get_corr_btn_sens_and_out_per_subgroup, get_slopes, get_angular_difference, calculate_stds, get_mutual_info_btn_sens_and_out_per_subgroup\n",
    "import numpy as np\n",
    "import pandas as pd\n",
    "import torch\n",
    "import torch.nn as nn\n",
    "from sklearn.neural_network import MLPClassifier\n",
    "from sklearn.preprocessing import OneHotEncoder\n",
    "from sklearn.neural_network._base import ACTIVATIONS\n",
    "from sklearn.model_selection import train_test_split\n",
    "from sklearn.metrics.pairwise import euclidean_distances\n",
    "from sklearn.metrics import roc_curve, auc, roc_auc_score, accuracy_score, precision_score, recall_score, f1_score, confusion_matrix, classification_report\n",
    "from sklearn.decomposition import PCA\n",
    "from sklearn.inspection import permutation_importance\n",
    "import matplotlib.pyplot as plt\n",
    "import seaborn as sns\n",
    "import tabulate\n",
    "import pickle\n",
    "# import utils\n",
    "import copy\n",
    "from scipy.stats import kendalltau, spearmanr\n",
    "\n",
    "import matplotlib as mpl\n",
    "\n",
    "# Setting the font family, size, and weight globally\n",
    "mpl.rcParams['font.family'] = 'DejaVu Sans'\n",
    "mpl.rcParams['font.size'] = 8\n",
    "mpl.rcParams['font.weight'] = 'light'"
   ]
  },
  {
   "cell_type": "code",
   "execution_count": 13,
   "metadata": {},
   "outputs": [
    {
     "name": "stdout",
     "output_type": "stream",
     "text": [
      "[0, 1]\n",
      "{0: {(0, 1): 8291, (0, 0): 41, (1, 1): 4209, (1, 0): 12459}, 1: {(0, 1): 8291, (0, 0): 41, (1, 1): 4209, (1, 0): 12459}}\n"
     ]
    },
    {
     "name": "stderr",
     "output_type": "stream",
     "text": [
      "100%|██████████| 2/2 [00:00<00:00,  2.14it/s]\n"
     ]
    },
    {
     "name": "stdout",
     "output_type": "stream",
     "text": [
      "{0: {(0, 1): 4755, (0, 0): 3577, (1, 1): 7745, (1, 0): 8923}, 1: {(0, 1): 5345, (0, 0): 2988, (1, 1): 7155, (1, 0): 9512}}\n"
     ]
    },
    {
     "name": "stderr",
     "output_type": "stream",
     "text": [
      "100%|██████████| 2/2 [00:00<00:00,  2.22it/s]\n"
     ]
    },
    {
     "name": "stdout",
     "output_type": "stream",
     "text": [
      "[0, 1]\n",
      "{0: {(0, 1): 7996, (0, 0): 336, (1, 1): 4504, (1, 0): 12164}, 1: {(0, 1): 7996, (0, 0): 336, (1, 1): 4504, (1, 0): 12164}}\n"
     ]
    },
    {
     "name": "stderr",
     "output_type": "stream",
     "text": [
      "100%|██████████| 2/2 [00:00<00:00,  2.28it/s]\n"
     ]
    },
    {
     "name": "stdout",
     "output_type": "stream",
     "text": [
      "{0: {(0, 1): 4755, (0, 0): 3577, (1, 1): 7745, (1, 0): 8923}, 1: {(0, 1): 5345, (0, 0): 2988, (1, 1): 7155, (1, 0): 9512}}\n"
     ]
    },
    {
     "name": "stderr",
     "output_type": "stream",
     "text": [
      "100%|██████████| 2/2 [00:00<00:00,  2.21it/s]\n"
     ]
    },
    {
     "name": "stdout",
     "output_type": "stream",
     "text": [
      "[0, 1]\n",
      "{0: {(0, 1): 7702, (0, 0): 631, (1, 1): 4798, (1, 0): 11869}, 1: {(0, 1): 7702, (0, 0): 631, (1, 1): 4798, (1, 0): 11869}}\n"
     ]
    },
    {
     "name": "stderr",
     "output_type": "stream",
     "text": [
      "100%|██████████| 2/2 [00:00<00:00,  2.22it/s]\n"
     ]
    },
    {
     "name": "stdout",
     "output_type": "stream",
     "text": [
      "{0: {(0, 1): 4755, (0, 0): 3577, (1, 1): 7745, (1, 0): 8923}, 1: {(0, 1): 5345, (0, 0): 2988, (1, 1): 7155, (1, 0): 9512}}\n"
     ]
    },
    {
     "name": "stderr",
     "output_type": "stream",
     "text": [
      "100%|██████████| 2/2 [00:00<00:00,  2.17it/s]\n"
     ]
    },
    {
     "name": "stdout",
     "output_type": "stream",
     "text": [
      "[0, 1]\n",
      "{0: {(0, 1): 7407, (0, 0): 925, (1, 1): 5093, (1, 0): 11575}, 1: {(0, 1): 7407, (0, 0): 925, (1, 1): 5093, (1, 0): 11575}}\n"
     ]
    },
    {
     "name": "stderr",
     "output_type": "stream",
     "text": [
      "100%|██████████| 2/2 [00:00<00:00,  2.19it/s]\n"
     ]
    },
    {
     "name": "stdout",
     "output_type": "stream",
     "text": [
      "{0: {(0, 1): 4755, (0, 0): 3577, (1, 1): 7745, (1, 0): 8923}, 1: {(0, 1): 5345, (0, 0): 2988, (1, 1): 7155, (1, 0): 9512}}\n"
     ]
    },
    {
     "name": "stderr",
     "output_type": "stream",
     "text": [
      "100%|██████████| 2/2 [00:00<00:00,  2.18it/s]\n"
     ]
    },
    {
     "name": "stdout",
     "output_type": "stream",
     "text": [
      "[0, 1]\n",
      "{0: {(0, 1): 7112, (0, 0): 1220, (1, 1): 5388, (1, 0): 11280}, 1: {(0, 1): 7112, (0, 0): 1220, (1, 1): 5388, (1, 0): 11280}}\n"
     ]
    },
    {
     "name": "stderr",
     "output_type": "stream",
     "text": [
      "100%|██████████| 2/2 [00:00<00:00,  2.19it/s]\n"
     ]
    },
    {
     "name": "stdout",
     "output_type": "stream",
     "text": [
      "{0: {(0, 1): 4755, (0, 0): 3577, (1, 1): 7745, (1, 0): 8923}, 1: {(0, 1): 5345, (0, 0): 2988, (1, 1): 7155, (1, 0): 9512}}\n"
     ]
    },
    {
     "name": "stderr",
     "output_type": "stream",
     "text": [
      "100%|██████████| 2/2 [00:00<00:00,  2.22it/s]\n"
     ]
    },
    {
     "name": "stdout",
     "output_type": "stream",
     "text": [
      "[0, 1]\n",
      "{0: {(0, 1): 6818, (0, 0): 1515, (1, 1): 5682, (1, 0): 10985}, 1: {(0, 1): 6818, (0, 0): 1515, (1, 1): 5682, (1, 0): 10985}}\n"
     ]
    },
    {
     "name": "stderr",
     "output_type": "stream",
     "text": [
      "100%|██████████| 2/2 [00:00<00:00,  2.14it/s]\n"
     ]
    },
    {
     "name": "stdout",
     "output_type": "stream",
     "text": [
      "{0: {(0, 1): 4755, (0, 0): 3577, (1, 1): 7745, (1, 0): 8923}, 1: {(0, 1): 5345, (0, 0): 2988, (1, 1): 7155, (1, 0): 9512}}\n"
     ]
    },
    {
     "name": "stderr",
     "output_type": "stream",
     "text": [
      "100%|██████████| 2/2 [00:00<00:00,  2.13it/s]\n"
     ]
    },
    {
     "name": "stdout",
     "output_type": "stream",
     "text": [
      "[0, 1]\n",
      "{0: {(0, 1): 6523, (0, 0): 1809, (1, 1): 5977, (1, 0): 10691}, 1: {(0, 1): 6523, (0, 0): 1809, (1, 1): 5977, (1, 0): 10691}}\n"
     ]
    },
    {
     "name": "stderr",
     "output_type": "stream",
     "text": [
      "100%|██████████| 2/2 [00:00<00:00,  2.30it/s]\n"
     ]
    },
    {
     "name": "stdout",
     "output_type": "stream",
     "text": [
      "{0: {(0, 1): 4755, (0, 0): 3577, (1, 1): 7745, (1, 0): 8923}, 1: {(0, 1): 5345, (0, 0): 2988, (1, 1): 7155, (1, 0): 9512}}\n"
     ]
    },
    {
     "name": "stderr",
     "output_type": "stream",
     "text": [
      "100%|██████████| 2/2 [00:00<00:00,  2.23it/s]\n"
     ]
    },
    {
     "name": "stdout",
     "output_type": "stream",
     "text": [
      "[0, 1]\n",
      "{0: {(0, 1): 6229, (0, 0): 2104, (1, 1): 6271, (1, 0): 10396}, 1: {(0, 1): 6229, (0, 0): 2104, (1, 1): 6271, (1, 0): 10396}}\n"
     ]
    },
    {
     "name": "stderr",
     "output_type": "stream",
     "text": [
      "100%|██████████| 2/2 [00:00<00:00,  2.24it/s]\n"
     ]
    },
    {
     "name": "stdout",
     "output_type": "stream",
     "text": [
      "{0: {(0, 1): 4755, (0, 0): 3577, (1, 1): 7745, (1, 0): 8923}, 1: {(0, 1): 5345, (0, 0): 2988, (1, 1): 7155, (1, 0): 9512}}\n"
     ]
    },
    {
     "name": "stderr",
     "output_type": "stream",
     "text": [
      "100%|██████████| 2/2 [00:00<00:00,  2.21it/s]\n"
     ]
    },
    {
     "name": "stdout",
     "output_type": "stream",
     "text": [
      "[0, 1]\n",
      "{0: {(0, 1): 5934, (0, 0): 2398, (1, 1): 6566, (1, 0): 10102}, 1: {(0, 1): 5934, (0, 0): 2398, (1, 1): 6566, (1, 0): 10102}}\n"
     ]
    },
    {
     "name": "stderr",
     "output_type": "stream",
     "text": [
      "100%|██████████| 2/2 [00:00<00:00,  2.29it/s]\n"
     ]
    },
    {
     "name": "stdout",
     "output_type": "stream",
     "text": [
      "{0: {(0, 1): 4755, (0, 0): 3577, (1, 1): 7745, (1, 0): 8923}, 1: {(0, 1): 5345, (0, 0): 2988, (1, 1): 7155, (1, 0): 9512}}\n"
     ]
    },
    {
     "name": "stderr",
     "output_type": "stream",
     "text": [
      "100%|██████████| 2/2 [00:00<00:00,  2.25it/s]\n"
     ]
    },
    {
     "name": "stdout",
     "output_type": "stream",
     "text": [
      "[0, 1]\n",
      "{0: {(0, 1): 5639, (0, 0): 2693, (1, 1): 6861, (1, 0): 9807}, 1: {(0, 1): 5639, (0, 0): 2693, (1, 1): 6861, (1, 0): 9807}}\n"
     ]
    },
    {
     "name": "stderr",
     "output_type": "stream",
     "text": [
      "100%|██████████| 2/2 [00:00<00:00,  2.21it/s]\n"
     ]
    },
    {
     "name": "stdout",
     "output_type": "stream",
     "text": [
      "{0: {(0, 1): 4755, (0, 0): 3577, (1, 1): 7745, (1, 0): 8923}, 1: {(0, 1): 5345, (0, 0): 2988, (1, 1): 7155, (1, 0): 9512}}\n"
     ]
    },
    {
     "name": "stderr",
     "output_type": "stream",
     "text": [
      "100%|██████████| 2/2 [00:00<00:00,  2.28it/s]\n"
     ]
    },
    {
     "name": "stdout",
     "output_type": "stream",
     "text": [
      "[0, 1]\n",
      "{0: {(0, 1): 5345, (0, 0): 2988, (1, 1): 7155, (1, 0): 9512}, 1: {(0, 1): 5345, (0, 0): 2988, (1, 1): 7155, (1, 0): 9512}}\n"
     ]
    },
    {
     "name": "stderr",
     "output_type": "stream",
     "text": [
      "100%|██████████| 2/2 [00:00<00:00,  2.15it/s]\n"
     ]
    },
    {
     "name": "stdout",
     "output_type": "stream",
     "text": [
      "{0: {(0, 1): 4755, (0, 0): 3577, (1, 1): 7745, (1, 0): 8923}, 1: {(0, 1): 5345, (0, 0): 2988, (1, 1): 7155, (1, 0): 9512}}\n"
     ]
    },
    {
     "name": "stderr",
     "output_type": "stream",
     "text": [
      "100%|██████████| 2/2 [00:00<00:00,  2.25it/s]\n"
     ]
    },
    {
     "name": "stdout",
     "output_type": "stream",
     "text": [
      "[0, 1]\n",
      "{0: {(0, 1): 5050, (0, 0): 3282, (1, 1): 7450, (1, 0): 9218}, 1: {(0, 1): 5050, (0, 0): 3282, (1, 1): 7450, (1, 0): 9218}}\n"
     ]
    },
    {
     "name": "stderr",
     "output_type": "stream",
     "text": [
      "100%|██████████| 2/2 [00:00<00:00,  2.32it/s]\n"
     ]
    },
    {
     "name": "stdout",
     "output_type": "stream",
     "text": [
      "{0: {(0, 1): 4755, (0, 0): 3577, (1, 1): 7745, (1, 0): 8923}, 1: {(0, 1): 5345, (0, 0): 2988, (1, 1): 7155, (1, 0): 9512}}\n"
     ]
    },
    {
     "name": "stderr",
     "output_type": "stream",
     "text": [
      "100%|██████████| 2/2 [00:00<00:00,  2.29it/s]\n"
     ]
    },
    {
     "name": "stdout",
     "output_type": "stream",
     "text": [
      "[0, 1]\n",
      "{0: {(0, 1): 4755, (0, 0): 3577, (1, 1): 7745, (1, 0): 8923}, 1: {(0, 1): 4755, (0, 0): 3577, (1, 1): 7745, (1, 0): 8923}}\n"
     ]
    },
    {
     "name": "stderr",
     "output_type": "stream",
     "text": [
      "100%|██████████| 2/2 [00:00<00:00,  2.26it/s]\n"
     ]
    },
    {
     "name": "stdout",
     "output_type": "stream",
     "text": [
      "{0: {(0, 1): 4755, (0, 0): 3577, (1, 1): 7745, (1, 0): 8923}, 1: {(0, 1): 5345, (0, 0): 2988, (1, 1): 7155, (1, 0): 9512}}\n"
     ]
    },
    {
     "name": "stderr",
     "output_type": "stream",
     "text": [
      "100%|██████████| 2/2 [00:00<00:00,  2.24it/s]\n"
     ]
    },
    {
     "name": "stdout",
     "output_type": "stream",
     "text": [
      "[0, 1]\n",
      "{0: {(0, 1): 4461, (0, 0): 3872, (1, 1): 8039, (1, 0): 8628}, 1: {(0, 1): 4461, (0, 0): 3872, (1, 1): 8039, (1, 0): 8628}}\n"
     ]
    },
    {
     "name": "stderr",
     "output_type": "stream",
     "text": [
      "100%|██████████| 2/2 [00:00<00:00,  2.15it/s]\n"
     ]
    },
    {
     "name": "stdout",
     "output_type": "stream",
     "text": [
      "{0: {(0, 1): 4755, (0, 0): 3577, (1, 1): 7745, (1, 0): 8923}, 1: {(0, 1): 5345, (0, 0): 2988, (1, 1): 7155, (1, 0): 9512}}\n"
     ]
    },
    {
     "name": "stderr",
     "output_type": "stream",
     "text": [
      "100%|██████████| 2/2 [00:00<00:00,  2.26it/s]\n"
     ]
    },
    {
     "name": "stdout",
     "output_type": "stream",
     "text": [
      "[0, 1]\n",
      "{0: {(0, 1): 4166, (0, 0): 4166, (1, 1): 8334, (1, 0): 8334}, 1: {(0, 1): 4166, (0, 0): 4166, (1, 1): 8334, (1, 0): 8334}}\n"
     ]
    },
    {
     "name": "stderr",
     "output_type": "stream",
     "text": [
      "100%|██████████| 2/2 [00:00<00:00,  2.28it/s]\n"
     ]
    },
    {
     "name": "stdout",
     "output_type": "stream",
     "text": [
      "{0: {(0, 1): 4755, (0, 0): 3577, (1, 1): 7745, (1, 0): 8923}, 1: {(0, 1): 5345, (0, 0): 2988, (1, 1): 7155, (1, 0): 9512}}\n"
     ]
    },
    {
     "name": "stderr",
     "output_type": "stream",
     "text": [
      "100%|██████████| 2/2 [00:00<00:00,  2.30it/s]\n"
     ]
    }
   ],
   "source": [
    "experiments = { f\"corr_btn_sens_and_out_{(i, j)}\":  MIAExperiment(sampling_condition_dict_list = \n",
    "    {\n",
    "            'correlation': 0,\n",
    "            'subgroup_col_name': 'SEX',\n",
    "            'marginal_prior': 0.5,\n",
    "            'corr_btn_sens_and_output_per_subgroup': (i, j),\n",
    "            # 'fixed_corr_in_test_data': True\n",
    "    }, shortname = f\"Corr_btn_sens_and_output_for_male_({i})_for_female_({j})\"\n",
    ") for (i, j) in [(k, k) for k in np.arange(-0.9, 0.05, 0.05)[4:].tolist()]}\n",
    "# ) for i in [-0.4, -0.3, -0.2, -0.1, 0][:1] for j in [-0.4, -0.3, -0.2, -0.1, 0][-1:]}"
   ]
  },
  {
   "cell_type": "code",
   "execution_count": 5,
   "metadata": {},
   "outputs": [
    {
     "name": "stdout",
     "output_type": "stream",
     "text": [
      "[0, 1]\n",
      "{0: {(0, 1): 6250, (0, 0): 6250, (1, 1): 6250, (1, 0): 6250}, 1: {(0, 1): 6250, (0, 0): 6250, (1, 1): 6250, (1, 0): 6250}}\n"
     ]
    },
    {
     "name": "stderr",
     "output_type": "stream",
     "text": [
      "100%|██████████| 2/2 [00:00<00:00,  5.10it/s]\n"
     ]
    },
    {
     "name": "stdout",
     "output_type": "stream",
     "text": [
      "{0: {(0, 1): 6250, (0, 0): 6250, (1, 1): 6250, (1, 0): 6250}, 1: {(0, 1): 5625, (0, 0): 6875, (1, 1): 6875, (1, 0): 5625}}\n"
     ]
    },
    {
     "name": "stderr",
     "output_type": "stream",
     "text": [
      "100%|██████████| 2/2 [00:00<00:00,  5.38it/s]\n"
     ]
    },
    {
     "name": "stdout",
     "output_type": "stream",
     "text": [
      "[0, 1]\n",
      "{0: {(0, 1): 5937, (0, 0): 6562, (1, 1): 6563, (1, 0): 5938}, 1: {(0, 1): 5937, (0, 0): 6562, (1, 1): 6563, (1, 0): 5938}}\n"
     ]
    },
    {
     "name": "stderr",
     "output_type": "stream",
     "text": [
      "100%|██████████| 2/2 [00:00<00:00,  5.12it/s]\n"
     ]
    },
    {
     "name": "stdout",
     "output_type": "stream",
     "text": [
      "{0: {(0, 1): 6250, (0, 0): 6250, (1, 1): 6250, (1, 0): 6250}, 1: {(0, 1): 5625, (0, 0): 6875, (1, 1): 6875, (1, 0): 5625}}\n"
     ]
    },
    {
     "name": "stderr",
     "output_type": "stream",
     "text": [
      "100%|██████████| 2/2 [00:00<00:00,  5.19it/s]\n"
     ]
    },
    {
     "name": "stdout",
     "output_type": "stream",
     "text": [
      "[0, 1]\n",
      "{0: {(0, 1): 5625, (0, 0): 6875, (1, 1): 6875, (1, 0): 5625}, 1: {(0, 1): 5625, (0, 0): 6875, (1, 1): 6875, (1, 0): 5625}}\n"
     ]
    },
    {
     "name": "stderr",
     "output_type": "stream",
     "text": [
      "100%|██████████| 2/2 [00:00<00:00,  5.01it/s]\n"
     ]
    },
    {
     "name": "stdout",
     "output_type": "stream",
     "text": [
      "{0: {(0, 1): 6250, (0, 0): 6250, (1, 1): 6250, (1, 0): 6250}, 1: {(0, 1): 5625, (0, 0): 6875, (1, 1): 6875, (1, 0): 5625}}\n"
     ]
    },
    {
     "name": "stderr",
     "output_type": "stream",
     "text": [
      "100%|██████████| 2/2 [00:00<00:00,  5.44it/s]\n"
     ]
    },
    {
     "name": "stdout",
     "output_type": "stream",
     "text": [
      "[0, 1]\n",
      "{0: {(0, 1): 5312, (0, 0): 7187, (1, 1): 7188, (1, 0): 5313}, 1: {(0, 1): 5312, (0, 0): 7187, (1, 1): 7188, (1, 0): 5313}}\n"
     ]
    },
    {
     "name": "stderr",
     "output_type": "stream",
     "text": [
      "100%|██████████| 2/2 [00:00<00:00,  4.91it/s]\n"
     ]
    },
    {
     "name": "stdout",
     "output_type": "stream",
     "text": [
      "{0: {(0, 1): 6250, (0, 0): 6250, (1, 1): 6250, (1, 0): 6250}, 1: {(0, 1): 5625, (0, 0): 6875, (1, 1): 6875, (1, 0): 5625}}\n"
     ]
    },
    {
     "name": "stderr",
     "output_type": "stream",
     "text": [
      "100%|██████████| 2/2 [00:00<00:00,  5.33it/s]\n"
     ]
    },
    {
     "name": "stdout",
     "output_type": "stream",
     "text": [
      "[0, 1]\n",
      "{0: {(0, 1): 5000, (0, 0): 7500, (1, 1): 7500, (1, 0): 5000}, 1: {(0, 1): 5000, (0, 0): 7500, (1, 1): 7500, (1, 0): 5000}}\n"
     ]
    },
    {
     "name": "stderr",
     "output_type": "stream",
     "text": [
      "100%|██████████| 2/2 [00:00<00:00,  4.88it/s]\n"
     ]
    },
    {
     "name": "stdout",
     "output_type": "stream",
     "text": [
      "{0: {(0, 1): 6250, (0, 0): 6250, (1, 1): 6250, (1, 0): 6250}, 1: {(0, 1): 5625, (0, 0): 6875, (1, 1): 6875, (1, 0): 5625}}\n"
     ]
    },
    {
     "name": "stderr",
     "output_type": "stream",
     "text": [
      "100%|██████████| 2/2 [00:00<00:00,  5.29it/s]\n"
     ]
    },
    {
     "name": "stdout",
     "output_type": "stream",
     "text": [
      "[0, 1]\n",
      "{0: {(0, 1): 4687, (0, 0): 7812, (1, 1): 7813, (1, 0): 4688}, 1: {(0, 1): 4687, (0, 0): 7812, (1, 1): 7813, (1, 0): 4688}}\n"
     ]
    },
    {
     "name": "stderr",
     "output_type": "stream",
     "text": [
      "100%|██████████| 2/2 [00:00<00:00,  5.08it/s]\n"
     ]
    },
    {
     "name": "stdout",
     "output_type": "stream",
     "text": [
      "{0: {(0, 1): 6250, (0, 0): 6250, (1, 1): 6250, (1, 0): 6250}, 1: {(0, 1): 5625, (0, 0): 6875, (1, 1): 6875, (1, 0): 5625}}\n"
     ]
    },
    {
     "name": "stderr",
     "output_type": "stream",
     "text": [
      "100%|██████████| 2/2 [00:00<00:00,  5.39it/s]\n"
     ]
    },
    {
     "name": "stdout",
     "output_type": "stream",
     "text": [
      "[0, 1]\n",
      "{0: {(0, 1): 4375, (0, 0): 8125, (1, 1): 8125, (1, 0): 4375}, 1: {(0, 1): 4375, (0, 0): 8125, (1, 1): 8125, (1, 0): 4375}}\n"
     ]
    },
    {
     "name": "stderr",
     "output_type": "stream",
     "text": [
      "100%|██████████| 2/2 [00:00<00:00,  4.97it/s]\n"
     ]
    },
    {
     "name": "stdout",
     "output_type": "stream",
     "text": [
      "{0: {(0, 1): 6250, (0, 0): 6250, (1, 1): 6250, (1, 0): 6250}, 1: {(0, 1): 5625, (0, 0): 6875, (1, 1): 6875, (1, 0): 5625}}\n"
     ]
    },
    {
     "name": "stderr",
     "output_type": "stream",
     "text": [
      "100%|██████████| 2/2 [00:00<00:00,  5.33it/s]\n"
     ]
    },
    {
     "name": "stdout",
     "output_type": "stream",
     "text": [
      "[0, 1]\n",
      "{0: {(0, 1): 4062, (0, 0): 8437, (1, 1): 8438, (1, 0): 4063}, 1: {(0, 1): 4062, (0, 0): 8437, (1, 1): 8438, (1, 0): 4063}}\n"
     ]
    },
    {
     "name": "stderr",
     "output_type": "stream",
     "text": [
      "100%|██████████| 2/2 [00:00<00:00,  4.81it/s]\n"
     ]
    },
    {
     "name": "stdout",
     "output_type": "stream",
     "text": [
      "{0: {(0, 1): 6250, (0, 0): 6250, (1, 1): 6250, (1, 0): 6250}, 1: {(0, 1): 5625, (0, 0): 6875, (1, 1): 6875, (1, 0): 5625}}\n"
     ]
    },
    {
     "name": "stderr",
     "output_type": "stream",
     "text": [
      "100%|██████████| 2/2 [00:00<00:00,  5.37it/s]\n"
     ]
    },
    {
     "name": "stdout",
     "output_type": "stream",
     "text": [
      "[0, 1]\n",
      "{0: {(0, 1): 3750, (0, 0): 8750, (1, 1): 8750, (1, 0): 3750}, 1: {(0, 1): 3750, (0, 0): 8750, (1, 1): 8750, (1, 0): 3750}}\n"
     ]
    },
    {
     "name": "stderr",
     "output_type": "stream",
     "text": [
      "100%|██████████| 2/2 [00:00<00:00,  4.87it/s]\n"
     ]
    },
    {
     "name": "stdout",
     "output_type": "stream",
     "text": [
      "{0: {(0, 1): 6250, (0, 0): 6250, (1, 1): 6250, (1, 0): 6250}, 1: {(0, 1): 5625, (0, 0): 6875, (1, 1): 6875, (1, 0): 5625}}\n"
     ]
    },
    {
     "name": "stderr",
     "output_type": "stream",
     "text": [
      "100%|██████████| 2/2 [00:00<00:00,  5.27it/s]\n"
     ]
    },
    {
     "name": "stdout",
     "output_type": "stream",
     "text": [
      "[0, 1]\n",
      "{0: {(0, 1): 3437, (0, 0): 9062, (1, 1): 9063, (1, 0): 3438}, 1: {(0, 1): 3437, (0, 0): 9062, (1, 1): 9063, (1, 0): 3438}}\n"
     ]
    },
    {
     "name": "stderr",
     "output_type": "stream",
     "text": [
      "100%|██████████| 2/2 [00:00<00:00,  5.11it/s]\n"
     ]
    },
    {
     "name": "stdout",
     "output_type": "stream",
     "text": [
      "{0: {(0, 1): 6250, (0, 0): 6250, (1, 1): 6250, (1, 0): 6250}, 1: {(0, 1): 5625, (0, 0): 6875, (1, 1): 6875, (1, 0): 5625}}\n"
     ]
    },
    {
     "name": "stderr",
     "output_type": "stream",
     "text": [
      "100%|██████████| 2/2 [00:00<00:00,  5.46it/s]\n"
     ]
    },
    {
     "name": "stdout",
     "output_type": "stream",
     "text": [
      "[0, 1]\n",
      "{0: {(0, 1): 3125, (0, 0): 9375, (1, 1): 9375, (1, 0): 3125}, 1: {(0, 1): 3125, (0, 0): 9375, (1, 1): 9375, (1, 0): 3125}}\n"
     ]
    },
    {
     "name": "stderr",
     "output_type": "stream",
     "text": [
      "100%|██████████| 2/2 [00:00<00:00,  4.97it/s]\n"
     ]
    },
    {
     "name": "stdout",
     "output_type": "stream",
     "text": [
      "{0: {(0, 1): 6250, (0, 0): 6250, (1, 1): 6250, (1, 0): 6250}, 1: {(0, 1): 5625, (0, 0): 6875, (1, 1): 6875, (1, 0): 5625}}\n"
     ]
    },
    {
     "name": "stderr",
     "output_type": "stream",
     "text": [
      "100%|██████████| 2/2 [00:00<00:00,  5.11it/s]\n"
     ]
    },
    {
     "name": "stdout",
     "output_type": "stream",
     "text": [
      "[0, 1]\n",
      "{0: {(0, 1): 2812, (0, 0): 9687, (1, 1): 9688, (1, 0): 2813}, 1: {(0, 1): 2812, (0, 0): 9687, (1, 1): 9688, (1, 0): 2813}}\n"
     ]
    },
    {
     "name": "stderr",
     "output_type": "stream",
     "text": [
      "100%|██████████| 2/2 [00:00<00:00,  4.85it/s]\n"
     ]
    },
    {
     "name": "stdout",
     "output_type": "stream",
     "text": [
      "{0: {(0, 1): 6250, (0, 0): 6250, (1, 1): 6250, (1, 0): 6250}, 1: {(0, 1): 5625, (0, 0): 6875, (1, 1): 6875, (1, 0): 5625}}\n"
     ]
    },
    {
     "name": "stderr",
     "output_type": "stream",
     "text": [
      "100%|██████████| 2/2 [00:00<00:00,  5.19it/s]\n"
     ]
    },
    {
     "name": "stdout",
     "output_type": "stream",
     "text": [
      "[0, 1]\n",
      "{0: {(0, 1): 2499, (0, 0): 10000, (1, 1): 10001, (1, 0): 2500}, 1: {(0, 1): 2499, (0, 0): 10000, (1, 1): 10001, (1, 0): 2500}}\n"
     ]
    },
    {
     "name": "stderr",
     "output_type": "stream",
     "text": [
      "100%|██████████| 2/2 [00:00<00:00,  4.75it/s]\n"
     ]
    },
    {
     "name": "stdout",
     "output_type": "stream",
     "text": [
      "{0: {(0, 1): 6250, (0, 0): 6250, (1, 1): 6250, (1, 0): 6250}, 1: {(0, 1): 5625, (0, 0): 6875, (1, 1): 6875, (1, 0): 5625}}\n"
     ]
    },
    {
     "name": "stderr",
     "output_type": "stream",
     "text": [
      "100%|██████████| 2/2 [00:00<00:00,  5.21it/s]\n"
     ]
    },
    {
     "name": "stdout",
     "output_type": "stream",
     "text": [
      "[0, 1]\n",
      "{0: {(0, 1): 2187, (0, 0): 10312, (1, 1): 10313, (1, 0): 2188}, 1: {(0, 1): 2187, (0, 0): 10312, (1, 1): 10313, (1, 0): 2188}}\n"
     ]
    },
    {
     "name": "stderr",
     "output_type": "stream",
     "text": [
      "100%|██████████| 2/2 [00:00<00:00,  4.20it/s]\n"
     ]
    },
    {
     "name": "stdout",
     "output_type": "stream",
     "text": [
      "{0: {(0, 1): 6250, (0, 0): 6250, (1, 1): 6250, (1, 0): 6250}, 1: {(0, 1): 5625, (0, 0): 6875, (1, 1): 6875, (1, 0): 5625}}\n"
     ]
    },
    {
     "name": "stderr",
     "output_type": "stream",
     "text": [
      "100%|██████████| 2/2 [00:00<00:00,  4.75it/s]\n"
     ]
    },
    {
     "name": "stdout",
     "output_type": "stream",
     "text": [
      "[0, 1]\n",
      "{0: {(0, 1): 1874, (0, 0): 10625, (1, 1): 10626, (1, 0): 1875}, 1: {(0, 1): 1874, (0, 0): 10625, (1, 1): 10626, (1, 0): 1875}}\n"
     ]
    },
    {
     "name": "stderr",
     "output_type": "stream",
     "text": [
      "100%|██████████| 2/2 [00:00<00:00,  4.80it/s]\n"
     ]
    },
    {
     "name": "stdout",
     "output_type": "stream",
     "text": [
      "{0: {(0, 1): 6250, (0, 0): 6250, (1, 1): 6250, (1, 0): 6250}, 1: {(0, 1): 5625, (0, 0): 6875, (1, 1): 6875, (1, 0): 5625}}\n"
     ]
    },
    {
     "name": "stderr",
     "output_type": "stream",
     "text": [
      "100%|██████████| 2/2 [00:00<00:00,  5.06it/s]\n"
     ]
    },
    {
     "name": "stdout",
     "output_type": "stream",
     "text": [
      "[0, 1]\n",
      "{0: {(0, 1): 1562, (0, 0): 10937, (1, 1): 10938, (1, 0): 1563}, 1: {(0, 1): 1562, (0, 0): 10937, (1, 1): 10938, (1, 0): 1563}}\n"
     ]
    },
    {
     "name": "stderr",
     "output_type": "stream",
     "text": [
      "100%|██████████| 2/2 [00:00<00:00,  4.71it/s]\n"
     ]
    },
    {
     "name": "stdout",
     "output_type": "stream",
     "text": [
      "{0: {(0, 1): 6250, (0, 0): 6250, (1, 1): 6250, (1, 0): 6250}, 1: {(0, 1): 5625, (0, 0): 6875, (1, 1): 6875, (1, 0): 5625}}\n"
     ]
    },
    {
     "name": "stderr",
     "output_type": "stream",
     "text": [
      "100%|██████████| 2/2 [00:00<00:00,  4.56it/s]\n"
     ]
    },
    {
     "name": "stdout",
     "output_type": "stream",
     "text": [
      "[0, 1]\n",
      "{0: {(0, 1): 1249, (0, 0): 11250, (1, 1): 11251, (1, 0): 1250}, 1: {(0, 1): 1249, (0, 0): 11250, (1, 1): 11251, (1, 0): 1250}}\n"
     ]
    },
    {
     "name": "stderr",
     "output_type": "stream",
     "text": [
      "100%|██████████| 2/2 [00:00<00:00,  4.74it/s]\n"
     ]
    },
    {
     "name": "stdout",
     "output_type": "stream",
     "text": [
      "{0: {(0, 1): 6250, (0, 0): 6250, (1, 1): 6250, (1, 0): 6250}, 1: {(0, 1): 5625, (0, 0): 6875, (1, 1): 6875, (1, 0): 5625}}\n"
     ]
    },
    {
     "name": "stderr",
     "output_type": "stream",
     "text": [
      "100%|██████████| 2/2 [00:00<00:00,  5.08it/s]\n"
     ]
    },
    {
     "name": "stdout",
     "output_type": "stream",
     "text": [
      "[0, 1]\n",
      "{0: {(0, 1): 937, (0, 0): 11562, (1, 1): 11563, (1, 0): 938}, 1: {(0, 1): 937, (0, 0): 11562, (1, 1): 11563, (1, 0): 938}}\n"
     ]
    },
    {
     "name": "stderr",
     "output_type": "stream",
     "text": [
      "100%|██████████| 2/2 [00:00<00:00,  4.24it/s]\n"
     ]
    },
    {
     "name": "stdout",
     "output_type": "stream",
     "text": [
      "{0: {(0, 1): 6250, (0, 0): 6250, (1, 1): 6250, (1, 0): 6250}, 1: {(0, 1): 5625, (0, 0): 6875, (1, 1): 6875, (1, 0): 5625}}\n"
     ]
    },
    {
     "name": "stderr",
     "output_type": "stream",
     "text": [
      "100%|██████████| 2/2 [00:00<00:00,  4.95it/s]\n"
     ]
    },
    {
     "name": "stdout",
     "output_type": "stream",
     "text": [
      "[0, 1]\n",
      "{0: {(0, 1): 624, (0, 0): 11875, (1, 1): 11876, (1, 0): 625}, 1: {(0, 1): 624, (0, 0): 11875, (1, 1): 11876, (1, 0): 625}}\n"
     ]
    },
    {
     "name": "stderr",
     "output_type": "stream",
     "text": [
      "100%|██████████| 2/2 [00:00<00:00,  4.57it/s]\n"
     ]
    },
    {
     "name": "stdout",
     "output_type": "stream",
     "text": [
      "{0: {(0, 1): 6250, (0, 0): 6250, (1, 1): 6250, (1, 0): 6250}, 1: {(0, 1): 5625, (0, 0): 6875, (1, 1): 6875, (1, 0): 5625}}\n"
     ]
    },
    {
     "name": "stderr",
     "output_type": "stream",
     "text": [
      "100%|██████████| 2/2 [00:00<00:00,  4.86it/s]\n"
     ]
    }
   ],
   "source": [
    "experiments_texas = { f\"corr_btn_sens_and_out_{(i, j)}\":  MIAExperiment(sampling_condition_dict_list = \n",
    "    {\n",
    "            'correlation': 0,\n",
    "            'subgroup_col_name': 'ETHNICITY',\n",
    "            'marginal_prior': 1,\n",
    "            'corr_btn_sens_and_output_per_subgroup': (i, j),\n",
    "            # 'fixed_corr_in_test_data': True\n",
    "    }, shortname = f\"Corr_btn_sens_and_output_for_male_({i})_for_female_({j})\", name='Texas100', sensitive_column='SEX_CODE'\n",
    ") for (i, j) in [(k, k) for k in np.arange(0, 0.95, 0.05)[:].tolist()]}\n",
    "# ) for i in [-0.4, -0.3, -0.2, -0.1, 0][:1] for j in [-0.4, -0.3, -0.2, -0.1, 0][-1:]}"
   ]
  },
  {
   "cell_type": "code",
   "execution_count": 14,
   "metadata": {},
   "outputs": [
    {
     "name": "stdout",
     "output_type": "stream",
     "text": [
      "Training classifier for experiment: Census19_correlation_0_subgroup_col_name_SEX_marginal_prior_0.5_corr_btn_sens_and_output_per_subgroup_LPAREN-0.6999999999999998, -0.6999999999999998RPAREN\n",
      "Training classifier for experiment: Census19_correlation_0_subgroup_col_name_SEX_marginal_prior_0.5_corr_btn_sens_and_output_per_subgroup_LPAREN-0.6499999999999998, -0.6499999999999998RPAREN\n",
      "Training classifier for experiment: Census19_correlation_0_subgroup_col_name_SEX_marginal_prior_0.5_corr_btn_sens_and_output_per_subgroup_LPAREN-0.5999999999999998, -0.5999999999999998RPAREN\n",
      "Training classifier for experiment: Census19_correlation_0_subgroup_col_name_SEX_marginal_prior_0.5_corr_btn_sens_and_output_per_subgroup_LPAREN-0.5499999999999997, -0.5499999999999997RPAREN\n",
      "Training classifier for experiment: Census19_correlation_0_subgroup_col_name_SEX_marginal_prior_0.5_corr_btn_sens_and_output_per_subgroup_LPAREN-0.49999999999999967, -0.49999999999999967RPAREN\n",
      "Training classifier for experiment: Census19_correlation_0_subgroup_col_name_SEX_marginal_prior_0.5_corr_btn_sens_and_output_per_subgroup_LPAREN-0.4499999999999996, -0.4499999999999996RPAREN\n",
      "Training classifier for experiment: Census19_correlation_0_subgroup_col_name_SEX_marginal_prior_0.5_corr_btn_sens_and_output_per_subgroup_LPAREN-0.3999999999999996, -0.3999999999999996RPAREN\n",
      "Training classifier for experiment: Census19_correlation_0_subgroup_col_name_SEX_marginal_prior_0.5_corr_btn_sens_and_output_per_subgroup_LPAREN-0.34999999999999953, -0.34999999999999953RPAREN\n",
      "Training classifier for experiment: Census19_correlation_0_subgroup_col_name_SEX_marginal_prior_0.5_corr_btn_sens_and_output_per_subgroup_LPAREN-0.2999999999999995, -0.2999999999999995RPAREN\n",
      "Training classifier for experiment: Census19_correlation_0_subgroup_col_name_SEX_marginal_prior_0.5_corr_btn_sens_and_output_per_subgroup_LPAREN-0.24999999999999944, -0.24999999999999944RPAREN\n",
      "Training classifier for experiment: Census19_correlation_0_subgroup_col_name_SEX_marginal_prior_0.5_corr_btn_sens_and_output_per_subgroup_LPAREN-0.1999999999999994, -0.1999999999999994RPAREN\n",
      "Training classifier for experiment: Census19_correlation_0_subgroup_col_name_SEX_marginal_prior_0.5_corr_btn_sens_and_output_per_subgroup_LPAREN-0.14999999999999936, -0.14999999999999936RPAREN\n",
      "Training classifier for experiment: Census19_correlation_0_subgroup_col_name_SEX_marginal_prior_0.5_corr_btn_sens_and_output_per_subgroup_LPAREN-0.09999999999999931, -0.09999999999999931RPAREN\n",
      "Training classifier for experiment: Census19_correlation_0_subgroup_col_name_SEX_marginal_prior_0.5_corr_btn_sens_and_output_per_subgroup_LPAREN-0.04999999999999927, -0.04999999999999927RPAREN\n",
      "Training classifier for experiment: Census19_correlation_0_subgroup_col_name_SEX_marginal_prior_0.5_corr_btn_sens_and_output_per_subgroup_LPAREN7.771561172376096e-16, 7.771561172376096e-16RPAREN\n"
     ]
    }
   ],
   "source": [
    "save_model = True\n",
    "\n",
    "for experiment_key in experiments:\n",
    "    experiment = experiments[experiment_key]\n",
    "    print(f\"Training classifier for experiment: {experiment}\")\n",
    "    try:\n",
    "        experiment.clf = model_utils.load_model(f'<PATH_TO_MODEL>/{experiment.ds.ds.filenameroot}_target_model.pkl')\n",
    "        print(f\"Loaded classifier for experiment from file: {experiment}\")\n",
    "    except:\n",
    "        # clf = model_utils.get_model(max_iter=500, hidden_layer_sizes=(256, 256))\n",
    "        experiment.clf = model_utils.get_model(max_iter=500)\n",
    "        experiment.clf.fit(experiment.X_test, experiment.y_te_onehot)\n",
    "\n",
    "        if save_model:\n",
    "            model_utils.save_model(experiment.clf, f'<PATH_TO_MODEL>/{experiment.ds.ds.filenameroot}_target_model.pkl')"
   ]
  },
  {
   "cell_type": "code",
   "execution_count": 7,
   "metadata": {},
   "outputs": [
    {
     "name": "stdout",
     "output_type": "stream",
     "text": [
      "Training classifier for experiment: Texas100_correlation_0_subgroup_col_name_ETHNICITY_marginal_prior_1_corr_btn_sens_and_output_per_subgroup_LPAREN0.0, 0.0RPAREN\n",
      "Loaded classifier for experiment from file: Texas100_correlation_0_subgroup_col_name_ETHNICITY_marginal_prior_1_corr_btn_sens_and_output_per_subgroup_LPAREN0.0, 0.0RPAREN\n",
      "Training classifier for experiment: Texas100_correlation_0_subgroup_col_name_ETHNICITY_marginal_prior_1_corr_btn_sens_and_output_per_subgroup_LPAREN0.05, 0.05RPAREN\n",
      "Loaded classifier for experiment from file: Texas100_correlation_0_subgroup_col_name_ETHNICITY_marginal_prior_1_corr_btn_sens_and_output_per_subgroup_LPAREN0.05, 0.05RPAREN\n",
      "Training classifier for experiment: Texas100_correlation_0_subgroup_col_name_ETHNICITY_marginal_prior_1_corr_btn_sens_and_output_per_subgroup_LPAREN0.1, 0.1RPAREN\n",
      "Loaded classifier for experiment from file: Texas100_correlation_0_subgroup_col_name_ETHNICITY_marginal_prior_1_corr_btn_sens_and_output_per_subgroup_LPAREN0.1, 0.1RPAREN\n",
      "Training classifier for experiment: Texas100_correlation_0_subgroup_col_name_ETHNICITY_marginal_prior_1_corr_btn_sens_and_output_per_subgroup_LPAREN0.15000000000000002, 0.15000000000000002RPAREN\n",
      "Loaded classifier for experiment from file: Texas100_correlation_0_subgroup_col_name_ETHNICITY_marginal_prior_1_corr_btn_sens_and_output_per_subgroup_LPAREN0.15000000000000002, 0.15000000000000002RPAREN\n",
      "Training classifier for experiment: Texas100_correlation_0_subgroup_col_name_ETHNICITY_marginal_prior_1_corr_btn_sens_and_output_per_subgroup_LPAREN0.2, 0.2RPAREN\n",
      "Loaded classifier for experiment from file: Texas100_correlation_0_subgroup_col_name_ETHNICITY_marginal_prior_1_corr_btn_sens_and_output_per_subgroup_LPAREN0.2, 0.2RPAREN\n",
      "Training classifier for experiment: Texas100_correlation_0_subgroup_col_name_ETHNICITY_marginal_prior_1_corr_btn_sens_and_output_per_subgroup_LPAREN0.25, 0.25RPAREN\n",
      "Loaded classifier for experiment from file: Texas100_correlation_0_subgroup_col_name_ETHNICITY_marginal_prior_1_corr_btn_sens_and_output_per_subgroup_LPAREN0.25, 0.25RPAREN\n",
      "Training classifier for experiment: Texas100_correlation_0_subgroup_col_name_ETHNICITY_marginal_prior_1_corr_btn_sens_and_output_per_subgroup_LPAREN0.30000000000000004, 0.30000000000000004RPAREN\n",
      "Loaded classifier for experiment from file: Texas100_correlation_0_subgroup_col_name_ETHNICITY_marginal_prior_1_corr_btn_sens_and_output_per_subgroup_LPAREN0.30000000000000004, 0.30000000000000004RPAREN\n",
      "Training classifier for experiment: Texas100_correlation_0_subgroup_col_name_ETHNICITY_marginal_prior_1_corr_btn_sens_and_output_per_subgroup_LPAREN0.35000000000000003, 0.35000000000000003RPAREN\n",
      "Loaded classifier for experiment from file: Texas100_correlation_0_subgroup_col_name_ETHNICITY_marginal_prior_1_corr_btn_sens_and_output_per_subgroup_LPAREN0.35000000000000003, 0.35000000000000003RPAREN\n",
      "Training classifier for experiment: Texas100_correlation_0_subgroup_col_name_ETHNICITY_marginal_prior_1_corr_btn_sens_and_output_per_subgroup_LPAREN0.4, 0.4RPAREN\n",
      "Loaded classifier for experiment from file: Texas100_correlation_0_subgroup_col_name_ETHNICITY_marginal_prior_1_corr_btn_sens_and_output_per_subgroup_LPAREN0.4, 0.4RPAREN\n",
      "Training classifier for experiment: Texas100_correlation_0_subgroup_col_name_ETHNICITY_marginal_prior_1_corr_btn_sens_and_output_per_subgroup_LPAREN0.45, 0.45RPAREN\n",
      "Loaded classifier for experiment from file: Texas100_correlation_0_subgroup_col_name_ETHNICITY_marginal_prior_1_corr_btn_sens_and_output_per_subgroup_LPAREN0.45, 0.45RPAREN\n",
      "Training classifier for experiment: Texas100_correlation_0_subgroup_col_name_ETHNICITY_marginal_prior_1_corr_btn_sens_and_output_per_subgroup_LPAREN0.5, 0.5RPAREN\n",
      "Loaded classifier for experiment from file: Texas100_correlation_0_subgroup_col_name_ETHNICITY_marginal_prior_1_corr_btn_sens_and_output_per_subgroup_LPAREN0.5, 0.5RPAREN\n",
      "Training classifier for experiment: Texas100_correlation_0_subgroup_col_name_ETHNICITY_marginal_prior_1_corr_btn_sens_and_output_per_subgroup_LPAREN0.55, 0.55RPAREN\n",
      "Loaded classifier for experiment from file: Texas100_correlation_0_subgroup_col_name_ETHNICITY_marginal_prior_1_corr_btn_sens_and_output_per_subgroup_LPAREN0.55, 0.55RPAREN\n",
      "Training classifier for experiment: Texas100_correlation_0_subgroup_col_name_ETHNICITY_marginal_prior_1_corr_btn_sens_and_output_per_subgroup_LPAREN0.6000000000000001, 0.6000000000000001RPAREN\n",
      "Loaded classifier for experiment from file: Texas100_correlation_0_subgroup_col_name_ETHNICITY_marginal_prior_1_corr_btn_sens_and_output_per_subgroup_LPAREN0.6000000000000001, 0.6000000000000001RPAREN\n",
      "Training classifier for experiment: Texas100_correlation_0_subgroup_col_name_ETHNICITY_marginal_prior_1_corr_btn_sens_and_output_per_subgroup_LPAREN0.65, 0.65RPAREN\n",
      "Loaded classifier for experiment from file: Texas100_correlation_0_subgroup_col_name_ETHNICITY_marginal_prior_1_corr_btn_sens_and_output_per_subgroup_LPAREN0.65, 0.65RPAREN\n",
      "Training classifier for experiment: Texas100_correlation_0_subgroup_col_name_ETHNICITY_marginal_prior_1_corr_btn_sens_and_output_per_subgroup_LPAREN0.7000000000000001, 0.7000000000000001RPAREN\n",
      "Loaded classifier for experiment from file: Texas100_correlation_0_subgroup_col_name_ETHNICITY_marginal_prior_1_corr_btn_sens_and_output_per_subgroup_LPAREN0.7000000000000001, 0.7000000000000001RPAREN\n",
      "Training classifier for experiment: Texas100_correlation_0_subgroup_col_name_ETHNICITY_marginal_prior_1_corr_btn_sens_and_output_per_subgroup_LPAREN0.75, 0.75RPAREN\n",
      "Loaded classifier for experiment from file: Texas100_correlation_0_subgroup_col_name_ETHNICITY_marginal_prior_1_corr_btn_sens_and_output_per_subgroup_LPAREN0.75, 0.75RPAREN\n",
      "Training classifier for experiment: Texas100_correlation_0_subgroup_col_name_ETHNICITY_marginal_prior_1_corr_btn_sens_and_output_per_subgroup_LPAREN0.8, 0.8RPAREN\n",
      "Loaded classifier for experiment from file: Texas100_correlation_0_subgroup_col_name_ETHNICITY_marginal_prior_1_corr_btn_sens_and_output_per_subgroup_LPAREN0.8, 0.8RPAREN\n",
      "Training classifier for experiment: Texas100_correlation_0_subgroup_col_name_ETHNICITY_marginal_prior_1_corr_btn_sens_and_output_per_subgroup_LPAREN0.8500000000000001, 0.8500000000000001RPAREN\n",
      "Loaded classifier for experiment from file: Texas100_correlation_0_subgroup_col_name_ETHNICITY_marginal_prior_1_corr_btn_sens_and_output_per_subgroup_LPAREN0.8500000000000001, 0.8500000000000001RPAREN\n",
      "Training classifier for experiment: Texas100_correlation_0_subgroup_col_name_ETHNICITY_marginal_prior_1_corr_btn_sens_and_output_per_subgroup_LPAREN0.9, 0.9RPAREN\n",
      "Loaded classifier for experiment from file: Texas100_correlation_0_subgroup_col_name_ETHNICITY_marginal_prior_1_corr_btn_sens_and_output_per_subgroup_LPAREN0.9, 0.9RPAREN\n"
     ]
    }
   ],
   "source": [
    "save_model = True\n",
    "\n",
    "for experiment_key in experiments_texas:\n",
    "    experiment = experiments_texas[experiment_key]\n",
    "    print(f\"Training classifier for experiment: {experiment}\")\n",
    "    try:\n",
    "        experiment.clf = model_utils.load_model(f'<PATH_TO_MODEL>/{experiment.ds.ds.filenameroot}_target_model.pkl')\n",
    "        print(f\"Loaded classifier for experiment from file: {experiment}\")\n",
    "    except:\n",
    "        # clf = model_utils.get_model(max_iter=500, hidden_layer_sizes=(256, 256))\n",
    "        experiment.clf = model_utils.get_model(max_iter=500)\n",
    "        experiment.clf.fit(experiment.X_test, experiment.y_te_onehot)\n",
    "\n",
    "        if save_model:\n",
    "            model_utils.save_model(experiment.clf, f'<PATH_TO_MODEL>/{experiment.ds.ds.filenameroot}_target_model.pkl')"
   ]
  },
  {
   "cell_type": "code",
   "execution_count": 15,
   "metadata": {},
   "outputs": [],
   "source": [
    "for experiment_key in experiments:\n",
    "    experiment = experiments[experiment_key]\n",
    "    experiment.sens_pred_CSMIA, case_indices = CSMIA_attack(experiment.clf, experiment.X_test, experiment.y_te, experiment.ds.ds.meta)   \n",
    "    experiment.sens_pred_LOMIA = LOMIA_attack(experiment, experiment.clf, experiment.X_test, experiment.y_te, experiment.ds.ds.meta)\n",
    "    experiment.imputation_results = imputation_attack(experiment)\n",
    "    experiment.wb_neuron_results = whitebox_neuron_attack(experiment, experiment.clf)\n",
    "    experiment.sens_val_ground_truth = experiment.X_test[[f'{experiment.sensitive_column}_1']].to_numpy().ravel()\n"
   ]
  },
  {
   "cell_type": "code",
   "execution_count": 39,
   "metadata": {},
   "outputs": [],
   "source": [
    "for experiment_key in experiments_texas:\n",
    "    experiment = experiments_texas[experiment_key]\n",
    "    experiment.sens_pred_CSMIA, case_indices = CSMIA_attack(experiment.clf, experiment.X_test, experiment.y_te, experiment.ds.ds.meta)   \n",
    "    experiment.sens_pred_LOMIA = LOMIA_attack(experiment, experiment.clf, experiment.X_test, experiment.y_te, experiment.ds.ds.meta)\n",
    "    experiment.imputation_results = imputation_attack(experiment, subgroup_column='ETHNICITY')\n",
    "    experiment.wb_neuron_results = whitebox_neuron_attack(experiment, experiment.clf, subgroup_column='ETHNICITY')\n",
    "    experiment.sens_val_ground_truth = experiment.X_test[[f'{experiment.sensitive_column}_1']].to_numpy().ravel()\n"
   ]
  },
  {
   "cell_type": "code",
   "execution_count": 16,
   "metadata": {},
   "outputs": [],
   "source": [
    "def false_positive_rate(x, y):\n",
    "    tp, fn, fp, tn = confusion_matrix(x, y).ravel()\n",
    "    return round(fp / (fp + tn), 4)\n",
    "\n",
    "eval_func = {\n",
    "    'precision': precision_score,\n",
    "    'recall': recall_score,\n",
    "    'f1': f1_score,\n",
    "    'accuracy': accuracy_score,\n",
    "    'fpr': false_positive_rate\n",
    "}\n",
    "\n",
    "metrics = ['accuracy', 'precision', 'recall', 'fpr', 'f1']"
   ]
  },
  {
   "cell_type": "code",
   "execution_count": 17,
   "metadata": {},
   "outputs": [],
   "source": [
    "performance_dict = {}\n",
    "for experiment_key in experiments:\n",
    "    experiment = experiments[experiment_key]\n",
    "    correlation = get_corr_btn_sens_and_out_per_subgroup(experiment, experiment.X_test, experiment.y_te, {})\n",
    "    performance_dict[correlation] = {}\n",
    "    indices = get_indices_by_group_condition(experiment.X_train, {})\n",
    "    performance_dict[correlation]['CSMIA_results'] = {metric: 100 * eval_func[metric](experiment.sens_val_ground_truth[indices], experiment.sens_pred_CSMIA[indices]) for metric in metrics}\n",
    "    performance_dict[correlation]['LOMIA_results'] = {metric: 100 * eval_func[metric](experiment.sens_val_ground_truth[indices], experiment.sens_pred_LOMIA[indices]) for metric in metrics}\n",
    "    performance_dict[correlation]['imputation_results'] = experiment.imputation_results\n",
    "    performance_dict[correlation]['wb_neuron_results'] = experiment.wb_neuron_results"
   ]
  },
  {
   "cell_type": "code",
   "execution_count": 74,
   "metadata": {},
   "outputs": [],
   "source": [
    "performance_dict_texas = {}\n",
    "for experiment_key in experiments_texas:\n",
    "    experiment = experiments_texas[experiment_key]\n",
    "    correlation = get_corr_btn_sens_and_out_per_subgroup(experiment, experiment.X_test, experiment.y_te, {})\n",
    "    performance_dict_texas[correlation] = {}\n",
    "    indices = get_indices_by_group_condition(experiment.X_train, {})\n",
    "    performance_dict_texas[correlation]['CSMIA_results'] = {metric: 100 * eval_func[metric](experiment.sens_val_ground_truth[indices], experiment.sens_pred_CSMIA[indices]) for metric in metrics}\n",
    "    performance_dict_texas[correlation]['LOMIA_results'] = {metric: 100 * eval_func[metric](experiment.sens_val_ground_truth[indices], experiment.sens_pred_LOMIA[indices]) for metric in metrics}\n",
    "    performance_dict_texas[correlation]['imputation_results'] = experiment.imputation_results\n",
    "    performance_dict_texas[correlation]['wb_neuron_results'] = experiment.wb_neuron_results"
   ]
  },
  {
   "cell_type": "code",
   "execution_count": 18,
   "metadata": {},
   "outputs": [],
   "source": [
    "mpl.rcParams['font.family'] = 'Avenir'\n",
    "mpl.rcParams['font.size'] = 12\n",
    "\n",
    "def plot_result(performance_dict, metric='accuracy'):\n",
    "    attacks = ['CSMIA', 'LOMIA', 'imputation', 'wb_neuron']\n",
    "    attack_names = attacks[:2] + ['Imputation', 'NeuronIMP']\n",
    "    metric_name_dict = {'accuracy': 'Attack Accuracy', 'f1': 'F1 Score'}\n",
    "    performance_dict_metric = {corr: {f'{attack}_results': performance_dict[corr][f'{attack}_results'][metric] for attack in attacks} for corr in performance_dict}\n",
    "\n",
    "    df = pd.DataFrame.from_dict(performance_dict_metric, orient='index')\n",
    "    fig, ax = plt.subplots(figsize=(6, 4.5))\n",
    "    line_styles = ['-', '--', '-.', ':']\n",
    "    colors = ['#000000', '#4D4D4D', '#7F7F7F', '#BFBFBF']  # Different shades of black/gray\n",
    "    markers = ['o', 's', '^', 'd']  # Circle, square, triangle up, diamond\n",
    "    for i, attack in enumerate(attacks):\n",
    "        plt.plot(df.index, df[f'{attack}_results'], label=attack_names[i], marker=markers[i], linestyle=line_styles[i], color=colors[i], markersize=5)\n",
    "\n",
    "    x_ticks = np.arange(df.index.min(), df.index.max() + 0., 0.15).round(2).tolist()\n",
    "    plt.xticks(x_ticks)\n",
    "    plt.legend()\n",
    "    plt.xlabel('Correlation')\n",
    "    plt.ylabel(metric_name_dict[metric])\n",
    "    plt.grid(True, linewidth=0.25)\n",
    "    ax.spines['top'].set_visible(False)\n",
    "    ax.spines['right'].set_visible(False)\n",
    "    plt.show()\n",
    "    # plt.plot(df.index, df['LOMIA_attack_accuracy'], label='LOMIA', marker=markers.pop(), color=colors.pop(), line_kws=dict(linewidth=0.5))\n",
    "    # plt.plot(df.index, df['imputation_attack_accuracy'], label='Imputation', marker=markers.pop(), color=colors.pop(), line_kws=dict(linewidth=0.5))"
   ]
  },
  {
   "cell_type": "code",
   "execution_count": 10,
   "metadata": {},
   "outputs": [
    {
     "data": {
      "image/png": "[encoded data removed]",
      "text/plain": [
       "<Figure size 600x450 with 1 Axes>"
      ]
     },
     "metadata": {},
     "output_type": "display_data"
    },
    {
     "data": {
      "image/png": "[encoded data removed]",
      "text/plain": [
       "<Figure size 600x450 with 1 Axes>"
      ]
     },
     "metadata": {},
     "output_type": "display_data"
    }
   ],
   "source": [
    "for metric in ['accuracy', 'f1']:\n",
    "    plot_result(performance_dict, metric=metric)"
   ]
  },
  {
   "cell_type": "code",
   "execution_count": 80,
   "metadata": {},
   "outputs": [
    {
     "data": {
      "image/png": "[encoded data removed]",
      "text/plain": [
       "<Figure size 600x450 with 1 Axes>"
      ]
     },
     "metadata": {},
     "output_type": "display_data"
    },
    {
     "data": {
      "image/png": "[encoded data removed]",
      "text/plain": [
       "<Figure size 600x450 with 1 Axes>"
      ]
     },
     "metadata": {},
     "output_type": "display_data"
    }
   ],
   "source": [
    "for metric in ['accuracy', 'f1']:\n",
    "    plot_result(performance_dict_texas, metric=metric)"
   ]
  }
 ],
 "metadata": {
  "colab": {
   "provenance": []
  },
  "gpuClass": "standard",
  "kernelspec": {
   "display_name": "Python 3 (ipykernel)",
   "language": "python",
   "name": "python3"
  },
  "language_info": {
   "codemirror_mode": {
    "name": "ipython",
    "version": 3
   },
   "file_extension": ".py",
   "mimetype": "text/x-python",
   "name": "python",
   "nbconvert_exporter": "python",
   "pygments_lexer": "ipython3",
   "version": "3.9.16"
  }
 },
 "nbformat": 4,
 "nbformat_minor": 4
}

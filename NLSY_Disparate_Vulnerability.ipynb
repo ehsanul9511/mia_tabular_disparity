{
  "cells": [
    {
      "cell_type": "code",
      "execution_count": 1,
      "metadata": {
        "colab": {
          "base_uri": "https://localhost:8080/"
        },
        "id": "9cbXX9d1GS03",
        "outputId": "cf5a0fc5-1a07-4ac3-d112-9b0494da7c5c"
      },
      "outputs": [
        {
          "name": "stdout",
          "output_type": "stream",
          "text": [
            "Cloning into 'black-boxMIAI'...\n",
            "remote: Enumerating objects: 139, done.\u001b[K\n",
            "remote: Counting objects: 100% (139/139), done.\u001b[K\n",
            "remote: Compressing objects: 100% (66/66), done.\u001b[K\n",
            "remote: Total 139 (delta 91), reused 110 (delta 68), pack-reused 0\u001b[K\n",
            "Receiving objects: 100% (139/139), 1.28 MiB | 4.63 MiB/s, done.\n",
            "Resolving deltas: 100% (91/91), done.\n"
          ]
        }
      ],
      "source": [
        "!git clone https://github.com/ehsanul9511/black-boxMIAI.git"
      ]
    },
    {
      "cell_type": "code",
      "execution_count": 2,
      "metadata": {
        "colab": {
          "base_uri": "https://localhost:8080/"
        },
        "id": "TrXcPKRCKiQG",
        "outputId": "d4b992c6-36a1-4491-c51b-bdfb1f980e3c"
      },
      "outputs": [
        {
          "name": "stdout",
          "output_type": "stream",
          "text": [
            "/Users/ehsanulkabir/Downloads/tabular/black-boxMIAI\n"
          ]
        }
      ],
      "source": [
        "%cd black-boxMIAI/"
      ]
    },
    {
      "cell_type": "code",
      "execution_count": 3,
      "metadata": {
        "id": "z9VJfFpXQOsX"
      },
      "outputs": [],
      "source": [
        "from sklearn.preprocessing import StandardScaler\n",
        "import pandas as pd\n",
        "import numpy as np\n",
        "import random\n",
        "from tqdm import tqdm"
      ]
    },
    {
      "cell_type": "code",
      "execution_count": 4,
      "metadata": {
        "id": "b7LDVJomSj81"
      },
      "outputs": [],
      "source": [
        "import matplotlib.pyplot as plt\n",
        "import seaborn as sns"
      ]
    },
    {
      "cell_type": "code",
      "execution_count": 5,
      "metadata": {
        "id": "dwsuc3_e0m_P"
      },
      "outputs": [],
      "source": [
        "from sklearn.neural_network import MLPClassifier"
      ]
    },
    {
      "cell_type": "code",
      "execution_count": 6,
      "metadata": {
        "id": "vKPu4tdLBdS0"
      },
      "outputs": [],
      "source": [
        "dataset = 'NLSY'"
      ]
    },
    {
      "cell_type": "code",
      "execution_count": 7,
      "metadata": {
        "id": "YyQ6FGgLHVYo"
      },
      "outputs": [],
      "source": [
        "nlsy_data_dict = {\n",
        "    'name': \"NLSY\",\n",
        "    'path': 'data/nlsy_5096.csv',\n",
        "    'dummy_columns': ['marital8', 'gender', 'race', 'arrestsdli8', 'drug_marijuana',\n",
        "        'smoking8', 'drinking8', 'sexdrugsdli8', 'sexstrng8'],\n",
        "    'numeric_columns': ['age','children', 'incarceration', 'income8'],\n",
        "    'y_column': 'ratelife8',\n",
        "    'sensitive_column': 'drug_marijuana',\n",
        "    'sensitive_pos': 'dm_yes',\n",
        "    'y_pos': \"excellent\",\n",
        "    'attack_type': \"Random\"\n",
        "}"
      ]
    },
    {
      "cell_type": "code",
      "execution_count": 8,
      "metadata": {
        "id": "UaNqnlhwsS-M"
      },
      "outputs": [],
      "source": [
        "adult_data_dict = {\n",
        "    'name': \"Adult\",\n",
        "    'path': 'data/Adult_35222.csv',\n",
        "    'dummy_columns': [\"work\", \"education\", \"marital\", \"occupation\", \"race\", \"sex\"],\n",
        "    'numeric_columns': [\"fnlwgt\", \"capitalgain\", \"capitalloss\", \"hoursperweek\"],\n",
        "    'y_column': 'income',\n",
        "    'sensitive_column': 'marital',\n",
        "    'sensitive_pos': 'Married',\n",
        "    'y_pos': \">50K\",\n",
        "    'attack_type': \"Random\"\n",
        "}"
      ]
    },
    {
      "cell_type": "code",
      "execution_count": 9,
      "metadata": {
        "id": "NZTuW4Wss52-"
      },
      "outputs": [],
      "source": [
        "gss_data_dict = {\n",
        "    'name': \"GSS\",\n",
        "    'path': 'data/GSS_15235.csv',\n",
        "    'dummy_columns': ['year', 'marital', 'divorce', 'sex', 'race', 'relig', 'xmovie', 'pornlaw'],\n",
        "    'numeric_columns': ['childs', 'age', 'educ'],\n",
        "    'y_column': 'hapmar',\n",
        "    'sensitive_column': 'xmovie',\n",
        "    'sensitive_pos': 'x_yes',\n",
        "    'y_pos': 'nottoohappy',\n",
        "    \"attack_type\": \"Random\"\n",
        "}"
      ]
    },
    {
      "cell_type": "code",
      "execution_count": 10,
      "metadata": {
        "id": "sjzj0PvTBbQK"
      },
      "outputs": [],
      "source": [
        "all_data_dict = {\n",
        "    \"Adult\": adult_data_dict,\n",
        "    \"GSS\": gss_data_dict,\n",
        "    \"NLSY\": nlsy_data_dict\n",
        "}"
      ]
    },
    {
      "cell_type": "code",
      "execution_count": 11,
      "metadata": {
        "id": "iJuJAL-wBnD4"
      },
      "outputs": [],
      "source": [
        "data_dict = all_data_dict[dataset]"
      ]
    },
    {
      "cell_type": "code",
      "execution_count": 12,
      "metadata": {
        "id": "M05Xpw6RN-Z7"
      },
      "outputs": [],
      "source": [
        "#data = adult_data.data\n",
        "orig_data = pd.read_csv(data_dict['path'])"
      ]
    },
    {
      "cell_type": "code",
      "execution_count": 13,
      "metadata": {
        "id": "Eg1AolA4VFah"
      },
      "outputs": [],
      "source": [
        "if data_dict['name'] == 'GSS':\n",
        "    orig_data['pornlaw'] = orig_data['pornlaw'].replace({\"illegalillegal8\": \"illegal\"})\n",
        "elif data_dict['name'] == 'NLSY':\n",
        "    orig_data = orig_data.drop(['id'], axis=1)"
      ]
    },
    {
      "cell_type": "code",
      "execution_count": 14,
      "metadata": {
        "id": "AamIGUmu9HSq"
      },
      "outputs": [],
      "source": [
        "data = orig_data.copy()"
      ]
    },
    {
      "cell_type": "code",
      "execution_count": 15,
      "metadata": {
        "colab": {
          "base_uri": "https://localhost:8080/",
          "height": 488
        },
        "id": "4k1_uG_BIEaJ",
        "outputId": "7eb7068a-88e6-4c8c-b35c-ef3d4eb389c2"
      },
      "outputs": [
        {
          "data": {
            "text/html": [
              "<div>\n",
              "<style scoped>\n",
              "    .dataframe tbody tr th:only-of-type {\n",
              "        vertical-align: middle;\n",
              "    }\n",
              "\n",
              "    .dataframe tbody tr th {\n",
              "        vertical-align: top;\n",
              "    }\n",
              "\n",
              "    .dataframe thead th {\n",
              "        text-align: right;\n",
              "    }\n",
              "</style>\n",
              "<table border=\"1\" class=\"dataframe\">\n",
              "  <thead>\n",
              "    <tr style=\"text-align: right;\">\n",
              "      <th></th>\n",
              "      <th>marital8</th>\n",
              "      <th>gender</th>\n",
              "      <th>age</th>\n",
              "      <th>race</th>\n",
              "      <th>children</th>\n",
              "      <th>arrestsdli8</th>\n",
              "      <th>incarceration</th>\n",
              "      <th>income8</th>\n",
              "      <th>smoking8</th>\n",
              "      <th>drinking8</th>\n",
              "      <th>drug_marijuana</th>\n",
              "      <th>sexdrugsdli8</th>\n",
              "      <th>sexstrng8</th>\n",
              "      <th>ratelife8</th>\n",
              "    </tr>\n",
              "  </thead>\n",
              "  <tbody>\n",
              "    <tr>\n",
              "      <th>0</th>\n",
              "      <td>married</td>\n",
              "      <td>female</td>\n",
              "      <td>26</td>\n",
              "      <td>hispanic</td>\n",
              "      <td>1</td>\n",
              "      <td>a_no</td>\n",
              "      <td>0</td>\n",
              "      <td>515</td>\n",
              "      <td>smk_no</td>\n",
              "      <td>drnk_yes</td>\n",
              "      <td>dm_no</td>\n",
              "      <td>s_no</td>\n",
              "      <td>ss_no</td>\n",
              "      <td>good</td>\n",
              "    </tr>\n",
              "    <tr>\n",
              "      <th>1</th>\n",
              "      <td>nevermarried</td>\n",
              "      <td>male</td>\n",
              "      <td>24</td>\n",
              "      <td>hispanic</td>\n",
              "      <td>-1</td>\n",
              "      <td>a_no</td>\n",
              "      <td>0</td>\n",
              "      <td>242</td>\n",
              "      <td>smk_no</td>\n",
              "      <td>drnk_yes</td>\n",
              "      <td>dm_no</td>\n",
              "      <td>s_no</td>\n",
              "      <td>ss_yes</td>\n",
              "      <td>verygood</td>\n",
              "    </tr>\n",
              "    <tr>\n",
              "      <th>2</th>\n",
              "      <td>married</td>\n",
              "      <td>female</td>\n",
              "      <td>25</td>\n",
              "      <td>hispanic</td>\n",
              "      <td>2</td>\n",
              "      <td>a_no</td>\n",
              "      <td>0</td>\n",
              "      <td>233</td>\n",
              "      <td>smk_no</td>\n",
              "      <td>drnk_yes</td>\n",
              "      <td>dm_no</td>\n",
              "      <td>s_no</td>\n",
              "      <td>ss_no</td>\n",
              "      <td>excellent</td>\n",
              "    </tr>\n",
              "    <tr>\n",
              "      <th>3</th>\n",
              "      <td>nevermarried</td>\n",
              "      <td>male</td>\n",
              "      <td>28</td>\n",
              "      <td>black</td>\n",
              "      <td>-1</td>\n",
              "      <td>a_no</td>\n",
              "      <td>0</td>\n",
              "      <td>387</td>\n",
              "      <td>smk_no</td>\n",
              "      <td>drnk_yes</td>\n",
              "      <td>dm_no</td>\n",
              "      <td>s_no</td>\n",
              "      <td>ss_no</td>\n",
              "      <td>verygood</td>\n",
              "    </tr>\n",
              "    <tr>\n",
              "      <th>4</th>\n",
              "      <td>divorced</td>\n",
              "      <td>female</td>\n",
              "      <td>26</td>\n",
              "      <td>nonblhis</td>\n",
              "      <td>1</td>\n",
              "      <td>a_no</td>\n",
              "      <td>0</td>\n",
              "      <td>254</td>\n",
              "      <td>smk_no</td>\n",
              "      <td>drnk_no</td>\n",
              "      <td>dm_no</td>\n",
              "      <td>s_no</td>\n",
              "      <td>ss_no</td>\n",
              "      <td>verygood</td>\n",
              "    </tr>\n",
              "    <tr>\n",
              "      <th>...</th>\n",
              "      <td>...</td>\n",
              "      <td>...</td>\n",
              "      <td>...</td>\n",
              "      <td>...</td>\n",
              "      <td>...</td>\n",
              "      <td>...</td>\n",
              "      <td>...</td>\n",
              "      <td>...</td>\n",
              "      <td>...</td>\n",
              "      <td>...</td>\n",
              "      <td>...</td>\n",
              "      <td>...</td>\n",
              "      <td>...</td>\n",
              "      <td>...</td>\n",
              "    </tr>\n",
              "    <tr>\n",
              "      <th>5091</th>\n",
              "      <td>nevermarried</td>\n",
              "      <td>female</td>\n",
              "      <td>26</td>\n",
              "      <td>nonblhis</td>\n",
              "      <td>-1</td>\n",
              "      <td>a_no</td>\n",
              "      <td>0</td>\n",
              "      <td>93</td>\n",
              "      <td>smk_no</td>\n",
              "      <td>drnk_yes</td>\n",
              "      <td>dm_no</td>\n",
              "      <td>s_vskip</td>\n",
              "      <td>ss_vskip</td>\n",
              "      <td>excellent</td>\n",
              "    </tr>\n",
              "    <tr>\n",
              "      <th>5092</th>\n",
              "      <td>nevermarried</td>\n",
              "      <td>male</td>\n",
              "      <td>26</td>\n",
              "      <td>nonblhis</td>\n",
              "      <td>-1</td>\n",
              "      <td>a_no</td>\n",
              "      <td>0</td>\n",
              "      <td>1937</td>\n",
              "      <td>smk_no</td>\n",
              "      <td>drnk_yes</td>\n",
              "      <td>dm_no</td>\n",
              "      <td>s_no</td>\n",
              "      <td>ss_no</td>\n",
              "      <td>good</td>\n",
              "    </tr>\n",
              "    <tr>\n",
              "      <th>5093</th>\n",
              "      <td>cohabiting</td>\n",
              "      <td>male</td>\n",
              "      <td>25</td>\n",
              "      <td>black</td>\n",
              "      <td>-1</td>\n",
              "      <td>a_no</td>\n",
              "      <td>0</td>\n",
              "      <td>122</td>\n",
              "      <td>smk_yes</td>\n",
              "      <td>drnk_yes</td>\n",
              "      <td>dm_yes</td>\n",
              "      <td>s_no</td>\n",
              "      <td>ss_no</td>\n",
              "      <td>fair</td>\n",
              "    </tr>\n",
              "    <tr>\n",
              "      <th>5094</th>\n",
              "      <td>cohabiting</td>\n",
              "      <td>male</td>\n",
              "      <td>25</td>\n",
              "      <td>nonblhis</td>\n",
              "      <td>-1</td>\n",
              "      <td>a_no</td>\n",
              "      <td>0</td>\n",
              "      <td>166</td>\n",
              "      <td>smk_no</td>\n",
              "      <td>drnk_yes</td>\n",
              "      <td>dm_no</td>\n",
              "      <td>s_no</td>\n",
              "      <td>ss_no</td>\n",
              "      <td>excellent</td>\n",
              "    </tr>\n",
              "    <tr>\n",
              "      <th>5095</th>\n",
              "      <td>cohabiting</td>\n",
              "      <td>female</td>\n",
              "      <td>25</td>\n",
              "      <td>nonblhis</td>\n",
              "      <td>-1</td>\n",
              "      <td>a_no</td>\n",
              "      <td>0</td>\n",
              "      <td>209</td>\n",
              "      <td>smk_yes</td>\n",
              "      <td>drnk_yes</td>\n",
              "      <td>dm_no</td>\n",
              "      <td>s_vskip</td>\n",
              "      <td>ss_vskip</td>\n",
              "      <td>excellent</td>\n",
              "    </tr>\n",
              "  </tbody>\n",
              "</table>\n",
              "<p>5096 rows × 14 columns</p>\n",
              "</div>"
            ],
            "text/plain": [
              "          marital8  gender  age      race  children arrestsdli8   \n",
              "0          married  female   26  hispanic         1        a_no  \\\n",
              "1     nevermarried    male   24  hispanic        -1        a_no   \n",
              "2          married  female   25  hispanic         2        a_no   \n",
              "3     nevermarried    male   28     black        -1        a_no   \n",
              "4         divorced  female   26  nonblhis         1        a_no   \n",
              "...            ...     ...  ...       ...       ...         ...   \n",
              "5091  nevermarried  female   26  nonblhis        -1        a_no   \n",
              "5092  nevermarried    male   26  nonblhis        -1        a_no   \n",
              "5093    cohabiting    male   25     black        -1        a_no   \n",
              "5094    cohabiting    male   25  nonblhis        -1        a_no   \n",
              "5095    cohabiting  female   25  nonblhis        -1        a_no   \n",
              "\n",
              "      incarceration  income8 smoking8 drinking8 drug_marijuana sexdrugsdli8   \n",
              "0                 0      515   smk_no  drnk_yes          dm_no         s_no  \\\n",
              "1                 0      242   smk_no  drnk_yes          dm_no         s_no   \n",
              "2                 0      233   smk_no  drnk_yes          dm_no         s_no   \n",
              "3                 0      387   smk_no  drnk_yes          dm_no         s_no   \n",
              "4                 0      254   smk_no   drnk_no          dm_no         s_no   \n",
              "...             ...      ...      ...       ...            ...          ...   \n",
              "5091              0       93   smk_no  drnk_yes          dm_no      s_vskip   \n",
              "5092              0     1937   smk_no  drnk_yes          dm_no         s_no   \n",
              "5093              0      122  smk_yes  drnk_yes         dm_yes         s_no   \n",
              "5094              0      166   smk_no  drnk_yes          dm_no         s_no   \n",
              "5095              0      209  smk_yes  drnk_yes          dm_no      s_vskip   \n",
              "\n",
              "     sexstrng8  ratelife8  \n",
              "0        ss_no       good  \n",
              "1       ss_yes   verygood  \n",
              "2        ss_no  excellent  \n",
              "3        ss_no   verygood  \n",
              "4        ss_no   verygood  \n",
              "...        ...        ...  \n",
              "5091  ss_vskip  excellent  \n",
              "5092     ss_no       good  \n",
              "5093     ss_no       fair  \n",
              "5094     ss_no  excellent  \n",
              "5095  ss_vskip  excellent  \n",
              "\n",
              "[5096 rows x 14 columns]"
            ]
          },
          "execution_count": 15,
          "metadata": {},
          "output_type": "execute_result"
        }
      ],
      "source": [
        "data"
      ]
    },
    {
      "cell_type": "code",
      "execution_count": 16,
      "metadata": {
        "colab": {
          "base_uri": "https://localhost:8080/"
        },
        "id": "lkBwO1KsP3X0",
        "outputId": "275db65d-a9d9-4dc8-b53c-90503eda1ff6"
      },
      "outputs": [
        {
          "data": {
            "text/plain": [
              "Index(['marital8', 'gender', 'age', 'race', 'children', 'arrestsdli8',\n",
              "       'incarceration', 'income8', 'smoking8', 'drinking8', 'drug_marijuana',\n",
              "       'sexdrugsdli8', 'sexstrng8', 'ratelife8'],\n",
              "      dtype='object')"
            ]
          },
          "execution_count": 16,
          "metadata": {},
          "output_type": "execute_result"
        }
      ],
      "source": [
        "data.columns"
      ]
    },
    {
      "cell_type": "code",
      "execution_count": 17,
      "metadata": {
        "colab": {
          "base_uri": "https://localhost:8080/"
        },
        "id": "IDLKY3RcKzms",
        "outputId": "8cd62de0-caa6-4e30-9daf-38c356194e1e"
      },
      "outputs": [
        {
          "data": {
            "text/plain": [
              "{'name': 'NLSY',\n",
              " 'path': 'data/nlsy_5096.csv',\n",
              " 'dummy_columns': ['marital8',\n",
              "  'gender',\n",
              "  'race',\n",
              "  'arrestsdli8',\n",
              "  'drug_marijuana',\n",
              "  'smoking8',\n",
              "  'drinking8',\n",
              "  'sexdrugsdli8',\n",
              "  'sexstrng8'],\n",
              " 'numeric_columns': ['age', 'children', 'incarceration', 'income8'],\n",
              " 'y_column': 'ratelife8',\n",
              " 'sensitive_column': 'drug_marijuana',\n",
              " 'sensitive_pos': 'dm_yes',\n",
              " 'y_pos': 'excellent',\n",
              " 'attack_type': 'Random'}"
            ]
          },
          "execution_count": 17,
          "metadata": {},
          "output_type": "execute_result"
        }
      ],
      "source": [
        "data_dict"
      ]
    },
    {
      "cell_type": "code",
      "execution_count": 18,
      "metadata": {
        "id": "JeSl0Of0zr4R"
      },
      "outputs": [],
      "source": [
        "data = data.dropna()\n",
        "data = pd.get_dummies(data, columns=data_dict['dummy_columns'])\n",
        "numerical_features = data_dict['numeric_columns']\n",
        "scaler = StandardScaler()\n",
        "scaler.fit(data[numerical_features])\n",
        "data[numerical_features] = scaler.transform(data[numerical_features])"
      ]
    },
    {
      "cell_type": "code",
      "execution_count": 19,
      "metadata": {
        "id": "v8O-BtcxKJZj"
      },
      "outputs": [],
      "source": [
        "def draw_plot(result_df, name, flip_column_different=False, metric=\"accuracy\"):\n",
        "    if flip_column_different:\n",
        "        vals = result_df.copy()\n",
        "        vals.index = vals['Subgroup Name'].values\n",
        "        vals = vals.drop(['Subgroup Name', 'Count'], axis=1)\n",
        "        vals = vals.transpose()\n",
        "        rownames = vals.index.values\n",
        "    else:\n",
        "        rownames = result_df['Subgroup Name'].values\n",
        "        vals = result_df.drop(['Subgroup Name', 'Count'], axis=1)\n",
        "\n",
        "    x = np.arange(len(rownames))  # convert range to numpy array\n",
        "    width = len(x) \n",
        "    multiplier = 0\n",
        "\n",
        "    fig, ax = plt.subplots(figsize=(16, 4),layout='constrained')\n",
        "\n",
        "    tick_locations = []\n",
        "\n",
        "    for attribute, measurement in vals.items():\n",
        "        # print(measurement)\n",
        "        offset = width * 2 * multiplier\n",
        "        # print(x *10 + offset)\n",
        "        loc = x * width * 2 + offset\n",
        "        tick_locations += loc.tolist()\n",
        "        rects = ax.bar(x * width * 2 + offset, measurement, width, label=attribute)\n",
        "        # print(rects)\n",
        "        ax.bar_label(rects, labels=[f\"{round(h, 2)}\" for h in measurement], padding=3)\n",
        "        multiplier += width * 1.25\n",
        "        if multiplier == 1:\n",
        "            break\n",
        "\n",
        "    ax.set_ylabel(f'ASR {metric}')\n",
        "    ax.set_title(f'Disparate Vulnerability {name}')\n",
        "    ax.set_xticks(tick_locations, rownames.tolist() * vals.shape[1], rotation=90)  # add half width to center the ticks\n",
        "    if flip_column_different:\n",
        "        ax.legend(loc='upper left', ncol=3, bbox_to_anchor=(0, 2))\n",
        "    else:\n",
        "        ax.legend(loc='upper left', ncol=3, bbox_to_anchor=(0, 1.5))\n",
        "    ax.set_ylim(0, 1)\n",
        "\n",
        "    plt.show()"
      ]
    },
    {
      "cell_type": "code",
      "execution_count": 20,
      "metadata": {
        "id": "G5SWlLQJS2T9"
      },
      "outputs": [],
      "source": [
        "def get_random_data(num, one_hot_columns, orig_data):\n",
        "    orig_columns = orig_data.columns\n",
        "    unique_val_dict = {}\n",
        "    for col in orig_columns:\n",
        "        unique_val_dict[col] = orig_data[col].unique()\n",
        "        if col not in data_dict['dummy_columns'] and col != data_dict['y_column']:\n",
        "            unique_val_dict[col] = [np.min(unique_val_dict[col]), np.max(unique_val_dict[col])]\n",
        "    # print(unique_val_dict)\n",
        "    x = {}\n",
        "    for col in orig_columns:\n",
        "        if col in data_dict['dummy_columns'] or col == data_dict['y_column']:\n",
        "            # print()\n",
        "            np.random.seed(42)\n",
        "            x[col] = np.random.choice(unique_val_dict[col].tolist(), num, replace=True)\n",
        "        else:\n",
        "            np.random.seed(42)\n",
        "            # print(unique_val_dict[col][0], unique_val_dict[col][1])\n",
        "            # x[col] = [random.randint(unique_val_dict[col][0], unique_val_dict[col][1])] * 2\n",
        "            x[col] = np.random.randint(unique_val_dict[col][0], unique_val_dict[col][1], size=num)\n",
        "            # x[col] = 0\n",
        "\n",
        "    # x = pd.DataFrame([x], columns = orig_data.columns)\n",
        "    x = pd.DataFrame.from_dict(x)\n",
        "    # print(x)\n",
        "    xp = x.copy()\n",
        "    x = pd.get_dummies(x, columns=data_dict['dummy_columns'])\n",
        "    x = pd.DataFrame(x, columns=one_hot_columns)\n",
        "    x.fillna(0, inplace=True)\n",
        "    numerical_features = data_dict['numeric_columns']\n",
        "    x[numerical_features] = scaler.transform(x[numerical_features])\n",
        "\n",
        "    return x, xp\n"
      ]
    },
    {
      "cell_type": "code",
      "execution_count": 21,
      "metadata": {
        "id": "bbJiBfs_OaSU"
      },
      "outputs": [],
      "source": [
        "from sklearn.model_selection import train_test_split\n",
        "\n",
        "X = data.drop(data_dict['y_column'], axis=1)\n",
        "y = data[data_dict['y_column']]\n",
        "\n",
        "X_train, X_test, y_train, y_test = train_test_split(X, y, test_size=0.2, random_state=42)"
      ]
    },
    {
      "cell_type": "code",
      "execution_count": 22,
      "metadata": {
        "colab": {
          "base_uri": "https://localhost:8080/",
          "height": 75
        },
        "id": "WjATNKnsOzCa",
        "outputId": "f56f7d8e-9bfc-4961-c6ee-6a41f8c3ffca"
      },
      "outputs": [
        {
          "data": {
            "text/html": [
              "<style>#sk-container-id-1 {color: black;background-color: white;}#sk-container-id-1 pre{padding: 0;}#sk-container-id-1 div.sk-toggleable {background-color: white;}#sk-container-id-1 label.sk-toggleable__label {cursor: pointer;display: block;width: 100%;margin-bottom: 0;padding: 0.3em;box-sizing: border-box;text-align: center;}#sk-container-id-1 label.sk-toggleable__label-arrow:before {content: \"▸\";float: left;margin-right: 0.25em;color: #696969;}#sk-container-id-1 label.sk-toggleable__label-arrow:hover:before {color: black;}#sk-container-id-1 div.sk-estimator:hover label.sk-toggleable__label-arrow:before {color: black;}#sk-container-id-1 div.sk-toggleable__content {max-height: 0;max-width: 0;overflow: hidden;text-align: left;background-color: #f0f8ff;}#sk-container-id-1 div.sk-toggleable__content pre {margin: 0.2em;color: black;border-radius: 0.25em;background-color: #f0f8ff;}#sk-container-id-1 input.sk-toggleable__control:checked~div.sk-toggleable__content {max-height: 200px;max-width: 100%;overflow: auto;}#sk-container-id-1 input.sk-toggleable__control:checked~label.sk-toggleable__label-arrow:before {content: \"▾\";}#sk-container-id-1 div.sk-estimator input.sk-toggleable__control:checked~label.sk-toggleable__label {background-color: #d4ebff;}#sk-container-id-1 div.sk-label input.sk-toggleable__control:checked~label.sk-toggleable__label {background-color: #d4ebff;}#sk-container-id-1 input.sk-hidden--visually {border: 0;clip: rect(1px 1px 1px 1px);clip: rect(1px, 1px, 1px, 1px);height: 1px;margin: -1px;overflow: hidden;padding: 0;position: absolute;width: 1px;}#sk-container-id-1 div.sk-estimator {font-family: monospace;background-color: #f0f8ff;border: 1px dotted black;border-radius: 0.25em;box-sizing: border-box;margin-bottom: 0.5em;}#sk-container-id-1 div.sk-estimator:hover {background-color: #d4ebff;}#sk-container-id-1 div.sk-parallel-item::after {content: \"\";width: 100%;border-bottom: 1px solid gray;flex-grow: 1;}#sk-container-id-1 div.sk-label:hover label.sk-toggleable__label {background-color: #d4ebff;}#sk-container-id-1 div.sk-serial::before {content: \"\";position: absolute;border-left: 1px solid gray;box-sizing: border-box;top: 0;bottom: 0;left: 50%;z-index: 0;}#sk-container-id-1 div.sk-serial {display: flex;flex-direction: column;align-items: center;background-color: white;padding-right: 0.2em;padding-left: 0.2em;position: relative;}#sk-container-id-1 div.sk-item {position: relative;z-index: 1;}#sk-container-id-1 div.sk-parallel {display: flex;align-items: stretch;justify-content: center;background-color: white;position: relative;}#sk-container-id-1 div.sk-item::before, #sk-container-id-1 div.sk-parallel-item::before {content: \"\";position: absolute;border-left: 1px solid gray;box-sizing: border-box;top: 0;bottom: 0;left: 50%;z-index: -1;}#sk-container-id-1 div.sk-parallel-item {display: flex;flex-direction: column;z-index: 1;position: relative;background-color: white;}#sk-container-id-1 div.sk-parallel-item:first-child::after {align-self: flex-end;width: 50%;}#sk-container-id-1 div.sk-parallel-item:last-child::after {align-self: flex-start;width: 50%;}#sk-container-id-1 div.sk-parallel-item:only-child::after {width: 0;}#sk-container-id-1 div.sk-dashed-wrapped {border: 1px dashed gray;margin: 0 0.4em 0.5em 0.4em;box-sizing: border-box;padding-bottom: 0.4em;background-color: white;}#sk-container-id-1 div.sk-label label {font-family: monospace;font-weight: bold;display: inline-block;line-height: 1.2em;}#sk-container-id-1 div.sk-label-container {text-align: center;}#sk-container-id-1 div.sk-container {/* jupyter's `normalize.less` sets `[hidden] { display: none; }` but bootstrap.min.css set `[hidden] { display: none !important; }` so we also need the `!important` here to be able to override the default hidden behavior on the sphinx rendered scikit-learn.org. See: https://github.com/scikit-learn/scikit-learn/issues/21755 */display: inline-block !important;position: relative;}#sk-container-id-1 div.sk-text-repr-fallback {display: none;}</style><div id=\"sk-container-id-1\" class=\"sk-top-container\"><div class=\"sk-text-repr-fallback\"><pre>MLPClassifier(hidden_layer_sizes=(64, 32), max_iter=1000, random_state=42)</pre><b>In a Jupyter environment, please rerun this cell to show the HTML representation or trust the notebook. <br />On GitHub, the HTML representation is unable to render, please try loading this page with nbviewer.org.</b></div><div class=\"sk-container\" hidden><div class=\"sk-item\"><div class=\"sk-estimator sk-toggleable\"><input class=\"sk-toggleable__control sk-hidden--visually\" id=\"sk-estimator-id-1\" type=\"checkbox\" checked><label for=\"sk-estimator-id-1\" class=\"sk-toggleable__label sk-toggleable__label-arrow\">MLPClassifier</label><div class=\"sk-toggleable__content\"><pre>MLPClassifier(hidden_layer_sizes=(64, 32), max_iter=1000, random_state=42)</pre></div></div></div></div></div>"
            ],
            "text/plain": [
              "MLPClassifier(hidden_layer_sizes=(64, 32), max_iter=1000, random_state=42)"
            ]
          },
          "execution_count": 22,
          "metadata": {},
          "output_type": "execute_result"
        }
      ],
      "source": [
        "from sklearn.tree import DecisionTreeClassifier\n",
        "from sklearn.ensemble import RandomForestClassifier\n",
        "from sklearn.neural_network import MLPClassifier\n",
        "\n",
        "np.random.seed(42)\n",
        "\n",
        "# Create an instance of MLPClassifier with random_state set to 42\n",
        "# clf = MLPClassifier(random_state=42, hidden_layer_sizes=(30, 10, 2))\n",
        "\n",
        "clf = MLPClassifier(hidden_layer_sizes=(64, 32), activation='relu', solver='adam', max_iter=1000, random_state=42)\n",
        "clf.fit(X_train, y_train)\n",
        "\n",
        "# clf = RandomForestClassifier()\n",
        "# clf.fit(X_train, y_train)"
      ]
    },
    {
      "cell_type": "code",
      "execution_count": 23,
      "metadata": {
        "colab": {
          "base_uri": "https://localhost:8080/"
        },
        "id": "pdT1GcgcRel7",
        "outputId": "8f50cad6-4ce6-4c26-f51e-f3cee58a2c5f"
      },
      "outputs": [
        {
          "name": "stdout",
          "output_type": "stream",
          "text": [
            "Accuracy: 0.30686274509803924\n"
          ]
        }
      ],
      "source": [
        "score = clf.score(X_test, y_test)\n",
        "print(\"Accuracy:\", score)"
      ]
    },
    {
      "cell_type": "code",
      "execution_count": 24,
      "metadata": {
        "id": "A_Yy6nhlVG2U"
      },
      "outputs": [],
      "source": [
        "# Assuming clf is the trained decision tree classifier\n",
        "predicted_labels = clf.predict(X_test)"
      ]
    },
    {
      "cell_type": "code",
      "execution_count": 25,
      "metadata": {
        "id": "rIjxDB3xlpqH"
      },
      "outputs": [],
      "source": [
        "import warnings\n",
        "warnings.filterwarnings(\"ignore\", category=UserWarning)\n",
        "warnings.filterwarnings(\"ignore\", category=FutureWarning)"
      ]
    },
    {
      "cell_type": "code",
      "execution_count": 26,
      "metadata": {
        "id": "ifD_z74Pvlm9"
      },
      "outputs": [],
      "source": [
        "sensitive_attr = data_dict['sensitive_column']\n",
        "sensitive_columns = list(filter(lambda x: sensitive_attr in x, data.columns))\n",
        "attr_len = len(sensitive_attr) + 1\n",
        "sensitive_values = [val[attr_len:] for val in sensitive_columns]"
      ]
    },
    {
      "cell_type": "code",
      "execution_count": 28,
      "metadata": {
        "id": "qsC-mo8WrJ44"
      },
      "outputs": [],
      "source": [
        "# random_oh_df, random_df = get_random_data(10000, data.columns, orig_data)\n",
        "# for _ in range(1):\n",
        "#     clf.predict([random_oh_df.drop(data_dict['y_column'], axis=1).iloc[0].copy()]* 100000)"
      ]
    },
    {
      "cell_type": "code",
      "execution_count": 27,
      "metadata": {
        "id": "vAZtW8Lpss-I"
      },
      "outputs": [],
      "source": [
        "# Random Attack\n",
        "\n",
        "random_oh_df, random_df = get_random_data(20000, data.columns, orig_data)\n",
        "X_random = random_oh_df.drop(data_dict['y_column'], axis=1)\n",
        "default_cols = X_random.columns\n",
        "# y = random_oh_df[data_dict['y_column']]\n",
        "\n",
        "prediction_columns = []\n",
        "for sensitive_value in sensitive_values:\n",
        "    X_random[sensitive_attr + \"_\" + sensitive_value] = pd.Series(np.ones(X_random.shape[0]), index=X_random.index)\n",
        "    for other_value in sensitive_values:\n",
        "        if other_value != sensitive_value:\n",
        "            X_random[sensitive_attr + \"_\" + other_value] = pd.Series(np.zeros(X_random.shape[0]), index=X_random.index)\n",
        "\n",
        "    newcolname = \"prediction_\" + sensitive_value\n",
        "    prediction_columns.append(newcolname)\n",
        "    X_random[newcolname] = pd.Series(clf.predict(X_random[default_cols]), index=X_random.index)\n",
        "    X_random[\"confidence_\" + sensitive_value] = pd.Series(np.max(clf.predict_proba(X_random[default_cols]), axis=1), \n",
        "                                                         index=X_random.index)\n",
        "\n",
        "X_random['all_predictions'] = X_random[prediction_columns].apply(pd.Series.unique, axis=1)\n",
        "\n",
        "# X_random = X_random[X_random['all_predictions'].apply(lambda x: len(x)==len(sensitive_values))]\n",
        "\n",
        "new_df = None\n",
        "\n",
        "dfs = []\n",
        "\n",
        "for sensitive_value in sensitive_values:\n",
        "    X_temp = X_random[default_cols].copy()\n",
        "\n",
        "    X_temp[sensitive_attr + \"_\" + sensitive_value] = pd.Series(np.ones(X_temp.shape[0]), index=X_random.index)\n",
        "    for other_value in sensitive_values:\n",
        "        if other_value != sensitive_value:\n",
        "            X_temp[sensitive_attr + \"_\" + other_value] = pd.Series(np.zeros(X_temp.shape[0]), index=X_random.index)\n",
        "\n",
        "    X_temp[data_dict['y_column']] = X_random[\"prediction_\" + sensitive_value]\n",
        "    X_temp['confidence'] = X_random[\"confidence_\" + sensitive_value]\n",
        "\n",
        "    dfs.append(X_temp.copy())\n",
        "\n",
        "random_oh_df = pd.concat(dfs, ignore_index=True)\n",
        "\n",
        "new_df = random_oh_df.copy()\n",
        "\n",
        "random_oh_df = random_oh_df[random_oh_df['confidence'].apply(lambda x: x > 0.8)].drop('confidence', axis=1)\n",
        "# X_test = random_oh_df.drop(data_dict['y_column'], axis=1)\n",
        "# y_test = random_oh_df[data_dict['y_column']]\n"
      ]
    },
    {
      "cell_type": "code",
      "execution_count": 28,
      "metadata": {
        "colab": {
          "base_uri": "https://localhost:8080/",
          "height": 468
        },
        "id": "pG3XLHEg7_bV",
        "outputId": "fd2cd761-fe57-4a6f-f6be-b2c9fd776c67"
      },
      "outputs": [
        {
          "data": {
            "text/plain": [
              "<Axes: xlabel='confidence', ylabel='Count'>"
            ]
          },
          "execution_count": 28,
          "metadata": {},
          "output_type": "execute_result"
        },
        {
          "data": {
            "image/png": "[encoded data removed]",
            "text/plain": [
              "<Figure size 640x480 with 1 Axes>"
            ]
          },
          "metadata": {},
          "output_type": "display_data"
        }
      ],
      "source": [
        "sns.histplot(data=new_df, x='confidence', bins=[i/10 for i in range(11)])"
      ]
    },
    {
      "cell_type": "code",
      "execution_count": 29,
      "metadata": {
        "colab": {
          "base_uri": "https://localhost:8080/",
          "height": 450
        },
        "id": "E_8fzZfwZzOc",
        "outputId": "8c022fb6-1fe8-4c61-ccd4-b021bfc16f89"
      },
      "outputs": [
        {
          "data": {
            "image/png": "[encoded data removed]",
            "text/plain": [
              "<Figure size 640x480 with 1 Axes>"
            ]
          },
          "metadata": {},
          "output_type": "display_data"
        }
      ],
      "source": [
        "ax = sns.histplot(data=new_df[new_df[sensitive_attr + \"_\" + sensitive_values[0]]==1], x='confidence', bins=[i/10 for i in range(11)])\n",
        "ax.set_xlabel(f'Confidence for {sensitive_values[0]}')\n",
        "plt.show()"
      ]
    },
    {
      "cell_type": "code",
      "execution_count": 30,
      "metadata": {
        "colab": {
          "base_uri": "https://localhost:8080/",
          "height": 450
        },
        "id": "flwu3XSsaexW",
        "outputId": "eb5fe69f-44a2-4d3b-e2ce-df87bac91da9"
      },
      "outputs": [
        {
          "data": {
            "image/png": "[encoded data removed]",
            "text/plain": [
              "<Figure size 640x480 with 1 Axes>"
            ]
          },
          "metadata": {},
          "output_type": "display_data"
        }
      ],
      "source": [
        "ax = sns.histplot(data=new_df[new_df[sensitive_attr + \"_\" + sensitive_values[1]]==1], x='confidence', bins=[i/10 for i in range(11)])\n",
        "ax.set_xlabel(f'Confidence for {sensitive_values[1]}')\n",
        "plt.show()"
      ]
    },
    {
      "cell_type": "code",
      "execution_count": 31,
      "metadata": {
        "id": "9cCjDeQfsZSA"
      },
      "outputs": [],
      "source": [
        "# # Random Attack\n",
        "\n",
        "# def get_random_query_data():\n",
        "#     random_oh_df, random_df = get_random_data(10000, data.columns, orig_data)\n",
        "#     X_random = random_oh_df.drop(data_dict['y_column'], axis=1)\n",
        "#     # y = random_oh_df[data_dict['y_column']]\n",
        "\n",
        "\n",
        "\n",
        "#     # Assuming X_test is the test set and y_test is the true labels\n",
        "#     attack_dataset = []\n",
        "#     for i in tqdm(range(len(X_random)), disable=False):\n",
        "#         # Get the predicted label and true label for this record\n",
        "#         #pred_label = predicted_labels[i]\n",
        "#         # true_label = y_test.iloc[i]\n",
        "        \n",
        "#         # Check if the predicted label matches the true label for only one possible value of the sensitive attribute\n",
        "#         num_matches = 0\n",
        "#         matched_value = None\n",
        "#         # sensitive_values = [\"Married\", \"Single\"]\n",
        "#         records = []\n",
        "#         y_preds = []\n",
        "#         # records = [record.copy() for _ in range(len(sensitive_values))]\n",
        "#         for sensitive_value in sensitive_values:\n",
        "#             record = X_random.iloc[i].copy()\n",
        "#             record[sensitive_attr + \"_\" + sensitive_value] = 1\n",
        "\n",
        "#             for other_value in sensitive_values:\n",
        "#                 if other_value != sensitive_value:\n",
        "#                     record[sensitive_attr + \"_\" + other_value] = 0\n",
        "            \n",
        "#             # print(record[['marital_Married']])\n",
        "#             y_pred = clf.predict([record])[0]\n",
        "#             # probabilities = clf.predict_proba([record])\n",
        "#             # y_pred = model.predict(record, )\n",
        "#             # print(clf.predict_proba([record]))\n",
        "#             # print(y_pred)\n",
        "#             if y_pred in y_preds:\n",
        "#                 break\n",
        "#             else:\n",
        "#                 y_preds.append(y_pred)\n",
        "#             record[data_dict['y_column']] = y_pred\n",
        "\n",
        "#             records.append(record)\n",
        "\n",
        "#         # print(y_preds)\n",
        "\n",
        "#         if len(records) != len(sensitive_values):\n",
        "#             continue\n",
        "#         else:\n",
        "#             attack_dataset += records\n",
        "\n",
        "#     random_oh_df = pd.DataFrame(attack_dataset)\n",
        "\n",
        "#     return random_oh_df\n",
        "\n",
        "\n",
        "\n",
        "# if data_dict[\"attack_type\"] == \"Random\":\n",
        "#     random_oh_df = get_random_query_data()\n",
        "\n",
        "#     X_test = random_oh_df.drop(data_dict['y_column'], axis=1)\n",
        "#     y_test = random_oh_df[data_dict['y_column']]\n"
      ]
    },
    {
      "cell_type": "code",
      "execution_count": 32,
      "metadata": {
        "id": "zQ2CcdMVlYhv"
      },
      "outputs": [],
      "source": [
        "# pd.crosstab(random_oh_df['marital_Married'], random_oh_df['income'])"
      ]
    },
    {
      "cell_type": "code",
      "execution_count": 33,
      "metadata": {
        "colab": {
          "base_uri": "https://localhost:8080/"
        },
        "id": "rTyjeyk4eRzD",
        "outputId": "0a004c9b-df0a-463c-dc35-bf153fb2028a"
      },
      "outputs": [
        {
          "data": {
            "text/plain": [
              "(32368, 41)"
            ]
          },
          "execution_count": 33,
          "metadata": {},
          "output_type": "execute_result"
        }
      ],
      "source": [
        "random_oh_df.shape"
      ]
    },
    {
      "cell_type": "code",
      "execution_count": 35,
      "metadata": {
        "colab": {
          "base_uri": "https://localhost:8080/"
        },
        "id": "HKsCNmiNRjMV",
        "outputId": "890d75ad-e5d9-4597-c09d-7e70af69753c"
      },
      "outputs": [
        {
          "name": "stderr",
          "output_type": "stream",
          "text": [
            "100%|██████████| 1020/1020 [00:00<00:00, 2836.77it/s]\n"
          ]
        }
      ],
      "source": [
        "# LOMIA Attack\n",
        "\n",
        "# Assuming X_test is the test set and y_test is the true labels\n",
        "\n",
        "attack_dataset = []\n",
        "for i in tqdm(range(len(X_test))):\n",
        "    # Get the predicted label and true label for this record\n",
        "    #pred_label = predicted_labels[i]\n",
        "    true_label = y_test.iloc[i]\n",
        "    \n",
        "    # Check if the predicted label matches the true label for only one possible value of the sensitive attribute\n",
        "    num_matches = 0\n",
        "    matched_value = None\n",
        "    # sensitive_values = [\"Married\", \"Single\"]\n",
        "    for sensitive_value in sensitive_values:\n",
        "        record = X_test.iloc[i].copy()\n",
        "        record[sensitive_attr + \"_\" + sensitive_value] = 1\n",
        "\n",
        "        for other_value in sensitive_values:\n",
        "            if other_value != sensitive_value:\n",
        "                record[sensitive_attr + \"_\" + other_value] = 0\n",
        "        \n",
        "        # Check if the predicted label matches the true label for this sensitive value\n",
        "        # if clf.predict([record])[0] == true_label:\n",
        "        if clf.predict(record.to_numpy().reshape(1, -1))[0] == true_label:\n",
        "            num_matches += 1\n",
        "            matched_value = sensitive_value\n",
        "            \n",
        "    # If there is only one match, label the record with the matched value\n",
        "    if num_matches == 1:\n",
        "        record = X_test.iloc[i].copy()\n",
        "        record[sensitive_attr + \"_\" + matched_value] = 1\n",
        "\n",
        "        for other_value in sensitive_values:\n",
        "            if other_value != matched_value:\n",
        "                record[sensitive_attr + \"_\" + other_value] = 0\n",
        "        \n",
        "        # record[data_dict['y_column']] = (true_label == data_dict['y_pos'])\n",
        "        record[data_dict['y_column']] = true_label\n",
        "        attack_dataset.append(record)\n"
      ]
    },
    {
      "cell_type": "code",
      "execution_count": 36,
      "metadata": {
        "id": "KTtc1OmZVeNc"
      },
      "outputs": [],
      "source": [
        "# Convert the attack dataset to a pandas DataFrame\n",
        "attack_df = pd.DataFrame(attack_dataset)\n",
        "\n",
        "unique_values = data[data_dict['y_column']].unique()\n",
        "\n",
        "# create dictionary to map string values to numeric values\n",
        "mapping_dict = {value: index for index, value in enumerate(unique_values)}\n",
        "\n",
        "attack_df[data_dict['y_column']] = attack_df[data_dict['y_column']].map(mapping_dict)\n",
        "\n",
        "# Split the DataFrame into input and output variables\n",
        "X_attack = attack_df.drop([sensitive_attr + \"_\" + val for val in sensitive_values], axis=1) \n",
        "\n",
        "# X_attack = attack_df.drop([\"marital_Married\", \"marital_Single\"], axis=1) \n",
        "# y_attack = attack_df[[\"marital_Married\"]]\n",
        "y_attack = attack_df[[sensitive_attr + \"_\" + data_dict['sensitive_pos']]]"
      ]
    },
    {
      "cell_type": "code",
      "execution_count": 37,
      "metadata": {
        "colab": {
          "base_uri": "https://localhost:8080/",
          "height": 75
        },
        "id": "WjzdLlaRasQ-",
        "outputId": "3a544e36-d365-474f-bef9-636fe159d4db"
      },
      "outputs": [
        {
          "data": {
            "text/html": [
              "<style>#sk-container-id-2 {color: black;background-color: white;}#sk-container-id-2 pre{padding: 0;}#sk-container-id-2 div.sk-toggleable {background-color: white;}#sk-container-id-2 label.sk-toggleable__label {cursor: pointer;display: block;width: 100%;margin-bottom: 0;padding: 0.3em;box-sizing: border-box;text-align: center;}#sk-container-id-2 label.sk-toggleable__label-arrow:before {content: \"▸\";float: left;margin-right: 0.25em;color: #696969;}#sk-container-id-2 label.sk-toggleable__label-arrow:hover:before {color: black;}#sk-container-id-2 div.sk-estimator:hover label.sk-toggleable__label-arrow:before {color: black;}#sk-container-id-2 div.sk-toggleable__content {max-height: 0;max-width: 0;overflow: hidden;text-align: left;background-color: #f0f8ff;}#sk-container-id-2 div.sk-toggleable__content pre {margin: 0.2em;color: black;border-radius: 0.25em;background-color: #f0f8ff;}#sk-container-id-2 input.sk-toggleable__control:checked~div.sk-toggleable__content {max-height: 200px;max-width: 100%;overflow: auto;}#sk-container-id-2 input.sk-toggleable__control:checked~label.sk-toggleable__label-arrow:before {content: \"▾\";}#sk-container-id-2 div.sk-estimator input.sk-toggleable__control:checked~label.sk-toggleable__label {background-color: #d4ebff;}#sk-container-id-2 div.sk-label input.sk-toggleable__control:checked~label.sk-toggleable__label {background-color: #d4ebff;}#sk-container-id-2 input.sk-hidden--visually {border: 0;clip: rect(1px 1px 1px 1px);clip: rect(1px, 1px, 1px, 1px);height: 1px;margin: -1px;overflow: hidden;padding: 0;position: absolute;width: 1px;}#sk-container-id-2 div.sk-estimator {font-family: monospace;background-color: #f0f8ff;border: 1px dotted black;border-radius: 0.25em;box-sizing: border-box;margin-bottom: 0.5em;}#sk-container-id-2 div.sk-estimator:hover {background-color: #d4ebff;}#sk-container-id-2 div.sk-parallel-item::after {content: \"\";width: 100%;border-bottom: 1px solid gray;flex-grow: 1;}#sk-container-id-2 div.sk-label:hover label.sk-toggleable__label {background-color: #d4ebff;}#sk-container-id-2 div.sk-serial::before {content: \"\";position: absolute;border-left: 1px solid gray;box-sizing: border-box;top: 0;bottom: 0;left: 50%;z-index: 0;}#sk-container-id-2 div.sk-serial {display: flex;flex-direction: column;align-items: center;background-color: white;padding-right: 0.2em;padding-left: 0.2em;position: relative;}#sk-container-id-2 div.sk-item {position: relative;z-index: 1;}#sk-container-id-2 div.sk-parallel {display: flex;align-items: stretch;justify-content: center;background-color: white;position: relative;}#sk-container-id-2 div.sk-item::before, #sk-container-id-2 div.sk-parallel-item::before {content: \"\";position: absolute;border-left: 1px solid gray;box-sizing: border-box;top: 0;bottom: 0;left: 50%;z-index: -1;}#sk-container-id-2 div.sk-parallel-item {display: flex;flex-direction: column;z-index: 1;position: relative;background-color: white;}#sk-container-id-2 div.sk-parallel-item:first-child::after {align-self: flex-end;width: 50%;}#sk-container-id-2 div.sk-parallel-item:last-child::after {align-self: flex-start;width: 50%;}#sk-container-id-2 div.sk-parallel-item:only-child::after {width: 0;}#sk-container-id-2 div.sk-dashed-wrapped {border: 1px dashed gray;margin: 0 0.4em 0.5em 0.4em;box-sizing: border-box;padding-bottom: 0.4em;background-color: white;}#sk-container-id-2 div.sk-label label {font-family: monospace;font-weight: bold;display: inline-block;line-height: 1.2em;}#sk-container-id-2 div.sk-label-container {text-align: center;}#sk-container-id-2 div.sk-container {/* jupyter's `normalize.less` sets `[hidden] { display: none; }` but bootstrap.min.css set `[hidden] { display: none !important; }` so we also need the `!important` here to be able to override the default hidden behavior on the sphinx rendered scikit-learn.org. See: https://github.com/scikit-learn/scikit-learn/issues/21755 */display: inline-block !important;position: relative;}#sk-container-id-2 div.sk-text-repr-fallback {display: none;}</style><div id=\"sk-container-id-2\" class=\"sk-top-container\"><div class=\"sk-text-repr-fallback\"><pre>MLPClassifier(hidden_layer_sizes=(64, 32), max_iter=1000, random_state=42)</pre><b>In a Jupyter environment, please rerun this cell to show the HTML representation or trust the notebook. <br />On GitHub, the HTML representation is unable to render, please try loading this page with nbviewer.org.</b></div><div class=\"sk-container\" hidden><div class=\"sk-item\"><div class=\"sk-estimator sk-toggleable\"><input class=\"sk-toggleable__control sk-hidden--visually\" id=\"sk-estimator-id-2\" type=\"checkbox\" checked><label for=\"sk-estimator-id-2\" class=\"sk-toggleable__label sk-toggleable__label-arrow\">MLPClassifier</label><div class=\"sk-toggleable__content\"><pre>MLPClassifier(hidden_layer_sizes=(64, 32), max_iter=1000, random_state=42)</pre></div></div></div></div></div>"
            ],
            "text/plain": [
              "MLPClassifier(hidden_layer_sizes=(64, 32), max_iter=1000, random_state=42)"
            ]
          },
          "execution_count": 37,
          "metadata": {},
          "output_type": "execute_result"
        }
      ],
      "source": [
        "# Assuming X_attack and y_attack are the attack dataset\n",
        "# attack_model = DecisionTreeClassifier()\n",
        "# attack_model = MLPClassifier()\n",
        "attack_model = MLPClassifier(hidden_layer_sizes=(64, 32), activation='relu', solver='adam', max_iter=1000, random_state=42)\n",
        "attack_model.fit(X_attack, y_attack)\n",
        "\n",
        "# from xgboost import XGBClassifier\n",
        "\n",
        "# attack_model = XGBClassifier()\n",
        "# attack_model.fit(X_attack, y_attack)"
      ]
    },
    {
      "cell_type": "code",
      "execution_count": 38,
      "metadata": {
        "colab": {
          "base_uri": "https://localhost:8080/",
          "height": 430
        },
        "id": "2XnWYv-cWUXR",
        "outputId": "65269bb7-0507-4be8-ee8f-248c00ba1011"
      },
      "outputs": [
        {
          "data": {
            "image/png": "[encoded data removed]",
            "text/plain": [
              "<Figure size 640x480 with 1 Axes>"
            ]
          },
          "metadata": {},
          "output_type": "display_data"
        }
      ],
      "source": [
        "if isinstance(attack_model, MLPClassifier):\n",
        "    weights = attack_model.coefs_[0]\n",
        "\n",
        "    # calculate the absolute values of the weights and sum them across all hidden units\n",
        "    abs_weights = np.abs(weights)\n",
        "    feature_importance_scores = abs_weights.sum(axis=1)\n",
        "\n",
        "    # normalize the feature importance scores\n",
        "    feature_importance_scores /= feature_importance_scores.sum()\n",
        "\n",
        "    # print the feature importance scores\n",
        "    plt.bar(range(len(feature_importance_scores)),feature_importance_scores)"
      ]
    },
    {
      "cell_type": "code",
      "execution_count": 39,
      "metadata": {
        "colab": {
          "base_uri": "https://localhost:8080/"
        },
        "id": "bfm8vyqSQpox",
        "outputId": "6a263a71-95c3-4baf-ceab-3d1a649f7fe9"
      },
      "outputs": [
        {
          "data": {
            "text/plain": [
              "Index(['age', 'children', 'incarceration', 'income8', 'marital8_cohabiting',\n",
              "       'marital8_divorced', 'marital8_m_ivskip', 'marital8_m_vskip',\n",
              "       'marital8_married', 'marital8_nevermarried', 'marital8_separated',\n",
              "       'marital8_widowed', 'gender_female', 'gender_male', 'race_black',\n",
              "       'race_hispanic', 'race_mixed', 'race_nonblhis', 'arrestsdli8_a_no',\n",
              "       'arrestsdli8_a_yes', 'smoking8_smk_dontknow', 'smoking8_smk_no',\n",
              "       'smoking8_smk_refuse', 'smoking8_smk_yes', 'drinking8_drnk_dontknow',\n",
              "       'drinking8_drnk_no', 'drinking8_drnk_refuse', 'drinking8_drnk_yes',\n",
              "       'sexdrugsdli8_s_dontknow', 'sexdrugsdli8_s_no', 'sexdrugsdli8_s_refuse',\n",
              "       'sexdrugsdli8_s_vskip', 'sexdrugsdli8_s_yes', 'sexstrng8_ss_dontknow',\n",
              "       'sexstrng8_ss_no', 'sexstrng8_ss_refuse', 'sexstrng8_ss_vskip',\n",
              "       'sexstrng8_ss_yes', 'ratelife8'],\n",
              "      dtype='object')"
            ]
          },
          "execution_count": 39,
          "metadata": {},
          "output_type": "execute_result"
        }
      ],
      "source": [
        "X_attack.columns"
      ]
    },
    {
      "cell_type": "code",
      "execution_count": 40,
      "metadata": {
        "id": "l-PYTth_axRq"
      },
      "outputs": [],
      "source": [
        "# Assuming X_test is the original dataset and y_test is the true sensitive attributes (if available)\n",
        "def preprocess_attack_data(data):\n",
        "    X = data.drop([sensitive_attr + \"_\" + val for val in sensitive_values], axis=1)\n",
        "    y = data[sensitive_attr + \"_\" + data_dict['sensitive_pos']]\n",
        "\n",
        "    X[data_dict['y_column']] = X[data_dict['y_column']].map(mapping_dict)\n",
        "\n",
        "    feature_order = X_attack.columns\n",
        "    X = X[feature_order]\n",
        "    missing_value_rows = X.notna().all(axis=1)\n",
        "    X = X[missing_value_rows]\n",
        "    y = y[missing_value_rows]\n",
        "    return X, y"
      ]
    },
    {
      "cell_type": "code",
      "execution_count": 41,
      "metadata": {
        "id": "xX_5-s9dnhtQ"
      },
      "outputs": [],
      "source": [
        "def preprocess_attack_data_w_high_conf(data):\n",
        "    X = data.drop([data_dict['y_column']], axis=1)\n",
        "\n",
        "    columns = X.columns\n",
        "\n",
        "    data['confidence'] = pd.Series(np.max(clf.predict_proba(data[columns]), axis=1), \n",
        "                                                         index=data.index)\n",
        "    \n",
        "    data = data[data['confidence']> 0.9].drop(['confidence'], axis=1)\n",
        "\n",
        "    X = data.drop([sensitive_attr + \"_\" + val for val in sensitive_values], axis=1)\n",
        "    y = data[sensitive_attr + \"_\" + data_dict['sensitive_pos']]\n",
        "\n",
        "    X[data_dict['y_column']] = X[data_dict['y_column']].map(mapping_dict)\n",
        "\n",
        "    feature_order = X_attack.columns\n",
        "    X = X[feature_order]\n",
        "    missing_value_rows = X.notna().all(axis=1)\n",
        "    X = X[missing_value_rows]\n",
        "    y = y[missing_value_rows]\n",
        "    return X, y"
      ]
    },
    {
      "cell_type": "code",
      "execution_count": 42,
      "metadata": {
        "id": "VWuWK2sDzjeV"
      },
      "outputs": [],
      "source": [
        "X, y = preprocess_attack_data(data)\n",
        "# X, y = preprocess_attack_data_w_high_conf(data)\n",
        "# random_oh_df = get_random_query_data()\n",
        "# X, y = preprocess_attack_data(random_oh_df)\n",
        "# X, y = X_attack, pd.Series(np.array(y_attack).reshape(-1), index=X_attack.index)"
      ]
    },
    {
      "cell_type": "code",
      "execution_count": 43,
      "metadata": {
        "id": "Og9GohhTINeO"
      },
      "outputs": [],
      "source": [
        "from sklearn.metrics import f1_score, accuracy_score, roc_curve, roc_auc_score, precision_score, recall_score"
      ]
    },
    {
      "cell_type": "code",
      "execution_count": 44,
      "metadata": {
        "id": "DYN3XGe2T8p7"
      },
      "outputs": [],
      "source": [
        "def compare(evaluation_metric, flip_column_different, override_flip_vulnerable=None):\n",
        "\n",
        "    if data_dict['name'] == 'GSS':\n",
        "        attrs = [\"race\", \"sex\", \"pornlaw\", \"relig\"]\n",
        "    elif data_dict['name'] == 'Adult':\n",
        "        attrs = [\"race\", \"sex\", \"education\"]\n",
        "    elif data_dict['name'] == 'NLSY':\n",
        "        attrs = [\"race\", \"gender\", \"marital8\"]\n",
        "\n",
        "    result_df_dict = {}\n",
        "\n",
        "    # evaluation_metric = \"f1\"\n",
        "\n",
        "    def eval_score(y_test, y_pred):\n",
        "        if evaluation_metric == \"accuracy\":\n",
        "            return accuracy_score(y_test, y_pred)\n",
        "        elif evaluation_metric == \"f1\":\n",
        "            return f1_score(y_test, y_pred)\n",
        "        elif evaluation_metric == 'precision':\n",
        "            return precision_score(y_test, y_pred)\n",
        "        elif evaluation_metric == 'recall':\n",
        "            return recall_score(y_test, y_pred)\n",
        "        elif evaluation_metric == \"fpr\":\n",
        "            # print(y_test)\n",
        "            fpr, tpr, thresholds = roc_curve(y_test.to_numpy(), y_pred.to_numpy())\n",
        "            auc_score = roc_auc_score(y_test.to_numpy(), y_pred.to_numpy())\n",
        "            return fpr[1]  # FPR at a fixed TPR of 0.5\n",
        "\n",
        "    flip_column_different = flip_column_different\n",
        "\n",
        "    if data_dict['name'] == \"NLSY\":\n",
        "        flip_column = \"marital8\"\n",
        "        flip_vulnerable = \"nevermarried\"\n",
        "    elif data_dict['name'] == \"GSS\":\n",
        "        flip_column = \"pornlaw\"\n",
        "        flip_vulnerable = \"legal\"\n",
        "\n",
        "    if override_flip_vulnerable is not None:\n",
        "        flip_vulnerable = override_flip_vulnerable\n",
        "\n",
        "    flip_columns = list(filter(lambda x: flip_column in x, X.columns))\n",
        "    flip_target = flip_column + \"_\" + flip_vulnerable\n",
        "\n",
        "    for attr in attrs:\n",
        "\n",
        "        # attr = \"race\"\n",
        "\n",
        "        attr_columns = list(filter(lambda x: attr in x, X.columns))\n",
        "\n",
        "        attr_column_indices = {}\n",
        "\n",
        "        for col in attr_columns:\n",
        "            attr_column_indices[col] = (X[col]==1).to_numpy()\n",
        "\n",
        "        attr_name_len = len(list(attr_column_indices.keys())[0].split(\"_\")[0]) + 1\n",
        "        rows= []\n",
        "        for col in attr_column_indices:\n",
        "            row_dict = {}\n",
        "            row_dict['Subgroup Name'] = col[attr_name_len:]\n",
        "            indices = attr_column_indices[col]\n",
        "\n",
        "            row_dict['Count'] = sum(indices)\n",
        "\n",
        "            X_subset = X[indices].copy()\n",
        "            Y_subset = y[indices].copy()\n",
        "\n",
        "            predicted_sensitive_attributes = attack_model.predict(X_subset)\n",
        "            \n",
        "            correct_indices_0 = (predicted_sensitive_attributes == Y_subset).to_numpy()    \n",
        "\n",
        "            # accuracy = sum(predicted_sensitive_attributes == Y_subset) / len(Y_subset)\n",
        "            accuracy = eval_score(Y_subset, predicted_sensitive_attributes)\n",
        "            #print(f'{col} {accuracy}')\n",
        "            row_dict['Original ASR'] = accuracy\n",
        "\n",
        "            if flip_column_different:\n",
        "                X_subset_p = X_subset.copy()\n",
        "                for col in flip_columns:\n",
        "                    if col == flip_target:\n",
        "                        X_subset_p[col] = 1\n",
        "                    else:\n",
        "                        X_subset_p[col] = 0\n",
        "\n",
        "                predicted_sensitive_attributes = attack_model.predict(X_subset_p)\n",
        "\n",
        "                # accuracy = sum(predicted_sensitive_attributes == Y_subset) / len(Y_subset)\n",
        "                accuracy = eval_score(Y_subset, predicted_sensitive_attributes)\n",
        "                #print(f'{col} {col2} {accuracy}')\n",
        "                row_dict[f'ASR after {flip_column} flipped to {flip_vulnerable}'] = accuracy\n",
        "            else:\n",
        "                for col2 in attr_column_indices:\n",
        "                    if col2 != col or True:\n",
        "                        X_subset_p = X_subset.copy()\n",
        "                        X_subset_p[col2] = 1\n",
        "                        \n",
        "                        for col3 in attr_column_indices:\n",
        "                            if col3 != col2:\n",
        "                                X_subset_p[col3] = 0\n",
        "\n",
        "                        predicted_sensitive_attributes = attack_model.predict(X_subset_p)\n",
        "\n",
        "                        # accuracy = sum(predicted_sensitive_attributes == Y_subset) / len(Y_subset)\n",
        "                        accuracy = eval_score(Y_subset, predicted_sensitive_attributes)\n",
        "                        #print(f'{col} {col2} {accuracy}')\n",
        "                        row_dict[f'ASR after value flipped to {col2[attr_name_len:]}'] = accuracy\n",
        "\n",
        "\n",
        "            column1 = pd.Categorical(X_subset[data_dict['y_column']])\n",
        "            column2 = pd.Categorical(Y_subset)\n",
        "            # print(pd.crosstab(column1, column2))\n",
        "\n",
        "            # row_dict['Subgroup pickmax ratio'] = pd.crosstab(column1, column2).to_numpy().max(axis=1).sum()/X_subset.shape[0]\n",
        "\n",
        "            rows.append(row_dict)\n",
        "\n",
        "        result_df = pd.DataFrame(rows)\n",
        "\n",
        "        result_df_dict[attr] = result_df\n",
        "\n",
        "    for attr in result_df_dict:\n",
        "        print(result_df_dict[attr][['Subgroup Name', 'Count']])\n",
        "        draw_plot(result_df_dict[attr], attr, flip_column_different=flip_column_different, metric=evaluation_metric)\n"
      ]
    },
    {
      "cell_type": "code",
      "execution_count": 45,
      "metadata": {},
      "outputs": [
        {
          "name": "stdout",
          "output_type": "stream",
          "text": [
            "  Subgroup Name  Count\n",
            "0         black   1359\n",
            "1      hispanic   1082\n",
            "2         mixed     49\n",
            "3      nonblhis   2606\n"
          ]
        },
        {
          "data": {
            "image/png": "[encoded data removed]",
            "text/plain": [
              "<Figure size 1600x400 with 1 Axes>"
            ]
          },
          "metadata": {},
          "output_type": "display_data"
        },
        {
          "name": "stdout",
          "output_type": "stream",
          "text": [
            "  Subgroup Name  Count\n",
            "0        female   2623\n",
            "1          male   2473\n"
          ]
        },
        {
          "data": {
            "image/png": "[encoded data removed]",
            "text/plain": [
              "<Figure size 1600x400 with 1 Axes>"
            ]
          },
          "metadata": {},
          "output_type": "display_data"
        },
        {
          "name": "stdout",
          "output_type": "stream",
          "text": [
            "  Subgroup Name  Count\n",
            "0    cohabiting    967\n",
            "1      divorced    216\n",
            "2      m_ivskip      9\n",
            "3       m_vskip     20\n",
            "4       married   1456\n",
            "5  nevermarried   2366\n",
            "6     separated     60\n",
            "7       widowed      2\n"
          ]
        },
        {
          "data": {
            "image/png": "[encoded data removed]",
            "text/plain": [
              "<Figure size 1600x400 with 1 Axes>"
            ]
          },
          "metadata": {},
          "output_type": "display_data"
        }
      ],
      "source": [
        "compare('f1', True)"
      ]
    },
    {
      "cell_type": "code",
      "execution_count": 51,
      "metadata": {
        "id": "dz01BpqG-GPL"
      },
      "outputs": [],
      "source": [
        "import shap\n",
        "\n",
        "X_temp, y_temp = preprocess_attack_data(data)\n",
        "\n",
        "# explainer = shap.Explainer(attack_model, X_temp)"
      ]
    },
    {
      "cell_type": "code",
      "execution_count": 114,
      "metadata": {
        "id": "bDR6gC8uXkeZ"
      },
      "outputs": [],
      "source": [
        "from sklearn.neural_network import MLPClassifier\n",
        "from keras.models import Sequential\n",
        "from keras.layers import Dense\n",
        "\n",
        "\n",
        "# Extract the weights and biases of the MLPClassifier\n",
        "weights = attack_model.coefs_\n",
        "biases = attack_model.intercepts_\n",
        "\n",
        "# Create a Keras neural network with the same architecture as the MLPClassifier\n",
        "model = Sequential()\n",
        "model.add(Dense(64, activation='relu', input_dim=X_temp.shape[1]))\n",
        "model.add(Dense(32, activation='relu'))\n",
        "model.add(Dense(1, activation='sigmoid'))\n",
        "\n",
        "# Set the weights and biases of the Keras neural network to be equal to the MLPClassifier\n",
        "model.layers[0].set_weights([weights[0], biases[0]])\n",
        "model.layers[1].set_weights([weights[1], biases[1]])\n",
        "model.layers[2].set_weights([weights[2], biases[2]])\n"
      ]
    },
    {
      "cell_type": "code",
      "execution_count": 46,
      "metadata": {
        "colab": {
          "base_uri": "https://localhost:8080/",
          "height": 248
        },
        "id": "7XgBaE_pZdu6",
        "outputId": "0a55016a-d92e-440b-8059-e470bc9b19b6"
      },
      "outputs": [
        {
          "data": {
            "text/html": [
              "<style>#sk-container-id-3 {color: black;background-color: white;}#sk-container-id-3 pre{padding: 0;}#sk-container-id-3 div.sk-toggleable {background-color: white;}#sk-container-id-3 label.sk-toggleable__label {cursor: pointer;display: block;width: 100%;margin-bottom: 0;padding: 0.3em;box-sizing: border-box;text-align: center;}#sk-container-id-3 label.sk-toggleable__label-arrow:before {content: \"▸\";float: left;margin-right: 0.25em;color: #696969;}#sk-container-id-3 label.sk-toggleable__label-arrow:hover:before {color: black;}#sk-container-id-3 div.sk-estimator:hover label.sk-toggleable__label-arrow:before {color: black;}#sk-container-id-3 div.sk-toggleable__content {max-height: 0;max-width: 0;overflow: hidden;text-align: left;background-color: #f0f8ff;}#sk-container-id-3 div.sk-toggleable__content pre {margin: 0.2em;color: black;border-radius: 0.25em;background-color: #f0f8ff;}#sk-container-id-3 input.sk-toggleable__control:checked~div.sk-toggleable__content {max-height: 200px;max-width: 100%;overflow: auto;}#sk-container-id-3 input.sk-toggleable__control:checked~label.sk-toggleable__label-arrow:before {content: \"▾\";}#sk-container-id-3 div.sk-estimator input.sk-toggleable__control:checked~label.sk-toggleable__label {background-color: #d4ebff;}#sk-container-id-3 div.sk-label input.sk-toggleable__control:checked~label.sk-toggleable__label {background-color: #d4ebff;}#sk-container-id-3 input.sk-hidden--visually {border: 0;clip: rect(1px 1px 1px 1px);clip: rect(1px, 1px, 1px, 1px);height: 1px;margin: -1px;overflow: hidden;padding: 0;position: absolute;width: 1px;}#sk-container-id-3 div.sk-estimator {font-family: monospace;background-color: #f0f8ff;border: 1px dotted black;border-radius: 0.25em;box-sizing: border-box;margin-bottom: 0.5em;}#sk-container-id-3 div.sk-estimator:hover {background-color: #d4ebff;}#sk-container-id-3 div.sk-parallel-item::after {content: \"\";width: 100%;border-bottom: 1px solid gray;flex-grow: 1;}#sk-container-id-3 div.sk-label:hover label.sk-toggleable__label {background-color: #d4ebff;}#sk-container-id-3 div.sk-serial::before {content: \"\";position: absolute;border-left: 1px solid gray;box-sizing: border-box;top: 0;bottom: 0;left: 50%;z-index: 0;}#sk-container-id-3 div.sk-serial {display: flex;flex-direction: column;align-items: center;background-color: white;padding-right: 0.2em;padding-left: 0.2em;position: relative;}#sk-container-id-3 div.sk-item {position: relative;z-index: 1;}#sk-container-id-3 div.sk-parallel {display: flex;align-items: stretch;justify-content: center;background-color: white;position: relative;}#sk-container-id-3 div.sk-item::before, #sk-container-id-3 div.sk-parallel-item::before {content: \"\";position: absolute;border-left: 1px solid gray;box-sizing: border-box;top: 0;bottom: 0;left: 50%;z-index: -1;}#sk-container-id-3 div.sk-parallel-item {display: flex;flex-direction: column;z-index: 1;position: relative;background-color: white;}#sk-container-id-3 div.sk-parallel-item:first-child::after {align-self: flex-end;width: 50%;}#sk-container-id-3 div.sk-parallel-item:last-child::after {align-self: flex-start;width: 50%;}#sk-container-id-3 div.sk-parallel-item:only-child::after {width: 0;}#sk-container-id-3 div.sk-dashed-wrapped {border: 1px dashed gray;margin: 0 0.4em 0.5em 0.4em;box-sizing: border-box;padding-bottom: 0.4em;background-color: white;}#sk-container-id-3 div.sk-label label {font-family: monospace;font-weight: bold;display: inline-block;line-height: 1.2em;}#sk-container-id-3 div.sk-label-container {text-align: center;}#sk-container-id-3 div.sk-container {/* jupyter's `normalize.less` sets `[hidden] { display: none; }` but bootstrap.min.css set `[hidden] { display: none !important; }` so we also need the `!important` here to be able to override the default hidden behavior on the sphinx rendered scikit-learn.org. See: https://github.com/scikit-learn/scikit-learn/issues/21755 */display: inline-block !important;position: relative;}#sk-container-id-3 div.sk-text-repr-fallback {display: none;}</style><div id=\"sk-container-id-3\" class=\"sk-top-container\"><div class=\"sk-text-repr-fallback\"><pre>XGBClassifier(base_score=None, booster=None, callbacks=None,\n",
              "              colsample_bylevel=None, colsample_bynode=None,\n",
              "              colsample_bytree=None, early_stopping_rounds=None,\n",
              "              enable_categorical=False, eval_metric=None, feature_types=None,\n",
              "              gamma=None, gpu_id=None, grow_policy=None, importance_type=None,\n",
              "              interaction_constraints=None, learning_rate=None, max_bin=None,\n",
              "              max_cat_threshold=None, max_cat_to_onehot=None,\n",
              "              max_delta_step=None, max_depth=None, max_leaves=None,\n",
              "              min_child_weight=None, missing=nan, monotone_constraints=None,\n",
              "              n_estimators=100, n_jobs=None, num_parallel_tree=None,\n",
              "              predictor=None, random_state=None, ...)</pre><b>In a Jupyter environment, please rerun this cell to show the HTML representation or trust the notebook. <br />On GitHub, the HTML representation is unable to render, please try loading this page with nbviewer.org.</b></div><div class=\"sk-container\" hidden><div class=\"sk-item\"><div class=\"sk-estimator sk-toggleable\"><input class=\"sk-toggleable__control sk-hidden--visually\" id=\"sk-estimator-id-3\" type=\"checkbox\" checked><label for=\"sk-estimator-id-3\" class=\"sk-toggleable__label sk-toggleable__label-arrow\">XGBClassifier</label><div class=\"sk-toggleable__content\"><pre>XGBClassifier(base_score=None, booster=None, callbacks=None,\n",
              "              colsample_bylevel=None, colsample_bynode=None,\n",
              "              colsample_bytree=None, early_stopping_rounds=None,\n",
              "              enable_categorical=False, eval_metric=None, feature_types=None,\n",
              "              gamma=None, gpu_id=None, grow_policy=None, importance_type=None,\n",
              "              interaction_constraints=None, learning_rate=None, max_bin=None,\n",
              "              max_cat_threshold=None, max_cat_to_onehot=None,\n",
              "              max_delta_step=None, max_depth=None, max_leaves=None,\n",
              "              min_child_weight=None, missing=nan, monotone_constraints=None,\n",
              "              n_estimators=100, n_jobs=None, num_parallel_tree=None,\n",
              "              predictor=None, random_state=None, ...)</pre></div></div></div></div></div>"
            ],
            "text/plain": [
              "XGBClassifier(base_score=None, booster=None, callbacks=None,\n",
              "              colsample_bylevel=None, colsample_bynode=None,\n",
              "              colsample_bytree=None, early_stopping_rounds=None,\n",
              "              enable_categorical=False, eval_metric=None, feature_types=None,\n",
              "              gamma=None, gpu_id=None, grow_policy=None, importance_type=None,\n",
              "              interaction_constraints=None, learning_rate=None, max_bin=None,\n",
              "              max_cat_threshold=None, max_cat_to_onehot=None,\n",
              "              max_delta_step=None, max_depth=None, max_leaves=None,\n",
              "              min_child_weight=None, missing=nan, monotone_constraints=None,\n",
              "              n_estimators=100, n_jobs=None, num_parallel_tree=None,\n",
              "              predictor=None, random_state=None, ...)"
            ]
          },
          "execution_count": 46,
          "metadata": {},
          "output_type": "execute_result"
        }
      ],
      "source": [
        "from xgboost import XGBClassifier\n",
        "\n",
        "model = XGBClassifier()\n",
        "model.fit(X_attack, y_attack)"
      ]
    },
    {
      "cell_type": "code",
      "execution_count": null,
      "metadata": {},
      "outputs": [],
      "source": []
    },
    {
      "cell_type": "code",
      "execution_count": 56,
      "metadata": {
        "id": "tilT9q80-Fxq"
      },
      "outputs": [],
      "source": [
        "import shap\n",
        "explainer = shap.Explainer(model, X_temp.astype('float64'))"
      ]
    },
    {
      "cell_type": "code",
      "execution_count": null,
      "metadata": {
        "id": "CYfv2H_5Y-RA"
      },
      "outputs": [],
      "source": [
        "sample_idx = 0\n",
        "sample = X_attack.iloc[sample_idx]\n",
        "shap_values = explainer.shap_values(sample)"
      ]
    },
    {
      "cell_type": "code",
      "execution_count": 57,
      "metadata": {
        "id": "DmhNO8lEgnNJ"
      },
      "outputs": [],
      "source": [
        "explainer = shap.Explainer(model)\n",
        "shap_values = explainer(X_attack)\n",
        "\n",
        "# visualize the first prediction's explanation\n",
        "# shap.plots.waterfall(shap_values[0])"
      ]
    },
    {
      "cell_type": "code",
      "execution_count": 69,
      "metadata": {
        "colab": {
          "base_uri": "https://localhost:8080/",
          "height": 938
        },
        "id": "IOjPGXc-jPM0",
        "outputId": "ddb00739-0e1b-4f2f-9a1c-7660bb03e3f2"
      },
      "outputs": [
        {
          "ename": "TypeError",
          "evalue": "numpy boolean subtract, the `-` operator, is not supported, use the bitwise_xor, the `^` operator, or the logical_xor function instead.",
          "output_type": "error",
          "traceback": [
            "\u001b[0;31m---------------------------------------------------------------------------\u001b[0m",
            "\u001b[0;31mTypeError\u001b[0m                                 Traceback (most recent call last)",
            "Cell \u001b[0;32mIn[69], line 2\u001b[0m\n\u001b[1;32m      1\u001b[0m \u001b[39m# shap.summary_plot(shap_values, X_attack.iloc[:,:], plot_type=\"layered_violin\", color='coolwarm')\u001b[39;00m\n\u001b[0;32m----> 2\u001b[0m shap\u001b[39m.\u001b[39;49msummary_plot(shap_values, X_attack\u001b[39m.\u001b[39;49miloc[:,:], plot_type\u001b[39m=\u001b[39;49m\u001b[39m\"\u001b[39;49m\u001b[39mviolin\u001b[39;49m\u001b[39m\"\u001b[39;49m)\n",
            "File \u001b[0;32m~/miniconda/envs/tabular/lib/python3.9/site-packages/shap/plots/_beeswarm.py:724\u001b[0m, in \u001b[0;36msummary_legacy\u001b[0;34m(shap_values, features, feature_names, max_display, plot_type, color, axis_color, title, alpha, show, sort, color_bar, plot_size, layered_violin_max_num_bins, class_names, class_inds, color_bar_label, cmap, auto_size_plot, use_log_scale)\u001b[0m\n\u001b[1;32m    721\u001b[0m     \u001b[39melse\u001b[39;00m:\n\u001b[1;32m    722\u001b[0m         back_fill \u001b[39m+\u001b[39m\u001b[39m=\u001b[39m \u001b[39m1\u001b[39m\n\u001b[0;32m--> 724\u001b[0m vmin \u001b[39m=\u001b[39m np\u001b[39m.\u001b[39;49mnanpercentile(values, \u001b[39m5\u001b[39;49m)\n\u001b[1;32m    725\u001b[0m vmax \u001b[39m=\u001b[39m np\u001b[39m.\u001b[39mnanpercentile(values, \u001b[39m95\u001b[39m)\n\u001b[1;32m    726\u001b[0m \u001b[39mif\u001b[39;00m vmin \u001b[39m==\u001b[39m vmax:\n",
            "File \u001b[0;32m<__array_function__ internals>:180\u001b[0m, in \u001b[0;36mnanpercentile\u001b[0;34m(*args, **kwargs)\u001b[0m\n",
            "File \u001b[0;32m~/miniconda/envs/tabular/lib/python3.9/site-packages/numpy/lib/nanfunctions.py:1384\u001b[0m, in \u001b[0;36mnanpercentile\u001b[0;34m(a, q, axis, out, overwrite_input, method, keepdims, interpolation)\u001b[0m\n\u001b[1;32m   1382\u001b[0m \u001b[39mif\u001b[39;00m \u001b[39mnot\u001b[39;00m function_base\u001b[39m.\u001b[39m_quantile_is_valid(q):\n\u001b[1;32m   1383\u001b[0m     \u001b[39mraise\u001b[39;00m \u001b[39mValueError\u001b[39;00m(\u001b[39m\"\u001b[39m\u001b[39mPercentiles must be in the range [0, 100]\u001b[39m\u001b[39m\"\u001b[39m)\n\u001b[0;32m-> 1384\u001b[0m \u001b[39mreturn\u001b[39;00m _nanquantile_unchecked(\n\u001b[1;32m   1385\u001b[0m     a, q, axis, out, overwrite_input, method, keepdims)\n",
            "File \u001b[0;32m~/miniconda/envs/tabular/lib/python3.9/site-packages/numpy/lib/nanfunctions.py:1559\u001b[0m, in \u001b[0;36m_nanquantile_unchecked\u001b[0;34m(a, q, axis, out, overwrite_input, method, keepdims)\u001b[0m\n\u001b[1;32m   1557\u001b[0m \u001b[39mif\u001b[39;00m a\u001b[39m.\u001b[39msize \u001b[39m==\u001b[39m \u001b[39m0\u001b[39m:\n\u001b[1;32m   1558\u001b[0m     \u001b[39mreturn\u001b[39;00m np\u001b[39m.\u001b[39mnanmean(a, axis, out\u001b[39m=\u001b[39mout, keepdims\u001b[39m=\u001b[39mkeepdims)\n\u001b[0;32m-> 1559\u001b[0m r, k \u001b[39m=\u001b[39m function_base\u001b[39m.\u001b[39;49m_ureduce(a,\n\u001b[1;32m   1560\u001b[0m                               func\u001b[39m=\u001b[39;49m_nanquantile_ureduce_func,\n\u001b[1;32m   1561\u001b[0m                               q\u001b[39m=\u001b[39;49mq,\n\u001b[1;32m   1562\u001b[0m                               axis\u001b[39m=\u001b[39;49maxis,\n\u001b[1;32m   1563\u001b[0m                               out\u001b[39m=\u001b[39;49mout,\n\u001b[1;32m   1564\u001b[0m                               overwrite_input\u001b[39m=\u001b[39;49moverwrite_input,\n\u001b[1;32m   1565\u001b[0m                               method\u001b[39m=\u001b[39;49mmethod)\n\u001b[1;32m   1566\u001b[0m \u001b[39mif\u001b[39;00m keepdims \u001b[39mand\u001b[39;00m keepdims \u001b[39mis\u001b[39;00m \u001b[39mnot\u001b[39;00m np\u001b[39m.\u001b[39m_NoValue:\n\u001b[1;32m   1567\u001b[0m     \u001b[39mreturn\u001b[39;00m r\u001b[39m.\u001b[39mreshape(q\u001b[39m.\u001b[39mshape \u001b[39m+\u001b[39m k)\n",
            "File \u001b[0;32m~/miniconda/envs/tabular/lib/python3.9/site-packages/numpy/lib/function_base.py:3725\u001b[0m, in \u001b[0;36m_ureduce\u001b[0;34m(a, func, **kwargs)\u001b[0m\n\u001b[1;32m   3722\u001b[0m \u001b[39melse\u001b[39;00m:\n\u001b[1;32m   3723\u001b[0m     keepdim \u001b[39m=\u001b[39m (\u001b[39m1\u001b[39m,) \u001b[39m*\u001b[39m a\u001b[39m.\u001b[39mndim\n\u001b[0;32m-> 3725\u001b[0m r \u001b[39m=\u001b[39m func(a, \u001b[39m*\u001b[39;49m\u001b[39m*\u001b[39;49mkwargs)\n\u001b[1;32m   3726\u001b[0m \u001b[39mreturn\u001b[39;00m r, keepdim\n",
            "File \u001b[0;32m~/miniconda/envs/tabular/lib/python3.9/site-packages/numpy/lib/nanfunctions.py:1581\u001b[0m, in \u001b[0;36m_nanquantile_ureduce_func\u001b[0;34m(a, q, axis, out, overwrite_input, method)\u001b[0m\n\u001b[1;32m   1579\u001b[0m \u001b[39mif\u001b[39;00m axis \u001b[39mis\u001b[39;00m \u001b[39mNone\u001b[39;00m \u001b[39mor\u001b[39;00m a\u001b[39m.\u001b[39mndim \u001b[39m==\u001b[39m \u001b[39m1\u001b[39m:\n\u001b[1;32m   1580\u001b[0m     part \u001b[39m=\u001b[39m a\u001b[39m.\u001b[39mravel()\n\u001b[0;32m-> 1581\u001b[0m     result \u001b[39m=\u001b[39m _nanquantile_1d(part, q, overwrite_input, method)\n\u001b[1;32m   1582\u001b[0m \u001b[39melse\u001b[39;00m:\n\u001b[1;32m   1583\u001b[0m     result \u001b[39m=\u001b[39m np\u001b[39m.\u001b[39mapply_along_axis(_nanquantile_1d, axis, a, q,\n\u001b[1;32m   1584\u001b[0m                                  overwrite_input, method)\n",
            "File \u001b[0;32m~/miniconda/envs/tabular/lib/python3.9/site-packages/numpy/lib/nanfunctions.py:1607\u001b[0m, in \u001b[0;36m_nanquantile_1d\u001b[0;34m(arr1d, q, overwrite_input, method)\u001b[0m\n\u001b[1;32m   1603\u001b[0m \u001b[39mif\u001b[39;00m arr1d\u001b[39m.\u001b[39msize \u001b[39m==\u001b[39m \u001b[39m0\u001b[39m:\n\u001b[1;32m   1604\u001b[0m     \u001b[39m# convert to scalar\u001b[39;00m\n\u001b[1;32m   1605\u001b[0m     \u001b[39mreturn\u001b[39;00m np\u001b[39m.\u001b[39mfull(q\u001b[39m.\u001b[39mshape, np\u001b[39m.\u001b[39mnan, dtype\u001b[39m=\u001b[39marr1d\u001b[39m.\u001b[39mdtype)[()]\n\u001b[0;32m-> 1607\u001b[0m \u001b[39mreturn\u001b[39;00m function_base\u001b[39m.\u001b[39;49m_quantile_unchecked(\n\u001b[1;32m   1608\u001b[0m     arr1d, q, overwrite_input\u001b[39m=\u001b[39;49moverwrite_input, method\u001b[39m=\u001b[39;49mmethod)\n",
            "File \u001b[0;32m~/miniconda/envs/tabular/lib/python3.9/site-packages/numpy/lib/function_base.py:4424\u001b[0m, in \u001b[0;36m_quantile_unchecked\u001b[0;34m(a, q, axis, out, overwrite_input, method, keepdims)\u001b[0m\n\u001b[1;32m   4416\u001b[0m \u001b[39mdef\u001b[39;00m \u001b[39m_quantile_unchecked\u001b[39m(a,\n\u001b[1;32m   4417\u001b[0m                         q,\n\u001b[1;32m   4418\u001b[0m                         axis\u001b[39m=\u001b[39m\u001b[39mNone\u001b[39;00m,\n\u001b[0;32m   (...)\u001b[0m\n\u001b[1;32m   4421\u001b[0m                         method\u001b[39m=\u001b[39m\u001b[39m\"\u001b[39m\u001b[39mlinear\u001b[39m\u001b[39m\"\u001b[39m,\n\u001b[1;32m   4422\u001b[0m                         keepdims\u001b[39m=\u001b[39m\u001b[39mFalse\u001b[39;00m):\n\u001b[1;32m   4423\u001b[0m \u001b[39m    \u001b[39m\u001b[39m\"\"\"Assumes that q is in [0, 1], and is an ndarray\"\"\"\u001b[39;00m\n\u001b[0;32m-> 4424\u001b[0m     r, k \u001b[39m=\u001b[39m _ureduce(a,\n\u001b[1;32m   4425\u001b[0m                     func\u001b[39m=\u001b[39;49m_quantile_ureduce_func,\n\u001b[1;32m   4426\u001b[0m                     q\u001b[39m=\u001b[39;49mq,\n\u001b[1;32m   4427\u001b[0m                     axis\u001b[39m=\u001b[39;49maxis,\n\u001b[1;32m   4428\u001b[0m                     out\u001b[39m=\u001b[39;49mout,\n\u001b[1;32m   4429\u001b[0m                     overwrite_input\u001b[39m=\u001b[39;49moverwrite_input,\n\u001b[1;32m   4430\u001b[0m                     method\u001b[39m=\u001b[39;49mmethod)\n\u001b[1;32m   4431\u001b[0m     \u001b[39mif\u001b[39;00m keepdims:\n\u001b[1;32m   4432\u001b[0m         \u001b[39mreturn\u001b[39;00m r\u001b[39m.\u001b[39mreshape(q\u001b[39m.\u001b[39mshape \u001b[39m+\u001b[39m k)\n",
            "File \u001b[0;32m~/miniconda/envs/tabular/lib/python3.9/site-packages/numpy/lib/function_base.py:3725\u001b[0m, in \u001b[0;36m_ureduce\u001b[0;34m(a, func, **kwargs)\u001b[0m\n\u001b[1;32m   3722\u001b[0m \u001b[39melse\u001b[39;00m:\n\u001b[1;32m   3723\u001b[0m     keepdim \u001b[39m=\u001b[39m (\u001b[39m1\u001b[39m,) \u001b[39m*\u001b[39m a\u001b[39m.\u001b[39mndim\n\u001b[0;32m-> 3725\u001b[0m r \u001b[39m=\u001b[39m func(a, \u001b[39m*\u001b[39;49m\u001b[39m*\u001b[39;49mkwargs)\n\u001b[1;32m   3726\u001b[0m \u001b[39mreturn\u001b[39;00m r, keepdim\n",
            "File \u001b[0;32m~/miniconda/envs/tabular/lib/python3.9/site-packages/numpy/lib/function_base.py:4593\u001b[0m, in \u001b[0;36m_quantile_ureduce_func\u001b[0;34m(a, q, axis, out, overwrite_input, method)\u001b[0m\n\u001b[1;32m   4591\u001b[0m     \u001b[39melse\u001b[39;00m:\n\u001b[1;32m   4592\u001b[0m         arr \u001b[39m=\u001b[39m a\u001b[39m.\u001b[39mcopy()\n\u001b[0;32m-> 4593\u001b[0m result \u001b[39m=\u001b[39m _quantile(arr,\n\u001b[1;32m   4594\u001b[0m                    quantiles\u001b[39m=\u001b[39;49mq,\n\u001b[1;32m   4595\u001b[0m                    axis\u001b[39m=\u001b[39;49maxis,\n\u001b[1;32m   4596\u001b[0m                    method\u001b[39m=\u001b[39;49mmethod,\n\u001b[1;32m   4597\u001b[0m                    out\u001b[39m=\u001b[39;49mout)\n\u001b[1;32m   4598\u001b[0m \u001b[39mreturn\u001b[39;00m result\n",
            "File \u001b[0;32m~/miniconda/envs/tabular/lib/python3.9/site-packages/numpy/lib/function_base.py:4710\u001b[0m, in \u001b[0;36m_quantile\u001b[0;34m(arr, quantiles, axis, method, out)\u001b[0m\n\u001b[1;32m   4708\u001b[0m     result_shape \u001b[39m=\u001b[39m virtual_indexes\u001b[39m.\u001b[39mshape \u001b[39m+\u001b[39m (\u001b[39m1\u001b[39m,) \u001b[39m*\u001b[39m (arr\u001b[39m.\u001b[39mndim \u001b[39m-\u001b[39m \u001b[39m1\u001b[39m)\n\u001b[1;32m   4709\u001b[0m     gamma \u001b[39m=\u001b[39m gamma\u001b[39m.\u001b[39mreshape(result_shape)\n\u001b[0;32m-> 4710\u001b[0m     result \u001b[39m=\u001b[39m _lerp(previous,\n\u001b[1;32m   4711\u001b[0m                    \u001b[39mnext\u001b[39;49m,\n\u001b[1;32m   4712\u001b[0m                    gamma,\n\u001b[1;32m   4713\u001b[0m                    out\u001b[39m=\u001b[39;49mout)\n\u001b[1;32m   4714\u001b[0m \u001b[39mif\u001b[39;00m np\u001b[39m.\u001b[39many(slices_having_nans):\n\u001b[1;32m   4715\u001b[0m     \u001b[39mif\u001b[39;00m result\u001b[39m.\u001b[39mndim \u001b[39m==\u001b[39m \u001b[39m0\u001b[39m \u001b[39mand\u001b[39;00m out \u001b[39mis\u001b[39;00m \u001b[39mNone\u001b[39;00m:\n\u001b[1;32m   4716\u001b[0m         \u001b[39m# can't write to a scalar\u001b[39;00m\n",
            "File \u001b[0;32m~/miniconda/envs/tabular/lib/python3.9/site-packages/numpy/lib/function_base.py:4527\u001b[0m, in \u001b[0;36m_lerp\u001b[0;34m(a, b, t, out)\u001b[0m\n\u001b[1;32m   4513\u001b[0m \u001b[39mdef\u001b[39;00m \u001b[39m_lerp\u001b[39m(a, b, t, out\u001b[39m=\u001b[39m\u001b[39mNone\u001b[39;00m):\n\u001b[1;32m   4514\u001b[0m \u001b[39m    \u001b[39m\u001b[39m\"\"\"\u001b[39;00m\n\u001b[1;32m   4515\u001b[0m \u001b[39m    Compute the linear interpolation weighted by gamma on each point of\u001b[39;00m\n\u001b[1;32m   4516\u001b[0m \u001b[39m    two same shape array.\u001b[39;00m\n\u001b[0;32m   (...)\u001b[0m\n\u001b[1;32m   4525\u001b[0m \u001b[39m        Output array.\u001b[39;00m\n\u001b[1;32m   4526\u001b[0m \u001b[39m    \"\"\"\u001b[39;00m\n\u001b[0;32m-> 4527\u001b[0m     diff_b_a \u001b[39m=\u001b[39m subtract(b, a)\n\u001b[1;32m   4528\u001b[0m     \u001b[39m# asanyarray is a stop-gap until gh-13105\u001b[39;00m\n\u001b[1;32m   4529\u001b[0m     lerp_interpolation \u001b[39m=\u001b[39m asanyarray(add(a, diff_b_a \u001b[39m*\u001b[39m t, out\u001b[39m=\u001b[39mout))\n",
            "\u001b[0;31mTypeError\u001b[0m: numpy boolean subtract, the `-` operator, is not supported, use the bitwise_xor, the `^` operator, or the logical_xor function instead."
          ]
        },
        {
          "data": {
            "image/png": "[encoded data removed]",
            "text/plain": [
              "<Figure size 800x950 with 1 Axes>"
            ]
          },
          "metadata": {},
          "output_type": "display_data"
        }
      ],
      "source": [
        "# shap.summary_plot(shap_values, X_attack.iloc[:,:], plot_type=\"layered_violin\", color='coolwarm')\n",
        "shap.summary_plot(shap_values, X_attack.iloc[:,:], plot_type=\"violin\")"
      ]
    },
    {
      "cell_type": "code",
      "execution_count": 60,
      "metadata": {
        "colab": {
          "base_uri": "https://localhost:8080/",
          "height": 1000
        },
        "id": "LcbGKw8zhIYP",
        "outputId": "dae203e1-4b26-4f56-eb19-3a1c74f38a08"
      },
      "outputs": [
        {
          "ename": "TypeError",
          "evalue": "unsupported operand type(s) for +: 'bool' and 'str'",
          "output_type": "error",
          "traceback": [
            "\u001b[0;31m---------------------------------------------------------------------------\u001b[0m",
            "\u001b[0;31mTypeError\u001b[0m                                 Traceback (most recent call last)",
            "Cell \u001b[0;32mIn[60], line 1\u001b[0m\n\u001b[0;32m----> 1\u001b[0m shap\u001b[39m.\u001b[39;49mplots\u001b[39m.\u001b[39;49mwaterfall(shap_values[\u001b[39m0\u001b[39;49m], max_display\u001b[39m=\u001b[39;49mX_attack\u001b[39m.\u001b[39;49mshape[\u001b[39m0\u001b[39;49m])\n",
            "File \u001b[0;32m~/miniconda/envs/tabular/lib/python3.9/site-packages/shap/plots/_waterfall.py:129\u001b[0m, in \u001b[0;36mwaterfall\u001b[0;34m(shap_values, max_display, show)\u001b[0m\n\u001b[1;32m    127\u001b[0m             yticklabels[rng[i]] \u001b[39m=\u001b[39m format_value(\u001b[39mfloat\u001b[39m(features[order[i]]), \u001b[39m\"\u001b[39m\u001b[39m%0.03f\u001b[39;00m\u001b[39m\"\u001b[39m) \u001b[39m+\u001b[39m \u001b[39m\"\u001b[39m\u001b[39m = \u001b[39m\u001b[39m\"\u001b[39m \u001b[39m+\u001b[39m feature_names[order[i]]\n\u001b[1;32m    128\u001b[0m         \u001b[39melse\u001b[39;00m:\n\u001b[0;32m--> 129\u001b[0m             yticklabels[rng[i]] \u001b[39m=\u001b[39m features[order[i]] \u001b[39m+\u001b[39;49m \u001b[39m\"\u001b[39;49m\u001b[39m = \u001b[39;49m\u001b[39m\"\u001b[39;49m \u001b[39m+\u001b[39m feature_names[order[i]]\n\u001b[1;32m    131\u001b[0m \u001b[39m# add a last grouped feature to represent the impact of all the features we didn't show\u001b[39;00m\n\u001b[1;32m    132\u001b[0m \u001b[39mif\u001b[39;00m num_features \u001b[39m<\u001b[39m \u001b[39mlen\u001b[39m(values):\n",
            "\u001b[0;31mTypeError\u001b[0m: unsupported operand type(s) for +: 'bool' and 'str'"
          ]
        },
        {
          "data": {
            "image/png": "[encoded data removed]",
            "text/plain": [
              "<Figure size 800x2100 with 1 Axes>"
            ]
          },
          "metadata": {},
          "output_type": "display_data"
        }
      ],
      "source": [
        "shap.plots.waterfall(shap_values[0], max_display=X_attack.shape[0])"
      ]
    },
    {
      "cell_type": "code",
      "execution_count": 61,
      "metadata": {},
      "outputs": [],
      "source": [
        "import xgboost\n",
        "import shap\n",
        "\n",
        "# train xgboost model on diabetes data:\n",
        "X1, y1 = shap.datasets.diabetes()\n",
        "# bst = xgboost.train({\"learning_rate\": 0.01}, xgboost.DMatrix(X, label=y), 100)"
      ]
    },
    {
      "cell_type": "code",
      "execution_count": 65,
      "metadata": {},
      "outputs": [
        {
          "data": {
            "text/plain": [
              "array([151.,  75., 141., 206., 135.,  97., 138.,  63., 110., 310., 101.,\n",
              "        69., 179., 185., 118., 171., 166., 144.,  97., 168.,  68.,  49.,\n",
              "        68., 245., 184., 202., 137.,  85., 131., 283., 129.,  59., 341.,\n",
              "        87.,  65., 102., 265., 276., 252.,  90., 100.,  55.,  61.,  92.,\n",
              "       259.,  53., 190., 142.,  75., 142., 155., 225.,  59., 104., 182.,\n",
              "       128.,  52.,  37., 170., 170.,  61., 144.,  52., 128.,  71., 163.,\n",
              "       150.,  97., 160., 178.,  48., 270., 202., 111.,  85.,  42., 170.,\n",
              "       200., 252., 113., 143.,  51.,  52., 210.,  65., 141.,  55., 134.,\n",
              "        42., 111.,  98., 164.,  48.,  96.,  90., 162., 150., 279.,  92.,\n",
              "        83., 128., 102., 302., 198.,  95.,  53., 134., 144., 232.,  81.,\n",
              "       104.,  59., 246., 297., 258., 229., 275., 281., 179., 200., 200.,\n",
              "       173., 180.,  84., 121., 161.,  99., 109., 115., 268., 274., 158.,\n",
              "       107.,  83., 103., 272.,  85., 280., 336., 281., 118., 317., 235.,\n",
              "        60., 174., 259., 178., 128.,  96., 126., 288.,  88., 292.,  71.,\n",
              "       197., 186.,  25.,  84.,  96., 195.,  53., 217., 172., 131., 214.,\n",
              "        59.,  70., 220., 268., 152.,  47.,  74., 295., 101., 151., 127.,\n",
              "       237., 225.,  81., 151., 107.,  64., 138., 185., 265., 101., 137.,\n",
              "       143., 141.,  79., 292., 178.,  91., 116.,  86., 122.,  72., 129.,\n",
              "       142.,  90., 158.,  39., 196., 222., 277.,  99., 196., 202., 155.,\n",
              "        77., 191.,  70.,  73.,  49.,  65., 263., 248., 296., 214., 185.,\n",
              "        78.,  93., 252., 150.,  77., 208.,  77., 108., 160.,  53., 220.,\n",
              "       154., 259.,  90., 246., 124.,  67.,  72., 257., 262., 275., 177.,\n",
              "        71.,  47., 187., 125.,  78.,  51., 258., 215., 303., 243.,  91.,\n",
              "       150., 310., 153., 346.,  63.,  89.,  50.,  39., 103., 308., 116.,\n",
              "       145.,  74.,  45., 115., 264.,  87., 202., 127., 182., 241.,  66.,\n",
              "        94., 283.,  64., 102., 200., 265.,  94., 230., 181., 156., 233.,\n",
              "        60., 219.,  80.,  68., 332., 248.,  84., 200.,  55.,  85.,  89.,\n",
              "        31., 129.,  83., 275.,  65., 198., 236., 253., 124.,  44., 172.,\n",
              "       114., 142., 109., 180., 144., 163., 147.,  97., 220., 190., 109.,\n",
              "       191., 122., 230., 242., 248., 249., 192., 131., 237.,  78., 135.,\n",
              "       244., 199., 270., 164.,  72.,  96., 306.,  91., 214.,  95., 216.,\n",
              "       263., 178., 113., 200., 139., 139.,  88., 148.,  88., 243.,  71.,\n",
              "        77., 109., 272.,  60.,  54., 221.,  90., 311., 281., 182., 321.,\n",
              "        58., 262., 206., 233., 242., 123., 167.,  63., 197.,  71., 168.,\n",
              "       140., 217., 121., 235., 245.,  40.,  52., 104., 132.,  88.,  69.,\n",
              "       219.,  72., 201., 110.,  51., 277.,  63., 118.,  69., 273., 258.,\n",
              "        43., 198., 242., 232., 175.,  93., 168., 275., 293., 281.,  72.,\n",
              "       140., 189., 181., 209., 136., 261., 113., 131., 174., 257.,  55.,\n",
              "        84.,  42., 146., 212., 233.,  91., 111., 152., 120.,  67., 310.,\n",
              "        94., 183.,  66., 173.,  72.,  49.,  64.,  48., 178., 104., 132.,\n",
              "       220.,  57.], dtype=float32)"
            ]
          },
          "execution_count": 65,
          "metadata": {},
          "output_type": "execute_result"
        }
      ],
      "source": [
        "xgboost.DMatrix(X1, label=y1).get_label()"
      ]
    },
    {
      "cell_type": "code",
      "execution_count": null,
      "metadata": {
        "id": "XeI34xUkhXtj"
      },
      "outputs": [],
      "source": []
    },
    {
      "cell_type": "code",
      "execution_count": 118,
      "metadata": {
        "colab": {
          "base_uri": "https://localhost:8080/"
        },
        "id": "ISO1qjIYg9te",
        "outputId": "6ce97837-e12b-4738-eb9f-bf4687ebc0d8"
      },
      "outputs": [
        {
          "data": {
            "text/plain": [
              ".values =\n",
              "array([ 3.9481106e-01, -4.3741024e-01,  2.3341302e-02, -2.0479350e+00,\n",
              "       -5.7315014e-02,  0.0000000e+00,  0.0000000e+00,  0.0000000e+00,\n",
              "       -2.5094250e-01, -6.9456494e-01,  0.0000000e+00,  0.0000000e+00,\n",
              "       -1.2758857e-01,  0.0000000e+00, -1.3817483e-01,  1.7478375e-02,\n",
              "        0.0000000e+00, -1.4004943e-02, -3.6159051e-03,  0.0000000e+00,\n",
              "        0.0000000e+00, -7.0885964e-02,  0.0000000e+00, -4.2709015e-02,\n",
              "        0.0000000e+00,  3.6547545e-02,  0.0000000e+00,  2.4634823e-02,\n",
              "        0.0000000e+00,  2.5641677e-01,  0.0000000e+00, -1.7671093e-01,\n",
              "        0.0000000e+00,  0.0000000e+00, -1.7086138e-01,  0.0000000e+00,\n",
              "        0.0000000e+00,  1.4115940e-03,  4.0571705e-01], dtype=float32)\n",
              "\n",
              ".base_values =\n",
              "-0.40080473\n",
              "\n",
              ".data =\n",
              "array([ 0.01896704, -0.79966219, -0.23707618, -0.45161556,  0.        ,\n",
              "        0.        ,  0.        ,  0.        ,  0.        ,  1.        ,\n",
              "        0.        ,  0.        ,  0.        ,  1.        ,  0.        ,\n",
              "        0.        ,  0.        ,  1.        ,  1.        ,  0.        ,\n",
              "        0.        ,  1.        ,  0.        ,  0.        ,  0.        ,\n",
              "        0.        ,  0.        ,  1.        ,  0.        ,  0.        ,\n",
              "        0.        ,  1.        ,  0.        ,  0.        ,  0.        ,\n",
              "        0.        ,  1.        ,  0.        ,  0.        ])"
            ]
          },
          "execution_count": 118,
          "metadata": {},
          "output_type": "execute_result"
        }
      ],
      "source": [
        "shap_values[0]"
      ]
    },
    {
      "cell_type": "code",
      "execution_count": null,
      "metadata": {
        "id": "5pwnG9Q3hOV8"
      },
      "outputs": [],
      "source": [
        "def f(X):\n",
        "    return attack_model.predict([X[:,i] for i in range(X.shape[1])]).flatten()"
      ]
    },
    {
      "cell_type": "code",
      "execution_count": null,
      "metadata": {
        "colab": {
          "base_uri": "https://localhost:8080/",
          "height": 389
        },
        "id": "rWeBsecDE-jg",
        "outputId": "c97a1434-56b7-4683-8b08-f450339804de"
      },
      "outputs": [
        {
          "name": "stdout",
          "output_type": "stream",
          "text": [
            "Provided model function fails when applied to the provided data set.\n"
          ]
        },
        {
          "ename": "ValueError",
          "evalue": "ignored",
          "output_type": "error",
          "traceback": [
            "\u001b[0;31m---------------------------------------------------------------------------\u001b[0m",
            "\u001b[0;31mValueError\u001b[0m                                Traceback (most recent call last)",
            "\u001b[0;32m<ipython-input-241-9042cbf622b5>\u001b[0m in \u001b[0;36m<cell line: 1>\u001b[0;34m()\u001b[0m\n\u001b[0;32m----> 1\u001b[0;31m \u001b[0mexplainer\u001b[0m \u001b[0;34m=\u001b[0m \u001b[0mshap\u001b[0m\u001b[0;34m.\u001b[0m\u001b[0mKernelExplainer\u001b[0m\u001b[0;34m(\u001b[0m\u001b[0mf\u001b[0m\u001b[0;34m,\u001b[0m \u001b[0mX_attack\u001b[0m\u001b[0;34m.\u001b[0m\u001b[0miloc\u001b[0m\u001b[0;34m[\u001b[0m\u001b[0;34m:\u001b[0m\u001b[0;36m50\u001b[0m\u001b[0;34m,\u001b[0m\u001b[0;34m:\u001b[0m\u001b[0;34m]\u001b[0m\u001b[0;34m)\u001b[0m\u001b[0;34m\u001b[0m\u001b[0;34m\u001b[0m\u001b[0m\n\u001b[0m\u001b[1;32m      2\u001b[0m \u001b[0mshap_values\u001b[0m \u001b[0;34m=\u001b[0m \u001b[0mexplainer\u001b[0m\u001b[0;34m.\u001b[0m\u001b[0mshap_values\u001b[0m\u001b[0;34m(\u001b[0m\u001b[0mX_attack\u001b[0m\u001b[0;34m.\u001b[0m\u001b[0miloc\u001b[0m\u001b[0;34m[\u001b[0m\u001b[0;36m299\u001b[0m\u001b[0;34m,\u001b[0m\u001b[0;34m:\u001b[0m\u001b[0;34m]\u001b[0m\u001b[0;34m,\u001b[0m \u001b[0mnsamples\u001b[0m\u001b[0;34m=\u001b[0m\u001b[0;36m500\u001b[0m\u001b[0;34m)\u001b[0m\u001b[0;34m\u001b[0m\u001b[0;34m\u001b[0m\u001b[0m\n\u001b[1;32m      3\u001b[0m \u001b[0mshap\u001b[0m\u001b[0;34m.\u001b[0m\u001b[0mforce_plot\u001b[0m\u001b[0;34m(\u001b[0m\u001b[0mexplainer\u001b[0m\u001b[0;34m.\u001b[0m\u001b[0mexpected_value\u001b[0m\u001b[0;34m,\u001b[0m \u001b[0mshap_values\u001b[0m\u001b[0;34m,\u001b[0m \u001b[0mX_attack\u001b[0m\u001b[0;34m.\u001b[0m\u001b[0miloc\u001b[0m\u001b[0;34m[\u001b[0m\u001b[0;36m299\u001b[0m\u001b[0;34m,\u001b[0m\u001b[0;34m:\u001b[0m\u001b[0;34m]\u001b[0m\u001b[0;34m)\u001b[0m\u001b[0;34m\u001b[0m\u001b[0;34m\u001b[0m\u001b[0m\n",
            "\u001b[0;32m/usr/local/lib/python3.9/dist-packages/shap/explainers/_kernel.py\u001b[0m in \u001b[0;36m__init__\u001b[0;34m(self, model, data, link, **kwargs)\u001b[0m\n\u001b[1;32m     68\u001b[0m         \u001b[0mself\u001b[0m\u001b[0;34m.\u001b[0m\u001b[0mkeep_index_ordered\u001b[0m \u001b[0;34m=\u001b[0m \u001b[0mkwargs\u001b[0m\u001b[0;34m.\u001b[0m\u001b[0mget\u001b[0m\u001b[0;34m(\u001b[0m\u001b[0;34m\"keep_index_ordered\"\u001b[0m\u001b[0;34m,\u001b[0m \u001b[0;32mFalse\u001b[0m\u001b[0;34m)\u001b[0m\u001b[0;34m\u001b[0m\u001b[0;34m\u001b[0m\u001b[0m\n\u001b[1;32m     69\u001b[0m         \u001b[0mself\u001b[0m\u001b[0;34m.\u001b[0m\u001b[0mdata\u001b[0m \u001b[0;34m=\u001b[0m \u001b[0mconvert_to_data\u001b[0m\u001b[0;34m(\u001b[0m\u001b[0mdata\u001b[0m\u001b[0;34m,\u001b[0m \u001b[0mkeep_index\u001b[0m\u001b[0;34m=\u001b[0m\u001b[0mself\u001b[0m\u001b[0;34m.\u001b[0m\u001b[0mkeep_index\u001b[0m\u001b[0;34m)\u001b[0m\u001b[0;34m\u001b[0m\u001b[0;34m\u001b[0m\u001b[0m\n\u001b[0;32m---> 70\u001b[0;31m         \u001b[0mmodel_null\u001b[0m \u001b[0;34m=\u001b[0m \u001b[0mmatch_model_to_data\u001b[0m\u001b[0;34m(\u001b[0m\u001b[0mself\u001b[0m\u001b[0;34m.\u001b[0m\u001b[0mmodel\u001b[0m\u001b[0;34m,\u001b[0m \u001b[0mself\u001b[0m\u001b[0;34m.\u001b[0m\u001b[0mdata\u001b[0m\u001b[0;34m)\u001b[0m\u001b[0;34m\u001b[0m\u001b[0;34m\u001b[0m\u001b[0m\n\u001b[0m\u001b[1;32m     71\u001b[0m \u001b[0;34m\u001b[0m\u001b[0m\n\u001b[1;32m     72\u001b[0m         \u001b[0;31m# enforce our current input type limitations\u001b[0m\u001b[0;34m\u001b[0m\u001b[0;34m\u001b[0m\u001b[0m\n",
            "\u001b[0;32m/usr/local/lib/python3.9/dist-packages/shap/utils/_legacy.py\u001b[0m in \u001b[0;36mmatch_model_to_data\u001b[0;34m(model, data)\u001b[0m\n\u001b[1;32m    110\u001b[0m             \u001b[0mout_val\u001b[0m \u001b[0;34m=\u001b[0m \u001b[0mmodel\u001b[0m\u001b[0;34m.\u001b[0m\u001b[0mf\u001b[0m\u001b[0;34m(\u001b[0m\u001b[0mdata\u001b[0m\u001b[0;34m.\u001b[0m\u001b[0mconvert_to_df\u001b[0m\u001b[0;34m(\u001b[0m\u001b[0;34m)\u001b[0m\u001b[0;34m)\u001b[0m\u001b[0;34m\u001b[0m\u001b[0;34m\u001b[0m\u001b[0m\n\u001b[1;32m    111\u001b[0m         \u001b[0;32melse\u001b[0m\u001b[0;34m:\u001b[0m\u001b[0;34m\u001b[0m\u001b[0;34m\u001b[0m\u001b[0m\n\u001b[0;32m--> 112\u001b[0;31m             \u001b[0mout_val\u001b[0m \u001b[0;34m=\u001b[0m \u001b[0mmodel\u001b[0m\u001b[0;34m.\u001b[0m\u001b[0mf\u001b[0m\u001b[0;34m(\u001b[0m\u001b[0mdata\u001b[0m\u001b[0;34m.\u001b[0m\u001b[0mdata\u001b[0m\u001b[0;34m)\u001b[0m\u001b[0;34m\u001b[0m\u001b[0;34m\u001b[0m\u001b[0m\n\u001b[0m\u001b[1;32m    113\u001b[0m     \u001b[0;32mexcept\u001b[0m\u001b[0;34m:\u001b[0m\u001b[0;34m\u001b[0m\u001b[0;34m\u001b[0m\u001b[0m\n\u001b[1;32m    114\u001b[0m         \u001b[0mprint\u001b[0m\u001b[0;34m(\u001b[0m\u001b[0;34m\"Provided model function fails when applied to the provided data set.\"\u001b[0m\u001b[0;34m)\u001b[0m\u001b[0;34m\u001b[0m\u001b[0;34m\u001b[0m\u001b[0m\n",
            "\u001b[0;32m<ipython-input-237-92340f84d187>\u001b[0m in \u001b[0;36mf\u001b[0;34m(X)\u001b[0m\n\u001b[1;32m      1\u001b[0m \u001b[0;32mdef\u001b[0m \u001b[0mf\u001b[0m\u001b[0;34m(\u001b[0m\u001b[0mX\u001b[0m\u001b[0;34m)\u001b[0m\u001b[0;34m:\u001b[0m\u001b[0;34m\u001b[0m\u001b[0;34m\u001b[0m\u001b[0m\n\u001b[0;32m----> 2\u001b[0;31m     \u001b[0;32mreturn\u001b[0m \u001b[0mattack_model\u001b[0m\u001b[0;34m.\u001b[0m\u001b[0mpredict\u001b[0m\u001b[0;34m(\u001b[0m\u001b[0;34m[\u001b[0m\u001b[0mX\u001b[0m\u001b[0;34m[\u001b[0m\u001b[0;34m:\u001b[0m\u001b[0;34m,\u001b[0m\u001b[0mi\u001b[0m\u001b[0;34m]\u001b[0m \u001b[0;32mfor\u001b[0m \u001b[0mi\u001b[0m \u001b[0;32min\u001b[0m \u001b[0mrange\u001b[0m\u001b[0;34m(\u001b[0m\u001b[0mX\u001b[0m\u001b[0;34m.\u001b[0m\u001b[0mshape\u001b[0m\u001b[0;34m[\u001b[0m\u001b[0;36m1\u001b[0m\u001b[0;34m]\u001b[0m\u001b[0;34m)\u001b[0m\u001b[0;34m]\u001b[0m\u001b[0;34m)\u001b[0m\u001b[0;34m.\u001b[0m\u001b[0mflatten\u001b[0m\u001b[0;34m(\u001b[0m\u001b[0;34m)\u001b[0m\u001b[0;34m\u001b[0m\u001b[0;34m\u001b[0m\u001b[0m\n\u001b[0m",
            "\u001b[0;32m/usr/local/lib/python3.9/dist-packages/sklearn/neural_network/_multilayer_perceptron.py\u001b[0m in \u001b[0;36mpredict\u001b[0;34m(self, X)\u001b[0m\n\u001b[1;32m   1154\u001b[0m         \"\"\"\n\u001b[1;32m   1155\u001b[0m         \u001b[0mcheck_is_fitted\u001b[0m\u001b[0;34m(\u001b[0m\u001b[0mself\u001b[0m\u001b[0;34m)\u001b[0m\u001b[0;34m\u001b[0m\u001b[0;34m\u001b[0m\u001b[0m\n\u001b[0;32m-> 1156\u001b[0;31m         \u001b[0;32mreturn\u001b[0m \u001b[0mself\u001b[0m\u001b[0;34m.\u001b[0m\u001b[0m_predict\u001b[0m\u001b[0;34m(\u001b[0m\u001b[0mX\u001b[0m\u001b[0;34m)\u001b[0m\u001b[0;34m\u001b[0m\u001b[0;34m\u001b[0m\u001b[0m\n\u001b[0m\u001b[1;32m   1157\u001b[0m \u001b[0;34m\u001b[0m\u001b[0m\n\u001b[1;32m   1158\u001b[0m     \u001b[0;32mdef\u001b[0m \u001b[0m_predict\u001b[0m\u001b[0;34m(\u001b[0m\u001b[0mself\u001b[0m\u001b[0;34m,\u001b[0m \u001b[0mX\u001b[0m\u001b[0;34m,\u001b[0m \u001b[0mcheck_input\u001b[0m\u001b[0;34m=\u001b[0m\u001b[0;32mTrue\u001b[0m\u001b[0;34m)\u001b[0m\u001b[0;34m:\u001b[0m\u001b[0;34m\u001b[0m\u001b[0;34m\u001b[0m\u001b[0m\n",
            "\u001b[0;32m/usr/local/lib/python3.9/dist-packages/sklearn/neural_network/_multilayer_perceptron.py\u001b[0m in \u001b[0;36m_predict\u001b[0;34m(self, X, check_input)\u001b[0m\n\u001b[1;32m   1158\u001b[0m     \u001b[0;32mdef\u001b[0m \u001b[0m_predict\u001b[0m\u001b[0;34m(\u001b[0m\u001b[0mself\u001b[0m\u001b[0;34m,\u001b[0m \u001b[0mX\u001b[0m\u001b[0;34m,\u001b[0m \u001b[0mcheck_input\u001b[0m\u001b[0;34m=\u001b[0m\u001b[0;32mTrue\u001b[0m\u001b[0;34m)\u001b[0m\u001b[0;34m:\u001b[0m\u001b[0;34m\u001b[0m\u001b[0;34m\u001b[0m\u001b[0m\n\u001b[1;32m   1159\u001b[0m         \u001b[0;34m\"\"\"Private predict method with optional input validation\"\"\"\u001b[0m\u001b[0;34m\u001b[0m\u001b[0;34m\u001b[0m\u001b[0m\n\u001b[0;32m-> 1160\u001b[0;31m         \u001b[0my_pred\u001b[0m \u001b[0;34m=\u001b[0m \u001b[0mself\u001b[0m\u001b[0;34m.\u001b[0m\u001b[0m_forward_pass_fast\u001b[0m\u001b[0;34m(\u001b[0m\u001b[0mX\u001b[0m\u001b[0;34m,\u001b[0m \u001b[0mcheck_input\u001b[0m\u001b[0;34m=\u001b[0m\u001b[0mcheck_input\u001b[0m\u001b[0;34m)\u001b[0m\u001b[0;34m\u001b[0m\u001b[0;34m\u001b[0m\u001b[0m\n\u001b[0m\u001b[1;32m   1161\u001b[0m \u001b[0;34m\u001b[0m\u001b[0m\n\u001b[1;32m   1162\u001b[0m         \u001b[0;32mif\u001b[0m \u001b[0mself\u001b[0m\u001b[0;34m.\u001b[0m\u001b[0mn_outputs_\u001b[0m \u001b[0;34m==\u001b[0m \u001b[0;36m1\u001b[0m\u001b[0;34m:\u001b[0m\u001b[0;34m\u001b[0m\u001b[0;34m\u001b[0m\u001b[0m\n",
            "\u001b[0;32m/usr/local/lib/python3.9/dist-packages/sklearn/neural_network/_multilayer_perceptron.py\u001b[0m in \u001b[0;36m_forward_pass_fast\u001b[0;34m(self, X, check_input)\u001b[0m\n\u001b[1;32m    200\u001b[0m         \"\"\"\n\u001b[1;32m    201\u001b[0m         \u001b[0;32mif\u001b[0m \u001b[0mcheck_input\u001b[0m\u001b[0;34m:\u001b[0m\u001b[0;34m\u001b[0m\u001b[0;34m\u001b[0m\u001b[0m\n\u001b[0;32m--> 202\u001b[0;31m             \u001b[0mX\u001b[0m \u001b[0;34m=\u001b[0m \u001b[0mself\u001b[0m\u001b[0;34m.\u001b[0m\u001b[0m_validate_data\u001b[0m\u001b[0;34m(\u001b[0m\u001b[0mX\u001b[0m\u001b[0;34m,\u001b[0m \u001b[0maccept_sparse\u001b[0m\u001b[0;34m=\u001b[0m\u001b[0;34m[\u001b[0m\u001b[0;34m\"csr\"\u001b[0m\u001b[0;34m,\u001b[0m \u001b[0;34m\"csc\"\u001b[0m\u001b[0;34m]\u001b[0m\u001b[0;34m,\u001b[0m \u001b[0mreset\u001b[0m\u001b[0;34m=\u001b[0m\u001b[0;32mFalse\u001b[0m\u001b[0;34m)\u001b[0m\u001b[0;34m\u001b[0m\u001b[0;34m\u001b[0m\u001b[0m\n\u001b[0m\u001b[1;32m    203\u001b[0m \u001b[0;34m\u001b[0m\u001b[0m\n\u001b[1;32m    204\u001b[0m         \u001b[0;31m# Initialize first layer\u001b[0m\u001b[0;34m\u001b[0m\u001b[0;34m\u001b[0m\u001b[0m\n",
            "\u001b[0;32m/usr/local/lib/python3.9/dist-packages/sklearn/base.py\u001b[0m in \u001b[0;36m_validate_data\u001b[0;34m(self, X, y, reset, validate_separately, **check_params)\u001b[0m\n\u001b[1;32m    586\u001b[0m \u001b[0;34m\u001b[0m\u001b[0m\n\u001b[1;32m    587\u001b[0m         \u001b[0;32mif\u001b[0m \u001b[0;32mnot\u001b[0m \u001b[0mno_val_X\u001b[0m \u001b[0;32mand\u001b[0m \u001b[0mcheck_params\u001b[0m\u001b[0;34m.\u001b[0m\u001b[0mget\u001b[0m\u001b[0;34m(\u001b[0m\u001b[0;34m\"ensure_2d\"\u001b[0m\u001b[0;34m,\u001b[0m \u001b[0;32mTrue\u001b[0m\u001b[0;34m)\u001b[0m\u001b[0;34m:\u001b[0m\u001b[0;34m\u001b[0m\u001b[0;34m\u001b[0m\u001b[0m\n\u001b[0;32m--> 588\u001b[0;31m             \u001b[0mself\u001b[0m\u001b[0;34m.\u001b[0m\u001b[0m_check_n_features\u001b[0m\u001b[0;34m(\u001b[0m\u001b[0mX\u001b[0m\u001b[0;34m,\u001b[0m \u001b[0mreset\u001b[0m\u001b[0;34m=\u001b[0m\u001b[0mreset\u001b[0m\u001b[0;34m)\u001b[0m\u001b[0;34m\u001b[0m\u001b[0;34m\u001b[0m\u001b[0m\n\u001b[0m\u001b[1;32m    589\u001b[0m \u001b[0;34m\u001b[0m\u001b[0m\n\u001b[1;32m    590\u001b[0m         \u001b[0;32mreturn\u001b[0m \u001b[0mout\u001b[0m\u001b[0;34m\u001b[0m\u001b[0;34m\u001b[0m\u001b[0m\n",
            "\u001b[0;32m/usr/local/lib/python3.9/dist-packages/sklearn/base.py\u001b[0m in \u001b[0;36m_check_n_features\u001b[0;34m(self, X, reset)\u001b[0m\n\u001b[1;32m    387\u001b[0m \u001b[0;34m\u001b[0m\u001b[0m\n\u001b[1;32m    388\u001b[0m         \u001b[0;32mif\u001b[0m \u001b[0mn_features\u001b[0m \u001b[0;34m!=\u001b[0m \u001b[0mself\u001b[0m\u001b[0;34m.\u001b[0m\u001b[0mn_features_in_\u001b[0m\u001b[0;34m:\u001b[0m\u001b[0;34m\u001b[0m\u001b[0;34m\u001b[0m\u001b[0m\n\u001b[0;32m--> 389\u001b[0;31m             raise ValueError(\n\u001b[0m\u001b[1;32m    390\u001b[0m                 \u001b[0;34mf\"X has {n_features} features, but {self.__class__.__name__} \"\u001b[0m\u001b[0;34m\u001b[0m\u001b[0;34m\u001b[0m\u001b[0m\n\u001b[1;32m    391\u001b[0m                 \u001b[0;34mf\"is expecting {self.n_features_in_} features as input.\"\u001b[0m\u001b[0;34m\u001b[0m\u001b[0;34m\u001b[0m\u001b[0m\n",
            "\u001b[0;31mValueError\u001b[0m: X has 50 features, but MLPClassifier is expecting 60 features as input."
          ]
        }
      ],
      "source": [
        "explainer = shap.KernelExplainer(f, X_attack.iloc[:50,:])\n",
        "shap_values = explainer.shap_values(X_attack.iloc[299,:], nsamples=500)\n",
        "shap.force_plot(explainer.expected_value, shap_values, X_attack.iloc[299,:])"
      ]
    },
    {
      "cell_type": "code",
      "execution_count": null,
      "metadata": {
        "id": "5HU0kjLuFJxa"
      },
      "outputs": [],
      "source": [
        "X,y = shap.datasets.adult()\n",
        "X_display,y_display = shap.datasets.adult(display=True)"
      ]
    },
    {
      "cell_type": "code",
      "execution_count": null,
      "metadata": {
        "colab": {
          "base_uri": "https://localhost:8080/",
          "height": 522
        },
        "id": "Jb2FeovJFK0-",
        "outputId": "5abc14bc-4692-4ba8-e76a-1e1ce7bc23ea"
      },
      "outputs": [
        {
          "data": {
            "text/html": [
              "\n",
              "  <div id=\"df-f9a90f29-33a6-4d33-a4cc-bdcbc6acb8f1\">\n",
              "    <div class=\"colab-df-container\">\n",
              "      <div>\n",
              "<style scoped>\n",
              "    .dataframe tbody tr th:only-of-type {\n",
              "        vertical-align: middle;\n",
              "    }\n",
              "\n",
              "    .dataframe tbody tr th {\n",
              "        vertical-align: top;\n",
              "    }\n",
              "\n",
              "    .dataframe thead th {\n",
              "        text-align: right;\n",
              "    }\n",
              "</style>\n",
              "<table border=\"1\" class=\"dataframe\">\n",
              "  <thead>\n",
              "    <tr style=\"text-align: right;\">\n",
              "      <th></th>\n",
              "      <th>Age</th>\n",
              "      <th>Workclass</th>\n",
              "      <th>Education-Num</th>\n",
              "      <th>Marital Status</th>\n",
              "      <th>Occupation</th>\n",
              "      <th>Relationship</th>\n",
              "      <th>Race</th>\n",
              "      <th>Sex</th>\n",
              "      <th>Capital Gain</th>\n",
              "      <th>Capital Loss</th>\n",
              "      <th>Hours per week</th>\n",
              "      <th>Country</th>\n",
              "    </tr>\n",
              "  </thead>\n",
              "  <tbody>\n",
              "    <tr>\n",
              "      <th>0</th>\n",
              "      <td>39.0</td>\n",
              "      <td>7</td>\n",
              "      <td>13.0</td>\n",
              "      <td>4</td>\n",
              "      <td>1</td>\n",
              "      <td>0</td>\n",
              "      <td>4</td>\n",
              "      <td>1</td>\n",
              "      <td>2174.0</td>\n",
              "      <td>0.0</td>\n",
              "      <td>40.0</td>\n",
              "      <td>39</td>\n",
              "    </tr>\n",
              "    <tr>\n",
              "      <th>1</th>\n",
              "      <td>50.0</td>\n",
              "      <td>6</td>\n",
              "      <td>13.0</td>\n",
              "      <td>2</td>\n",
              "      <td>4</td>\n",
              "      <td>4</td>\n",
              "      <td>4</td>\n",
              "      <td>1</td>\n",
              "      <td>0.0</td>\n",
              "      <td>0.0</td>\n",
              "      <td>13.0</td>\n",
              "      <td>39</td>\n",
              "    </tr>\n",
              "    <tr>\n",
              "      <th>2</th>\n",
              "      <td>38.0</td>\n",
              "      <td>4</td>\n",
              "      <td>9.0</td>\n",
              "      <td>0</td>\n",
              "      <td>6</td>\n",
              "      <td>0</td>\n",
              "      <td>4</td>\n",
              "      <td>1</td>\n",
              "      <td>0.0</td>\n",
              "      <td>0.0</td>\n",
              "      <td>40.0</td>\n",
              "      <td>39</td>\n",
              "    </tr>\n",
              "    <tr>\n",
              "      <th>3</th>\n",
              "      <td>53.0</td>\n",
              "      <td>4</td>\n",
              "      <td>7.0</td>\n",
              "      <td>2</td>\n",
              "      <td>6</td>\n",
              "      <td>4</td>\n",
              "      <td>2</td>\n",
              "      <td>1</td>\n",
              "      <td>0.0</td>\n",
              "      <td>0.0</td>\n",
              "      <td>40.0</td>\n",
              "      <td>39</td>\n",
              "    </tr>\n",
              "    <tr>\n",
              "      <th>4</th>\n",
              "      <td>28.0</td>\n",
              "      <td>4</td>\n",
              "      <td>13.0</td>\n",
              "      <td>2</td>\n",
              "      <td>10</td>\n",
              "      <td>5</td>\n",
              "      <td>2</td>\n",
              "      <td>0</td>\n",
              "      <td>0.0</td>\n",
              "      <td>0.0</td>\n",
              "      <td>40.0</td>\n",
              "      <td>5</td>\n",
              "    </tr>\n",
              "    <tr>\n",
              "      <th>...</th>\n",
              "      <td>...</td>\n",
              "      <td>...</td>\n",
              "      <td>...</td>\n",
              "      <td>...</td>\n",
              "      <td>...</td>\n",
              "      <td>...</td>\n",
              "      <td>...</td>\n",
              "      <td>...</td>\n",
              "      <td>...</td>\n",
              "      <td>...</td>\n",
              "      <td>...</td>\n",
              "      <td>...</td>\n",
              "    </tr>\n",
              "    <tr>\n",
              "      <th>32556</th>\n",
              "      <td>27.0</td>\n",
              "      <td>4</td>\n",
              "      <td>12.0</td>\n",
              "      <td>2</td>\n",
              "      <td>13</td>\n",
              "      <td>5</td>\n",
              "      <td>4</td>\n",
              "      <td>0</td>\n",
              "      <td>0.0</td>\n",
              "      <td>0.0</td>\n",
              "      <td>38.0</td>\n",
              "      <td>39</td>\n",
              "    </tr>\n",
              "    <tr>\n",
              "      <th>32557</th>\n",
              "      <td>40.0</td>\n",
              "      <td>4</td>\n",
              "      <td>9.0</td>\n",
              "      <td>2</td>\n",
              "      <td>7</td>\n",
              "      <td>4</td>\n",
              "      <td>4</td>\n",
              "      <td>1</td>\n",
              "      <td>0.0</td>\n",
              "      <td>0.0</td>\n",
              "      <td>40.0</td>\n",
              "      <td>39</td>\n",
              "    </tr>\n",
              "    <tr>\n",
              "      <th>32558</th>\n",
              "      <td>58.0</td>\n",
              "      <td>4</td>\n",
              "      <td>9.0</td>\n",
              "      <td>6</td>\n",
              "      <td>1</td>\n",
              "      <td>1</td>\n",
              "      <td>4</td>\n",
              "      <td>0</td>\n",
              "      <td>0.0</td>\n",
              "      <td>0.0</td>\n",
              "      <td>40.0</td>\n",
              "      <td>39</td>\n",
              "    </tr>\n",
              "    <tr>\n",
              "      <th>32559</th>\n",
              "      <td>22.0</td>\n",
              "      <td>4</td>\n",
              "      <td>9.0</td>\n",
              "      <td>4</td>\n",
              "      <td>1</td>\n",
              "      <td>3</td>\n",
              "      <td>4</td>\n",
              "      <td>1</td>\n",
              "      <td>0.0</td>\n",
              "      <td>0.0</td>\n",
              "      <td>20.0</td>\n",
              "      <td>39</td>\n",
              "    </tr>\n",
              "    <tr>\n",
              "      <th>32560</th>\n",
              "      <td>52.0</td>\n",
              "      <td>5</td>\n",
              "      <td>9.0</td>\n",
              "      <td>2</td>\n",
              "      <td>4</td>\n",
              "      <td>5</td>\n",
              "      <td>4</td>\n",
              "      <td>0</td>\n",
              "      <td>15024.0</td>\n",
              "      <td>0.0</td>\n",
              "      <td>40.0</td>\n",
              "      <td>39</td>\n",
              "    </tr>\n",
              "  </tbody>\n",
              "</table>\n",
              "<p>32561 rows × 12 columns</p>\n",
              "</div>\n",
              "      <button class=\"colab-df-convert\" onclick=\"convertToInteractive('df-f9a90f29-33a6-4d33-a4cc-bdcbc6acb8f1')\"\n",
              "              title=\"Convert this dataframe to an interactive table.\"\n",
              "              style=\"display:none;\">\n",
              "        \n",
              "  <svg xmlns=\"http://www.w3.org/2000/svg\" height=\"24px\"viewBox=\"0 0 24 24\"\n",
              "       width=\"24px\">\n",
              "    <path d=\"M0 0h24v24H0V0z\" fill=\"none\"/>\n",
              "    <path d=\"M18.56 5.44l.94 2.06.94-2.06 2.06-.94-2.06-.94-.94-2.06-.94 2.06-2.06.94zm-11 1L8.5 8.5l.94-2.06 2.06-.94-2.06-.94L8.5 2.5l-.94 2.06-2.06.94zm10 10l.94 2.06.94-2.06 2.06-.94-2.06-.94-.94-2.06-.94 2.06-2.06.94z\"/><path d=\"M17.41 7.96l-1.37-1.37c-.4-.4-.92-.59-1.43-.59-.52 0-1.04.2-1.43.59L10.3 9.45l-7.72 7.72c-.78.78-.78 2.05 0 2.83L4 21.41c.39.39.9.59 1.41.59.51 0 1.02-.2 1.41-.59l7.78-7.78 2.81-2.81c.8-.78.8-2.07 0-2.86zM5.41 20L4 18.59l7.72-7.72 1.47 1.35L5.41 20z\"/>\n",
              "  </svg>\n",
              "      </button>\n",
              "      \n",
              "  <style>\n",
              "    .colab-df-container {\n",
              "      display:flex;\n",
              "      flex-wrap:wrap;\n",
              "      gap: 12px;\n",
              "    }\n",
              "\n",
              "    .colab-df-convert {\n",
              "      background-color: #E8F0FE;\n",
              "      border: none;\n",
              "      border-radius: 50%;\n",
              "      cursor: pointer;\n",
              "      display: none;\n",
              "      fill: #1967D2;\n",
              "      height: 32px;\n",
              "      padding: 0 0 0 0;\n",
              "      width: 32px;\n",
              "    }\n",
              "\n",
              "    .colab-df-convert:hover {\n",
              "      background-color: #E2EBFA;\n",
              "      box-shadow: 0px 1px 2px rgba(60, 64, 67, 0.3), 0px 1px 3px 1px rgba(60, 64, 67, 0.15);\n",
              "      fill: #174EA6;\n",
              "    }\n",
              "\n",
              "    [theme=dark] .colab-df-convert {\n",
              "      background-color: #3B4455;\n",
              "      fill: #D2E3FC;\n",
              "    }\n",
              "\n",
              "    [theme=dark] .colab-df-convert:hover {\n",
              "      background-color: #434B5C;\n",
              "      box-shadow: 0px 1px 3px 1px rgba(0, 0, 0, 0.15);\n",
              "      filter: drop-shadow(0px 1px 2px rgba(0, 0, 0, 0.3));\n",
              "      fill: #FFFFFF;\n",
              "    }\n",
              "  </style>\n",
              "\n",
              "      <script>\n",
              "        const buttonEl =\n",
              "          document.querySelector('#df-f9a90f29-33a6-4d33-a4cc-bdcbc6acb8f1 button.colab-df-convert');\n",
              "        buttonEl.style.display =\n",
              "          google.colab.kernel.accessAllowed ? 'block' : 'none';\n",
              "\n",
              "        async function convertToInteractive(key) {\n",
              "          const element = document.querySelector('#df-f9a90f29-33a6-4d33-a4cc-bdcbc6acb8f1');\n",
              "          const dataTable =\n",
              "            await google.colab.kernel.invokeFunction('convertToInteractive',\n",
              "                                                     [key], {});\n",
              "          if (!dataTable) return;\n",
              "\n",
              "          const docLinkHtml = 'Like what you see? Visit the ' +\n",
              "            '<a target=\"_blank\" href=https://colab.research.google.com/notebooks/data_table.ipynb>data table notebook</a>'\n",
              "            + ' to learn more about interactive tables.';\n",
              "          element.innerHTML = '';\n",
              "          dataTable['output_type'] = 'display_data';\n",
              "          await google.colab.output.renderOutput(dataTable, element);\n",
              "          const docLink = document.createElement('div');\n",
              "          docLink.innerHTML = docLinkHtml;\n",
              "          element.appendChild(docLink);\n",
              "        }\n",
              "      </script>\n",
              "    </div>\n",
              "  </div>\n",
              "  "
            ],
            "text/plain": [
              "        Age  Workclass  Education-Num  Marital Status  Occupation  \\\n",
              "0      39.0          7           13.0               4           1   \n",
              "1      50.0          6           13.0               2           4   \n",
              "2      38.0          4            9.0               0           6   \n",
              "3      53.0          4            7.0               2           6   \n",
              "4      28.0          4           13.0               2          10   \n",
              "...     ...        ...            ...             ...         ...   \n",
              "32556  27.0          4           12.0               2          13   \n",
              "32557  40.0          4            9.0               2           7   \n",
              "32558  58.0          4            9.0               6           1   \n",
              "32559  22.0          4            9.0               4           1   \n",
              "32560  52.0          5            9.0               2           4   \n",
              "\n",
              "       Relationship  Race  Sex  Capital Gain  Capital Loss  Hours per week  \\\n",
              "0                 0     4    1        2174.0           0.0            40.0   \n",
              "1                 4     4    1           0.0           0.0            13.0   \n",
              "2                 0     4    1           0.0           0.0            40.0   \n",
              "3                 4     2    1           0.0           0.0            40.0   \n",
              "4                 5     2    0           0.0           0.0            40.0   \n",
              "...             ...   ...  ...           ...           ...             ...   \n",
              "32556             5     4    0           0.0           0.0            38.0   \n",
              "32557             4     4    1           0.0           0.0            40.0   \n",
              "32558             1     4    0           0.0           0.0            40.0   \n",
              "32559             3     4    1           0.0           0.0            20.0   \n",
              "32560             5     4    0       15024.0           0.0            40.0   \n",
              "\n",
              "       Country  \n",
              "0           39  \n",
              "1           39  \n",
              "2           39  \n",
              "3           39  \n",
              "4            5  \n",
              "...        ...  \n",
              "32556       39  \n",
              "32557       39  \n",
              "32558       39  \n",
              "32559       39  \n",
              "32560       39  \n",
              "\n",
              "[32561 rows x 12 columns]"
            ]
          },
          "execution_count": 240,
          "metadata": {},
          "output_type": "execute_result"
        }
      ],
      "source": [
        "X"
      ]
    },
    {
      "cell_type": "code",
      "execution_count": null,
      "metadata": {
        "colab": {
          "base_uri": "https://localhost:8080/",
          "height": 437
        },
        "id": "C67SsTxuZJfc",
        "outputId": "f0306e53-5236-4a82-ca89-b63957538f26"
      },
      "outputs": [
        {
          "ename": "Exception",
          "evalue": "ignored",
          "output_type": "error",
          "traceback": [
            "\u001b[0;31m---------------------------------------------------------------------------\u001b[0m",
            "\u001b[0;31mException\u001b[0m                                 Traceback (most recent call last)",
            "\u001b[0;32m<ipython-input-233-09f62f536042>\u001b[0m in \u001b[0;36m<cell line: 1>\u001b[0;34m()\u001b[0m\n\u001b[0;32m----> 1\u001b[0;31m \u001b[0mshap\u001b[0m\u001b[0;34m.\u001b[0m\u001b[0mplots\u001b[0m\u001b[0;34m.\u001b[0m\u001b[0mwaterfall\u001b[0m\u001b[0;34m(\u001b[0m\u001b[0mshap_values\u001b[0m\u001b[0;34m[\u001b[0m\u001b[0;36m0\u001b[0m\u001b[0;34m]\u001b[0m\u001b[0;34m)\u001b[0m\u001b[0;34m\u001b[0m\u001b[0;34m\u001b[0m\u001b[0m\n\u001b[0m",
            "\u001b[0;32m/usr/local/lib/python3.9/dist-packages/shap/plots/_waterfall.py\u001b[0m in \u001b[0;36mwaterfall\u001b[0;34m(shap_values, max_display, show)\u001b[0m\n\u001b[1;32m     52\u001b[0m     \u001b[0;31m# make sure we only have a single output to explain\u001b[0m\u001b[0;34m\u001b[0m\u001b[0;34m\u001b[0m\u001b[0m\n\u001b[1;32m     53\u001b[0m     \u001b[0;32mif\u001b[0m \u001b[0;34m(\u001b[0m\u001b[0mtype\u001b[0m\u001b[0;34m(\u001b[0m\u001b[0mbase_values\u001b[0m\u001b[0;34m)\u001b[0m \u001b[0;34m==\u001b[0m \u001b[0mnp\u001b[0m\u001b[0;34m.\u001b[0m\u001b[0mndarray\u001b[0m \u001b[0;32mand\u001b[0m \u001b[0mlen\u001b[0m\u001b[0;34m(\u001b[0m\u001b[0mbase_values\u001b[0m\u001b[0;34m)\u001b[0m \u001b[0;34m>\u001b[0m \u001b[0;36m0\u001b[0m\u001b[0;34m)\u001b[0m \u001b[0;32mor\u001b[0m \u001b[0mtype\u001b[0m\u001b[0;34m(\u001b[0m\u001b[0mbase_values\u001b[0m\u001b[0;34m)\u001b[0m \u001b[0;34m==\u001b[0m \u001b[0mlist\u001b[0m\u001b[0;34m:\u001b[0m\u001b[0;34m\u001b[0m\u001b[0;34m\u001b[0m\u001b[0m\n\u001b[0;32m---> 54\u001b[0;31m         raise Exception(\"waterfall_plot requires a scalar base_values of the model output as the first \"\n\u001b[0m\u001b[1;32m     55\u001b[0m                         \u001b[0;34m\"parameter, but you have passed an array as the first parameter! \"\u001b[0m\u001b[0;34m\u001b[0m\u001b[0;34m\u001b[0m\u001b[0m\n\u001b[1;32m     56\u001b[0m                         \u001b[0;34m\"Try shap.waterfall_plot(explainer.base_values[0], values[0], X[0]) or \"\u001b[0m\u001b[0;34m\u001b[0m\u001b[0;34m\u001b[0m\u001b[0m\n",
            "\u001b[0;31mException\u001b[0m: waterfall_plot requires a scalar base_values of the model output as the first parameter, but you have passed an array as the first parameter! Try shap.waterfall_plot(explainer.base_values[0], values[0], X[0]) or for multi-output models try shap.waterfall_plot(explainer.base_values[0], values[0][0], X[0])."
          ]
        }
      ],
      "source": [
        "shap.plots.waterfall(shap_values[0])"
      ]
    },
    {
      "cell_type": "code",
      "execution_count": null,
      "metadata": {
        "colab": {
          "base_uri": "https://localhost:8080/",
          "height": 835
        },
        "id": "EI0r6pnZZJ_Y",
        "outputId": "55aee8a8-c052-46eb-ae4f-195a69ff48ce"
      },
      "outputs": [
        {
          "name": "stdout",
          "output_type": "stream",
          "text": [
            "  Subgroup Name  Count\n",
            "0         black   1298\n",
            "1         other    763\n",
            "2         white  13174\n"
          ]
        },
        {
          "data": {
            "image/png": "[encoded data removed]",
            "text/plain": [
              "<Figure size 1600x400 with 1 Axes>"
            ]
          },
          "metadata": {},
          "output_type": "display_data"
        },
        {
          "name": "stdout",
          "output_type": "stream",
          "text": [
            "     Subgroup Name  Count\n",
            "0         dontknow    133\n",
            "1          illegal   6293\n",
            "2  illegalillegal8   8156\n",
            "3            legal    630\n",
            "4         noanswer     23\n"
          ]
        },
        {
          "data": {
            "image/png": "[encoded data removed]",
            "text/plain": [
              "<Figure size 1600x400 with 1 Axes>"
            ]
          },
          "metadata": {},
          "output_type": "display_data"
        },
        {
          "name": "stdout",
          "output_type": "stream",
          "text": [
            "  Subgroup Name  Count\n",
            "0        female   7981\n",
            "1          male   7254\n"
          ]
        },
        {
          "data": {
            "image/png": "[encoded data removed]",
            "text/plain": [
              "<Figure size 1600x400 with 1 Axes>"
            ]
          },
          "metadata": {},
          "output_type": "display_data"
        }
      ],
      "source": [
        "for attr in result_df_dict:\n",
        "    print(result_df_dict[attr][['Subgroup Name', 'Count']])\n",
        "    draw_plot(result_df_dict[attr], attr)"
      ]
    },
    {
      "cell_type": "code",
      "execution_count": null,
      "metadata": {
        "id": "NbxU98bN0H43"
      },
      "outputs": [],
      "source": [
        "for attr in result_df_dict:\n",
        "    print(result_df_dict[attr][['Subgroup Name', 'Count']])\n",
        "    draw_plot(result_df_dict[attr], attr)"
      ]
    },
    {
      "cell_type": "code",
      "execution_count": null,
      "metadata": {
        "id": "mJBreOB0cPbw"
      },
      "outputs": [],
      "source": [
        "for attr in result_df_dict:\n",
        "    print(result_df_dict[attr])"
      ]
    },
    {
      "cell_type": "code",
      "execution_count": null,
      "metadata": {
        "id": "T4B__CWvROIz"
      },
      "outputs": [],
      "source": [
        "def draw_plot(result_df, name):\n",
        "    rownames = result_df['Subgroup Name'].values\n",
        "    vals = result_df.drop(['Subgroup Name', 'Count'], axis=1)\n",
        "\n",
        "    x = np.arange(len(rownames))  # convert range to numpy array\n",
        "    width = len(x) \n",
        "    multiplier = 0\n",
        "\n",
        "    fig, ax = plt.subplots(figsize=(16, 4),layout='constrained')\n",
        "\n",
        "    tick_locations = []\n",
        "\n",
        "    for attribute, measurement in vals.items():\n",
        "        # print(measurement)\n",
        "        offset = width * 2 * multiplier\n",
        "        # print(x *10 + offset)\n",
        "        loc = x * width * 2 + offset\n",
        "        tick_locations += loc.tolist()\n",
        "        rects = ax.bar(x * width * 2 + offset, measurement, width, label=attribute)\n",
        "        # print(rects)\n",
        "        ax.bar_label(rects, labels=[f\"{round(h, 2)}\" for h in measurement], padding=3)\n",
        "        multiplier += width * 1.25\n",
        "        if multiplier == 1:\n",
        "            break\n",
        "\n",
        "    ax.set_ylabel('ASR')\n",
        "    ax.set_title(f'Disparate Vulnerability {name}')\n",
        "    ax.set_xticks(tick_locations, rownames.tolist() * vals.shape[1], rotation=90)  # add half width to center the ticks\n",
        "    ax.legend(loc='upper left', ncol=3, bbox_to_anchor=(0, 1.5))\n",
        "    ax.set_ylim(0, 1)\n",
        "\n",
        "    plt.show()"
      ]
    },
    {
      "cell_type": "code",
      "execution_count": null,
      "metadata": {
        "id": "cMbPFnxo67rn"
      },
      "outputs": [],
      "source": [
        "attack_df.shape"
      ]
    },
    {
      "cell_type": "code",
      "execution_count": null,
      "metadata": {
        "id": "K7J1UbzKuFTj"
      },
      "outputs": [],
      "source": [
        "for attr in result_df_dict:\n",
        "    print(result_df_dict[attr][['Subgroup Name', 'Count']])\n",
        "    draw_plot(result_df_dict[attr], attr)"
      ]
    },
    {
      "cell_type": "code",
      "execution_count": null,
      "metadata": {
        "id": "Dg5WTjzls5mF"
      },
      "outputs": [],
      "source": [
        "for attr in result_df_dict:\n",
        "    draw_plot(result_df_dict[attr], attr)"
      ]
    },
    {
      "cell_type": "code",
      "execution_count": null,
      "metadata": {
        "id": "NVDG80p2hEAP"
      },
      "outputs": [],
      "source": [
        "predicted_sensitive_attributes = attack_model.predict(X)\n",
        "accuracy = sum(predicted_sensitive_attributes == y) / len(y)\n",
        "print(\"Attack model accuracy:\", accuracy)"
      ]
    },
    {
      "cell_type": "code",
      "execution_count": null,
      "metadata": {
        "id": "8otkjs2bUjkQ"
      },
      "outputs": [],
      "source": [
        "attack_success_rates = []\n",
        "\n",
        "for idx, indices in enumerate([male_indices, female_indices]):\n",
        "    X_subset = X[indices].copy()\n",
        "    Y_subset = y[indices].copy()\n",
        "\n",
        "    # X_subset['income'] = 0\n",
        "    predicted_sensitive_attributes = attack_model.predict(X_subset)\n",
        "    correct_indices_0 = (predicted_sensitive_attributes == Y_subset).to_numpy()\n",
        "\n",
        "    # X_subset['income'] = 1 - X_subset['income']\n",
        "    X_subset['sex_Male'] = 1 - X_subset['sex_Male']\n",
        "    X_subset['sex_Female'] = 1 - X_subset['sex_Female']\n",
        "    predicted_sensitive_attributes = attack_model.predict(X_subset)\n",
        "    correct_indices_1 = (predicted_sensitive_attributes == Y_subset).to_numpy()\n",
        "\n",
        "    accuracy = sum(predicted_sensitive_attributes == Y_subset) / len(Y_subset)\n",
        "    attack_success_rates.append(accuracy)\n",
        "    # print(\"Attack model accuracy:\", accuracy)\n",
        "\n",
        "    \n"
      ]
    },
    {
      "cell_type": "code",
      "execution_count": null,
      "metadata": {
        "id": "B3_8gKTkj6Bc"
      },
      "outputs": [],
      "source": [
        "male_indices = (X['sex_Male'] == 1).to_numpy()\n",
        "female_indices = (X['sex_Female'] == 1).to_numpy()"
      ]
    },
    {
      "cell_type": "code",
      "execution_count": null,
      "metadata": {
        "id": "bHQHWagYtEQw"
      },
      "outputs": [],
      "source": [
        "high_income_indices = (X['income']==1).to_numpy()\n",
        "low_income_indices = (X['income']==0).to_numpy()"
      ]
    },
    {
      "cell_type": "code",
      "execution_count": null,
      "metadata": {
        "id": "kbaYs3O3u35z"
      },
      "outputs": [],
      "source": [
        "married_indices = (y==1).to_numpy()\n",
        "single_indices = (y==0).to_numpy()"
      ]
    },
    {
      "cell_type": "code",
      "execution_count": null,
      "metadata": {
        "id": "RTme4j14vJ3l"
      },
      "outputs": [],
      "source": [
        "np.logical_and(female_indices, np.logical_or(np.logical_and(married_indices, high_income_indices), np.logical_and(single_indices, low_income_indices))).sum()/female_indices.sum()"
      ]
    },
    {
      "cell_type": "code",
      "execution_count": null,
      "metadata": {
        "id": "MnzolmstvWMZ"
      },
      "outputs": [],
      "source": [
        "np.logical_and(male_indices, np.logical_or(np.logical_and(married_indices, high_income_indices), np.logical_and(single_indices, low_income_indices))).sum()/male_indices.sum()"
      ]
    },
    {
      "cell_type": "code",
      "execution_count": null,
      "metadata": {
        "id": "51jygvcLnfG6"
      },
      "outputs": [],
      "source": [
        "np.logical_and(female_indices, low_income_indices).sum()/female_indices.sum()"
      ]
    },
    {
      "cell_type": "code",
      "execution_count": null,
      "metadata": {
        "id": "YmkcdZhmt_L7"
      },
      "outputs": [],
      "source": [
        "np.logical_and(male_indices, low_income_indices).sum()/male_indices.sum()"
      ]
    },
    {
      "cell_type": "code",
      "execution_count": null,
      "metadata": {
        "id": "LxUIIZfYlOqM"
      },
      "outputs": [],
      "source": [
        "X[male_indices]"
      ]
    },
    {
      "cell_type": "code",
      "execution_count": null,
      "metadata": {
        "id": "5glkHTYNkW8_"
      },
      "outputs": [],
      "source": [
        "attack_success_rates = []\n",
        "\n",
        "for indices in [male_indices, female_indices]:\n",
        "    predicted_sensitive_attributes = attack_model.predict(X[indices])\n",
        "    accuracy = sum(predicted_sensitive_attributes == y[indices]) / len(y[indices])\n",
        "    attack_success_rates.append(accuracy)\n",
        "    # print(\"Attack model accuracy:\", accuracy)"
      ]
    },
    {
      "cell_type": "code",
      "execution_count": null,
      "metadata": {
        "id": "Hmr8cYx2sHhY"
      },
      "outputs": [],
      "source": [
        "import matplotlib.pyplot as plt\n",
        "\n",
        "# Create the data\n",
        "subgroups = [\"Male\", \"Female\"]\n",
        "\n",
        "\n",
        "# Create the bar plot\n",
        "plt.bar(subgroups, attack_success_rates)\n",
        "\n",
        "for i, rate in enumerate(attack_success_rates):\n",
        "    plt.text(i, rate + 0.01, f\"{rate:.2f}\", ha=\"center\")\n",
        "\n",
        "# Set the labels\n",
        "plt.xlabel(\"Subgroup\")\n",
        "plt.ylabel(\"Attack Success Rate\")\n",
        "plt.ylim(0, np.max(attack_success_rates) + 0.2)\n",
        "plt.title(\"Bar Plot of Attack Success Rates by Subgroup\")\n",
        "\n",
        "# Show the plot\n",
        "plt.show()"
      ]
    },
    {
      "cell_type": "code",
      "execution_count": null,
      "metadata": {
        "id": "H-gd66mR553m"
      },
      "outputs": [],
      "source": [
        "attack_success_rates = []\n",
        "\n",
        "for idx, indices in enumerate([male_indices, female_indices]):\n",
        "    X_subset = X[indices].copy()\n",
        "    Y_subset = y[indices].copy()\n",
        "\n",
        "    # X_subset['income'] = 0\n",
        "    predicted_sensitive_attributes = attack_model.predict(X_subset)\n",
        "    correct_indices_0 = (predicted_sensitive_attributes == Y_subset).to_numpy()\n",
        "\n",
        "    # X_subset['income'] = 1 - X_subset['income']\n",
        "    X_subset['sex_Male'] = 1 - X_subset['sex_Male']\n",
        "    X_subset['sex_Female'] = 1 - X_subset['sex_Female']\n",
        "    predicted_sensitive_attributes = attack_model.predict(X_subset)\n",
        "    correct_indices_1 = (predicted_sensitive_attributes == Y_subset).to_numpy()\n",
        "\n",
        "    accuracy = sum(predicted_sensitive_attributes == Y_subset) / len(Y_subset)\n",
        "    attack_success_rates.append(accuracy)\n",
        "    # print(\"Attack model accuracy:\", accuracy)\n"
      ]
    },
    {
      "cell_type": "code",
      "execution_count": null,
      "metadata": {
        "id": "d12CGnmm6KX0"
      },
      "outputs": [],
      "source": [
        "import matplotlib.pyplot as plt\n",
        "\n",
        "# Create the data\n",
        "subgroups = [\"Male Records\\n With Gender Flipped\\n to Female\", \"Female Records\\n With Gender Flipped\\n to Male\"]\n",
        "\n",
        "\n",
        "# Create the bar plot\n",
        "plt.bar(subgroups, attack_success_rates)\n",
        "\n",
        "for i, rate in enumerate(attack_success_rates):\n",
        "    plt.text(i, rate + 0.01, f\"{rate:.2f}\", ha=\"center\")\n",
        "\n",
        "# Set the labels\n",
        "plt.xlabel(\"Subgroup\")\n",
        "plt.ylabel(\"Attack Success Rate\")\n",
        "plt.ylim(0, np.max(attack_success_rates) + 0.2)\n",
        "plt.title(\"Bar Plot of Attack Success Rates by Subgroup\")\n",
        "\n",
        "# Show the plot\n",
        "plt.show()"
      ]
    },
    {
      "cell_type": "code",
      "execution_count": null,
      "metadata": {
        "id": "NhgIWUHYl9Eh"
      },
      "outputs": [],
      "source": [
        "attack_success_rates = []\n",
        "for idx, indices in enumerate([male_indices, female_indices]):\n",
        "    X_subset = X[indices].copy()\n",
        "    Y_subset = y[indices].copy()\n",
        "\n",
        "    # X_subset['income'] = 0\n",
        "    predicted_sensitive_attributes = attack_model.predict(X_subset)\n",
        "    correct_indices_0 = (predicted_sensitive_attributes == Y_subset).to_numpy()\n",
        "\n",
        "    X_subset['income'] = 1 - X_subset['income']\n",
        "    # X_subset['sex_Male'] = 1 - X_subset['sex_Male']\n",
        "    # X_subset['sex_Female'] = 1 - X_subset['sex_Female']\n",
        "    predicted_sensitive_attributes = attack_model.predict(X_subset)\n",
        "    correct_indices_1 = (predicted_sensitive_attributes == Y_subset).to_numpy()\n",
        "\n",
        "    accuracy = sum(predicted_sensitive_attributes == Y_subset) / len(Y_subset)\n",
        "    # print(\"Attack model accuracy:\", accuracy)\n",
        "    attack_success_rates.append(accuracy)"
      ]
    },
    {
      "cell_type": "code",
      "execution_count": null,
      "metadata": {
        "id": "-doilrko6pib"
      },
      "outputs": [],
      "source": [
        "import matplotlib.pyplot as plt\n",
        "\n",
        "# Create the data\n",
        "subgroups = [\"Male Records\\n With Income Flipped\\n from Orig. Value\", \"Female Records\\n With Income Flipped\\n from Orig. Value\"]\n",
        "\n",
        "# Create the bar plot\n",
        "plt.bar(subgroups, attack_success_rates)\n",
        "\n",
        "for i, rate in enumerate(attack_success_rates):\n",
        "    plt.text(i, rate + 0.01, f\"{rate:.2f}\", ha=\"center\")\n",
        "\n",
        "# Set the labels\n",
        "plt.xlabel(\"Subgroup\")\n",
        "plt.ylabel(\"Attack Success Rate\")\n",
        "plt.ylim(0, np.max(attack_success_rates) + 0.2)\n",
        "plt.title(\"Bar Plot of Attack Success Rates by Subgroup\")\n",
        "\n",
        "# Show the plot\n",
        "plt.show()"
      ]
    },
    {
      "cell_type": "code",
      "execution_count": null,
      "metadata": {
        "id": "ll2AYhOEooBi"
      },
      "outputs": [],
      "source": [
        "correct_indices_inverted.to_numpy()"
      ]
    },
    {
      "cell_type": "code",
      "execution_count": null,
      "metadata": {
        "id": "rGfAffqswjXT"
      },
      "outputs": [],
      "source": [
        "import random"
      ]
    },
    {
      "cell_type": "code",
      "execution_count": null,
      "metadata": {
        "id": "X5boBVrZulXP"
      },
      "outputs": [],
      "source": [
        "idx = random.randInt()\n",
        "record = X.iloc[]"
      ]
    },
    {
      "cell_type": "code",
      "execution_count": null,
      "metadata": {
        "id": "szGcFxYswuX1"
      },
      "outputs": [],
      "source": []
    },
    {
      "cell_type": "code",
      "execution_count": null,
      "metadata": {
        "id": "wZt5TZDzy15A"
      },
      "outputs": [],
      "source": [
        "for i in range(100):\n",
        "    for group in ['sex', 'race', 'work', 'occupation']:\n",
        "        idx = 52\n",
        "        print(attack_model.predict([X.loc[idx]]))\n",
        "\n",
        "        group_columns = [c for c in X.columns if c.startswith(group)]\n",
        "        max_column = np.random.choice(X[group_columns].idxmax(axis=1))\n",
        "        X.loc[idx, group_columns] = 0\n",
        "        X.loc[idx, max_column] = 1\n",
        "        print(attack_model.predict([X.loc[idx]]))\n"
      ]
    },
    {
      "cell_type": "code",
      "execution_count": null,
      "metadata": {
        "id": "ewlPBI5w2NVh"
      },
      "outputs": [],
      "source": [
        "print(attack_model.predict([X.loc[idx]]))"
      ]
    }
  ],
  "metadata": {
    "colab": {
      "provenance": []
    },
    "gpuClass": "standard",
    "kernelspec": {
      "display_name": "Python 3",
      "name": "python3"
    },
    "language_info": {
      "codemirror_mode": {
        "name": "ipython",
        "version": 3
      },
      "file_extension": ".py",
      "mimetype": "text/x-python",
      "name": "python",
      "nbconvert_exporter": "python",
      "pygments_lexer": "ipython3",
      "version": "3.9.16"
    }
  },
  "nbformat": 4,
  "nbformat_minor": 0
}

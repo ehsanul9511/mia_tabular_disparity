{
 "cells": [
  {
   "attachments": {},
   "cell_type": "markdown",
   "metadata": {},
   "source": [
    "# Load Library"
   ]
  },
  {
   "cell_type": "code",
   "execution_count": 1,
   "metadata": {
    "tags": []
   },
   "outputs": [
    {
     "name": "stderr",
     "output_type": "stream",
     "text": [
      "/Users/ehsanulkabir/miniconda/envs/tabular/lib/python3.9/site-packages/tqdm/auto.py:21: TqdmWarning: IProgress not found. Please update jupyter and ipywidgets. See https://ipywidgets.readthedocs.io/en/stable/user_install.html\n",
      "  from .autonotebook import tqdm as notebook_tqdm\n"
     ]
    }
   ],
   "source": [
    "from tqdm import tqdm\n",
    "import os\n",
    "import data_utils\n",
    "import model_utils\n",
    "from model_utils import train_torch_model, test_torch_model, port_mlp_to_ch, port_ch_to_mlp, proxy_train_mlp\n",
    "from data_utils import oneHotCatVars\n",
    "from whitebox_attack import neuron_output, make_neuron_output_data, roc_curve_plot, get_LOMIA_case_1_correct_examples, Top10CorrNeurons, wb_corr_attacks\n",
    "from disparate_vulnerability_utils import get_accuracy, get_indices_by_conditions, subgroup_vulnerability_distance_vector, subgroup_vulnerability_distance, get_subgroup_disparity, plot_subgroup_disparity, improved_subgroup_attack, get_subgroup_disparity_baseline, get_top_dist_indices\n",
    "import shap\n",
    "import numpy as np\n",
    "import pandas as pd\n",
    "import torch\n",
    "import torch.nn as nn\n",
    "from sklearn.preprocessing import OneHotEncoder\n",
    "from sklearn.neural_network._base import ACTIVATIONS\n",
    "from sklearn.model_selection import train_test_split\n",
    "from sklearn.metrics.pairwise import euclidean_distances\n",
    "from sklearn.metrics import roc_curve, auc, roc_auc_score\n",
    "from sklearn.decomposition import PCA\n",
    "from sklearn.inspection import permutation_importance\n",
    "import matplotlib.pyplot as plt\n",
    "import tabulate\n",
    "# import utils"
   ]
  },
  {
   "attachments": {},
   "cell_type": "markdown",
   "metadata": {},
   "source": [
    "# Load Data"
   ]
  },
  {
   "cell_type": "code",
   "execution_count": 69,
   "metadata": {
    "tags": []
   },
   "outputs": [],
   "source": [
    "subgroup_col_name = 'RAC1P'\n",
    "split_ratio_first_subgroup = 0.5\n",
    "\n",
    "sampling_condition_dict_list = [\n",
    "    {\n",
    "        'condition': lambda x: x[subgroup_col_name] < 2,\n",
    "        'sample_size': round(split_ratio_first_subgroup * 100000),\n",
    "    },\n",
    "    {\n",
    "        'condition': lambda x: x[subgroup_col_name] == 3,\n",
    "        'sample_size': round(split_ratio_first_subgroup * 100000),\n",
    "    },\n",
    "]\n",
    "\n",
    "# ds = data_utils.CensusWrapper(\n",
    "#             filter_prop=\"none\", ratio=float(0.5), split=\"all\", name=\"Census19\")\n",
    "\n",
    "ds = data_utils.CensusWrapper(\n",
    "            filter_prop=\"none\", ratio=float(0.5), split=\"all\", name=\"Census19\", sampling_condition_dict_list=sampling_condition_dict_list, sensitive_column='DEAR')\n",
    "(x_tr, y_tr), (x_te, y_te), cols = ds.load_data()\n",
    "X_train = pd.DataFrame(x_tr, columns=cols)\n",
    "y_tr_onehot = ds.ds.y_enc.transform(y_tr).toarray()\n",
    "\n",
    "\n",
    "# ds.ds.filenameroot = ds.ds.name\n",
    "ds.ds.filenameroot = ds.ds.name + f\"_{subgroup_col_name}_{round(100*split_ratio_first_subgroup)}_{round(100*(1-split_ratio_first_subgroup))}_minority_categorized\""
   ]
  },
  {
   "attachments": {},
   "cell_type": "markdown",
   "metadata": {},
   "source": [
    "# Load and Train Target Model"
   ]
  },
  {
   "cell_type": "code",
   "execution_count": 70,
   "metadata": {
    "tags": []
   },
   "outputs": [],
   "source": [
    "save_model = True\n",
    "\n",
    "try:\n",
    "    clf = model_utils.load_model(f'<PATH_TO_MODEL>/{ds.ds.filenameroot}_target_model.pkl')\n",
    "except:\n",
    "    # clf = model_utils.get_model(max_iter=500, hidden_layer_sizes=(256, 256))\n",
    "    clf = model_utils.get_model(max_iter=500)\n",
    "    clf.fit(X_train, y_tr_onehot)\n",
    "\n",
    "    if save_model:\n",
    "        model_utils.save_model(clf, f'<PATH_TO_MODEL>/{ds.ds.filenameroot}_target_model.pkl')"
   ]
  },
  {
   "attachments": {},
   "cell_type": "markdown",
   "metadata": {},
   "source": [
    "# Train Multiple Target Models with various hyperparameters to have various degrees of overfitting\n"
   ]
  },
  {
   "cell_type": "code",
   "execution_count": 37,
   "metadata": {},
   "outputs": [
    {
     "name": "stderr",
     "output_type": "stream",
     "text": [
      "X does not have valid feature names, but MLPClassifier was fitted with feature names\n",
      "X does not have valid feature names, but MLPClassifier was fitted with feature names\n"
     ]
    },
    {
     "name": "stdout",
     "output_type": "stream",
     "text": [
      "Overfit Level: 0, Train Accuracy: 85.92%, Test Accuracy: 84.48%\n",
      "Overfit Level: 1, Train Accuracy: 87.67%, Test Accuracy: 83.76%\n"
     ]
    },
    {
     "name": "stderr",
     "output_type": "stream",
     "text": [
      "X does not have valid feature names, but MLPClassifier was fitted with feature names\n",
      "X does not have valid feature names, but MLPClassifier was fitted with feature names\n"
     ]
    },
    {
     "name": "stdout",
     "output_type": "stream",
     "text": [
      "Overfit Level: 2, Train Accuracy: 89.13%, Test Accuracy: 83.26%\n",
      "Overfit Level: 3, Train Accuracy: 89.25%, Test Accuracy: 82.88%\n"
     ]
    },
    {
     "name": "stderr",
     "output_type": "stream",
     "text": [
      "X does not have valid feature names, but MLPClassifier was fitted with feature names\n"
     ]
    },
    {
     "name": "stdout",
     "output_type": "stream",
     "text": [
      "Overfit Level: 4, Train Accuracy: 89.76%, Test Accuracy: 82.95%\n"
     ]
    },
    {
     "name": "stderr",
     "output_type": "stream",
     "text": [
      "X does not have valid feature names, but MLPClassifier was fitted with feature names\n"
     ]
    },
    {
     "name": "stdout",
     "output_type": "stream",
     "text": [
      "Overfit Level: 5, Train Accuracy: 90.49%, Test Accuracy: 82.83%\n"
     ]
    },
    {
     "name": "stderr",
     "output_type": "stream",
     "text": [
      "X does not have valid feature names, but MLPClassifier was fitted with feature names\n"
     ]
    },
    {
     "name": "stdout",
     "output_type": "stream",
     "text": [
      "Overfit Level: 6, Train Accuracy: 90.17%, Test Accuracy: 82.89%\n"
     ]
    },
    {
     "name": "stderr",
     "output_type": "stream",
     "text": [
      "X does not have valid feature names, but MLPClassifier was fitted with feature names\n"
     ]
    },
    {
     "name": "stdout",
     "output_type": "stream",
     "text": [
      "Overfit Level: 7, Train Accuracy: 91.01%, Test Accuracy: 82.60%\n"
     ]
    },
    {
     "name": "stderr",
     "output_type": "stream",
     "text": [
      "X does not have valid feature names, but MLPClassifier was fitted with feature names\n"
     ]
    },
    {
     "name": "stdout",
     "output_type": "stream",
     "text": [
      "Overfit Level: 8, Train Accuracy: 90.84%, Test Accuracy: 82.14%\n",
      "Overfit Level: 9, Train Accuracy: 91.36%, Test Accuracy: 82.00%\n"
     ]
    },
    {
     "name": "stderr",
     "output_type": "stream",
     "text": [
      "X does not have valid feature names, but MLPClassifier was fitted with feature names\n"
     ]
    }
   ],
   "source": [
    "hidden_layer_size_tuples = [(32* i, 16 *i, 8*i) for i in range(1, 11)]\n",
    "clfs = {}\n",
    "load_models = True\n",
    "save_models = False\n",
    "\n",
    "for i, hidden_layer_size_tuple in enumerate(hidden_layer_size_tuples):\n",
    "    # Train Target Model\n",
    "    if load_models:\n",
    "        clf = model_utils.load_model(f'<PATH_TO_MODEL>/{ds.ds.name}_target_model_overfit_level_{i}.pkl')\n",
    "    else:\n",
    "        clf = model_utils.get_model(hidden_layer_sizes=hidden_layer_size_tuple, max_iter=500)\n",
    "        clf.fit(X_train, y_tr_onehot)\n",
    "\n",
    "    # Save Target Model\n",
    "    if save_models:\n",
    "        model_utils.save_model(clf, f'<PATH_TO_MODEL>/{ds.ds.name}_target_model_overfit_level_{i}.pkl')\n",
    "\n",
    "    # Evaluate Target Model\n",
    "    y_pred = clf.predict(X_train)\n",
    "\n",
    "    train_acc = 100 * clf.score(X_train, ds.ds.y_enc.transform(y_tr).toarray())\n",
    "    test_acc = 100 * clf.score(x_te, ds.ds.y_enc.transform(y_te).toarray())\n",
    "\n",
    "    print(f\"Overfit Level: {i}, Train Accuracy: {train_acc:.2f}%, Test Accuracy: {test_acc:.2f}%\")\n",
    "\n",
    "    clfs[i] = clf"
   ]
  },
  {
   "cell_type": "code",
   "execution_count": 38,
   "metadata": {},
   "outputs": [],
   "source": [
    "from sklearn.model_selection import cross_val_score\n",
    "\n",
    "cross_val_score(clf, X_train, y_tr_onehot, cv=5)"
   ]
  },
  {
   "attachments": {},
   "cell_type": "markdown",
   "metadata": {},
   "source": [
    "# Test Target Model"
   ]
  },
  {
   "cell_type": "code",
   "execution_count": 16,
   "metadata": {
    "tags": []
   },
   "outputs": [
    {
     "name": "stdout",
     "output_type": "stream",
     "text": [
      "Classifier: Train acc 90.50 , Test acc 86.72\n",
      "\n"
     ]
    },
    {
     "name": "stderr",
     "output_type": "stream",
     "text": [
      "X does not have valid feature names, but MLPClassifier was fitted with feature names\n"
     ]
    }
   ],
   "source": [
    "# train_acc = 100 * clf.score(x_tr, y_tr.ravel())\n",
    "# test_acc = 100 * clf.score(x_te, y_te.ravel())\n",
    "train_acc = 100 * clf.score(X_train, ds.ds.y_enc.transform(y_tr).toarray())\n",
    "test_acc = 100 * clf.score(x_te, ds.ds.y_enc.transform(y_te).toarray())\n",
    "if True:\n",
    "    print(\"Classifier: Train acc %.2f , Test acc %.2f\\n\" %\n",
    "            (train_acc, test_acc))"
   ]
  },
  {
   "cell_type": "code",
   "execution_count": 66,
   "metadata": {},
   "outputs": [
    {
     "name": "stdout",
     "output_type": "stream",
     "text": [
      "              precision    recall  f1-score   support\n",
      "\n",
      "           0       0.89      0.94      0.91     41350\n",
      "           1       0.59      0.44      0.50      8650\n",
      "\n",
      "    accuracy                           0.85     50000\n",
      "   macro avg       0.74      0.69      0.71     50000\n",
      "weighted avg       0.84      0.85      0.84     50000\n",
      "\n"
     ]
    },
    {
     "name": "stderr",
     "output_type": "stream",
     "text": [
      "X does not have valid feature names, but MLPClassifier was fitted with feature names\n"
     ]
    }
   ],
   "source": [
    "# calculate classification report\n",
    "from sklearn.metrics import classification_report\n",
    "y_pred = clf.predict(x_te)\n",
    "y_pred = np.argmax(y_pred, axis=1)\n",
    "y_true = y_te\n",
    "print(classification_report(y_true, y_pred))"
   ]
  },
  {
   "attachments": {},
   "cell_type": "markdown",
   "metadata": {},
   "source": [
    "# Calculate Permutation Importance"
   ]
  },
  {
   "cell_type": "code",
   "execution_count": 16,
   "metadata": {},
   "outputs": [],
   "source": [
    "X_te = pd.DataFrame(x_te, columns=cols)"
   ]
  },
  {
   "cell_type": "code",
   "execution_count": null,
   "metadata": {},
   "outputs": [],
   "source": [
    "from sklearn.inspection import permutation_importance\n",
    "r = permutation_importance(clf, X_te, ds.ds.y_enc.transform(y_te).toarray(),\n",
    "                           n_repeats=30,\n",
    "                           random_state=0)"
   ]
  },
  {
   "cell_type": "code",
   "execution_count": 7,
   "metadata": {},
   "outputs": [],
   "source": [
    "r_train = permutation_importance(clf, X_train, ds.ds.y_enc.transform(y_tr).toarray(),\n",
    "                            n_repeats=30,\n",
    "                            random_state=0)"
   ]
  },
  {
   "cell_type": "code",
   "execution_count": null,
   "metadata": {},
   "outputs": [],
   "source": [
    "for i in r.importances_mean.argsort()[::-1]:\n",
    "    if r.importances_mean[i] - 2 * r.importances_std[i] > 0 or True:\n",
    "        print(f\"{cols[i]} \"\n",
    "              f\"{r.importances_mean[i]:.8f}\"\n",
    "              f\" +/- {r.importances_std[i]:.8f}\")"
   ]
  },
  {
   "attachments": {},
   "cell_type": "markdown",
   "metadata": {},
   "source": [
    "# Convert to PyTorch Model"
   ]
  },
  {
   "cell_type": "code",
   "execution_count": 6,
   "metadata": {},
   "outputs": [],
   "source": [
    "target_model = port_mlp_to_ch(clf)"
   ]
  },
  {
   "cell_type": "code",
   "execution_count": 7,
   "metadata": {},
   "outputs": [
    {
     "name": "stdout",
     "output_type": "stream",
     "text": [
      "tensor([[0.0148, 0.3586, 0.6266],\n",
      "        [0.0130, 0.6868, 0.3003],\n",
      "        [0.0454, 0.4080, 0.5466],\n",
      "        ...,\n",
      "        [0.0451, 0.2831, 0.6719],\n",
      "        [0.0011, 0.0353, 0.9636],\n",
      "        [0.0257, 0.6634, 0.3108]], device='mps:0', grad_fn=<SoftmaxBackward0>)\n",
      "Classifier: Test acc 0.60\n",
      "\n"
     ]
    }
   ],
   "source": [
    "y_te_onehot = ds.ds.y_enc.transform(y_te).toarray()\n",
    "test_acc = test_torch_model(target_model, x_te, y_te_onehot)\n",
    "print(\"Classifier: Test acc %.2f\\n\" % (test_acc))"
   ]
  },
  {
   "cell_type": "code",
   "execution_count": 7,
   "metadata": {},
   "outputs": [],
   "source": [
    "clf = model_utils.get_model(max_iter=500)\n",
    "clf.partial_fit(X_train, y_tr_onehot, classes=np.unique(y_tr))\n",
    "clf = port_ch_to_mlp(target_model, clf)"
   ]
  },
  {
   "cell_type": "code",
   "execution_count": 8,
   "metadata": {},
   "outputs": [
    {
     "name": "stderr",
     "output_type": "stream",
     "text": [
      "Stochastic Optimizer: Maximum iterations (1) reached and the optimization hasn't converged yet.\n"
     ]
    }
   ],
   "source": [
    "clf = proxy_train_mlp(x_tr, y_tr_onehot)"
   ]
  },
  {
   "attachments": {},
   "cell_type": "markdown",
   "metadata": {},
   "source": [
    "# LOMIA Attack"
   ]
  },
  {
   "cell_type": "code",
   "execution_count": 71,
   "metadata": {},
   "outputs": [
    {
     "name": "stderr",
     "output_type": "stream",
     "text": [
      "100%|██████████| 50000/50000 [01:27<00:00, 570.46it/s]\n"
     ]
    }
   ],
   "source": [
    "attack_dataset = model_utils.LOMIA_attack(clf, X_train, y_tr, ds.ds.meta)"
   ]
  },
  {
   "cell_type": "code",
   "execution_count": 72,
   "metadata": {},
   "outputs": [],
   "source": [
    "attack_df = pd.concat(attack_dataset)\n",
    "attack_df[ds.ds.meta['y_column']] = attack_df[ds.ds.meta['y_column']].apply(lambda x: ds.ds.meta['y_values'][x])"
   ]
  },
  {
   "cell_type": "code",
   "execution_count": 73,
   "metadata": {
    "tags": []
   },
   "outputs": [],
   "source": [
    "attack_df.to_csv(f'<PATH_TO_DATASET>/{ds.ds.filenameroot}_LOMIA_attack_{ds.ds.meta[\"sensitive_column\"]}.csv')"
   ]
  },
  {
   "attachments": {},
   "cell_type": "markdown",
   "metadata": {},
   "source": [
    "# Load Attack Data"
   ]
  },
  {
   "cell_type": "code",
   "execution_count": 74,
   "metadata": {
    "tags": []
   },
   "outputs": [],
   "source": [
    "attack_df = pd.read_csv(f'<PATH_TO_DATASET>/{ds.ds.filenameroot}_LOMIA_attack_{ds.ds.meta[\"sensitive_column\"]}.csv')\n",
    "attack_df.index = attack_df['Unnamed: 0']\n",
    "attack_df.index.name = None\n",
    "attack_df = attack_df.drop('Unnamed: 0', axis=1)"
   ]
  },
  {
   "cell_type": "code",
   "execution_count": 75,
   "metadata": {
    "tags": []
   },
   "outputs": [],
   "source": [
    "# Split the DataFrame into input and output variables\n",
    "X_attack = attack_df.drop([f'{ds.ds.meta[\"sensitive_column\"]}_{val}' for val in ds.ds.meta['sensitive_values']], axis=1) \n",
    "X_attack = oneHotCatVars(X_attack, ds.ds.meta['y_column'])\n",
    "y_attack = attack_df[[ f'{ds.ds.meta[\"sensitive_column\"]}_{ds.ds.meta[\"sensitive_positive\"]}']]\n",
    "# y_attack_onehot, att_enc = onehot(y_attack.to_numpy())\n",
    "y_attack_onehot = ds.ds.sensitive_enc.transform(y_attack.to_numpy()).toarray()"
   ]
  },
  {
   "attachments": {},
   "cell_type": "markdown",
   "metadata": {},
   "source": [
    "# Train Attack Model"
   ]
  },
  {
   "cell_type": "code",
   "execution_count": 76,
   "metadata": {
    "tags": []
   },
   "outputs": [],
   "source": [
    "attack_clf = model_utils.get_model(max_iter=500)"
   ]
  },
  {
   "cell_type": "code",
   "execution_count": 77,
   "metadata": {
    "tags": []
   },
   "outputs": [],
   "source": [
    "attack_clf.fit(X_attack, y_attack_onehot)\n",
    "model_utils.save_model(attack_clf, f'<PATH_TO_MODEL>/{ds.ds.filenameroot}_LOMIA_attack_{ds.ds.meta[\"sensitive_column\"]}_model.pkl')"
   ]
  },
  {
   "cell_type": "code",
   "execution_count": 91,
   "metadata": {},
   "outputs": [],
   "source": [
    "all_sensitive_columns = ['MAR', 'DEAR', 'DEYE', 'DREM', 'DPHY']\n",
    "\n",
    "aucs, recalls = {}, {}\n",
    "\n",
    "for sensitive_column in all_sensitive_columns:\n",
    "    temp_ds = data_utils.CensusWrapper(\n",
    "            filter_prop=\"none\", ratio=float(0.5), split=\"all\", name=\"Census19\", sampling_condition_dict_list=sampling_condition_dict_list, sensitive_column=sensitive_column)\n",
    "    temp_ds.ds.filenameroot = temp_ds.ds.name + f\"_{subgroup_col_name}_{round(100*split_ratio_first_subgroup)}_{round(100*(1-split_ratio_first_subgroup))}_minority_categorized\"\n",
    "    X, y = temp_ds.ds.get_attack_df()\n",
    "\n",
    "    X = X.astype(float)\n",
    "\n",
    "    subgroup_columns = ['RAC1P']\n",
    "\n",
    "    attack_clf = model_utils.load_model(f'<PATH_TO_MODEL>/{temp_ds.ds.filenameroot}_LOMIA_attack_{temp_ds.ds.meta[\"sensitive_column\"]}_model.pkl')\n",
    "\n",
    "    subgroup_disparity_dict = get_subgroup_disparity(temp_ds, subgroup_columns, attack_clf, X, y, metric='auc')\n",
    "\n",
    "    aucs[sensitive_column] = subgroup_disparity_dict['RAC1P']['asrs']\n",
    "\n",
    "    subgroup_disparity_dict = get_subgroup_disparity(temp_ds, subgroup_columns, attack_clf, X, y, metric='recall')\n",
    "\n",
    "    recalls[sensitive_column] = subgroup_disparity_dict['RAC1P']['asrs']\n"
   ]
  },
  {
   "attachments": {},
   "cell_type": "markdown",
   "metadata": {},
   "source": [
    "# Permutation Importance vs LOMIA Attack Performance on Different Subgroups"
   ]
  },
  {
   "cell_type": "code",
   "execution_count": 87,
   "metadata": {},
   "outputs": [],
   "source": [
    "def get_perm_imp(r):\n",
    "    result_mean, result_std = {}, {}\n",
    "    # for i in r.importances_mean.argsort()[::-1]:\n",
    "    for i in range(len(r.importances_mean)):\n",
    "        # if r.importances_mean[i] - 2 * r.importances_std[i] > 0 or True:\n",
    "        # print(i)\n",
    "        if cols[i] in all_sensitive_col_full_names:\n",
    "            # print(f\"{cols[i]} \"\n",
    "            #     f\"{r.importances_mean[i]:.8f}\"\n",
    "            #     f\" +/- {r.importances_std[i]:.8f}\")\n",
    "            result_mean[cols[i]] = r.importances_mean[i]\n",
    "            result_std[cols[i]] = r.importances_std[i]\n",
    "\n",
    "    return result_mean, result_std\n",
    "\n",
    "all_sensitive_col_full_names = [f'{col}' for col in cols.to_numpy() if col.split('_')[0] in all_sensitive_columns + ['MAR']]\n",
    "\n",
    "r_rac1ps = []\n",
    "\n",
    "for i in range(2):\n",
    "    rac1p_indices = get_indices_by_conditions(ds, X_train, {'RAC1P': i})\n",
    "    r_rac1ps.append(permutation_importance(clf, X_train.loc[rac1p_indices,:] , ds.ds.y_enc.transform(y_tr[rac1p_indices.to_numpy()]).toarray(),\n",
    "                            n_repeats=30,\n",
    "                            random_state=0))\n",
    "    \n",
    "perm_imps_race = {\n",
    "    i: get_perm_imp(r_rac1ps[i])[0] for i in range(2)\n",
    "}\n",
    "# perm_imps_race['all'] = get_perm_imp(r_train)[0]"
   ]
  },
  {
   "cell_type": "code",
   "execution_count": 88,
   "metadata": {},
   "outputs": [
    {
     "data": {
      "text/html": [
       "<div>\n",
       "<style scoped>\n",
       "    .dataframe tbody tr th:only-of-type {\n",
       "        vertical-align: middle;\n",
       "    }\n",
       "\n",
       "    .dataframe tbody tr th {\n",
       "        vertical-align: top;\n",
       "    }\n",
       "\n",
       "    .dataframe thead th {\n",
       "        text-align: right;\n",
       "    }\n",
       "</style>\n",
       "<table border=\"1\" class=\"dataframe\">\n",
       "  <thead>\n",
       "    <tr style=\"text-align: right;\">\n",
       "      <th></th>\n",
       "      <th>0</th>\n",
       "      <th>1</th>\n",
       "    </tr>\n",
       "  </thead>\n",
       "  <tbody>\n",
       "    <tr>\n",
       "      <th>MAR_0</th>\n",
       "      <td>0.008589</td>\n",
       "      <td>0.008940</td>\n",
       "    </tr>\n",
       "    <tr>\n",
       "      <th>MAR_1</th>\n",
       "      <td>0.007039</td>\n",
       "      <td>0.010989</td>\n",
       "    </tr>\n",
       "    <tr>\n",
       "      <th>DREM_0</th>\n",
       "      <td>0.000590</td>\n",
       "      <td>0.000470</td>\n",
       "    </tr>\n",
       "    <tr>\n",
       "      <th>DREM_1</th>\n",
       "      <td>0.001642</td>\n",
       "      <td>0.000964</td>\n",
       "    </tr>\n",
       "    <tr>\n",
       "      <th>DPHY_0</th>\n",
       "      <td>0.000863</td>\n",
       "      <td>0.000418</td>\n",
       "    </tr>\n",
       "    <tr>\n",
       "      <th>DPHY_1</th>\n",
       "      <td>0.002103</td>\n",
       "      <td>0.000856</td>\n",
       "    </tr>\n",
       "    <tr>\n",
       "      <th>DEAR_0</th>\n",
       "      <td>0.002086</td>\n",
       "      <td>0.000277</td>\n",
       "    </tr>\n",
       "    <tr>\n",
       "      <th>DEAR_1</th>\n",
       "      <td>0.003039</td>\n",
       "      <td>0.001106</td>\n",
       "    </tr>\n",
       "    <tr>\n",
       "      <th>DEYE_0</th>\n",
       "      <td>0.000477</td>\n",
       "      <td>0.000309</td>\n",
       "    </tr>\n",
       "    <tr>\n",
       "      <th>DEYE_1</th>\n",
       "      <td>0.001104</td>\n",
       "      <td>0.000575</td>\n",
       "    </tr>\n",
       "  </tbody>\n",
       "</table>\n",
       "</div>"
      ],
      "text/plain": [
       "               0         1\n",
       "MAR_0   0.008589  0.008940\n",
       "MAR_1   0.007039  0.010989\n",
       "DREM_0  0.000590  0.000470\n",
       "DREM_1  0.001642  0.000964\n",
       "DPHY_0  0.000863  0.000418\n",
       "DPHY_1  0.002103  0.000856\n",
       "DEAR_0  0.002086  0.000277\n",
       "DEAR_1  0.003039  0.001106\n",
       "DEYE_0  0.000477  0.000309\n",
       "DEYE_1  0.001104  0.000575"
      ]
     },
     "execution_count": 88,
     "metadata": {},
     "output_type": "execute_result"
    }
   ],
   "source": [
    "perm_imps_race_df = pd.DataFrame(perm_imps_race)\n",
    "\n",
    "# for col in ['MAR', 'DREM', 'DPHY', 'DEAR', 'DEYE']:\n",
    "#     results_race_df.loc[col] = results_race_df.loc[f'{col}_1'] / results_race_df.loc[f'{col}_0']\n",
    "\n",
    "    # results_race_df.loc[col] = results_race_df.loc[col] / results_race_df.loc[col]['all']\n",
    "\n",
    "perm_imps_race_df"
   ]
  },
  {
   "cell_type": "code",
   "execution_count": 93,
   "metadata": {},
   "outputs": [
    {
     "data": {
      "text/html": [
       "<div>\n",
       "<style scoped>\n",
       "    .dataframe tbody tr th:only-of-type {\n",
       "        vertical-align: middle;\n",
       "    }\n",
       "\n",
       "    .dataframe tbody tr th {\n",
       "        vertical-align: top;\n",
       "    }\n",
       "\n",
       "    .dataframe thead th {\n",
       "        text-align: right;\n",
       "    }\n",
       "</style>\n",
       "<table border=\"1\" class=\"dataframe\">\n",
       "  <thead>\n",
       "    <tr style=\"text-align: right;\">\n",
       "      <th></th>\n",
       "      <th>1</th>\n",
       "      <th>0</th>\n",
       "    </tr>\n",
       "  </thead>\n",
       "  <tbody>\n",
       "    <tr>\n",
       "      <th>MAR</th>\n",
       "      <td>62.363871</td>\n",
       "      <td>58.172708</td>\n",
       "    </tr>\n",
       "    <tr>\n",
       "      <th>DEAR</th>\n",
       "      <td>47.718611</td>\n",
       "      <td>47.146419</td>\n",
       "    </tr>\n",
       "    <tr>\n",
       "      <th>DEYE</th>\n",
       "      <td>45.459531</td>\n",
       "      <td>50.725307</td>\n",
       "    </tr>\n",
       "    <tr>\n",
       "      <th>DREM</th>\n",
       "      <td>59.143246</td>\n",
       "      <td>55.248223</td>\n",
       "    </tr>\n",
       "    <tr>\n",
       "      <th>DPHY</th>\n",
       "      <td>55.521323</td>\n",
       "      <td>55.488861</td>\n",
       "    </tr>\n",
       "  </tbody>\n",
       "</table>\n",
       "</div>"
      ],
      "text/plain": [
       "              1          0\n",
       "MAR   62.363871  58.172708\n",
       "DEAR  47.718611  47.146419\n",
       "DEYE  45.459531  50.725307\n",
       "DREM  59.143246  55.248223\n",
       "DPHY  55.521323  55.488861"
      ]
     },
     "execution_count": 93,
     "metadata": {},
     "output_type": "execute_result"
    }
   ],
   "source": [
    "aucs_df = pd.DataFrame(aucs, columns=['MAR', 'DEAR', 'DEYE', 'DREM', 'DPHY']).T\n",
    "\n",
    "aucs_df"
   ]
  },
  {
   "cell_type": "code",
   "execution_count": 94,
   "metadata": {},
   "outputs": [
    {
     "data": {
      "text/html": [
       "<div>\n",
       "<style scoped>\n",
       "    .dataframe tbody tr th:only-of-type {\n",
       "        vertical-align: middle;\n",
       "    }\n",
       "\n",
       "    .dataframe tbody tr th {\n",
       "        vertical-align: top;\n",
       "    }\n",
       "\n",
       "    .dataframe thead th {\n",
       "        text-align: right;\n",
       "    }\n",
       "</style>\n",
       "<table border=\"1\" class=\"dataframe\">\n",
       "  <thead>\n",
       "    <tr style=\"text-align: right;\">\n",
       "      <th></th>\n",
       "      <th>1</th>\n",
       "      <th>0</th>\n",
       "    </tr>\n",
       "  </thead>\n",
       "  <tbody>\n",
       "    <tr>\n",
       "      <th>MAR</th>\n",
       "      <td>48.687672</td>\n",
       "      <td>44.240932</td>\n",
       "    </tr>\n",
       "    <tr>\n",
       "      <th>DEAR</th>\n",
       "      <td>54.205607</td>\n",
       "      <td>48.114901</td>\n",
       "    </tr>\n",
       "    <tr>\n",
       "      <th>DEYE</th>\n",
       "      <td>54.028436</td>\n",
       "      <td>52.439024</td>\n",
       "    </tr>\n",
       "    <tr>\n",
       "      <th>DREM</th>\n",
       "      <td>69.433962</td>\n",
       "      <td>80.802792</td>\n",
       "    </tr>\n",
       "    <tr>\n",
       "      <th>DPHY</th>\n",
       "      <td>48.192771</td>\n",
       "      <td>58.853288</td>\n",
       "    </tr>\n",
       "  </tbody>\n",
       "</table>\n",
       "</div>"
      ],
      "text/plain": [
       "              1          0\n",
       "MAR   48.687672  44.240932\n",
       "DEAR  54.205607  48.114901\n",
       "DEYE  54.028436  52.439024\n",
       "DREM  69.433962  80.802792\n",
       "DPHY  48.192771  58.853288"
      ]
     },
     "execution_count": 94,
     "metadata": {},
     "output_type": "execute_result"
    }
   ],
   "source": [
    "recalls_df = pd.DataFrame(recalls, columns=['MAR', 'DEAR', 'DEYE', 'DREM', 'DPHY']).T\n",
    "recalls_df"
   ]
  },
  {
   "cell_type": "code",
   "execution_count": 98,
   "metadata": {},
   "outputs": [
    {
     "data": {
      "text/plain": [
       "RAC1P\n",
       "1    50000\n",
       "0    50000\n",
       "Name: count, dtype: int64"
      ]
     },
     "execution_count": 98,
     "metadata": {},
     "output_type": "execute_result"
    }
   ],
   "source": [
    "ds.ds.original_df['RAC1P'].value_counts()"
   ]
  },
  {
   "cell_type": "code",
   "execution_count": 103,
   "metadata": {},
   "outputs": [
    {
     "name": "stdout",
     "output_type": "stream",
     "text": [
      "MAR\n",
      "0    27491\n",
      "1    22509\n",
      "Name: count, dtype: int64\n",
      "MAR\n",
      "0    31099\n",
      "1    18901\n",
      "Name: count, dtype: int64\n",
      "DEAR\n",
      "0    48886\n",
      "1     1114\n",
      "Name: count, dtype: int64\n",
      "DEAR\n",
      "0    49556\n",
      "1      444\n",
      "Name: count, dtype: int64\n",
      "DEYE\n",
      "0    49336\n",
      "1      664\n",
      "Name: count, dtype: int64\n",
      "DEYE\n",
      "0    49576\n",
      "1      424\n",
      "Name: count, dtype: int64\n",
      "DREM\n",
      "0    48887\n",
      "1     1113\n",
      "Name: count, dtype: int64\n",
      "DREM\n",
      "0    49466\n",
      "1      534\n",
      "Name: count, dtype: int64\n",
      "DPHY\n",
      "0    48823\n",
      "1     1177\n",
      "Name: count, dtype: int64\n",
      "DPHY\n",
      "0    49460\n",
      "1      540\n",
      "Name: count, dtype: int64\n"
     ]
    }
   ],
   "source": [
    "for col in all_sensitive_columns:\n",
    "    # subgroup_columns = ['RAC1P']\n",
    "    for i in range(2):\n",
    "        temp_df = ds.ds.original_df.copy()\n",
    "        temp_df = temp_df[temp_df['RAC1P'] == i]\n",
    "        print(temp_df[col].value_counts())"
   ]
  },
  {
   "cell_type": "code",
   "execution_count": 78,
   "metadata": {},
   "outputs": [],
   "source": [
    "X, y = ds.ds.get_attack_df()\n",
    "# Convert X to float\n",
    "X = X.astype(float)\n",
    "\n",
    "X_tensor = torch.from_numpy(X.to_numpy()).float().to(model_utils.device)"
   ]
  },
  {
   "cell_type": "code",
   "execution_count": null,
   "metadata": {},
   "outputs": [],
   "source": [
    "y_pred = attack_clf.predict(X)\n",
    "y_pred = np.argmax(y_pred, axis=1)\n",
    "fpr, tpr, thresholds = roc_curve(y, y_pred, pos_label=ds.ds.meta['sensitive_positive'])\n",
    "\n",
    "roc_curve_plot(fpr, tpr)"
   ]
  },
  {
   "cell_type": "code",
   "execution_count": 80,
   "metadata": {},
   "outputs": [],
   "source": [
    "subgroup_columns = ['SEX', 'RAC1P']\n",
    "\n",
    "\n",
    "subgroup_disparity_dict = get_subgroup_disparity(ds, subgroup_columns, attack_clf, X, y, metric='auc')\n",
    "# plot_subgroup_disparity(subgroup_disparity_dict)"
   ]
  },
  {
   "cell_type": "code",
   "execution_count": 81,
   "metadata": {},
   "outputs": [
    {
     "data": {
      "text/plain": [
       "{'SEX': {'asrs': {1: 45.45629578564919, 0: 46.880302575550324},\n",
       "  'dists': {1: 0.47555274716480317, 0: 0.5249773781651957}},\n",
       " 'RAC1P': {'asrs': {1: 47.71861138515065, 0: 47.14641926893228},\n",
       "  'dists': {1: 0.3721013198833526, 0: 0.36511937389200066}}}"
      ]
     },
     "execution_count": 81,
     "metadata": {},
     "output_type": "execute_result"
    }
   ],
   "source": [
    "subgroup_disparity_dict"
   ]
  },
  {
   "cell_type": "code",
   "execution_count": null,
   "metadata": {},
   "outputs": [],
   "source": [
    "acc = 100 * attack_clf.score(X, ds.ds.sensitive_enc.transform(y.to_numpy().ravel().reshape(-1, 1)).toarray())\n",
    "if True:\n",
    "    print(f\"Attack accuracy: {acc}\")"
   ]
  },
  {
   "cell_type": "code",
   "execution_count": null,
   "metadata": {
    "tags": []
   },
   "outputs": [],
   "source": [
    "attack_model = model_utils.port_mlp_to_ch(attack_clf)"
   ]
  },
  {
   "cell_type": "code",
   "execution_count": null,
   "metadata": {},
   "outputs": [],
   "source": [
    "predictions = attack_model(X_tensor)\n",
    "# calculate accuracy\n",
    "correct = 0\n",
    "total = 0\n",
    "with torch.no_grad():\n",
    "    for i in range(len(X_tensor)):\n",
    "        if predictions[i].argmax().item() == y.iloc[i].astype(int):\n",
    "            correct += 1\n",
    "        total += 1\n",
    "\n",
    "print(f'Accuracy of the network on the {len(X_tensor)} test images: {100 * correct / total} %')"
   ]
  },
  {
   "attachments": {},
   "cell_type": "markdown",
   "metadata": {},
   "source": [
    "# Model Inversion with Full Records"
   ]
  },
  {
   "cell_type": "code",
   "execution_count": 8,
   "metadata": {},
   "outputs": [],
   "source": [
    "X, y = ds.ds.get_attack_df()\n",
    "# Convert X to float\n",
    "X = X.astype(float)\n",
    "y_onehot = ds.ds.sensitive_enc.transform(y.to_numpy().ravel().reshape(-1, 1)).toarray()"
   ]
  },
  {
   "cell_type": "code",
   "execution_count": 12,
   "metadata": {},
   "outputs": [
    {
     "name": "stderr",
     "output_type": "stream",
     "text": [
      "The operator 'aten::sgn.out' is not currently supported on the MPS backend and will fall back to run on the CPU. This may have performance implications. (Triggered internally at /Users/runner/work/_temp/anaconda/conda-bld/pytorch_1681628961578/work/aten/src/ATen/mps/MPSFallback.mm:12.)\n",
      "Stochastic Optimizer: Maximum iterations (1) reached and the optimization hasn't converged yet.\n",
      "X has feature names, but MLPClassifier was fitted without feature names\n"
     ]
    },
    {
     "name": "stdout",
     "output_type": "stream",
     "text": [
      "Inverse accuracy with test size 0.5: 80.11223786551147\n"
     ]
    },
    {
     "name": "stderr",
     "output_type": "stream",
     "text": [
      "Stochastic Optimizer: Maximum iterations (1) reached and the optimization hasn't converged yet.\n",
      "X has feature names, but MLPClassifier was fitted without feature names\n"
     ]
    },
    {
     "name": "stdout",
     "output_type": "stream",
     "text": [
      "Inverse accuracy with test size 0.6: 80.20346213799327\n"
     ]
    },
    {
     "name": "stderr",
     "output_type": "stream",
     "text": [
      "Stochastic Optimizer: Maximum iterations (1) reached and the optimization hasn't converged yet.\n",
      "X has feature names, but MLPClassifier was fitted without feature names\n"
     ]
    },
    {
     "name": "stdout",
     "output_type": "stream",
     "text": [
      "Inverse accuracy with test size 0.7: 80.14767932489451\n"
     ]
    },
    {
     "name": "stderr",
     "output_type": "stream",
     "text": [
      "Stochastic Optimizer: Maximum iterations (1) reached and the optimization hasn't converged yet.\n",
      "X has feature names, but MLPClassifier was fitted without feature names\n"
     ]
    },
    {
     "name": "stdout",
     "output_type": "stream",
     "text": [
      "Inverse accuracy with test size 0.8: 80.25473787841496\n",
      "Inverse accuracy with test size 0.9: 80.27675983153749\n"
     ]
    },
    {
     "name": "stderr",
     "output_type": "stream",
     "text": [
      "Stochastic Optimizer: Maximum iterations (1) reached and the optimization hasn't converged yet.\n",
      "X has feature names, but MLPClassifier was fitted without feature names\n"
     ]
    }
   ],
   "source": [
    "load_model = False\n",
    "save_model = False\n",
    "\n",
    "if load_model:\n",
    "    inv_clfs = model_utils.load_model(f'<PATH_TO_MODEL>/{ds.ds.name}_inverse_model.pkl')\n",
    "else:\n",
    "\n",
    "    inv_clfs = {}\n",
    "\n",
    "    for test_size in [0.5, 0.6, 0.7, 0.8, 0.9]:\n",
    "        x_tr, x_te, y_tr, y_te = train_test_split(X, y_onehot, test_size=test_size, random_state=42)\n",
    "\n",
    "        # inv_clf = model_utils.get_model(max_iter=500, hidden_layer_sizes=(60, 50, 40, 30, 20, 10))\n",
    "        # pca_clf.fit(x_tr, y_tr)\n",
    "        inv_clf = model_utils.proxy_train_mlp(x_tr.to_numpy(), y_tr, epochs=100)\n",
    "        inv_clfs[test_size] = inv_clf\n",
    "\n",
    "        acc = 100 * inv_clf.score(x_te, y_te)\n",
    "        print(f'Inverse accuracy with test size {test_size}: {acc}')\n",
    "\n",
    "    if save_model:\n",
    "        model_utils.save_model(inv_clfs, f'<PATH_TO_MODEL>/{ds.ds.name}_inverse_model.pkl')"
   ]
  },
  {
   "cell_type": "code",
   "execution_count": 13,
   "metadata": {},
   "outputs": [
    {
     "name": "stderr",
     "output_type": "stream",
     "text": [
      "X has feature names, but MLPClassifier was fitted without feature names\n",
      "X has feature names, but MLPClassifier was fitted without feature names\n",
      "X has feature names, but MLPClassifier was fitted without feature names\n",
      "X has feature names, but MLPClassifier was fitted without feature names\n",
      "X has feature names, but MLPClassifier was fitted without feature names\n"
     ]
    },
    {
     "name": "stdout",
     "output_type": "stream",
     "text": [
      "AUC with test size 0.9: 0.6781803649833609\n",
      "AUC with test size 0.8: 0.7067886557938723\n",
      "AUC with test size 0.7: 0.6349196025788865\n",
      "AUC with test size 0.6: 0.6502157232068793\n",
      "AUC with test size 0.5: 0.6738628827857591\n"
     ]
    }
   ],
   "source": [
    "inv_names = []\n",
    "inv_aucs = []\n",
    "\n",
    "for test_size in [0.9, 0.8, 0.7, 0.6, 0.5]:\n",
    "    x_tr, x_te, y_tr, y_te = train_test_split(X, y_onehot, test_size=test_size, random_state=42)\n",
    "\n",
    "    inv_clf = inv_clfs[test_size]\n",
    "    \n",
    "    # calculate auc\n",
    "    y_pred = inv_clf.predict_proba(x_te)\n",
    "    auc = roc_auc_score(y_te, y_pred)\n",
    "    inv_names.append(f'Inverse-{round((1-test_size)*100)}%')\n",
    "    inv_aucs.append(auc*100)\n",
    "    print(f'AUC with test size {test_size}: {auc}')"
   ]
  },
  {
   "cell_type": "code",
   "execution_count": 14,
   "metadata": {},
   "outputs": [
    {
     "name": "stderr",
     "output_type": "stream",
     "text": [
      "X has feature names, but MLPClassifier was fitted without feature names\n",
      "X has feature names, but MLPClassifier was fitted without feature names\n",
      "X has feature names, but MLPClassifier was fitted without feature names\n",
      "X has feature names, but MLPClassifier was fitted without feature names\n",
      "X has feature names, but MLPClassifier was fitted without feature names\n",
      "X has feature names, but MLPClassifier was fitted without feature names\n",
      "X has feature names, but MLPClassifier was fitted without feature names\n",
      "X has feature names, but MLPClassifier was fitted without feature names\n"
     ]
    }
   ],
   "source": [
    "subgroup_columns = ['sex', 'race', 'relig']\n",
    "\n",
    "# if 'att_enc' not in globals():\n",
    "#     y_onehot, att_enc = model_utils.get_onehot(y.to_numpy().ravel().reshape(-1,1))\n",
    "test_size = 0.9\n",
    "\n",
    "x_tr, x_te, y_tr, y_te = train_test_split(X, y, test_size=test_size, random_state=42)\n",
    "\n",
    "inv_clf = inv_clfs[test_size]\n",
    "subgroup_disparity_dict = get_subgroup_disparity(ds, subgroup_columns, inv_clf, x_te, y_te, metric='auc')"
   ]
  },
  {
   "cell_type": "code",
   "execution_count": 15,
   "metadata": {},
   "outputs": [
    {
     "data": {
      "text/plain": [
       "{'sex': {'asrs': {'female': 67.787787006559, 'male': 68.25819129634048},\n",
       "  'dists': {'female': 0.46091587952206253, 'male': 0.46132652413598085}},\n",
       " 'race': {'asrs': {'white': 67.83822944792823,\n",
       "   'other': 63.72492836676217,\n",
       "   'black': 65.22246835986468},\n",
       "  'dists': {'white': 0.5049655543241308,\n",
       "   'other': 0.4823537204992204,\n",
       "   'black': 0.5550439121607077}},\n",
       " 'relig': {'asrs': {'catholic': 66.1844343192983,\n",
       "   'protestant': 69.85981177565084,\n",
       "   'none': 63.58577814409718},\n",
       "  'dists': {'catholic': 0.42173846127528336,\n",
       "   'protestant': 0.5497922965933532,\n",
       "   'none': 0.30830465067547735}}}"
      ]
     },
     "execution_count": 15,
     "metadata": {},
     "output_type": "execute_result"
    }
   ],
   "source": [
    "subgroup_disparity_dict"
   ]
  },
  {
   "attachments": {},
   "cell_type": "markdown",
   "metadata": {},
   "source": [
    "# Grad Approach"
   ]
  },
  {
   "cell_type": "code",
   "execution_count": 67,
   "metadata": {},
   "outputs": [],
   "source": [
    "import torch\n",
    "import torch.nn as nn\n",
    "import torch.optim as optim\n",
    "from torch.utils.data import Dataset, DataLoader\n",
    "\n",
    "# Step 1: Prepare the dataset\n",
    "# Assuming you have already loaded and preprocessed the GSS dataset\n",
    "X_train_for_grad, X_test_for_grad, y_train_for_grad, y_test_for_grad = torch.tensor(x_tr, dtype=torch.float32, requires_grad=True), torch.tensor(x_te, dtype=torch.float32, requires_grad=True), torch.tensor(y_tr, dtype=torch.float32, requires_grad=True), torch.tensor(y_te, dtype=torch.float32, requires_grad=True)\n",
    "\n",
    "# Step 2: Create a custom dataset\n",
    "class GradAttDataset(Dataset):\n",
    "    def __init__(self, features, labels):\n",
    "        self.features = features\n",
    "        self.labels = labels\n",
    "\n",
    "    def __len__(self):\n",
    "        return len(self.features)\n",
    "\n",
    "    def __getitem__(self, index):\n",
    "        x = torch.Tensor(self.features[index])\n",
    "        y = torch.Tensor([self.labels[index]])\n",
    "        return x, y\n",
    "\n",
    "train_dataset = GradAttDataset(X_train_for_grad, y_train_for_grad)\n",
    "test_dataset = GradAttDataset(X_test_for_grad, y_test_for_grad)\n",
    "\n",
    "# Step 8: Train the model\n",
    "train_loader = DataLoader(train_dataset, batch_size=1, shuffle=True)"
   ]
  },
  {
   "cell_type": "code",
   "execution_count": 68,
   "metadata": {},
   "outputs": [],
   "source": [
    "all_sensitive_columns = ['default', 'DEAR', 'DEYE', 'DREM', 'DPHY']"
   ]
  },
  {
   "cell_type": "code",
   "execution_count": 69,
   "metadata": {},
   "outputs": [],
   "source": [
    "def check_if_grad_stored():\n",
    "    # check if the following list of files exist\n",
    "    # if they do, then we have already stored the gradients\n",
    "    # if not, then we need to store the gradients\n",
    "    filenames = [f'grads/{ds.ds.filenameroot}_{sens_col}_orig_grads.npy' for sens_col in all_sensitive_columns]\n",
    "    return all([os.path.exists(filename) for filename in filenames])\n",
    "\n",
    "if not check_if_grad_stored():\n",
    "    for i, sens_col in enumerate(all_sensitive_columns):\n",
    "        meta = data_utils.CensusWrapper(name='Census19', sensitive_column=sens_col, preload=False).ds.meta\n",
    "        sens_indices = [cols.get_loc(f'{meta[\"sensitive_column\"]}_{val}') for val in meta[\"sensitive_values\"]]\n",
    "        sens_attrs = []\n",
    "        scores = []\n",
    "        orig_grads = []\n",
    "        grads_after_flip = []\n",
    "        y_trues = []\n",
    "        \n",
    "        target_model = port_mlp_to_ch(clf)\n",
    "        optim = torch.optim.Adam(target_model.parameters(), lr=0.001)\n",
    "        # for batch in tqdm(train_loader):\n",
    "        for idx, batch in enumerate(train_loader):\n",
    "            # if idx > 100:\n",
    "            #     break\n",
    "            optim.zero_grad()\n",
    "            # batch = next(iter(train_loader))\n",
    "            x, y = batch\n",
    "            x, y = x.to('mps'), y.to('mps')\n",
    "            y_pred = target_model(x)\n",
    "            loss_fn = nn.CrossEntropyLoss()\n",
    "            loss = loss_fn(y_pred, y.long().reshape(-1))\n",
    "            # loss = nn.CrossEntropyLoss()(y_pred, y.long())\n",
    "            loss.backward()\n",
    "            grad = [p.grad.clone().detach().cpu().numpy().reshape(-1) for p in target_model.parameters()]\n",
    "            grad = np.concatenate(grad)\n",
    "            orig_grads.append(grad)\n",
    "\n",
    "            optim.zero_grad()\n",
    "            x_np = x.clone().detach().cpu().numpy()\n",
    "            # x_np[0,55:57] = 1 - x_np[0,55:57]\n",
    "            x_np[0, sens_indices] = 1 - x_np[0, sens_indices]\n",
    "            x_clone = torch.tensor(x_np, requires_grad=True).to('mps')\n",
    "            y_pred2 = target_model(x_clone)\n",
    "            loss_fn = nn.CrossEntropyLoss()\n",
    "            loss = loss_fn(y_pred2, y.long().reshape(-1))\n",
    "            loss.backward()\n",
    "            grad2 = [p.grad.clone().detach().cpu().numpy().reshape(-1) for p in target_model.parameters()]\n",
    "            grad2 = np.concatenate(grad2)\n",
    "            grads_after_flip.append(grad2)\n",
    "\n",
    "            # if x_np[0,55] == 1:\n",
    "            if x_np[0, sens_indices[0]] == 1:\n",
    "                sens_attr = 0\n",
    "                # score = np.linalg.norm(grad) - np.linalg.norm(grad2)\n",
    "                score = np.linalg.norm(grad - grad2)\n",
    "            else:\n",
    "                sens_attr = 1\n",
    "                # score = np.linalg.norm(grad2) - np.linalg.norm(grad)\n",
    "                score = np.linalg.norm(grad2 - grad)\n",
    "\n",
    "            sens_attrs.append(sens_attr)\n",
    "            scores.append(score)\n",
    "\n",
    "        orig_grads = np.array(orig_grads)\n",
    "        grads_after_flip = np.array(grads_after_flip)\n",
    "        np.save(f'<PATH_TO_GRADS>/{ds.ds.filenameroot}_{sens_col}_orig_grads.npy', orig_grads)\n",
    "        np.save(f'<PATH_TO_GRADS>/{ds.ds.filenameroot}_{sens_col}_grads_after_flip.npy', grads_after_flip)\n",
    "        np.save(f'<PATH_TO_GRADS>/{ds.ds.filenameroot}_{sens_col}_sens_attrs.npy', sens_attrs)\n",
    "        np.save(f'<PATH_TO_GRADS>/{ds.ds.filenameroot}_{sens_col}_scores.npy', scores)"
   ]
  },
  {
   "cell_type": "code",
   "execution_count": 70,
   "metadata": {},
   "outputs": [
    {
     "name": "stdout",
     "output_type": "stream",
     "text": [
      "For default\n",
      "AUC: 0.6495558813286206\n",
      "For DEAR\n",
      "AUC: 0.4650313285202574\n",
      "For DEYE\n",
      "AUC: 0.5840841870900447\n",
      "For DREM\n",
      "AUC: 0.6673405102013038\n",
      "For DPHY\n",
      "AUC: 0.5508716428668948\n"
     ]
    }
   ],
   "source": [
    "original_aucs = {}\n",
    "\n",
    "for i, sens_col in enumerate(all_sensitive_columns):\n",
    "    orig_grads = np.load(f'<PATH_TO_GRADS>/{ds.ds.filenameroot}_{sens_col}_orig_grads.npy')\n",
    "    grads_after_flip = np.load(f'<PATH_TO_GRADS>/{ds.ds.filenameroot}_{sens_col}_grads_after_flip.npy')\n",
    "    sens_attrs = np.load(f'<PATH_TO_GRADS>/{ds.ds.filenameroot}_{sens_col}_sens_attrs.npy')\n",
    "    scores = np.load(f'<PATH_TO_GRADS>/{ds.ds.filenameroot}_{sens_col}_scores.npy')\n",
    "\n",
    "    print(f'For {sens_col}')\n",
    "    auc = roc_auc_score(sens_attrs, scores)\n",
    "    original_aucs[sens_col] = auc\n",
    "    print(f'AUC: {auc}')"
   ]
  },
  {
   "cell_type": "code",
   "execution_count": 71,
   "metadata": {},
   "outputs": [],
   "source": [
    "auc_dict_sex = {\n",
    "    'male': {},\n",
    "    'female': {},\n",
    "    'all': {},\n",
    "}\n",
    "\n",
    "for i, sens_col in enumerate(all_sensitive_columns):\n",
    "    orig_grads = np.load(f'<PATH_TO_GRADS>/{ds.ds.filenameroot}_{sens_col}_orig_grads.npy')\n",
    "    grads_after_flip = np.load(f'<PATH_TO_GRADS>/{ds.ds.filenameroot}_{sens_col}_grads_after_flip.npy')\n",
    "    sens_attrs = np.load(f'<PATH_TO_GRADS>/{ds.ds.filenameroot}_{sens_col}_sens_attrs.npy')\n",
    "    scores = np.load(f'<PATH_TO_GRADS>/{ds.ds.filenameroot}_{sens_col}_scores.npy')\n",
    "\n",
    "    # print(f'For {sens_col}')\n",
    "    # auc = roc_auc_score(sens_attrs, scores)\n",
    "    auc_dict_sex['male'][sens_col] = roc_auc_score(sens_attrs[male_indices.to_numpy()], scores[male_indices.to_numpy()])\n",
    "    auc_dict_sex['female'][sens_col] = roc_auc_score(sens_attrs[female_indices.to_numpy()], scores[female_indices.to_numpy()])\n",
    "\n",
    "    # print(f'AUC: {auc}')\n",
    "    auc_dict_sex['all'][sens_col] = original_aucs[sens_col]"
   ]
  },
  {
   "cell_type": "code",
   "execution_count": 74,
   "metadata": {},
   "outputs": [],
   "source": [
    "auc_dict_race = { i: {} for i in range(2) }\n",
    "auc_dict_race['all'] = {}\n",
    "\n",
    "race_marginal_prior_dict = (100 * ds.ds.original_df['RAC1P'].value_counts() / len(ds.ds.original_df)).to_dict()\n",
    "\n",
    "for i in range(2):\n",
    "    auc_dict_race[i]['marginal prior'] = race_marginal_prior_dict[str(i)]\n",
    "auc_dict_race['all']['marginal prior'] = 100\n",
    "\n",
    "for i, sens_col in enumerate(all_sensitive_columns):\n",
    "    orig_grads = np.load(f'<PATH_TO_GRADS>/{ds.ds.filenameroot}_{sens_col}_orig_grads.npy')\n",
    "    grads_after_flip = np.load(f'<PATH_TO_GRADS>/{ds.ds.filenameroot}_{sens_col}_grads_after_flip.npy')\n",
    "    sens_attrs = np.load(f'<PATH_TO_GRADS>/{ds.ds.filenameroot}_{sens_col}_sens_attrs.npy')\n",
    "    scores = np.load(f'<PATH_TO_GRADS>/{ds.ds.filenameroot}_{sens_col}_scores.npy')\n",
    "    \n",
    "\n",
    "    for idx in range(2):\n",
    "        rac1p_indices = get_indices_by_conditions(ds, X_train, {'RAC1P': str(idx)})\n",
    "        try:\n",
    "            auc_dict_race[idx][sens_col] = roc_auc_score(sens_attrs[rac1p_indices.to_numpy()], scores[rac1p_indices.to_numpy()])\n",
    "        except:\n",
    "            auc_dict_race[idx][sens_col] = np.nan\n",
    "\n",
    "    auc_dict_race['all'][sens_col] = original_aucs[sens_col]"
   ]
  },
  {
   "cell_type": "code",
   "execution_count": 17,
   "metadata": {},
   "outputs": [],
   "source": [
    "all_sensitive_col_full_names = [f'{col}' for col in cols.to_numpy() if col.split('_')[0] in all_sensitive_columns + ['MAR']]"
   ]
  },
  {
   "cell_type": "code",
   "execution_count": 20,
   "metadata": {},
   "outputs": [],
   "source": [
    "male_indices = get_indices_by_conditions(ds, X_train, {'SEX': 0})\n",
    "female_indices = get_indices_by_conditions(ds, X_train, {'SEX': 1})"
   ]
  },
  {
   "cell_type": "code",
   "execution_count": 26,
   "metadata": {},
   "outputs": [],
   "source": [
    "r_male = permutation_importance(clf, X_train.loc[male_indices,:] , ds.ds.y_enc.transform(y_tr[male_indices.to_numpy()]).toarray(),\n",
    "                           n_repeats=30,\n",
    "                           random_state=0)"
   ]
  },
  {
   "cell_type": "code",
   "execution_count": 27,
   "metadata": {},
   "outputs": [],
   "source": [
    "r_female = permutation_importance(clf, X_train.loc[female_indices,:] , ds.ds.y_enc.transform(y_tr[female_indices.to_numpy()]).toarray(),\n",
    "                           n_repeats=30,\n",
    "                           random_state=0)"
   ]
  },
  {
   "cell_type": "code",
   "execution_count": 29,
   "metadata": {},
   "outputs": [],
   "source": [
    "r_rac1ps = []\n",
    "\n",
    "for i in range(2):\n",
    "    rac1p_indices = get_indices_by_conditions(ds, X_train, {'RAC1P': str(i)})\n",
    "    r_rac1ps.append(permutation_importance(clf, X_train.loc[rac1p_indices,:] , ds.ds.y_enc.transform(y_tr[rac1p_indices.to_numpy()]).toarray(),\n",
    "                            n_repeats=30,\n",
    "                            random_state=0))"
   ]
  },
  {
   "cell_type": "code",
   "execution_count": 30,
   "metadata": {},
   "outputs": [],
   "source": [
    "def get_perm_imp(r):\n",
    "    result_mean, result_std = {}, {}\n",
    "    # for i in r.importances_mean.argsort()[::-1]:\n",
    "    for i in range(len(r.importances_mean)):\n",
    "        # if r.importances_mean[i] - 2 * r.importances_std[i] > 0 or True:\n",
    "        # print(i)\n",
    "        if cols[i] in all_sensitive_col_full_names:\n",
    "            # print(f\"{cols[i]} \"\n",
    "            #     f\"{r.importances_mean[i]:.8f}\"\n",
    "            #     f\" +/- {r.importances_std[i]:.8f}\")\n",
    "            result_mean[cols[i]] = r.importances_mean[i]\n",
    "            result_std[cols[i]] = r.importances_std[i]\n",
    "\n",
    "    return result_mean, result_std\n"
   ]
  },
  {
   "cell_type": "code",
   "execution_count": 31,
   "metadata": {},
   "outputs": [],
   "source": [
    "results = {\n",
    "    'male': get_perm_imp(r_male)[0],\n",
    "    'female': get_perm_imp(r_female)[0],\n",
    "    'all': get_perm_imp(r_train)[0],\n",
    "}"
   ]
  },
  {
   "cell_type": "code",
   "execution_count": 33,
   "metadata": {},
   "outputs": [],
   "source": [
    "results_race = {\n",
    "    i: get_perm_imp(r_rac1ps[i])[0] for i in range(2)\n",
    "}\n",
    "results_race['all'] = get_perm_imp(r_train)[0]"
   ]
  },
  {
   "cell_type": "code",
   "execution_count": 75,
   "metadata": {},
   "outputs": [
    {
     "data": {
      "text/html": [
       "<div>\n",
       "<style scoped>\n",
       "    .dataframe tbody tr th:only-of-type {\n",
       "        vertical-align: middle;\n",
       "    }\n",
       "\n",
       "    .dataframe tbody tr th {\n",
       "        vertical-align: top;\n",
       "    }\n",
       "\n",
       "    .dataframe thead th {\n",
       "        text-align: right;\n",
       "    }\n",
       "</style>\n",
       "<table border=\"1\" class=\"dataframe\">\n",
       "  <thead>\n",
       "    <tr style=\"text-align: right;\">\n",
       "      <th></th>\n",
       "      <th>male</th>\n",
       "      <th>female</th>\n",
       "      <th>all</th>\n",
       "    </tr>\n",
       "  </thead>\n",
       "  <tbody>\n",
       "    <tr>\n",
       "      <th>MAR_0</th>\n",
       "      <td>0.016111</td>\n",
       "      <td>0.008089</td>\n",
       "      <td>0.012179</td>\n",
       "    </tr>\n",
       "    <tr>\n",
       "      <th>MAR_1</th>\n",
       "      <td>0.014000</td>\n",
       "      <td>0.007113</td>\n",
       "      <td>0.010555</td>\n",
       "    </tr>\n",
       "    <tr>\n",
       "      <th>DREM_0</th>\n",
       "      <td>0.001769</td>\n",
       "      <td>0.001008</td>\n",
       "      <td>0.001328</td>\n",
       "    </tr>\n",
       "    <tr>\n",
       "      <th>DREM_1</th>\n",
       "      <td>0.002538</td>\n",
       "      <td>0.001145</td>\n",
       "      <td>0.001857</td>\n",
       "    </tr>\n",
       "    <tr>\n",
       "      <th>DPHY_0</th>\n",
       "      <td>0.001077</td>\n",
       "      <td>0.000790</td>\n",
       "      <td>0.000925</td>\n",
       "    </tr>\n",
       "    <tr>\n",
       "      <th>DPHY_1</th>\n",
       "      <td>0.002344</td>\n",
       "      <td>0.001717</td>\n",
       "      <td>0.002009</td>\n",
       "    </tr>\n",
       "    <tr>\n",
       "      <th>DEAR_0</th>\n",
       "      <td>0.002284</td>\n",
       "      <td>0.000467</td>\n",
       "      <td>0.001397</td>\n",
       "    </tr>\n",
       "    <tr>\n",
       "      <th>DEAR_1</th>\n",
       "      <td>0.003987</td>\n",
       "      <td>0.000826</td>\n",
       "      <td>0.002379</td>\n",
       "    </tr>\n",
       "    <tr>\n",
       "      <th>DEYE_0</th>\n",
       "      <td>0.000577</td>\n",
       "      <td>0.000177</td>\n",
       "      <td>0.000325</td>\n",
       "    </tr>\n",
       "    <tr>\n",
       "      <th>DEYE_1</th>\n",
       "      <td>0.001511</td>\n",
       "      <td>0.000887</td>\n",
       "      <td>0.001200</td>\n",
       "    </tr>\n",
       "  </tbody>\n",
       "</table>\n",
       "</div>"
      ],
      "text/plain": [
       "            male    female       all\n",
       "MAR_0   0.016111  0.008089  0.012179\n",
       "MAR_1   0.014000  0.007113  0.010555\n",
       "DREM_0  0.001769  0.001008  0.001328\n",
       "DREM_1  0.002538  0.001145  0.001857\n",
       "DPHY_0  0.001077  0.000790  0.000925\n",
       "DPHY_1  0.002344  0.001717  0.002009\n",
       "DEAR_0  0.002284  0.000467  0.001397\n",
       "DEAR_1  0.003987  0.000826  0.002379\n",
       "DEYE_0  0.000577  0.000177  0.000325\n",
       "DEYE_1  0.001511  0.000887  0.001200"
      ]
     },
     "execution_count": 75,
     "metadata": {},
     "output_type": "execute_result"
    }
   ],
   "source": [
    "results_sex_df = pd.DataFrame(results)\n",
    "# for col in ['MAR', 'DREM', 'DPHY', 'DEAR', 'DEYE']:\n",
    "#     results_sex_df.loc[col] = results_sex_df.loc[f'{col}_1'] / results_sex_df.loc[f'{col}_0']\n",
    "\n",
    "    # results_sex_df.loc[col] = results_sex_df.loc[col] / results_sex_df.loc[col]['all']\n",
    "\n",
    "results_sex_df"
   ]
  },
  {
   "cell_type": "code",
   "execution_count": 76,
   "metadata": {},
   "outputs": [
    {
     "data": {
      "text/html": [
       "<div>\n",
       "<style scoped>\n",
       "    .dataframe tbody tr th:only-of-type {\n",
       "        vertical-align: middle;\n",
       "    }\n",
       "\n",
       "    .dataframe tbody tr th {\n",
       "        vertical-align: top;\n",
       "    }\n",
       "\n",
       "    .dataframe thead th {\n",
       "        text-align: right;\n",
       "    }\n",
       "</style>\n",
       "<table border=\"1\" class=\"dataframe\">\n",
       "  <thead>\n",
       "    <tr style=\"text-align: right;\">\n",
       "      <th></th>\n",
       "      <th>male</th>\n",
       "      <th>female</th>\n",
       "      <th>all</th>\n",
       "    </tr>\n",
       "  </thead>\n",
       "  <tbody>\n",
       "    <tr>\n",
       "      <th>default</th>\n",
       "      <td>0.650452</td>\n",
       "      <td>0.648575</td>\n",
       "      <td>0.649556</td>\n",
       "    </tr>\n",
       "    <tr>\n",
       "      <th>DREM</th>\n",
       "      <td>0.676439</td>\n",
       "      <td>0.658132</td>\n",
       "      <td>0.667341</td>\n",
       "    </tr>\n",
       "    <tr>\n",
       "      <th>DPHY</th>\n",
       "      <td>0.539627</td>\n",
       "      <td>0.562294</td>\n",
       "      <td>0.550872</td>\n",
       "    </tr>\n",
       "    <tr>\n",
       "      <th>DEAR</th>\n",
       "      <td>0.461679</td>\n",
       "      <td>0.468535</td>\n",
       "      <td>0.465031</td>\n",
       "    </tr>\n",
       "    <tr>\n",
       "      <th>DEYE</th>\n",
       "      <td>0.573676</td>\n",
       "      <td>0.595514</td>\n",
       "      <td>0.584084</td>\n",
       "    </tr>\n",
       "  </tbody>\n",
       "</table>\n",
       "</div>"
      ],
      "text/plain": [
       "             male    female       all\n",
       "default  0.650452  0.648575  0.649556\n",
       "DREM     0.676439  0.658132  0.667341\n",
       "DPHY     0.539627  0.562294  0.550872\n",
       "DEAR     0.461679  0.468535  0.465031\n",
       "DEYE     0.573676  0.595514  0.584084"
      ]
     },
     "execution_count": 76,
     "metadata": {},
     "output_type": "execute_result"
    }
   ],
   "source": [
    "pd.DataFrame(auc_dict_sex, index=['default', 'DREM', 'DPHY', 'DEAR', 'DEYE'])"
   ]
  },
  {
   "cell_type": "code",
   "execution_count": 60,
   "metadata": {},
   "outputs": [
    {
     "data": {
      "text/html": [
       "<div>\n",
       "<style scoped>\n",
       "    .dataframe tbody tr th:only-of-type {\n",
       "        vertical-align: middle;\n",
       "    }\n",
       "\n",
       "    .dataframe tbody tr th {\n",
       "        vertical-align: top;\n",
       "    }\n",
       "\n",
       "    .dataframe thead th {\n",
       "        text-align: right;\n",
       "    }\n",
       "</style>\n",
       "<table border=\"1\" class=\"dataframe\">\n",
       "  <thead>\n",
       "    <tr style=\"text-align: right;\">\n",
       "      <th></th>\n",
       "      <th>0</th>\n",
       "      <th>1</th>\n",
       "      <th>all</th>\n",
       "    </tr>\n",
       "  </thead>\n",
       "  <tbody>\n",
       "    <tr>\n",
       "      <th>MAR_0</th>\n",
       "      <td>0.015299</td>\n",
       "      <td>0.008398</td>\n",
       "      <td>0.012179</td>\n",
       "    </tr>\n",
       "    <tr>\n",
       "      <th>MAR_1</th>\n",
       "      <td>0.011381</td>\n",
       "      <td>0.009522</td>\n",
       "      <td>0.010555</td>\n",
       "    </tr>\n",
       "    <tr>\n",
       "      <th>DREM_0</th>\n",
       "      <td>0.001551</td>\n",
       "      <td>0.001136</td>\n",
       "      <td>0.001328</td>\n",
       "    </tr>\n",
       "    <tr>\n",
       "      <th>DREM_1</th>\n",
       "      <td>0.002199</td>\n",
       "      <td>0.001479</td>\n",
       "      <td>0.001857</td>\n",
       "    </tr>\n",
       "    <tr>\n",
       "      <th>DPHY_0</th>\n",
       "      <td>0.001290</td>\n",
       "      <td>0.000597</td>\n",
       "      <td>0.000925</td>\n",
       "    </tr>\n",
       "    <tr>\n",
       "      <th>DPHY_1</th>\n",
       "      <td>0.002466</td>\n",
       "      <td>0.001710</td>\n",
       "      <td>0.002009</td>\n",
       "    </tr>\n",
       "    <tr>\n",
       "      <th>DEAR_0</th>\n",
       "      <td>0.002108</td>\n",
       "      <td>0.000715</td>\n",
       "      <td>0.001397</td>\n",
       "    </tr>\n",
       "    <tr>\n",
       "      <th>DEAR_1</th>\n",
       "      <td>0.003345</td>\n",
       "      <td>0.001466</td>\n",
       "      <td>0.002379</td>\n",
       "    </tr>\n",
       "    <tr>\n",
       "      <th>DEYE_0</th>\n",
       "      <td>0.000415</td>\n",
       "      <td>0.000313</td>\n",
       "      <td>0.000325</td>\n",
       "    </tr>\n",
       "    <tr>\n",
       "      <th>DEYE_1</th>\n",
       "      <td>0.001365</td>\n",
       "      <td>0.000917</td>\n",
       "      <td>0.001200</td>\n",
       "    </tr>\n",
       "  </tbody>\n",
       "</table>\n",
       "</div>"
      ],
      "text/plain": [
       "               0         1       all\n",
       "MAR_0   0.015299  0.008398  0.012179\n",
       "MAR_1   0.011381  0.009522  0.010555\n",
       "DREM_0  0.001551  0.001136  0.001328\n",
       "DREM_1  0.002199  0.001479  0.001857\n",
       "DPHY_0  0.001290  0.000597  0.000925\n",
       "DPHY_1  0.002466  0.001710  0.002009\n",
       "DEAR_0  0.002108  0.000715  0.001397\n",
       "DEAR_1  0.003345  0.001466  0.002379\n",
       "DEYE_0  0.000415  0.000313  0.000325\n",
       "DEYE_1  0.001365  0.000917  0.001200"
      ]
     },
     "execution_count": 60,
     "metadata": {},
     "output_type": "execute_result"
    }
   ],
   "source": [
    "results_race_df = pd.DataFrame(results_race)\n",
    "\n",
    "# for col in ['MAR', 'DREM', 'DPHY', 'DEAR', 'DEYE']:\n",
    "#     results_race_df.loc[col] = results_race_df.loc[f'{col}_1'] / results_race_df.loc[f'{col}_0']\n",
    "\n",
    "    # results_race_df.loc[col] = results_race_df.loc[col] / results_race_df.loc[col]['all']\n",
    "\n",
    "results_race_df"
   ]
  },
  {
   "cell_type": "code",
   "execution_count": 77,
   "metadata": {},
   "outputs": [
    {
     "data": {
      "text/html": [
       "<div>\n",
       "<style scoped>\n",
       "    .dataframe tbody tr th:only-of-type {\n",
       "        vertical-align: middle;\n",
       "    }\n",
       "\n",
       "    .dataframe tbody tr th {\n",
       "        vertical-align: top;\n",
       "    }\n",
       "\n",
       "    .dataframe thead th {\n",
       "        text-align: right;\n",
       "    }\n",
       "</style>\n",
       "<table border=\"1\" class=\"dataframe\">\n",
       "  <thead>\n",
       "    <tr style=\"text-align: right;\">\n",
       "      <th></th>\n",
       "      <th>0</th>\n",
       "      <th>1</th>\n",
       "      <th>all</th>\n",
       "    </tr>\n",
       "  </thead>\n",
       "  <tbody>\n",
       "    <tr>\n",
       "      <th>marginal prior</th>\n",
       "      <td>90.000000</td>\n",
       "      <td>10.000000</td>\n",
       "      <td>100.000000</td>\n",
       "    </tr>\n",
       "    <tr>\n",
       "      <th>MAR</th>\n",
       "      <td>0.650119</td>\n",
       "      <td>0.644419</td>\n",
       "      <td>0.649556</td>\n",
       "    </tr>\n",
       "    <tr>\n",
       "      <th>DREM</th>\n",
       "      <td>0.667973</td>\n",
       "      <td>0.661995</td>\n",
       "      <td>0.667341</td>\n",
       "    </tr>\n",
       "    <tr>\n",
       "      <th>DPHY</th>\n",
       "      <td>0.548765</td>\n",
       "      <td>0.570692</td>\n",
       "      <td>0.550872</td>\n",
       "    </tr>\n",
       "    <tr>\n",
       "      <th>DEAR</th>\n",
       "      <td>0.464299</td>\n",
       "      <td>0.471844</td>\n",
       "      <td>0.465031</td>\n",
       "    </tr>\n",
       "    <tr>\n",
       "      <th>DEYE</th>\n",
       "      <td>0.586810</td>\n",
       "      <td>0.554370</td>\n",
       "      <td>0.584084</td>\n",
       "    </tr>\n",
       "  </tbody>\n",
       "</table>\n",
       "</div>"
      ],
      "text/plain": [
       "                        0          1         all\n",
       "marginal prior  90.000000  10.000000  100.000000\n",
       "MAR              0.650119   0.644419    0.649556\n",
       "DREM             0.667973   0.661995    0.667341\n",
       "DPHY             0.548765   0.570692    0.550872\n",
       "DEAR             0.464299   0.471844    0.465031\n",
       "DEYE             0.586810   0.554370    0.584084"
      ]
     },
     "execution_count": 77,
     "metadata": {},
     "output_type": "execute_result"
    }
   ],
   "source": [
    "auc_race_df = pd.DataFrame(auc_dict_race, index=['marginal prior', 'default', 'DREM', 'DPHY', 'DEAR', 'DEYE'])\n",
    "auc_race_df = auc_race_df.rename(index={'default': 'MAR'})\n",
    "auc_race_df"
   ]
  },
  {
   "attachments": {},
   "cell_type": "markdown",
   "metadata": {},
   "source": [
    "# PCA Approach"
   ]
  },
  {
   "cell_type": "code",
   "execution_count": 4,
   "metadata": {},
   "outputs": [],
   "source": [
    "X, y = ds.ds.get_attack_df()\n",
    "# Convert X to float\n",
    "X = X.astype(float)\n",
    "y_onehot = ds.ds.sensitive_enc.transform(y.to_numpy().ravel().reshape(-1, 1)).toarray()"
   ]
  },
  {
   "cell_type": "code",
   "execution_count": 5,
   "metadata": {},
   "outputs": [],
   "source": [
    "load_model = True\n",
    "save_model = False\n",
    "\n",
    "if load_model:\n",
    "    pca_clfs = model_utils.load_model(f'<PATH_TO_MODEL>/{ds.ds.name}_pca_model.pkl')\n",
    "else:\n",
    "\n",
    "    pca_clfs = {}\n",
    "\n",
    "    pca_clfs['pca'] = {}\n",
    "\n",
    "    for test_size in [0.5, 0.6, 0.7, 0.8, 0.9]:\n",
    "        x_tr, x_te, y_tr, y_te = train_test_split(X, y_onehot, test_size=test_size, random_state=42)\n",
    "\n",
    "        pca = PCA(n_components=2)\n",
    "        pca.fit(x_tr)\n",
    "        pca_clfs['pca'][test_size] = pca\n",
    "        x_tr, x_te = map(lambda x: pd.DataFrame(pca.transform(x), index=x.index), [x_tr, x_te])\n",
    "\n",
    "        # inv_clf = model_utils.get_model(max_iter=500, hidden_layer_sizes=(60, 50, 40, 30, 20, 10))\n",
    "        # inv_clf.fit(x_tr, y_tr)\n",
    "        pca_clf = model_utils.proxy_train_mlp(x_tr.to_numpy(), y_tr, epochs=100)\n",
    "        pca_clfs[test_size] = pca_clf\n",
    "\n",
    "        acc = 100 * pca_clf.score(x_te, y_te)\n",
    "        print(f'PCA accuracy with test size {test_size}: {acc}')\n",
    "\n",
    "    if save_model:\n",
    "        model_utils.save_model(pca_clfs, f'<PATH_TO_MODEL>/{ds.ds.name}_pca_model.pkl')"
   ]
  },
  {
   "cell_type": "code",
   "execution_count": 30,
   "metadata": {},
   "outputs": [
    {
     "data": {
      "image/png": "[encoded data removed]",
      "text/plain": [
       "<Figure size 400x400 with 1 Axes>"
      ]
     },
     "metadata": {},
     "output_type": "display_data"
    }
   ],
   "source": [
    "# plot the data in 2D\n",
    "fig, ax = plt.subplots(figsize=(4, 4))\n",
    "ax.set_title('PCA')\n",
    "ax.set_xlabel('PC1')\n",
    "ax.set_ylabel('PC2')\n",
    "\n",
    "test_size = 0.9\n",
    "\n",
    "x_tr, x_te, y_tr, y_te = train_test_split(X, y_onehot, test_size=test_size, random_state=42)\n",
    "\n",
    "pca_clf = pca_clfs[test_size]\n",
    "pca = pca_clfs['pca'][test_size]\n",
    "x_tr, x_te = map(lambda x: pd.DataFrame(pca.transform(x), index=x.index), [x_tr, x_te])\n",
    "\n",
    "x_te = x_te.to_numpy()\n",
    "\n",
    "# sample only 100 points from x_te and y_te to plot\n",
    "x_te, y_te = map(lambda x: x[:1000], [x_te, y_te])\n",
    "\n",
    "# y_te has values 0 or 1\n",
    "# use y_te to get the color\n",
    "colors = ['red', 'blue']\n",
    "for i in range(len(x_te)):\n",
    "    ax.scatter(x_te[i, 0], x_te[i, 1], color=colors[y_te[i].argmax()])\n",
    "plt.show()\n"
   ]
  },
  {
   "cell_type": "code",
   "execution_count": 8,
   "metadata": {},
   "outputs": [
    {
     "name": "stdout",
     "output_type": "stream",
     "text": [
      "AUC with test size 0.9: 0.6882299137224867\n",
      "AUC with test size 0.8: 0.6816837620807288\n",
      "AUC with test size 0.7: 0.6872772697701737\n",
      "AUC with test size 0.6: 0.6223830080585047\n",
      "AUC with test size 0.5: 0.4436415919458482\n"
     ]
    }
   ],
   "source": [
    "pca_names = []\n",
    "pca_aucs = []\n",
    "\n",
    "for test_size in [0.9, 0.8, 0.7, 0.6, 0.5]:\n",
    "    x_tr, x_te, y_tr, y_te = train_test_split(X, y_onehot, test_size=test_size, random_state=42)\n",
    "\n",
    "    pca_clf = pca_clfs[test_size]\n",
    "    pca = pca_clfs['pca'][test_size]\n",
    "\n",
    "    x_tr, x_te = map(lambda x: pd.DataFrame(pca.transform(x), index=x.index), [x_tr, x_te])\n",
    "    \n",
    "    # calculate auc\n",
    "    y_pred = pca_clf.predict_proba(x_te)\n",
    "    auc = roc_auc_score(y_te, y_pred)\n",
    "    pca_names.append(f'Inverse-{round((1-test_size)*100)}%')\n",
    "    pca_aucs.append(auc*100)\n",
    "    print(f'AUC with test size {test_size}: {auc}')"
   ]
  },
  {
   "cell_type": "code",
   "execution_count": 24,
   "metadata": {},
   "outputs": [
    {
     "name": "stdout",
     "output_type": "stream",
     "text": [
      "Correlation between sex=female and y: \n",
      " 0   -0.215873\n",
      "1    0.173536\n",
      "dtype: float64\n",
      "Correlation between sex=male and y: \n",
      " 0   -0.247972\n",
      "1    0.237983\n",
      "dtype: float64\n",
      "Correlation between race=white and y: \n",
      " 0   -0.214484\n",
      "1    0.147567\n",
      "dtype: float64\n",
      "Correlation between race=other and y: \n",
      " 0   -0.227755\n",
      "1    0.139988\n",
      "dtype: float64\n",
      "Correlation between race=black and y: \n",
      " 0   -0.295523\n",
      "1    0.129385\n",
      "dtype: float64\n",
      "Correlation between relig=catholic and y: \n",
      " 0   -0.199335\n",
      "1    0.092997\n",
      "dtype: float64\n",
      "Correlation between relig=protestant and y: \n",
      " 0   -0.208331\n",
      "1    0.161940\n",
      "dtype: float64\n",
      "Correlation between relig=none and y: \n",
      " 0   -0.184526\n",
      "1    0.064951\n",
      "dtype: float64\n"
     ]
    }
   ],
   "source": [
    "subgroup_columns = ['sex', 'race', 'relig']\n",
    "\n",
    "# if 'att_enc' not in globals():\n",
    "#     y_onehot, att_enc = model_utils.get_onehot(y.to_numpy().ravel().reshape(-1,1))\n",
    "test_size = 0.9\n",
    "\n",
    "x_tr, x_te, y_tr, y_te = train_test_split(X, y, test_size=test_size, random_state=42)\n",
    "\n",
    "pca_clf = pca_clfs[test_size]\n",
    "pca = pca_clfs['pca'][test_size]\n",
    "\n",
    "x_tr, x_te = map(lambda x: pd.DataFrame(pca.transform(x), index=x.index), [x_tr, x_te])\n",
    "\n",
    "for col in subgroup_columns:\n",
    "    values = ds.ds.unique_values_dict[col]\n",
    "    subgroup_asrs = {}\n",
    "    subgroup_dists = {}\n",
    "\n",
    "    for val in values:\n",
    "        if len(get_indices_by_conditions(ds, X, {col:val})) > 500:\n",
    "            indices = get_indices_by_conditions(ds, x_te, {col:val})\n",
    "            x_te_subgroup = x_te.loc[indices]\n",
    "            y_te_subgroup = y_te.loc[indices]\n",
    "\n",
    "            # calculate the correlation between x_te_subgroup features and the sensitive attribute y_te_subgroup\n",
    "            corr = x_te_subgroup.corrwith(y_te_subgroup)\n",
    "\n",
    "            print(f'Correlation between {col}={val} and y: \\n {corr}')\n",
    "\n",
    "            # subgroup_asrs[val] = get_accuracy(ds, {col:val}, neuron_clf, X_neuron, y, metric=metric)\n",
    "            # subgroup_dists[val] = subgroup_vulnerability_distance(ds, {col:val}, X_neuron)\n",
    "\n",
    "    # subgroup_disparity_dict[col] = {'asrs':subgroup_asrs, 'dists':subgroup_dists}\n",
    "\n"
   ]
  },
  {
   "cell_type": "code",
   "execution_count": 6,
   "metadata": {},
   "outputs": [],
   "source": [
    "subgroup_columns = ['sex', 'race', 'relig']\n",
    "\n",
    "# if 'att_enc' not in globals():\n",
    "#     y_onehot, att_enc = model_utils.get_onehot(y.to_numpy().ravel().reshape(-1,1))\n",
    "test_size = 0.9\n",
    "\n",
    "x_tr, x_te, y_tr, y_te = train_test_split(X, y, test_size=test_size, random_state=42)\n",
    "\n",
    "pca_clf = pca_clfs[test_size]\n",
    "pca = pca_clfs['pca'][test_size]\n",
    "\n",
    "x_tr, x_te = map(lambda x: pd.DataFrame(pca.transform(x), index=x.index), [x_tr, x_te])\n",
    "\n",
    "subgroup_disparity_dict = get_subgroup_disparity(ds, subgroup_columns, pca_clf, x_te, y_te, metric='auc')\n",
    "# plot_subgroup_disparity(subgroup_disparity_dict, req_metrics=['asrs'])"
   ]
  },
  {
   "cell_type": "code",
   "execution_count": 7,
   "metadata": {},
   "outputs": [
    {
     "data": {
      "text/plain": [
       "{'sex': {'asrs': {'female': 67.09565537376565, 'male': 67.63211636734773},\n",
       "  'dists': {'female': 0.40386482434639986, 'male': 0.4288420895965453}},\n",
       " 'race': {'asrs': {'white': 68.60499680718284,\n",
       "   'other': 68.1202105684014,\n",
       "   'black': 70.7562722167843},\n",
       "  'dists': {'white': 0.48478103092452246,\n",
       "   'other': 0.4545342440718738,\n",
       "   'black': 0.5227638039962372}},\n",
       " 'relig': {'asrs': {'catholic': 66.1923596372757,\n",
       "   'protestant': 70.54004924759978,\n",
       "   'none': 62.97912350656776},\n",
       "  'dists': {'catholic': 0.38058030033456874,\n",
       "   'protestant': 0.4801861165946572,\n",
       "   'none': 0.2762346338290832}}}"
      ]
     },
     "execution_count": 7,
     "metadata": {},
     "output_type": "execute_result"
    }
   ],
   "source": [
    "subgroup_disparity_dict"
   ]
  },
  {
   "attachments": {},
   "cell_type": "markdown",
   "metadata": {},
   "source": [
    "# Investigate Neuron Output"
   ]
  },
  {
   "attachments": {},
   "cell_type": "markdown",
   "metadata": {},
   "source": [
    "## From LOMIA Case 1"
   ]
  },
  {
   "cell_type": "code",
   "execution_count": null,
   "metadata": {},
   "outputs": [],
   "source": [
    "X_attack_neuron = make_neuron_output_data(ds, X_attack, clf, y_columns)"
   ]
  },
  {
   "cell_type": "code",
   "execution_count": null,
   "metadata": {},
   "outputs": [],
   "source": [
    "neuron_clf = model_utils.get_model(max_iter=500)"
   ]
  },
  {
   "cell_type": "code",
   "execution_count": null,
   "metadata": {},
   "outputs": [],
   "source": [
    "neuron_clf.fit(X_attack_neuron, y_attack_onehot)"
   ]
  },
  {
   "attachments": {},
   "cell_type": "markdown",
   "metadata": {},
   "source": [
    "## From Original Data"
   ]
  },
  {
   "cell_type": "code",
   "execution_count": 15,
   "metadata": {},
   "outputs": [],
   "source": [
    "X, y = ds.ds.get_attack_df()\n",
    "X = X.astype(np.float32)\n",
    "X_neuron = make_neuron_output_data(ds, X, clf, ds.ds.y_columns)\n",
    "\n"
   ]
  },
  {
   "cell_type": "code",
   "execution_count": 16,
   "metadata": {},
   "outputs": [],
   "source": [
    "# subset features of X_neuron: 0:32 and 59:91\n",
    "X_neuron = X_neuron.iloc[:,np.concatenate((np.arange(0,32), np.arange(59,91)))]"
   ]
  },
  {
   "cell_type": "code",
   "execution_count": 17,
   "metadata": {},
   "outputs": [],
   "source": [
    "# find the indices of the data points that are correctly classified by the target model\n",
    "# the prediction is a one-hot encoded vector, so we need to take the argmax to get the class label\n",
    "df_x, df_y = ds.ds.df.drop([ds.ds.meta[\"y_column\"], 'is_train'], axis=1), ds.ds.df[[ds.ds.meta[\"y_column\"]]]\n",
    "correct_indices = np.where(df_y.to_numpy().squeeze() != clf.predict(df_x).argmax(axis=1))[0]"
   ]
  },
  {
   "cell_type": "code",
   "execution_count": null,
   "metadata": {},
   "outputs": [],
   "source": [
    "# get the data points that are correctly classified by the target model\n",
    "# X, y, X_neuron = X.iloc[correct_indices, :], y.iloc[correct_indices], X_neuron.iloc[correct_indices, :]"
   ]
  },
  {
   "cell_type": "code",
   "execution_count": 18,
   "metadata": {},
   "outputs": [
    {
     "name": "stderr",
     "output_type": "stream",
     "text": [
      "The operator 'aten::sgn.out' is not currently supported on the MPS backend and will fall back to run on the CPU. This may have performance implications. (Triggered internally at /Users/runner/work/_temp/anaconda/conda-bld/pytorch_1681628961578/work/aten/src/ATen/mps/MPSFallback.mm:12.)\n",
      "Stochastic Optimizer: Maximum iterations (1) reached and the optimization hasn't converged yet.\n",
      "Stochastic Optimizer: Maximum iterations (1) reached and the optimization hasn't converged yet.\n",
      "Stochastic Optimizer: Maximum iterations (1) reached and the optimization hasn't converged yet.\n",
      "Stochastic Optimizer: Maximum iterations (1) reached and the optimization hasn't converged yet.\n",
      "Stochastic Optimizer: Maximum iterations (1) reached and the optimization hasn't converged yet.\n",
      "Stochastic Optimizer: Maximum iterations (1) reached and the optimization hasn't converged yet.\n"
     ]
    }
   ],
   "source": [
    "# Split x and y into train and test\n",
    "load_model = False\n",
    "save_model = False\n",
    "\n",
    "test_sizes = [0.5, 0.6, 0.7, 0.8, 0.9]\n",
    "# test_sizes = [0.5]\n",
    "\n",
    "if load_model:\n",
    "    neuron_clfs = model_utils.load_model(f'<PATH_TO_MODEL>/neuron_clfs_{ds.ds.name}.pkl')\n",
    "    x_n_tr, x_n_te, y_n_tr, y_n_te = train_test_split(X_neuron, y, test_size=test_sizes[0], random_state=42)\n",
    "    y_n_tr_onehot = ds.ds.sensitive_enc.transform(y_n_tr.to_numpy().ravel().reshape(-1,1)).toarray()\n",
    "else:\n",
    "    neuron_clfs={}\n",
    "\n",
    "    hidden_layers = [64, 32, 16, 8, 4]\n",
    "\n",
    "    lomia_case_1_indices = get_LOMIA_case_1_correct_examples(ds, X_train)\n",
    "    # subset lomia_case_1_indices with the correct indices\n",
    "    # lomia_case_1_indices = np.intersect1d(lomia_case_1_indices, correct_indices)\n",
    "    if 'lomia_case_1_indices' in globals():\n",
    "        x_n_tr, x_n_te, y_n_tr, y_n_te = X_neuron.iloc[lomia_case_1_indices], X_neuron.iloc[~np.isin(np.arange(len(X_neuron)), lomia_case_1_indices)], y[lomia_case_1_indices], y[~np.isin(np.arange(len(X_neuron)), lomia_case_1_indices)]\n",
    "\n",
    "        x_n_tr, x_n_te = data_utils.normalize(x_n_tr, x_n_te)\n",
    "\n",
    "        y_n_tr = ds.ds.sensitive_enc.transform(y_n_tr.to_numpy().ravel().reshape(-1,1)).toarray()\n",
    "        # new_clf = model_utils.get_model(max_iter=2000)\n",
    "        # # new_clf.set_params(hidden_layer_sizes=hidden_layers)\n",
    "        # new_clf.set_params(alpha=0.1, solver='adam', activation='relu')\n",
    "        # neuron_clfs['lomia_case_1'] = new_clf\n",
    "        # neuron_clfs['lomia_case_1'].fit(x_n_tr, y_n_tr)\n",
    "        neuron_clfs['lomia_case_1'] = proxy_train_mlp(x_n_tr.to_numpy(), y_n_tr, epochs=100)\n",
    "\n",
    "    for test_size in test_sizes:\n",
    "        x_n_tr, x_n_te, y_n_tr, y_n_te = train_test_split(X_neuron, y, test_size=test_size, random_state=42)\n",
    "        y_n_tr = ds.ds.sensitive_enc.transform(y_n_tr.to_numpy().ravel().reshape(-1,1)).toarray()\n",
    "\n",
    "        x_n_tr, x_n_te = data_utils.normalize(x_n_tr, x_n_te)\n",
    "        \n",
    "        # new_clf = model_utils.get_model(max_iter=2000)\n",
    "        # # new_clf.set_params(hidden_layer_sizes=hidden_layers)\n",
    "        # new_clf.set_params(alpha=0.1, solver='adam', activation='relu')\n",
    "        # neuron_clfs[test_size] = new_clf\n",
    "        # neuron_clfs[test_size].fit(x_n_tr, y_n_tr)\n",
    "        neuron_clfs[test_size] = proxy_train_mlp(x_n_tr.to_numpy(), y_n_tr, epochs=100)\n",
    "\n",
    "    if save_model:\n",
    "        model_utils.save_model(neuron_clfs, f'<PATH_TO_MODEL>/neuron_clfs_{ds.ds.name}.pkl')"
   ]
  },
  {
   "attachments": {},
   "cell_type": "markdown",
   "metadata": {},
   "source": [
    "## Compare whitebox correlation attack and our attack"
   ]
  },
  {
   "cell_type": "code",
   "execution_count": null,
   "metadata": {},
   "outputs": [],
   "source": [
    "top_10_corr_neurons_model = wb_corr_attacks(x_n_tr, y_n_tr)\n",
    "wb_preds = top_10_corr_neurons_model(torch.from_numpy(X_neuron).float()).detach().numpy()\n",
    "# draw the ROC curve\n",
    "y_wb_att = y.ravel().astype(np.float32)\n",
    "fpr, tpr, thresholds = roc_curve(y_wb_att, wb_preds)\n",
    "\n",
    "roc_curve_plot(fpr, tpr)"
   ]
  },
  {
   "cell_type": "code",
   "execution_count": null,
   "metadata": {},
   "outputs": [],
   "source": [
    "our_preds = neuron_clfs[0.9].predict_proba(X_neuron)[:,1]\n",
    "\n",
    "fpr, tpr, thresholds = roc_curve(y_wb_att, our_preds)\n",
    "\n",
    "roc_curve_plot(fpr, tpr)"
   ]
  },
  {
   "cell_type": "code",
   "execution_count": 25,
   "metadata": {},
   "outputs": [],
   "source": [
    "names = []\n",
    "aucs = []\n",
    "for test_size in [0.9, 0.8, 0.7, 0.6, 0.5]:\n",
    "    x_n_tr, x_n_te, y_n_tr, y_n_te = train_test_split(X_neuron, y, test_size=test_size, random_state=42)\n",
    "    top_10_corr_neurons_model = wb_corr_attacks(x_n_tr, y_n_tr)\n",
    "\n",
    "    # wb_preds = top_10_corr_neurons_model(torch.from_numpy(X_neuron).float()).detach().numpy()\n",
    "    wb_preds = top_10_corr_neurons_model(torch.from_numpy(x_n_te.to_numpy()).float()).detach().numpy()\n",
    "    # draw the ROC curve\n",
    "    y_wb_att = y_n_te.ravel().astype(np.float32)\n",
    "    names.append(f'wb-corr-{round((1-test_size)*100)}%')\n",
    "    aucs.append(roc_auc_score(y_wb_att, wb_preds))\n",
    "\n",
    "for test_size in [0.9, 0.8, 0.7, 0.6, 0.5]:\n",
    "    names.append(f'Ours-{round((1-test_size)*100)}%')\n",
    "    x_n_tr, x_n_te, y_n_tr, y_n_te = train_test_split(X_neuron, y, test_size=test_size, random_state=42)\n",
    "\n",
    "    x_n_tr, x_n_te = data_utils.normalize(x_n_tr, x_n_te)\n",
    "\n",
    "    preds = neuron_clfs[test_size].predict_proba(x_n_te)[:,1]\n",
    "    y_wb_att = y_n_te.ravel().astype(np.float32)\n",
    "    aucs.append(roc_auc_score(y_wb_att, preds))\n",
    "\n",
    "names.append('LOMIA')\n",
    "lomia_preds = neuron_clfs['lomia_case_1'].predict_proba(x_n_te)[:,1]\n",
    "aucs.append(roc_auc_score(y_wb_att, lomia_preds))"
   ]
  },
  {
   "cell_type": "code",
   "execution_count": 26,
   "metadata": {},
   "outputs": [
    {
     "data": {
      "text/plain": [
       "[0.678912491732209,\n",
       " 0.6787099467979766,\n",
       " 0.6842817359292275,\n",
       " 0.686866137153973,\n",
       " 0.6904934920184903,\n",
       " 0.6755199624708518,\n",
       " 0.3008810993060397,\n",
       " 0.7012763456000798,\n",
       " 0.6946487774554496,\n",
       " 0.7127691987583913,\n",
       " 0.6863817886028494]"
      ]
     },
     "execution_count": 26,
     "metadata": {},
     "output_type": "execute_result"
    }
   ],
   "source": [
    "aucs"
   ]
  },
  {
   "cell_type": "code",
   "execution_count": null,
   "metadata": {},
   "outputs": [],
   "source": [
    "# plot bars with x ticks as names and y as aucs\n",
    "# make the yticks vertical\n",
    "plt.figure(figsize=(18,5))\n",
    "plt.bar(names + inv_names, (np.array(aucs)*100).tolist() + inv_aucs)\n",
    "plt.hlines(aucs[4]*100, -1, len(names + inv_names), linestyles='dashed')\n",
    "# plt.ylim(60, 75)\n",
    "plt.title('AUCs of different attacks')\n",
    "plt.xticks(rotation=90)\n",
    "plt.show()"
   ]
  },
  {
   "cell_type": "code",
   "execution_count": null,
   "metadata": {},
   "outputs": [],
   "source": [
    "all_aucs = (np.array(aucs[:-1])*100).tolist() + inv_aucs\n",
    "\n",
    "# make a 2d numpy array of the aucs with shape (3, -1)\n",
    "aucs_2d = np.array(all_aucs).reshape(3, -1)"
   ]
  },
  {
   "cell_type": "code",
   "execution_count": null,
   "metadata": {},
   "outputs": [],
   "source": [
    "aucs_2d = pd.DataFrame(aucs_2d, columns=[f'{(i+1)*10}%' for i in range(5)], index=['WB-Corr', 'Ours', 'Inverse'])"
   ]
  },
  {
   "cell_type": "code",
   "execution_count": null,
   "metadata": {},
   "outputs": [],
   "source": [
    "print(aucs_2d.round(2).to_latex(float_format=\"%.2f\"))"
   ]
  },
  {
   "cell_type": "code",
   "execution_count": null,
   "metadata": {},
   "outputs": [],
   "source": [
    "names + inv_names"
   ]
  },
  {
   "attachments": {},
   "cell_type": "markdown",
   "metadata": {},
   "source": [
    "## Subgroup Biased Neuron"
   ]
  },
  {
   "cell_type": "code",
   "execution_count": null,
   "metadata": {},
   "outputs": [],
   "source": [
    "subgroup_columns = ['sex', 'race', 'relig']\n",
    "\n",
    "subgroup_disparity_dict, subgroup_clfs = improved_subgroup_attack(ds, subgroup_columns, neuron_clfs[0.5], X_neuron, y, metric='accuracy')\n",
    "\n",
    "print(subgroup_disparity_dict)\n",
    "\n",
    "# plot_subgroup_disparity(subgroup_disparity_dict, subgroup_columns)"
   ]
  },
  {
   "cell_type": "code",
   "execution_count": null,
   "metadata": {},
   "outputs": [],
   "source": [
    "subgroup_columns = ['sex', 'race', 'relig']\n",
    "\n",
    "subgroup_disparity_dict, subgroup_clfs = improved_subgroup_attack(ds, subgroup_columns, neuron_clfs[0.5], X_neuron, y, metric='auc', dist_percentiles=[0.5, 0.6, 0.7, 0.8, 0.9, 0.95, 0.99], epochs=100)\n",
    "\n",
    "print(subgroup_disparity_dict)"
   ]
  },
  {
   "cell_type": "code",
   "execution_count": null,
   "metadata": {},
   "outputs": [],
   "source": [
    "def highlight_max(row):\n",
    "    # str_values = row[:2]\n",
    "    # row = row[2:]\n",
    "    max_val = row[2:-1].max()\n",
    "    return ([r'\\textbf{{{}}}'.format(val) if type(val) == float and val == max_val else val for val in row])\n",
    "\n",
    "# round up float values to 2 decimal places\n",
    "result = subgroup_disparity_dict.round(2)\n",
    "\n",
    "# sort by 'Subgroup Name' column first and then by 'Marginal Prior' column\n",
    "result = result.sort_values(by=['Subgroup Name', 'Marginal Prior'], ascending=[False, False])\n",
    "\n",
    "# convert 'Margin Prior' column to string\n",
    "result['Marginal Prior'] = result['Marginal Prior'].apply(lambda x: str(x))\n",
    "\n",
    "result = result.apply(highlight_max, axis=1)\n",
    "\n",
    "result = pd.DataFrame(result.to_list(), columns=subgroup_disparity_dict.columns)\n",
    "\n",
    "# sort by 'Subgroup Name' column first and then by 'Marginal Prior' column\n",
    "# result = result.sort_values(by=['Subgroup Name', 'Marginal Prior'], ascending=[False, False])\n",
    "\n",
    "# put 'Marginal Prior' column as the 3rd column\n",
    "cols = result.columns.tolist()\n",
    "cols = cols[:2] + cols[-1:] + cols[2:-1]\n",
    "result = result[cols]"
   ]
  },
  {
   "cell_type": "code",
   "execution_count": null,
   "metadata": {},
   "outputs": [],
   "source": [
    "result"
   ]
  },
  {
   "cell_type": "code",
   "execution_count": null,
   "metadata": {},
   "outputs": [],
   "source": [
    "from tabulate import tabulate\n",
    "\n",
    "table = tabulate(result, headers='keys', tablefmt='latex_booktabs', showindex=False, floatfmt=\".2f\")\n",
    "\n",
    "table = table.replace(r'\\textbackslash{}', '\\\\')\n",
    "\n",
    "table = table.replace(r'\\{', '{').replace(r'\\}', '}')\n",
    "\n",
    "# print the LaTeX table\n",
    "print(table)"
   ]
  },
  {
   "attachments": {},
   "cell_type": "markdown",
   "metadata": {},
   "source": [
    "## Most Discriminative Neuron"
   ]
  },
  {
   "cell_type": "code",
   "execution_count": null,
   "metadata": {},
   "outputs": [],
   "source": [
    "def get_top_dist_indices(ds, conditions, X_neuron, dist_percentile=0.9):\n",
    "    # normalize X_neuron first\n",
    "    X_neuron_mean = X_neuron.mean(axis=0)\n",
    "    X_neuron_std = X_neuron.std(axis=0)\n",
    "    X_neuron = (X_neuron - X_neuron_mean) / X_neuron_std\n",
    "    vec = subgroup_vulnerability_distance_vector(ds, conditions, X_neuron)\n",
    "    # filter out the nan values\n",
    "    nan_indices = np.argwhere(np.isnan(vec))\n",
    "    vec = np.delete(vec, nan_indices)\n",
    "    X_neuron = np.delete(X_neuron, nan_indices, axis=0)\n",
    "    pos_vec = np.abs(vec)\n",
    "    sorted_indices = np.argsort(-pos_vec)\n",
    "    cum_norm = np.array([np.linalg.norm(vec[sorted_indices[:i]]) for i in range(1, len(sorted_indices)+1)])\n",
    "    cum_norm_p = cum_norm / cum_norm[-1]\n",
    "    idx = np.argmax(cum_norm_p > dist_percentile)\n",
    "    top_indices = sorted_indices[:idx]\n",
    "\n",
    "    return top_indices"
   ]
  },
  {
   "cell_type": "code",
   "execution_count": null,
   "metadata": {},
   "outputs": [],
   "source": [
    "get_top_dist_indices(ds, {'sex':'male'}, x_n_tr)"
   ]
  },
  {
   "cell_type": "code",
   "execution_count": null,
   "metadata": {},
   "outputs": [],
   "source": [
    "male_indices = get_indices_by_conditions(ds, x_n_tr, {'sex': 'male'})\n",
    "female_indices = get_indices_by_conditions(ds, x_n_tr, {'sex': 'female'})"
   ]
  },
  {
   "attachments": {},
   "cell_type": "markdown",
   "metadata": {},
   "source": [
    "## Plot subgroup disparity"
   ]
  },
  {
   "cell_type": "code",
   "execution_count": null,
   "metadata": {},
   "outputs": [],
   "source": [
    "subgroup_columns = ['sex', 'race', 'relig']\n",
    "\n",
    "# if 'att_enc' not in globals():\n",
    "#     y_onehot, att_enc = model_utils.get_onehot(y.to_numpy().ravel().reshape(-1,1))\n",
    "test_size = 0.5\n",
    "\n",
    "x_n_tr, x_n_te, y_n_tr, y_n_te= train_test_split(X_neuron, y, test_size=test_size, random_state=42)\n",
    "x_n_tr, x_n_te = data_utils.normalize(x_n_tr, x_n_te)\n",
    "subgroup_disparity_dict = get_subgroup_disparity(ds, subgroup_columns, neuron_clfs[round(1-test_size,1)], x_n_te, y_n_te, metric='auc')\n",
    "plot_subgroup_disparity(subgroup_disparity_dict)"
   ]
  },
  {
   "cell_type": "code",
   "execution_count": 23,
   "metadata": {},
   "outputs": [
    {
     "name": "stderr",
     "output_type": "stream",
     "text": [
      "invalid value encountered in divide\n",
      "invalid value encountered in divide\n",
      "invalid value encountered in divide\n",
      "invalid value encountered in divide\n",
      "invalid value encountered in divide\n",
      "invalid value encountered in divide\n",
      "invalid value encountered in divide\n",
      "invalid value encountered in divide\n"
     ]
    },
    {
     "name": "stdout",
     "output_type": "stream",
     "text": [
      "{'sex': {'asrs': {'female': 68.20002241566108, 'male': 65.07777791083382}, 'dists': {'female': 0.37712084218518865, 'male': 0.29108320118005815}}, 'race': {'asrs': {'white': 68.24069778430717, 'black': 76.88333333333333}, 'dists': {'white': 0.34932594051307336, 'black': 0.29529320333510395}}, 'relig': {'asrs': {'catholic': 66.1837089224533, 'protestant': 70.54483720093542, 'none': 59.9905303030303}, 'dists': {'catholic': 0.31881531268447344, 'protestant': 0.32945460061331655, 'none': 0.27406309902497134}}}\n"
     ]
    },
    {
     "data": {
      "image/png": "[encoded data removed]",
      "text/plain": [
       "<Figure size 1000x500 with 2 Axes>"
      ]
     },
     "metadata": {},
     "output_type": "display_data"
    },
    {
     "data": {
      "image/png": "[encoded data removed]",
      "text/plain": [
       "<Figure size 1000x500 with 2 Axes>"
      ]
     },
     "metadata": {},
     "output_type": "display_data"
    },
    {
     "data": {
      "image/png": "[encoded data removed]",
      "text/plain": [
       "<Figure size 1000x500 with 2 Axes>"
      ]
     },
     "metadata": {},
     "output_type": "display_data"
    }
   ],
   "source": [
    "subgroup_columns = ['sex', 'race', 'relig']\n",
    "\n",
    "# if 'att_enc' not in globals():\n",
    "#     y_onehot, att_enc = model_utils.get_onehot(y.to_numpy().ravel().reshape(-1,1))\n",
    "test_size = 0.5\n",
    "\n",
    "x_n_tr, x_n_te, y_n_tr, y_n_te= train_test_split(X_neuron, y, test_size=test_size, random_state=42)\n",
    "subgroup_disparity_dict = get_subgroup_disparity_baseline(ds, subgroup_columns, x_n_te, y_n_te, metric='auc')\n",
    "print(subgroup_disparity_dict)\n",
    "plot_subgroup_disparity(subgroup_disparity_dict)"
   ]
  },
  {
   "cell_type": "code",
   "execution_count": null,
   "metadata": {},
   "outputs": [],
   "source": [
    "test_indices = np.arange(len(X_neuron))[np.isin(X_neuron, x_n_te)]"
   ]
  },
  {
   "attachments": {},
   "cell_type": "markdown",
   "metadata": {},
   "source": [
    "## Our attack with random data"
   ]
  },
  {
   "cell_type": "code",
   "execution_count": null,
   "metadata": {},
   "outputs": [],
   "source": [
    "random_df = filter_random_data(ds, clf, num_samples=1000000)\n",
    "X_random_neuron = make_neuron_output_data(random_df, clf, y_columns)\n",
    "y_random = random_df[ds.ds.meta['sensitive_column'] + \"_\" + ds.ds.meta['sensitive_positive']]"
   ]
  },
  {
   "cell_type": "code",
   "execution_count": null,
   "metadata": {},
   "outputs": [],
   "source": [
    "random_neuron_clf = model_utils.get_model(max_iter=500)\n",
    "y_random_onehot = att_enc.transform(y_random.to_numpy().ravel().reshape(-1,1))\n",
    "random_neuron_clf.fit(X_random_neuron, y_random_onehot)"
   ]
  },
  {
   "cell_type": "code",
   "execution_count": null,
   "metadata": {},
   "outputs": [],
   "source": [
    "# test on the test data\n",
    "acc = 100 * random_neuron_clf.score(x_n_te, att_enc.transform(y_n_te.to_numpy().ravel().reshape(-1,1)))\n",
    "if True:\n",
    "    print(f\"Attack accuracy: {acc}\")"
   ]
  },
  {
   "cell_type": "code",
   "execution_count": null,
   "metadata": {},
   "outputs": [],
   "source": [
    "t1 = torch.from_numpy(X_train.iloc[0].to_numpy()).float().to(model_utils.device)\n",
    "# out_1 = torch.relu(np.matmul(X_train.iloc[0].to_numpy(), clf.coefs_[0]) + clf.intercepts_[0])\n",
    "out_1 = torch.relu(torch.matmul(t1, torch.from_numpy(clf.coefs_[0]).float().to(model_utils.device)) + torch.from_numpy(clf.intercepts_[0]).float().to(model_utils.device))\n",
    "print(out_1)\n",
    "out_2 = (np.matmul(out_1, clf.coefs_[1]) + clf.intercepts_[1])\n",
    "print(out_2)"
   ]
  }
 ],
 "metadata": {
  "colab": {
   "provenance": []
  },
  "gpuClass": "standard",
  "kernelspec": {
   "display_name": "Python 3 (ipykernel)",
   "language": "python",
   "name": "python3"
  },
  "language_info": {
   "codemirror_mode": {
    "name": "ipython",
    "version": 3
   },
   "file_extension": ".py",
   "mimetype": "text/x-python",
   "name": "python",
   "nbconvert_exporter": "python",
   "pygments_lexer": "ipython3",
   "version": "3.9.16"
  }
 },
 "nbformat": 4,
 "nbformat_minor": 4
}

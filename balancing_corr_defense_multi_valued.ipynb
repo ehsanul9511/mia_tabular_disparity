{
 "cells": [
  {
   "cell_type": "code",
   "execution_count": 1,
   "metadata": {},
   "outputs": [],
   "source": [
    "%load_ext autoreload\n",
    "%autoreload 2"
   ]
  },
  {
   "cell_type": "code",
   "execution_count": 2,
   "metadata": {},
   "outputs": [],
   "source": [
    "import warnings\n",
    "\n",
    "warnings.filterwarnings('ignore')"
   ]
  },
  {
   "cell_type": "code",
   "execution_count": 3,
   "metadata": {},
   "outputs": [],
   "source": [
    "from tqdm import tqdm\n",
    "import os\n",
    "import data_utils\n",
    "import model_utils\n",
    "from attack_utils import get_CSMIA_case_by_case_results, CSMIA_attack, LOMIA_attack\n",
    "from data_utils import oneHotCatVars, filter_random_data_by_conf_score\n",
    "from vulnerability_score_utils import get_vulnerability_score, draw_hist_plot\n",
    "from experiment_utils import MIAExperiment\n",
    "from disparity_inference_utils import get_confidence_array, draw_confidence_array_scatter, get_indices_by_group_condition, get_corr_btn_sens_and_out_per_subgroup, get_slopes, get_angular_difference, calculate_stds, get_mutual_info_btn_sens_and_out_per_subgroup\n",
    "import numpy as np\n",
    "import pandas as pd\n",
    "import torch\n",
    "import torch.nn as nn\n",
    "from sklearn.neural_network import MLPClassifier\n",
    "from sklearn.preprocessing import OneHotEncoder\n",
    "from sklearn.neural_network._base import ACTIVATIONS\n",
    "from sklearn.model_selection import train_test_split\n",
    "from sklearn.metrics.pairwise import euclidean_distances\n",
    "from sklearn.metrics import roc_curve, auc, roc_auc_score, accuracy_score, precision_score, recall_score, f1_score, confusion_matrix, classification_report\n",
    "from sklearn.decomposition import PCA\n",
    "from sklearn.inspection import permutation_importance\n",
    "from fairlearn.metrics import equalized_odds_difference, demographic_parity_difference\n",
    "import matplotlib.pyplot as plt\n",
    "import seaborn as sns\n",
    "import tabulate\n",
    "import pickle\n",
    "# import utils\n",
    "import copy\n",
    "\n",
    "import matplotlib as mpl\n",
    "\n",
    "# Setting the font family, size, and weight globally\n",
    "mpl.rcParams['font.family'] = 'DejaVu Sans'\n",
    "mpl.rcParams['font.size'] = 8\n",
    "mpl.rcParams['font.weight'] = 'light'"
   ]
  },
  {
   "cell_type": "code",
   "execution_count": 6,
   "metadata": {},
   "outputs": [
    {
     "name": "stdout",
     "output_type": "stream",
     "text": [
      "[0, 1]\n",
      "{0: {(0, 1): 8750, (0, 0): 3750, (1, 1): 3750, (1, 0): 8750}, 1: {(0, 1): 6875, (0, 0): 5625, (1, 1): 5625, (1, 0): 6875}}\n"
     ]
    },
    {
     "name": "stderr",
     "output_type": "stream",
     "text": [
      "100%|██████████| 2/2 [00:01<00:00,  1.64it/s]\n"
     ]
    },
    {
     "name": "stdout",
     "output_type": "stream",
     "text": [
      "{0: {(0, 1): 6875, (0, 0): 5625, (1, 1): 5625, (1, 0): 6875}, 1: {(0, 1): 7500, (0, 0): 5000, (1, 1): 5000, (1, 0): 7500}}\n"
     ]
    },
    {
     "name": "stderr",
     "output_type": "stream",
     "text": [
      "100%|██████████| 2/2 [00:01<00:00,  1.67it/s]\n"
     ]
    }
   ],
   "source": [
    "i = -0.4\n",
    "j = -0.1\n",
    "experiment = MIAExperiment(sampling_condition_dict_list = \n",
    "    {\n",
    "            'correlation': 0,\n",
    "            'subgroup_col_name': 'SEX',\n",
    "            'marginal_prior': 1,\n",
    "            'corr_btn_sens_and_output_per_subgroup': (i, j),\n",
    "            # 'fixed_corr_in_test_data': True\n",
    "    }, shortname = f\"Corr_btn_sens_and_output_for_male_({i})_for_female_({j})\"\n",
    ")"
   ]
  },
  {
   "cell_type": "code",
   "execution_count": 4,
   "metadata": {},
   "outputs": [
    {
     "name": "stderr",
     "output_type": "stream",
     "text": [
      "  2%|▏         | 1/51 [00:01<00:58,  1.17s/it]"
     ]
    },
    {
     "name": "stdout",
     "output_type": "stream",
     "text": [
      "before scaling: 505 392 1.288265306122449\n",
      "after scaling: 392 392 1.0\n",
      "before scaling: 496 125 3.968\n",
      "after scaling: 125 125 1.0\n"
     ]
    },
    {
     "name": "stderr",
     "output_type": "stream",
     "text": [
      "  6%|▌         | 3/51 [00:03<00:52,  1.09s/it]"
     ]
    },
    {
     "name": "stdout",
     "output_type": "stream",
     "text": [
      "before scaling: 486 253 1.9209486166007905\n",
      "after scaling: 253 253 1.0\n"
     ]
    },
    {
     "name": "stderr",
     "output_type": "stream",
     "text": [
      " 16%|█▌        | 8/51 [00:08<00:49,  1.16s/it]"
     ]
    },
    {
     "name": "stdout",
     "output_type": "stream",
     "text": [
      "before scaling: 466 219 2.127853881278539\n",
      "after scaling: 219 219 1.0\n"
     ]
    },
    {
     "name": "stderr",
     "output_type": "stream",
     "text": [
      " 24%|██▎       | 12/51 [00:13<00:42,  1.09s/it]"
     ]
    },
    {
     "name": "stdout",
     "output_type": "stream",
     "text": [
      "before scaling: 447 336 1.3303571428571428\n",
      "after scaling: 336 336 1.0\n",
      "before scaling: 442 164 2.6951219512195124\n",
      "after scaling: 164 164 1.0\n"
     ]
    },
    {
     "name": "stderr",
     "output_type": "stream",
     "text": [
      " 29%|██▉       | 15/51 [00:16<00:38,  1.07s/it]"
     ]
    },
    {
     "name": "stdout",
     "output_type": "stream",
     "text": [
      "before scaling: 427 314 1.3598726114649682\n",
      "after scaling: 314 314 1.0\n"
     ]
    },
    {
     "name": "stderr",
     "output_type": "stream",
     "text": [
      " 33%|███▎      | 17/51 [00:18<00:36,  1.06s/it]"
     ]
    },
    {
     "name": "stdout",
     "output_type": "stream",
     "text": [
      "before scaling: 422 300 1.4066666666666667\n",
      "after scaling: 300 300 1.0\n"
     ]
    },
    {
     "name": "stderr",
     "output_type": "stream",
     "text": [
      " 37%|███▋      | 19/51 [00:20<00:33,  1.06s/it]"
     ]
    },
    {
     "name": "stdout",
     "output_type": "stream",
     "text": [
      "before scaling: 594 566 1.0494699646643109\n",
      "after scaling: 566 566 1.0\n",
      "before scaling: 407 163 2.496932515337423\n",
      "after scaling: 163 163 1.0\n"
     ]
    },
    {
     "name": "stderr",
     "output_type": "stream",
     "text": [
      " 49%|████▉     | 25/51 [00:26<00:27,  1.05s/it]"
     ]
    },
    {
     "name": "stdout",
     "output_type": "stream",
     "text": [
      "before scaling: 383 274 1.397810218978102\n",
      "after scaling: 274 274 1.0\n"
     ]
    },
    {
     "name": "stderr",
     "output_type": "stream",
     "text": [
      " 51%|█████     | 26/51 [00:28<00:26,  1.05s/it]"
     ]
    },
    {
     "name": "stdout",
     "output_type": "stream",
     "text": [
      "before scaling: 628 469 1.3390191897654584\n",
      "after scaling: 469 469 1.0\n",
      "before scaling: 373 126 2.9603174603174605\n",
      "after scaling: 126 126 1.0\n"
     ]
    },
    {
     "name": "stderr",
     "output_type": "stream",
     "text": [
      " 55%|█████▍    | 28/51 [00:30<00:24,  1.05s/it]"
     ]
    },
    {
     "name": "stdout",
     "output_type": "stream",
     "text": [
      "before scaling: 368 187 1.967914438502674\n",
      "after scaling: 187 187 1.0\n"
     ]
    },
    {
     "name": "stderr",
     "output_type": "stream",
     "text": [
      " 57%|█████▋    | 29/51 [00:31<00:23,  1.05s/it]"
     ]
    },
    {
     "name": "stdout",
     "output_type": "stream",
     "text": [
      "before scaling: 358 294 1.217687074829932\n",
      "after scaling: 294 294 1.0\n"
     ]
    },
    {
     "name": "stderr",
     "output_type": "stream",
     "text": [
      " 63%|██████▎   | 32/51 [00:34<00:19,  1.04s/it]"
     ]
    },
    {
     "name": "stdout",
     "output_type": "stream",
     "text": [
      "before scaling: 349 316 1.1044303797468353\n",
      "after scaling: 316 316 1.0\n"
     ]
    },
    {
     "name": "stderr",
     "output_type": "stream",
     "text": [
      " 67%|██████▋   | 34/51 [00:36<00:17,  1.05s/it]"
     ]
    },
    {
     "name": "stdout",
     "output_type": "stream",
     "text": [
      "before scaling: 667 493 1.3529411764705883\n",
      "after scaling: 492 493 0.9979716024340771\n"
     ]
    },
    {
     "name": "stderr",
     "output_type": "stream",
     "text": [
      " 69%|██████▊   | 35/51 [00:37<00:16,  1.04s/it]"
     ]
    },
    {
     "name": "stdout",
     "output_type": "stream",
     "text": [
      "before scaling: 334 120 2.783333333333333\n",
      "after scaling: 120 120 1.0\n"
     ]
    },
    {
     "name": "stderr",
     "output_type": "stream",
     "text": [
      " 78%|███████▊  | 40/51 [00:42<00:11,  1.03s/it]"
     ]
    },
    {
     "name": "stdout",
     "output_type": "stream",
     "text": [
      "before scaling: 309 260 1.1884615384615385\n",
      "after scaling: 260 260 1.0\n"
     ]
    },
    {
     "name": "stderr",
     "output_type": "stream",
     "text": [
      " 80%|████████  | 41/51 [00:43<00:10,  1.03s/it]"
     ]
    },
    {
     "name": "stdout",
     "output_type": "stream",
     "text": [
      "before scaling: 701 357 1.9635854341736694\n",
      "after scaling: 357 357 1.0\n"
     ]
    },
    {
     "name": "stderr",
     "output_type": "stream",
     "text": [
      " 82%|████████▏ | 42/51 [00:44<00:09,  1.03s/it]"
     ]
    },
    {
     "name": "stdout",
     "output_type": "stream",
     "text": [
      "before scaling: 300 76 3.9473684210526314\n",
      "after scaling: 76 76 1.0\n"
     ]
    },
    {
     "name": "stderr",
     "output_type": "stream",
     "text": [
      " 88%|████████▊ | 45/51 [00:47<00:06,  1.03s/it]"
     ]
    },
    {
     "name": "stdout",
     "output_type": "stream",
     "text": [
      "before scaling: 721 325 2.2184615384615385\n",
      "after scaling: 325 325 1.0\n"
     ]
    },
    {
     "name": "stderr",
     "output_type": "stream",
     "text": [
      " 90%|█████████ | 46/51 [00:48<00:05,  1.03s/it]"
     ]
    },
    {
     "name": "stdout",
     "output_type": "stream",
     "text": [
      "before scaling: 280 101 2.772277227722772\n",
      "after scaling: 101 101 1.0\n"
     ]
    },
    {
     "name": "stderr",
     "output_type": "stream",
     "text": [
      " 94%|█████████▍| 48/51 [00:50<00:03,  1.03s/it]"
     ]
    },
    {
     "name": "stdout",
     "output_type": "stream",
     "text": [
      "before scaling: 736 697 1.0559540889526542\n",
      "after scaling: 697 697 1.0\n"
     ]
    },
    {
     "name": "stderr",
     "output_type": "stream",
     "text": [
      " 96%|█████████▌| 49/51 [00:51<00:02,  1.03s/it]"
     ]
    },
    {
     "name": "stdout",
     "output_type": "stream",
     "text": [
      "before scaling: 265 171 1.5497076023391814\n",
      "after scaling: 171 171 1.0\n"
     ]
    },
    {
     "name": "stderr",
     "output_type": "stream",
     "text": [
      " 98%|█████████▊| 50/51 [00:52<00:01,  1.03s/it]"
     ]
    },
    {
     "name": "stdout",
     "output_type": "stream",
     "text": [
      "before scaling: 746 326 2.2883435582822087\n",
      "after scaling: 326 326 1.0\n"
     ]
    },
    {
     "name": "stderr",
     "output_type": "stream",
     "text": [
      "100%|██████████| 51/51 [00:53<00:00,  1.06s/it]"
     ]
    },
    {
     "name": "stdout",
     "output_type": "stream",
     "text": [
      "before scaling: 255 87 2.9310344827586206\n",
      "after scaling: 87 87 1.0\n",
      "[1000, 1000, 776, 252, 1000, 1000, 1000, 520, 1000, 1000, 1000, 1000, 1000, 1000, 1000, 469, 1000, 1000, 1000, 1000, 1000, 1000, 1000, 751, 1000, 371, 1000, 1000, 1000, 1000, 1000, 735, 1000, 710, 1000, 1000, 1000, 1000, 952, 400, 1000, 1000, 1000, 1000, 1000, 1000, 1000, 1000, 1000, 715, 1000, 1000, 746, 337, 1000, 508, 1000, 1000, 1000, 821, 1000, 1000, 1000, 905, 1000, 1000, 1000, 1000, 738, 359, 1000, 1000, 1000, 1000, 1000, 1000, 1000, 1000, 1000, 841, 1000, 1000, 509, 253, 1000, 1000, 1000, 1000, 1000, 1000, 450, 360, 1000, 1000, 1000, 1000, 947, 645, 1000, 1000, 436, 341]\n"
     ]
    },
    {
     "name": "stderr",
     "output_type": "stream",
     "text": [
      "\n"
     ]
    }
   ],
   "source": [
    "experiment = MIAExperiment(sampling_condition_dict_list = \n",
    "    {\n",
    "            'subgroup_col_name': 'ST',\n",
    "    }, shortname = f\"Corr_btn_sens_and_output_for_ST_ranging_from_0_to_-0.5\"\n",
    ")"
   ]
  },
  {
   "cell_type": "code",
   "execution_count": 46,
   "metadata": {},
   "outputs": [],
   "source": [
    "tmp = pd.read_csv('~/Downloads/tabular/<PATH_TO_DATASET>/census19.csv')"
   ]
  },
  {
   "cell_type": "code",
   "execution_count": 47,
   "metadata": {},
   "outputs": [
    {
     "data": {
      "text/plain": [
       "MAR\n",
       "0      915732\n",
       "4      518315\n",
       "2      179530\n",
       "1       35485\n",
       "3       26951\n",
       "Name: count, dtype: int64"
      ]
     },
     "execution_count": 47,
     "metadata": {},
     "output_type": "execute_result"
    }
   ],
   "source": [
    "tmp[['MAR']].value_counts()"
   ]
  },
  {
   "cell_type": "code",
   "execution_count": 5,
   "metadata": {},
   "outputs": [
    {
     "name": "stdout",
     "output_type": "stream",
     "text": [
      "Training classifier for experiment: Census19_subgroup_col_name_ST\n"
     ]
    }
   ],
   "source": [
    "save_model=True\n",
    "print(f\"Training classifier for experiment: {experiment}\")\n",
    "try:\n",
    "    experiment.clf_only_on_test = model_utils.load_model(f'<PATH_TO_MODEL>/{experiment.ds.ds.filenameroot}_target_model_only_on_test_dummy.pkl')\n",
    "    print(f\"Loaded classifier for experiment from file: {experiment}\")\n",
    "except:\n",
    "    # clf = model_utils.get_model(max_iter=500, hidden_layer_sizes=(256, 256))\n",
    "    base_model = model_utils.get_model(max_iter=500)\n",
    "    experiment.clf_only_on_test = copy.deepcopy(base_model)\n",
    "    experiment.clf_only_on_test.fit(experiment.X_test, experiment.y_te_onehot)\n",
    "\n",
    "    if save_model:\n",
    "        model_utils.save_model(experiment.clf_only_on_test, f'<PATH_TO_MODEL>/{experiment.ds.ds.filenameroot}_target_model_only_on_test_dummy.pkl')"
   ]
  },
  {
   "cell_type": "code",
   "execution_count": 6,
   "metadata": {},
   "outputs": [
    {
     "name": "stdout",
     "output_type": "stream",
     "text": [
      "Training classifier for experiment: Census19_subgroup_col_name_ST\n",
      "Loaded classifier for experiment from file: Census19_subgroup_col_name_ST\n"
     ]
    }
   ],
   "source": [
    "save_model = True\n",
    "\n",
    "print(f\"Training classifier for experiment: {experiment}\")\n",
    "try:\n",
    "    experiment.clf = model_utils.load_model(f'<PATH_TO_MODEL>/{experiment.ds.ds.filenameroot}_target_model.pkl')\n",
    "    print(f\"Loaded classifier for experiment from file: {experiment}\")\n",
    "except:\n",
    "    # clf = model_utils.get_model(max_iter=500, hidden_layer_sizes=(256, 256))\n",
    "    experiment.clf = model_utils.get_model(max_iter=500)\n",
    "    experiment.clf.fit(experiment.X_train, experiment.y_tr_onehot)\n",
    "\n",
    "    if save_model:\n",
    "        model_utils.save_model(experiment.clf, f'<PATH_TO_MODEL>/{experiment.ds.ds.filenameroot}_target_model.pkl')"
   ]
  },
  {
   "cell_type": "code",
   "execution_count": 15,
   "metadata": {},
   "outputs": [
    {
     "data": {
      "text/html": [
       "<style>#sk-container-id-2 {color: black;background-color: white;}#sk-container-id-2 pre{padding: 0;}#sk-container-id-2 div.sk-toggleable {background-color: white;}#sk-container-id-2 label.sk-toggleable__label {cursor: pointer;display: block;width: 100%;margin-bottom: 0;padding: 0.3em;box-sizing: border-box;text-align: center;}#sk-container-id-2 label.sk-toggleable__label-arrow:before {content: \"▸\";float: left;margin-right: 0.25em;color: #696969;}#sk-container-id-2 label.sk-toggleable__label-arrow:hover:before {color: black;}#sk-container-id-2 div.sk-estimator:hover label.sk-toggleable__label-arrow:before {color: black;}#sk-container-id-2 div.sk-toggleable__content {max-height: 0;max-width: 0;overflow: hidden;text-align: left;background-color: #f0f8ff;}#sk-container-id-2 div.sk-toggleable__content pre {margin: 0.2em;color: black;border-radius: 0.25em;background-color: #f0f8ff;}#sk-container-id-2 input.sk-toggleable__control:checked~div.sk-toggleable__content {max-height: 200px;max-width: 100%;overflow: auto;}#sk-container-id-2 input.sk-toggleable__control:checked~label.sk-toggleable__label-arrow:before {content: \"▾\";}#sk-container-id-2 div.sk-estimator input.sk-toggleable__control:checked~label.sk-toggleable__label {background-color: #d4ebff;}#sk-container-id-2 div.sk-label input.sk-toggleable__control:checked~label.sk-toggleable__label {background-color: #d4ebff;}#sk-container-id-2 input.sk-hidden--visually {border: 0;clip: rect(1px 1px 1px 1px);clip: rect(1px, 1px, 1px, 1px);height: 1px;margin: -1px;overflow: hidden;padding: 0;position: absolute;width: 1px;}#sk-container-id-2 div.sk-estimator {font-family: monospace;background-color: #f0f8ff;border: 1px dotted black;border-radius: 0.25em;box-sizing: border-box;margin-bottom: 0.5em;}#sk-container-id-2 div.sk-estimator:hover {background-color: #d4ebff;}#sk-container-id-2 div.sk-parallel-item::after {content: \"\";width: 100%;border-bottom: 1px solid gray;flex-grow: 1;}#sk-container-id-2 div.sk-label:hover label.sk-toggleable__label {background-color: #d4ebff;}#sk-container-id-2 div.sk-serial::before {content: \"\";position: absolute;border-left: 1px solid gray;box-sizing: border-box;top: 0;bottom: 0;left: 50%;z-index: 0;}#sk-container-id-2 div.sk-serial {display: flex;flex-direction: column;align-items: center;background-color: white;padding-right: 0.2em;padding-left: 0.2em;position: relative;}#sk-container-id-2 div.sk-item {position: relative;z-index: 1;}#sk-container-id-2 div.sk-parallel {display: flex;align-items: stretch;justify-content: center;background-color: white;position: relative;}#sk-container-id-2 div.sk-item::before, #sk-container-id-2 div.sk-parallel-item::before {content: \"\";position: absolute;border-left: 1px solid gray;box-sizing: border-box;top: 0;bottom: 0;left: 50%;z-index: -1;}#sk-container-id-2 div.sk-parallel-item {display: flex;flex-direction: column;z-index: 1;position: relative;background-color: white;}#sk-container-id-2 div.sk-parallel-item:first-child::after {align-self: flex-end;width: 50%;}#sk-container-id-2 div.sk-parallel-item:last-child::after {align-self: flex-start;width: 50%;}#sk-container-id-2 div.sk-parallel-item:only-child::after {width: 0;}#sk-container-id-2 div.sk-dashed-wrapped {border: 1px dashed gray;margin: 0 0.4em 0.5em 0.4em;box-sizing: border-box;padding-bottom: 0.4em;background-color: white;}#sk-container-id-2 div.sk-label label {font-family: monospace;font-weight: bold;display: inline-block;line-height: 1.2em;}#sk-container-id-2 div.sk-label-container {text-align: center;}#sk-container-id-2 div.sk-container {/* jupyter's `normalize.less` sets `[hidden] { display: none; }` but bootstrap.min.css set `[hidden] { display: none !important; }` so we also need the `!important` here to be able to override the default hidden behavior on the sphinx rendered scikit-learn.org. See: https://github.com/scikit-learn/scikit-learn/issues/21755 */display: inline-block !important;position: relative;}#sk-container-id-2 div.sk-text-repr-fallback {display: none;}</style><div id=\"sk-container-id-2\" class=\"sk-top-container\"><div class=\"sk-text-repr-fallback\"><pre>MLPClassifier(hidden_layer_sizes=(32, 16, 8), max_iter=500, random_state=42)</pre><b>In a Jupyter environment, please rerun this cell to show the HTML representation or trust the notebook. <br />On GitHub, the HTML representation is unable to render, please try loading this page with nbviewer.org.</b></div><div class=\"sk-container\" hidden><div class=\"sk-item\"><div class=\"sk-estimator sk-toggleable\"><input class=\"sk-toggleable__control sk-hidden--visually\" id=\"sk-estimator-id-2\" type=\"checkbox\" checked><label for=\"sk-estimator-id-2\" class=\"sk-toggleable__label sk-toggleable__label-arrow\">MLPClassifier</label><div class=\"sk-toggleable__content\"><pre>MLPClassifier(hidden_layer_sizes=(32, 16, 8), max_iter=500, random_state=42)</pre></div></div></div></div></div>"
      ],
      "text/plain": [
       "MLPClassifier(hidden_layer_sizes=(32, 16, 8), max_iter=500, random_state=42)"
      ]
     },
     "execution_count": 15,
     "metadata": {},
     "output_type": "execute_result"
    }
   ],
   "source": [
    "\n",
    "experiment.clf = model_utils.get_model(max_iter=500)\n",
    "experiment.clf.fit(experiment.X_train, experiment.y_tr_onehot)"
   ]
  },
  {
   "cell_type": "code",
   "execution_count": 25,
   "metadata": {},
   "outputs": [
    {
     "name": "stdout",
     "output_type": "stream",
     "text": [
      "[0, 1, 2, 3, 4, 5, 6, 7, 8, 9, 10, 11, 12, 13, 14, 15, 16, 17, 18, 19, 20, 21, 22, 23, 24, 25, 26, 27, 28, 29, 30, 31, 32, 33, 34, 35, 36, 37, 38, 39, 40, 41, 42, 43, 44, 45, 46, 47, 48, 49, 50]\n",
      "[2000, 500, 1960, 1012, 1920, 1900, 1880, 876, 1840, 1820, 1800, 1344, 656, 1744, 1724, 1256, 1200, 1664, 1644, 652, 1604, 1588, 1568, 1548, 1096, 1508, 504, 748, 1448, 1176, 1408, 1264, 1372, 1352, 480, 1312, 1292, 1272, 1252, 1040, 1212, 304, 1176, 1156, 1136, 404, 1096, 1076, 684, 1036, 348]\n",
      "{0: {(0, 1): 500, (0, 0): 500, (1, 1): 500, (1, 0): 500}, 1: {(0, 1): 125, (0, 0): 125, (1, 1): 125, (1, 0): 125}, 2: {(0, 1): 490, (0, 0): 490, (1, 1): 490, (1, 0): 490}, 3: {(0, 1): 253, (0, 0): 253, (1, 1): 253, (1, 0): 253}, 4: {(0, 1): 480, (0, 0): 480, (1, 1): 480, (1, 0): 480}, 5: {(0, 1): 475, (0, 0): 475, (1, 1): 475, (1, 0): 475}, 6: {(0, 1): 470, (0, 0): 470, (1, 1): 470, (1, 0): 470}, 7: {(0, 1): 219, (0, 0): 219, (1, 1): 219, (1, 0): 219}, 8: {(0, 1): 460, (0, 0): 460, (1, 1): 460, (1, 0): 460}, 9: {(0, 1): 455, (0, 0): 455, (1, 1): 455, (1, 0): 455}, 10: {(0, 1): 450, (0, 0): 450, (1, 1): 450, (1, 0): 450}, 11: {(0, 1): 336, (0, 0): 336, (1, 1): 336, (1, 0): 336}, 12: {(0, 1): 164, (0, 0): 164, (1, 1): 164, (1, 0): 164}, 13: {(0, 1): 436, (0, 0): 436, (1, 1): 436, (1, 0): 436}, 14: {(0, 1): 431, (0, 0): 431, (1, 1): 431, (1, 0): 431}, 15: {(0, 1): 314, (0, 0): 314, (1, 1): 314, (1, 0): 314}, 16: {(0, 1): 300, (0, 0): 300, (1, 1): 300, (1, 0): 300}, 17: {(0, 1): 416, (0, 0): 416, (1, 1): 416, (1, 0): 416}, 18: {(0, 1): 411, (0, 0): 411, (1, 1): 411, (1, 0): 411}, 19: {(0, 1): 163, (0, 0): 163, (1, 1): 163, (1, 0): 163}, 20: {(0, 1): 401, (0, 0): 401, (1, 1): 401, (1, 0): 401}, 21: {(0, 1): 397, (0, 0): 397, (1, 1): 397, (1, 0): 397}, 22: {(0, 1): 392, (0, 0): 392, (1, 1): 392, (1, 0): 392}, 23: {(0, 1): 387, (0, 0): 387, (1, 1): 387, (1, 0): 387}, 24: {(0, 1): 274, (0, 0): 274, (1, 1): 274, (1, 0): 274}, 25: {(0, 1): 377, (0, 0): 377, (1, 1): 377, (1, 0): 377}, 26: {(0, 1): 126, (0, 0): 126, (1, 1): 126, (1, 0): 126}, 27: {(0, 1): 187, (0, 0): 187, (1, 1): 187, (1, 0): 187}, 28: {(0, 1): 362, (0, 0): 362, (1, 1): 362, (1, 0): 362}, 29: {(0, 1): 294, (0, 0): 294, (1, 1): 294, (1, 0): 294}, 30: {(0, 1): 352, (0, 0): 352, (1, 1): 352, (1, 0): 352}, 31: {(0, 1): 316, (0, 0): 316, (1, 1): 316, (1, 0): 316}, 32: {(0, 1): 343, (0, 0): 343, (1, 1): 343, (1, 0): 343}, 33: {(0, 1): 338, (0, 0): 338, (1, 1): 338, (1, 0): 338}, 34: {(0, 1): 120, (0, 0): 120, (1, 1): 120, (1, 0): 120}, 35: {(0, 1): 328, (0, 0): 328, (1, 1): 328, (1, 0): 328}, 36: {(0, 1): 323, (0, 0): 323, (1, 1): 323, (1, 0): 323}, 37: {(0, 1): 318, (0, 0): 318, (1, 1): 318, (1, 0): 318}, 38: {(0, 1): 313, (0, 0): 313, (1, 1): 313, (1, 0): 313}, 39: {(0, 1): 260, (0, 0): 260, (1, 1): 260, (1, 0): 260}, 40: {(0, 1): 303, (0, 0): 303, (1, 1): 303, (1, 0): 303}, 41: {(0, 1): 76, (0, 0): 76, (1, 1): 76, (1, 0): 76}, 42: {(0, 1): 294, (0, 0): 294, (1, 1): 294, (1, 0): 294}, 43: {(0, 1): 289, (0, 0): 289, (1, 1): 289, (1, 0): 289}, 44: {(0, 1): 284, (0, 0): 284, (1, 1): 284, (1, 0): 284}, 45: {(0, 1): 101, (0, 0): 101, (1, 1): 101, (1, 0): 101}, 46: {(0, 1): 274, (0, 0): 274, (1, 1): 274, (1, 0): 274}, 47: {(0, 1): 269, (0, 0): 269, (1, 1): 269, (1, 0): 269}, 48: {(0, 1): 171, (0, 0): 171, (1, 1): 171, (1, 0): 171}, 49: {(0, 1): 259, (0, 0): 259, (1, 1): 259, (1, 0): 259}, 50: {(0, 1): 87, (0, 0): 87, (1, 1): 87, (1, 0): 87}}\n"
     ]
    },
    {
     "name": "stderr",
     "output_type": "stream",
     "text": [
      "100%|██████████| 51/51 [00:01<00:00, 41.17it/s]\n"
     ]
    }
   ],
   "source": [
    "original_test_df = experiment.ds.ds.original_df[experiment.ds.ds.original_df['is_train']==1].copy().reset_index(drop=True).drop(['is_train'], axis=1)\n",
    "\n",
    "p = [0] * 51\n",
    "n = [original_test_df[original_test_df['ST']==i][['MAR', 'PINCP']].value_counts().to_numpy().min() * 4 for i in range(51)]\n",
    "\n",
    "temp_indices = experiment.ds.ds.sample_data_matching_correlation(original_test_df, p=p, n=n, subgroup_col_name='ST', transformed_already=True, return_indices_only=True)\n",
    "\n",
    "experiment.X_train_balanced_corr = experiment.X_train.loc[temp_indices].reset_index(drop=True)\n",
    "experiment.y_tr_balanced_corr = experiment.y_tr[temp_indices]\n",
    "experiment.y_tr_onehot_balanced_corr = experiment.y_tr_onehot[temp_indices]"
   ]
  },
  {
   "cell_type": "code",
   "execution_count": 35,
   "metadata": {},
   "outputs": [
    {
     "data": {
      "text/html": [
       "<style>#sk-container-id-3 {color: black;background-color: white;}#sk-container-id-3 pre{padding: 0;}#sk-container-id-3 div.sk-toggleable {background-color: white;}#sk-container-id-3 label.sk-toggleable__label {cursor: pointer;display: block;width: 100%;margin-bottom: 0;padding: 0.3em;box-sizing: border-box;text-align: center;}#sk-container-id-3 label.sk-toggleable__label-arrow:before {content: \"▸\";float: left;margin-right: 0.25em;color: #696969;}#sk-container-id-3 label.sk-toggleable__label-arrow:hover:before {color: black;}#sk-container-id-3 div.sk-estimator:hover label.sk-toggleable__label-arrow:before {color: black;}#sk-container-id-3 div.sk-toggleable__content {max-height: 0;max-width: 0;overflow: hidden;text-align: left;background-color: #f0f8ff;}#sk-container-id-3 div.sk-toggleable__content pre {margin: 0.2em;color: black;border-radius: 0.25em;background-color: #f0f8ff;}#sk-container-id-3 input.sk-toggleable__control:checked~div.sk-toggleable__content {max-height: 200px;max-width: 100%;overflow: auto;}#sk-container-id-3 input.sk-toggleable__control:checked~label.sk-toggleable__label-arrow:before {content: \"▾\";}#sk-container-id-3 div.sk-estimator input.sk-toggleable__control:checked~label.sk-toggleable__label {background-color: #d4ebff;}#sk-container-id-3 div.sk-label input.sk-toggleable__control:checked~label.sk-toggleable__label {background-color: #d4ebff;}#sk-container-id-3 input.sk-hidden--visually {border: 0;clip: rect(1px 1px 1px 1px);clip: rect(1px, 1px, 1px, 1px);height: 1px;margin: -1px;overflow: hidden;padding: 0;position: absolute;width: 1px;}#sk-container-id-3 div.sk-estimator {font-family: monospace;background-color: #f0f8ff;border: 1px dotted black;border-radius: 0.25em;box-sizing: border-box;margin-bottom: 0.5em;}#sk-container-id-3 div.sk-estimator:hover {background-color: #d4ebff;}#sk-container-id-3 div.sk-parallel-item::after {content: \"\";width: 100%;border-bottom: 1px solid gray;flex-grow: 1;}#sk-container-id-3 div.sk-label:hover label.sk-toggleable__label {background-color: #d4ebff;}#sk-container-id-3 div.sk-serial::before {content: \"\";position: absolute;border-left: 1px solid gray;box-sizing: border-box;top: 0;bottom: 0;left: 50%;z-index: 0;}#sk-container-id-3 div.sk-serial {display: flex;flex-direction: column;align-items: center;background-color: white;padding-right: 0.2em;padding-left: 0.2em;position: relative;}#sk-container-id-3 div.sk-item {position: relative;z-index: 1;}#sk-container-id-3 div.sk-parallel {display: flex;align-items: stretch;justify-content: center;background-color: white;position: relative;}#sk-container-id-3 div.sk-item::before, #sk-container-id-3 div.sk-parallel-item::before {content: \"\";position: absolute;border-left: 1px solid gray;box-sizing: border-box;top: 0;bottom: 0;left: 50%;z-index: -1;}#sk-container-id-3 div.sk-parallel-item {display: flex;flex-direction: column;z-index: 1;position: relative;background-color: white;}#sk-container-id-3 div.sk-parallel-item:first-child::after {align-self: flex-end;width: 50%;}#sk-container-id-3 div.sk-parallel-item:last-child::after {align-self: flex-start;width: 50%;}#sk-container-id-3 div.sk-parallel-item:only-child::after {width: 0;}#sk-container-id-3 div.sk-dashed-wrapped {border: 1px dashed gray;margin: 0 0.4em 0.5em 0.4em;box-sizing: border-box;padding-bottom: 0.4em;background-color: white;}#sk-container-id-3 div.sk-label label {font-family: monospace;font-weight: bold;display: inline-block;line-height: 1.2em;}#sk-container-id-3 div.sk-label-container {text-align: center;}#sk-container-id-3 div.sk-container {/* jupyter's `normalize.less` sets `[hidden] { display: none; }` but bootstrap.min.css set `[hidden] { display: none !important; }` so we also need the `!important` here to be able to override the default hidden behavior on the sphinx rendered scikit-learn.org. See: https://github.com/scikit-learn/scikit-learn/issues/21755 */display: inline-block !important;position: relative;}#sk-container-id-3 div.sk-text-repr-fallback {display: none;}</style><div id=\"sk-container-id-3\" class=\"sk-top-container\"><div class=\"sk-text-repr-fallback\"><pre>MLPClassifier(hidden_layer_sizes=(32, 16, 8), max_iter=500, random_state=42)</pre><b>In a Jupyter environment, please rerun this cell to show the HTML representation or trust the notebook. <br />On GitHub, the HTML representation is unable to render, please try loading this page with nbviewer.org.</b></div><div class=\"sk-container\" hidden><div class=\"sk-item\"><div class=\"sk-estimator sk-toggleable\"><input class=\"sk-toggleable__control sk-hidden--visually\" id=\"sk-estimator-id-3\" type=\"checkbox\" checked><label for=\"sk-estimator-id-3\" class=\"sk-toggleable__label sk-toggleable__label-arrow\">MLPClassifier</label><div class=\"sk-toggleable__content\"><pre>MLPClassifier(hidden_layer_sizes=(32, 16, 8), max_iter=500, random_state=42)</pre></div></div></div></div></div>"
      ],
      "text/plain": [
       "MLPClassifier(hidden_layer_sizes=(32, 16, 8), max_iter=500, random_state=42)"
      ]
     },
     "execution_count": 35,
     "metadata": {},
     "output_type": "execute_result"
    }
   ],
   "source": [
    "base_model = model_utils.get_model(max_iter=500)\n",
    "experiment.clf_balanced_corr = copy.deepcopy(base_model)\n",
    "experiment.clf_balanced_corr.fit(experiment.X_train_balanced_corr, experiment.y_tr_onehot_balanced_corr)"
   ]
  },
  {
   "cell_type": "code",
   "execution_count": 11,
   "metadata": {},
   "outputs": [],
   "source": [
    "subgroup_oh_cols = [f'ST_{i}' for i in range(51)]\n",
    "subgroup_vals_tr = experiment.X_test[subgroup_oh_cols].to_numpy().argmax(axis=1)"
   ]
  },
  {
   "cell_type": "code",
   "execution_count": 12,
   "metadata": {},
   "outputs": [
    {
     "data": {
      "text/plain": [
       "array([ 5, 21, 33, ..., 47,  9, 18])"
      ]
     },
     "execution_count": 12,
     "metadata": {},
     "output_type": "execute_result"
    }
   ],
   "source": [
    "subgroup_vals_tr"
   ]
  },
  {
   "cell_type": "code",
   "execution_count": 39,
   "metadata": {},
   "outputs": [],
   "source": [
    "def get_perf(experiment, clf, X_test, y_te, X_train, y_tr,  \n",
    "    subgroup_col_name = 'ST', indices=None):\n",
    "    y_tr_pred = np.argmax(clf.predict_proba(X_train), axis=1)\n",
    "\n",
    "    subgroup_oh_cols = [f'ST_{i}' for i in range(51)]\n",
    "    subgroup_vals_tr = X_train[subgroup_oh_cols].to_numpy().argmax(axis=1)\n",
    "    subgroup_vals_te = X_test[subgroup_oh_cols].to_numpy().argmax(axis=1)\n",
    "    # subgroup_vals_tr = X_train[f'{subgroup_col_name}_1'].to_numpy().ravel().astype(int)\n",
    "    # subgroup_vals_te = X_test[f'{subgroup_col_name}_1'].to_numpy().ravel()\n",
    "\n",
    "    sens_pred, case_indices = CSMIA_attack(clf, X_test, y_te, experiment.ds.ds.meta)\n",
    "    sens_pred_LOMIA = LOMIA_attack(experiment, clf, X_test, y_te, experiment.ds.ds.meta, indices=indices)\n",
    "    correct_indices = (sens_pred == X_test[[f'{experiment.ds.ds.meta[\"sensitive_column\"]}_1']].to_numpy().ravel())\n",
    "    correct_indices_LOMIA = (sens_pred_LOMIA == X_test[[f'{experiment.ds.ds.meta[\"sensitive_column\"]}_1']].to_numpy().ravel())\n",
    "\n",
    "    # male_indices = np.where(subgroup_vals_tr==0)[0]\n",
    "    # female_indices = np.where(subgroup_vals_tr==1)[0]\n",
    "    \n",
    "    return [correct_indices[subgroup_vals_te==i].mean() for i in range(51)]\n",
    "    perf_dict = {\n",
    "        'ASRD_CSMIA': round(100 * np.ptp([correct_indices[subgroup_vals_te==i].mean() for i in range(51)]), 2),\n",
    "        'ASRD_LOMIA': round(100 * np.ptp([correct_indices_LOMIA[subgroup_vals_te==i].mean() for i in range(51)]), 2),\n",
    "        'EOD': round(equalized_odds_difference(y_tr.ravel(), y_tr_pred, sensitive_features=subgroup_vals_tr), 4),\n",
    "        'DPD': round(demographic_parity_difference(y_tr.ravel(), y_tr_pred, sensitive_features=subgroup_vals_tr), 4),\n",
    "        'MA': 100 * accuracy_score(y_tr.ravel()[:], y_tr_pred[:])\n",
    "        # 'MA_Male': 100 * accuracy_score(y_tr.ravel()[male_indices], y_tr_pred[male_indices]),\n",
    "        # 'MA_Female': 100 * accuracy_score(y_tr.ravel()[female_indices], y_tr_pred[female_indices])\n",
    "    }\n",
    "\n",
    "    return perf_dict\n"
   ]
  },
  {
   "cell_type": "code",
   "execution_count": 40,
   "metadata": {},
   "outputs": [],
   "source": [
    "asrs = get_perf(experiment, experiment.clf, experiment.X_train, experiment.y_tr, experiment.X_test, experiment.y_te)"
   ]
  },
  {
   "cell_type": "code",
   "execution_count": 42,
   "metadata": {},
   "outputs": [
    {
     "data": {
      "text/plain": [
       "49"
      ]
     },
     "execution_count": 42,
     "metadata": {},
     "output_type": "execute_result"
    }
   ],
   "source": [
    "np.argmax(asrs)"
   ]
  },
  {
   "cell_type": "code",
   "execution_count": 48,
   "metadata": {},
   "outputs": [],
   "source": [
    "asrs_balanced = get_perf(experiment, experiment.clf_balanced_corr, experiment.X_train_balanced_corr, experiment.y_tr_balanced_corr, experiment.X_test, experiment.y_te, indices=temp_indices)"
   ]
  },
  {
   "cell_type": "code",
   "execution_count": 51,
   "metadata": {},
   "outputs": [
    {
     "data": {
      "text/plain": [
       "0.702852047948749"
      ]
     },
     "execution_count": 51,
     "metadata": {},
     "output_type": "execute_result"
    }
   ],
   "source": [
    "experiment.X_train_balanced_corr.shape[0]/experiment.X_train.shape[0]"
   ]
  },
  {
   "cell_type": "code",
   "execution_count": 49,
   "metadata": {},
   "outputs": [
    {
     "data": {
      "text/plain": [
       "73.8"
      ]
     },
     "execution_count": 49,
     "metadata": {},
     "output_type": "execute_result"
    }
   ],
   "source": [
    "100 * np.max(asrs)"
   ]
  },
  {
   "cell_type": "code",
   "execution_count": 50,
   "metadata": {},
   "outputs": [
    {
     "data": {
      "text/plain": [
       "62.916666666666664"
      ]
     },
     "execution_count": 50,
     "metadata": {},
     "output_type": "execute_result"
    }
   ],
   "source": [
    "100 * np.max(asrs_balanced)"
   ]
  },
  {
   "cell_type": "code",
   "execution_count": 18,
   "metadata": {},
   "outputs": [
    {
     "data": {
      "text/plain": [
       "0.22838256746900076"
      ]
     },
     "execution_count": 18,
     "metadata": {},
     "output_type": "execute_result"
    }
   ],
   "source": [
    "np.ptp(asrs)"
   ]
  },
  {
   "cell_type": "code",
   "execution_count": 88,
   "metadata": {},
   "outputs": [],
   "source": [
    "model_arch = hidden_layer_size_tuples[1]\n",
    "res_dict = {\n",
    "    'w/o BCorr': get_perf(experiment, experiment.clfs[model_arch], experiment.X_test, experiment.y_te, experiment.X_train, experiment.y_tr),\n",
    "    'w Bcorr': get_perf(experiment, experiment.clfs_balanced_corr[model_arch], experiment.X_test_balanced_corr, experiment.y_te_balanced_corr, experiment.X_train, experiment.y_tr, indices=temp_indices)\n",
    "}\n",
    "res_dict_df = pd.DataFrame.from_dict(res_dict, orient='index')"
   ]
  },
  {
   "cell_type": "code",
   "execution_count": 89,
   "metadata": {},
   "outputs": [
    {
     "data": {
      "text/html": [
       "<div>\n",
       "<style scoped>\n",
       "    .dataframe tbody tr th:only-of-type {\n",
       "        vertical-align: middle;\n",
       "    }\n",
       "\n",
       "    .dataframe tbody tr th {\n",
       "        vertical-align: top;\n",
       "    }\n",
       "\n",
       "    .dataframe thead th {\n",
       "        text-align: right;\n",
       "    }\n",
       "</style>\n",
       "<table border=\"1\" class=\"dataframe\">\n",
       "  <thead>\n",
       "    <tr style=\"text-align: right;\">\n",
       "      <th></th>\n",
       "      <th>ASRD_CSMIA</th>\n",
       "      <th>ASRD_LOMIA</th>\n",
       "      <th>EOD</th>\n",
       "      <th>DPD</th>\n",
       "      <th>MA_Male</th>\n",
       "      <th>MA_Female</th>\n",
       "    </tr>\n",
       "  </thead>\n",
       "  <tbody>\n",
       "    <tr>\n",
       "      <th>w/o BCorr</th>\n",
       "      <td>12.52</td>\n",
       "      <td>7.48</td>\n",
       "      <td>0.0674</td>\n",
       "      <td>0.0178</td>\n",
       "      <td>73.208</td>\n",
       "      <td>78.16</td>\n",
       "    </tr>\n",
       "    <tr>\n",
       "      <th>w Bcorr</th>\n",
       "      <td>2.06</td>\n",
       "      <td>2.28</td>\n",
       "      <td>0.0416</td>\n",
       "      <td>0.0015</td>\n",
       "      <td>73.888</td>\n",
       "      <td>77.90</td>\n",
       "    </tr>\n",
       "  </tbody>\n",
       "</table>\n",
       "</div>"
      ],
      "text/plain": [
       "           ASRD_CSMIA  ASRD_LOMIA     EOD     DPD  MA_Male  MA_Female\n",
       "w/o BCorr       12.52        7.48  0.0674  0.0178   73.208      78.16\n",
       "w Bcorr          2.06        2.28  0.0416  0.0015   73.888      77.90"
      ]
     },
     "execution_count": 89,
     "metadata": {},
     "output_type": "execute_result"
    }
   ],
   "source": [
    "res_dict_df"
   ]
  },
  {
   "cell_type": "code",
   "execution_count": 90,
   "metadata": {},
   "outputs": [
    {
     "name": "stdout",
     "output_type": "stream",
     "text": [
      "\\begin{tabular}{lrrrrrr}\n",
      "\\toprule\n",
      " & ASRD_CSMIA & ASRD_LOMIA & EOD & DPD & MA_Male & MA_Female \\\\\n",
      "\\midrule\n",
      "w/o BCorr & 12.520000 & 7.480000 & 0.067400 & 0.017800 & 73.208000 & 78.160000 \\\\\n",
      "w Bcorr & 2.060000 & 2.280000 & 0.041600 & 0.001500 & 73.888000 & 77.900000 \\\\\n",
      "\\bottomrule\n",
      "\\end{tabular}\n",
      "\n"
     ]
    }
   ],
   "source": [
    "print(res_dict_df.to_latex())"
   ]
  },
  {
   "cell_type": "code",
   "execution_count": 64,
   "metadata": {},
   "outputs": [
    {
     "data": {
      "text/plain": [
       "{'w/o BCorr': {'MA_Female': 78.16,\n",
       "  'MA_Male': 73.208,\n",
       "  'EOD': 0.06735999999999998,\n",
       "  'DPD': 0.017839999999999967,\n",
       "  'ASRD': 0.12524000000000002},\n",
       " 'w Bcorr': {'MA_Female': 77.9,\n",
       "  'MA_Male': 73.888,\n",
       "  'EOD': 0.04160000000000008,\n",
       "  'DPD': 0.0014800000000000368,\n",
       "  'ASRD': 0.020580823232929313}}"
      ]
     },
     "execution_count": 64,
     "metadata": {},
     "output_type": "execute_result"
    }
   ],
   "source": [
    "res_dict"
   ]
  },
  {
   "cell_type": "code",
   "execution_count": 61,
   "metadata": {},
   "outputs": [
    {
     "name": "stdout",
     "output_type": "stream",
     "text": [
      "{'MA_Female': 77.164, 'MA_Male': 72.712, 'EOD': 0.057999999999999996, 'DPD': 0.013480000000000047, 'ASRD': 0.08372000000000002}\n",
      "{'MA_Female': 78.16, 'MA_Male': 73.208, 'EOD': 0.06735999999999998, 'DPD': 0.017839999999999967, 'ASRD': 0.12524000000000002}\n",
      "{'MA_Female': 78.99199999999999, 'MA_Male': 73.628, 'EOD': 0.06672, 'DPD': 0.013080000000000092, 'ASRD': 0.14991999999999994}\n",
      "{'MA_Female': 75.932, 'MA_Male': 72.348, 'EOD': 0.03735999999999995, 'DPD': 0.0015199999999999658, 'ASRD': 0.05384}\n"
     ]
    }
   ],
   "source": [
    "for model_arch in experiment.clfs:\n",
    "    print(get_perf(experiment, experiment.clfs[model_arch], experiment.X_test, experiment.y_te, experiment.X_train, experiment.y_tr))"
   ]
  },
  {
   "cell_type": "code",
   "execution_count": 62,
   "metadata": {},
   "outputs": [
    {
     "name": "stdout",
     "output_type": "stream",
     "text": [
      "{'MA_Female': 76.728, 'MA_Male': 72.272, 'EOD': 0.04927999999999999, 'DPD': 0.0047200000000000575, 'ASRD': 0.01446057842313686}\n",
      "{'MA_Female': 77.9, 'MA_Male': 73.888, 'EOD': 0.04160000000000008, 'DPD': 0.0014800000000000368, 'ASRD': 0.020580823232929313}\n",
      "{'MA_Female': 78.532, 'MA_Male': 75.312, 'EOD': 0.049360000000000015, 'DPD': 0.017159999999999953, 'ASRD': 0.004560182407296276}\n",
      "{'MA_Female': 75.62, 'MA_Male': 72.38799999999999, 'EOD': 0.03527999999999998, 'DPD': 0.0029599999999999627, 'ASRD': 0.0006000240009600422}\n"
     ]
    }
   ],
   "source": [
    "for model_arch in experiment.clfs:\n",
    "    print(get_perf(experiment, experiment.clfs_balanced_corr[model_arch], experiment.X_test_balanced_corr, experiment.y_te_balanced_corr, experiment.X_train, experiment.y_tr))"
   ]
  },
  {
   "cell_type": "code",
   "execution_count": 12,
   "metadata": {},
   "outputs": [
    {
     "data": {
      "text/plain": [
       "0.10008400408079707"
      ]
     },
     "execution_count": 12,
     "metadata": {},
     "output_type": "execute_result"
    }
   ],
   "source": [
    "get_corr_btn_sens_and_out_per_subgroup(experiment, experiment.X_test_balanced_corr, experiment.y_te_balanced_corr, {'SEX': 0})"
   ]
  }
 ],
 "metadata": {
  "kernelspec": {
   "display_name": "tabular",
   "language": "python",
   "name": "python3"
  },
  "language_info": {
   "codemirror_mode": {
    "name": "ipython",
    "version": 3
   },
   "file_extension": ".py",
   "mimetype": "text/x-python",
   "name": "python",
   "nbconvert_exporter": "python",
   "pygments_lexer": "ipython3",
   "version": "3.9.16"
  }
 },
 "nbformat": 4,
 "nbformat_minor": 2
}

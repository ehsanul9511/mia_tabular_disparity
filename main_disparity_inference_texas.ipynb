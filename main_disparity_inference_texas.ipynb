{
 "cells": [
  {
   "attachments": {},
   "cell_type": "markdown",
   "metadata": {},
   "source": [
    "# Load Library"
   ]
  },
  {
   "cell_type": "code",
   "execution_count": 1,
   "metadata": {},
   "outputs": [],
   "source": [
    "%load_ext autoreload\n",
    "%autoreload 2"
   ]
  },
  {
   "cell_type": "code",
   "execution_count": 2,
   "metadata": {},
   "outputs": [],
   "source": [
    "import warnings\n",
    "\n",
    "warnings.filterwarnings('ignore')"
   ]
  },
  {
   "cell_type": "code",
   "execution_count": 3,
   "metadata": {
    "tags": []
   },
   "outputs": [],
   "source": [
    "from tqdm import tqdm\n",
    "import os\n",
    "import data_utils\n",
    "import model_utils\n",
    "from attack_utils import get_CSMIA_case_by_case_results, CSMIA_attack, LOMIA_attack, get_LOMIA_results\n",
    "from data_utils import oneHotCatVars, filter_random_data_by_conf_score\n",
    "from vulnerability_score_utils import get_vulnerability_score, draw_hist_plot\n",
    "from experiment_utils import MIAExperiment\n",
    "from disparity_inference_utils import get_confidence_array, draw_confidence_array_scatter, get_indices_by_group_condition, get_corr_btn_sens_and_out_per_subgroup, get_slopes, get_angular_difference, calculate_stds, get_mutual_info_btn_sens_and_out_per_subgroup\n",
    "import numpy as np\n",
    "import pandas as pd\n",
    "import torch\n",
    "import torch.nn as nn\n",
    "from sklearn.neural_network import MLPClassifier\n",
    "from sklearn.preprocessing import OneHotEncoder\n",
    "from sklearn.neural_network._base import ACTIVATIONS\n",
    "from sklearn.model_selection import train_test_split\n",
    "from sklearn.metrics.pairwise import euclidean_distances\n",
    "from sklearn.metrics import roc_curve, auc, roc_auc_score, accuracy_score, precision_score, recall_score, f1_score, confusion_matrix, classification_report\n",
    "from sklearn.decomposition import PCA\n",
    "from sklearn.inspection import permutation_importance\n",
    "import matplotlib.pyplot as plt\n",
    "import seaborn as sns\n",
    "import tabulate\n",
    "import pickle\n",
    "# import utils\n",
    "import copy\n",
    "from scipy.stats import kendalltau, spearmanr\n",
    "\n",
    "import matplotlib as mpl\n",
    "\n",
    "# Setting the font family, size, and weight globally\n",
    "mpl.rcParams['font.family'] = 'DejaVu Sans'\n",
    "mpl.rcParams['font.size'] = 8\n",
    "mpl.rcParams['font.weight'] = 'light'"
   ]
  },
  {
   "cell_type": "code",
   "execution_count": 46,
   "metadata": {},
   "outputs": [
    {
     "name": "stderr",
     "output_type": "stream",
     "text": [
      " 10%|█         | 1/10 [00:00<00:03,  2.51it/s]"
     ]
    },
    {
     "name": "stdout",
     "output_type": "stream",
     "text": [
      "before scaling: 2625 2188 2375\n",
      "after scaling: 2188 2188 1.0\n",
      "before scaling: 1979 1363 1.4519442406456347\n",
      "after scaling: 1363 1363 1.0\n",
      "before scaling: 2375 1990 2625\n",
      "after scaling: 1990 1990 1.0\n",
      "before scaling: 2199 1170 1.8794871794871795\n",
      "after scaling: 1170 1170 1.0\n"
     ]
    },
    {
     "name": "stderr",
     "output_type": "stream",
     "text": [
      " 30%|███       | 3/10 [00:01<00:02,  2.77it/s]"
     ]
    },
    {
     "name": "stdout",
     "output_type": "stream",
     "text": [
      "before scaling: 2875 1347 2125\n",
      "after scaling: 1347 1347 1.0\n",
      "before scaling: 995 815 1.2208588957055215\n",
      "after scaling: 815 815 1.0\n",
      "before scaling: 2125 1800 2875\n",
      "after scaling: 1800 1800 1.0\n",
      "before scaling: 2435 1295 1.8803088803088803\n",
      "after scaling: 1295 1295 1.0\n"
     ]
    },
    {
     "name": "stderr",
     "output_type": "stream",
     "text": [
      " 50%|█████     | 5/10 [00:01<00:01,  2.81it/s]"
     ]
    },
    {
     "name": "stdout",
     "output_type": "stream",
     "text": [
      "before scaling: 1875 1492 1.2567024128686326\n",
      "after scaling: 1492 1492 1.0\n",
      "before scaling: 3125 1789 1.74678591391839\n",
      "after scaling: 1789 1789 1.0\n"
     ]
    },
    {
     "name": "stderr",
     "output_type": "stream",
     "text": [
      " 60%|██████    | 6/10 [00:02<00:01,  2.81it/s]"
     ]
    },
    {
     "name": "stdout",
     "output_type": "stream",
     "text": [
      "before scaling: 3250 1346 1750\n",
      "after scaling: 1346 1346 1.0\n",
      "before scaling: 724 693 1.0447330447330447\n",
      "after scaling: 693 693 1.0\n",
      "before scaling: 1750 1568 3250\n",
      "after scaling: 1568 1568 1.0\n",
      "before scaling: 2912 924 3.1515151515151514\n",
      "after scaling: 924 924 1.0\n"
     ]
    },
    {
     "name": "stderr",
     "output_type": "stream",
     "text": [
      " 70%|███████   | 7/10 [00:02<00:01,  2.74it/s]"
     ]
    },
    {
     "name": "stdout",
     "output_type": "stream",
     "text": [
      "before scaling: 3375 1548 1625\n",
      "after scaling: 1548 1548 1.0\n",
      "before scaling: 745 640 1.1640625\n",
      "after scaling: 640 640 1.0\n",
      "before scaling: 3376 963 3.5057113187954307\n",
      "after scaling: 963 963 1.0\n"
     ]
    },
    {
     "name": "stderr",
     "output_type": "stream",
     "text": [
      "100%|██████████| 10/10 [00:03<00:00,  2.74it/s]"
     ]
    },
    {
     "name": "stdout",
     "output_type": "stream",
     "text": [
      "before scaling: 3625 2288 1.5843531468531469\n",
      "after scaling: 2288 2288 1.0\n",
      "[5000, 5000, 2869, 2228, 5000, 5000, 1918, 2252, 5000, 5000, 3978, 2862, 1981, 1421, 1969, 1426, 5000, 5000, 5000, 3155]\n"
     ]
    },
    {
     "name": "stderr",
     "output_type": "stream",
     "text": [
      "\n"
     ]
    }
   ],
   "source": [
    "subgroup_vals = [1, 2, 3, 4, 6, 20, 50, 51, 62, 63]\n",
    "experiment = MIAExperiment(sampling_condition_dict = \n",
    "    {\n",
    "            'subgroup_col_name': 'PAT_STATUS',\n",
    "            'subgroup_values': subgroup_vals,\n",
    "            # 'subgroup_values': ['1', '2', '3', '4', '6', '20', '50', '51', '62', '63'],\n",
    "            'n': 10000\n",
    "    }, shortname = f\"Corr_btn_sens_and_output_for_PAT_STATUS_ranging_from_0_to_-0.5\", name='Texas100', sensitive_column='SEX_CODE'\n",
    ")\n",
    "\n",
    "# experiments = { f\"corr_btn_sens_and_out_{(i, j)}\":  MIAExperiment(sampling_condition_dict = \n",
    "#     {\n",
    "#             'correlation': 0,\n",
    "#             'subgroup_col_name': 'SEX_CODE',\n",
    "#             'marginal_prior': 1,\n",
    "#             'corr_btn_sens_and_output_per_subgroup': (i, j),\n",
    "#             # 'fixed_corr_in_test_data': True\n",
    "#     }, shortname = f\"Corr_btn_sens_and_output_for_male_({i})_for_female_({j})\", name='Texas100', sensitive_column='ETHNICITY'\n",
    "# ) for (i, j) in [(k, k) for k in [-0.4, -0.35, -0.3, -0.25, -0.2][:1]]}\n",
    "# # ) for i in [-0.4, -0.3, -0.2, -0.1, 0][:1] for j in [-0.4, -0.3, -0.2, -0.1, 0][3:4]}"
   ]
  },
  {
   "cell_type": "code",
   "execution_count": 47,
   "metadata": {},
   "outputs": [
    {
     "name": "stdout",
     "output_type": "stream",
     "text": [
      "Training classifier for experiment: Texas100_subgroup_col_name_PAT_STATUS_subgroup_values_[1, 2, 3, 4, 6, 20, 50, 51, 62, 63]_n_10000\n"
     ]
    }
   ],
   "source": [
    "save_model = False\n",
    "\n",
    "print(f\"Training classifier for experiment: {experiment}\")\n",
    "try:\n",
    "    experiment.clf = model_utils.load_model(f'<PATH_TO_MODEL>/{experiment.ds.ds.filenameroot}_target_modell.pkl')\n",
    "    print(f\"Loaded classifier for experiment from file: {experiment}\")\n",
    "except:\n",
    "    # clf = model_utils.get_model(max_iter=500, hidden_layer_sizes=(256, 256))\n",
    "    experiment.clf = model_utils.get_model(max_iter=500)\n",
    "    experiment.clf.fit(experiment.X_train, experiment.y_tr_onehot)\n",
    "\n",
    "    if save_model:\n",
    "        model_utils.save_model(experiment.clf, f'<PATH_TO_MODEL>/{experiment.ds.ds.filenameroot}_target_model.pkl')"
   ]
  },
  {
   "cell_type": "code",
   "execution_count": 48,
   "metadata": {},
   "outputs": [],
   "source": [
    "experiment.confidence_array = get_confidence_array(experiment, experiment.X_train, experiment.y_tr, experiment.clf)\n",
    "sens_pred_CSMIA, case_indices = CSMIA_attack(experiment.clf, experiment.X_train, experiment.y_tr, experiment.ds.ds.meta)\n",
    "case_2_indices = case_indices[2]\n",
    "experiment.confidence_array_case_2 = experiment.confidence_array[case_2_indices, :]\n",
    "experiment.X_case_2 = experiment.X_train.loc[case_2_indices].copy().reset_index(drop=True)\n",
    "experiment.y_case_2 = experiment.y_tr.ravel()[case_2_indices]\n",
    "experiment.sens_val_ground_truth = experiment.X_train[[f'{experiment.sensitive_column}_1']].to_numpy().ravel()\n",
    "experiment.sens_pred_CSMIA = sens_pred_CSMIA"
   ]
  },
  {
   "cell_type": "markdown",
   "metadata": {},
   "source": [
    "# Estimation of Correlation"
   ]
  },
  {
   "cell_type": "code",
   "execution_count": 17,
   "metadata": {},
   "outputs": [],
   "source": [
    "def calculate_ang_diff(n=1000, random_state=1):\n",
    "    correlation_vs_ang_diff = {}\n",
    "    sensitive_column_index = list(experiment.X_train.columns).index(f'{experiment.sensitive_column}_1')\n",
    "    conditions =  [{'PAT_STATUS': i} for i in subgroup_vals]\n",
    "    for i, condition in enumerate(conditions):\n",
    "        fcondition = f'{condition}'\n",
    "        indices = get_indices_by_group_condition(experiment.X_case_2, condition)\n",
    "        angular_difference = get_angular_difference(experiment, experiment.confidence_array_case_2[indices], experiment.y_case_2[indices])\n",
    "        correlation_vs_ang_diff[fcondition] = {}\n",
    "        correlation_vs_ang_diff[fcondition]['angular_difference'] = angular_difference\n",
    "        correlation_vs_ang_diff[fcondition]['subgroup_val'] = condition['PAT_STATUS']\n",
    "\n",
    "    correlation_vs_ang_diff_df = pd.DataFrame.from_dict(correlation_vs_ang_diff, orient='index')\n",
    "\n",
    "    pat_status_vals_sorted = correlation_vs_ang_diff_df.sort_values(by='angular_difference', ascending=False)[['subgroup_val']].to_numpy().ravel().tolist()\n",
    "    conditions =  [{'PAT_STATUS': pat_status_vals_sorted[:j]} for j in range(2, 7)] + [{'PAT_STATUS': pat_status_vals_sorted[j:]} for j in range(2, 7)] + [{'PAT_STATUS': i} for i in subgroup_vals]\n",
    "    temp_df = experiment.X_train.copy()\n",
    "    temp_df[f'{experiment.sensitive_column}_1'] = experiment.sens_pred_CSMIA\n",
    "    sample_indices = experiment.X_train.sample(n=n, random_state=random_state).index\n",
    "    for i, condition in enumerate(conditions):\n",
    "        fcondition = f'{condition}'\n",
    "        correlation_p = get_corr_btn_sens_and_out_per_subgroup(experiment, experiment.X_train.loc[sample_indices].copy().reset_index(drop=True), experiment.y_tr[sample_indices], condition)\n",
    "        correlation = get_corr_btn_sens_and_out_per_subgroup(experiment, experiment.X_train, experiment.y_tr, condition)\n",
    "        \n",
    "        correlation_prediction = get_corr_btn_sens_and_out_per_subgroup(experiment, temp_df, experiment.y_tr, condition)\n",
    "        indices = get_indices_by_group_condition(experiment.X_case_2, condition)\n",
    "        angular_difference = get_angular_difference(experiment, experiment.confidence_array_case_2[indices], experiment.y_case_2[indices])\n",
    "        correlation_vs_ang_diff[fcondition] = {}\n",
    "        correlation_vs_ang_diff[fcondition]['correlation'] = correlation\n",
    "        correlation_vs_ang_diff[fcondition]['correlation_p'] = correlation_p\n",
    "        correlation_vs_ang_diff[fcondition]['correlation_prediction'] = correlation_prediction\n",
    "        # correlation_vs_ang_diff[fcondition]['mutual_info'] = mutual_info\n",
    "        correlation_vs_ang_diff[fcondition]['angular_difference'] = angular_difference\n",
    "        correlation_vs_ang_diff[fcondition]['single_state'] = 0 if isinstance(condition['PAT_STATUS'], list) else 1\n",
    "\n",
    "    correlation_vs_ang_diff_df = pd.DataFrame.from_dict(correlation_vs_ang_diff, orient='index')\n",
    "    correlation_vs_ang_diff_df = correlation_vs_ang_diff_df.fillna(0)\n",
    "    return correlation_vs_ang_diff_df"
   ]
  },
  {
   "cell_type": "code",
   "execution_count": 10,
   "metadata": {},
   "outputs": [],
   "source": [
    "from sklearn.linear_model import LinearRegression\n",
    "\n",
    "from sklearn.metrics import mean_absolute_error, mean_squared_error, r2_score\n",
    "\n",
    "known_corr_index=50\n",
    "\n",
    "def fit_regression_line():\n",
    "    # conditions_new = \n",
    "    temp_df = correlation_vs_ang_diff_df[correlation_vs_ang_diff_df['single_state']==0]\n",
    "    regression_x = temp_df[['angular_difference']].values\n",
    "    regression_y = temp_df[['correlation_p']].values\n",
    "\n",
    "    reg_model = LinearRegression()\n",
    "    reg_model.fit(regression_x, regression_y)\n",
    "\n",
    "    correlation_vs_ang_diff_df['correlation_estimated'] = reg_model.predict(correlation_vs_ang_diff_df[['angular_difference']].values)\n",
    "\n",
    "def estimation_performance(pred_col_name = 'correlation_estimated'):\n",
    "    temp_df = correlation_vs_ang_diff_df[correlation_vs_ang_diff_df['single_state']==1]\n",
    "    true_corr = temp_df['correlation']\n",
    "    pred_corr = temp_df[pred_col_name]\n",
    "\n",
    "    mae = mean_absolute_error(true_corr, pred_corr)\n",
    "    mse = mean_squared_error(true_corr, pred_corr)\n",
    "    rmse = np.sqrt(mse)\n",
    "    r2 = r2_score(true_corr, pred_corr)\n",
    "\n",
    "    return np.array([mae, mse, rmse, r2])"
   ]
  },
  {
   "cell_type": "code",
   "execution_count": 72,
   "metadata": {},
   "outputs": [],
   "source": [
    "results = np.zeros((5, 4))\n",
    "results_baseline = np.zeros((5, 4))\n",
    "\n",
    "\n",
    "for random_state in range(5):\n",
    "    correlation_vs_ang_diff_df = calculate_ang_diff(n=200, random_state=random_state)\n",
    "    fit_regression_line()\n",
    "    results[random_state] = estimation_performance()\n",
    "    results_baseline[random_state] = estimation_performance(pred_col_name = 'correlation_p')\n"
   ]
  },
  {
   "cell_type": "code",
   "execution_count": 73,
   "metadata": {},
   "outputs": [
    {
     "data": {
      "text/plain": [
       "array([0.0944, 0.0124, 0.1069, 0.3814])"
      ]
     },
     "execution_count": 73,
     "metadata": {},
     "output_type": "execute_result"
    }
   ],
   "source": [
    "np.mean(results, axis=0).round(4)"
   ]
  },
  {
   "cell_type": "code",
   "execution_count": 74,
   "metadata": {},
   "outputs": [
    {
     "data": {
      "text/plain": [
       "array([0.0309, 0.0068, 0.0313, 0.3369])"
      ]
     },
     "execution_count": 74,
     "metadata": {},
     "output_type": "execute_result"
    }
   ],
   "source": [
    "np.std(results, axis=0).round(4)"
   ]
  },
  {
   "cell_type": "code",
   "execution_count": 75,
   "metadata": {},
   "outputs": [
    {
     "data": {
      "text/plain": [
       "array([ 0.19  ,  0.0521,  0.2245, -1.5944])"
      ]
     },
     "execution_count": 75,
     "metadata": {},
     "output_type": "execute_result"
    }
   ],
   "source": [
    "np.mean(results_baseline, axis=0).round(4)"
   ]
  },
  {
   "cell_type": "code",
   "execution_count": 64,
   "metadata": {},
   "outputs": [
    {
     "data": {
      "text/plain": [
       "array([0.0344, 0.0198, 0.0413, 0.9877])"
      ]
     },
     "execution_count": 64,
     "metadata": {},
     "output_type": "execute_result"
    }
   ],
   "source": [
    "np.std(results_baseline, axis=0).round(4)"
   ]
  },
  {
   "cell_type": "markdown",
   "metadata": {},
   "source": [
    "# Disparity Inference"
   ]
  },
  {
   "cell_type": "code",
   "execution_count": 160,
   "metadata": {},
   "outputs": [],
   "source": [
    "experiment.sens_pred_LOMIA = LOMIA_attack(experiment, experiment.clf, experiment.X_train, experiment.y_tr, experiment.ds.ds.meta)"
   ]
  },
  {
   "cell_type": "code",
   "execution_count": 164,
   "metadata": {},
   "outputs": [],
   "source": [
    "import re\n",
    "\n",
    "def get_perf(input_string):\n",
    "\n",
    "    # Use regular expression to extract the number inside parenthesis\n",
    "    match = re.search(r'\\(([\\d.]+)\\)', input_string)\n",
    "\n",
    "    if match:\n",
    "        extracted_number = match.group(1)\n",
    "        return(float(extracted_number))\n",
    "    else:\n",
    "        return(np.nan)\n",
    "\n",
    "sub_size_df = get_CSMIA_case_by_case_results(experiment.clf, experiment.X_test, experiment.y_te, experiment.ds, 'PAT_STATUS', metric='accuracy', sensitive_col_name=None, subgroup_vals=subgroup_vals)\n",
    "baseline_res = {val: get_perf(sub_size_df.loc['Case All Cases', val]) for val in subgroup_vals}"
   ]
  },
  {
   "cell_type": "code",
   "execution_count": 165,
   "metadata": {},
   "outputs": [],
   "source": [
    "correlation_vs_ang_diff = {}\n",
    "for i in subgroup_vals:\n",
    "    condition = {'PAT_STATUS': i}\n",
    "    fcondition = f'{condition}'\n",
    "    try:\n",
    "        indices = get_indices_by_group_condition(experiment.X_case_2, condition)\n",
    "    except:\n",
    "        continue\n",
    "    correlation = get_corr_btn_sens_and_out_per_subgroup(experiment, experiment.X_train, experiment.y_tr, condition)\n",
    "    if (len(indices)==0):\n",
    "        continue\n",
    "    angular_difference = get_angular_difference(experiment, experiment.confidence_array_case_2[indices], experiment.y_case_2[indices])\n",
    "    correlation_vs_ang_diff[fcondition] = {}\n",
    "    correlation_vs_ang_diff[fcondition]['correlation'] = correlation\n",
    "    correlation_vs_ang_diff[fcondition]['angular_difference'] = angular_difference\n",
    "    indices = get_indices_by_group_condition(experiment.X_train, condition)\n",
    "    correlation_vs_ang_diff[fcondition]['CSMIA_attack_accuracy'] = (experiment.sens_val_ground_truth[indices] == experiment.sens_pred_CSMIA[indices]).sum()/len(indices)\n",
    "    correlation_vs_ang_diff[fcondition]['LOMIA_attack_accuracy'] = (experiment.sens_val_ground_truth[indices] == experiment.sens_pred_LOMIA[indices]).sum()/len(indices)\n",
    "    correlation_vs_ang_diff[fcondition]['baseline_attack_accuracy'] = baseline_res[i]\n"
   ]
  },
  {
   "cell_type": "code",
   "execution_count": 166,
   "metadata": {},
   "outputs": [],
   "source": [
    "correlation_vs_ang_diff_df = pd.DataFrame.from_dict(correlation_vs_ang_diff, orient='index')"
   ]
  },
  {
   "cell_type": "code",
   "execution_count": 167,
   "metadata": {},
   "outputs": [],
   "source": [
    "attacks = ['CSMIA', 'LOMIA']\n",
    "metrics = [kendalltau, spearmanr]\n",
    "metric_name_dict = {\n",
    "    kendalltau: 'Kendall Tau',\n",
    "    spearmanr: 'Spearman R'\n",
    "}\n",
    "\n",
    "ranking_perf_dict = {}\n",
    "for attack in attacks:\n",
    "    ranking_perf_dict[attack] = {}\n",
    "    for metric in metrics:\n",
    "        ranking_perf_dict[attack][metric_name_dict[metric]] = {}\n",
    "\n",
    "        for dia in ['angular_difference', 'baseline_attack_accuracy']:\n",
    "            ranking_perf = metric(correlation_vs_ang_diff_df[[f'{attack}_attack_accuracy']].to_numpy(), correlation_vs_ang_diff_df[[dia]].to_numpy())\n",
    "            ranking_perf_dict[attack][metric_name_dict[metric]][dia] = f'{round(ranking_perf.statistic, 4)} ({ranking_perf.pvalue:.2e})'\n",
    "            # x_values = correlation_vs_ang_diff[[f'{attack}_attack_accuracy']].to_numpy()\n",
    "            # ranking_perf_dict[attack][metric][dia] = metric(x_values, x_values)"
   ]
  },
  {
   "cell_type": "code",
   "execution_count": 168,
   "metadata": {},
   "outputs": [
    {
     "data": {
      "text/plain": [
       "{'CSMIA': {'Kendall Tau': {'angular_difference': '-0.7778 (9.46e-04)',\n",
       "   'baseline_attack_accuracy': '-0.2444 (3.81e-01)'},\n",
       "  'Spearman R': {'angular_difference': '-0.9273 (1.12e-04)',\n",
       "   'baseline_attack_accuracy': '-0.3576 (3.10e-01)'}},\n",
       " 'LOMIA': {'Kendall Tau': {'angular_difference': '-0.7778 (9.46e-04)',\n",
       "   'baseline_attack_accuracy': '-0.2444 (3.81e-01)'},\n",
       "  'Spearman R': {'angular_difference': '-0.9152 (2.04e-04)',\n",
       "   'baseline_attack_accuracy': '-0.3939 (2.60e-01)'}}}"
      ]
     },
     "execution_count": 168,
     "metadata": {},
     "output_type": "execute_result"
    }
   ],
   "source": [
    "ranking_perf_dict"
   ]
  },
  {
   "cell_type": "code",
   "execution_count": 169,
   "metadata": {},
   "outputs": [],
   "source": [
    "def plot_comparison(correlation_vs_ang_diff_df, x_axis_col_name='correlation', y_axis_col_name='attack_accuracy'):\n",
    "    arr = correlation_vs_ang_diff_df[[x_axis_col_name, y_axis_col_name]].to_numpy()\n",
    "\n",
    "    x_values = [item[0] for item in arr]\n",
    "    y_values = [item[1] for item in arr]\n",
    "\n",
    "    # Creating the scatter plot\n",
    "    fig, ax = plt.subplots()\n",
    "    plt.scatter(x_values, y_values, color='grey', alpha=0.9, marker='x')\n",
    "    # plt.title('Scatter Plot of Correlation vs Angular Difference')\n",
    "    plt.xlabel(f'{x_axis_col_name}')\n",
    "    plt.ylabel(f'{y_axis_col_name}')\n",
    "    # plt.xlim(-0.5, 0.025)\n",
    "    plt.grid(True, linewidth=0.25)\n",
    "    ax.spines['top'].set_visible(False)\n",
    "    ax.spines['right'].set_visible(False)\n",
    "    # sns.despine()\n",
    "    plt.show()\n"
   ]
  },
  {
   "cell_type": "code",
   "execution_count": 170,
   "metadata": {},
   "outputs": [
    {
     "data": {
      "image/png": "[encoded data removed]",
      "text/plain": [
       "<Figure size 640x480 with 1 Axes>"
      ]
     },
     "metadata": {},
     "output_type": "display_data"
    }
   ],
   "source": [
    "plot_comparison(correlation_vs_ang_diff_df, 'correlation', 'angular_difference')"
   ]
  },
  {
   "cell_type": "code",
   "execution_count": 171,
   "metadata": {},
   "outputs": [
    {
     "data": {
      "image/png": "[encoded data removed]",
      "text/plain": [
       "<Figure size 640x480 with 1 Axes>"
      ]
     },
     "metadata": {},
     "output_type": "display_data"
    }
   ],
   "source": [
    "plot_comparison(correlation_vs_ang_diff_df, 'angular_difference', 'CSMIA_attack_accuracy')"
   ]
  }
 ],
 "metadata": {
  "colab": {
   "provenance": []
  },
  "gpuClass": "standard",
  "kernelspec": {
   "display_name": "Python 3 (ipykernel)",
   "language": "python",
   "name": "python3"
  },
  "language_info": {
   "codemirror_mode": {
    "name": "ipython",
    "version": 3
   },
   "file_extension": ".py",
   "mimetype": "text/x-python",
   "name": "python",
   "nbconvert_exporter": "python",
   "pygments_lexer": "ipython3",
   "version": "3.9.16"
  }
 },
 "nbformat": 4,
 "nbformat_minor": 4
}

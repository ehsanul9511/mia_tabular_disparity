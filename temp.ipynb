{
 "cells": [
  {
   "attachments": {},
   "cell_type": "markdown",
   "metadata": {},
   "source": [
    "# Load Library"
   ]
  },
  {
   "cell_type": "code",
   "execution_count": 1,
   "metadata": {
    "tags": []
   },
   "outputs": [
    {
     "name": "stderr",
     "output_type": "stream",
     "text": [
      "/Users/ehsanulkabir/miniconda/envs/tabular/lib/python3.9/site-packages/tqdm/auto.py:21: TqdmWarning: IProgress not found. Please update jupyter and ipywidgets. See https://ipywidgets.readthedocs.io/en/stable/user_install.html\n",
      "  from .autonotebook import tqdm as notebook_tqdm\n"
     ]
    }
   ],
   "source": [
    "from tqdm import tqdm\n",
    "import os\n",
    "import data_utils\n",
    "import model_utils\n",
    "from model_utils import train_torch_model, test_torch_model, port_mlp_to_ch\n",
    "from data_utils import oneHotCatVars\n",
    "from whitebox_attack import neuron_output, make_neuron_output_data, roc_curve_plot, get_LOMIA_case_1_correct_examples, Top10CorrNeurons, wb_corr_attacks\n",
    "from disparate_vulnerability_utils import get_accuracy, get_indices_by_conditions, subgroup_vulnerability_distance_vector, subgroup_vulnerability_distance, get_subgroup_disparity, plot_subgroup_disparity, improved_subgroup_attack, get_subgroup_disparity_baseline, get_top_dist_indices\n",
    "import shap\n",
    "import numpy as np\n",
    "import pandas as pd\n",
    "import torch\n",
    "import torch.nn as nn\n",
    "from sklearn.preprocessing import OneHotEncoder\n",
    "from sklearn.neural_network._base import ACTIVATIONS\n",
    "from sklearn.model_selection import train_test_split\n",
    "from sklearn.metrics.pairwise import euclidean_distances\n",
    "from sklearn.metrics import roc_curve, auc, roc_auc_score\n",
    "import matplotlib.pyplot as plt\n",
    "import tabulate\n",
    "# import utils"
   ]
  },
  {
   "cell_type": "markdown",
   "metadata": {},
   "source": [
    "# Load Data"
   ]
  },
  {
   "cell_type": "code",
   "execution_count": 2,
   "metadata": {
    "tags": []
   },
   "outputs": [],
   "source": [
    "ds = data_utils.CensusWrapper(\n",
    "            filter_prop=\"none\", ratio=float(0.5), split=\"all\", name=\"GSS\")\n",
    "(x_tr, y_tr), (x_te, y_te), cols = ds.load_data()\n",
    "X_train = pd.DataFrame(x_tr, columns=cols)"
   ]
  },
  {
   "cell_type": "code",
   "execution_count": null,
   "metadata": {},
   "outputs": [],
   "source": [
    "def filter_random_data(ds, clf, confidence_threshold=0.99, num_samples=100000, seed=42):\n",
    "    def oneHotCatVars(x, colname):\n",
    "        df_1 = x.drop(columns=colname, axis=1)\n",
    "        df_2 = pd.get_dummies(x[colname], prefix=colname, prefix_sep='_')\n",
    "        return (pd.concat([df_1, df_2], axis=1, join='inner'))\n",
    "\n",
    "    random_df, random_oh_df = ds.ds.get_random_data(num_samples)\n",
    "    data_dict = ds.ds.meta\n",
    "    X_random = random_oh_df.drop(data_dict['y_column'], axis=1)\n",
    "    default_cols = X_random.columns\n",
    "    # y = random_oh_df[data_dict['y_column']]\n",
    "\n",
    "    sensitive_attr = data_dict['sensitive_column']\n",
    "    sensitive_values = data_dict['sensitive_values']\n",
    "    prediction_columns = []\n",
    "    for sensitive_value in sensitive_values:\n",
    "        X_random[sensitive_attr + \"_\" + sensitive_value] = pd.Series(np.ones(X_random.shape[0]), index=X_random.index)\n",
    "        for other_value in sensitive_values:\n",
    "            if other_value != sensitive_value:\n",
    "                X_random[sensitive_attr + \"_\" + other_value] = pd.Series(np.zeros(X_random.shape[0]), index=X_random.index)\n",
    "\n",
    "        newcolname = \"prediction_\" + sensitive_value\n",
    "        prediction_columns.append(newcolname)\n",
    "        X_random[newcolname] = pd.Series(np.argmax(clf.predict(X_random[default_cols]), axis=1), index=X_random.index)\n",
    "        X_random[\"confidence_\" + sensitive_value] = pd.Series(np.max(clf.predict_proba(X_random[default_cols]), axis=1), \n",
    "                                                            index=X_random.index)\n",
    "\n",
    "    X_random['all_predictions'] = X_random[prediction_columns].apply(pd.Series.unique, axis=1)\n",
    "\n",
    "    # X_random = X_random[X_random['all_predictions'].apply(lambda x: len(x)==len(sensitive_values))]\n",
    "\n",
    "\n",
    "    dfs = []\n",
    "\n",
    "    for sensitive_value in sensitive_values:\n",
    "        X_temp = X_random[default_cols].copy()\n",
    "\n",
    "        X_temp[sensitive_attr + \"_\" + sensitive_value] = pd.Series(np.ones(X_temp.shape[0]), index=X_random.index)\n",
    "        for other_value in sensitive_values:\n",
    "            if other_value != sensitive_value:\n",
    "                X_temp[sensitive_attr + \"_\" + other_value] = pd.Series(np.zeros(X_temp.shape[0]), index=X_random.index)\n",
    "\n",
    "        X_temp[data_dict['y_column']] = X_random[\"prediction_\" + sensitive_value].apply(lambda x: data_dict['y_values'][x])\n",
    "        X_temp['confidence'] = X_random[\"confidence_\" + sensitive_value]\n",
    "\n",
    "        dfs.append(X_temp.copy())\n",
    "\n",
    "    random_oh_df = pd.concat(dfs, ignore_index=True)\n",
    "\n",
    "    random_oh_df = random_oh_df[random_oh_df['confidence'].apply(lambda x: x > confidence_threshold)].drop('confidence', axis=1)\n",
    "\n",
    "    random_oh_df = oneHotCatVars(random_oh_df, data_dict['y_column'])\n",
    "\n",
    "    #convert datatype to float\n",
    "    random_oh_df = random_oh_df.astype(float)\n",
    "\n",
    "    return random_oh_df\n",
    "\n",
    "    "
   ]
  },
  {
   "attachments": {},
   "cell_type": "markdown",
   "metadata": {},
   "source": [
    "# Load and Train Target Model"
   ]
  },
  {
   "cell_type": "code",
   "execution_count": 3,
   "metadata": {
    "tags": []
   },
   "outputs": [],
   "source": [
    "load_model = True\n",
    "save_model = False\n",
    "\n",
    "if load_model:\n",
    "    clf = model_utils.load_model(f'<PATH_TO_MODEL>/{ds.ds.name}_target_model.pkl')\n",
    "else:\n",
    "    clf = model_utils.get_model(max_iter=500)\n",
    "    y_tr_onehot = ds.ds.y_enc.transform(y_tr).toarray()\n",
    "    clf.fit(X_train, y_tr_onehot)\n",
    "\n",
    "    if save_model:\n",
    "        model_utils.save_model(clf, f'<PATH_TO_MODEL>/{ds.ds.name}_target_model.pkl')"
   ]
  },
  {
   "attachments": {},
   "cell_type": "markdown",
   "metadata": {},
   "source": [
    "# Test Target Model"
   ]
  },
  {
   "cell_type": "code",
   "execution_count": 4,
   "metadata": {
    "tags": []
   },
   "outputs": [
    {
     "name": "stdout",
     "output_type": "stream",
     "text": [
      "Classifier: Train acc 67.01 , Test acc 56.86\n",
      "\n"
     ]
    },
    {
     "name": "stderr",
     "output_type": "stream",
     "text": [
      "X does not have valid feature names, but MLPClassifier was fitted with feature names\n"
     ]
    }
   ],
   "source": [
    "# train_acc = 100 * clf.score(x_tr, y_tr.ravel())\n",
    "# test_acc = 100 * clf.score(x_te, y_te.ravel())\n",
    "train_acc = 100 * clf.score(X_train, ds.ds.y_enc.transform(y_tr).toarray())\n",
    "test_acc = 100 * clf.score(x_te, ds.ds.y_enc.transform(y_te).toarray())\n",
    "if True:\n",
    "    print(\"Classifier: Train acc %.2f , Test acc %.2f\\n\" %\n",
    "            (train_acc, test_acc))"
   ]
  },
  {
   "attachments": {},
   "cell_type": "markdown",
   "metadata": {},
   "source": [
    "# Convert to PyTorch Model"
   ]
  },
  {
   "cell_type": "code",
   "execution_count": null,
   "metadata": {
    "tags": []
   },
   "outputs": [],
   "source": [
    "target_model = port_mlp_to_ch(clf)"
   ]
  },
  {
   "cell_type": "code",
   "execution_count": null,
   "metadata": {},
   "outputs": [],
   "source": [
    "target_model = train_torch_model(target_model, x_tr, y_tr_onehot, epochs=10000, lr = 0.01)"
   ]
  },
  {
   "cell_type": "code",
   "execution_count": null,
   "metadata": {},
   "outputs": [],
   "source": [
    "y_te_onehot = ds.ds.y_enc.transform(y_te).toarray()\n",
    "test_acc = test_torch_model(target_model, x_te, y_te_onehot)\n",
    "print(\"Classifier: Test acc %.2f\\n\" % (test_acc))"
   ]
  },
  {
   "attachments": {},
   "cell_type": "markdown",
   "metadata": {},
   "source": [
    "# LOMIA Attack"
   ]
  },
  {
   "cell_type": "code",
   "execution_count": null,
   "metadata": {},
   "outputs": [],
   "source": [
    "attack_dataset = model_utils.LOMIA_attack(clf, X_train, y_tr, ds.ds.meta)"
   ]
  },
  {
   "cell_type": "code",
   "execution_count": null,
   "metadata": {},
   "outputs": [],
   "source": [
    "attack_df = pd.concat(attack_dataset)\n",
    "attack_df[ds.ds.meta['y_column']] = attack_df[ds.ds.meta['y_column']].apply(lambda x: ds.ds.meta['y_values'][x])"
   ]
  },
  {
   "cell_type": "code",
   "execution_count": null,
   "metadata": {
    "tags": []
   },
   "outputs": [],
   "source": [
    "attack_df.to_csv('<PATH_TO_DATASET>/GSS_attack.csv')"
   ]
  },
  {
   "attachments": {},
   "cell_type": "markdown",
   "metadata": {},
   "source": [
    "# Load Attack Data"
   ]
  },
  {
   "cell_type": "code",
   "execution_count": null,
   "metadata": {
    "tags": []
   },
   "outputs": [],
   "source": [
    "attack_df = pd.read_csv(f'<PATH_TO_DATASET>/{ds.ds.name}_attack.csv')\n",
    "attack_df.index = attack_df['Unnamed: 0']\n",
    "attack_df.index.name = None\n",
    "attack_df = attack_df.drop('Unnamed: 0', axis=1)"
   ]
  },
  {
   "cell_type": "code",
   "execution_count": null,
   "metadata": {
    "tags": []
   },
   "outputs": [],
   "source": [
    "# Split the DataFrame into input and output variables\n",
    "X_attack = attack_df.drop([ds.ds.meta['sensitive_column'] + \"_\" + val for val in ds.ds.meta['sensitive_values']], axis=1) \n",
    "X_attack = oneHotCatVars(X_attack, ds.ds.meta['y_column'])\n",
    "y_attack = attack_df[[ ds.ds.meta['sensitive_column'] + \"_\" + ds.ds.meta['sensitive_positive']]]\n",
    "# y_attack_onehot, att_enc = onehot(y_attack.to_numpy())\n",
    "y_attack_onehot = ds.ds.sensitive_enc.transform(y_attack.to_numpy()).toarray()"
   ]
  },
  {
   "attachments": {},
   "cell_type": "markdown",
   "metadata": {},
   "source": [
    "# Train Attack Model"
   ]
  },
  {
   "cell_type": "code",
   "execution_count": null,
   "metadata": {
    "tags": []
   },
   "outputs": [],
   "source": [
    "attack_clf = model_utils.get_model(max_iter=500)"
   ]
  },
  {
   "cell_type": "code",
   "execution_count": null,
   "metadata": {
    "tags": []
   },
   "outputs": [],
   "source": [
    "attack_clf.fit(X_attack, y_attack_onehot)"
   ]
  },
  {
   "cell_type": "code",
   "execution_count": null,
   "metadata": {},
   "outputs": [],
   "source": [
    "X, y = ds.ds.get_attack_df()\n",
    "# Convert X to float\n",
    "X = X.astype(float)\n",
    "\n",
    "X_tensor = torch.from_numpy(X.to_numpy()).float().to(model_utils.device)"
   ]
  },
  {
   "cell_type": "code",
   "execution_count": null,
   "metadata": {},
   "outputs": [],
   "source": [
    "acc = 100 * attack_clf.score(X, ds.ds.sensitive_enc.transform(y.to_numpy().ravel().reshape(-1, 1)).toarray())\n",
    "if True:\n",
    "    print(f\"Attack accuracy: {acc}\")"
   ]
  },
  {
   "cell_type": "code",
   "execution_count": null,
   "metadata": {
    "tags": []
   },
   "outputs": [],
   "source": [
    "attack_model = model_utils.port_mlp_to_ch(attack_clf)"
   ]
  },
  {
   "cell_type": "code",
   "execution_count": null,
   "metadata": {},
   "outputs": [],
   "source": [
    "predictions = attack_model(X_tensor)\n",
    "# calculate accuracy\n",
    "correct = 0\n",
    "total = 0\n",
    "with torch.no_grad():\n",
    "    for i in range(len(X_tensor)):\n",
    "        if predictions[i].argmax().item() == y.iloc[i].astype(int):\n",
    "            correct += 1\n",
    "        total += 1\n",
    "\n",
    "print(f'Accuracy of the network on the {len(X_tensor)} test images: {100 * correct / total} %')"
   ]
  },
  {
   "attachments": {},
   "cell_type": "markdown",
   "metadata": {},
   "source": [
    "# Model Inversion with Full Records"
   ]
  },
  {
   "cell_type": "code",
   "execution_count": 13,
   "metadata": {},
   "outputs": [],
   "source": [
    "X, y = ds.ds.get_attack_df()\n",
    "# Convert X to float\n",
    "X = X.astype(float)\n",
    "y_onehot = ds.ds.sensitive_enc.transform(y.to_numpy().ravel().reshape(-1, 1)).toarray()"
   ]
  },
  {
   "cell_type": "code",
   "execution_count": 11,
   "metadata": {},
   "outputs": [],
   "source": [
    "load_model = True\n",
    "save_model = False\n",
    "\n",
    "if load_model:\n",
    "    inv_clfs = model_utils.load_model(f'<PATH_TO_MODEL>/{ds.ds.name}_inverse_model.pkl')\n",
    "else:\n",
    "\n",
    "    inv_clfs = {}\n",
    "\n",
    "    for test_size in [0.1, 0.2, 0.3, 0.4, 0.5, 0.6, 0.7, 0.8, 0.9]:\n",
    "        x_tr, x_te, y_tr, y_te = train_test_split(X, y_onehot, test_size=test_size, random_state=42)\n",
    "\n",
    "        inv_clf = model_utils.get_model(max_iter=500, hidden_layer_sizes=(60, 50, 40, 30, 20, 10))\n",
    "        inv_clf.fit(x_tr, y_tr)\n",
    "        inv_clfs[test_size] = inv_clf\n",
    "\n",
    "        acc = 100 * inv_clf.score(x_te, y_te)\n",
    "        print(f'Inverse accuracy with test size {test_size}: {acc}')\n",
    "\n",
    "    if save_model:\n",
    "        model_utils.save_model(inv_clfs, f'<PATH_TO_MODEL>/{ds.ds.name}_inverse_model.pkl')"
   ]
  },
  {
   "cell_type": "code",
   "execution_count": 12,
   "metadata": {},
   "outputs": [
    {
     "name": "stdout",
     "output_type": "stream",
     "text": [
      "AUC with test size 0.1: 0.6757753072866576\n",
      "AUC with test size 0.2: 0.6839158131006575\n",
      "AUC with test size 0.3: 0.7041849180161708\n",
      "AUC with test size 0.4: 0.6692032411039254\n",
      "AUC with test size 0.5: 0.6554163416833265\n",
      "AUC with test size 0.6: 0.6655542502660508\n",
      "AUC with test size 0.7: 0.6443314578592082\n",
      "AUC with test size 0.8: 0.6228455643768328\n",
      "AUC with test size 0.9: 0.617396575193147\n"
     ]
    }
   ],
   "source": [
    "for test_size in [0.1, 0.2, 0.3, 0.4, 0.5, 0.6, 0.7, 0.8, 0.9]:\n",
    "    x_tr, x_te, y_tr, y_te = train_test_split(X, y_onehot, test_size=test_size, random_state=42)\n",
    "\n",
    "    inv_clf = inv_clfs[test_size]\n",
    "    \n",
    "    # calculate auc\n",
    "    y_pred = inv_clf.predict_proba(x_te)\n",
    "    auc = roc_auc_score(y_te, y_pred)\n",
    "    print(f'AUC with test size {test_size}: {auc}')"
   ]
  },
  {
   "cell_type": "code",
   "execution_count": 21,
   "metadata": {},
   "outputs": [
    {
     "data": {
      "text/plain": [
       "[0.6110328277638002,\n",
       " 0.6128326834744925,\n",
       " 0.6238416054389216,\n",
       " 0.6265131528077251,\n",
       " 0.6405532666453324]"
      ]
     },
     "execution_count": 21,
     "metadata": {},
     "output_type": "execute_result"
    }
   ],
   "source": [
    "aucs[5:-1]"
   ]
  },
  {
   "attachments": {},
   "cell_type": "markdown",
   "metadata": {},
   "source": [
    "# Init Shap JS visualization"
   ]
  },
  {
   "cell_type": "code",
   "execution_count": null,
   "metadata": {
    "tags": []
   },
   "outputs": [],
   "source": [
    "shap.initjs()"
   ]
  },
  {
   "cell_type": "markdown",
   "metadata": {},
   "source": [
    "# Target Model Shapley Plot"
   ]
  },
  {
   "cell_type": "code",
   "execution_count": null,
   "metadata": {
    "tags": []
   },
   "outputs": [],
   "source": [
    "def f(X):\n",
    "    # X_tensor = torch.from_numpy(X.to_numpy()).float().to(model_utils.device)\n",
    "    X_tensor = torch.from_numpy(X).float().to(model_utils.device)\n",
    "    predictions = target_model(X_tensor)\n",
    "    # predictions is of shape (batch_size, 2) and contains the logits\n",
    "    # for each data point in the batch, we need to return the class with the highest probability\n",
    "    # we can do this by taking the argmax of the logits\n",
    "    return predictions.argmax(dim=1).detach().cpu().numpy()"
   ]
  },
  {
   "cell_type": "code",
   "execution_count": null,
   "metadata": {
    "tags": []
   },
   "outputs": [],
   "source": [
    "K = 100 # Number of samples to use for background data\n",
    "background = shap.kmeans(X_train, K)"
   ]
  },
  {
   "cell_type": "code",
   "execution_count": null,
   "metadata": {
    "tags": []
   },
   "outputs": [],
   "source": [
    "explainer = shap.KernelExplainer(f, background)"
   ]
  },
  {
   "cell_type": "code",
   "execution_count": null,
   "metadata": {
    "tags": []
   },
   "outputs": [],
   "source": [
    "# explainer.shap_values(X_train.iloc[0])\n",
    "shap_values50 = explainer.shap_values(X_train.iloc[280:330,:], nsamples=500)"
   ]
  },
  {
   "cell_type": "code",
   "execution_count": null,
   "metadata": {
    "tags": []
   },
   "outputs": [],
   "source": [
    "X_display = ds.ds.original_df"
   ]
  },
  {
   "cell_type": "code",
   "execution_count": null,
   "metadata": {},
   "outputs": [],
   "source": [
    "pd.crosstab(X_display['marital'], X_display['income'])"
   ]
  },
  {
   "cell_type": "code",
   "execution_count": null,
   "metadata": {
    "tags": []
   },
   "outputs": [],
   "source": [
    "shap.force_plot(explainer.expected_value, shap_values50, X_display.iloc[280:330,:])"
   ]
  },
  {
   "cell_type": "code",
   "execution_count": null,
   "metadata": {},
   "outputs": [],
   "source": [
    "explainer(X_train)"
   ]
  },
  {
   "cell_type": "code",
   "execution_count": null,
   "metadata": {},
   "outputs": [],
   "source": [
    "explainer(x_tr)"
   ]
  },
  {
   "cell_type": "markdown",
   "metadata": {},
   "source": [
    "# Attack Model Shapley Plot"
   ]
  },
  {
   "cell_type": "code",
   "execution_count": null,
   "metadata": {
    "tags": []
   },
   "outputs": [],
   "source": [
    "def attack_f(X):\n",
    "    X_tensor = torch.from_numpy(X).float().to(model_utils.device)\n",
    "    predictions = attack_model(X_tensor)\n",
    "    # predictions is of shape (batch_size, 2) and contains the logits\n",
    "    # for each data point in the batch, we need to return the class with the highest probability\n",
    "    # we can do this by taking the argmax of the logits\n",
    "    return predictions.argmax(dim=1).detach().cpu().numpy()"
   ]
  },
  {
   "cell_type": "code",
   "execution_count": null,
   "metadata": {
    "tags": []
   },
   "outputs": [],
   "source": [
    "K = 100 # Number of samples to use for background data\n",
    "background = shap.kmeans(X, K)"
   ]
  },
  {
   "cell_type": "code",
   "execution_count": null,
   "metadata": {
    "tags": []
   },
   "outputs": [],
   "source": [
    "explainer = shap.KernelExplainer(attack_f, background)"
   ]
  },
  {
   "cell_type": "code",
   "execution_count": null,
   "metadata": {},
   "outputs": [],
   "source": [
    "indices = np.concatenate((\n",
    "    get_indices_by_conditions(ds.ds.original_df[:10000], {\"sex\": \"male\", \"xmovie\": \"x_yes\"}).to_numpy()[:500],\n",
    "    get_indices_by_conditions(ds.ds.original_df[:10000], {\"sex\": \"female\", \"xmovie\": \"x_yes\"}).to_numpy()[:500]\n",
    "))"
   ]
  },
  {
   "cell_type": "code",
   "execution_count": null,
   "metadata": {},
   "outputs": [],
   "source": [
    "indices = np.concatenate((get_indices_by_conditions(ds.ds.df[:10000], {\"sex_male\": 1}).to_numpy()[:25], get_indices_by_conditions(ds.ds.df[:10000], {\"sex_female\": 1}).to_numpy()[:25]))"
   ]
  },
  {
   "cell_type": "code",
   "execution_count": null,
   "metadata": {},
   "outputs": [],
   "source": [
    "shap_values_all = explainer.shap_values(X.iloc[:,:], nsamples=500)\n",
    "shap_values_df = pd.DataFrame(shap_values_all, columns=X.columns)\n",
    "shap_values_df.to_csv('<PATH_TO_DATASET>/GSS_shap_values.csv')"
   ]
  },
  {
   "cell_type": "code",
   "execution_count": null,
   "metadata": {
    "tags": []
   },
   "outputs": [],
   "source": [
    "shap_values50 = explainer.shap_values(X.iloc[indices[:50],:], nsamples=100)"
   ]
  },
  {
   "cell_type": "code",
   "execution_count": null,
   "metadata": {},
   "outputs": [],
   "source": [
    "pd.DataFrame(shap_values50, columns=X.columns)"
   ]
  },
  {
   "cell_type": "code",
   "execution_count": null,
   "metadata": {},
   "outputs": [],
   "source": [
    "shap.plots.bar(shap_values50, "
   ]
  },
  {
   "cell_type": "code",
   "execution_count": null,
   "metadata": {},
   "outputs": [],
   "source": [
    "# shap.force_plot(explainer.expected_value, shap_values50, ds.ds.original_df.iloc[indices,:])"
   ]
  },
  {
   "attachments": {},
   "cell_type": "markdown",
   "metadata": {},
   "source": [
    "# Investigate Neuron Output"
   ]
  },
  {
   "attachments": {},
   "cell_type": "markdown",
   "metadata": {},
   "source": [
    "## Helper Functions"
   ]
  },
  {
   "attachments": {},
   "cell_type": "markdown",
   "metadata": {},
   "source": [
    "## From LOMIA Case 1"
   ]
  },
  {
   "cell_type": "code",
   "execution_count": null,
   "metadata": {},
   "outputs": [],
   "source": [
    "X_attack_neuron = make_neuron_output_data(ds, X_attack, clf, y_columns)"
   ]
  },
  {
   "cell_type": "code",
   "execution_count": null,
   "metadata": {},
   "outputs": [],
   "source": [
    "neuron_clf = model_utils.get_model(max_iter=500)"
   ]
  },
  {
   "cell_type": "code",
   "execution_count": null,
   "metadata": {},
   "outputs": [],
   "source": [
    "neuron_clf.fit(X_attack_neuron, y_attack_onehot)"
   ]
  },
  {
   "attachments": {},
   "cell_type": "markdown",
   "metadata": {},
   "source": [
    "## From Original Data"
   ]
  },
  {
   "cell_type": "code",
   "execution_count": 4,
   "metadata": {},
   "outputs": [],
   "source": [
    "X, y = ds.ds.get_attack_df()\n",
    "X = X.astype(np.float32)\n",
    "X_neuron = make_neuron_output_data(ds, X, clf, ds.ds.y_columns)"
   ]
  },
  {
   "cell_type": "code",
   "execution_count": 5,
   "metadata": {},
   "outputs": [],
   "source": [
    "# Split x and y into train and test\n",
    "load_model = True\n",
    "save_model = False\n",
    "\n",
    "test_sizes = [0.5, 0.6, 0.7, 0.8, 0.9]\n",
    "# test_sizes = [0.5]\n",
    "\n",
    "if load_model:\n",
    "    neuron_clfs = model_utils.load_model(f'<PATH_TO_MODEL>/neuron_clfs_{ds.ds.name}.pkl')\n",
    "    x_n_tr, x_n_te, y_n_tr, y_n_te = train_test_split(X_neuron, y, test_size=test_sizes[0], random_state=42)\n",
    "    y_n_tr_onehot = ds.ds.sensitive_enc.transform(y_n_tr.to_numpy().ravel().reshape(-1,1)).toarray()\n",
    "else:\n",
    "    neuron_clfs={}\n",
    "\n",
    "    hidden_layers = [64, 32, 16, 8, 4]\n",
    "\n",
    "    lomia_case_1_indices = get_LOMIA_case_1_correct_examples(ds, X_train)\n",
    "    if 'lomia_case_1_indices' in globals():\n",
    "        x_n_tr, x_n_te, y_n_tr, y_n_te = X_neuron.iloc[lomia_case_1_indices], X_neuron.iloc[~np.isin(np.arange(len(X_neuron)), lomia_case_1_indices)], y[lomia_case_1_indices], y[~np.isin(np.arange(len(X_neuron)), lomia_case_1_indices)]\n",
    "\n",
    "        x_n_tr, x_n_te = data_utils.normalize(x_n_tr, x_n_te)\n",
    "\n",
    "        y_n_tr = ds.ds.sensitive_enc.transform(y_n_tr.to_numpy().ravel().reshape(-1,1)).toarray()\n",
    "        neuron_clfs['lomia_case_1'] = model_utils.get_model(max_iter=1000)\n",
    "        neuron_clfs['lomia_case_1'].fit(x_n_tr, y_n_tr)\n",
    "\n",
    "    for test_size in test_sizes:\n",
    "        x_n_tr, x_n_te, y_n_tr, y_n_te = train_test_split(X_neuron, y, test_size=test_size, random_state=42)\n",
    "        y_n_tr = ds.ds.sensitive_enc.transform(y_n_tr.to_numpy().ravel().reshape(-1,1)).toarray()\n",
    "\n",
    "        x_n_tr, x_n_te = data_utils.normalize(x_n_tr, x_n_te)\n",
    "        \n",
    "        neuron_clfs[test_size] = model_utils.get_model(max_iter=1000)\n",
    "        neuron_clfs[test_size].fit(x_n_tr, y_n_tr)\n",
    "\n",
    "    if save_model:\n",
    "        model_utils.save_model(neuron_clfs, f'<PATH_TO_MODEL>/neuron_clfs_{ds.ds.name}.pkl')"
   ]
  },
  {
   "attachments": {},
   "cell_type": "markdown",
   "metadata": {},
   "source": [
    "## Compare whitebox correlation attack and our attack"
   ]
  },
  {
   "cell_type": "code",
   "execution_count": null,
   "metadata": {},
   "outputs": [],
   "source": [
    "top_10_corr_neurons_model = wb_corr_attacks(x_n_tr, y_n_tr)\n",
    "wb_preds = top_10_corr_neurons_model(torch.from_numpy(X_neuron).float()).detach().numpy()\n",
    "# draw the ROC curve\n",
    "y_wb_att = y.ravel().astype(np.float32)\n",
    "fpr, tpr, thresholds = roc_curve(y_wb_att, wb_preds)\n",
    "\n",
    "roc_curve_plot(fpr, tpr)"
   ]
  },
  {
   "cell_type": "code",
   "execution_count": null,
   "metadata": {},
   "outputs": [],
   "source": [
    "our_preds = neuron_clfs[0.9].predict_proba(X_neuron)[:,1]\n",
    "\n",
    "fpr, tpr, thresholds = roc_curve(y_wb_att, our_preds)\n",
    "\n",
    "roc_curve_plot(fpr, tpr)"
   ]
  },
  {
   "cell_type": "code",
   "execution_count": 17,
   "metadata": {},
   "outputs": [
    {
     "name": "stderr",
     "output_type": "stream",
     "text": [
      "invalid value encountered in divide\n",
      "invalid value encountered in divide\n",
      "invalid value encountered in divide\n",
      "invalid value encountered in divide\n",
      "invalid value encountered in divide\n",
      "invalid value encountered in divide\n",
      "invalid value encountered in divide\n",
      "invalid value encountered in divide\n",
      "invalid value encountered in divide\n",
      "invalid value encountered in divide\n"
     ]
    }
   ],
   "source": [
    "names = []\n",
    "aucs = []\n",
    "for test_size in [0.9, 0.8, 0.7, 0.6, 0.5]:\n",
    "    x_n_tr, x_n_te, y_n_tr, y_n_te = train_test_split(X_neuron, y, test_size=test_size, random_state=42)\n",
    "    top_10_corr_neurons_model = wb_corr_attacks(x_n_tr, y_n_tr)\n",
    "\n",
    "    # wb_preds = top_10_corr_neurons_model(torch.from_numpy(X_neuron).float()).detach().numpy()\n",
    "    wb_preds = top_10_corr_neurons_model(torch.from_numpy(x_n_te.to_numpy()).float()).detach().numpy()\n",
    "    # draw the ROC curve\n",
    "    y_wb_att = y_n_te.ravel().astype(np.float32)\n",
    "    names.append(f'wb-corr-{round((1-test_size)*100)}%')\n",
    "    aucs.append(roc_auc_score(y_wb_att, wb_preds))\n",
    "\n",
    "for test_size in [0.9, 0.8, 0.7, 0.6, 0.5]:\n",
    "    names.append(f'Ours-{round((1-test_size)*100)}%')\n",
    "    x_n_tr, x_n_te, y_n_tr, y_n_te = train_test_split(X_neuron, y, test_size=test_size, random_state=42)\n",
    "\n",
    "    x_n_tr, x_n_te = data_utils.normalize(x_n_tr, x_n_te)\n",
    "\n",
    "    preds = neuron_clfs[test_size].predict_proba(x_n_te)[:,1]\n",
    "    y_wb_att = y_n_te.ravel().astype(np.float32)\n",
    "    aucs.append(roc_auc_score(y_wb_att, preds))\n",
    "\n",
    "names.append('LOMIA')\n",
    "lomia_preds = neuron_clfs['lomia_case_1'].predict_proba(x_n_te)[:,1]\n",
    "aucs.append(roc_auc_score(y_wb_att, lomia_preds))"
   ]
  },
  {
   "cell_type": "code",
   "execution_count": 19,
   "metadata": {},
   "outputs": [
    {
     "data": {
      "text/plain": [
       "[0.6755664336626241,\n",
       " 0.6786685419350387,\n",
       " 0.679512752189045,\n",
       " 0.6832773776183697,\n",
       " 0.6865409442505022,\n",
       " 0.6110328277638002,\n",
       " 0.6128326834744925,\n",
       " 0.6238416054389216,\n",
       " 0.6265131528077251,\n",
       " 0.6405532666453324,\n",
       " 0.6651516967476518]"
      ]
     },
     "execution_count": 19,
     "metadata": {},
     "output_type": "execute_result"
    }
   ],
   "source": [
    "aucs"
   ]
  },
  {
   "cell_type": "code",
   "execution_count": 18,
   "metadata": {},
   "outputs": [
    {
     "data": {
      "image/png": "[encoded data removed]",
      "text/plain": [
       "<Figure size 1800x500 with 1 Axes>"
      ]
     },
     "metadata": {},
     "output_type": "display_data"
    }
   ],
   "source": [
    "# plot bars with x ticks as names and y as aucs\n",
    "# make the yticks vertical\n",
    "plt.figure(figsize=(18,5))\n",
    "plt.bar(names, np.array(aucs)*100)\n",
    "plt.hlines(aucs[4]*100, -1, len(names), linestyles='dashed')\n",
    "plt.title('AUCs of different attacks')\n",
    "plt.show()"
   ]
  },
  {
   "attachments": {},
   "cell_type": "markdown",
   "metadata": {},
   "source": [
    "## Subgroup Biased Neuron"
   ]
  },
  {
   "cell_type": "code",
   "execution_count": null,
   "metadata": {},
   "outputs": [],
   "source": [
    "subgroup_columns = ['sex', 'race', 'relig']\n",
    "\n",
    "subgroup_disparity_dict, subgroup_clfs = improved_subgroup_attack(ds, subgroup_columns, neuron_clfs[0.5], X_neuron, y, metric='accuracy')\n",
    "\n",
    "print(subgroup_disparity_dict)\n",
    "\n",
    "# plot_subgroup_disparity(subgroup_disparity_dict, subgroup_columns)"
   ]
  },
  {
   "cell_type": "code",
   "execution_count": 6,
   "metadata": {},
   "outputs": [
    {
     "name": "stderr",
     "output_type": "stream",
     "text": [
      "Stochastic Optimizer: Maximum iterations (500) reached and the optimization hasn't converged yet.\n"
     ]
    },
    {
     "name": "stdout",
     "output_type": "stream",
     "text": [
      "  Subgroup Name Subgroup Value  Original ASR  Improved Attack ASR (0.5)   \n",
      "0           sex         female     63.185968                  67.404884  \\\n",
      "1           sex           male     63.662695                  68.125871   \n",
      "2          race          white     64.667707                  68.702694   \n",
      "3          race          other     57.620321                  59.754826   \n",
      "4          race          black     61.538332                  59.401441   \n",
      "5         relig       catholic     61.578453                  60.891219   \n",
      "6         relig     protestant     66.950352                  69.294720   \n",
      "7         relig           none     61.143846                  62.269878   \n",
      "\n",
      "   Improved Attack ASR (0.6)  Improved Attack ASR (0.7)   \n",
      "0                  65.460153                  63.798397  \\\n",
      "1                  66.494241                  64.928089   \n",
      "2                  67.037276                  66.270376   \n",
      "3                  61.637814                  59.054654   \n",
      "4                  67.867907                  68.679547   \n",
      "5                  64.421354                  63.706986   \n",
      "6                  69.113733                  69.584241   \n",
      "7                  60.223360                  61.173635   \n",
      "\n",
      "   Improved Attack ASR (0.8)  Improved Attack ASR (0.9)   \n",
      "0                  64.179241                  63.701944  \\\n",
      "1                  66.741236                  65.293753   \n",
      "2                  66.884579                  66.093774   \n",
      "3                  55.404242                  57.842382   \n",
      "4                  62.786541                  61.962736   \n",
      "5                  66.782599                  64.678217   \n",
      "6                  67.488153                  68.937166   \n",
      "7                  61.409566                  64.293757   \n",
      "\n",
      "   Improved Attack ASR (0.95)  Improved Attack ASR (0.99)  \n",
      "0                   64.938203                   64.995854  \n",
      "1                   65.100393                   64.692240  \n",
      "2                   66.695797                   67.679607  \n",
      "3                   60.790356                   61.284329  \n",
      "4                   68.077744                   66.041210  \n",
      "5                   63.807844                   62.428096  \n",
      "6                   68.195232                   66.499653  \n",
      "7                   65.211861                   60.245404  \n"
     ]
    }
   ],
   "source": [
    "subgroup_columns = ['sex', 'race', 'relig']\n",
    "\n",
    "subgroup_disparity_dict, subgroup_clfs = improved_subgroup_attack(ds, subgroup_columns, neuron_clfs[0.5], X_neuron, y, metric='auc', dist_percentiles=[0.5, 0.6, 0.7, 0.8, 0.9, 0.95, 0.99])\n",
    "\n",
    "print(subgroup_disparity_dict)"
   ]
  },
  {
   "cell_type": "code",
   "execution_count": 7,
   "metadata": {},
   "outputs": [
    {
     "name": "stdout",
     "output_type": "stream",
     "text": [
      "\\begin{tabular}{llrrrrrrrr}\n",
      "\\toprule\n",
      " Subgroup Name   & Subgroup Value   &   Original ASR &   Improved Attack ASR (0.5) &   Improved Attack ASR (0.6) &   Improved Attack ASR (0.7) &   Improved Attack ASR (0.8) &   Improved Attack ASR (0.9) &   Improved Attack ASR (0.95) &   Improved Attack ASR (0.99) \\\\\n",
      "\\midrule\n",
      " sex             & female           &          63.19 &                       67.40 &                       65.46 &                       63.80 &                       64.18 &                       63.70 &                        64.94 &                        65.00 \\\\\n",
      " sex             & male             &          63.66 &                       68.13 &                       66.49 &                       64.93 &                       66.74 &                       65.29 &                        65.10 &                        64.69 \\\\\n",
      " race            & white            &          64.67 &                       68.70 &                       67.04 &                       66.27 &                       66.88 &                       66.09 &                        66.70 &                        67.68 \\\\\n",
      " race            & other            &          57.62 &                       59.75 &                       61.64 &                       59.05 &                       55.40 &                       57.84 &                        60.79 &                        61.28 \\\\\n",
      " race            & black            &          61.54 &                       59.40 &                       67.87 &                       68.68 &                       62.79 &                       61.96 &                        68.08 &                        66.04 \\\\\n",
      " relig           & catholic         &          61.58 &                       60.89 &                       64.42 &                       63.71 &                       66.78 &                       64.68 &                        63.81 &                        62.43 \\\\\n",
      " relig           & protestant       &          66.95 &                       69.29 &                       69.11 &                       69.58 &                       67.49 &                       68.94 &                        68.20 &                        66.50 \\\\\n",
      " relig           & none             &          61.14 &                       62.27 &                       60.22 &                       61.17 &                       61.41 &                       64.29 &                        65.21 &                        60.25 \\\\\n",
      "\\bottomrule\n",
      "\\end{tabular}\n"
     ]
    }
   ],
   "source": [
    "from tabulate import tabulate\n",
    "\n",
    "table = tabulate(subgroup_disparity_dict, headers='keys', tablefmt='latex_booktabs', showindex=False, floatfmt=\".2f\")\n",
    "\n",
    "# print the LaTeX table\n",
    "print(table)"
   ]
  },
  {
   "attachments": {},
   "cell_type": "markdown",
   "metadata": {},
   "source": [
    "## Most Discriminative Neuron"
   ]
  },
  {
   "cell_type": "code",
   "execution_count": null,
   "metadata": {},
   "outputs": [],
   "source": [
    "def get_top_dist_indices(ds, conditions, X_neuron, dist_percentile=0.9):\n",
    "    # normalize X_neuron first\n",
    "    X_neuron_mean = X_neuron.mean(axis=0)\n",
    "    X_neuron_std = X_neuron.std(axis=0)\n",
    "    X_neuron = (X_neuron - X_neuron_mean) / X_neuron_std\n",
    "    vec = subgroup_vulnerability_distance_vector(ds, conditions, X_neuron)\n",
    "    # filter out the nan values\n",
    "    nan_indices = np.argwhere(np.isnan(vec))\n",
    "    vec = np.delete(vec, nan_indices)\n",
    "    X_neuron = np.delete(X_neuron, nan_indices, axis=0)\n",
    "    pos_vec = np.abs(vec)\n",
    "    sorted_indices = np.argsort(-pos_vec)\n",
    "    cum_norm = np.array([np.linalg.norm(vec[sorted_indices[:i]]) for i in range(1, len(sorted_indices)+1)])\n",
    "    cum_norm_p = cum_norm / cum_norm[-1]\n",
    "    idx = np.argmax(cum_norm_p > dist_percentile)\n",
    "    top_indices = sorted_indices[:idx]\n",
    "\n",
    "    return top_indices"
   ]
  },
  {
   "cell_type": "code",
   "execution_count": null,
   "metadata": {},
   "outputs": [],
   "source": [
    "get_top_dist_indices(ds, {'sex':'male'}, x_n_tr)"
   ]
  },
  {
   "cell_type": "code",
   "execution_count": null,
   "metadata": {},
   "outputs": [],
   "source": [
    "male_indices = get_indices_by_conditions(ds, x_n_tr, {'sex': 'male'})\n",
    "female_indices = get_indices_by_conditions(ds, x_n_tr, {'sex': 'female'})"
   ]
  },
  {
   "attachments": {},
   "cell_type": "markdown",
   "metadata": {},
   "source": [
    "## Plot subgroup disparity"
   ]
  },
  {
   "cell_type": "code",
   "execution_count": 9,
   "metadata": {},
   "outputs": [
    {
     "data": {
      "image/png": "[encoded data removed]",
      "text/plain": [
       "<Figure size 1000x500 with 2 Axes>"
      ]
     },
     "metadata": {},
     "output_type": "display_data"
    },
    {
     "data": {
      "image/png": "[encoded data removed]",
      "text/plain": [
       "<Figure size 1000x500 with 2 Axes>"
      ]
     },
     "metadata": {},
     "output_type": "display_data"
    },
    {
     "data": {
      "image/png": "[encoded data removed]",
      "text/plain": [
       "<Figure size 1000x500 with 2 Axes>"
      ]
     },
     "metadata": {},
     "output_type": "display_data"
    }
   ],
   "source": [
    "subgroup_columns = ['sex', 'race', 'relig']\n",
    "\n",
    "# if 'att_enc' not in globals():\n",
    "#     y_onehot, att_enc = model_utils.get_onehot(y.to_numpy().ravel().reshape(-1,1))\n",
    "test_size = 0.5\n",
    "\n",
    "x_n_tr, x_n_te, y_n_tr, y_n_te= train_test_split(X_neuron, y, test_size=test_size, random_state=42)\n",
    "x_n_tr, x_n_te = data_utils.normalize(x_n_tr, x_n_te)\n",
    "subgroup_disparity_dict = get_subgroup_disparity(ds, subgroup_columns, neuron_clfs[round(1-test_size,1)], x_n_te, y_n_te, metric='auc')\n",
    "plot_subgroup_disparity(subgroup_disparity_dict)"
   ]
  },
  {
   "cell_type": "code",
   "execution_count": 16,
   "metadata": {},
   "outputs": [
    {
     "name": "stderr",
     "output_type": "stream",
     "text": [
      "invalid value encountered in divide\n",
      "invalid value encountered in divide\n",
      "invalid value encountered in divide\n",
      "invalid value encountered in divide\n",
      "invalid value encountered in divide\n",
      "invalid value encountered in divide\n",
      "invalid value encountered in divide\n",
      "invalid value encountered in divide\n",
      "invalid value encountered in divide\n",
      "invalid value encountered in divide\n",
      "invalid value encountered in divide\n",
      "invalid value encountered in divide\n",
      "invalid value encountered in divide\n",
      "invalid value encountered in divide\n"
     ]
    },
    {
     "name": "stdout",
     "output_type": "stream",
     "text": [
      "{'sex': {'asrs': {'female': 67.48346844995703, 'male': 64.85025207467638}, 'dists': {'female': 0.47285606082663384, 'male': 0.8288567398871771}}, 'race': {'asrs': {'white': 68.5323719683497, 'black': 78.53333333333333}, 'dists': {'white': 0.7485709773756537, 'black': 0.3517112583228034}}, 'relig': {'asrs': {'catholic': 66.02446556965691, 'protestant': 71.35118726389638, 'none': 59.23295454545454}, 'dists': {'catholic': 0.36091806505653895, 'protestant': 0.7454172567814691, 'none': 0.6708013114637875}}}\n"
     ]
    },
    {
     "data": {
      "image/png": "[encoded data removed]",
      "text/plain": [
       "<Figure size 1000x500 with 2 Axes>"
      ]
     },
     "metadata": {},
     "output_type": "display_data"
    },
    {
     "data": {
      "image/png": "[encoded data removed]",
      "text/plain": [
       "<Figure size 1000x500 with 2 Axes>"
      ]
     },
     "metadata": {},
     "output_type": "display_data"
    },
    {
     "data": {
      "image/png": "[encoded data removed]",
      "text/plain": [
       "<Figure size 1000x500 with 2 Axes>"
      ]
     },
     "metadata": {},
     "output_type": "display_data"
    }
   ],
   "source": [
    "subgroup_columns = ['sex', 'race', 'relig']\n",
    "\n",
    "# if 'att_enc' not in globals():\n",
    "#     y_onehot, att_enc = model_utils.get_onehot(y.to_numpy().ravel().reshape(-1,1))\n",
    "test_size = 0.5\n",
    "\n",
    "x_n_tr, x_n_te, y_n_tr, y_n_te= train_test_split(X_neuron, y, test_size=test_size, random_state=42)\n",
    "subgroup_disparity_dict = get_subgroup_disparity_baseline(ds, subgroup_columns, x_n_te, y_n_te, metric='auc')\n",
    "print(subgroup_disparity_dict)\n",
    "plot_subgroup_disparity(subgroup_disparity_dict)"
   ]
  },
  {
   "cell_type": "code",
   "execution_count": null,
   "metadata": {},
   "outputs": [],
   "source": [
    "test_indices = np.arange(len(X_neuron))[np.isin(X_neuron, x_n_te)]"
   ]
  },
  {
   "attachments": {},
   "cell_type": "markdown",
   "metadata": {},
   "source": [
    "## Our attack with random data"
   ]
  },
  {
   "cell_type": "code",
   "execution_count": null,
   "metadata": {},
   "outputs": [],
   "source": [
    "random_df = filter_random_data(ds, clf, num_samples=1000000)\n",
    "X_random_neuron = make_neuron_output_data(random_df, clf, y_columns)\n",
    "y_random = random_df[ds.ds.meta['sensitive_column'] + \"_\" + ds.ds.meta['sensitive_positive']]"
   ]
  },
  {
   "cell_type": "code",
   "execution_count": null,
   "metadata": {},
   "outputs": [],
   "source": [
    "random_neuron_clf = model_utils.get_model(max_iter=500)\n",
    "y_random_onehot = att_enc.transform(y_random.to_numpy().ravel().reshape(-1,1))\n",
    "random_neuron_clf.fit(X_random_neuron, y_random_onehot)"
   ]
  },
  {
   "cell_type": "code",
   "execution_count": null,
   "metadata": {},
   "outputs": [],
   "source": [
    "# test on the test data\n",
    "acc = 100 * random_neuron_clf.score(x_n_te, att_enc.transform(y_n_te.to_numpy().ravel().reshape(-1,1)))\n",
    "if True:\n",
    "    print(f\"Attack accuracy: {acc}\")"
   ]
  },
  {
   "cell_type": "code",
   "execution_count": null,
   "metadata": {},
   "outputs": [],
   "source": [
    "t1 = torch.from_numpy(X_train.iloc[0].to_numpy()).float().to(model_utils.device)\n",
    "# out_1 = torch.relu(np.matmul(X_train.iloc[0].to_numpy(), clf.coefs_[0]) + clf.intercepts_[0])\n",
    "out_1 = torch.relu(torch.matmul(t1, torch.from_numpy(clf.coefs_[0]).float().to(model_utils.device)) + torch.from_numpy(clf.intercepts_[0]).float().to(model_utils.device))\n",
    "print(out_1)\n",
    "out_2 = (np.matmul(out_1, clf.coefs_[1]) + clf.intercepts_[1])\n",
    "print(out_2)"
   ]
  },
  {
   "cell_type": "markdown",
   "metadata": {},
   "source": [
    "# Draft"
   ]
  },
  {
   "cell_type": "code",
   "execution_count": null,
   "metadata": {
    "id": "z9VJfFpXQOsX",
    "tags": []
   },
   "outputs": [],
   "source": [
    "from sklearn.preprocessing import StandardScaler\n",
    "import pandas as pd\n",
    "import numpy as np\n",
    "import random\n",
    "from tqdm import tqdm"
   ]
  },
  {
   "cell_type": "code",
   "execution_count": null,
   "metadata": {
    "id": "b7LDVJomSj81",
    "tags": []
   },
   "outputs": [],
   "source": [
    "import matplotlib.pyplot as plt\n",
    "import seaborn as sns"
   ]
  },
  {
   "cell_type": "code",
   "execution_count": null,
   "metadata": {
    "id": "dwsuc3_e0m_P",
    "tags": []
   },
   "outputs": [],
   "source": [
    "from sklearn.neural_network import MLPClassifier"
   ]
  },
  {
   "cell_type": "code",
   "execution_count": null,
   "metadata": {
    "id": "vKPu4tdLBdS0",
    "tags": []
   },
   "outputs": [],
   "source": [
    "dataset = 'NLSY'"
   ]
  },
  {
   "cell_type": "code",
   "execution_count": null,
   "metadata": {
    "id": "YyQ6FGgLHVYo",
    "tags": []
   },
   "outputs": [],
   "source": [
    "nlsy_data_dict = {\n",
    "    'name': \"NLSY\",\n",
    "    'path': 'data/nlsy_5096.csv',\n",
    "    'dummy_columns': ['marital8', 'gender', 'race', 'arrestsdli8', 'drug_marijuana',\n",
    "        'smoking8', 'drinking8', 'sexdrugsdli8', 'sexstrng8'],\n",
    "    'numeric_columns': ['age','children', 'incarceration', 'income8'],\n",
    "    'y_column': 'ratelife8',\n",
    "    'sensitive_column': 'drug_marijuana',\n",
    "    'sensitive_pos': 'dm_yes',\n",
    "    'y_pos': \"excellent\",\n",
    "    'attack_type': \"Random\"\n",
    "}"
   ]
  },
  {
   "cell_type": "code",
   "execution_count": null,
   "metadata": {
    "id": "UaNqnlhwsS-M",
    "tags": []
   },
   "outputs": [],
   "source": [
    "adult_data_dict = {\n",
    "    'name': \"Adult\",\n",
    "    'path': 'data/Adult_35222.csv',\n",
    "    'dummy_columns': [\"work\", \"education\", \"marital\", \"occupation\", \"race\", \"sex\"],\n",
    "    'numeric_columns': [\"fnlwgt\", \"capitalgain\", \"capitalloss\", \"hoursperweek\"],\n",
    "    'y_column': 'income',\n",
    "    'sensitive_column': 'marital',\n",
    "    'sensitive_pos': 'Married',\n",
    "    'y_pos': \">50K\",\n",
    "    'attack_type': \"Random\"\n",
    "}"
   ]
  },
  {
   "cell_type": "code",
   "execution_count": null,
   "metadata": {
    "id": "NZTuW4Wss52-",
    "tags": []
   },
   "outputs": [],
   "source": [
    "gss_data_dict = {\n",
    "    'name': \"GSS\",\n",
    "    'path': 'data/GSS_15235.csv',\n",
    "    'dummy_columns': ['year', 'marital', 'divorce', 'sex', 'race', 'relig', 'xmovie', 'pornlaw'],\n",
    "    'numeric_columns': ['childs', 'age', 'educ'],\n",
    "    'y_column': 'hapmar',\n",
    "    'sensitive_column': 'xmovie',\n",
    "    'sensitive_pos': 'x_yes',\n",
    "    'y_pos': 'nottoohappy',\n",
    "    \"attack_type\": \"Random\"\n",
    "}"
   ]
  },
  {
   "cell_type": "code",
   "execution_count": null,
   "metadata": {
    "id": "sjzj0PvTBbQK",
    "tags": []
   },
   "outputs": [],
   "source": [
    "all_data_dict = {\n",
    "    \"Adult\": adult_data_dict,\n",
    "    \"GSS\": gss_data_dict,\n",
    "    \"NLSY\": nlsy_data_dict\n",
    "}"
   ]
  },
  {
   "cell_type": "code",
   "execution_count": null,
   "metadata": {
    "id": "iJuJAL-wBnD4",
    "tags": []
   },
   "outputs": [],
   "source": [
    "data_dict = all_data_dict[dataset]"
   ]
  },
  {
   "cell_type": "code",
   "execution_count": null,
   "metadata": {
    "id": "M05Xpw6RN-Z7",
    "tags": []
   },
   "outputs": [],
   "source": [
    "#data = adult_data.data\n",
    "orig_data = pd.read_csv(data_dict['path'])"
   ]
  },
  {
   "cell_type": "code",
   "execution_count": null,
   "metadata": {
    "id": "Eg1AolA4VFah",
    "tags": []
   },
   "outputs": [],
   "source": [
    "if data_dict['name'] == 'GSS':\n",
    "    orig_data['pornlaw'] = orig_data['pornlaw'].replace({\"illegalillegal8\": \"illegal\"})\n",
    "elif data_dict['name'] == 'NLSY':\n",
    "    orig_data = orig_data.drop(['id'], axis=1)"
   ]
  },
  {
   "cell_type": "code",
   "execution_count": null,
   "metadata": {
    "id": "AamIGUmu9HSq",
    "tags": []
   },
   "outputs": [],
   "source": [
    "data = orig_data.copy()"
   ]
  },
  {
   "cell_type": "code",
   "execution_count": null,
   "metadata": {
    "colab": {
     "base_uri": "https://localhost:8080/",
     "height": 488
    },
    "id": "4k1_uG_BIEaJ",
    "outputId": "7eb7068a-88e6-4c8c-b35c-ef3d4eb389c2",
    "tags": []
   },
   "outputs": [],
   "source": [
    "data"
   ]
  },
  {
   "cell_type": "code",
   "execution_count": null,
   "metadata": {
    "colab": {
     "base_uri": "https://localhost:8080/"
    },
    "id": "lkBwO1KsP3X0",
    "outputId": "275db65d-a9d9-4dc8-b53c-90503eda1ff6",
    "tags": []
   },
   "outputs": [],
   "source": [
    "data.columns"
   ]
  },
  {
   "cell_type": "code",
   "execution_count": null,
   "metadata": {
    "colab": {
     "base_uri": "https://localhost:8080/"
    },
    "id": "IDLKY3RcKzms",
    "outputId": "8cd62de0-caa6-4e30-9daf-38c356194e1e",
    "tags": []
   },
   "outputs": [],
   "source": [
    "data_dict"
   ]
  },
  {
   "cell_type": "code",
   "execution_count": null,
   "metadata": {
    "id": "JeSl0Of0zr4R",
    "tags": []
   },
   "outputs": [],
   "source": [
    "data = data.dropna()\n",
    "data = pd.get_dummies(data, columns=data_dict['dummy_columns'])\n",
    "numerical_features = data_dict['numeric_columns']\n",
    "scaler = StandardScaler()\n",
    "scaler.fit(data[numerical_features])\n",
    "data[numerical_features] = scaler.transform(data[numerical_features])"
   ]
  },
  {
   "cell_type": "code",
   "execution_count": null,
   "metadata": {
    "id": "v8O-BtcxKJZj",
    "tags": []
   },
   "outputs": [],
   "source": [
    "def draw_plot(result_df, name, flip_column_different=False, metric=\"accuracy\"):\n",
    "    if flip_column_different:\n",
    "        vals = result_df.copy()\n",
    "        vals.index = vals['Subgroup Name'].values\n",
    "        vals = vals.drop(['Subgroup Name', 'Count'], axis=1)\n",
    "        vals = vals.transpose()\n",
    "        rownames = vals.index.values\n",
    "    else:\n",
    "        rownames = result_df['Subgroup Name'].values\n",
    "        vals = result_df.drop(['Subgroup Name', 'Count'], axis=1)\n",
    "\n",
    "    x = np.arange(len(rownames))  # convert range to numpy array\n",
    "    width = len(x) \n",
    "    multiplier = 0\n",
    "\n",
    "    fig, ax = plt.subplots(figsize=(16, 4),layout='constrained')\n",
    "\n",
    "    tick_locations = []\n",
    "\n",
    "    for attribute, measurement in vals.items():\n",
    "        # print(measurement)\n",
    "        offset = width * 2 * multiplier\n",
    "        # print(x *10 + offset)\n",
    "        loc = x * width * 2 + offset\n",
    "        tick_locations += loc.tolist()\n",
    "        rects = ax.bar(x * width * 2 + offset, measurement, width, label=attribute)\n",
    "        # print(rects)\n",
    "        ax.bar_label(rects, labels=[f\"{round(h, 2)}\" for h in measurement], padding=3)\n",
    "        multiplier += width * 1.25\n",
    "        if multiplier == 1:\n",
    "            break\n",
    "\n",
    "    ax.set_ylabel(f'ASR {metric}')\n",
    "    ax.set_title(f'Disparate Vulnerability {name}')\n",
    "    ax.set_xticks(tick_locations, rownames.tolist() * vals.shape[1], rotation=90)  # add half width to center the ticks\n",
    "    if flip_column_different:\n",
    "        ax.legend(loc='upper left', ncol=3, bbox_to_anchor=(0, 2))\n",
    "    else:\n",
    "        ax.legend(loc='upper left', ncol=3, bbox_to_anchor=(0, 1.5))\n",
    "    ax.set_ylim(0, 1)\n",
    "\n",
    "    plt.show()"
   ]
  },
  {
   "cell_type": "code",
   "execution_count": null,
   "metadata": {
    "id": "G5SWlLQJS2T9",
    "tags": []
   },
   "outputs": [],
   "source": [
    "def get_random_data(num, one_hot_columns, orig_data):\n",
    "    orig_columns = orig_data.columns\n",
    "    unique_val_dict = {}\n",
    "    for col in orig_columns:\n",
    "        unique_val_dict[col] = orig_data[col].unique()\n",
    "        if col not in data_dict['dummy_columns'] and col != data_dict['y_column']:\n",
    "            unique_val_dict[col] = [np.min(unique_val_dict[col]), np.max(unique_val_dict[col])]\n",
    "    # print(unique_val_dict)\n",
    "    x = {}\n",
    "    for col in orig_columns:\n",
    "        if col in data_dict['dummy_columns'] or col == data_dict['y_column']:\n",
    "            # print()\n",
    "            np.random.seed(42)\n",
    "            x[col] = np.random.choice(unique_val_dict[col].tolist(), num, replace=True)\n",
    "        else:\n",
    "            np.random.seed(42)\n",
    "            # print(unique_val_dict[col][0], unique_val_dict[col][1])\n",
    "            # x[col] = [random.randint(unique_val_dict[col][0], unique_val_dict[col][1])] * 2\n",
    "            x[col] = np.random.randint(unique_val_dict[col][0], unique_val_dict[col][1], size=num)\n",
    "            # x[col] = 0\n",
    "\n",
    "    # x = pd.DataFrame([x], columns = orig_data.columns)\n",
    "    x = pd.DataFrame.from_dict(x)\n",
    "    # print(x)\n",
    "    xp = x.copy()\n",
    "    x = pd.get_dummies(x, columns=data_dict['dummy_columns'])\n",
    "    x = pd.DataFrame(x, columns=one_hot_columns)\n",
    "    x.fillna(0, inplace=True)\n",
    "    numerical_features = data_dict['numeric_columns']\n",
    "    x[numerical_features] = scaler.transform(x[numerical_features])\n",
    "\n",
    "    return x, xp\n"
   ]
  },
  {
   "cell_type": "code",
   "execution_count": null,
   "metadata": {
    "id": "bbJiBfs_OaSU",
    "tags": []
   },
   "outputs": [],
   "source": [
    "from sklearn.model_selection import train_test_split\n",
    "\n",
    "X = data.drop(data_dict['y_column'], axis=1)\n",
    "y = data[data_dict['y_column']]\n",
    "\n",
    "X_train, X_test, y_train, y_test = train_test_split(X, y, test_size=0.2, random_state=42)"
   ]
  },
  {
   "cell_type": "code",
   "execution_count": null,
   "metadata": {
    "colab": {
     "base_uri": "https://localhost:8080/",
     "height": 75
    },
    "id": "WjATNKnsOzCa",
    "outputId": "f56f7d8e-9bfc-4961-c6ee-6a41f8c3ffca",
    "tags": []
   },
   "outputs": [],
   "source": [
    "from sklearn.tree import DecisionTreeClassifier\n",
    "from sklearn.ensemble import RandomForestClassifier\n",
    "from sklearn.neural_network import MLPClassifier\n",
    "\n",
    "np.random.seed(42)\n",
    "\n",
    "# Create an instance of MLPClassifier with random_state set to 42\n",
    "# clf = MLPClassifier(random_state=42, hidden_layer_sizes=(30, 10, 2))\n",
    "\n",
    "clf = MLPClassifier(hidden_layer_sizes=(64, 32), activation='relu', solver='adam', max_iter=1000, random_state=42)\n",
    "clf.fit(X_train, y_train)\n",
    "\n",
    "# clf = RandomForestClassifier()\n",
    "# clf.fit(X_train, y_train)"
   ]
  },
  {
   "cell_type": "code",
   "execution_count": null,
   "metadata": {
    "colab": {
     "base_uri": "https://localhost:8080/"
    },
    "id": "pdT1GcgcRel7",
    "outputId": "8f50cad6-4ce6-4c26-f51e-f3cee58a2c5f",
    "tags": []
   },
   "outputs": [],
   "source": [
    "score = clf.score(X_test, y_test)\n",
    "print(\"Accuracy:\", score)"
   ]
  },
  {
   "cell_type": "code",
   "execution_count": null,
   "metadata": {
    "id": "A_Yy6nhlVG2U",
    "tags": []
   },
   "outputs": [],
   "source": [
    "# Assuming clf is the trained decision tree classifier\n",
    "predicted_labels = clf.predict(X_test)"
   ]
  },
  {
   "cell_type": "code",
   "execution_count": null,
   "metadata": {
    "id": "rIjxDB3xlpqH",
    "tags": []
   },
   "outputs": [],
   "source": [
    "import warnings\n",
    "warnings.filterwarnings(\"ignore\", category=UserWarning)\n",
    "warnings.filterwarnings(\"ignore\", category=FutureWarning)"
   ]
  },
  {
   "cell_type": "code",
   "execution_count": null,
   "metadata": {
    "id": "ifD_z74Pvlm9",
    "tags": []
   },
   "outputs": [],
   "source": [
    "sensitive_attr = data_dict['sensitive_column']\n",
    "sensitive_columns = list(filter(lambda x: sensitive_attr in x, data.columns))\n",
    "attr_len = len(sensitive_attr) + 1\n",
    "sensitive_values = [val[attr_len:] for val in sensitive_columns]"
   ]
  },
  {
   "cell_type": "code",
   "execution_count": null,
   "metadata": {
    "id": "qsC-mo8WrJ44",
    "tags": []
   },
   "outputs": [],
   "source": [
    "# random_oh_df, random_df = get_random_data(10000, data.columns, orig_data)\n",
    "# for _ in range(1):\n",
    "#     clf.predict([random_oh_df.drop(data_dict['y_column'], axis=1).iloc[0].copy()]* 100000)"
   ]
  },
  {
   "cell_type": "code",
   "execution_count": null,
   "metadata": {
    "id": "vAZtW8Lpss-I",
    "tags": []
   },
   "outputs": [],
   "source": [
    "# Random Attack\n",
    "\n",
    "random_oh_df, random_df = get_random_data(20000, data.columns, orig_data)\n",
    "X_random = random_oh_df.drop(data_dict['y_column'], axis=1)\n",
    "default_cols = X_random.columns\n",
    "# y = random_oh_df[data_dict['y_column']]\n",
    "\n",
    "prediction_columns = []\n",
    "for sensitive_value in sensitive_values:\n",
    "    X_random[sensitive_attr + \"_\" + sensitive_value] = pd.Series(np.ones(X_random.shape[0]), index=X_random.index)\n",
    "    for other_value in sensitive_values:\n",
    "        if other_value != sensitive_value:\n",
    "            X_random[sensitive_attr + \"_\" + other_value] = pd.Series(np.zeros(X_random.shape[0]), index=X_random.index)\n",
    "\n",
    "    newcolname = \"prediction_\" + sensitive_value\n",
    "    prediction_columns.append(newcolname)\n",
    "    X_random[newcolname] = pd.Series(clf.predict(X_random[default_cols]), index=X_random.index)\n",
    "    X_random[\"confidence_\" + sensitive_value] = pd.Series(np.max(clf.predict_proba(X_random[default_cols]), axis=1), \n",
    "                                                         index=X_random.index)\n",
    "\n",
    "X_random['all_predictions'] = X_random[prediction_columns].apply(pd.Series.unique, axis=1)\n",
    "\n",
    "# X_random = X_random[X_random['all_predictions'].apply(lambda x: len(x)==len(sensitive_values))]\n",
    "\n",
    "new_df = None\n",
    "\n",
    "dfs = []\n",
    "\n",
    "for sensitive_value in sensitive_values:\n",
    "    X_temp = X_random[default_cols].copy()\n",
    "\n",
    "    X_temp[sensitive_attr + \"_\" + sensitive_value] = pd.Series(np.ones(X_temp.shape[0]), index=X_random.index)\n",
    "    for other_value in sensitive_values:\n",
    "        if other_value != sensitive_value:\n",
    "            X_temp[sensitive_attr + \"_\" + other_value] = pd.Series(np.zeros(X_temp.shape[0]), index=X_random.index)\n",
    "\n",
    "    X_temp[data_dict['y_column']] = X_random[\"prediction_\" + sensitive_value]\n",
    "    X_temp['confidence'] = X_random[\"confidence_\" + sensitive_value]\n",
    "\n",
    "    dfs.append(X_temp.copy())\n",
    "\n",
    "random_oh_df = pd.concat(dfs, ignore_index=True)\n",
    "\n",
    "new_df = random_oh_df.copy()\n",
    "\n",
    "random_oh_df = random_oh_df[random_oh_df['confidence'].apply(lambda x: x > 0.8)].drop('confidence', axis=1)\n",
    "# X_test = random_oh_df.drop(data_dict['y_column'], axis=1)\n",
    "# y_test = random_oh_df[data_dict['y_column']]\n"
   ]
  },
  {
   "cell_type": "code",
   "execution_count": null,
   "metadata": {
    "colab": {
     "base_uri": "https://localhost:8080/",
     "height": 468
    },
    "id": "pG3XLHEg7_bV",
    "outputId": "fd2cd761-fe57-4a6f-f6be-b2c9fd776c67",
    "tags": []
   },
   "outputs": [],
   "source": [
    "sns.histplot(data=new_df, x='confidence', bins=[i/10 for i in range(11)])"
   ]
  },
  {
   "cell_type": "code",
   "execution_count": null,
   "metadata": {
    "colab": {
     "base_uri": "https://localhost:8080/",
     "height": 450
    },
    "id": "E_8fzZfwZzOc",
    "outputId": "8c022fb6-1fe8-4c61-ccd4-b021bfc16f89",
    "tags": []
   },
   "outputs": [],
   "source": [
    "ax = sns.histplot(data=new_df[new_df[sensitive_attr + \"_\" + sensitive_values[0]]==1], x='confidence', bins=[i/10 for i in range(11)])\n",
    "ax.set_xlabel(f'Confidence for {sensitive_values[0]}')\n",
    "plt.show()"
   ]
  },
  {
   "cell_type": "code",
   "execution_count": null,
   "metadata": {
    "colab": {
     "base_uri": "https://localhost:8080/",
     "height": 450
    },
    "id": "flwu3XSsaexW",
    "outputId": "eb5fe69f-44a2-4d3b-e2ce-df87bac91da9",
    "tags": []
   },
   "outputs": [],
   "source": [
    "ax = sns.histplot(data=new_df[new_df[sensitive_attr + \"_\" + sensitive_values[1]]==1], x='confidence', bins=[i/10 for i in range(11)])\n",
    "ax.set_xlabel(f'Confidence for {sensitive_values[1]}')\n",
    "plt.show()"
   ]
  },
  {
   "cell_type": "code",
   "execution_count": null,
   "metadata": {
    "id": "9cCjDeQfsZSA",
    "tags": []
   },
   "outputs": [],
   "source": [
    "# # Random Attack\n",
    "\n",
    "# def get_random_query_data():\n",
    "#     random_oh_df, random_df = get_random_data(10000, data.columns, orig_data)\n",
    "#     X_random = random_oh_df.drop(data_dict['y_column'], axis=1)\n",
    "#     # y = random_oh_df[data_dict['y_column']]\n",
    "\n",
    "\n",
    "\n",
    "#     # Assuming X_test is the test set and y_test is the true labels\n",
    "#     attack_dataset = []\n",
    "#     for i in tqdm(range(len(X_random)), disable=False):\n",
    "#         # Get the predicted label and true label for this record\n",
    "#         #pred_label = predicted_labels[i]\n",
    "#         # true_label = y_test.iloc[i]\n",
    "        \n",
    "#         # Check if the predicted label matches the true label for only one possible value of the sensitive attribute\n",
    "#         num_matches = 0\n",
    "#         matched_value = None\n",
    "#         # sensitive_values = [\"Married\", \"Single\"]\n",
    "#         records = []\n",
    "#         y_preds = []\n",
    "#         # records = [record.copy() for _ in range(len(sensitive_values))]\n",
    "#         for sensitive_value in sensitive_values:\n",
    "#             record = X_random.iloc[i].copy()\n",
    "#             record[sensitive_attr + \"_\" + sensitive_value] = 1\n",
    "\n",
    "#             for other_value in sensitive_values:\n",
    "#                 if other_value != sensitive_value:\n",
    "#                     record[sensitive_attr + \"_\" + other_value] = 0\n",
    "            \n",
    "#             # print(record[['marital_Married']])\n",
    "#             y_pred = clf.predict([record])[0]\n",
    "#             # probabilities = clf.predict_proba([record])\n",
    "#             # y_pred = model.predict(record, )\n",
    "#             # print(clf.predict_proba([record]))\n",
    "#             # print(y_pred)\n",
    "#             if y_pred in y_preds:\n",
    "#                 break\n",
    "#             else:\n",
    "#                 y_preds.append(y_pred)\n",
    "#             record[data_dict['y_column']] = y_pred\n",
    "\n",
    "#             records.append(record)\n",
    "\n",
    "#         # print(y_preds)\n",
    "\n",
    "#         if len(records) != len(sensitive_values):\n",
    "#             continue\n",
    "#         else:\n",
    "#             attack_dataset += records\n",
    "\n",
    "#     random_oh_df = pd.DataFrame(attack_dataset)\n",
    "\n",
    "#     return random_oh_df\n",
    "\n",
    "\n",
    "\n",
    "# if data_dict[\"attack_type\"] == \"Random\":\n",
    "#     random_oh_df = get_random_query_data()\n",
    "\n",
    "#     X_test = random_oh_df.drop(data_dict['y_column'], axis=1)\n",
    "#     y_test = random_oh_df[data_dict['y_column']]\n"
   ]
  },
  {
   "cell_type": "code",
   "execution_count": null,
   "metadata": {
    "id": "zQ2CcdMVlYhv",
    "tags": []
   },
   "outputs": [],
   "source": [
    "# pd.crosstab(random_oh_df['marital_Married'], random_oh_df['income'])"
   ]
  },
  {
   "cell_type": "code",
   "execution_count": null,
   "metadata": {
    "colab": {
     "base_uri": "https://localhost:8080/"
    },
    "id": "rTyjeyk4eRzD",
    "outputId": "0a004c9b-df0a-463c-dc35-bf153fb2028a",
    "tags": []
   },
   "outputs": [],
   "source": [
    "random_oh_df.shape"
   ]
  },
  {
   "cell_type": "code",
   "execution_count": null,
   "metadata": {
    "colab": {
     "base_uri": "https://localhost:8080/"
    },
    "id": "HKsCNmiNRjMV",
    "outputId": "890d75ad-e5d9-4597-c09d-7e70af69753c",
    "tags": []
   },
   "outputs": [],
   "source": [
    "# LOMIA Attack\n",
    "\n",
    "# Assuming X_test is the test set and y_test is the true labels\n",
    "\n",
    "attack_dataset = []\n",
    "for i in tqdm(range(len(X_test))):\n",
    "    # Get the predicted label and true label for this record\n",
    "    #pred_label = predicted_labels[i]\n",
    "    true_label = y_test.iloc[i]\n",
    "    \n",
    "    # Check if the predicted label matches the true label for only one possible value of the sensitive attribute\n",
    "    num_matches = 0\n",
    "    matched_value = None\n",
    "    # sensitive_values = [\"Married\", \"Single\"]\n",
    "    for sensitive_value in sensitive_values:\n",
    "        record = X_test.iloc[i].copy()\n",
    "        record[sensitive_attr + \"_\" + sensitive_value] = 1\n",
    "\n",
    "        for other_value in sensitive_values:\n",
    "            if other_value != sensitive_value:\n",
    "                record[sensitive_attr + \"_\" + other_value] = 0\n",
    "        \n",
    "        # Check if the predicted label matches the true label for this sensitive value\n",
    "        # if clf.predict([record])[0] == true_label:\n",
    "        if clf.predict(record.to_numpy().reshape(1, -1))[0] == true_label:\n",
    "            num_matches += 1\n",
    "            matched_value = sensitive_value\n",
    "            \n",
    "    # If there is only one match, label the record with the matched value\n",
    "    if num_matches == 1:\n",
    "        record = X_test.iloc[i].copy()\n",
    "        record[sensitive_attr + \"_\" + matched_value] = 1\n",
    "\n",
    "        for other_value in sensitive_values:\n",
    "            if other_value != matched_value:\n",
    "                record[sensitive_attr + \"_\" + other_value] = 0\n",
    "        \n",
    "        # record[data_dict['y_column']] = (true_label == data_dict['y_pos'])\n",
    "        record[data_dict['y_column']] = true_label\n",
    "        attack_dataset.append(record)\n"
   ]
  },
  {
   "cell_type": "code",
   "execution_count": null,
   "metadata": {
    "id": "KTtc1OmZVeNc",
    "tags": []
   },
   "outputs": [],
   "source": [
    "# Convert the attack dataset to a pandas DataFrame\n",
    "attack_df = pd.DataFrame(attack_dataset)\n",
    "\n",
    "unique_values = data[data_dict['y_column']].unique()\n",
    "\n",
    "# create dictionary to map string values to numeric values\n",
    "mapping_dict = {value: index for index, value in enumerate(unique_values)}\n",
    "\n",
    "attack_df[data_dict['y_column']] = attack_df[data_dict['y_column']].map(mapping_dict)\n",
    "\n",
    "# Split the DataFrame into input and output variables\n",
    "X_attack = attack_df.drop([sensitive_attr + \"_\" + val for val in sensitive_values], axis=1) \n",
    "\n",
    "# X_attack = attack_df.drop([\"marital_Married\", \"marital_Single\"], axis=1) \n",
    "# y_attack = attack_df[[\"marital_Married\"]]\n",
    "y_attack = attack_df[[sensitive_attr + \"_\" + data_dict['sensitive_pos']]]"
   ]
  },
  {
   "cell_type": "code",
   "execution_count": null,
   "metadata": {
    "colab": {
     "base_uri": "https://localhost:8080/",
     "height": 75
    },
    "id": "WjzdLlaRasQ-",
    "outputId": "3a544e36-d365-474f-bef9-636fe159d4db",
    "tags": []
   },
   "outputs": [],
   "source": [
    "# Assuming X_attack and y_attack are the attack dataset\n",
    "# attack_model = DecisionTreeClassifier()\n",
    "# attack_model = MLPClassifier()\n",
    "attack_model = MLPClassifier(hidden_layer_sizes=(64, 32), activation='relu', solver='adam', max_iter=1000, random_state=42)\n",
    "attack_model.fit(X_attack, y_attack)\n",
    "\n",
    "# from xgboost import XGBClassifier\n",
    "\n",
    "# attack_model = XGBClassifier()\n",
    "# attack_model.fit(X_attack, y_attack)"
   ]
  },
  {
   "cell_type": "code",
   "execution_count": null,
   "metadata": {
    "colab": {
     "base_uri": "https://localhost:8080/",
     "height": 430
    },
    "id": "2XnWYv-cWUXR",
    "outputId": "65269bb7-0507-4be8-ee8f-248c00ba1011",
    "tags": []
   },
   "outputs": [],
   "source": [
    "if isinstance(attack_model, MLPClassifier):\n",
    "    weights = attack_model.coefs_[0]\n",
    "\n",
    "    # calculate the absolute values of the weights and sum them across all hidden units\n",
    "    abs_weights = np.abs(weights)\n",
    "    feature_importance_scores = abs_weights.sum(axis=1)\n",
    "\n",
    "    # normalize the feature importance scores\n",
    "    feature_importance_scores /= feature_importance_scores.sum()\n",
    "\n",
    "    # print the feature importance scores\n",
    "    plt.bar(range(len(feature_importance_scores)),feature_importance_scores)"
   ]
  },
  {
   "cell_type": "code",
   "execution_count": null,
   "metadata": {
    "colab": {
     "base_uri": "https://localhost:8080/"
    },
    "id": "bfm8vyqSQpox",
    "outputId": "6a263a71-95c3-4baf-ceab-3d1a649f7fe9",
    "tags": []
   },
   "outputs": [],
   "source": [
    "X_attack.columns"
   ]
  },
  {
   "cell_type": "code",
   "execution_count": null,
   "metadata": {
    "id": "l-PYTth_axRq",
    "tags": []
   },
   "outputs": [],
   "source": [
    "# Assuming X_test is the original dataset and y_test is the true sensitive attributes (if available)\n",
    "def preprocess_attack_data(data):\n",
    "    X = data.drop([sensitive_attr + \"_\" + val for val in sensitive_values], axis=1)\n",
    "    y = data[sensitive_attr + \"_\" + data_dict['sensitive_pos']]\n",
    "\n",
    "    X[data_dict['y_column']] = X[data_dict['y_column']].map(mapping_dict)\n",
    "\n",
    "    feature_order = X_attack.columns\n",
    "    X = X[feature_order]\n",
    "    missing_value_rows = X.notna().all(axis=1)\n",
    "    X = X[missing_value_rows]\n",
    "    y = y[missing_value_rows]\n",
    "    return X, y"
   ]
  },
  {
   "cell_type": "code",
   "execution_count": null,
   "metadata": {
    "id": "xX_5-s9dnhtQ",
    "tags": []
   },
   "outputs": [],
   "source": [
    "def preprocess_attack_data_w_high_conf(data):\n",
    "    X = data.drop([data_dict['y_column']], axis=1)\n",
    "\n",
    "    columns = X.columns\n",
    "\n",
    "    data['confidence'] = pd.Series(np.max(clf.predict_proba(data[columns]), axis=1), \n",
    "                                                         index=data.index)\n",
    "    \n",
    "    data = data[data['confidence']> 0.9].drop(['confidence'], axis=1)\n",
    "\n",
    "    X = data.drop([sensitive_attr + \"_\" + val for val in sensitive_values], axis=1)\n",
    "    y = data[sensitive_attr + \"_\" + data_dict['sensitive_pos']]\n",
    "\n",
    "    X[data_dict['y_column']] = X[data_dict['y_column']].map(mapping_dict)\n",
    "\n",
    "    feature_order = X_attack.columns\n",
    "    X = X[feature_order]\n",
    "    missing_value_rows = X.notna().all(axis=1)\n",
    "    X = X[missing_value_rows]\n",
    "    y = y[missing_value_rows]\n",
    "    return X, y"
   ]
  },
  {
   "cell_type": "code",
   "execution_count": null,
   "metadata": {
    "id": "VWuWK2sDzjeV",
    "tags": []
   },
   "outputs": [],
   "source": [
    "X, y = preprocess_attack_data(data)\n",
    "# X, y = preprocess_attack_data_w_high_conf(data)\n",
    "# random_oh_df = get_random_query_data()\n",
    "# X, y = preprocess_attack_data(random_oh_df)\n",
    "# X, y = X_attack, pd.Series(np.array(y_attack).reshape(-1), index=X_attack.index)"
   ]
  },
  {
   "cell_type": "code",
   "execution_count": null,
   "metadata": {
    "id": "Og9GohhTINeO",
    "tags": []
   },
   "outputs": [],
   "source": [
    "from sklearn.metrics import f1_score, accuracy_score, roc_curve, roc_auc_score, precision_score, recall_score"
   ]
  },
  {
   "cell_type": "code",
   "execution_count": null,
   "metadata": {
    "id": "DYN3XGe2T8p7",
    "tags": []
   },
   "outputs": [],
   "source": [
    "def compare(evaluation_metric, flip_column_different, override_flip_vulnerable=None):\n",
    "\n",
    "    if data_dict['name'] == 'GSS':\n",
    "        attrs = [\"race\", \"sex\", \"pornlaw\", \"relig\"]\n",
    "    elif data_dict['name'] == 'Adult':\n",
    "        attrs = [\"race\", \"sex\", \"education\"]\n",
    "    elif data_dict['name'] == 'NLSY':\n",
    "        attrs = [\"race\", \"gender\", \"marital8\"]\n",
    "\n",
    "    result_df_dict = {}\n",
    "\n",
    "    # evaluation_metric = \"f1\"\n",
    "\n",
    "    def eval_score(y_test, y_pred):\n",
    "        if evaluation_metric == \"accuracy\":\n",
    "            return accuracy_score(y_test, y_pred)\n",
    "        elif evaluation_metric == \"f1\":\n",
    "            return f1_score(y_test, y_pred)\n",
    "        elif evaluation_metric == 'precision':\n",
    "            return precision_score(y_test, y_pred)\n",
    "        elif evaluation_metric == 'recall':\n",
    "            return recall_score(y_test, y_pred)\n",
    "        elif evaluation_metric == \"fpr\":\n",
    "            # print(y_test)\n",
    "            fpr, tpr, thresholds = roc_curve(y_test.to_numpy(), y_pred.to_numpy())\n",
    "            auc_score = roc_auc_score(y_test.to_numpy(), y_pred.to_numpy())\n",
    "            return fpr[1]  # FPR at a fixed TPR of 0.5\n",
    "\n",
    "    flip_column_different = flip_column_different\n",
    "\n",
    "    if data_dict['name'] == \"NLSY\":\n",
    "        flip_column = \"marital8\"\n",
    "        flip_vulnerable = \"nevermarried\"\n",
    "    elif data_dict['name'] == \"GSS\":\n",
    "        flip_column = \"pornlaw\"\n",
    "        flip_vulnerable = \"legal\"\n",
    "\n",
    "    if override_flip_vulnerable is not None:\n",
    "        flip_vulnerable = override_flip_vulnerable\n",
    "\n",
    "    flip_columns = list(filter(lambda x: flip_column in x, X.columns))\n",
    "    flip_target = flip_column + \"_\" + flip_vulnerable\n",
    "\n",
    "    for attr in attrs:\n",
    "\n",
    "        # attr = \"race\"\n",
    "\n",
    "        attr_columns = list(filter(lambda x: attr in x, X.columns))\n",
    "\n",
    "        attr_column_indices = {}\n",
    "\n",
    "        for col in attr_columns:\n",
    "            attr_column_indices[col] = (X[col]==1).to_numpy()\n",
    "\n",
    "        attr_name_len = len(list(attr_column_indices.keys())[0].split(\"_\")[0]) + 1\n",
    "        rows= []\n",
    "        for col in attr_column_indices:\n",
    "            row_dict = {}\n",
    "            row_dict['Subgroup Name'] = col[attr_name_len:]\n",
    "            indices = attr_column_indices[col]\n",
    "\n",
    "            row_dict['Count'] = sum(indices)\n",
    "\n",
    "            X_subset = X[indices].copy()\n",
    "            Y_subset = y[indices].copy()\n",
    "\n",
    "            predicted_sensitive_attributes = attack_model.predict(X_subset)\n",
    "            \n",
    "            correct_indices_0 = (predicted_sensitive_attributes == Y_subset).to_numpy()    \n",
    "\n",
    "            # accuracy = sum(predicted_sensitive_attributes == Y_subset) / len(Y_subset)\n",
    "            accuracy = eval_score(Y_subset, predicted_sensitive_attributes)\n",
    "            #print(f'{col} {accuracy}')\n",
    "            row_dict['Original ASR'] = accuracy\n",
    "\n",
    "            if flip_column_different:\n",
    "                X_subset_p = X_subset.copy()\n",
    "                for col in flip_columns:\n",
    "                    if col == flip_target:\n",
    "                        X_subset_p[col] = 1\n",
    "                    else:\n",
    "                        X_subset_p[col] = 0\n",
    "\n",
    "                predicted_sensitive_attributes = attack_model.predict(X_subset_p)\n",
    "\n",
    "                # accuracy = sum(predicted_sensitive_attributes == Y_subset) / len(Y_subset)\n",
    "                accuracy = eval_score(Y_subset, predicted_sensitive_attributes)\n",
    "                #print(f'{col} {col2} {accuracy}')\n",
    "                row_dict[f'ASR after {flip_column} flipped to {flip_vulnerable}'] = accuracy\n",
    "            else:\n",
    "                for col2 in attr_column_indices:\n",
    "                    if col2 != col or True:\n",
    "                        X_subset_p = X_subset.copy()\n",
    "                        X_subset_p[col2] = 1\n",
    "                        \n",
    "                        for col3 in attr_column_indices:\n",
    "                            if col3 != col2:\n",
    "                                X_subset_p[col3] = 0\n",
    "\n",
    "                        predicted_sensitive_attributes = attack_model.predict(X_subset_p)\n",
    "\n",
    "                        # accuracy = sum(predicted_sensitive_attributes == Y_subset) / len(Y_subset)\n",
    "                        accuracy = eval_score(Y_subset, predicted_sensitive_attributes)\n",
    "                        #print(f'{col} {col2} {accuracy}')\n",
    "                        row_dict[f'ASR after value flipped to {col2[attr_name_len:]}'] = accuracy\n",
    "\n",
    "\n",
    "            column1 = pd.Categorical(X_subset[data_dict['y_column']])\n",
    "            column2 = pd.Categorical(Y_subset)\n",
    "            # print(pd.crosstab(column1, column2))\n",
    "\n",
    "            # row_dict['Subgroup pickmax ratio'] = pd.crosstab(column1, column2).to_numpy().max(axis=1).sum()/X_subset.shape[0]\n",
    "\n",
    "            rows.append(row_dict)\n",
    "\n",
    "        result_df = pd.DataFrame(rows)\n",
    "\n",
    "        result_df_dict[attr] = result_df\n",
    "\n",
    "    for attr in result_df_dict:\n",
    "        print(result_df_dict[attr][['Subgroup Name', 'Count']])\n",
    "        draw_plot(result_df_dict[attr], attr, flip_column_different=flip_column_different, metric=evaluation_metric)\n"
   ]
  },
  {
   "cell_type": "code",
   "execution_count": null,
   "metadata": {
    "tags": []
   },
   "outputs": [],
   "source": [
    "compare('f1', True)"
   ]
  },
  {
   "cell_type": "code",
   "execution_count": null,
   "metadata": {
    "id": "dz01BpqG-GPL",
    "tags": []
   },
   "outputs": [],
   "source": [
    "import shap\n",
    "\n",
    "X_temp, y_temp = preprocess_attack_data(data)\n",
    "\n",
    "# explainer = shap.Explainer(attack_model, X_temp)"
   ]
  },
  {
   "cell_type": "code",
   "execution_count": null,
   "metadata": {
    "id": "bDR6gC8uXkeZ",
    "tags": []
   },
   "outputs": [],
   "source": [
    "from sklearn.neural_network import MLPClassifier\n",
    "from keras.models import Sequential\n",
    "from keras.layers import Dense\n",
    "\n",
    "\n",
    "# Extract the weights and biases of the MLPClassifier\n",
    "weights = attack_model.coefs_\n",
    "biases = attack_model.intercepts_\n",
    "\n",
    "# Create a Keras neural network with the same architecture as the MLPClassifier\n",
    "model = Sequential()\n",
    "model.add(Dense(64, activation='relu', input_dim=X_temp.shape[1]))\n",
    "model.add(Dense(32, activation='relu'))\n",
    "model.add(Dense(1, activation='sigmoid'))\n",
    "\n",
    "# Set the weights and biases of the Keras neural network to be equal to the MLPClassifier\n",
    "model.layers[0].set_weights([weights[0], biases[0]])\n",
    "model.layers[1].set_weights([weights[1], biases[1]])\n",
    "model.layers[2].set_weights([weights[2], biases[2]])\n"
   ]
  },
  {
   "cell_type": "code",
   "execution_count": null,
   "metadata": {
    "colab": {
     "base_uri": "https://localhost:8080/",
     "height": 248
    },
    "id": "7XgBaE_pZdu6",
    "outputId": "0a55016a-d92e-440b-8059-e470bc9b19b6",
    "tags": []
   },
   "outputs": [],
   "source": [
    "from xgboost import XGBClassifier\n",
    "\n",
    "model = XGBClassifier()\n",
    "model.fit(X_attack, y_attack)"
   ]
  },
  {
   "cell_type": "code",
   "execution_count": null,
   "metadata": {},
   "outputs": [],
   "source": []
  },
  {
   "cell_type": "code",
   "execution_count": null,
   "metadata": {
    "id": "tilT9q80-Fxq",
    "tags": []
   },
   "outputs": [],
   "source": [
    "import shap\n",
    "explainer = shap.Explainer(model, X_temp.astype('float64'))"
   ]
  },
  {
   "cell_type": "code",
   "execution_count": null,
   "metadata": {
    "id": "CYfv2H_5Y-RA",
    "tags": []
   },
   "outputs": [],
   "source": [
    "sample_idx = 0\n",
    "sample = X_attack.iloc[sample_idx]\n",
    "shap_values = explainer.shap_values(sample)"
   ]
  },
  {
   "cell_type": "code",
   "execution_count": null,
   "metadata": {
    "id": "DmhNO8lEgnNJ",
    "tags": []
   },
   "outputs": [],
   "source": [
    "explainer = shap.Explainer(model)\n",
    "shap_values = explainer(X_attack)\n",
    "\n",
    "# visualize the first prediction's explanation\n",
    "# shap.plots.waterfall(shap_values[0])"
   ]
  },
  {
   "cell_type": "code",
   "execution_count": null,
   "metadata": {
    "colab": {
     "base_uri": "https://localhost:8080/",
     "height": 938
    },
    "id": "IOjPGXc-jPM0",
    "outputId": "ddb00739-0e1b-4f2f-9a1c-7660bb03e3f2",
    "tags": []
   },
   "outputs": [],
   "source": [
    "# shap.summary_plot(shap_values, X_attack.iloc[:,:], plot_type=\"layered_violin\", color='coolwarm')\n",
    "shap.summary_plot(shap_values, X_attack.iloc[:,:], plot_type=\"violin\")"
   ]
  },
  {
   "cell_type": "code",
   "execution_count": null,
   "metadata": {
    "colab": {
     "base_uri": "https://localhost:8080/",
     "height": 1000
    },
    "id": "LcbGKw8zhIYP",
    "outputId": "dae203e1-4b26-4f56-eb19-3a1c74f38a08",
    "tags": []
   },
   "outputs": [],
   "source": [
    "shap.plots.waterfall(shap_values[0], max_display=X_attack.shape[0])"
   ]
  },
  {
   "cell_type": "code",
   "execution_count": null,
   "metadata": {
    "tags": []
   },
   "outputs": [],
   "source": [
    "import xgboost\n",
    "import shap\n",
    "\n",
    "# train xgboost model on diabetes data:\n",
    "X1, y1 = shap.datasets.diabetes()\n",
    "# bst = xgboost.train({\"learning_rate\": 0.01}, xgboost.DMatrix(X, label=y), 100)"
   ]
  },
  {
   "cell_type": "code",
   "execution_count": null,
   "metadata": {
    "tags": []
   },
   "outputs": [],
   "source": [
    "xgboost.DMatrix(X1, label=y1).get_label()"
   ]
  },
  {
   "cell_type": "code",
   "execution_count": null,
   "metadata": {
    "id": "XeI34xUkhXtj"
   },
   "outputs": [],
   "source": []
  },
  {
   "cell_type": "code",
   "execution_count": null,
   "metadata": {
    "colab": {
     "base_uri": "https://localhost:8080/"
    },
    "id": "ISO1qjIYg9te",
    "outputId": "6ce97837-e12b-4738-eb9f-bf4687ebc0d8",
    "tags": []
   },
   "outputs": [],
   "source": [
    "shap_values[0]"
   ]
  },
  {
   "cell_type": "code",
   "execution_count": null,
   "metadata": {
    "id": "5pwnG9Q3hOV8",
    "tags": []
   },
   "outputs": [],
   "source": [
    "def f(X):\n",
    "    return attack_model.predict([X[:,i] for i in range(X.shape[1])]).flatten()"
   ]
  },
  {
   "cell_type": "code",
   "execution_count": null,
   "metadata": {
    "colab": {
     "base_uri": "https://localhost:8080/",
     "height": 389
    },
    "id": "rWeBsecDE-jg",
    "outputId": "c97a1434-56b7-4683-8b08-f450339804de",
    "tags": []
   },
   "outputs": [],
   "source": [
    "explainer = shap.KernelExplainer(f, X_attack.iloc[:50,:])\n",
    "shap_values = explainer.shap_values(X_attack.iloc[299,:], nsamples=500)\n",
    "shap.force_plot(explainer.expected_value, shap_values, X_attack.iloc[299,:])"
   ]
  },
  {
   "cell_type": "code",
   "execution_count": null,
   "metadata": {
    "id": "5HU0kjLuFJxa",
    "tags": []
   },
   "outputs": [],
   "source": [
    "X,y = shap.datasets.adult()\n",
    "X_display,y_display = shap.datasets.adult(display=True)"
   ]
  },
  {
   "cell_type": "code",
   "execution_count": null,
   "metadata": {
    "colab": {
     "base_uri": "https://localhost:8080/",
     "height": 522
    },
    "id": "Jb2FeovJFK0-",
    "outputId": "5abc14bc-4692-4ba8-e76a-1e1ce7bc23ea",
    "tags": []
   },
   "outputs": [],
   "source": [
    "X"
   ]
  },
  {
   "cell_type": "code",
   "execution_count": null,
   "metadata": {
    "colab": {
     "base_uri": "https://localhost:8080/",
     "height": 437
    },
    "id": "C67SsTxuZJfc",
    "outputId": "f0306e53-5236-4a82-ca89-b63957538f26",
    "tags": []
   },
   "outputs": [],
   "source": [
    "shap.plots.waterfall(shap_values[0])"
   ]
  },
  {
   "cell_type": "code",
   "execution_count": null,
   "metadata": {
    "colab": {
     "base_uri": "https://localhost:8080/",
     "height": 835
    },
    "id": "EI0r6pnZZJ_Y",
    "outputId": "55aee8a8-c052-46eb-ae4f-195a69ff48ce",
    "tags": []
   },
   "outputs": [],
   "source": [
    "for attr in result_df_dict:\n",
    "    print(result_df_dict[attr][['Subgroup Name', 'Count']])\n",
    "    draw_plot(result_df_dict[attr], attr)"
   ]
  },
  {
   "cell_type": "code",
   "execution_count": null,
   "metadata": {
    "id": "NbxU98bN0H43",
    "tags": []
   },
   "outputs": [],
   "source": [
    "for attr in result_df_dict:\n",
    "    print(result_df_dict[attr][['Subgroup Name', 'Count']])\n",
    "    draw_plot(result_df_dict[attr], attr)"
   ]
  },
  {
   "cell_type": "code",
   "execution_count": null,
   "metadata": {
    "id": "mJBreOB0cPbw",
    "tags": []
   },
   "outputs": [],
   "source": [
    "for attr in result_df_dict:\n",
    "    print(result_df_dict[attr])"
   ]
  },
  {
   "cell_type": "code",
   "execution_count": null,
   "metadata": {
    "id": "T4B__CWvROIz",
    "tags": []
   },
   "outputs": [],
   "source": [
    "def draw_plot(result_df, name):\n",
    "    rownames = result_df['Subgroup Name'].values\n",
    "    vals = result_df.drop(['Subgroup Name', 'Count'], axis=1)\n",
    "\n",
    "    x = np.arange(len(rownames))  # convert range to numpy array\n",
    "    width = len(x) \n",
    "    multiplier = 0\n",
    "\n",
    "    fig, ax = plt.subplots(figsize=(16, 4),layout='constrained')\n",
    "\n",
    "    tick_locations = []\n",
    "\n",
    "    for attribute, measurement in vals.items():\n",
    "        # print(measurement)\n",
    "        offset = width * 2 * multiplier\n",
    "        # print(x *10 + offset)\n",
    "        loc = x * width * 2 + offset\n",
    "        tick_locations += loc.tolist()\n",
    "        rects = ax.bar(x * width * 2 + offset, measurement, width, label=attribute)\n",
    "        # print(rects)\n",
    "        ax.bar_label(rects, labels=[f\"{round(h, 2)}\" for h in measurement], padding=3)\n",
    "        multiplier += width * 1.25\n",
    "        if multiplier == 1:\n",
    "            break\n",
    "\n",
    "    ax.set_ylabel('ASR')\n",
    "    ax.set_title(f'Disparate Vulnerability {name}')\n",
    "    ax.set_xticks(tick_locations, rownames.tolist() * vals.shape[1], rotation=90)  # add half width to center the ticks\n",
    "    ax.legend(loc='upper left', ncol=3, bbox_to_anchor=(0, 1.5))\n",
    "    ax.set_ylim(0, 1)\n",
    "\n",
    "    plt.show()"
   ]
  },
  {
   "cell_type": "code",
   "execution_count": null,
   "metadata": {
    "id": "cMbPFnxo67rn",
    "tags": []
   },
   "outputs": [],
   "source": [
    "attack_df.shape"
   ]
  },
  {
   "cell_type": "code",
   "execution_count": null,
   "metadata": {
    "id": "K7J1UbzKuFTj",
    "tags": []
   },
   "outputs": [],
   "source": [
    "for attr in result_df_dict:\n",
    "    print(result_df_dict[attr][['Subgroup Name', 'Count']])\n",
    "    draw_plot(result_df_dict[attr], attr)"
   ]
  },
  {
   "cell_type": "code",
   "execution_count": null,
   "metadata": {
    "id": "Dg5WTjzls5mF",
    "tags": []
   },
   "outputs": [],
   "source": [
    "for attr in result_df_dict:\n",
    "    draw_plot(result_df_dict[attr], attr)"
   ]
  },
  {
   "cell_type": "code",
   "execution_count": null,
   "metadata": {
    "id": "NVDG80p2hEAP",
    "tags": []
   },
   "outputs": [],
   "source": [
    "predicted_sensitive_attributes = attack_model.predict(X)\n",
    "accuracy = sum(predicted_sensitive_attributes == y) / len(y)\n",
    "print(\"Attack model accuracy:\", accuracy)"
   ]
  },
  {
   "cell_type": "code",
   "execution_count": null,
   "metadata": {
    "id": "8otkjs2bUjkQ",
    "tags": []
   },
   "outputs": [],
   "source": [
    "attack_success_rates = []\n",
    "\n",
    "for idx, indices in enumerate([male_indices, female_indices]):\n",
    "    X_subset = X[indices].copy()\n",
    "    Y_subset = y[indices].copy()\n",
    "\n",
    "    # X_subset['income'] = 0\n",
    "    predicted_sensitive_attributes = attack_model.predict(X_subset)\n",
    "    correct_indices_0 = (predicted_sensitive_attributes == Y_subset).to_numpy()\n",
    "\n",
    "    # X_subset['income'] = 1 - X_subset['income']\n",
    "    X_subset['sex_Male'] = 1 - X_subset['sex_Male']\n",
    "    X_subset['sex_Female'] = 1 - X_subset['sex_Female']\n",
    "    predicted_sensitive_attributes = attack_model.predict(X_subset)\n",
    "    correct_indices_1 = (predicted_sensitive_attributes == Y_subset).to_numpy()\n",
    "\n",
    "    accuracy = sum(predicted_sensitive_attributes == Y_subset) / len(Y_subset)\n",
    "    attack_success_rates.append(accuracy)\n",
    "    # print(\"Attack model accuracy:\", accuracy)\n",
    "\n",
    "    \n"
   ]
  },
  {
   "cell_type": "code",
   "execution_count": null,
   "metadata": {
    "id": "B3_8gKTkj6Bc",
    "tags": []
   },
   "outputs": [],
   "source": [
    "male_indices = (X['sex_Male'] == 1).to_numpy()\n",
    "female_indices = (X['sex_Female'] == 1).to_numpy()"
   ]
  },
  {
   "cell_type": "code",
   "execution_count": null,
   "metadata": {
    "id": "bHQHWagYtEQw",
    "tags": []
   },
   "outputs": [],
   "source": [
    "high_income_indices = (X['income']==1).to_numpy()\n",
    "low_income_indices = (X['income']==0).to_numpy()"
   ]
  },
  {
   "cell_type": "code",
   "execution_count": null,
   "metadata": {
    "id": "kbaYs3O3u35z",
    "tags": []
   },
   "outputs": [],
   "source": [
    "married_indices = (y==1).to_numpy()\n",
    "single_indices = (y==0).to_numpy()"
   ]
  },
  {
   "cell_type": "code",
   "execution_count": null,
   "metadata": {
    "id": "RTme4j14vJ3l",
    "tags": []
   },
   "outputs": [],
   "source": [
    "np.logical_and(female_indices, np.logical_or(np.logical_and(married_indices, high_income_indices), np.logical_and(single_indices, low_income_indices))).sum()/female_indices.sum()"
   ]
  },
  {
   "cell_type": "code",
   "execution_count": null,
   "metadata": {
    "id": "MnzolmstvWMZ",
    "tags": []
   },
   "outputs": [],
   "source": [
    "np.logical_and(male_indices, np.logical_or(np.logical_and(married_indices, high_income_indices), np.logical_and(single_indices, low_income_indices))).sum()/male_indices.sum()"
   ]
  },
  {
   "cell_type": "code",
   "execution_count": null,
   "metadata": {
    "id": "51jygvcLnfG6",
    "tags": []
   },
   "outputs": [],
   "source": [
    "np.logical_and(female_indices, low_income_indices).sum()/female_indices.sum()"
   ]
  },
  {
   "cell_type": "code",
   "execution_count": null,
   "metadata": {
    "id": "YmkcdZhmt_L7",
    "tags": []
   },
   "outputs": [],
   "source": [
    "np.logical_and(male_indices, low_income_indices).sum()/male_indices.sum()"
   ]
  },
  {
   "cell_type": "code",
   "execution_count": null,
   "metadata": {
    "id": "LxUIIZfYlOqM",
    "tags": []
   },
   "outputs": [],
   "source": [
    "X[male_indices]"
   ]
  },
  {
   "cell_type": "code",
   "execution_count": null,
   "metadata": {
    "id": "5glkHTYNkW8_",
    "tags": []
   },
   "outputs": [],
   "source": [
    "attack_success_rates = []\n",
    "\n",
    "for indices in [male_indices, female_indices]:\n",
    "    predicted_sensitive_attributes = attack_model.predict(X[indices])\n",
    "    accuracy = sum(predicted_sensitive_attributes == y[indices]) / len(y[indices])\n",
    "    attack_success_rates.append(accuracy)\n",
    "    # print(\"Attack model accuracy:\", accuracy)"
   ]
  },
  {
   "cell_type": "code",
   "execution_count": null,
   "metadata": {
    "id": "Hmr8cYx2sHhY",
    "tags": []
   },
   "outputs": [],
   "source": [
    "import matplotlib.pyplot as plt\n",
    "\n",
    "# Create the data\n",
    "subgroups = [\"Male\", \"Female\"]\n",
    "\n",
    "\n",
    "# Create the bar plot\n",
    "plt.bar(subgroups, attack_success_rates)\n",
    "\n",
    "for i, rate in enumerate(attack_success_rates):\n",
    "    plt.text(i, rate + 0.01, f\"{rate:.2f}\", ha=\"center\")\n",
    "\n",
    "# Set the labels\n",
    "plt.xlabel(\"Subgroup\")\n",
    "plt.ylabel(\"Attack Success Rate\")\n",
    "plt.ylim(0, np.max(attack_success_rates) + 0.2)\n",
    "plt.title(\"Bar Plot of Attack Success Rates by Subgroup\")\n",
    "\n",
    "# Show the plot\n",
    "plt.show()"
   ]
  },
  {
   "cell_type": "code",
   "execution_count": null,
   "metadata": {
    "id": "H-gd66mR553m",
    "tags": []
   },
   "outputs": [],
   "source": [
    "attack_success_rates = []\n",
    "\n",
    "for idx, indices in enumerate([male_indices, female_indices]):\n",
    "    X_subset = X[indices].copy()\n",
    "    Y_subset = y[indices].copy()\n",
    "\n",
    "    # X_subset['income'] = 0\n",
    "    predicted_sensitive_attributes = attack_model.predict(X_subset)\n",
    "    correct_indices_0 = (predicted_sensitive_attributes == Y_subset).to_numpy()\n",
    "\n",
    "    # X_subset['income'] = 1 - X_subset['income']\n",
    "    X_subset['sex_Male'] = 1 - X_subset['sex_Male']\n",
    "    X_subset['sex_Female'] = 1 - X_subset['sex_Female']\n",
    "    predicted_sensitive_attributes = attack_model.predict(X_subset)\n",
    "    correct_indices_1 = (predicted_sensitive_attributes == Y_subset).to_numpy()\n",
    "\n",
    "    accuracy = sum(predicted_sensitive_attributes == Y_subset) / len(Y_subset)\n",
    "    attack_success_rates.append(accuracy)\n",
    "    # print(\"Attack model accuracy:\", accuracy)\n"
   ]
  },
  {
   "cell_type": "code",
   "execution_count": null,
   "metadata": {
    "id": "d12CGnmm6KX0",
    "tags": []
   },
   "outputs": [],
   "source": [
    "import matplotlib.pyplot as plt\n",
    "\n",
    "# Create the data\n",
    "subgroups = [\"Male Records\\n With Gender Flipped\\n to Female\", \"Female Records\\n With Gender Flipped\\n to Male\"]\n",
    "\n",
    "\n",
    "# Create the bar plot\n",
    "plt.bar(subgroups, attack_success_rates)\n",
    "\n",
    "for i, rate in enumerate(attack_success_rates):\n",
    "    plt.text(i, rate + 0.01, f\"{rate:.2f}\", ha=\"center\")\n",
    "\n",
    "# Set the labels\n",
    "plt.xlabel(\"Subgroup\")\n",
    "plt.ylabel(\"Attack Success Rate\")\n",
    "plt.ylim(0, np.max(attack_success_rates) + 0.2)\n",
    "plt.title(\"Bar Plot of Attack Success Rates by Subgroup\")\n",
    "\n",
    "# Show the plot\n",
    "plt.show()"
   ]
  },
  {
   "cell_type": "code",
   "execution_count": null,
   "metadata": {
    "id": "NhgIWUHYl9Eh",
    "tags": []
   },
   "outputs": [],
   "source": [
    "attack_success_rates = []\n",
    "for idx, indices in enumerate([male_indices, female_indices]):\n",
    "    X_subset = X[indices].copy()\n",
    "    Y_subset = y[indices].copy()\n",
    "\n",
    "    # X_subset['income'] = 0\n",
    "    predicted_sensitive_attributes = attack_model.predict(X_subset)\n",
    "    correct_indices_0 = (predicted_sensitive_attributes == Y_subset).to_numpy()\n",
    "\n",
    "    X_subset['income'] = 1 - X_subset['income']\n",
    "    # X_subset['sex_Male'] = 1 - X_subset['sex_Male']\n",
    "    # X_subset['sex_Female'] = 1 - X_subset['sex_Female']\n",
    "    predicted_sensitive_attributes = attack_model.predict(X_subset)\n",
    "    correct_indices_1 = (predicted_sensitive_attributes == Y_subset).to_numpy()\n",
    "\n",
    "    accuracy = sum(predicted_sensitive_attributes == Y_subset) / len(Y_subset)\n",
    "    # print(\"Attack model accuracy:\", accuracy)\n",
    "    attack_success_rates.append(accuracy)"
   ]
  },
  {
   "cell_type": "code",
   "execution_count": null,
   "metadata": {
    "id": "-doilrko6pib",
    "tags": []
   },
   "outputs": [],
   "source": [
    "import matplotlib.pyplot as plt\n",
    "\n",
    "# Create the data\n",
    "subgroups = [\"Male Records\\n With Income Flipped\\n from Orig. Value\", \"Female Records\\n With Income Flipped\\n from Orig. Value\"]\n",
    "\n",
    "# Create the bar plot\n",
    "plt.bar(subgroups, attack_success_rates)\n",
    "\n",
    "for i, rate in enumerate(attack_success_rates):\n",
    "    plt.text(i, rate + 0.01, f\"{rate:.2f}\", ha=\"center\")\n",
    "\n",
    "# Set the labels\n",
    "plt.xlabel(\"Subgroup\")\n",
    "plt.ylabel(\"Attack Success Rate\")\n",
    "plt.ylim(0, np.max(attack_success_rates) + 0.2)\n",
    "plt.title(\"Bar Plot of Attack Success Rates by Subgroup\")\n",
    "\n",
    "# Show the plot\n",
    "plt.show()"
   ]
  },
  {
   "cell_type": "code",
   "execution_count": null,
   "metadata": {
    "id": "ll2AYhOEooBi",
    "tags": []
   },
   "outputs": [],
   "source": [
    "correct_indices_inverted.to_numpy()"
   ]
  },
  {
   "cell_type": "code",
   "execution_count": null,
   "metadata": {
    "id": "rGfAffqswjXT",
    "tags": []
   },
   "outputs": [],
   "source": [
    "import random"
   ]
  },
  {
   "cell_type": "code",
   "execution_count": null,
   "metadata": {
    "id": "X5boBVrZulXP",
    "tags": []
   },
   "outputs": [],
   "source": [
    "idx = random.randInt()\n",
    "record = X.iloc[]"
   ]
  },
  {
   "cell_type": "code",
   "execution_count": null,
   "metadata": {
    "id": "szGcFxYswuX1"
   },
   "outputs": [],
   "source": []
  },
  {
   "cell_type": "code",
   "execution_count": null,
   "metadata": {
    "id": "wZt5TZDzy15A",
    "tags": []
   },
   "outputs": [],
   "source": [
    "for i in range(100):\n",
    "    for group in ['sex', 'race', 'work', 'occupation']:\n",
    "        idx = 52\n",
    "        print(attack_model.predict([X.loc[idx]]))\n",
    "\n",
    "        group_columns = [c for c in X.columns if c.startswith(group)]\n",
    "        max_column = np.random.choice(X[group_columns].idxmax(axis=1))\n",
    "        X.loc[idx, group_columns] = 0\n",
    "        X.loc[idx, max_column] = 1\n",
    "        print(attack_model.predict([X.loc[idx]]))\n"
   ]
  },
  {
   "cell_type": "code",
   "execution_count": null,
   "metadata": {
    "id": "ewlPBI5w2NVh",
    "tags": []
   },
   "outputs": [],
   "source": [
    "print(attack_model.predict([X.loc[idx]]))"
   ]
  }
 ],
 "metadata": {
  "colab": {
   "provenance": []
  },
  "gpuClass": "standard",
  "kernelspec": {
   "display_name": "Python 3 (ipykernel)",
   "language": "python",
   "name": "python3"
  },
  "language_info": {
   "codemirror_mode": {
    "name": "ipython",
    "version": 3
   },
   "file_extension": ".py",
   "mimetype": "text/x-python",
   "name": "python",
   "nbconvert_exporter": "python",
   "pygments_lexer": "ipython3",
   "version": "3.9.16"
  }
 },
 "nbformat": 4,
 "nbformat_minor": 4
}

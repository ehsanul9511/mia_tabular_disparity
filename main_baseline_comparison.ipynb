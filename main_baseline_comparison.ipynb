{
 "cells": [
  {
   "cell_type": "code",
   "execution_count": 24,
   "metadata": {},
   "outputs": [
    {
     "name": "stdout",
     "output_type": "stream",
     "text": [
      "The autoreload extension is already loaded. To reload it, use:\n",
      "  %reload_ext autoreload\n"
     ]
    }
   ],
   "source": [
    "%load_ext autoreload\n",
    "%autoreload 2"
   ]
  },
  {
   "cell_type": "code",
   "execution_count": 4,
   "metadata": {},
   "outputs": [],
   "source": [
    "import warnings\n",
    "\n",
    "warnings.filterwarnings('ignore')"
   ]
  },
  {
   "cell_type": "code",
   "execution_count": 5,
   "metadata": {},
   "outputs": [],
   "source": [
    "from tqdm import tqdm\n",
    "import os\n",
    "import data_utils\n",
    "import model_utils\n",
    "from model_utils import train_torch_model, test_torch_model, port_mlp_to_ch, port_ch_to_mlp, proxy_train_mlp, get_CSMIA_case_by_case_results, CSMIA_attack\n",
    "from data_utils import oneHotCatVars, filter_random_data_by_conf_score\n",
    "from whitebox_attack import neuron_output, make_neuron_output_data, roc_curve_plot, get_LOMIA_case_1_correct_examples, Top10CorrNeurons, wb_corr_attacks\n",
    "from disparate_vulnerability_utils import get_accuracy, get_indices_by_conditions, subgroup_vulnerability_distance_vector, subgroup_vulnerability_distance, get_subgroup_disparity, plot_subgroup_disparity, improved_subgroup_attack, get_subgroup_disparity_baseline, get_top_dist_indices, get_disparity_by_subgroup\n",
    "import shap\n",
    "import numpy as np\n",
    "import pandas as pd\n",
    "import torch\n",
    "import torch.nn as nn\n",
    "from sklearn.neural_network import MLPClassifier\n",
    "from sklearn.preprocessing import OneHotEncoder\n",
    "from sklearn.neural_network._base import ACTIVATIONS\n",
    "from sklearn.model_selection import train_test_split\n",
    "from sklearn.metrics.pairwise import euclidean_distances\n",
    "from sklearn.metrics import roc_curve, auc, roc_auc_score, accuracy_score, precision_score, recall_score, f1_score, confusion_matrix, classification_report\n",
    "from sklearn.decomposition import PCA\n",
    "from sklearn.inspection import permutation_importance\n",
    "import matplotlib.pyplot as plt\n",
    "import seaborn as sns\n",
    "import tabulate\n",
    "import pickle\n",
    "# import utils\n",
    "import copy\n",
    "\n",
    "import matplotlib as mpl\n",
    "\n",
    "# Setting the font family, size, and weight globally\n",
    "mpl.rcParams['font.family'] = 'DejaVu Sans'\n",
    "mpl.rcParams['font.size'] = 8\n",
    "mpl.rcParams['font.weight'] = 'light'"
   ]
  },
  {
   "cell_type": "code",
   "execution_count": 6,
   "metadata": {},
   "outputs": [],
   "source": [
    "class MIAExperiment:\n",
    "    def __init__(self, *args, **kwargs):\n",
    "        self.sampling_condition_dict_list = kwargs.get('sampling_condition_dict_list', None)\n",
    "        self.sensitive_column = kwargs.get('sensitive_column', 'MAR')\n",
    "\n",
    "        for key, value in kwargs.items():\n",
    "            setattr(self, key, value)\n",
    "\n",
    "        if not hasattr(self, 'name'):\n",
    "            self.name = 'Census19'\n",
    "        self.ds = data_utils.CensusWrapper(\n",
    "                    filter_prop=\"none\", ratio=float(0.5), split=\"all\", name=self.name, sampling_condition_dict_list=self.sampling_condition_dict_list, sensitive_column=self.sensitive_column,\n",
    "                    additional_meta=None)\n",
    "        (self.x_tr, self.y_tr), (self.x_te, self.y_te), self.cols = self.ds.load_data()\n",
    "        self.X_train = pd.DataFrame(self.x_tr, columns=self.cols)\n",
    "        self.X_test = pd.DataFrame(self.x_te, columns=self.cols)\n",
    "        self.y_tr_onehot = self.ds.ds.y_enc.transform(self.y_tr).toarray()\n",
    "        self.y_te_onehot = self.ds.ds.y_enc.transform(self.y_te).toarray()\n",
    "\n",
    "    def __str__(self):\n",
    "        return self.ds.ds.filenameroot\n",
    "    \n",
    "    def __repr__(self):\n",
    "        return self.ds.ds.filenameroot\n",
    "    \n",
    "    def get_value_count_report(self):\n",
    "        df = self.ds.ds.original_df\n",
    "        df = df[df['is_train'] == 1]\n",
    "        subgroup_values = df[self.subgroup_column].unique().tolist()\n",
    "        for value in subgroup_values:\n",
    "            print(f\"Subgroup: {value}\")\n",
    "            # print(df[df[self.subgroup_column] == value].columns)\n",
    "            # print(df[df[self.subgroup_column] == value][[self.sensitive_column, self.y_column]])\n",
    "            new_df = df[df[self.subgroup_column] == value][[self.sensitive_column, self.y_column]]\n",
    "            print(new_df.value_counts())\n",
    "            # print(df[df[self.subgroup_column == value]][[self.sensitive_column, self.y_column]].corr())\n",
    "\n",
    "\n",
    "    def get_mutual_information_between_sens_and_y(self):\n",
    "        df = self.ds.ds.original_df\n",
    "        df = df[df['is_train'] == 1]\n",
    "        subgroup_values = df[self.subgroup_column].unique().tolist()\n",
    "        mutual_info_dict = {}\n",
    "        for value in subgroup_values:\n",
    "            print(f\"Subgroup: {value}\")\n",
    "            # All the features except y column\n",
    "            X = df[df[self.subgroup_column] == value].drop([self.y_column], axis=1)\n",
    "            y = df[df[self.subgroup_column] == value][[self.y_column]]\n",
    "            # print(mutual_info_classif(X, y, discrete_features=True))\n",
    "            mutual_info_dict[value] = mutual_info_classif(X, y, discrete_features=True)\n",
    "        return mutual_info_dict"
   ]
  },
  {
   "cell_type": "code",
   "execution_count": 7,
   "metadata": {},
   "outputs": [
    {
     "name": "stdout",
     "output_type": "stream",
     "text": [
      "{0: {(0, 1): 8750, (0, 0): 3750, (1, 1): 3750, (1, 0): 8750}, 1: {(0, 1): 8750, (0, 0): 3750, (1, 1): 3750, (1, 0): 8750}}\n"
     ]
    },
    {
     "name": "stderr",
     "output_type": "stream",
     "text": [
      "100%|██████████| 2/2 [00:01<00:00,  1.62it/s]\n"
     ]
    },
    {
     "name": "stdout",
     "output_type": "stream",
     "text": [
      "{0: {(0, 1): 6875, (0, 0): 5625, (1, 1): 5625, (1, 0): 6875}, 1: {(0, 1): 7500, (0, 0): 5000, (1, 1): 5000, (1, 0): 7500}}\n"
     ]
    },
    {
     "name": "stderr",
     "output_type": "stream",
     "text": [
      "100%|██████████| 2/2 [00:01<00:00,  1.67it/s]\n"
     ]
    }
   ],
   "source": [
    "experiments = { f\"corr_btn_sens_and_out_{(i, j)}\":  MIAExperiment(sampling_condition_dict_list = \n",
    "    {\n",
    "            'correlation': 0,\n",
    "            'subgroup_col_name': 'SEX',\n",
    "            'marginal_prior': 1,\n",
    "            'corr_btn_sens_and_output_per_subgroup': (i, j),\n",
    "            # 'fixed_corr_in_test_data': True\n",
    "    }, shortname = f\"Corr_btn_sens_and_output_for_male_({i})_for_female_({j})\"\n",
    ") for (i, j) in [(k, k) for k in [-0.4, -0.35, -0.3, -0.25, -0.2][:1]]}\n",
    "# ) for i in [-0.4, -0.3, -0.2, -0.1, 0][:1] for j in [-0.4, -0.3, -0.2, -0.1, 0][3:4]}"
   ]
  },
  {
   "cell_type": "code",
   "execution_count": 8,
   "metadata": {},
   "outputs": [
    {
     "name": "stdout",
     "output_type": "stream",
     "text": [
      "Training classifier for experiment: Census19_correlation_0_subgroup_col_name_SEX_marginal_prior_1_corr_btn_sens_and_output_per_subgroup_LPAREN-0.4, -0.4RPAREN\n"
     ]
    }
   ],
   "source": [
    "save_model = False\n",
    "\n",
    "for experiment_key in experiments:\n",
    "    experiment = experiments[experiment_key]\n",
    "    print(f\"Training classifier for experiment: {experiment}\")\n",
    "    try:\n",
    "        experiment.clf_only_on_train = model_utils.load_model(f'<PATH_TO_MODEL>/{experiment.ds.ds.filenameroot}_target_model_only_on_train_dummyy_2.pkl')\n",
    "        print(f\"Loaded classifier for experiment from file: {experiment}\")\n",
    "    except:\n",
    "        # clf = model_utils.get_model(max_iter=500, hidden_layer_sizes=(256, 256))\n",
    "        base_model = model_utils.get_model(max_iter=500)\n",
    "        experiment.clf_only_on_train = copy.deepcopy(base_model)\n",
    "        experiment.clf_only_on_train.fit(experiment.X_train, experiment.y_tr_onehot)\n",
    "\n",
    "        # if save_model:\n",
    "        #     model_utils.save_model(experiment.clf_only_on_train, f'<PATH_TO_MODEL>/{experiment.ds.ds.filenameroot}_target_model_only_on_train_dummy.pkl')"
   ]
  },
  {
   "cell_type": "code",
   "execution_count": 9,
   "metadata": {},
   "outputs": [
    {
     "name": "stdout",
     "output_type": "stream",
     "text": [
      "Training classifier for experiment: Census19_correlation_0_subgroup_col_name_SEX_marginal_prior_1_corr_btn_sens_and_output_per_subgroup_LPAREN-0.4, -0.4RPAREN\n"
     ]
    }
   ],
   "source": [
    "save_model = False\n",
    "\n",
    "for experiment_key in experiments:\n",
    "    experiment = experiments[experiment_key]\n",
    "    print(f\"Training classifier for experiment: {experiment}\")\n",
    "    try:\n",
    "        experiment.clf_only_on_test = model_utils.load_model(f'<PATH_TO_MODEL>/{experiment.ds.ds.filenameroot}_target_model_only_on_test_dummyy_2.pkl')\n",
    "        print(f\"Loaded classifier for experiment from file: {experiment}\")\n",
    "    except:\n",
    "        # clf = model_utils.get_model(max_iter=500, hidden_layer_sizes=(256, 256))\n",
    "        base_model = model_utils.get_model(max_iter=500)\n",
    "        experiment.clf_only_on_test = copy.deepcopy(base_model)\n",
    "        experiment.clf_only_on_test.fit(experiment.X_test, experiment.y_te_onehot)\n",
    "\n",
    "        if save_model:\n",
    "            model_utils.save_model(experiment.clf_only_on_test, f'<PATH_TO_MODEL>/{experiment.ds.ds.filenameroot}_target_model_only_on_test_dummy.pkl')"
   ]
  },
  {
   "cell_type": "code",
   "execution_count": 10,
   "metadata": {},
   "outputs": [
    {
     "name": "stdout",
     "output_type": "stream",
     "text": [
      "Corr_btn_sens_and_output_for_male_(-0.4)_for_female_(-0.4)\n",
      "                              1                0  Overall\n",
      "Case 1           4528 (70.0309)   4312 (69.2022)  69.6267\n",
      "Case 2          17836 (68.2048)  17694 (68.8312)  68.5167\n",
      "Case 3           2636 (63.7709)    2994 (58.016)  60.7105\n",
      "Case All Cases   25000 (68.068)     25000 (67.6)  67.8340\n"
     ]
    }
   ],
   "source": [
    "for experiment_key in experiments:\n",
    "    experiment = experiments[experiment_key]\n",
    "    print(experiment.shortname)\n",
    "    print(get_CSMIA_case_by_case_results(experiment.clf_only_on_test, experiment.X_test, experiment.y_te, experiment.ds, 'SEX', metric='accuracy'))"
   ]
  },
  {
   "cell_type": "code",
   "execution_count": 11,
   "metadata": {},
   "outputs": [
    {
     "name": "stdout",
     "output_type": "stream",
     "text": [
      "Corr_btn_sens_and_output_for_male_(-0.4)_for_female_(-0.4)\n",
      "                             1                0  Overall\n",
      "Case 1          2642 (57.6457)   2791 (43.7478)  50.5062\n",
      "Case 2          18305 (59.776)  17697 (45.1998)  52.6110\n",
      "Case 3          4053 (53.3679)   4512 (48.1161)  50.6013\n",
      "Case All Cases  25000 (58.512)   25000 (45.564)  52.0380\n"
     ]
    }
   ],
   "source": [
    "for experiment_key in experiments:\n",
    "    experiment = experiments[experiment_key]\n",
    "    print(experiment.shortname)\n",
    "    print(get_CSMIA_case_by_case_results(experiment.clf_only_on_train, experiment.X_test, experiment.y_te, experiment.ds, 'SEX', metric='accuracy'))"
   ]
  },
  {
   "cell_type": "code",
   "execution_count": 14,
   "metadata": {},
   "outputs": [],
   "source": [
    "def whitebox_neuron_attack(experiment, clf, subgroup_column='SEX'):\n",
    "    original_df_onehot = experiment.ds.ds.df.copy()\n",
    "\n",
    "    original_df_onehot = original_df_onehot[original_df_onehot[\"is_train\"]==0].drop(\"is_train\", axis=1)\n",
    "\n",
    "    X_attack_orig, y_sens_orig = experiment.ds.ds.get_attack_df(original_df_onehot)\n",
    "    X_attack_orig = X_attack_orig.astype(float)\n",
    "\n",
    "    x_tr, x_te, y_tr, y_te = train_test_split(X_attack_orig, y_sens_orig, test_size=0.9, random_state=42)\n",
    "    x_n_tr = make_neuron_output_data(experiment.ds, x_tr, clf, experiment.ds.ds.y_columns)\n",
    "    x_n_te = make_neuron_output_data(experiment.ds, x_te, clf, experiment.ds.ds.y_columns)\n",
    "\n",
    "    top_10_corr_neurons_model = wb_corr_attacks(x_n_tr, y_tr)\n",
    "\n",
    "    y_preds = top_10_corr_neurons_model(torch.from_numpy(X_attack_orig.to_numpy()).float()).detach().numpy()\n",
    "    y_preds = np.where(y_preds > top_10_corr_neurons_model.threshold, 1, 0)\n",
    "\n",
    "    # result_dict = get_disparity_by_subgroup(attack_type='NEUR_IMP', ds=experiment.ds, subgroup_columns=[subgroup_column], X_att_query=X_attack_orig, y_att_query=y_sens_orig, metric='accuracy', clf=top_10_corr_neurons_model, df=X_attack_orig, MLP=clf)\n",
    "    return y_preds"
   ]
  },
  {
   "cell_type": "code",
   "execution_count": 21,
   "metadata": {},
   "outputs": [
    {
     "name": "stdout",
     "output_type": "stream",
     "text": [
      "Corr_btn_sens_and_output_for_male_(-0.4)_for_female_(-0.4)\n",
      "{'SEX': {0: 64.1, 1: 62.936, 'original': 63.517999999999994}}\n"
     ]
    }
   ],
   "source": [
    "for experiment_key in experiments:\n",
    "    experiment = experiments[experiment_key]\n",
    "    print(experiment.shortname)\n",
    "    print(whitebox_neuron_attack(experiment, experiment.clf_only_on_test))"
   ]
  },
  {
   "cell_type": "code",
   "execution_count": 22,
   "metadata": {},
   "outputs": [
    {
     "name": "stdout",
     "output_type": "stream",
     "text": [
      "Corr_btn_sens_and_output_for_male_(-0.4)_for_female_(-0.4)\n",
      "{'SEX': {0: 65.68, 1: 62.124, 'original': 63.902}}\n"
     ]
    }
   ],
   "source": [
    "for experiment_key in experiments:\n",
    "    experiment = experiments[experiment_key]\n",
    "    print(experiment.shortname)\n",
    "    print(whitebox_neuron_attack(experiment, experiment.clf_only_on_train))"
   ]
  },
  {
   "cell_type": "code",
   "execution_count": 12,
   "metadata": {},
   "outputs": [
    {
     "data": {
      "text/plain": [
       "dict_keys(['corr_btn_sens_and_out_(-0.4, -0.4)'])"
      ]
     },
     "execution_count": 12,
     "metadata": {},
     "output_type": "execute_result"
    }
   ],
   "source": [
    "experiments.keys()"
   ]
  },
  {
   "cell_type": "code",
   "execution_count": 20,
   "metadata": {},
   "outputs": [],
   "source": [
    "experiment = experiments['corr_btn_sens_and_out_(-0.4, -0.4)']\n",
    "CSMIA_results = [get_CSMIA_case_by_case_results(clf, experiment.X_test, experiment.y_te, experiment.ds, 'SEX', metric='accuracy').loc['Case All Cases'][['Overall']].to_numpy()[0] for clf in [experiment.clf_only_on_test, experiment.clf_only_on_train]]\n",
    "\n",
    "whitebox_results = [whitebox_neuron_attack(experiment, clf)['SEX']['original'] for clf in [experiment.clf_only_on_test, experiment.clf_only_on_train]]"
   ]
  },
  {
   "cell_type": "code",
   "execution_count": 21,
   "metadata": {},
   "outputs": [
    {
     "data": {
      "text/plain": [
       "[67.832, 52.042]"
      ]
     },
     "execution_count": 21,
     "metadata": {},
     "output_type": "execute_result"
    }
   ],
   "source": [
    "CSMIA_results"
   ]
  },
  {
   "cell_type": "code",
   "execution_count": 22,
   "metadata": {},
   "outputs": [
    {
     "data": {
      "text/plain": [
       "[63.517999999999994, 63.902]"
      ]
     },
     "execution_count": 22,
     "metadata": {},
     "output_type": "execute_result"
    }
   ],
   "source": [
    "whitebox_results"
   ]
  },
  {
   "cell_type": "code",
   "execution_count": 23,
   "metadata": {},
   "outputs": [
    {
     "data": {
      "text/plain": [
       "<matplotlib.legend.Legend at 0x2f8eeaf70>"
      ]
     },
     "execution_count": 23,
     "metadata": {},
     "output_type": "execute_result"
    },
    {
     "data": {
      "image/png": "[encoded data removed]",
      "text/plain": [
       "<Figure size 640x480 with 1 Axes>"
      ]
     },
     "metadata": {},
     "output_type": "display_data"
    }
   ],
   "source": [
    "labels = ['Model trained on target data', 'Model not trained on target data']\n",
    "width = 0.35  # the width of the bars\n",
    "\n",
    "# Plotting\n",
    "fig, ax = plt.subplots()\n",
    "x = np.arange(len(labels))  # the label locations\n",
    "rects1 = ax.bar(x - width/2, CSMIA_results, width, label='CSMIA')\n",
    "rects2 = ax.bar(x + width/2, whitebox_results, width, label='Whitebox')\n",
    "\n",
    "# Add some text for labels, title, and custom x-axis tick labels, etc.\n",
    "ax.set_ylabel('Accuracy')\n",
    "# ax.set_title('Scores by experiment and method')\n",
    "ax.set_xticks(x)\n",
    "ax.set_xticklabels(labels)\n",
    "ax.legend()"
   ]
  }
 ],
 "metadata": {
  "kernelspec": {
   "display_name": "tabular",
   "language": "python",
   "name": "python3"
  },
  "language_info": {
   "codemirror_mode": {
    "name": "ipython",
    "version": 3
   },
   "file_extension": ".py",
   "mimetype": "text/x-python",
   "name": "python",
   "nbconvert_exporter": "python",
   "pygments_lexer": "ipython3",
   "version": "3.9.16"
  }
 },
 "nbformat": 4,
 "nbformat_minor": 2
}

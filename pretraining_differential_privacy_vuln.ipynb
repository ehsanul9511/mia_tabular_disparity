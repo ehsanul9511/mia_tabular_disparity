{
 "cells": [
  {
   "cell_type": "code",
   "execution_count": 2,
   "metadata": {},
   "outputs": [],
   "source": [
    "%load_ext autoreload\n",
    "%autoreload 2"
   ]
  },
  {
   "cell_type": "code",
   "execution_count": 3,
   "metadata": {},
   "outputs": [],
   "source": [
    "import warnings\n",
    "\n",
    "warnings.filterwarnings('ignore')"
   ]
  },
  {
   "cell_type": "code",
   "execution_count": 4,
   "metadata": {},
   "outputs": [],
   "source": [
    "from tqdm import tqdm\n",
    "import os\n",
    "import data_utils\n",
    "import model_utils\n",
    "from attack_utils import get_CSMIA_case_by_case_results, CSMIA_attack, LOMIA_attack\n",
    "from data_utils import oneHotCatVars, filter_random_data_by_conf_score\n",
    "from vulnerability_score_utils import get_vulnerability_score, draw_hist_plot\n",
    "from experiment_utils import MIAExperiment\n",
    "from disparity_inference_utils import get_confidence_array, draw_confidence_array_scatter, get_indices_by_group_condition, get_corr_btn_sens_and_out_per_subgroup, get_slopes, get_angular_difference, calculate_stds, get_mutual_info_btn_sens_and_out_per_subgroup\n",
    "import numpy as np\n",
    "import pandas as pd\n",
    "import torch\n",
    "import torch.nn as nn\n",
    "from sklearn.neural_network import MLPClassifier\n",
    "from sklearn.preprocessing import OneHotEncoder\n",
    "from sklearn.neural_network._base import ACTIVATIONS\n",
    "from sklearn.model_selection import train_test_split\n",
    "from sklearn.metrics.pairwise import euclidean_distances\n",
    "from sklearn.metrics import roc_curve, auc, roc_auc_score, accuracy_score, precision_score, recall_score, f1_score, confusion_matrix, classification_report\n",
    "from sklearn.decomposition import PCA\n",
    "from sklearn.inspection import permutation_importance\n",
    "from fairlearn.metrics import equalized_odds_difference, demographic_parity_difference\n",
    "import matplotlib.pyplot as plt\n",
    "import seaborn as sns\n",
    "import tabulate\n",
    "import pickle\n",
    "# import utils\n",
    "import copy\n",
    "\n",
    "import matplotlib as mpl\n",
    "\n",
    "# Setting the font family, size, and weight globally\n",
    "mpl.rcParams['font.family'] = 'DejaVu Sans'\n",
    "mpl.rcParams['font.size'] = 8\n",
    "mpl.rcParams['font.weight'] = 'light'"
   ]
  },
  {
   "cell_type": "code",
   "execution_count": 5,
   "metadata": {},
   "outputs": [
    {
     "name": "stdout",
     "output_type": "stream",
     "text": [
      "[0, 1]\n",
      "{0: {(0, 1): 8750, (0, 0): 3750, (1, 1): 3750, (1, 0): 8750}, 1: {(0, 1): 8750, (0, 0): 3750, (1, 1): 3750, (1, 0): 8750}}\n"
     ]
    },
    {
     "name": "stderr",
     "output_type": "stream",
     "text": [
      "100%|██████████| 2/2 [00:01<00:00,  1.69it/s]\n"
     ]
    },
    {
     "name": "stdout",
     "output_type": "stream",
     "text": [
      "{0: {(0, 1): 6875, (0, 0): 5625, (1, 1): 5625, (1, 0): 6875}, 1: {(0, 1): 7500, (0, 0): 5000, (1, 1): 5000, (1, 0): 7500}}\n"
     ]
    },
    {
     "name": "stderr",
     "output_type": "stream",
     "text": [
      "100%|██████████| 2/2 [00:01<00:00,  1.75it/s]\n"
     ]
    }
   ],
   "source": [
    "i = -0.4\n",
    "j = -0.4\n",
    "experiment = MIAExperiment(sampling_condition_dict_list = \n",
    "    {\n",
    "            'correlation': 0,\n",
    "            'subgroup_col_name': 'SEX',\n",
    "            'marginal_prior': 1,\n",
    "            'corr_btn_sens_and_output_per_subgroup': (i, j),\n",
    "            # 'fixed_corr_in_test_data': True\n",
    "    }, shortname = f\"Corr_btn_sens_and_output_for_male_({i})_for_female_({j})\"\n",
    ")"
   ]
  },
  {
   "cell_type": "code",
   "execution_count": 6,
   "metadata": {},
   "outputs": [],
   "source": [
    "experiment.original_df = experiment.ds.ds.original_df[experiment.ds.ds.original_df['is_train']==0]\n",
    "experiment.original_df = experiment.original_df.drop(['is_train'], axis=1)\n",
    "experiment.aux_df = experiment.ds.ds.original_df[experiment.ds.ds.original_df['is_train']==1]\n",
    "experiment.aux_df = experiment.aux_df.drop(['is_train'], axis=1)\n",
    "experiment.y_column = experiment.ds.ds.meta['y_column']"
   ]
  },
  {
   "cell_type": "code",
   "execution_count": 7,
   "metadata": {},
   "outputs": [],
   "source": [
    "# sens_pred, case_indices = CSMIA_attack(experiment.clf_only_on_test, experiment.X_test, experiment.y_te, experiment.ds.ds.meta)\n",
    "# experiment.correct_indices = (sens_pred == experiment.X_test[[f'{experiment.ds.ds.meta[\"sensitive_column\"]}_1']].to_numpy().ravel())\n",
    "# experiment.incorrect_indices = ~experiment.correct_indices\n",
    "experiment.sensitive_column = experiment.ds.ds.meta[\"sensitive_column\"]\n",
    "experiment.sens_ground_truth = experiment.X_test[[f'{experiment.ds.ds.meta[\"sensitive_column\"]}_1']].to_numpy().ravel()"
   ]
  },
  {
   "cell_type": "code",
   "execution_count": 8,
   "metadata": {},
   "outputs": [],
   "source": [
    "try:\n",
    "    experiment.all_vuln_scores = np.load(f'<PATH_TO_MODEL>/{experiment.ds.ds.filenameroot}_vuln_scores.npy')\n",
    "except:\n",
    "    experiment.all_vuln_scores = np.array([get_vulnerability_score(experiment, experiment.X_test, experiment.y_te, experiment.original_df, index, k=4) for index in tqdm(experiment.X_test.index)])\n",
    "    np.save(f'<PATH_TO_MODEL>/{experiment.ds.ds.filenameroot}_vuln_scores.npy', experiment.all_vuln_scores)\n",
    "experiment.all_vuln_scores_rounded = np.round(experiment.all_vuln_scores)\n",
    "# experiment.vuln_accuracy = accuracy_score(experiment.correct_indices, experiment.all_vuln_scores_rounded)"
   ]
  },
  {
   "cell_type": "code",
   "execution_count": 9,
   "metadata": {},
   "outputs": [],
   "source": [
    "X_test_w_vuln = experiment.X_test.copy()\n",
    "# X_test_w_vuln[['vuln']] \n",
    "X_test_w_vuln['vuln'] = pd.Series(experiment.all_vuln_scores_rounded, index=X_test_w_vuln.index)"
   ]
  },
  {
   "cell_type": "code",
   "execution_count": 10,
   "metadata": {},
   "outputs": [],
   "source": [
    "dataset = torch.utils.data.TensorDataset(torch.tensor(X_test_w_vuln.values).float(), torch.tensor(experiment.y_te_onehot).float())\n",
    "train_loader = torch.utils.data.DataLoader(dataset, batch_size=128, shuffle=True)"
   ]
  },
  {
   "cell_type": "code",
   "execution_count": 11,
   "metadata": {},
   "outputs": [],
   "source": [
    "X_temp = experiment.X_test.copy().reset_index(drop=True)\n",
    "# X_test_w_vuln[['vuln']] \n",
    "X_temp['vuln'] = pd.Series(experiment.all_vuln_scores_rounded, index=X_temp.index)\n",
    "\n",
    "vuln_index = X_temp[X_temp['vuln']==1].index\n",
    "\n",
    "vuln_dataset = torch.utils.data.TensorDataset(torch.tensor(X_temp.loc[vuln_index].values).float(), torch.tensor(experiment.y_te_onehot[vuln_index]).float())\n",
    "vuln_train_loader = torch.utils.data.DataLoader(vuln_dataset, batch_size=128, shuffle=True)\n",
    "\n",
    "non_vuln_index = X_temp[X_temp['vuln']==0].index\n",
    "\n",
    "non_vuln_dataset = torch.utils.data.TensorDataset(torch.tensor(X_temp.loc[non_vuln_index].values).float(), torch.tensor(experiment.y_te_onehot[non_vuln_index]).float())\n",
    "non_vuln_train_loader = torch.utils.data.DataLoader(non_vuln_dataset, batch_size=128, shuffle=True)"
   ]
  },
  {
   "cell_type": "code",
   "execution_count": 22,
   "metadata": {},
   "outputs": [],
   "source": [
    "class PortedMLPClassifier(nn.Module):\n",
    "    def __init__(self, n_in_features=37, n_out_features=2):\n",
    "        super(PortedMLPClassifier, self).__init__()\n",
    "        layers = [\n",
    "            nn.Linear(in_features=n_in_features, out_features=32),\n",
    "            nn.ReLU(),\n",
    "            nn.Linear(in_features=32, out_features=16),\n",
    "            nn.ReLU(),\n",
    "            nn.Linear(in_features=16, out_features=8),\n",
    "            nn.ReLU(),\n",
    "            nn.Linear(in_features=8, out_features=n_out_features),\n",
    "            nn.Softmax(dim=1)\n",
    "        ]\n",
    "        self.layers = nn.Sequential(*layers)\n",
    "\n",
    "    def forward(self, x: torch.Tensor):\n",
    "        return self.layers(x)\n",
    "    \n",
    "    def predict_proba(self, x: torch.Tensor):\n",
    "        return self.forward(x)\n",
    "    \n",
    "def test_model(model, X_test, y_te_onehot):\n",
    "    x_te = X_test.values\n",
    "    dataset = torch.utils.data.TensorDataset(torch.tensor(x_te).float(), torch.tensor(y_te_onehot).float())\n",
    "    test_loader = torch.utils.data.DataLoader(dataset, batch_size=x_te.shape[0], shuffle=False)\n",
    "\n",
    "    model.eval()\n",
    "    y_pred = []\n",
    "    y_true = []\n",
    "    for batch_idx, (data, target) in enumerate(test_loader):\n",
    "        data, target = data.to('mps'), target.to('mps')\n",
    "        output = model(data)\n",
    "        y_pred.append(output.cpu().detach().numpy())\n",
    "        y_true.append(target.cpu().detach().numpy())\n",
    "\n",
    "    y_pred = np.concatenate(y_pred)\n",
    "    y_true = np.concatenate(y_true)\n",
    "    y_pred = np.argmax(y_pred, axis=1)\n",
    "    y_true = np.argmax(y_true, axis=1)\n",
    "\n",
    "    return accuracy_score(y_true, y_pred)\n",
    "    return(classification_report(y_true, y_pred))"
   ]
  },
  {
   "cell_type": "code",
   "execution_count": 13,
   "metadata": {},
   "outputs": [],
   "source": [
    "base_model = model_utils.get_model()\n",
    "base_model.partial_fit(np.zeros_like(experiment.X_test.values), np.zeros_like(experiment.y_te_onehot), classes=np.unique(experiment.y_te))\n",
    "model = model_utils.port_mlp_to_ch(base_model)"
   ]
  },
  {
   "cell_type": "code",
   "execution_count": 14,
   "metadata": {},
   "outputs": [],
   "source": [
    "max_grad_norm = 1.0  # Maximum norm for gradient clipping\n",
    "noise_multiplier = 1.0  # Noise multiplier to control the level of privacy\n",
    "\n",
    "# Function to clip gradients\n",
    "def clip_gradients(parameters, max_grad_norm):\n",
    "    total_norm = 0.0\n",
    "    # Calculate total gradient norm for each parameter\n",
    "    for param in parameters:\n",
    "        if param.grad is not None:\n",
    "            total_norm += param.grad.data.norm(2).item() ** 2\n",
    "    total_norm = total_norm ** 0.5  # L2 norm of the gradients\n",
    "\n",
    "    # Clip gradients to have a maximum norm\n",
    "    clip_coef = max_grad_norm / (total_norm + 1e-6)\n",
    "    if clip_coef < 1:\n",
    "        for param in parameters:\n",
    "            if param.grad is not None:\n",
    "                param.grad.data.mul_(clip_coef)\n",
    "\n",
    "# Function to add noise to gradients\n",
    "def add_noise_to_gradients(parameters, noise_multiplier, max_grad_norm, device):\n",
    "    for param in parameters:\n",
    "        if param.grad is not None:\n",
    "            # Add Gaussian noise to the gradient\n",
    "            # Print the gradient before adding noise for debugging\n",
    "            # print(f\"Before adding noise: {param.grad}\")\n",
    "            \n",
    "            # Generate Gaussian noise\n",
    "            noise = torch.normal(mean=0, std=noise_multiplier * max_grad_norm, size=param.grad.shape).to(device)\n",
    "            \n",
    "            # Print the generated noise for debugging\n",
    "            # print(f\"Noise to add: {noise}\")\n",
    "            \n",
    "            # Add noise directly to the gradient\n",
    "            param.grad.add_(noise)\n",
    "            \n",
    "            # Print the gradient after adding noise for debugging\n",
    "            # print(f\"After adding noise: {param.grad}\")"
   ]
  },
  {
   "cell_type": "code",
   "execution_count": 15,
   "metadata": {},
   "outputs": [],
   "source": [
    "model = PortedMLPClassifier(n_in_features=experiment.X_train.shape[1], n_out_features=experiment.y_tr_onehot.shape[1]).to('mps')"
   ]
  },
  {
   "cell_type": "code",
   "execution_count": 16,
   "metadata": {},
   "outputs": [
    {
     "name": "stderr",
     "output_type": "stream",
     "text": [
      "100%|██████████| 10/10 [00:42<00:00,  4.27s/it]\n"
     ]
    }
   ],
   "source": [
    "model = PortedMLPClassifier(n_in_features=experiment.X_train.shape[1], n_out_features=experiment.y_tr_onehot.shape[1]).to('mps')\n",
    "\n",
    "optimizer = torch.optim.Adam(model.parameters(), lr=0.001)\n",
    "\n",
    "for epoch in tqdm(range(10)):\n",
    "    for batch_idx, (data, target) in enumerate(train_loader):\n",
    "        model.train()\n",
    "        optimizer.zero_grad()\n",
    "        data, target = data.to('mps'), target.to('mps')\n",
    "        output = model(data[:, :-1])\n",
    "        loss = nn.BCELoss()(output, target)\n",
    "        loss.backward()\n",
    "        if batch_idx % 2 == 0 or True:  # Apply DP to half of the batches (for example)\n",
    "            # Step 1: Clip gradients\n",
    "            clip_gradients(model.parameters(), max_grad_norm)\n",
    "\n",
    "            # Step 2: Add noise to gradients\n",
    "            add_noise_to_gradients(model.parameters(), noise_multiplier, max_grad_norm, device='mps')\n",
    "        optimizer.step()\n",
    "        # break"
   ]
  },
  {
   "cell_type": "code",
   "execution_count": 19,
   "metadata": {},
   "outputs": [],
   "source": [
    "def get_selective_dp_model(noise_multiplier=1.0):\n",
    "    model = PortedMLPClassifier(n_in_features=experiment.X_train.shape[1], n_out_features=experiment.y_tr_onehot.shape[1]).to('mps')\n",
    "\n",
    "    optimizer = torch.optim.Adam(model.parameters(), lr=0.001)\n",
    "\n",
    "    for epoch in tqdm(range(10)):\n",
    "        for batch_idx, (data, target) in enumerate(non_vuln_train_loader):\n",
    "            model.train()\n",
    "            optimizer.zero_grad()\n",
    "            data, target = data.to('mps'), target.to('mps')\n",
    "            output = model(data[:, :-1])\n",
    "            loss = nn.BCELoss()(output, target)\n",
    "            loss.backward()\n",
    "            # if batch_idx % 2 == 0 or True:  # Apply DP to half of the batches (for example)\n",
    "            #     # Step 1: Clip gradients\n",
    "            #     clip_gradients(model.parameters(), max_grad_norm)\n",
    "\n",
    "            #     # Step 2: Add noise to gradients\n",
    "            #     add_noise_to_gradients(model.parameters(), noise_multiplier, max_grad_norm, device='mps')\n",
    "            optimizer.step()\n",
    "            # break\n",
    "        for batch_idx, (data, target) in enumerate(vuln_train_loader):\n",
    "            model.train()\n",
    "            optimizer.zero_grad()\n",
    "            data, target = data.to('mps'), target.to('mps')\n",
    "            output = model(data[:, :-1])\n",
    "            loss = nn.BCELoss()(output, target)\n",
    "            loss.backward()\n",
    "            if batch_idx % 2 == 0 or True:  # Apply DP to half of the batches (for example)\n",
    "                # Step 1: Clip gradients\n",
    "                clip_gradients(model.parameters(), max_grad_norm)\n",
    "\n",
    "                # Step 2: Add noise to gradients\n",
    "                add_noise_to_gradients(model.parameters(), noise_multiplier, max_grad_norm, device='mps')\n",
    "            optimizer.step()\n",
    "\n",
    "    return model"
   ]
  },
  {
   "cell_type": "code",
   "execution_count": 26,
   "metadata": {},
   "outputs": [
    {
     "name": "stderr",
     "output_type": "stream",
     "text": [
      "100%|██████████| 10/10 [00:35<00:00,  3.56s/it]\n",
      "100%|██████████| 10/10 [00:36<00:00,  3.64s/it]\n",
      "100%|██████████| 10/10 [00:34<00:00,  3.48s/it]\n"
     ]
    }
   ],
   "source": [
    "sigmas = [0.1, 0.25, 0.5, 1, 2, 3, 5, 10]\n",
    "\n",
    "model_by_sigmas = {}\n",
    "\n",
    "for sigma in sigmas:\n",
    "    try:\n",
    "        model = PortedMLPClassifier(n_in_features=experiment.X_train.shape[1], n_out_features=experiment.y_tr_onehot.shape[1]).to('mps')\n",
    "\n",
    "        model.load_state_dict(torch.load(f\"{experiment.ds.ds.filenameroot}_selective_dp_{sigma}.pt\"))\n",
    "    except:\n",
    "        model = get_selective_dp_model(noise_multiplier=sigma)\n",
    "        torch.save(model.state_dict(), f\"{experiment.ds.ds.filenameroot}_selective_dp_{sigma}.pt\")\n",
    "\n",
    "    model_by_sigmas[sigma] = model    "
   ]
  },
  {
   "cell_type": "code",
   "execution_count": 27,
   "metadata": {},
   "outputs": [
    {
     "name": "stdout",
     "output_type": "stream",
     "text": [
      "Sigma: 0.1\n",
      " Test Accuracy: 0.65358\n",
      " CSMIA Accuracy: 70.0\n",
      "Sigma: 0.25\n",
      " Test Accuracy: 0.575\n",
      " CSMIA Accuracy: 70.0\n",
      "Sigma: 0.5\n",
      " Test Accuracy: 0.50818\n",
      " CSMIA Accuracy: 66.486\n",
      "Sigma: 1\n",
      " Test Accuracy: 0.5753\n",
      " CSMIA Accuracy: 69.936\n",
      "Sigma: 2\n",
      " Test Accuracy: 0.58466\n",
      " CSMIA Accuracy: 69.342\n",
      "Sigma: 3\n",
      " Test Accuracy: 0.4825\n",
      " CSMIA Accuracy: 30.0\n",
      "Sigma: 5\n",
      " Test Accuracy: 0.53378\n",
      " CSMIA Accuracy: 59.036\n",
      "Sigma: 10\n",
      " Test Accuracy: 0.57606\n",
      " CSMIA Accuracy: 30.0\n"
     ]
    }
   ],
   "source": [
    "for sigma in model_by_sigmas:\n",
    "    print(f'Sigma: {sigma}')\n",
    "    model = model_by_sigmas[sigma]\n",
    "    test_acc = test_model(model, experiment.X_train, experiment.y_tr_onehot)\n",
    "    print(f' Test Accuracy: {test_acc}')\n",
    "    csmia_acc = get_CSMIA_case_by_case_results(model, experiment.X_test, experiment.y_te, experiment.ds, 'SEX', metric='accuracy', sensitive_col_name=None).loc['Case All Cases', 'Overall']\n",
    "    print(f' CSMIA Accuracy: {csmia_acc}')"
   ]
  },
  {
   "cell_type": "code",
   "execution_count": 1,
   "metadata": {},
   "outputs": [
    {
     "ename": "NameError",
     "evalue": "name 'csmia_acc' is not defined",
     "output_type": "error",
     "traceback": [
      "\u001b[0;31m---------------------------------------------------------------------------\u001b[0m",
      "\u001b[0;31mNameError\u001b[0m                                 Traceback (most recent call last)",
      "Cell \u001b[0;32mIn[1], line 1\u001b[0m\n\u001b[0;32m----> 1\u001b[0m \u001b[43mcsmia_acc\u001b[49m\u001b[38;5;241m.\u001b[39mloc[\u001b[38;5;124m'\u001b[39m\u001b[38;5;124mCase All Cases\u001b[39m\u001b[38;5;124m'\u001b[39m, \u001b[38;5;124m'\u001b[39m\u001b[38;5;124mOverall\u001b[39m\u001b[38;5;124m'\u001b[39m]\n",
      "\u001b[0;31mNameError\u001b[0m: name 'csmia_acc' is not defined"
     ]
    }
   ],
   "source": [
    "csmia_acc.loc['Case All Cases', 'Overall']"
   ]
  },
  {
   "cell_type": "code",
   "execution_count": 49,
   "metadata": {},
   "outputs": [
    {
     "data": {
      "text/html": [
       "<div>\n",
       "<style scoped>\n",
       "    .dataframe tbody tr th:only-of-type {\n",
       "        vertical-align: middle;\n",
       "    }\n",
       "\n",
       "    .dataframe tbody tr th {\n",
       "        vertical-align: top;\n",
       "    }\n",
       "\n",
       "    .dataframe thead th {\n",
       "        text-align: right;\n",
       "    }\n",
       "</style>\n",
       "<table border=\"1\" class=\"dataframe\">\n",
       "  <thead>\n",
       "    <tr style=\"text-align: right;\">\n",
       "      <th></th>\n",
       "      <th>1</th>\n",
       "      <th>0</th>\n",
       "      <th>Overall</th>\n",
       "    </tr>\n",
       "  </thead>\n",
       "  <tbody>\n",
       "    <tr>\n",
       "      <th>Case 1</th>\n",
       "      <td>24789 (69.9625)</td>\n",
       "      <td>24799 (69.9665)</td>\n",
       "      <td>69.9645</td>\n",
       "    </tr>\n",
       "    <tr>\n",
       "      <th>Case 2</th>\n",
       "      <td>169 (76.3314)</td>\n",
       "      <td>131 (78.626)</td>\n",
       "      <td>77.3333</td>\n",
       "    </tr>\n",
       "    <tr>\n",
       "      <th>Case 3</th>\n",
       "      <td>42 (64.2857)</td>\n",
       "      <td>70 (68.5714)</td>\n",
       "      <td>66.9643</td>\n",
       "    </tr>\n",
       "    <tr>\n",
       "      <th>Case All Cases</th>\n",
       "      <td>25000 (69.996)</td>\n",
       "      <td>25000 (70.008)</td>\n",
       "      <td>70.0020</td>\n",
       "    </tr>\n",
       "  </tbody>\n",
       "</table>\n",
       "</div>"
      ],
      "text/plain": [
       "                              1                0  Overall\n",
       "Case 1          24789 (69.9625)  24799 (69.9665)  69.9645\n",
       "Case 2            169 (76.3314)     131 (78.626)  77.3333\n",
       "Case 3             42 (64.2857)     70 (68.5714)  66.9643\n",
       "Case All Cases   25000 (69.996)   25000 (70.008)  70.0020"
      ]
     },
     "execution_count": 49,
     "metadata": {},
     "output_type": "execute_result"
    }
   ],
   "source": [
    "get_CSMIA_case_by_case_results(model, experiment.X_test, experiment.y_te, experiment.ds, 'SEX', metric='accuracy', sensitive_col_name=None)"
   ]
  }
 ],
 "metadata": {
  "kernelspec": {
   "display_name": "tabular",
   "language": "python",
   "name": "python3"
  },
  "language_info": {
   "codemirror_mode": {
    "name": "ipython",
    "version": 3
   },
   "file_extension": ".py",
   "mimetype": "text/x-python",
   "name": "python",
   "nbconvert_exporter": "python",
   "pygments_lexer": "ipython3",
   "version": "3.9.16"
  }
 },
 "nbformat": 4,
 "nbformat_minor": 2
}

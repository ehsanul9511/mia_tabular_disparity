{
 "cells": [
  {
   "cell_type": "code",
   "execution_count": 1,
   "metadata": {},
   "outputs": [],
   "source": [
    "import pandas as pd\n",
    "import numpy as np\n",
    "from collections import Counter\n",
    "import seaborn as sns"
   ]
  },
  {
   "cell_type": "code",
   "execution_count": 9,
   "metadata": {},
   "outputs": [
    {
     "name": "stderr",
     "output_type": "stream",
     "text": [
      "/var/folders/8r/b322x_9x7gz4b87h7tsmh6f40000gt/T/ipykernel_47276/4234545481.py:1: DtypeWarning: Columns (2,7,8,11) have mixed types. Specify dtype option on import or set low_memory=False.\n",
      "  df = pd.read_csv('<PATH_TO_DATASET>/texas_100_v2.csv')\n"
     ]
    }
   ],
   "source": [
    "df = pd.read_csv('<PATH_TO_DATASET>/texas_100_v2.csv')"
   ]
  },
  {
   "cell_type": "code",
   "execution_count": 14,
   "metadata": {},
   "outputs": [
    {
     "data": {
      "text/plain": [
       "Index(['SEX_CODE', 'TYPE_OF_ADMISSION', 'SOURCE_OF_ADMISSION',\n",
       "       'LENGTH_OF_STAY', 'PAT_AGE', 'PAT_STATUS', 'RACE', 'ETHNICITY',\n",
       "       'TOTAL_CHARGES', 'ADMITTING_DIAGNOSIS', 'PRINC_SURG_PROC_CODE'],\n",
       "      dtype='object')"
      ]
     },
     "execution_count": 14,
     "metadata": {},
     "output_type": "execute_result"
    }
   ],
   "source": [
    "df.columns"
   ]
  },
  {
   "cell_type": "code",
   "execution_count": 10,
   "metadata": {},
   "outputs": [],
   "source": [
    "cat_attrs = ['SEX_CODE', 'TYPE_OF_ADMISSION', 'SOURCE_OF_ADMISSION', 'PAT_STATUS', 'RACE', 'ETHNICITY', 'ADMITTING_DIAGNOSIS', 'PRINC_SURG_PROC_CODE']\n",
    "df.loc[df['SEX_CODE'] == 'M', 'SEX_CODE'] = 0\n",
    "df.loc[df['SEX_CODE'] == 'F', 'SEX_CODE'] = 1\n",
    "df.loc[df['SEX_CODE'] == 'U', 'SEX_CODE'] = None\n",
    "for col in cat_attrs:\n",
    "    df = df[pd.to_numeric(df[col], errors='coerce').notnull()]\n",
    "    df[col] = df[col].astype(float).astype('int64')\n",
    "df.dropna(inplace=True)\n",
    "for col in ['LENGTH_OF_STAY', 'PAT_AGE']:\n",
    "    df[col] = df[col].astype(float).astype('int64')\n",
    "df['TOTAL_CHARGES'] = df['TOTAL_CHARGES'].astype('float64')\n",
    "top_k_surgery = dict(Counter(df['PRINC_SURG_PROC_CODE']))\n",
    "top_k_surgery = sorted(top_k_surgery.items(), key=(lambda x: x[1]), reverse=True)[:10]\n",
    "top_k_surgery = [surgery[0] for surgery in top_k_surgery]\n",
    "# set top 10 surgery codes to 1, else 0\n",
    "df['PRINC_SURG_PROC_CODE'] = df['PRINC_SURG_PROC_CODE'].apply(lambda x: 1 if x in top_k_surgery else 0)\n",
    "df.dropna(inplace=True)\n",
    "df['PRINC_SURG_PROC_CODE'] = df['PRINC_SURG_PROC_CODE'].astype('int64')\n",
    "\n",
    "top_k_admitting_diag = dict(Counter(df['ADMITTING_DIAGNOSIS']))\n",
    "top_k_admitting_diag = sorted(top_k_admitting_diag.items(), key=(lambda x: x[1]), reverse=True)[:50]\n",
    "top_k_admitting_diag = [diag[0] for diag in top_k_admitting_diag]\n",
    "# only keep top 50 admitting diagnosis codes\n",
    "df['ADMITTING_DIAGNOSIS'] = df['ADMITTING_DIAGNOSIS'].apply(lambda x: x if x in top_k_admitting_diag else None)\n",
    "df.dropna(inplace=True)\n",
    "\n",
    "# # get thcic_id that has at least 2000 records in the dataset\n",
    "# thcic_id = df['THCIC_ID'].value_counts()\n",
    "# thcic_id = thcic_id[thcic_id > 3000].index.tolist()\n",
    "# df = df[df['THCIC_ID'].isin(thcic_id)]\n",
    "\n",
    "# drop thcic_id column\n",
    "df = df.drop(columns=['THCIC_ID'])"
   ]
  },
  {
   "cell_type": "code",
   "execution_count": 13,
   "metadata": {},
   "outputs": [],
   "source": [
    "df.to_csv('<PATH_TO_DATASET>/texas_100_cleaned.csv', index=False)"
   ]
  },
  {
   "cell_type": "code",
   "execution_count": 49,
   "metadata": {},
   "outputs": [
    {
     "data": {
      "text/plain": [
       "<Axes: ylabel='Count'>"
      ]
     },
     "execution_count": 49,
     "metadata": {},
     "output_type": "execute_result"
    },
    {
     "data": {
      "image/png": "[encoded data removed]",
      "text/plain": [
       "<Figure size 640x480 with 1 Axes>"
      ]
     },
     "metadata": {},
     "output_type": "display_data"
    }
   ],
   "source": [
    "# draw a value count histogram for THCIC_ID to see the distribution\n",
    "# do not use THCIC_ID as xticklabels\n",
    "temp = df['THCIC_ID'].value_counts()\n",
    "temp = temp.to_numpy()\n",
    "sns.histplot(temp, bins=50)"
   ]
  },
  {
   "cell_type": "code",
   "execution_count": 12,
   "metadata": {},
   "outputs": [
    {
     "data": {
      "text/plain": [
       "(568909, 11)"
      ]
     },
     "execution_count": 12,
     "metadata": {},
     "output_type": "execute_result"
    }
   ],
   "source": [
    "df.shape"
   ]
  },
  {
   "cell_type": "code",
   "execution_count": 18,
   "metadata": {},
   "outputs": [
    {
     "data": {
      "text/html": [
       "<div>\n",
       "<style scoped>\n",
       "    .dataframe tbody tr th:only-of-type {\n",
       "        vertical-align: middle;\n",
       "    }\n",
       "\n",
       "    .dataframe tbody tr th {\n",
       "        vertical-align: top;\n",
       "    }\n",
       "\n",
       "    .dataframe thead th {\n",
       "        text-align: right;\n",
       "    }\n",
       "</style>\n",
       "<table border=\"1\" class=\"dataframe\">\n",
       "  <thead>\n",
       "    <tr style=\"text-align: right;\">\n",
       "      <th></th>\n",
       "      <th>ETHNICITY</th>\n",
       "      <th>PRINC_SURG_PROC_CODE</th>\n",
       "    </tr>\n",
       "  </thead>\n",
       "  <tbody>\n",
       "    <tr>\n",
       "      <th>ETHNICITY</th>\n",
       "      <td>1.000000</td>\n",
       "      <td>0.008969</td>\n",
       "    </tr>\n",
       "    <tr>\n",
       "      <th>PRINC_SURG_PROC_CODE</th>\n",
       "      <td>0.008969</td>\n",
       "      <td>1.000000</td>\n",
       "    </tr>\n",
       "  </tbody>\n",
       "</table>\n",
       "</div>"
      ],
      "text/plain": [
       "                      ETHNICITY  PRINC_SURG_PROC_CODE\n",
       "ETHNICITY              1.000000              0.008969\n",
       "PRINC_SURG_PROC_CODE   0.008969              1.000000"
      ]
     },
     "execution_count": 18,
     "metadata": {},
     "output_type": "execute_result"
    }
   ],
   "source": [
    "df[df['SEX_CODE'] == 0][['ETHNICITY', 'PRINC_SURG_PROC_CODE']].corr()"
   ]
  },
  {
   "cell_type": "code",
   "execution_count": 19,
   "metadata": {},
   "outputs": [
    {
     "data": {
      "text/html": [
       "<div>\n",
       "<style scoped>\n",
       "    .dataframe tbody tr th:only-of-type {\n",
       "        vertical-align: middle;\n",
       "    }\n",
       "\n",
       "    .dataframe tbody tr th {\n",
       "        vertical-align: top;\n",
       "    }\n",
       "\n",
       "    .dataframe thead th {\n",
       "        text-align: right;\n",
       "    }\n",
       "</style>\n",
       "<table border=\"1\" class=\"dataframe\">\n",
       "  <thead>\n",
       "    <tr style=\"text-align: right;\">\n",
       "      <th></th>\n",
       "      <th>ETHNICITY</th>\n",
       "      <th>PRINC_SURG_PROC_CODE</th>\n",
       "    </tr>\n",
       "  </thead>\n",
       "  <tbody>\n",
       "    <tr>\n",
       "      <th>ETHNICITY</th>\n",
       "      <td>1.000000</td>\n",
       "      <td>-0.074097</td>\n",
       "    </tr>\n",
       "    <tr>\n",
       "      <th>PRINC_SURG_PROC_CODE</th>\n",
       "      <td>-0.074097</td>\n",
       "      <td>1.000000</td>\n",
       "    </tr>\n",
       "  </tbody>\n",
       "</table>\n",
       "</div>"
      ],
      "text/plain": [
       "                      ETHNICITY  PRINC_SURG_PROC_CODE\n",
       "ETHNICITY              1.000000             -0.074097\n",
       "PRINC_SURG_PROC_CODE  -0.074097              1.000000"
      ]
     },
     "execution_count": 19,
     "metadata": {},
     "output_type": "execute_result"
    }
   ],
   "source": [
    "df[df['SEX_CODE'] == 1][['ETHNICITY', 'PRINC_SURG_PROC_CODE']].corr()"
   ]
  },
  {
   "cell_type": "code",
   "execution_count": 11,
   "metadata": {},
   "outputs": [
    {
     "name": "stdout",
     "output_type": "stream",
     "text": [
      "SEX_CODE\n",
      "1    348932\n",
      "0    219977\n",
      "Name: count, dtype: int64\n",
      "TYPE_OF_ADMISSION\n",
      "1    270245\n",
      "3    181865\n",
      "2    113603\n",
      "9      2088\n",
      "5      1096\n",
      "4        12\n",
      "Name: count, dtype: int64\n",
      "SOURCE_OF_ADMISSION\n",
      "7    281460\n",
      "1    228858\n",
      "4     25915\n",
      "2     15769\n",
      "5     11417\n",
      "6      4258\n",
      "9      1122\n",
      "8       100\n",
      "3         5\n",
      "0         5\n",
      "Name: count, dtype: int64\n",
      "LENGTH_OF_STAY\n",
      "2      118988\n",
      "3      102791\n",
      "1       74597\n",
      "4       59748\n",
      "5       40661\n",
      "        ...  \n",
      "125         1\n",
      "159         1\n",
      "154         1\n",
      "135         1\n",
      "195         1\n",
      "Name: count, Length: 207, dtype: int64\n",
      "PAT_AGE\n",
      "16    52543\n",
      "15    49002\n",
      "17    48610\n",
      "18    46235\n",
      "14    44381\n",
      "19    39503\n",
      "13    39160\n",
      "12    33454\n",
      "8     32296\n",
      "9     31076\n",
      "7     27670\n",
      "10    27165\n",
      "11    26561\n",
      "20    26493\n",
      "21    12895\n",
      "6      8268\n",
      "5      5891\n",
      "4      4790\n",
      "1      4589\n",
      "3      3899\n",
      "2      3810\n",
      "0       618\n",
      "Name: count, dtype: int64\n",
      "PAT_STATUS\n",
      "1     392424\n",
      "6      55528\n",
      "3      39940\n",
      "62     20385\n",
      "20     18077\n",
      "63     14937\n",
      "2       6711\n",
      "4       5257\n",
      "51      5048\n",
      "50      4531\n",
      "7       2062\n",
      "64      1041\n",
      "5        974\n",
      "61       744\n",
      "65       419\n",
      "8        344\n",
      "43       235\n",
      "30       167\n",
      "66        36\n",
      "9         28\n",
      "41        20\n",
      "40         1\n",
      "Name: count, dtype: int64\n",
      "RACE\n",
      "4    365709\n",
      "5    113745\n",
      "3     74251\n",
      "2      7818\n",
      "1      7386\n",
      "Name: count, dtype: int64\n",
      "ETHNICITY\n",
      "2    423852\n",
      "1    145057\n",
      "Name: count, dtype: int64\n",
      "TOTAL_CHARGES\n",
      "0.00         78\n",
      "11495.25     25\n",
      "10951.31     17\n",
      "5869.87      14\n",
      "16747.00     14\n",
      "             ..\n",
      "48530.00      1\n",
      "110905.00     1\n",
      "70490.00      1\n",
      "101234.00     1\n",
      "315048.40     1\n",
      "Name: count, Length: 471164, dtype: int64\n",
      "ADMITTING_DIAGNOSIS\n",
      "78650.0    38462\n",
      "650.0      34688\n",
      "78605.0    34253\n",
      "78900.0    31428\n",
      "71536.0    21741\n",
      "78060.0    20043\n",
      "486.0      17957\n",
      "65423.0    16176\n",
      "41401.0    15312\n",
      "78097.0    13931\n",
      "5789.0     13270\n",
      "51881.0    12959\n",
      "4280.0     12649\n",
      "78079.0    11697\n",
      "65421.0    11629\n",
      "78701.0    10836\n",
      "7802.0     10817\n",
      "389.0      10423\n",
      "6262.0     10265\n",
      "27801.0    10089\n",
      "2859.0      9577\n",
      "7295.0      9262\n",
      "78659.0     9219\n",
      "2189.0      8888\n",
      "5409.0      8743\n",
      "78609.0     8302\n",
      "6826.0      8253\n",
      "78901.0     8200\n",
      "42731.0     7761\n",
      "43310.0     7695\n",
      "78903.0     7628\n",
      "78909.0     7423\n",
      "72210.0     7017\n",
      "5849.0      6877\n",
      "41071.0     6835\n",
      "71596.0     6706\n",
      "4111.0      6666\n",
      "64413.0     6558\n",
      "5990.0      6424\n",
      "72402.0     6325\n",
      "78906.0     6187\n",
      "71535.0     6120\n",
      "7840.0      5745\n",
      "8208.0      5732\n",
      "71945.0     5721\n",
      "71946.0     5556\n",
      "43491.0     5446\n",
      "64893.0     5334\n",
      "185.0       5064\n",
      "99859.0     5020\n",
      "Name: count, dtype: int64\n",
      "PRINC_SURG_PROC_CODE\n",
      "0    332663\n",
      "1    236246\n",
      "Name: count, dtype: int64\n"
     ]
    }
   ],
   "source": [
    "for col in df.columns:\n",
    "    print(df[col].value_counts())"
   ]
  }
 ],
 "metadata": {
  "kernelspec": {
   "display_name": "tabular",
   "language": "python",
   "name": "python3"
  },
  "language_info": {
   "codemirror_mode": {
    "name": "ipython",
    "version": 3
   },
   "file_extension": ".py",
   "mimetype": "text/x-python",
   "name": "python",
   "nbconvert_exporter": "python",
   "pygments_lexer": "ipython3",
   "version": "3.9.16"
  },
  "orig_nbformat": 4
 },
 "nbformat": 4,
 "nbformat_minor": 2
}

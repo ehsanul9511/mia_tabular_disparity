{
 "cells": [
  {
   "attachments": {},
   "cell_type": "markdown",
   "metadata": {},
   "source": [
    "# Load Library"
   ]
  },
  {
   "cell_type": "code",
   "execution_count": 1,
   "metadata": {},
   "outputs": [],
   "source": [
    "%load_ext autoreload\n",
    "%autoreload 2"
   ]
  },
  {
   "cell_type": "code",
   "execution_count": 2,
   "metadata": {},
   "outputs": [],
   "source": [
    "import warnings\n",
    "\n",
    "warnings.filterwarnings('ignore')"
   ]
  },
  {
   "cell_type": "code",
   "execution_count": 3,
   "metadata": {
    "tags": []
   },
   "outputs": [],
   "source": [
    "from tqdm import tqdm\n",
    "import os\n",
    "import data_utils\n",
    "import model_utils\n",
    "from attack_utils import get_CSMIA_case_by_case_results, CSMIA_attack, LOMIA_attack, get_LOMIA_results, imputation_attack\n",
    "from data_utils import oneHotCatVars, filter_random_data_by_conf_score\n",
    "from vulnerability_score_utils import get_vulnerability_score, draw_hist_plot\n",
    "from experiment_utils import MIAExperiment\n",
    "from disparity_inference_utils import get_confidence_array, draw_confidence_array_scatter, get_indices_by_group_condition, get_corr_btn_sens_and_out_per_subgroup, get_slopes, get_angular_difference, calculate_stds, get_mutual_info_btn_sens_and_out_per_subgroup\n",
    "import numpy as np\n",
    "import pandas as pd\n",
    "import torch\n",
    "import torch.nn as nn\n",
    "from sklearn.neural_network import MLPClassifier\n",
    "from sklearn.preprocessing import OneHotEncoder\n",
    "from sklearn.neural_network._base import ACTIVATIONS\n",
    "from sklearn.model_selection import train_test_split\n",
    "from sklearn.metrics.pairwise import euclidean_distances\n",
    "from sklearn.metrics import roc_curve, auc, roc_auc_score, accuracy_score, precision_score, recall_score, f1_score, confusion_matrix, classification_report\n",
    "from sklearn.decomposition import PCA\n",
    "from sklearn.inspection import permutation_importance\n",
    "import matplotlib.pyplot as plt\n",
    "import seaborn as sns\n",
    "import tabulate\n",
    "import pickle\n",
    "# import utils\n",
    "import copy\n",
    "from scipy.stats import kendalltau, spearmanr\n",
    "\n",
    "import matplotlib as mpl\n",
    "\n",
    "# Setting the font family, size, and weight globally\n",
    "mpl.rcParams['font.family'] = 'DejaVu Sans'\n",
    "mpl.rcParams['font.size'] = 8\n",
    "mpl.rcParams['font.weight'] = 'light'"
   ]
  },
  {
   "cell_type": "code",
   "execution_count": 4,
   "metadata": {},
   "outputs": [],
   "source": [
    "experiment = MIAExperiment(name='Adult')"
   ]
  },
  {
   "cell_type": "code",
   "execution_count": 5,
   "metadata": {},
   "outputs": [
    {
     "name": "stdout",
     "output_type": "stream",
     "text": [
      "Training classifier for experiment: Adult\n",
      "Loaded classifier for experiment from file: Adult\n"
     ]
    }
   ],
   "source": [
    "save_model = True\n",
    "\n",
    "print(f\"Training classifier for experiment: {experiment}\")\n",
    "try:\n",
    "    experiment.clf = model_utils.load_model(f'<PATH_TO_MODEL>/{experiment.ds.ds.filenameroot}_target_model.pkl')\n",
    "    print(f\"Loaded classifier for experiment from file: {experiment}\")\n",
    "except:\n",
    "    # clf = model_utils.get_model(max_iter=500, hidden_layer_sizes=(256, 256))\n",
    "    experiment.clf = model_utils.get_model(max_iter=500)\n",
    "    experiment.clf.fit(experiment.X_train, experiment.y_tr_onehot)\n",
    "\n",
    "    if save_model:\n",
    "        model_utils.save_model(experiment.clf, f'<PATH_TO_MODEL>/{experiment.ds.ds.filenameroot}_target_model.pkl')"
   ]
  },
  {
   "cell_type": "code",
   "execution_count": 208,
   "metadata": {},
   "outputs": [],
   "source": [
    "experiment.sensitive_column = experiment.ds.ds.meta['sensitive_column']\n",
    "experiment.sensitive_positive = experiment.ds.ds.meta['sensitive_positive']\n",
    "experiment.confidence_array = get_confidence_array(experiment, experiment.X_train, experiment.y_te, experiment.clf)\n",
    "sens_pred, case_indices = CSMIA_attack(experiment.clf, experiment.X_train, experiment.y_tr, experiment.ds.ds.meta)\n",
    "sens_pred_LOMIA = LOMIA_attack(experiment, experiment.clf, experiment.X_train, experiment.y_tr, experiment.ds.ds.meta)\n",
    "case_2_indices = case_indices[2]\n",
    "experiment.case_2_indices = case_2_indices\n",
    "experiment.confidence_array_case_2 = experiment.confidence_array[case_2_indices, :]\n",
    "experiment.X_case_2 = experiment.X_train.loc[case_2_indices].copy().reset_index(drop=True)\n",
    "experiment.y_case_2 = experiment.y_tr.ravel()[case_2_indices]\n",
    "experiment.sens_val_ground_truth = experiment.X_train[[f'{experiment.sensitive_column}_{experiment.sensitive_positive}']].to_numpy().ravel()\n",
    "experiment.sens_pred = sens_pred"
   ]
  },
  {
   "cell_type": "code",
   "execution_count": 7,
   "metadata": {},
   "outputs": [],
   "source": [
    "imputation_aux_dict = {}\n",
    "aux_df = experiment.ds.ds.df.copy()\n",
    "married_indices = aux_df[aux_df['marital_Married']==True][aux_df[\"is_train\"]==0][['marital_Married']].index\n",
    "single_indices = aux_df[aux_df['marital_Married']==False][aux_df[\"is_train\"]==0][['marital_Married']].index\n",
    "\n",
    "tc_vals = [100, 500, 1000, 2500, 5000]\n",
    "pcnt_vals = [0.1, 0.2, 0.3, 0.4, 0.5]\n",
    "for tc in tc_vals:\n",
    "    for pcnt_s in pcnt_vals:\n",
    "        pcnt_single = pcnt_s\n",
    "        total_count = tc\n",
    "        married_sample_indices = aux_df.loc[married_indices].sample(n=total_count-int(total_count * pcnt_single), replace=False).index\n",
    "        single_sample_indices = aux_df.loc[single_indices].sample(n=int(total_count * pcnt_single), replace=False).index\n",
    "\n",
    "        all_sample_indices = married_sample_indices.append(single_sample_indices)\n",
    "        aux_df_sample = aux_df.loc[all_sample_indices]\n",
    "        imputation_aux_dict[(tc, pcnt_s)] = aux_df_sample.copy()"
   ]
  },
  {
   "cell_type": "code",
   "execution_count": 8,
   "metadata": {},
   "outputs": [],
   "source": [
    "experiment.imputation_pred = imputation_attack(experiment, aux_df_onehot=aux_df_sample, subgroup_column='occupation')"
   ]
  },
  {
   "cell_type": "code",
   "execution_count": 86,
   "metadata": {},
   "outputs": [],
   "source": [
    "imputation_perf_dict = {}\n",
    "for tc in tc_vals:\n",
    "    imputation_perf_dict[tc] = {}\n",
    "    for pcnt_s in pcnt_vals:\n",
    "        imputation_pred = imputation_attack(experiment, aux_df_onehot=imputation_aux_dict[(tc, pcnt_s)], subgroup_column='occupation')\n",
    "        imputation_perf_dict[tc][pcnt_s] = round(100 * accuracy_score(experiment.sens_val_ground_truth, imputation_pred), 2)"
   ]
  },
  {
   "cell_type": "code",
   "execution_count": 10,
   "metadata": {},
   "outputs": [
    {
     "data": {
      "text/plain": [
       "0.699505990574073"
      ]
     },
     "execution_count": 10,
     "metadata": {},
     "output_type": "execute_result"
    }
   ],
   "source": [
    "accuracy_score(experiment.sens_val_ground_truth, sens_pred)"
   ]
  },
  {
   "cell_type": "code",
   "execution_count": 130,
   "metadata": {},
   "outputs": [
    {
     "name": "stdout",
     "output_type": "stream",
     "text": [
      "\\begin{tabular}{lrrrr}\n",
      "\\toprule\n",
      " & 100 & 500 & 1000 & 5000 \\\\\n",
      "\\midrule\n",
      "0.100000 & 47.96 & 54.41 & 60.15 & 62.54 \\\\\n",
      "0.200000 & 57.79 & 68.95 & 66.93 & 67.68 \\\\\n",
      "0.300000 & 64.16 & 71.50 & 70.58 & 71.57 \\\\\n",
      "0.400000 & 71.47 & 71.98 & 72.89 & 73.31 \\\\\n",
      "0.500000 & 68.84 & 73.43 & 71.82 & 73.46 \\\\\n",
      "\\bottomrule\n",
      "\\end{tabular}\n",
      "\n"
     ]
    }
   ],
   "source": [
    "print(pd.DataFrame.from_dict(imputation_perf_dict, orient='index').T[[100, 500, 1000, 5000]].round(2).to_latex(float_format=\"%.2f\"))"
   ]
  },
  {
   "cell_type": "code",
   "execution_count": 154,
   "metadata": {},
   "outputs": [],
   "source": [
    "original_test_df = experiment.ds.ds.original_df[experiment.ds.ds.original_df['is_train']==1].copy().reset_index(drop=True).drop(['is_train'], axis=1)"
   ]
  },
  {
   "cell_type": "code",
   "execution_count": 237,
   "metadata": {},
   "outputs": [],
   "source": [
    "n = (np.array(original_test_df['occupation'].value_counts().tolist()) * 500 / 35222).astype(int)\n",
    "n[1] = 0\n",
    "n[4] = 0\n",
    "n[5] = 0\n",
    "n[6] = 0\n",
    "n[8] = 0\n",
    "p = (np.ones_like(n) * -0.441171595477939).tolist()"
   ]
  },
  {
   "cell_type": "code",
   "execution_count": 176,
   "metadata": {},
   "outputs": [
    {
     "data": {
      "text/plain": [
       "[-0.441171595477939,\n",
       " -0.441171595477939,\n",
       " -0.441171595477939,\n",
       " -0.441171595477939,\n",
       " -0.441171595477939,\n",
       " -0.441171595477939,\n",
       " -0.441171595477939,\n",
       " -0.441171595477939,\n",
       " -0.441171595477939,\n",
       " -0.441171595477939,\n",
       " -0.441171595477939,\n",
       " -0.441171595477939,\n",
       " -0.441171595477939,\n",
       " -0.441171595477939]"
      ]
     },
     "execution_count": 176,
     "metadata": {},
     "output_type": "execute_result"
    }
   ],
   "source": [
    "p"
   ]
  },
  {
   "cell_type": "code",
   "execution_count": 184,
   "metadata": {},
   "outputs": [],
   "source": [
    "subgroup_vals = sorted(original_test_df['occupation'].unique().tolist())"
   ]
  },
  {
   "cell_type": "code",
   "execution_count": 185,
   "metadata": {},
   "outputs": [
    {
     "data": {
      "text/plain": [
       "['Adm-clerical',\n",
       " 'Armed-Forces',\n",
       " 'Craft-repair',\n",
       " 'Exec-managerial',\n",
       " 'Farming-fishing',\n",
       " 'Handlers-cleaners',\n",
       " 'Machine-op-inspct',\n",
       " 'Other-service',\n",
       " 'Priv-house-serv',\n",
       " 'Prof-specialty',\n",
       " 'Protective-serv',\n",
       " 'Sales',\n",
       " 'Tech-support',\n",
       " 'Transport-moving']"
      ]
     },
     "execution_count": 185,
     "metadata": {},
     "output_type": "execute_result"
    }
   ],
   "source": [
    "subgroup_vals"
   ]
  },
  {
   "cell_type": "code",
   "execution_count": null,
   "metadata": {},
   "outputs": [],
   "source": [
    "for i in subgroup_vals:\n",
    "    print(i)\n",
    "    print(original_test_df[original_test_df['occupation']==i][['marital', 'income']].value_counts())"
   ]
  },
  {
   "cell_type": "code",
   "execution_count": 239,
   "metadata": {},
   "outputs": [
    {
     "name": "stdout",
     "output_type": "stream",
     "text": [
      "['Adm-clerical', 'Armed-Forces', 'Craft-repair', 'Exec-managerial', 'Farming-fishing', 'Handlers-cleaners', 'Machine-op-inspct', 'Other-service', 'Priv-house-serv', 'Prof-specialty', 'Protective-serv', 'Sales', 'Tech-support', 'Transport-moving']\n",
      "[66  0 66 60  0  0  0 25  0 16 15 10  2  0]\n",
      "{0: {(0, 1): 23, (0, 0): 9, (1, 1): 10, (1, 0): 24}, 1: {(0, 1): 0, (0, 0): 0, (1, 1): 0, (1, 0): 0}, 2: {(0, 1): 23, (0, 0): 9, (1, 1): 10, (1, 0): 24}, 3: {(0, 1): 21, (0, 0): 8, (1, 1): 9, (1, 0): 22}, 4: {(0, 1): 0, (0, 0): 0, (1, 1): 0, (1, 0): 0}, 5: {(0, 1): 0, (0, 0): 0, (1, 1): 0, (1, 0): 0}, 6: {(0, 1): 0, (0, 0): 0, (1, 1): 0, (1, 0): 0}, 7: {(0, 1): 9, (0, 0): 3, (1, 1): 3, (1, 0): 9}, 8: {(0, 1): 0, (0, 0): 0, (1, 1): 0, (1, 0): 0}, 9: {(0, 1): 5, (0, 0): 2, (1, 1): 3, (1, 0): 6}, 10: {(0, 1): 5, (0, 0): 2, (1, 1): 2, (1, 0): 5}, 11: {(0, 1): 3, (0, 0): 1, (1, 1): 2, (1, 0): 4}, 12: {(0, 1): 0, (0, 0): 0, (1, 1): 1, (1, 0): 1}, 13: {(0, 1): 0, (0, 0): 0, (1, 1): 0, (1, 0): 0}}\n"
     ]
    },
    {
     "name": "stderr",
     "output_type": "stream",
     "text": [
      "  0%|          | 0/14 [00:00<?, ?it/s]"
     ]
    },
    {
     "name": "stderr",
     "output_type": "stream",
     "text": [
      "100%|██████████| 14/14 [00:00<00:00, 35.88it/s]\n"
     ]
    }
   ],
   "source": [
    "indices = experiment.ds.ds.sample_data_matching_correlation(original_test_df, p=p, n=n, subgroup_col_name='occupation', transformed_already=True, return_indices_only=True)\n",
    "\n",
    "aux_df = experiment.ds.ds.df.copy()\n",
    "aux_df = aux_df[aux_df[\"is_train\"]==1].copy().reset_index(drop=True).loc[indices].reset_index(drop=True)\n",
    "\n",
    "X_temp, y_temp = experiment.X_train.loc[indices].copy().reset_index(drop=True), experiment.y_tr[indices]"
   ]
  },
  {
   "cell_type": "code",
   "execution_count": 233,
   "metadata": {},
   "outputs": [
    {
     "name": "stdout",
     "output_type": "stream",
     "text": [
      "{'occupation': 'Prof-specialty'}\n",
      "-0.44999999999999996\n",
      "{'occupation': 'Other-service'}\n",
      "-0.45161290322580644\n",
      "{'occupation': 'Adm-clerical'}\n",
      "-0.44312171690790697\n",
      "{'occupation': 'Craft-repair'}\n",
      "-0.43976701573170285\n",
      "{'occupation': 'Farming-fishing'}\n",
      "nan\n",
      "{'occupation': 'Machine-op-inspct'}\n",
      "nan\n",
      "{'occupation': 'Exec-managerial'}\n",
      "-0.44079901323976495\n",
      "{'occupation': 'Priv-house-serv'}\n",
      "nan\n",
      "{'occupation': 'Sales'}\n",
      "-0.444749589996661\n",
      "{'occupation': 'Transport-moving'}\n",
      "nan\n",
      "{'occupation': 'Handlers-cleaners'}\n",
      "nan\n",
      "{'occupation': 'Protective-serv'}\n",
      "-0.4358974358974359\n",
      "{'occupation': 'Tech-support'}\n",
      "-0.5773502691896257\n",
      "{'occupation': 'Armed-Forces'}\n",
      "nan\n",
      "{}\n",
      "-0.44395213379544857\n"
     ]
    }
   ],
   "source": [
    "subgroup_col = 'occupation'\n",
    "subgroup_vals = experiment.ds.ds.original_df[subgroup_col].unique()\n",
    "\n",
    "conditions = [{subgroup_col: i} for i in subgroup_vals] + [{}]\n",
    "for condition in conditions:\n",
    "    fcondition = f'{condition}'\n",
    "    correlation = get_corr_btn_sens_and_out_per_subgroup(experiment, X_temp, y_temp, condition)\n",
    "    print(condition)\n",
    "    print(correlation)"
   ]
  },
  {
   "cell_type": "code",
   "execution_count": 39,
   "metadata": {},
   "outputs": [
    {
     "name": "stdout",
     "output_type": "stream",
     "text": [
      "{'occupation': 'Prof-specialty'}\n",
      "-0.5393493524000169\n",
      "{'occupation': 'Other-service'}\n",
      "-0.26113058134433104\n",
      "{'occupation': 'Adm-clerical'}\n",
      "-0.5110348526374976\n",
      "{'occupation': 'Craft-repair'}\n",
      "-0.31311634960390927\n",
      "{'occupation': 'Farming-fishing'}\n",
      "-0.2299897920101619\n",
      "{'occupation': 'Machine-op-inspct'}\n",
      "-0.3276462094331777\n",
      "{'occupation': 'Exec-managerial'}\n",
      "-0.49050579222648905\n",
      "{'occupation': 'Priv-house-serv'}\n",
      "-0.1665986628369903\n",
      "{'occupation': 'Sales'}\n",
      "-0.4856204599179692\n",
      "{'occupation': 'Transport-moving'}\n",
      "-0.29804129465916873\n",
      "{'occupation': 'Handlers-cleaners'}\n",
      "-0.3053044386004156\n",
      "{'occupation': 'Protective-serv'}\n",
      "-0.3741917581018578\n",
      "{'occupation': 'Tech-support'}\n",
      "-0.5534833405745625\n",
      "{'occupation': 'Armed-Forces'}\n",
      "-0.7200822998230957\n",
      "{}\n",
      "-0.441171595477939\n"
     ]
    }
   ],
   "source": [
    "subgroup_col = 'occupation'\n",
    "subgroup_vals = experiment.ds.ds.original_df[subgroup_col].unique()\n",
    "\n",
    "conditions = [{subgroup_col: i} for i in subgroup_vals] + [{}]\n",
    "for condition in conditions:\n",
    "    fcondition = f'{condition}'\n",
    "    correlation = get_corr_btn_sens_and_out_per_subgroup(experiment, experiment.X_train, experiment.y_tr, condition)\n",
    "    print(condition)\n",
    "    print(correlation)"
   ]
  },
  {
   "cell_type": "code",
   "execution_count": 240,
   "metadata": {},
   "outputs": [
    {
     "name": "stderr",
     "output_type": "stream",
     "text": [
      "/Users/ehsanulkabir/Downloads/tabular/disparity_inference_utils.py:175: RankWarning: Polyfit may be poorly conditioned\n",
      "  return [np.polyfit(confidence_array[indices_by_y_values[y_value], 1], confidence_array[indices_by_y_values[y_value], 0], 1)[0] for y_value in y_values]\n",
      "/Users/ehsanulkabir/Downloads/tabular/disparity_inference_utils.py:175: RankWarning: Polyfit may be poorly conditioned\n",
      "  return [np.polyfit(confidence_array[indices_by_y_values[y_value], 1], confidence_array[indices_by_y_values[y_value], 0], 1)[0] for y_value in y_values]\n"
     ]
    }
   ],
   "source": [
    "imputation_pred = imputation_attack(experiment, aux_df_onehot=aux_df, subgroup_column='occupation', is_train=1)\n",
    "imputation_pred_ideal = imputation_attack(experiment, aux_df_onehot=aux_df_ideal, subgroup_column='occupation', is_train=1)\n",
    "\n",
    "correlation_vs_ang_diff = {}\n",
    "subgroup_col_name = 'occupation'\n",
    "subgroup_vals = experiment.ds.ds.original_df[subgroup_col_name].unique()\n",
    "\n",
    "conditions = [{}] + [{subgroup_col_name: i} for i in subgroup_vals]\n",
    "for i, condition in enumerate(conditions):\n",
    "    # condition = {subgroup_col_name: i}\n",
    "    fcondition = f'{condition}'\n",
    "    correlation = get_corr_btn_sens_and_out_per_subgroup(experiment, experiment.X_train, experiment.y_tr, condition)\n",
    "    correlation_prediction = get_corr_btn_sens_and_out_per_subgroup(experiment, experiment.X_train, sens_pred, condition)\n",
    "    indices = get_indices_by_group_condition(experiment.X_case_2, condition)\n",
    "    angular_difference = get_angular_difference(experiment, experiment.confidence_array_case_2[indices], experiment.y_case_2[indices])\n",
    "    correlation_vs_ang_diff[fcondition] = {}\n",
    "    correlation_vs_ang_diff[fcondition]['subgroup_val'] = subgroup_vals[i-1] if i>0 else {}\n",
    "    correlation_vs_ang_diff[fcondition]['correlation'] = correlation\n",
    "    correlation_vs_ang_diff[fcondition]['correlation_diff'] = np.abs(correlation + 0.441171595477939)\n",
    "    indices = get_indices_by_group_condition(experiment.X_train, condition)\n",
    "    correlation_vs_ang_diff[fcondition]['CSMIA_attack_accuracy'] = (experiment.sens_val_ground_truth[indices] == experiment.sens_pred[indices]).sum()/len(indices)\n",
    "    correlation_vs_ang_diff[fcondition]['LOMIA_attack_accuracy'] = (experiment.sens_val_ground_truth[indices] == sens_pred_LOMIA[indices]).sum()/len(indices)\n",
    "    correlation_vs_ang_diff[fcondition]['imputation_accuracy'] = (experiment.sens_val_ground_truth[indices] == imputation_pred[indices]).sum()/len(indices)\n",
    "    correlation_vs_ang_diff[fcondition]['imputation_accuracy_ideal'] = (experiment.sens_val_ground_truth[indices] == imputation_pred_ideal[indices]).sum()/len(indices)\n",
    "\n",
    "\n",
    "correlation_vs_ang_diff_df = pd.DataFrame.from_dict(correlation_vs_ang_diff, orient='index')"
   ]
  },
  {
   "cell_type": "code",
   "execution_count": 241,
   "metadata": {},
   "outputs": [
    {
     "data": {
      "text/html": [
       "<div>\n",
       "<style scoped>\n",
       "    .dataframe tbody tr th:only-of-type {\n",
       "        vertical-align: middle;\n",
       "    }\n",
       "\n",
       "    .dataframe tbody tr th {\n",
       "        vertical-align: top;\n",
       "    }\n",
       "\n",
       "    .dataframe thead th {\n",
       "        text-align: right;\n",
       "    }\n",
       "</style>\n",
       "<table border=\"1\" class=\"dataframe\">\n",
       "  <thead>\n",
       "    <tr style=\"text-align: right;\">\n",
       "      <th></th>\n",
       "      <th>subgroup_val</th>\n",
       "      <th>correlation</th>\n",
       "      <th>CSMIA_attack_accuracy</th>\n",
       "      <th>imputation_accuracy</th>\n",
       "    </tr>\n",
       "  </thead>\n",
       "  <tbody>\n",
       "    <tr>\n",
       "      <th>{'occupation': 'Armed-Forces'}</th>\n",
       "      <td>Armed-Forces</td>\n",
       "      <td>-0.720082</td>\n",
       "      <td>0.846154</td>\n",
       "      <td>0.384615</td>\n",
       "    </tr>\n",
       "    <tr>\n",
       "      <th>{'occupation': 'Tech-support'}</th>\n",
       "      <td>Tech-support</td>\n",
       "      <td>-0.553483</td>\n",
       "      <td>0.776000</td>\n",
       "      <td>0.741333</td>\n",
       "    </tr>\n",
       "    <tr>\n",
       "      <th>{'occupation': 'Prof-specialty'}</th>\n",
       "      <td>Prof-specialty</td>\n",
       "      <td>-0.539349</td>\n",
       "      <td>0.756631</td>\n",
       "      <td>0.727562</td>\n",
       "    </tr>\n",
       "    <tr>\n",
       "      <th>{'occupation': 'Adm-clerical'}</th>\n",
       "      <td>Adm-clerical</td>\n",
       "      <td>-0.511035</td>\n",
       "      <td>0.816065</td>\n",
       "      <td>0.773458</td>\n",
       "    </tr>\n",
       "    <tr>\n",
       "      <th>{'occupation': 'Exec-managerial'}</th>\n",
       "      <td>Exec-managerial</td>\n",
       "      <td>-0.490506</td>\n",
       "      <td>0.733945</td>\n",
       "      <td>0.756774</td>\n",
       "    </tr>\n",
       "    <tr>\n",
       "      <th>{'occupation': 'Sales'}</th>\n",
       "      <td>Sales</td>\n",
       "      <td>-0.485620</td>\n",
       "      <td>0.729429</td>\n",
       "      <td>0.744605</td>\n",
       "    </tr>\n",
       "    <tr>\n",
       "      <th>{}</th>\n",
       "      <td>{}</td>\n",
       "      <td>-0.441172</td>\n",
       "      <td>0.699648</td>\n",
       "      <td>0.704134</td>\n",
       "    </tr>\n",
       "    <tr>\n",
       "      <th>{'occupation': 'Protective-serv'}</th>\n",
       "      <td>Protective-serv</td>\n",
       "      <td>-0.374192</td>\n",
       "      <td>0.618611</td>\n",
       "      <td>0.638270</td>\n",
       "    </tr>\n",
       "    <tr>\n",
       "      <th>{'occupation': 'Machine-op-inspct'}</th>\n",
       "      <td>Machine-op-inspct</td>\n",
       "      <td>-0.327646</td>\n",
       "      <td>0.611940</td>\n",
       "      <td>0.620720</td>\n",
       "    </tr>\n",
       "    <tr>\n",
       "      <th>{'occupation': 'Craft-repair'}</th>\n",
       "      <td>Craft-repair</td>\n",
       "      <td>-0.313116</td>\n",
       "      <td>0.558993</td>\n",
       "      <td>0.596970</td>\n",
       "    </tr>\n",
       "    <tr>\n",
       "      <th>{'occupation': 'Handlers-cleaners'}</th>\n",
       "      <td>Handlers-cleaners</td>\n",
       "      <td>-0.305304</td>\n",
       "      <td>0.688452</td>\n",
       "      <td>0.667513</td>\n",
       "    </tr>\n",
       "    <tr>\n",
       "      <th>{'occupation': 'Transport-moving'}</th>\n",
       "      <td>Transport-moving</td>\n",
       "      <td>-0.298041</td>\n",
       "      <td>0.529876</td>\n",
       "      <td>0.587373</td>\n",
       "    </tr>\n",
       "    <tr>\n",
       "      <th>{'occupation': 'Other-service'}</th>\n",
       "      <td>Other-service</td>\n",
       "      <td>-0.261131</td>\n",
       "      <td>0.781551</td>\n",
       "      <td>0.751337</td>\n",
       "    </tr>\n",
       "    <tr>\n",
       "      <th>{'occupation': 'Farming-fishing'}</th>\n",
       "      <td>Farming-fishing</td>\n",
       "      <td>-0.229990</td>\n",
       "      <td>0.494372</td>\n",
       "      <td>0.652814</td>\n",
       "    </tr>\n",
       "    <tr>\n",
       "      <th>{'occupation': 'Priv-house-serv'}</th>\n",
       "      <td>Priv-house-serv</td>\n",
       "      <td>-0.166599</td>\n",
       "      <td>0.839196</td>\n",
       "      <td>0.839196</td>\n",
       "    </tr>\n",
       "  </tbody>\n",
       "</table>\n",
       "</div>"
      ],
      "text/plain": [
       "                                          subgroup_val  correlation   \n",
       "{'occupation': 'Armed-Forces'}            Armed-Forces    -0.720082  \\\n",
       "{'occupation': 'Tech-support'}            Tech-support    -0.553483   \n",
       "{'occupation': 'Prof-specialty'}        Prof-specialty    -0.539349   \n",
       "{'occupation': 'Adm-clerical'}            Adm-clerical    -0.511035   \n",
       "{'occupation': 'Exec-managerial'}      Exec-managerial    -0.490506   \n",
       "{'occupation': 'Sales'}                          Sales    -0.485620   \n",
       "{}                                                  {}    -0.441172   \n",
       "{'occupation': 'Protective-serv'}      Protective-serv    -0.374192   \n",
       "{'occupation': 'Machine-op-inspct'}  Machine-op-inspct    -0.327646   \n",
       "{'occupation': 'Craft-repair'}            Craft-repair    -0.313116   \n",
       "{'occupation': 'Handlers-cleaners'}  Handlers-cleaners    -0.305304   \n",
       "{'occupation': 'Transport-moving'}    Transport-moving    -0.298041   \n",
       "{'occupation': 'Other-service'}          Other-service    -0.261131   \n",
       "{'occupation': 'Farming-fishing'}      Farming-fishing    -0.229990   \n",
       "{'occupation': 'Priv-house-serv'}      Priv-house-serv    -0.166599   \n",
       "\n",
       "                                     CSMIA_attack_accuracy   \n",
       "{'occupation': 'Armed-Forces'}                    0.846154  \\\n",
       "{'occupation': 'Tech-support'}                    0.776000   \n",
       "{'occupation': 'Prof-specialty'}                  0.756631   \n",
       "{'occupation': 'Adm-clerical'}                    0.816065   \n",
       "{'occupation': 'Exec-managerial'}                 0.733945   \n",
       "{'occupation': 'Sales'}                           0.729429   \n",
       "{}                                                0.699648   \n",
       "{'occupation': 'Protective-serv'}                 0.618611   \n",
       "{'occupation': 'Machine-op-inspct'}               0.611940   \n",
       "{'occupation': 'Craft-repair'}                    0.558993   \n",
       "{'occupation': 'Handlers-cleaners'}               0.688452   \n",
       "{'occupation': 'Transport-moving'}                0.529876   \n",
       "{'occupation': 'Other-service'}                   0.781551   \n",
       "{'occupation': 'Farming-fishing'}                 0.494372   \n",
       "{'occupation': 'Priv-house-serv'}                 0.839196   \n",
       "\n",
       "                                     imputation_accuracy  \n",
       "{'occupation': 'Armed-Forces'}                  0.384615  \n",
       "{'occupation': 'Tech-support'}                  0.741333  \n",
       "{'occupation': 'Prof-specialty'}                0.727562  \n",
       "{'occupation': 'Adm-clerical'}                  0.773458  \n",
       "{'occupation': 'Exec-managerial'}               0.756774  \n",
       "{'occupation': 'Sales'}                         0.744605  \n",
       "{}                                              0.704134  \n",
       "{'occupation': 'Protective-serv'}               0.638270  \n",
       "{'occupation': 'Machine-op-inspct'}             0.620720  \n",
       "{'occupation': 'Craft-repair'}                  0.596970  \n",
       "{'occupation': 'Handlers-cleaners'}             0.667513  \n",
       "{'occupation': 'Transport-moving'}              0.587373  \n",
       "{'occupation': 'Other-service'}                 0.751337  \n",
       "{'occupation': 'Farming-fishing'}               0.652814  \n",
       "{'occupation': 'Priv-house-serv'}               0.839196  "
      ]
     },
     "execution_count": 241,
     "metadata": {},
     "output_type": "execute_result"
    }
   ],
   "source": [
    "correlation_vs_ang_diff_df.sort_values(by='correlation')[['subgroup_val', 'correlation', 'CSMIA_attack_accuracy', 'imputation_accuracy']]"
   ]
  },
  {
   "cell_type": "code",
   "execution_count": 261,
   "metadata": {},
   "outputs": [],
   "source": [
    "temp_df = correlation_vs_ang_diff_df.sort_values(by='correlation_diff')[['subgroup_val', 'correlation', 'CSMIA_attack_accuracy', 'LOMIA_attack_accuracy', 'imputation_accuracy', 'imputation_accuracy_ideal']]\n",
    "temp_df = temp_df[temp_df['correlation'] < -0.45]\n",
    "temp_df.index = temp_df['subgroup_val'].to_numpy()\n",
    "temp_df = temp_df.drop(['subgroup_val'], axis=1)\n",
    "temp_df = temp_df.drop(['Armed-Forces'], axis=0)"
   ]
  },
  {
   "cell_type": "code",
   "execution_count": 259,
   "metadata": {},
   "outputs": [
    {
     "data": {
      "text/html": [
       "<div>\n",
       "<style scoped>\n",
       "    .dataframe tbody tr th:only-of-type {\n",
       "        vertical-align: middle;\n",
       "    }\n",
       "\n",
       "    .dataframe tbody tr th {\n",
       "        vertical-align: top;\n",
       "    }\n",
       "\n",
       "    .dataframe thead th {\n",
       "        text-align: right;\n",
       "    }\n",
       "</style>\n",
       "<table border=\"1\" class=\"dataframe\">\n",
       "  <thead>\n",
       "    <tr style=\"text-align: right;\">\n",
       "      <th></th>\n",
       "      <th>correlation</th>\n",
       "      <th>CSMIA_attack_accuracy</th>\n",
       "      <th>LOMIA_attack_accuracy</th>\n",
       "      <th>imputation_accuracy</th>\n",
       "      <th>imputation_accuracy_ideal</th>\n",
       "    </tr>\n",
       "  </thead>\n",
       "  <tbody>\n",
       "    <tr>\n",
       "      <th>Adm-clerical</th>\n",
       "      <td>-0.511035</td>\n",
       "      <td>0.816065</td>\n",
       "      <td>0.816764</td>\n",
       "      <td>0.773458</td>\n",
       "      <td>0.808382</td>\n",
       "    </tr>\n",
       "    <tr>\n",
       "      <th>Prof-specialty</th>\n",
       "      <td>-0.539349</td>\n",
       "      <td>0.756631</td>\n",
       "      <td>0.765754</td>\n",
       "      <td>0.727562</td>\n",
       "      <td>0.769786</td>\n",
       "    </tr>\n",
       "    <tr>\n",
       "      <th>Tech-support</th>\n",
       "      <td>-0.553483</td>\n",
       "      <td>0.776000</td>\n",
       "      <td>0.775111</td>\n",
       "      <td>0.741333</td>\n",
       "      <td>0.743111</td>\n",
       "    </tr>\n",
       "  </tbody>\n",
       "</table>\n",
       "</div>"
      ],
      "text/plain": [
       "                correlation  CSMIA_attack_accuracy  LOMIA_attack_accuracy   \n",
       "Adm-clerical      -0.511035               0.816065               0.816764  \\\n",
       "Prof-specialty    -0.539349               0.756631               0.765754   \n",
       "Tech-support      -0.553483               0.776000               0.775111   \n",
       "\n",
       "                imputation_accuracy  imputation_accuracy_ideal  \n",
       "Adm-clerical               0.773458                   0.808382  \n",
       "Prof-specialty             0.727562                   0.769786  \n",
       "Tech-support               0.741333                   0.743111  "
      ]
     },
     "execution_count": 259,
     "metadata": {},
     "output_type": "execute_result"
    }
   ],
   "source": [
    "temp_df"
   ]
  },
  {
   "cell_type": "code",
   "execution_count": null,
   "metadata": {},
   "outputs": [],
   "source": []
  },
  {
   "cell_type": "code",
   "execution_count": 263,
   "metadata": {},
   "outputs": [
    {
     "data": {
      "image/png": "[encoded data removed]",
      "text/plain": [
       "<Figure size 900x400 with 1 Axes>"
      ]
     },
     "metadata": {},
     "output_type": "display_data"
    }
   ],
   "source": [
    "df = temp_df.copy()\n",
    "\n",
    "hatches = ['0..', '----', '....', '\\\\\\\\\\\\\\\\\\\\\\\\', '--..', '//////', 'o', 'O', '.', '*']\n",
    "alphas = [0.1, 0.9] * 4\n",
    "fontsize = 20\n",
    "colors = ['#FFFFFF', '#D3D3D3']\n",
    "\n",
    "# Plotting\n",
    "import matplotlib as mpl\n",
    "mpl.rcParams['font.family'] = 'Avenir'\n",
    "# Plotting\n",
    "fig, ax = plt.subplots(figsize=(9, 4))\n",
    "plt.grid(True, linewidth=0.5, axis='y', zorder=0)\n",
    "\n",
    "# Define the number of bars\n",
    "n_bars = len(df)\n",
    "\n",
    "# Define the width of each bar\n",
    "bar_width = 0.15\n",
    "\n",
    "# The positions of the bars on the x-axis\n",
    "bar_positions = np.arange(n_bars)\n",
    "\n",
    "# Create the bars for 'CSMIA_attack_accuracy'\n",
    "ax.bar(bar_positions - 3 * bar_width / 2, 100 * df['CSMIA_attack_accuracy'], width=bar_width, label='CSMIA', hatch=hatches[0], color=colors[0], edgecolor='black', linewidth=1.5, zorder=2)\n",
    "\n",
    "# Create the bars for 'CSMIA_attack_accuracy'\n",
    "ax.bar(bar_positions - bar_width/2, 100 * df['LOMIA_attack_accuracy'], width=bar_width, label='LOMIA', hatch=hatches[1], color=colors[1], edgecolor='black', linewidth=1.5, zorder=2)\n",
    "\n",
    "# Create the bars for 'imputation_accuracy'\n",
    "ax.bar(bar_positions + bar_width/2, 100 * df['imputation_accuracy'], width=bar_width, label='ImpP', hatch=hatches[2], color=colors[0], edgecolor='black', linewidth=1.5, zorder=2)\n",
    "\n",
    "# Create the bars for 'imputation_accuracy'\n",
    "ax.bar(bar_positions + 3* bar_width / 2, 100 * df['imputation_accuracy_ideal'], width=bar_width, label='ImpI', hatch=hatches[3], color=colors[1], edgecolor='black', linewidth=1.5, zorder=2)\n",
    "\n",
    "ax.set_ylim(65, 90)\n",
    "# Labeling the x-axis with job categories\n",
    "ax.set_xticks(bar_positions)\n",
    "ax.set_xticklabels(df.index, fontsize=fontsize, rotation=30, ha='right')\n",
    "\n",
    "ax.set_yticks(np.arange(70, 100, 10))\n",
    "ax.set_yticklabels([f'{i:.0f}%' for i in np.arange(70, 100, 10)], fontsize=fontsize)\n",
    "\n",
    "secax = ax.secondary_xaxis('top')\n",
    "\n",
    "# Set the ticks and labels for the secondary x-axis\n",
    "secax.set_xticks(bar_positions)\n",
    "secax.set_xticklabels([f'{correlation:.2f}' for correlation in df['correlation']], fontsize=fontsize)\n",
    "\n",
    "# Set labels and title\n",
    "# ax.set_xlabel('Job Category')\n",
    "# ax.set_ylabel('Accuracy')\n",
    "# ax.set_title('CSMIA Attack Accuracy vs Imputation Accuracy by Job Category')\n",
    "# ax.spines['top'].set_visible(False)\n",
    "# ax.spines['right'].set_visible(False)\n",
    "plt.legend(bbox_to_anchor=(0.5, 1.05), loc='upper center', ncol=len(df.columns), fontsize=fontsize, prop={'size': fontsize}, handlelength=0.9, handleheight=1.2, columnspacing=0.9, handletextpad=0.4)\n",
    "\n",
    "# Add a legend\n",
    "# ax.legend()\n",
    "\n",
    "# Show the plot\n",
    "plt.tight_layout()\n",
    "plt.show()"
   ]
  }
 ],
 "metadata": {
  "colab": {
   "provenance": []
  },
  "gpuClass": "standard",
  "kernelspec": {
   "display_name": "Python 3 (ipykernel)",
   "language": "python",
   "name": "python3"
  },
  "language_info": {
   "codemirror_mode": {
    "name": "ipython",
    "version": 3
   },
   "file_extension": ".py",
   "mimetype": "text/x-python",
   "name": "python",
   "nbconvert_exporter": "python",
   "pygments_lexer": "ipython3",
   "version": "3.9.16"
  }
 },
 "nbformat": 4,
 "nbformat_minor": 4
}

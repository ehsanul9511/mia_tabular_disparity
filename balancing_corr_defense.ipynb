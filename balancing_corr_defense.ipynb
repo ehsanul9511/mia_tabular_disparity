{
 "cells": [
  {
   "cell_type": "code",
   "execution_count": 1,
   "metadata": {},
   "outputs": [],
   "source": [
    "%load_ext autoreload\n",
    "%autoreload 2"
   ]
  },
  {
   "cell_type": "code",
   "execution_count": 2,
   "metadata": {},
   "outputs": [],
   "source": [
    "import warnings\n",
    "\n",
    "warnings.filterwarnings('ignore')"
   ]
  },
  {
   "cell_type": "code",
   "execution_count": 3,
   "metadata": {},
   "outputs": [],
   "source": [
    "from tqdm import tqdm\n",
    "import os\n",
    "import data_utils\n",
    "import model_utils\n",
    "from attack_utils import get_CSMIA_case_by_case_results, CSMIA_attack, LOMIA_attack\n",
    "from data_utils import oneHotCatVars, filter_random_data_by_conf_score\n",
    "from vulnerability_score_utils import get_vulnerability_score, draw_hist_plot\n",
    "from experiment_utils import MIAExperiment\n",
    "from disparity_inference_utils import get_confidence_array, draw_confidence_array_scatter, get_indices_by_group_condition, get_corr_btn_sens_and_out_per_subgroup, get_slopes, get_angular_difference, calculate_stds, get_mutual_info_btn_sens_and_out_per_subgroup\n",
    "import numpy as np\n",
    "import pandas as pd\n",
    "import torch\n",
    "import torch.nn as nn\n",
    "from sklearn.neural_network import MLPClassifier\n",
    "from sklearn.preprocessing import OneHotEncoder\n",
    "from sklearn.neural_network._base import ACTIVATIONS\n",
    "from sklearn.model_selection import train_test_split\n",
    "from sklearn.metrics.pairwise import euclidean_distances\n",
    "from sklearn.metrics import roc_curve, auc, roc_auc_score, accuracy_score, precision_score, recall_score, f1_score, confusion_matrix, classification_report\n",
    "from sklearn.decomposition import PCA\n",
    "from sklearn.inspection import permutation_importance\n",
    "from fairlearn.metrics import equalized_odds_difference, demographic_parity_difference\n",
    "import matplotlib.pyplot as plt\n",
    "import seaborn as sns\n",
    "import tabulate\n",
    "import pickle\n",
    "# import utils\n",
    "import copy\n",
    "\n",
    "import matplotlib as mpl\n",
    "\n",
    "# Setting the font family, size, and weight globally\n",
    "mpl.rcParams['font.family'] = 'DejaVu Sans'\n",
    "mpl.rcParams['font.size'] = 8\n",
    "mpl.rcParams['font.weight'] = 'light'"
   ]
  },
  {
   "cell_type": "code",
   "execution_count": 4,
   "metadata": {},
   "outputs": [
    {
     "name": "stdout",
     "output_type": "stream",
     "text": [
      "[0, 1]\n",
      "{0: {(0, 1): 8750, (0, 0): 3750, (1, 1): 3750, (1, 0): 8750}, 1: {(0, 1): 6875, (0, 0): 5625, (1, 1): 5625, (1, 0): 6875}}\n"
     ]
    },
    {
     "name": "stderr",
     "output_type": "stream",
     "text": [
      "100%|██████████| 2/2 [00:01<00:00,  1.63it/s]\n"
     ]
    },
    {
     "name": "stdout",
     "output_type": "stream",
     "text": [
      "{0: {(0, 1): 8750, (0, 0): 3750, (1, 1): 3750, (1, 0): 8750}, 1: {(0, 1): 8750, (0, 0): 3750, (1, 1): 3750, (1, 0): 8750}}\n"
     ]
    },
    {
     "name": "stderr",
     "output_type": "stream",
     "text": [
      "100%|██████████| 2/2 [00:01<00:00,  1.69it/s]\n"
     ]
    }
   ],
   "source": [
    "i = -0.4\n",
    "j = -0.1\n",
    "experiment = MIAExperiment(sampling_condition_dict_list = \n",
    "    {\n",
    "            'correlation': 0,\n",
    "            'subgroup_col_name': 'SEX',\n",
    "            'marginal_prior': 1,\n",
    "            'corr_btn_sens_and_output_per_subgroup': (i, j),\n",
    "            # 'fixed_corr_in_test_data': True\n",
    "    }, shortname = f\"Corr_btn_sens_and_output_for_male_({i})_for_female_({j})\"\n",
    ")"
   ]
  },
  {
   "cell_type": "code",
   "execution_count": 5,
   "metadata": {},
   "outputs": [
    {
     "name": "stdout",
     "output_type": "stream",
     "text": [
      "Training classifier for experiment: Census19_correlation_0_subgroup_col_name_SEX_marginal_prior_1_corr_btn_sens_and_output_per_subgroup_LPAREN-0.4, -0.1RPAREN\n",
      "Loaded classifier for experiment from file: Census19_correlation_0_subgroup_col_name_SEX_marginal_prior_1_corr_btn_sens_and_output_per_subgroup_LPAREN-0.4, -0.1RPAREN\n"
     ]
    }
   ],
   "source": [
    "save_model=True\n",
    "print(f\"Training classifier for experiment: {experiment}\")\n",
    "try:\n",
    "    experiment.clf_only_on_test = model_utils.load_model(f'<PATH_TO_MODEL>/{experiment.ds.ds.filenameroot}_target_model_only_on_test_dummy.pkl')\n",
    "    print(f\"Loaded classifier for experiment from file: {experiment}\")\n",
    "except:\n",
    "    # clf = model_utils.get_model(max_iter=500, hidden_layer_sizes=(256, 256))\n",
    "    base_model = model_utils.get_model(max_iter=500)\n",
    "    experiment.clf_only_on_test = copy.deepcopy(base_model)\n",
    "    experiment.clf_only_on_test.fit(experiment.X_test, experiment.y_te_onehot)\n",
    "\n",
    "    if save_model:\n",
    "        model_utils.save_model(experiment.clf_only_on_test, f'<PATH_TO_MODEL>/{experiment.ds.ds.filenameroot}_target_model_only_on_test_dummy.pkl')"
   ]
  },
  {
   "cell_type": "code",
   "execution_count": 26,
   "metadata": {},
   "outputs": [],
   "source": [
    "hidden_layer_size_tuples = [(64, 32, 16, 8), (32, 16, 8), (16, 8)]\n",
    "experiment.clfs={}\n",
    "\n",
    "for i, hidden_layer_size_tuple in enumerate(hidden_layer_size_tuples):\n",
    "    base_model = model_utils.get_model(max_iter=500, hidden_layer_sizes=hidden_layer_size_tuple)\n",
    "    clf = copy.deepcopy(base_model)\n",
    "    clf.fit(experiment.X_test, experiment.y_te_onehot)\n",
    "    experiment.clfs[hidden_layer_size_tuple] = clf\n",
    "    "
   ]
  },
  {
   "cell_type": "code",
   "execution_count": 43,
   "metadata": {},
   "outputs": [],
   "source": [
    "save_model = True\n",
    "\n",
    "from sklearn.tree import DecisionTreeClassifier\n",
    "\n",
    "clf = DecisionTreeClassifier(random_state=42, max_depth=7)\n",
    "clf.fit(experiment.X_test, experiment.y_te_onehot)\n",
    "experiment.clfs['DT'] = clf"
   ]
  },
  {
   "cell_type": "code",
   "execution_count": 40,
   "metadata": {},
   "outputs": [
    {
     "data": {
      "text/plain": [
       "[array([[0.7474842 , 0.2525158 ],\n",
       "        [0.27403532, 0.72596468],\n",
       "        [0.4626506 , 0.5373494 ],\n",
       "        ...,\n",
       "        [0.40529189, 0.59470811],\n",
       "        [0.40529189, 0.59470811],\n",
       "        [0.81881051, 0.18118949]]),\n",
       " array([[0.2525158 , 0.7474842 ],\n",
       "        [0.72596468, 0.27403532],\n",
       "        [0.5373494 , 0.4626506 ],\n",
       "        ...,\n",
       "        [0.59470811, 0.40529189],\n",
       "        [0.59470811, 0.40529189],\n",
       "        [0.18118949, 0.81881051]])]"
      ]
     },
     "execution_count": 40,
     "metadata": {},
     "output_type": "execute_result"
    }
   ],
   "source": [
    "clf.predict_proba(experiment.X_train)"
   ]
  },
  {
   "cell_type": "code",
   "execution_count": 94,
   "metadata": {},
   "outputs": [
    {
     "name": "stdout",
     "output_type": "stream",
     "text": [
      "[0, 1]\n",
      "[16666.0, 16666.0]\n",
      "{0: {(0, 1): 4583, (0, 0): 3749, (1, 1): 3750.0, (1, 0): 4584.0}, 1: {(0, 1): 4583, (0, 0): 3749, (1, 1): 3750.0, (1, 0): 4584.0}}\n"
     ]
    },
    {
     "name": "stderr",
     "output_type": "stream",
     "text": [
      "100%|██████████| 2/2 [00:00<00:00, 30.48it/s]\n"
     ]
    }
   ],
   "source": [
    "original_test_df = experiment.ds.ds.original_df[experiment.ds.ds.original_df['is_train']==0].copy().reset_index(drop=True).drop(['is_train'], axis=1)\n",
    "\n",
    "p = -0.1\n",
    "x = original_test_df[original_test_df['SEX']==0][['MAR', 'PINCP']].value_counts().to_numpy().min()\n",
    "n = (x * 4) // (1 + p)\n",
    "\n",
    "temp_indices = experiment.ds.ds.sample_data_matching_correlation(original_test_df, p1=-0.1, p2=-0.1, n=2*n, subgroup_col_name='SEX', transformed_already=True, return_indices_only=True)\n",
    "\n",
    "experiment.X_test_balanced_corr = experiment.X_test.loc[temp_indices].reset_index(drop=True)\n",
    "experiment.y_te_balanced_corr = experiment.y_te[temp_indices]\n",
    "experiment.y_te_onehot_balanced_corr = experiment.y_te_onehot[temp_indices]"
   ]
  },
  {
   "cell_type": "code",
   "execution_count": 33,
   "metadata": {},
   "outputs": [],
   "source": [
    "hidden_layer_size_tuples = [(64, 32, 16, 8), (32, 16, 8), (16, 8)]\n",
    "experiment.clfs_balanced_corr={}\n",
    "\n",
    "for i, hidden_layer_size_tuple in enumerate(hidden_layer_size_tuples):\n",
    "    base_model = model_utils.get_model(max_iter=500, hidden_layer_sizes=hidden_layer_size_tuple)\n",
    "    experiment.clfs_balanced_corr[hidden_layer_size_tuple] = copy.deepcopy(base_model)\n",
    "    experiment.clfs_balanced_corr[hidden_layer_size_tuple].fit(experiment.X_test_balanced_corr, experiment.y_te_onehot_balanced_corr)"
   ]
  },
  {
   "cell_type": "code",
   "execution_count": 45,
   "metadata": {},
   "outputs": [],
   "source": [
    "clf = DecisionTreeClassifier(random_state=42, max_depth=7)\n",
    "clf.fit(experiment.X_test_balanced_corr, experiment.y_te_onehot_balanced_corr)\n",
    "experiment.clfs_balanced_corr['DT'] = clf"
   ]
  },
  {
   "cell_type": "code",
   "execution_count": 98,
   "metadata": {},
   "outputs": [],
   "source": [
    "def get_perf(experiment, clf, X_test, y_te, X_train, y_tr,  \n",
    "    subgroup_col_name = 'SEX', indices=None):\n",
    "    if isinstance(clf, DecisionTreeClassifier):\n",
    "        y_tr_pred = np.argmax(clf.predict_proba(X_train)[1], axis=1)\n",
    "    else:\n",
    "        y_tr_pred = np.argmax(clf.predict_proba(X_train), axis=1)\n",
    "\n",
    "    subgroup_vals_tr = X_train[f'{subgroup_col_name}_1'].to_numpy().ravel().astype(int)\n",
    "    subgroup_vals_te = X_test[f'{subgroup_col_name}_1'].to_numpy().ravel()\n",
    "\n",
    "    sens_pred, case_indices = CSMIA_attack(clf, X_test, y_te, experiment.ds.ds.meta)\n",
    "    sens_pred_LOMIA = LOMIA_attack(experiment, clf, X_test, y_te, experiment.ds.ds.meta, indices=indices)\n",
    "    correct_indices = (sens_pred == X_test[[f'{experiment.ds.ds.meta[\"sensitive_column\"]}_1']].to_numpy().ravel())\n",
    "    correct_indices_LOMIA = (sens_pred_LOMIA == X_test[[f'{experiment.ds.ds.meta[\"sensitive_column\"]}_1']].to_numpy().ravel())\n",
    "\n",
    "    male_indices = np.where(subgroup_vals_tr==0)[0]\n",
    "    female_indices = np.where(subgroup_vals_tr==1)[0]\n",
    "    print(correct_indices_LOMIA[np.where(subgroup_vals_te==0)[0]].mean())\n",
    "    print(correct_indices_LOMIA[np.where(subgroup_vals_te==1)[0]].mean())\n",
    "    perf_dict = {\n",
    "        'ASRD_CSMIA': round(100 * np.ptp([correct_indices[subgroup_vals_te==i].mean() for i in [0, 1]]), 2),\n",
    "        'ASRD_LOMIA': round(100 * np.ptp([correct_indices_LOMIA[subgroup_vals_te==i].mean() for i in [0, 1]]), 2),\n",
    "        'EOD': round(equalized_odds_difference(y_tr.ravel(), y_tr_pred, sensitive_features=subgroup_vals_tr), 4),\n",
    "        'DPD': round(demographic_parity_difference(y_tr.ravel(), y_tr_pred, sensitive_features=subgroup_vals_tr), 4),\n",
    "        'MA_Male': 100 * accuracy_score(y_tr.ravel()[male_indices], y_tr_pred[male_indices]),\n",
    "        'MA_Female': 100 * accuracy_score(y_tr.ravel()[female_indices], y_tr_pred[female_indices])\n",
    "    }\n",
    "\n",
    "    return perf_dict\n"
   ]
  },
  {
   "cell_type": "code",
   "execution_count": 101,
   "metadata": {},
   "outputs": [
    {
     "name": "stdout",
     "output_type": "stream",
     "text": [
      "0.69872\n",
      "0.549\n",
      "0.5272410896435857\n",
      "0.5631825273010921\n"
     ]
    }
   ],
   "source": [
    "model_arch = hidden_layer_size_tuples[1]\n",
    "res_dict = {\n",
    "    'w/o BCorr': get_perf(experiment, experiment.clfs[model_arch], experiment.X_test, experiment.y_te, experiment.X_train, experiment.y_tr),\n",
    "    'w Bcorr': get_perf(experiment, experiment.clfs_balanced_corr[model_arch], experiment.X_test_balanced_corr, experiment.y_te_balanced_corr, experiment.X_train, experiment.y_tr, indices=temp_indices)\n",
    "}\n",
    "res_dict_df = pd.DataFrame.from_dict(res_dict, orient='index')"
   ]
  },
  {
   "cell_type": "code",
   "execution_count": 111,
   "metadata": {},
   "outputs": [
    {
     "data": {
      "text/plain": [
       "0.66664"
      ]
     },
     "execution_count": 111,
     "metadata": {},
     "output_type": "execute_result"
    }
   ],
   "source": [
    "experiment.X_test_balanced_corr.shape[0]/experiment.X_test.shape[0]"
   ]
  },
  {
   "cell_type": "code",
   "execution_count": 102,
   "metadata": {},
   "outputs": [
    {
     "data": {
      "text/html": [
       "<div>\n",
       "<style scoped>\n",
       "    .dataframe tbody tr th:only-of-type {\n",
       "        vertical-align: middle;\n",
       "    }\n",
       "\n",
       "    .dataframe tbody tr th {\n",
       "        vertical-align: top;\n",
       "    }\n",
       "\n",
       "    .dataframe thead th {\n",
       "        text-align: right;\n",
       "    }\n",
       "</style>\n",
       "<table border=\"1\" class=\"dataframe\">\n",
       "  <thead>\n",
       "    <tr style=\"text-align: right;\">\n",
       "      <th></th>\n",
       "      <th>ASRD_CSMIA</th>\n",
       "      <th>ASRD_LOMIA</th>\n",
       "      <th>EOD</th>\n",
       "      <th>DPD</th>\n",
       "      <th>MA_Male</th>\n",
       "      <th>MA_Female</th>\n",
       "    </tr>\n",
       "  </thead>\n",
       "  <tbody>\n",
       "    <tr>\n",
       "      <th>w/o BCorr</th>\n",
       "      <td>12.52</td>\n",
       "      <td>14.97</td>\n",
       "      <td>0.0674</td>\n",
       "      <td>0.0178</td>\n",
       "      <td>73.208</td>\n",
       "      <td>78.16</td>\n",
       "    </tr>\n",
       "    <tr>\n",
       "      <th>w Bcorr</th>\n",
       "      <td>2.06</td>\n",
       "      <td>3.59</td>\n",
       "      <td>0.0416</td>\n",
       "      <td>0.0015</td>\n",
       "      <td>73.888</td>\n",
       "      <td>77.90</td>\n",
       "    </tr>\n",
       "  </tbody>\n",
       "</table>\n",
       "</div>"
      ],
      "text/plain": [
       "           ASRD_CSMIA  ASRD_LOMIA     EOD     DPD  MA_Male  MA_Female\n",
       "w/o BCorr       12.52       14.97  0.0674  0.0178   73.208      78.16\n",
       "w Bcorr          2.06        3.59  0.0416  0.0015   73.888      77.90"
      ]
     },
     "execution_count": 102,
     "metadata": {},
     "output_type": "execute_result"
    }
   ],
   "source": [
    "res_dict_df"
   ]
  },
  {
   "cell_type": "code",
   "execution_count": 103,
   "metadata": {},
   "outputs": [
    {
     "name": "stdout",
     "output_type": "stream",
     "text": [
      "\\begin{tabular}{lrrrrrr}\n",
      "\\toprule\n",
      " & ASRD_CSMIA & ASRD_LOMIA & EOD & DPD & MA_Male & MA_Female \\\\\n",
      "\\midrule\n",
      "w/o BCorr & 12.520000 & 14.970000 & 0.067400 & 0.017800 & 73.208000 & 78.160000 \\\\\n",
      "w Bcorr & 2.060000 & 3.590000 & 0.041600 & 0.001500 & 73.888000 & 77.900000 \\\\\n",
      "\\bottomrule\n",
      "\\end{tabular}\n",
      "\n"
     ]
    }
   ],
   "source": [
    "print(res_dict_df.to_latex())"
   ]
  },
  {
   "cell_type": "code",
   "execution_count": 64,
   "metadata": {},
   "outputs": [
    {
     "data": {
      "text/plain": [
       "{'w/o BCorr': {'MA_Female': 78.16,\n",
       "  'MA_Male': 73.208,\n",
       "  'EOD': 0.06735999999999998,\n",
       "  'DPD': 0.017839999999999967,\n",
       "  'ASRD': 0.12524000000000002},\n",
       " 'w Bcorr': {'MA_Female': 77.9,\n",
       "  'MA_Male': 73.888,\n",
       "  'EOD': 0.04160000000000008,\n",
       "  'DPD': 0.0014800000000000368,\n",
       "  'ASRD': 0.020580823232929313}}"
      ]
     },
     "execution_count": 64,
     "metadata": {},
     "output_type": "execute_result"
    }
   ],
   "source": [
    "res_dict"
   ]
  },
  {
   "cell_type": "code",
   "execution_count": 106,
   "metadata": {},
   "outputs": [
    {
     "name": "stdout",
     "output_type": "stream",
     "text": [
      "(64, 32, 16, 8)\n",
      "(32, 16, 8)\n",
      "(16, 8)\n",
      "DT\n"
     ]
    }
   ],
   "source": [
    "for model_arch in experiment.clfs:\n",
    "    print(model_arch)"
   ]
  },
  {
   "cell_type": "code",
   "execution_count": 61,
   "metadata": {},
   "outputs": [
    {
     "name": "stdout",
     "output_type": "stream",
     "text": [
      "{'MA_Female': 77.164, 'MA_Male': 72.712, 'EOD': 0.057999999999999996, 'DPD': 0.013480000000000047, 'ASRD': 0.08372000000000002}\n",
      "{'MA_Female': 78.16, 'MA_Male': 73.208, 'EOD': 0.06735999999999998, 'DPD': 0.017839999999999967, 'ASRD': 0.12524000000000002}\n",
      "{'MA_Female': 78.99199999999999, 'MA_Male': 73.628, 'EOD': 0.06672, 'DPD': 0.013080000000000092, 'ASRD': 0.14991999999999994}\n",
      "{'MA_Female': 75.932, 'MA_Male': 72.348, 'EOD': 0.03735999999999995, 'DPD': 0.0015199999999999658, 'ASRD': 0.05384}\n"
     ]
    }
   ],
   "source": [
    "for model_arch in experiment.clfs:\n",
    "    print(get_perf(experiment, experiment.clfs[model_arch], experiment.X_test, experiment.y_te, experiment.X_train, experiment.y_tr))"
   ]
  },
  {
   "cell_type": "code",
   "execution_count": 110,
   "metadata": {},
   "outputs": [
    {
     "name": "stdout",
     "output_type": "stream",
     "text": [
      "0.5234609384375375\n",
      "0.5688227529101164\n",
      "{'ASRD_CSMIA': 1.37, 'ASRD_LOMIA': 4.54, 'EOD': 0.0493, 'DPD': 0.0047, 'MA_Male': 72.272, 'MA_Female': 76.728}\n",
      "0.5272410896435857\n",
      "0.5631825273010921\n",
      "{'ASRD_CSMIA': 2.06, 'ASRD_LOMIA': 3.59, 'EOD': 0.0416, 'DPD': 0.0015, 'MA_Male': 73.888, 'MA_Female': 77.9}\n",
      "0.4674186967478699\n",
      "0.49795991839673587\n",
      "{'ASRD_CSMIA': 0.46, 'ASRD_LOMIA': 3.05, 'EOD': 0.0494, 'DPD': 0.0172, 'MA_Male': 75.312, 'MA_Female': 78.532}\n",
      "0.4499579983199328\n",
      "0.4499579983199328\n",
      "{'ASRD_CSMIA': 0.46, 'ASRD_LOMIA': 0.0, 'EOD': 0.0353, 'DPD': 0.003, 'MA_Male': 72.38799999999999, 'MA_Female': 75.62}\n"
     ]
    }
   ],
   "source": [
    "for model_arch in experiment.clfs:\n",
    "    print(get_perf(experiment, experiment.clfs_balanced_corr[model_arch], experiment.X_test_balanced_corr, experiment.y_te_balanced_corr, experiment.X_train, experiment.y_tr, indices=temp_indices))"
   ]
  },
  {
   "cell_type": "code",
   "execution_count": 104,
   "metadata": {},
   "outputs": [
    {
     "data": {
      "text/plain": [
       "0.10008400408079707"
      ]
     },
     "execution_count": 104,
     "metadata": {},
     "output_type": "execute_result"
    }
   ],
   "source": [
    "get_corr_btn_sens_and_out_per_subgroup(experiment, experiment.X_test_balanced_corr, experiment.y_te_balanced_corr, {'SEX': 0})"
   ]
  }
 ],
 "metadata": {
  "kernelspec": {
   "display_name": "tabular",
   "language": "python",
   "name": "python3"
  },
  "language_info": {
   "codemirror_mode": {
    "name": "ipython",
    "version": 3
   },
   "file_extension": ".py",
   "mimetype": "text/x-python",
   "name": "python",
   "nbconvert_exporter": "python",
   "pygments_lexer": "ipython3",
   "version": "3.9.16"
  }
 },
 "nbformat": 4,
 "nbformat_minor": 2
}

{
 "cells": [
  {
   "cell_type": "code",
   "execution_count": 1,
   "metadata": {},
   "outputs": [],
   "source": [
    "%load_ext autoreload\n",
    "%autoreload 2"
   ]
  },
  {
   "cell_type": "code",
   "execution_count": 2,
   "metadata": {},
   "outputs": [],
   "source": [
    "import warnings\n",
    "\n",
    "warnings.filterwarnings('ignore')"
   ]
  },
  {
   "cell_type": "code",
   "execution_count": 3,
   "metadata": {},
   "outputs": [],
   "source": [
    "from tqdm import tqdm\n",
    "import os\n",
    "import data_utils\n",
    "import model_utils\n",
    "from model_utils import train_torch_model, test_torch_model, port_mlp_to_ch, port_ch_to_mlp, proxy_train_mlp, get_CSMIA_case_by_case_results, CSMIA_attack\n",
    "from data_utils import oneHotCatVars, filter_random_data_by_conf_score\n",
    "from whitebox_attack import neuron_output, make_neuron_output_data, roc_curve_plot, get_LOMIA_case_1_correct_examples, Top10CorrNeurons, wb_corr_attacks\n",
    "from disparate_vulnerability_utils import get_accuracy, get_indices_by_conditions, subgroup_vulnerability_distance_vector, subgroup_vulnerability_distance, get_subgroup_disparity, plot_subgroup_disparity, improved_subgroup_attack, get_subgroup_disparity_baseline, get_top_dist_indices, get_disparity_by_subgroup\n",
    "import shap\n",
    "import numpy as np\n",
    "import pandas as pd\n",
    "import torch\n",
    "import torch.nn as nn\n",
    "from sklearn.neural_network import MLPClassifier\n",
    "from sklearn.preprocessing import OneHotEncoder\n",
    "from sklearn.neural_network._base import ACTIVATIONS\n",
    "from sklearn.model_selection import train_test_split\n",
    "from sklearn.metrics.pairwise import euclidean_distances\n",
    "from sklearn.metrics import roc_curve, auc, roc_auc_score, accuracy_score, precision_score, recall_score, f1_score, confusion_matrix, classification_report\n",
    "from sklearn.decomposition import PCA\n",
    "from sklearn.inspection import permutation_importance\n",
    "import matplotlib.pyplot as plt\n",
    "import seaborn as sns\n",
    "import tabulate\n",
    "import pickle\n",
    "# import utils\n",
    "import copy\n",
    "\n",
    "import matplotlib as mpl\n",
    "\n",
    "# Setting the font family, size, and weight globally\n",
    "mpl.rcParams['font.family'] = 'DejaVu Sans'\n",
    "mpl.rcParams['font.size'] = 8\n",
    "mpl.rcParams['font.weight'] = 'light'"
   ]
  },
  {
   "cell_type": "code",
   "execution_count": 4,
   "metadata": {},
   "outputs": [],
   "source": [
    "class MIAExperiment:\n",
    "    def __init__(self, *args, **kwargs):\n",
    "        self.sampling_condition_dict = kwargs.get('sampling_condition_dict', None)\n",
    "        self.sensitive_column = kwargs.get('sensitive_column', 'MAR')\n",
    "\n",
    "        for key, value in kwargs.items():\n",
    "            setattr(self, key, value)\n",
    "\n",
    "        if not hasattr(self, 'name'):\n",
    "            self.name = 'Census19'\n",
    "        self.ds = data_utils.CensusWrapper(\n",
    "                    filter_prop=\"none\", ratio=float(0.5), split=\"all\", name=self.name, sampling_condition_dict=self.sampling_condition_dict, sensitive_column=self.sensitive_column,\n",
    "                    additional_meta=None)\n",
    "        (self.x_tr, self.y_tr), (self.x_te, self.y_te), self.cols = self.ds.load_data()\n",
    "        self.X_train = pd.DataFrame(self.x_tr, columns=self.cols)\n",
    "        self.X_test = pd.DataFrame(self.x_te, columns=self.cols)\n",
    "        self.y_tr_onehot = self.ds.ds.y_enc.transform(self.y_tr).toarray()\n",
    "        self.y_te_onehot = self.ds.ds.y_enc.transform(self.y_te).toarray()\n",
    "\n",
    "    def __str__(self):\n",
    "        return self.ds.ds.filenameroot\n",
    "    \n",
    "    def __repr__(self):\n",
    "        return self.ds.ds.filenameroot\n",
    "    \n",
    "    def get_value_count_report(self):\n",
    "        df = self.ds.ds.original_df\n",
    "        df = df[df['is_train'] == 1]\n",
    "        subgroup_values = df[self.subgroup_column].unique().tolist()\n",
    "        for value in subgroup_values:\n",
    "            print(f\"Subgroup: {value}\")\n",
    "            # print(df[df[self.subgroup_column] == value].columns)\n",
    "            # print(df[df[self.subgroup_column] == value][[self.sensitive_column, self.y_column]])\n",
    "            new_df = df[df[self.subgroup_column] == value][[self.sensitive_column, self.y_column]]\n",
    "            print(new_df.value_counts())\n",
    "            # print(df[df[self.subgroup_column == value]][[self.sensitive_column, self.y_column]].corr())\n",
    "\n",
    "\n",
    "    def get_mutual_information_between_sens_and_y(self):\n",
    "        df = self.ds.ds.original_df\n",
    "        df = df[df['is_train'] == 1]\n",
    "        subgroup_values = df[self.subgroup_column].unique().tolist()\n",
    "        mutual_info_dict = {}\n",
    "        for value in subgroup_values:\n",
    "            print(f\"Subgroup: {value}\")\n",
    "            # All the features except y column\n",
    "            X = df[df[self.subgroup_column] == value].drop([self.y_column], axis=1)\n",
    "            y = df[df[self.subgroup_column] == value][[self.y_column]]\n",
    "            # print(mutual_info_classif(X, y, discrete_features=True))\n",
    "            mutual_info_dict[value] = mutual_info_classif(X, y, discrete_features=True)\n",
    "        return mutual_info_dict"
   ]
  },
  {
   "cell_type": "code",
   "execution_count": 5,
   "metadata": {},
   "outputs": [
    {
     "name": "stdout",
     "output_type": "stream",
     "text": [
      "{0: {(0, 1): 8750, (0, 0): 3750, (1, 1): 3750, (1, 0): 8750}, 1: {(0, 1): 8750, (0, 0): 3750, (1, 1): 3750, (1, 0): 8750}}\n"
     ]
    },
    {
     "name": "stderr",
     "output_type": "stream",
     "text": [
      "100%|██████████| 2/2 [00:01<00:00,  1.66it/s]\n"
     ]
    },
    {
     "name": "stdout",
     "output_type": "stream",
     "text": [
      "{0: {(0, 1): 8125, (0, 0): 4375, (1, 1): 4375, (1, 0): 8125}, 1: {(0, 1): 8125, (0, 0): 4375, (1, 1): 4375, (1, 0): 8125}}\n"
     ]
    },
    {
     "name": "stderr",
     "output_type": "stream",
     "text": [
      "100%|██████████| 2/2 [00:01<00:00,  1.72it/s]\n"
     ]
    },
    {
     "name": "stdout",
     "output_type": "stream",
     "text": [
      "{0: {(0, 1): 8437, (0, 0): 4062, (1, 1): 4063, (1, 0): 8438}, 1: {(0, 1): 8437, (0, 0): 4062, (1, 1): 4063, (1, 0): 8438}}\n"
     ]
    },
    {
     "name": "stderr",
     "output_type": "stream",
     "text": [
      "100%|██████████| 2/2 [00:01<00:00,  1.75it/s]\n"
     ]
    },
    {
     "name": "stdout",
     "output_type": "stream",
     "text": [
      "{0: {(0, 1): 8125, (0, 0): 4375, (1, 1): 4375, (1, 0): 8125}, 1: {(0, 1): 8125, (0, 0): 4375, (1, 1): 4375, (1, 0): 8125}}\n"
     ]
    },
    {
     "name": "stderr",
     "output_type": "stream",
     "text": [
      "100%|██████████| 2/2 [00:01<00:00,  1.76it/s]\n"
     ]
    },
    {
     "name": "stdout",
     "output_type": "stream",
     "text": [
      "{0: {(0, 1): 8125, (0, 0): 4375, (1, 1): 4375, (1, 0): 8125}, 1: {(0, 1): 8125, (0, 0): 4375, (1, 1): 4375, (1, 0): 8125}}\n"
     ]
    },
    {
     "name": "stderr",
     "output_type": "stream",
     "text": [
      "100%|██████████| 2/2 [00:01<00:00,  1.72it/s]\n"
     ]
    },
    {
     "name": "stdout",
     "output_type": "stream",
     "text": [
      "{0: {(0, 1): 8125, (0, 0): 4375, (1, 1): 4375, (1, 0): 8125}, 1: {(0, 1): 8125, (0, 0): 4375, (1, 1): 4375, (1, 0): 8125}}\n"
     ]
    },
    {
     "name": "stderr",
     "output_type": "stream",
     "text": [
      "100%|██████████| 2/2 [00:01<00:00,  1.76it/s]\n"
     ]
    },
    {
     "name": "stdout",
     "output_type": "stream",
     "text": [
      "{0: {(0, 1): 7812, (0, 0): 4687, (1, 1): 4688, (1, 0): 7813}, 1: {(0, 1): 7812, (0, 0): 4687, (1, 1): 4688, (1, 0): 7813}}\n"
     ]
    },
    {
     "name": "stderr",
     "output_type": "stream",
     "text": [
      "100%|██████████| 2/2 [00:01<00:00,  1.76it/s]\n"
     ]
    },
    {
     "name": "stdout",
     "output_type": "stream",
     "text": [
      "{0: {(0, 1): 8125, (0, 0): 4375, (1, 1): 4375, (1, 0): 8125}, 1: {(0, 1): 8125, (0, 0): 4375, (1, 1): 4375, (1, 0): 8125}}\n"
     ]
    },
    {
     "name": "stderr",
     "output_type": "stream",
     "text": [
      "100%|██████████| 2/2 [00:01<00:00,  1.76it/s]\n"
     ]
    },
    {
     "name": "stdout",
     "output_type": "stream",
     "text": [
      "{0: {(0, 1): 7500, (0, 0): 5000, (1, 1): 5000, (1, 0): 7500}, 1: {(0, 1): 7500, (0, 0): 5000, (1, 1): 5000, (1, 0): 7500}}\n"
     ]
    },
    {
     "name": "stderr",
     "output_type": "stream",
     "text": [
      "100%|██████████| 2/2 [00:01<00:00,  1.73it/s]\n"
     ]
    },
    {
     "name": "stdout",
     "output_type": "stream",
     "text": [
      "{0: {(0, 1): 8125, (0, 0): 4375, (1, 1): 4375, (1, 0): 8125}, 1: {(0, 1): 8125, (0, 0): 4375, (1, 1): 4375, (1, 0): 8125}}\n"
     ]
    },
    {
     "name": "stderr",
     "output_type": "stream",
     "text": [
      "100%|██████████| 2/2 [00:01<00:00,  1.75it/s]\n"
     ]
    }
   ],
   "source": [
    "experiments = { f\"corr_btn_sens_and_out_{(i, j)}\":  MIAExperiment(sampling_condition_dict = \n",
    "    {\n",
    "            'correlation': 0,\n",
    "            'subgroup_col_name': 'SEX',\n",
    "            'marginal_prior': 1,\n",
    "            'corr_btn_sens_and_output_per_subgroup': (i, j),\n",
    "            # 'fixed_corr_in_test_data': True\n",
    "    }, shortname = f\"Corr_btn_sens_and_output_for_male_({i})_for_female_({j})\"\n",
    ") for (i, j) in [(k, k) for k in [-0.4, -0.35, -0.3, -0.25, -0.2][:]]}\n",
    "# ) for i in [-0.4, -0.3, -0.2, -0.1, 0][:1] for j in [-0.4, -0.3, -0.2, -0.1, 0][3:4]}"
   ]
  },
  {
   "cell_type": "code",
   "execution_count": 6,
   "metadata": {},
   "outputs": [
    {
     "name": "stdout",
     "output_type": "stream",
     "text": [
      "Training classifier for experiment: Census19_correlation_0_subgroup_col_name_SEX_marginal_prior_1_corr_btn_sens_and_output_per_subgroup_LPAREN-0.4, -0.4RPAREN\n",
      "Training classifier for experiment: Census19_correlation_0_subgroup_col_name_SEX_marginal_prior_1_corr_btn_sens_and_output_per_subgroup_LPAREN-0.35, -0.35RPAREN\n",
      "Training classifier for experiment: Census19_correlation_0_subgroup_col_name_SEX_marginal_prior_1_corr_btn_sens_and_output_per_subgroup_LPAREN-0.3, -0.3RPAREN\n",
      "Training classifier for experiment: Census19_correlation_0_subgroup_col_name_SEX_marginal_prior_1_corr_btn_sens_and_output_per_subgroup_LPAREN-0.25, -0.25RPAREN\n",
      "Training classifier for experiment: Census19_correlation_0_subgroup_col_name_SEX_marginal_prior_1_corr_btn_sens_and_output_per_subgroup_LPAREN-0.2, -0.2RPAREN\n"
     ]
    }
   ],
   "source": [
    "save_model = False\n",
    "\n",
    "for experiment_key in experiments:\n",
    "    experiment = experiments[experiment_key]\n",
    "    print(f\"Training classifier for experiment: {experiment}\")\n",
    "    try:\n",
    "        experiment.clf_only_on_test = model_utils.load_model(f'<PATH_TO_MODEL>/{experiment.ds.ds.filenameroot}_target_model_only_on_test_dummy_2.pkl')\n",
    "        print(f\"Loaded classifier for experiment from file: {experiment}\")\n",
    "    except:\n",
    "        # clf = model_utils.get_model(max_iter=500, hidden_layer_sizes=(256, 256))\n",
    "        base_model = model_utils.get_model(max_iter=500)\n",
    "        experiment.clf_only_on_test = copy.deepcopy(base_model)\n",
    "        experiment.clf_only_on_test.fit(experiment.X_test, experiment.y_te_onehot)\n",
    "\n",
    "        if save_model:\n",
    "            model_utils.save_model(experiment.clf_only_on_test, f'<PATH_TO_MODEL>/{experiment.ds.ds.filenameroot}_target_model_only_on_test_dummy.pkl')"
   ]
  },
  {
   "cell_type": "code",
   "execution_count": 7,
   "metadata": {},
   "outputs": [
    {
     "name": "stdout",
     "output_type": "stream",
     "text": [
      "Corr_btn_sens_and_output_for_male_(-0.4)_for_female_(-0.4)\n",
      "                              1                0  Overall\n",
      "Case 1           4610 (71.3449)   4197 (69.1446)  70.2964\n",
      "Case 2          17704 (70.4417)  17666 (71.5385)  70.9895\n",
      "Case 3           2686 (63.3656)   3137 (57.9216)  60.4328\n",
      "Case All Cases   25000 (69.848)   25000 (69.428)  69.6380\n",
      "Corr_btn_sens_and_output_for_male_(-0.35)_for_female_(-0.35)\n",
      "                              1                0  Overall\n",
      "Case 1           3723 (67.6873)   3107 (67.0743)  67.4085\n",
      "Case 2          18380 (63.0631)  18320 (63.2806)  63.1717\n",
      "Case 3           2897 (60.6835)   3573 (57.4867)  58.9181\n",
      "Case All Cases   25000 (63.476)   25000 (62.924)  63.2000\n",
      "Corr_btn_sens_and_output_for_male_(-0.3)_for_female_(-0.3)\n",
      "                              1                0  Overall\n",
      "Case 1           3376 (67.5355)   2854 (66.8886)  67.2392\n",
      "Case 2          18454 (63.8507)  18302 (63.2554)  63.5542\n",
      "Case 3           3170 (60.8517)   3844 (56.9459)  58.7111\n",
      "Case All Cases   25000 (63.968)     25000 (62.7)  63.3340\n",
      "Corr_btn_sens_and_output_for_male_(-0.25)_for_female_(-0.25)\n",
      "                              1                0  Overall\n",
      "Case 1           2531 (68.3129)   2579 (67.5456)  67.9256\n",
      "Case 2          18976 (61.6305)  18398 (59.2999)  60.4832\n",
      "Case 3           3493 (59.0896)   4023 (59.0853)  59.0873\n",
      "Case All Cases   25000 (61.952)   25000 (60.116)  61.0340\n",
      "Corr_btn_sens_and_output_for_male_(-0.2)_for_female_(-0.2)\n",
      "                              1                0  Overall\n",
      "Case 1           2222 (66.6067)   2404 (66.7637)  66.6883\n",
      "Case 2          19139 (59.4336)  18445 (56.4272)  57.9582\n",
      "Case 3           3639 (59.0272)   4151 (59.6965)  59.3838\n",
      "Case All Cases   25000 (60.012)   25000 (57.964)  58.9880\n"
     ]
    }
   ],
   "source": [
    "for experiment_key in experiments:\n",
    "    experiment = experiments[experiment_key]\n",
    "    print(experiment.shortname)\n",
    "    print(get_CSMIA_case_by_case_results(experiment.clf_only_on_test, experiment.X_test, experiment.y_te, experiment.ds, 'SEX', metric='accuracy'))"
   ]
  },
  {
   "cell_type": "code",
   "execution_count": 8,
   "metadata": {},
   "outputs": [],
   "source": [
    "def inv_attack_training(experiment, df):\n",
    "    X_attack, y_sens = experiment.ds.ds.get_attack_df(df)\n",
    "    # Convert X to float\n",
    "    X_attack = X_attack.astype(float)\n",
    "    y_sens_onehot = experiment.ds.ds.sensitive_enc.transform(y_sens.to_numpy().ravel().reshape(-1, 1)).toarray()\n",
    "\n",
    "    x_tr, x_te, y_tr, y_te = train_test_split(X_attack, y_sens_onehot, test_size=0.1, random_state=42)\n",
    "\n",
    "    inv_clf = model_utils.get_model(max_iter=500)\n",
    "    inv_clf.fit(x_tr, y_tr)\n",
    "    # inv_clf = model_utils.proxy_train_mlp(x_tr.to_numpy(), y_tr, epochs=100)\n",
    "    # inv_clfs[test_size] = inv_clf\n",
    "\n",
    "    acc = 100 * inv_clf.score(x_te, y_te)\n",
    "    print(f'Inverse accuracy with test size : {acc}')\n",
    "\n",
    "    return inv_clf\n"
   ]
  },
  {
   "cell_type": "code",
   "execution_count": 9,
   "metadata": {},
   "outputs": [],
   "source": [
    "def whitebox_neuron_attack(experiment):\n",
    "    original_df_onehot = experiment.ds.ds.df.copy()\n",
    "\n",
    "    original_df_onehot = original_df_onehot[original_df_onehot[\"is_train\"]==0].drop(\"is_train\", axis=1)\n",
    "\n",
    "    X_attack_orig, y_sens_orig = experiment.ds.ds.get_attack_df(original_df_onehot)\n",
    "    X_attack_orig = X_attack_orig.astype(float)\n",
    "\n",
    "    x_tr, x_te, y_tr, y_te = train_test_split(X_attack_orig, y_sens_orig, test_size=0.9, random_state=42)\n",
    "    clf = experiment.clf_only_on_test\n",
    "    x_n_tr = make_neuron_output_data(experiment.ds, x_tr, clf, experiment.ds.ds.y_columns)\n",
    "    x_n_te = make_neuron_output_data(experiment.ds, x_te, clf, experiment.ds.ds.y_columns)\n",
    "\n",
    "    top_10_corr_neurons_model = wb_corr_attacks(x_n_tr, y_tr)\n",
    "\n",
    "    result_dict = get_disparity_by_subgroup(attack_type='NEUR_IMP', ds=experiment.ds, subgroup_columns=['SEX'], X_att_query=X_attack_orig, y_att_query=y_sens_orig, metric='accuracy', clf=top_10_corr_neurons_model, df=X_attack_orig, MLP=clf)\n",
    "    return result_dict"
   ]
  },
  {
   "cell_type": "code",
   "execution_count": 10,
   "metadata": {},
   "outputs": [
    {
     "name": "stdout",
     "output_type": "stream",
     "text": [
      "Corr_btn_sens_and_output_for_male_(-0.4)_for_female_(-0.4)\n",
      "{'SEX': {0: 61.919999999999995, 1: 61.675999999999995, 'original': 61.797999999999995}}\n",
      "Corr_btn_sens_and_output_for_male_(-0.35)_for_female_(-0.35)\n",
      "{'SEX': {0: 62.148, 1: 60.868, 'original': 61.507999999999996}}\n",
      "Corr_btn_sens_and_output_for_male_(-0.3)_for_female_(-0.3)\n",
      "{'SEX': {0: 63.332, 1: 61.480000000000004, 'original': 62.40599999999999}}\n",
      "Corr_btn_sens_and_output_for_male_(-0.25)_for_female_(-0.25)\n",
      "{'SEX': {0: 61.980000000000004, 1: 59.275999999999996, 'original': 60.62800000000001}}\n",
      "Corr_btn_sens_and_output_for_male_(-0.2)_for_female_(-0.2)\n",
      "{'SEX': {0: 60.992000000000004, 1: 58.272, 'original': 59.632}}\n"
     ]
    }
   ],
   "source": [
    "for experiment_key in experiments:\n",
    "    experiment = experiments[experiment_key]\n",
    "    print(experiment.shortname)\n",
    "    print(whitebox_neuron_attack(experiment))"
   ]
  },
  {
   "cell_type": "code",
   "execution_count": 95,
   "metadata": {},
   "outputs": [],
   "source": [
    "original_df_onehot = experiment.ds.ds.df.copy()\n",
    "\n",
    "original_df_onehot = original_df_onehot[original_df_onehot[\"is_train\"]==0].drop(\"is_train\", axis=1)"
   ]
  },
  {
   "cell_type": "code",
   "execution_count": 109,
   "metadata": {},
   "outputs": [],
   "source": [
    "X_attack_orig, y_sens_orig = experiment.ds.ds.get_attack_df(original_df_onehot)\n",
    "X_attack_orig = X_attack_orig.astype(float)"
   ]
  },
  {
   "cell_type": "code",
   "execution_count": 110,
   "metadata": {},
   "outputs": [],
   "source": [
    "x_tr, x_te, y_tr, y_te = train_test_split(X_attack_orig, y_sens_orig, test_size=0.9, random_state=42)\n",
    "clf = experiment.clf_only_on_test\n",
    "x_n_tr = make_neuron_output_data(experiment.ds, x_tr, clf, experiment.ds.ds.y_columns)\n",
    "x_n_te = make_neuron_output_data(experiment.ds, x_te, clf, experiment.ds.ds.y_columns)\n",
    "\n",
    "top_10_corr_neurons_model = wb_corr_attacks(x_n_tr, y_tr)"
   ]
  },
  {
   "cell_type": "code",
   "execution_count": 118,
   "metadata": {},
   "outputs": [
    {
     "data": {
      "text/plain": [
       "{'SEX': {0: 61.775999999999996, 1: 61.251999999999995, 'original': 61.514}}"
      ]
     },
     "execution_count": 118,
     "metadata": {},
     "output_type": "execute_result"
    }
   ],
   "source": [
    "get_disparity_by_subgroup(attack_type='NEUR_IMP', ds=experiment.ds, subgroup_columns=['SEX'], X_att_query=X_attack_orig, y_att_query=y_sens_orig, metric='accuracy', clf=top_10_corr_neurons_model, df=X_attack_orig, MLP=clf)"
   ]
  },
  {
   "cell_type": "code",
   "execution_count": 97,
   "metadata": {},
   "outputs": [],
   "source": [
    "aux_df_onehot = experiment.ds.ds.df.copy()\n",
    "\n",
    "aux_df_onehot = aux_df_onehot[aux_df_onehot[\"is_train\"]==1].drop(\"is_train\", axis=1)"
   ]
  },
  {
   "cell_type": "code",
   "execution_count": 98,
   "metadata": {},
   "outputs": [],
   "source": [
    "X_attack, y_sens = experiment.ds.ds.get_attack_df(aux_df_onehot)"
   ]
  },
  {
   "cell_type": "code",
   "execution_count": 103,
   "metadata": {},
   "outputs": [
    {
     "name": "stdout",
     "output_type": "stream",
     "text": [
      "Inverse accuracy with test size : 62.18\n"
     ]
    }
   ],
   "source": [
    "experiment.inv_clf = inv_attack_training(experiment, aux_df_onehot)"
   ]
  },
  {
   "cell_type": "code",
   "execution_count": 100,
   "metadata": {},
   "outputs": [],
   "source": [
    "X_attack_orig, _ = experiment.ds.ds.get_attack_df(original_df_onehot)"
   ]
  },
  {
   "cell_type": "code",
   "execution_count": 104,
   "metadata": {},
   "outputs": [],
   "source": [
    "sens_pred_inv_att = np.argmax(experiment.inv_clf.predict(X_attack_orig), axis=1)"
   ]
  },
  {
   "cell_type": "code",
   "execution_count": 105,
   "metadata": {},
   "outputs": [
    {
     "data": {
      "text/plain": [
       "0.33966"
      ]
     },
     "execution_count": 105,
     "metadata": {},
     "output_type": "execute_result"
    }
   ],
   "source": [
    "np.mean(original_df_onehot['MAR_1'].to_numpy()==sens_pred_inv_att)"
   ]
  },
  {
   "cell_type": "code",
   "execution_count": 44,
   "metadata": {},
   "outputs": [],
   "source": [
    "def get_corr_btn_sens_and_out_for_indices(X, y, indices):\n",
    "    X_new = X.loc[indices]\n",
    "    y_new = y[indices]\n",
    "    X_new = X_new[['MAR_1']].to_numpy().ravel()\n",
    "    y_new = y_new.ravel()\n",
    "    return np.corrcoef(X_new, y_new)[0, 1]\n",
    "\n",
    "def get_percentage_of_same_sens_val_among_dist_k_neighbours(X, y, dist_matrix, index, k=3):\n",
    "    dist_2_neighbours = dist_matrix[index] <= k\n",
    "    orig_sens_val = X.iloc[index][f'{experiment.ds.ds.meta[\"sensitive_column\"]}_1']\n",
    "    return (X.iloc[dist_2_neighbours][f'{experiment.ds.ds.meta[\"sensitive_column\"]}_1'] == orig_sens_val).mean()\n",
    "\n",
    "# def find_neighbors_within_k_in_train(orig_df, aux_df, index, orig_sens_pred, k=4):\n",
    "#     test_df = orig_df.copy()\n",
    "#     test_df.loc[index, experiment.sensitive_column] = orig_sens_pred\n",
    "#     # test_df = test_df.drop([experiment.sensitive_column], axis=1)\n",
    "#     test_df = test_df.drop([experiment.y_column], axis=1)\n",
    "\n",
    "#     train_df = aux_df.copy()\n",
    "#     # train_df = train_df.drop([experiment.sensitive_column], axis=1)\n",
    "#     train_df = train_df.drop([experiment.y_column], axis=1)\n",
    "\n",
    "#     temp_np = train_df.to_numpy()[:50000, :]\n",
    "#     temp_np = temp_np.astype(np.float32)\n",
    "#     temp_np_1 = np.expand_dims(temp_np, 0)\n",
    "\n",
    "#     temp_np = test_df.to_numpy()[index:index+1, :]\n",
    "#     # temp_np[:, 3] = orig_sens_pred\n",
    "#     temp_np = temp_np.astype(np.float32)\n",
    "#     temp_np_2 = np.expand_dims(temp_np, 1)\n",
    "    \n",
    "#     dist_matrix = np.count_nonzero(temp_np_1 - temp_np_2, axis=2).ravel()\n",
    "#     # print(dist_matrix)\n",
    "    \n",
    "#     return dist_matrix <= k\n",
    "\n",
    "def find_neighbors_within_k_in_train(orig_df, aux_df, index, orig_sens_pred, k=4):\n",
    "    train_df = orig_df.copy()\n",
    "    # train_df.loc[index, experiment.sensitive_column] = orig_sens_pred\n",
    "    train_df = train_df.drop([experiment.y_column], axis=1)\n",
    "\n",
    "    # test_df = aux_df.copy()\n",
    "    train_df = train_df.drop([experiment.sensitive_column], axis=1)\n",
    "    # train_df = train_df.drop([experiment.y_column], axis=1)\n",
    "\n",
    "    # aux_np = aux_df.drop([experiment.y_column], axis=1).to_numpy()\n",
    "    aux_np = aux_df.drop([experiment.y_column, experiment.sensitive_column], axis=1).to_numpy()\n",
    "    aux_np = aux_np.astype(np.float32)\n",
    "    aux_np = np.expand_dims(aux_np, 0)\n",
    "\n",
    "    temp_np = train_df.to_numpy()[index:index+1, :]\n",
    "    # temp_np[:, 3] = orig_sens_pred\n",
    "    temp_np = temp_np.astype(np.float32)\n",
    "    temp_np_2 = np.expand_dims(temp_np, 1)\n",
    "    \n",
    "    dist_matrix = np.count_nonzero(aux_np - temp_np_2, axis=2).ravel()\n",
    "    # print(dist_matrix)\n",
    "    \n",
    "    return dist_matrix <= k\n",
    "\n",
    "def get_percentage_of_same_sens_val_among_dist_k_neighbours_in_aux_data(X, y, orig_df, aux_df, orig_sens_pred, orig_y, index, k=4):\n",
    "    dist_2_neighbours = find_neighbors_within_k_in_train(orig_df, aux_df, index, orig_sens_pred, k=k)\n",
    "    # print(np.where(dist_2_neighbours)[0][:50])\n",
    "    dist_2_neighbours_y_values = y[dist_2_neighbours].ravel().astype(np.float)\n",
    "    dist_2_neighbours_w_same_y_indices = (orig_y == dist_2_neighbours_y_values)\n",
    "    # print(dist_2_neighbours)\n",
    "    # print(orig_sens_pred)\n",
    "    # orig_sens_val = X.iloc[index][f'{experiment.ds.ds.meta[\"sensitive_column\"]}_1']\n",
    "    # return (X.iloc[dist_2_neighbours][f'{experiment.ds.ds.meta[\"sensitive_column\"]}_1'] == orig_sens_pred).mean()\n",
    "    return (X.iloc[dist_2_neighbours].iloc[dist_2_neighbours_w_same_y_indices][f'{experiment.ds.ds.meta[\"sensitive_column\"]}_1'] == orig_sens_pred).mean()\n",
    "\n",
    "# def get_percentage_of_same_sens_val_among_dist_k_neighbours(X, y, dist_matrix, index, k=3):\n",
    "#     dist_2_neighbours = dist_matrix[index] <= k\n",
    "#     X_temp = X.iloc[dist_2_neighbours]\n",
    "#     orig_y = y[index]\n",
    "#     dist_2_neighbours_y_values = y[dist_2_neighbours].ravel().astype(np.float)\n",
    "#     # print(dist_2_neighbours_y_values)\n",
    "#     dist_2_neighbours_w_same_y_indices = (orig_y == dist_2_neighbours_y_values)\n",
    "#     orig_sens_val = X.iloc[index][f'{experiment.ds.ds.meta[\"sensitive_column\"]}_1']\n",
    "#     return (X_temp.iloc[dist_2_neighbours_w_same_y_indices][f'{experiment.ds.ds.meta[\"sensitive_column\"]}_1'] == orig_sens_val).mean()\n",
    "\n",
    "def get_percentage_of_same_y_among_dist_k_neighbours(X, y, dist_matrix, index, k=3):\n",
    "    dist_2_neighbours = dist_matrix[index] <= k\n",
    "    X_temp = X.iloc[dist_2_neighbours]\n",
    "    orig_y = y[index]\n",
    "    dist_2_neighbours_y_values = y[dist_2_neighbours].ravel().astype(np.float)\n",
    "    return np.mean(dist_2_neighbours_y_values == orig_y)\n",
    "\n",
    "def get_percentage_of_neighbors_with_dominant_sens_val_pred_by_CSMIA_among_dist_k_neighbours(X, y, sens_pred, case_indices, index, k=3):\n",
    "    dist_2_neighbours = experiment.dist_matrix[index] <= k\n",
    "    dominant_sens_val = np.sum(sens_pred[dist_2_neighbours] == 1) > np.sum(sens_pred[dist_2_neighbours] == 0)\n",
    "    return np.mean(sens_pred[dist_2_neighbours] == dominant_sens_val)\n",
    "\n",
    "def get_corr_btn_sens_and_out_among_dist_k_neighbours(X, y, dist_matrix, index, k=3):\n",
    "    dist_2_neighbours = dist_matrix[index] <= k\n",
    "    try:\n",
    "        return get_corr_btn_sens_and_out_for_indices(X, y, dist_2_neighbours)\n",
    "    except:\n",
    "        return np.nan"
   ]
  },
  {
   "cell_type": "code",
   "execution_count": 48,
   "metadata": {},
   "outputs": [
    {
     "name": "stdout",
     "output_type": "stream",
     "text": [
      "0.2559366754617414\n"
     ]
    }
   ],
   "source": [
    "index = case_2_correct_indices[2]\n",
    "\n",
    "print(get_percentage_of_same_sens_val_among_dist_k_neighbours_in_aux_data(experiment.X_random, experiment.y_random, original_df, experiment.X_random_df, sens_pred[index], experiment.y_te[index], index, k=5))"
   ]
  },
  {
   "cell_type": "code",
   "execution_count": 49,
   "metadata": {},
   "outputs": [
    {
     "name": "stdout",
     "output_type": "stream",
     "text": [
      "0.6962962962962963\n"
     ]
    }
   ],
   "source": [
    "index = case_2_incorrect_indices[1]\n",
    "\n",
    "print(get_percentage_of_same_sens_val_among_dist_k_neighbours_in_aux_data(experiment.X_random, experiment.y_random, original_df, experiment.X_random_df, sens_pred[index], experiment.y_te[index], index, k=5))"
   ]
  },
  {
   "cell_type": "code",
   "execution_count": 50,
   "metadata": {},
   "outputs": [],
   "source": [
    "# compare the percentage of same sensitive value among k neighbours for correct and incorrect examples of case 1\n",
    "k = 5\n",
    "perc_same_sens_val_correct = np.array([get_percentage_of_same_sens_val_among_dist_k_neighbours_in_aux_data(experiment.X_random, experiment.y_random, original_df, experiment.X_random_df, sens_pred[index], experiment.y_te[index], index, k=k) for index in case_1_correct_indices[:]])\n",
    "perc_same_sens_val_incorrect = np.array([get_percentage_of_same_sens_val_among_dist_k_neighbours_in_aux_data(experiment.X_random, experiment.y_random, original_df, experiment.X_random_df, sens_pred[index], experiment.y_te[index], index, k=k) for index in case_1_incorrect_indices[:]])"
   ]
  },
  {
   "cell_type": "code",
   "execution_count": 51,
   "metadata": {},
   "outputs": [
    {
     "data": {
      "image/png": "[encoded data removed]",
      "text/plain": [
       "<Figure size 640x480 with 1 Axes>"
      ]
     },
     "metadata": {},
     "output_type": "display_data"
    }
   ],
   "source": [
    "# sns.kdeplot(perc_same_sens_val_correct, label='Correctly predicted examples')\n",
    "# sns.kdeplot(perc_same_sens_val_incorrect, label='Incorrectly predicted examples')\n",
    "sns.histplot(perc_same_sens_val_correct, label='Correctly predicted examples', color='blue', element='bars', stat='count', bins=25)\n",
    "sns.histplot(perc_same_sens_val_incorrect, label='Incorrectly predicted examples', color='red', element='bars', stat='count', bins=25)\n",
    "plt.xlabel('Predicted neighborhood similarity')\n",
    "plt.ylabel('Count')\n",
    "plt.title('Distribution of Predicted neighborhood similarity among k=4 dist neighbours from synthetic data for case 1 examples')\n",
    "plt.legend()\n",
    "plt.show()"
   ]
  },
  {
   "cell_type": "code",
   "execution_count": 19,
   "metadata": {},
   "outputs": [],
   "source": [
    "experiment.dist_matrix = experiment.dist_matrix.T"
   ]
  },
  {
   "cell_type": "code",
   "execution_count": 21,
   "metadata": {},
   "outputs": [],
   "source": [
    "sens_pred_random, _ = CSMIA_attack(experiment.clf_only_on_test, experiment.X_random.iloc[:50000], experiment.y_random[:50000], experiment.ds.ds.meta)"
   ]
  },
  {
   "cell_type": "code",
   "execution_count": 42,
   "metadata": {},
   "outputs": [
    {
     "data": {
      "text/plain": [
       "0.28294117647058825"
      ]
     },
     "execution_count": 42,
     "metadata": {},
     "output_type": "execute_result"
    }
   ],
   "source": [
    "index = case_2_correct_indices[100]\n",
    "get_percentage_of_neighbors_with_dominant_sens_val_pred_by_CSMIA_among_dist_k_neighbours(experiment.X_random.iloc[:50000], experiment.y_random[:50000], experiment.y_te[index], sens_pred[index], sens_pred_random, case_indices, index, k=4)"
   ]
  },
  {
   "cell_type": "code",
   "execution_count": 43,
   "metadata": {},
   "outputs": [
    {
     "data": {
      "text/plain": [
       "0.004201680672268907"
      ]
     },
     "execution_count": 43,
     "metadata": {},
     "output_type": "execute_result"
    }
   ],
   "source": [
    "index = case_2_incorrect_indices[100]\n",
    "get_percentage_of_neighbors_with_dominant_sens_val_pred_by_CSMIA_among_dist_k_neighbours(experiment.X_random.iloc[:50000], experiment.y_random[:50000], experiment.y_te[index], sens_pred[index], sens_pred_random, case_indices, index, k=4)"
   ]
  },
  {
   "cell_type": "code",
   "execution_count": 32,
   "metadata": {},
   "outputs": [
    {
     "data": {
      "text/plain": [
       "array([    9,    16,    25, ..., 39208, 39243, 39244])"
      ]
     },
     "execution_count": 32,
     "metadata": {},
     "output_type": "execute_result"
    }
   ],
   "source": [
    "case_2_correct_indices"
   ]
  },
  {
   "cell_type": "code",
   "execution_count": 44,
   "metadata": {},
   "outputs": [],
   "source": [
    "k = 4\n",
    "perc_same_sens_val_pred_correct = np.array([get_percentage_of_neighbors_with_dominant_sens_val_pred_by_CSMIA_among_dist_k_neighbours(experiment.X_random.iloc[:50000], experiment.y_random[:50000], experiment.y_te[index], sens_pred[index], sens_pred_random, case_indices, index, k=4) for index in case_2_correct_indices])\n",
    "perc_same_sens_val_pred_incorrect = np.array([get_percentage_of_neighbors_with_dominant_sens_val_pred_by_CSMIA_among_dist_k_neighbours(experiment.X_random.iloc[:50000], experiment.y_random[:50000], experiment.y_te[index], sens_pred[index], sens_pred_random, case_indices, index, k=4) for index in case_2_incorrect_indices])"
   ]
  },
  {
   "cell_type": "code",
   "execution_count": 45,
   "metadata": {},
   "outputs": [
    {
     "data": {
      "text/plain": [
       "<Axes: ylabel='Density'>"
      ]
     },
     "execution_count": 45,
     "metadata": {},
     "output_type": "execute_result"
    },
    {
     "data": {
      "image/png": "[encoded data removed]",
      "text/plain": [
       "<Figure size 640x480 with 1 Axes>"
      ]
     },
     "metadata": {},
     "output_type": "display_data"
    }
   ],
   "source": [
    "sns.kdeplot(perc_same_sens_val_pred_correct, label='Correctly predicted examples')\n",
    "sns.kdeplot(perc_same_sens_val_pred_incorrect, label='Incorrectly predicted examples')"
   ]
  },
  {
   "cell_type": "code",
   "execution_count": 96,
   "metadata": {},
   "outputs": [
    {
     "name": "stdout",
     "output_type": "stream",
     "text": [
      "1.0\n"
     ]
    }
   ],
   "source": [
    "for idx in range(1):\n",
    "    index = case_2_correct_indices[idx+50]\n",
    "    print(get_percentage_of_same_sens_val_among_dist_k_neighbours(experiment.X_test, experiment.y_te, experiment.X_random.iloc[:50000], experiment.y_random[:50000], experiment.dist_matrix, index, 4))"
   ]
  },
  {
   "cell_type": "code",
   "execution_count": 97,
   "metadata": {},
   "outputs": [
    {
     "name": "stdout",
     "output_type": "stream",
     "text": [
      "0.0\n"
     ]
    }
   ],
   "source": [
    "for idx in range(1):\n",
    "    index = case_2_incorrect_indices[idx+2000]\n",
    "    print(get_percentage_of_same_sens_val_among_dist_k_neighbours(experiment.X_test, experiment.y_te, experiment.X_random.iloc[:50000], experiment.y_random[:50000], experiment.dist_matrix, index, 4))"
   ]
  },
  {
   "cell_type": "code",
   "execution_count": 81,
   "metadata": {},
   "outputs": [
    {
     "data": {
      "text/plain": [
       "array([    9,    16,    25, ..., 39208, 39243, 39244])"
      ]
     },
     "execution_count": 81,
     "metadata": {},
     "output_type": "execute_result"
    }
   ],
   "source": [
    "case_2_correct_indices"
   ]
  },
  {
   "cell_type": "code",
   "execution_count": null,
   "metadata": {},
   "outputs": [],
   "source": [
    "perc_same_sens_val_correct"
   ]
  },
  {
   "cell_type": "code",
   "execution_count": null,
   "metadata": {},
   "outputs": [],
   "source": [
    "perc_same_sens_val_incorrect"
   ]
  },
  {
   "cell_type": "code",
   "execution_count": 106,
   "metadata": {},
   "outputs": [],
   "source": [
    "# compare the percentage of same sensitive value among k neighbours for correct and incorrect examples of case 2\n",
    "k = 4\n",
    "perc_same_sens_val_correct = np.array([get_percentage_of_same_sens_val_among_dist_k_neighbours(experiment.X_test, experiment.y_te, experiment.X_random.iloc[:50000], experiment.y_random[:50000], experiment.dist_matrix, index, k) for index in case_2_correct_indices[-1000:]])\n",
    "perc_same_sens_val_incorrect = np.array([get_percentage_of_same_sens_val_among_dist_k_neighbours(experiment.X_test, experiment.y_te, experiment.X_random.iloc[:50000], experiment.y_random[:50000], experiment.dist_matrix, index, k) for index in case_2_incorrect_indices[:1000]])"
   ]
  },
  {
   "cell_type": "code",
   "execution_count": 40,
   "metadata": {},
   "outputs": [
    {
     "data": {
      "image/png": "[encoded data removed]",
      "text/plain": [
       "<Figure size 640x480 with 1 Axes>"
      ]
     },
     "metadata": {},
     "output_type": "display_data"
    }
   ],
   "source": [
    "sns.kdeplot(perc_same_sens_val_correct, label='Correctly predicted examples')\n",
    "sns.kdeplot(perc_same_sens_val_incorrect, label='Incorrectly predicted examples')\n",
    "plt.xlabel('Percentage of same sensitive value among randomly generated neighbours')\n",
    "plt.ylabel('Density')\n",
    "plt.title(f'Distribution of percentage of same sensitive value among k={k} dist neighbours for case 2 examples')\n",
    "plt.legend()\n",
    "plt.show()"
   ]
  },
  {
   "cell_type": "code",
   "execution_count": 107,
   "metadata": {},
   "outputs": [
    {
     "data": {
      "text/plain": [
       "Counter({0.0: 774, -1.0: 226})"
      ]
     },
     "execution_count": 107,
     "metadata": {},
     "output_type": "execute_result"
    }
   ],
   "source": [
    "from collections import Counter\n",
    "Counter(np.nan_to_num(perc_same_sens_val_correct, nan=-1))"
   ]
  },
  {
   "cell_type": "code",
   "execution_count": 108,
   "metadata": {},
   "outputs": [
    {
     "data": {
      "text/plain": [
       "Counter({1.0: 978, -1.0: 22})"
      ]
     },
     "execution_count": 108,
     "metadata": {},
     "output_type": "execute_result"
    }
   ],
   "source": [
    "from collections import Counter\n",
    "Counter(np.nan_to_num(perc_same_sens_val_incorrect, nan=-1))"
   ]
  },
  {
   "cell_type": "code",
   "execution_count": 9,
   "metadata": {},
   "outputs": [
    {
     "data": {
      "text/html": [
       "<div>\n",
       "<style scoped>\n",
       "    .dataframe tbody tr th:only-of-type {\n",
       "        vertical-align: middle;\n",
       "    }\n",
       "\n",
       "    .dataframe tbody tr th {\n",
       "        vertical-align: top;\n",
       "    }\n",
       "\n",
       "    .dataframe thead th {\n",
       "        text-align: right;\n",
       "    }\n",
       "</style>\n",
       "<table border=\"1\" class=\"dataframe\">\n",
       "  <thead>\n",
       "    <tr style=\"text-align: right;\">\n",
       "      <th></th>\n",
       "      <th>MAR</th>\n",
       "      <th>PINCP</th>\n",
       "    </tr>\n",
       "  </thead>\n",
       "  <tbody>\n",
       "    <tr>\n",
       "      <th>5</th>\n",
       "      <td>0</td>\n",
       "      <td>0</td>\n",
       "    </tr>\n",
       "    <tr>\n",
       "      <th>6</th>\n",
       "      <td>1</td>\n",
       "      <td>1</td>\n",
       "    </tr>\n",
       "    <tr>\n",
       "      <th>7</th>\n",
       "      <td>0</td>\n",
       "      <td>0</td>\n",
       "    </tr>\n",
       "    <tr>\n",
       "      <th>8</th>\n",
       "      <td>0</td>\n",
       "      <td>0</td>\n",
       "    </tr>\n",
       "    <tr>\n",
       "      <th>9</th>\n",
       "      <td>1</td>\n",
       "      <td>0</td>\n",
       "    </tr>\n",
       "    <tr>\n",
       "      <th>12</th>\n",
       "      <td>1</td>\n",
       "      <td>1</td>\n",
       "    </tr>\n",
       "    <tr>\n",
       "      <th>14</th>\n",
       "      <td>0</td>\n",
       "      <td>0</td>\n",
       "    </tr>\n",
       "    <tr>\n",
       "      <th>16</th>\n",
       "      <td>1</td>\n",
       "      <td>0</td>\n",
       "    </tr>\n",
       "    <tr>\n",
       "      <th>18</th>\n",
       "      <td>0</td>\n",
       "      <td>0</td>\n",
       "    </tr>\n",
       "    <tr>\n",
       "      <th>23</th>\n",
       "      <td>0</td>\n",
       "      <td>0</td>\n",
       "    </tr>\n",
       "  </tbody>\n",
       "</table>\n",
       "</div>"
      ],
      "text/plain": [
       "    MAR  PINCP\n",
       "5     0      0\n",
       "6     1      1\n",
       "7     0      0\n",
       "8     0      0\n",
       "9     1      0\n",
       "12    1      1\n",
       "14    0      0\n",
       "16    1      0\n",
       "18    0      0\n",
       "23    0      0"
      ]
     },
     "execution_count": 9,
     "metadata": {},
     "output_type": "execute_result"
    }
   ],
   "source": [
    "experiment.X_random_df[['MAR', 'PINCP']].head(10)"
   ]
  }
 ],
 "metadata": {
  "kernelspec": {
   "display_name": "tabular",
   "language": "python",
   "name": "python3"
  },
  "language_info": {
   "codemirror_mode": {
    "name": "ipython",
    "version": 3
   },
   "file_extension": ".py",
   "mimetype": "text/x-python",
   "name": "python",
   "nbconvert_exporter": "python",
   "pygments_lexer": "ipython3",
   "version": "3.9.16"
  }
 },
 "nbformat": 4,
 "nbformat_minor": 2
}

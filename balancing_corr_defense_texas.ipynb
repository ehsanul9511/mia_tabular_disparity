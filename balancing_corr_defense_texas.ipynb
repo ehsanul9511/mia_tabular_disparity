{
 "cells": [
  {
   "cell_type": "code",
   "execution_count": 1,
   "metadata": {},
   "outputs": [],
   "source": [
    "%load_ext autoreload\n",
    "%autoreload 2"
   ]
  },
  {
   "cell_type": "code",
   "execution_count": 37,
   "metadata": {},
   "outputs": [],
   "source": [
    "import warnings\n",
    "\n",
    "warnings.filterwarnings('ignore')"
   ]
  },
  {
   "cell_type": "code",
   "execution_count": 4,
   "metadata": {},
   "outputs": [],
   "source": [
    "from tqdm import tqdm\n",
    "import os\n",
    "import data_utils\n",
    "import model_utils\n",
    "from attack_utils import get_CSMIA_case_by_case_results, CSMIA_attack, LOMIA_attack\n",
    "from data_utils import oneHotCatVars, filter_random_data_by_conf_score\n",
    "from vulnerability_score_utils import get_vulnerability_score, draw_hist_plot\n",
    "from experiment_utils import MIAExperiment\n",
    "from disparity_inference_utils import get_confidence_array, draw_confidence_array_scatter, get_indices_by_group_condition, get_corr_btn_sens_and_out_per_subgroup, get_slopes, get_angular_difference, calculate_stds, get_mutual_info_btn_sens_and_out_per_subgroup\n",
    "import numpy as np\n",
    "import pandas as pd\n",
    "import torch\n",
    "import torch.nn as nn\n",
    "from sklearn.neural_network import MLPClassifier\n",
    "from sklearn.preprocessing import OneHotEncoder\n",
    "from sklearn.neural_network._base import ACTIVATIONS\n",
    "from sklearn.model_selection import train_test_split\n",
    "from sklearn.metrics.pairwise import euclidean_distances\n",
    "from sklearn.metrics import roc_curve, auc, roc_auc_score, accuracy_score, precision_score, recall_score, f1_score, confusion_matrix, classification_report\n",
    "from sklearn.decomposition import PCA\n",
    "from sklearn.inspection import permutation_importance\n",
    "from fairlearn.metrics import equalized_odds_difference, demographic_parity_difference\n",
    "import matplotlib.pyplot as plt\n",
    "import seaborn as sns\n",
    "import tabulate\n",
    "import pickle\n",
    "# import utils\n",
    "import copy\n",
    "\n",
    "import matplotlib as mpl\n",
    "\n",
    "# Setting the font family, size, and weight globally\n",
    "mpl.rcParams['font.family'] = 'DejaVu Sans'\n",
    "mpl.rcParams['font.size'] = 8\n",
    "mpl.rcParams['font.weight'] = 'light'"
   ]
  },
  {
   "cell_type": "code",
   "execution_count": 62,
   "metadata": {},
   "outputs": [
    {
     "name": "stdout",
     "output_type": "stream",
     "text": [
      "[0, 1]\n",
      "{0: {(0, 1): 8750, (0, 0): 3750, (1, 1): 3750, (1, 0): 8750}, 1: {(0, 1): 6875, (0, 0): 5625, (1, 1): 5625, (1, 0): 6875}}\n"
     ]
    },
    {
     "name": "stderr",
     "output_type": "stream",
     "text": [
      "100%|██████████| 2/2 [00:00<00:00,  3.68it/s]\n"
     ]
    },
    {
     "name": "stdout",
     "output_type": "stream",
     "text": [
      "{0: {(0, 1): 6250, (0, 0): 6250, (1, 1): 6250, (1, 0): 6250}, 1: {(0, 1): 5625, (0, 0): 6875, (1, 1): 6875, (1, 0): 5625}}\n"
     ]
    },
    {
     "name": "stderr",
     "output_type": "stream",
     "text": [
      "100%|██████████| 2/2 [00:00<00:00,  4.31it/s]\n"
     ]
    }
   ],
   "source": [
    "i = -0.4\n",
    "j = -0.1\n",
    "experiment = MIAExperiment(sampling_condition_dict_list = \n",
    "    {\n",
    "            'correlation': 0,\n",
    "            'subgroup_col_name': 'SEX_CODE',\n",
    "            'marginal_prior': 1,\n",
    "            'corr_btn_sens_and_output_per_subgroup': (i, j),\n",
    "            # 'fixed_corr_in_test_data': True\n",
    "    }, shortname = f\"Corr_btn_sens_and_output_for_male_({i})_for_female_({j})\", name='Texas100', sensitive_column='ETHNICITY'\n",
    ")"
   ]
  },
  {
   "cell_type": "code",
   "execution_count": 68,
   "metadata": {},
   "outputs": [],
   "source": [
    "hidden_layer_size_tuples = [(64, 32, 16, 8), (32, 16, 8), (16, 8)]\n",
    "experiment.clfs={}\n",
    "\n",
    "for i, hidden_layer_size_tuple in enumerate(hidden_layer_size_tuples[1:2]):\n",
    "    base_model = model_utils.get_model(max_iter=500, hidden_layer_sizes=hidden_layer_size_tuple)\n",
    "    clf = copy.deepcopy(base_model)\n",
    "    clf.fit(experiment.X_test, experiment.y_te_onehot)\n",
    "    experiment.clfs[hidden_layer_size_tuple] = clf\n",
    "    "
   ]
  },
  {
   "cell_type": "code",
   "execution_count": 49,
   "metadata": {},
   "outputs": [],
   "source": [
    "save_model = True\n",
    "\n",
    "from sklearn.tree import DecisionTreeClassifier\n",
    "\n",
    "clf = DecisionTreeClassifier(random_state=42, max_depth=7)\n",
    "clf.fit(experiment.X_test, experiment.y_te_onehot)\n",
    "experiment.clfs['DT'] = clf"
   ]
  },
  {
   "cell_type": "code",
   "execution_count": 10,
   "metadata": {},
   "outputs": [
    {
     "data": {
      "text/plain": [
       "Index(['SEX_CODE', 'TYPE_OF_ADMISSION', 'SOURCE_OF_ADMISSION',\n",
       "       'LENGTH_OF_STAY', 'PAT_AGE', 'PAT_STATUS', 'RACE', 'ETHNICITY',\n",
       "       'TOTAL_CHARGES', 'ADMITTING_DIAGNOSIS', 'PRINC_SURG_PROC_CODE',\n",
       "       'is_train'],\n",
       "      dtype='object')"
      ]
     },
     "execution_count": 10,
     "metadata": {},
     "output_type": "execute_result"
    }
   ],
   "source": [
    "experiment.ds.ds.original_df.columns"
   ]
  },
  {
   "cell_type": "code",
   "execution_count": 51,
   "metadata": {},
   "outputs": [
    {
     "data": {
      "text/plain": [
       "24999.0"
      ]
     },
     "execution_count": 51,
     "metadata": {},
     "output_type": "execute_result"
    }
   ],
   "source": [
    "n"
   ]
  },
  {
   "cell_type": "code",
   "execution_count": 65,
   "metadata": {},
   "outputs": [
    {
     "name": "stdout",
     "output_type": "stream",
     "text": [
      "[0, 1]\n",
      "[16666.0, 16666.0]\n",
      "{0: {(0, 1): 4583, (0, 0): 3749, (1, 1): 3750.0, (1, 0): 4584.0}, 1: {(0, 1): 4583, (0, 0): 3749, (1, 1): 3750.0, (1, 0): 4584.0}}\n"
     ]
    },
    {
     "name": "stderr",
     "output_type": "stream",
     "text": [
      "  0%|          | 0/2 [00:00<?, ?it/s]"
     ]
    },
    {
     "name": "stderr",
     "output_type": "stream",
     "text": [
      "100%|██████████| 2/2 [00:00<00:00, 32.69it/s]\n"
     ]
    }
   ],
   "source": [
    "original_test_df = experiment.ds.ds.original_df[experiment.ds.ds.original_df['is_train']==0].copy().reset_index(drop=True).drop(['is_train'], axis=1)\n",
    "\n",
    "p = -0.1\n",
    "x = original_test_df[original_test_df['SEX_CODE']==0][['ETHNICITY', 'PRINC_SURG_PROC_CODE']].value_counts().to_numpy().min()\n",
    "n = (x * 4) // (1 + p)\n",
    "\n",
    "temp_indices = experiment.ds.ds.sample_data_matching_correlation(original_test_df, p1=-0.1, p2=-0.1, n=2*n, subgroup_col_name='SEX_CODE', transformed_already=True, return_indices_only=True)\n",
    "\n",
    "experiment.X_test_balanced_corr = experiment.X_test.loc[temp_indices].reset_index(drop=True)\n",
    "experiment.y_te_balanced_corr = experiment.y_te[temp_indices]\n",
    "experiment.y_te_onehot_balanced_corr = experiment.y_te_onehot[temp_indices]"
   ]
  },
  {
   "cell_type": "code",
   "execution_count": 52,
   "metadata": {},
   "outputs": [
    {
     "name": "stdout",
     "output_type": "stream",
     "text": [
      "[0, 1]\n",
      "[16666.0, 16666.0]\n",
      "{0: {(0, 1): 4583, (0, 0): 3749, (1, 1): 3750.0, (1, 0): 4584.0}, 1: {(0, 1): 4583, (0, 0): 3749, (1, 1): 3750.0, (1, 0): 4584.0}}\n"
     ]
    },
    {
     "name": "stderr",
     "output_type": "stream",
     "text": [
      "  0%|          | 0/2 [00:00<?, ?it/s]"
     ]
    },
    {
     "name": "stderr",
     "output_type": "stream",
     "text": [
      "100%|██████████| 2/2 [00:00<00:00, 31.34it/s]\n"
     ]
    }
   ],
   "source": [
    "original_test_df = experiment.ds.ds.original_df[experiment.ds.ds.original_df['is_train']==0].copy().reset_index(drop=True).drop(['is_train'], axis=1)\n",
    "\n",
    "p = -0.1\n",
    "x = original_test_df[original_test_df['SEX_CODE']==1][['ETHNICITY', 'PRINC_SURG_PROC_CODE']].value_counts().to_numpy().min()\n",
    "n = (x * 4) // (1 + p)\n",
    "\n",
    "temp_indices = experiment.ds.ds.sample_data_matching_correlation(original_test_df, p=[-0.1, -0.1], n=[n, n], subgroup_col_name='SEX_CODE', transformed_already=True, return_indices_only=True)\n",
    "\n",
    "experiment.X_test_balanced_corr = experiment.X_test.loc[temp_indices].reset_index(drop=True)\n",
    "experiment.y_te_balanced_corr = experiment.y_te[temp_indices]\n",
    "experiment.y_te_onehot_balanced_corr = experiment.y_te_onehot[temp_indices]"
   ]
  },
  {
   "cell_type": "code",
   "execution_count": 66,
   "metadata": {},
   "outputs": [],
   "source": [
    "hidden_layer_size_tuples = [(64, 32, 16, 8), (32, 16, 8), (16, 8)]\n",
    "experiment.clfs_balanced_corr={}\n",
    "\n",
    "for i, hidden_layer_size_tuple in enumerate(hidden_layer_size_tuples[1:2]):\n",
    "    base_model = model_utils.get_model(max_iter=500, hidden_layer_sizes=hidden_layer_size_tuple)\n",
    "    experiment.clfs_balanced_corr[hidden_layer_size_tuple] = copy.deepcopy(base_model)\n",
    "    experiment.clfs_balanced_corr[hidden_layer_size_tuple].fit(experiment.X_test_balanced_corr, experiment.y_te_onehot_balanced_corr)"
   ]
  },
  {
   "cell_type": "code",
   "execution_count": 54,
   "metadata": {},
   "outputs": [],
   "source": [
    "clf = DecisionTreeClassifier(random_state=42, max_depth=7)\n",
    "clf.fit(experiment.X_test_balanced_corr, experiment.y_te_onehot_balanced_corr)\n",
    "experiment.clfs_balanced_corr['DT'] = clf"
   ]
  },
  {
   "cell_type": "code",
   "execution_count": 79,
   "metadata": {},
   "outputs": [],
   "source": [
    "def get_perf(experiment, clf, X_test, y_te, X_train, y_tr,  \n",
    "    subgroup_col_name = 'SEX_CODE', indices=None):\n",
    "    if isinstance(clf, DecisionTreeClassifier):\n",
    "        y_tr_pred = np.argmax(clf.predict_proba(X_train)[1], axis=1)\n",
    "    else:\n",
    "        y_tr_pred = np.argmax(clf.predict_proba(X_train), axis=1)\n",
    "\n",
    "    subgroup_vals_tr = X_train[f'{subgroup_col_name}_1'].to_numpy().ravel().astype(int)\n",
    "    subgroup_vals_te = X_test[f'{subgroup_col_name}_1'].to_numpy().ravel()\n",
    "\n",
    "    sens_pred, case_indices = CSMIA_attack(clf, X_test, y_te, experiment.ds.ds.meta)\n",
    "    sens_pred_LOMIA = LOMIA_attack(experiment, clf, X_test, y_te, experiment.ds.ds.meta, indices=indices)\n",
    "    correct_indices = (sens_pred == X_test[[f'{experiment.ds.ds.meta[\"sensitive_column\"]}_1']].to_numpy().ravel())\n",
    "    correct_indices_LOMIA = (sens_pred_LOMIA == X_test[[f'{experiment.ds.ds.meta[\"sensitive_column\"]}_1']].to_numpy().ravel())\n",
    "\n",
    "    male_indices = np.where(subgroup_vals_tr==0)[0]\n",
    "    female_indices = np.where(subgroup_vals_tr==1)[0]\n",
    "    print(correct_indices_LOMIA[np.where(subgroup_vals_te==0)[0]].mean())\n",
    "    print(correct_indices_LOMIA[np.where(subgroup_vals_te==1)[0]].mean())\n",
    "    perf_dict = {\n",
    "        'ASRD_CSMIA': round(100 * np.ptp([correct_indices[subgroup_vals_te==i].mean() for i in [0, 1]]), 2),\n",
    "        'ASRD_LOMIA': round(100 * np.ptp([correct_indices_LOMIA[subgroup_vals_te==i].mean() for i in [0, 1]]), 2),\n",
    "        'EOD': round(equalized_odds_difference(y_tr.ravel(), y_tr_pred, sensitive_features=subgroup_vals_tr), 4),\n",
    "        'DPD': round(demographic_parity_difference(y_tr.ravel(), y_tr_pred, sensitive_features=subgroup_vals_tr), 4),\n",
    "        'MA_Male': 100 * accuracy_score(y_tr.ravel()[male_indices], y_tr_pred[male_indices]),\n",
    "        'MA_Female': 100 * accuracy_score(y_tr.ravel()[female_indices], y_tr_pred[female_indices])\n",
    "    }\n",
    "\n",
    "    return perf_dict\n"
   ]
  },
  {
   "cell_type": "code",
   "execution_count": 80,
   "metadata": {},
   "outputs": [
    {
     "name": "stdout",
     "output_type": "stream",
     "text": [
      "0.7008\n",
      "0.55632\n",
      "0.5586223448937957\n",
      "0.5834633385335414\n"
     ]
    }
   ],
   "source": [
    "model_arch = hidden_layer_size_tuples[1]\n",
    "res_dict = {\n",
    "    'w/o BCorr': get_perf(experiment, experiment.clfs[model_arch], experiment.X_test, experiment.y_te, experiment.X_train, experiment.y_tr),\n",
    "    # 'w Bcorr': get_perf(experiment, experiment.clfs_balanced_corr[model_arch], experiment.X_test, experiment.y_te, experiment.X_train, experiment.y_tr)\n",
    "    'w Bcorr': get_perf(experiment, experiment.clfs_balanced_corr[model_arch], experiment.X_test_balanced_corr, experiment.y_te_balanced_corr, experiment.X_train, experiment.y_tr, indices=temp_indices)\n",
    "}\n",
    "res_dict_df = pd.DataFrame.from_dict(res_dict, orient='index')"
   ]
  },
  {
   "cell_type": "code",
   "execution_count": 69,
   "metadata": {},
   "outputs": [
    {
     "name": "stdout",
     "output_type": "stream",
     "text": [
      "0.50224\n",
      "0.5340213608544342\n"
     ]
    }
   ],
   "source": [
    "model_arch = hidden_layer_size_tuples[1]\n",
    "res_dict = {\n",
    "    'w/o BCorr': get_perf(experiment, experiment.clfs[model_arch], experiment.X_test, experiment.y_te, experiment.X_train, experiment.y_tr),\n",
    "    'w Bcorr': get_perf(experiment, experiment.clfs_balanced_corr[model_arch], experiment.X_test_balanced_corr, experiment.y_te_balanced_corr, experiment.X_train, experiment.y_tr, indices=temp_indices)\n",
    "}\n",
    "res_dict_df = pd.DataFrame.from_dict(res_dict, orient='index')"
   ]
  },
  {
   "cell_type": "code",
   "execution_count": 81,
   "metadata": {},
   "outputs": [
    {
     "data": {
      "text/html": [
       "<div>\n",
       "<style scoped>\n",
       "    .dataframe tbody tr th:only-of-type {\n",
       "        vertical-align: middle;\n",
       "    }\n",
       "\n",
       "    .dataframe tbody tr th {\n",
       "        vertical-align: top;\n",
       "    }\n",
       "\n",
       "    .dataframe thead th {\n",
       "        text-align: right;\n",
       "    }\n",
       "</style>\n",
       "<table border=\"1\" class=\"dataframe\">\n",
       "  <thead>\n",
       "    <tr style=\"text-align: right;\">\n",
       "      <th></th>\n",
       "      <th>ASRD_CSMIA</th>\n",
       "      <th>ASRD_LOMIA</th>\n",
       "      <th>EOD</th>\n",
       "      <th>DPD</th>\n",
       "      <th>MA_Male</th>\n",
       "      <th>MA_Female</th>\n",
       "    </tr>\n",
       "  </thead>\n",
       "  <tbody>\n",
       "    <tr>\n",
       "      <th>w/o BCorr</th>\n",
       "      <td>12.12</td>\n",
       "      <td>14.45</td>\n",
       "      <td>0.0332</td>\n",
       "      <td>0.0177</td>\n",
       "      <td>72.528</td>\n",
       "      <td>74.080</td>\n",
       "    </tr>\n",
       "    <tr>\n",
       "      <th>w Bcorr</th>\n",
       "      <td>0.94</td>\n",
       "      <td>2.48</td>\n",
       "      <td>0.0221</td>\n",
       "      <td>0.0186</td>\n",
       "      <td>74.696</td>\n",
       "      <td>74.348</td>\n",
       "    </tr>\n",
       "  </tbody>\n",
       "</table>\n",
       "</div>"
      ],
      "text/plain": [
       "           ASRD_CSMIA  ASRD_LOMIA     EOD     DPD  MA_Male  MA_Female\n",
       "w/o BCorr       12.12       14.45  0.0332  0.0177   72.528     74.080\n",
       "w Bcorr          0.94        2.48  0.0221  0.0186   74.696     74.348"
      ]
     },
     "execution_count": 81,
     "metadata": {},
     "output_type": "execute_result"
    }
   ],
   "source": [
    "res_dict_df"
   ]
  },
  {
   "cell_type": "code",
   "execution_count": 82,
   "metadata": {},
   "outputs": [
    {
     "name": "stdout",
     "output_type": "stream",
     "text": [
      "\\begin{tabular}{lrrrrrr}\n",
      "\\toprule\n",
      " & ASRD_CSMIA & ASRD_LOMIA & EOD & DPD & MA_Male & MA_Female \\\\\n",
      "\\midrule\n",
      "w/o BCorr & 12.120000 & 14.450000 & 0.033200 & 0.017700 & 72.528000 & 74.080000 \\\\\n",
      "w Bcorr & 0.940000 & 2.480000 & 0.022100 & 0.018600 & 74.696000 & 74.348000 \\\\\n",
      "\\bottomrule\n",
      "\\end{tabular}\n",
      "\n"
     ]
    }
   ],
   "source": [
    "print(res_dict_df.to_latex())"
   ]
  },
  {
   "cell_type": "code",
   "execution_count": 35,
   "metadata": {},
   "outputs": [
    {
     "name": "stdout",
     "output_type": "stream",
     "text": [
      "{'EOD': 0.023279999999999967, 'DPD': 0.008360000000000034, 'ASRD': 0.10883999999999994}\n",
      "{'EOD': 0.03320000000000001, 'DPD': 0.017679999999999974, 'ASRD': 0.12124000000000001}\n",
      "{'EOD': 0.03159999999999999, 'DPD': 0.0016800000000000148, 'ASRD': 0.1444399999999999}\n",
      "{'EOD': 0.14151999999999998, 'DPD': 0.09380000000000005, 'ASRD': 0.13656000000000001}\n"
     ]
    }
   ],
   "source": [
    "for model_arch in experiment.clfs:\n",
    "    print(get_perf(experiment, experiment.clfs[model_arch], experiment.X_test, experiment.y_te, experiment.X_train, experiment.y_tr, subgroup_col_name='SEX_CODE'))"
   ]
  },
  {
   "cell_type": "code",
   "execution_count": 36,
   "metadata": {},
   "outputs": [
    {
     "name": "stdout",
     "output_type": "stream",
     "text": [
      "{'EOD': 0.012799999999999978, 'DPD': 0.012440000000000007, 'ASRD': 0.012241958713394063}\n",
      "{'EOD': 0.028240000000000015, 'DPD': 0.024920000000000053, 'ASRD': 0.0032405184829572553}\n",
      "{'EOD': 0.005520000000000025, 'DPD': 0.00548000000000004, 'ASRD': 0.009961593855016826}\n",
      "{'EOD': 0.07272, 'DPD': 0.03423999999999999, 'ASRD': 0.01524243879020648}\n"
     ]
    }
   ],
   "source": [
    "for model_arch in experiment.clfs:\n",
    "    print(get_perf(experiment, experiment.clfs_balanced_corr[model_arch], experiment.X_test_balanced_corr, experiment.y_te_balanced_corr, experiment.X_train, experiment.y_tr, subgroup_col_name='SEX_CODE'))"
   ]
  },
  {
   "cell_type": "code",
   "execution_count": 12,
   "metadata": {},
   "outputs": [
    {
     "data": {
      "text/plain": [
       "0.10008400408079707"
      ]
     },
     "execution_count": 12,
     "metadata": {},
     "output_type": "execute_result"
    }
   ],
   "source": [
    "get_corr_btn_sens_and_out_per_subgroup(experiment, experiment.X_test_balanced_corr, experiment.y_te_balanced_corr, {'SEX': 0})"
   ]
  }
 ],
 "metadata": {
  "kernelspec": {
   "display_name": "tabular",
   "language": "python",
   "name": "python3"
  },
  "language_info": {
   "codemirror_mode": {
    "name": "ipython",
    "version": 3
   },
   "file_extension": ".py",
   "mimetype": "text/x-python",
   "name": "python",
   "nbconvert_exporter": "python",
   "pygments_lexer": "ipython3",
   "version": "3.9.16"
  }
 },
 "nbformat": 4,
 "nbformat_minor": 2
}
